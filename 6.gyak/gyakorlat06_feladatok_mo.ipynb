{
    "metadata": {
        "kernelspec": {
            "name": "SQL",
            "display_name": "SQL",
            "language": "sql"
        },
        "language_info": {
            "name": "sql",
            "version": ""
        }
    },
    "nbformat_minor": 2,
    "nbformat": 4,
    "cells": [
        {
            "cell_type": "markdown",
            "source": [
                "1. <span style=\"background-color: rgb(255, 255, 255); color: rgb(0, 0, 0); font-family: &quot;Open Sans&quot;, sans-serif; font-size: 14.44px;\">Készítsünk sorszámozott listát a szálláshelyek adatairól!&nbsp;</span> \n",
                "\n",
                "a. A lista legyen a szálláshely típusa szerint, azon belül hely szerint, majd a neve szerint növekvően rendezve! \n",
                "\n",
                "b. A számozás típusonként kezdődjön újra!"
            ],
            "metadata": {
                "azdata_cell_guid": "363cd270-6577-449b-9c89-d4b7c7972d52"
            },
            "attachments": {}
        },
        {
            "cell_type": "code",
            "source": [
                "SELECT ROW_NUMBER() \r\n",
                "       OVER(PARTITION BY TIPUS ORDER BY HELY, SZALLAS_NEV) AS 'Sorsz',\r\n",
                "       *\r\n",
                "FROM Szallashely\r\n",
                "ORDER BY TIPUS, HELY, SZALLAS_NEV"
            ],
            "metadata": {
                "azdata_cell_guid": "6ab9f633-a3b5-48c9-a1dc-4fb8235ae85b",
                "language": "sql"
            },
            "outputs": [],
            "execution_count": null
        },
        {
            "cell_type": "markdown",
            "source": [
                "2. <span style=\"background-color: rgb(255, 255, 255); color: rgb(0, 0, 0); font-family: &quot;Open Sans&quot;, sans-serif; font-size: 14.44px;\">Készítsünk lekérdezést, amely a foglalások adatait jeleníti meg!&nbsp;</span> \n",
                "\n",
                "a. A lista tartalmazzon két új oszlopot, amelyek az adott ügyfél legrövidebb, illetve leghosszabb foglalásának hosszát (a foglalt napok számát) mutatják meg! \n",
                "\n",
                "b. Az oszlopokat nevezzük el értelemszerűen!"
            ],
            "metadata": {
                "azdata_cell_guid": "ea75c103-911f-41a3-a32c-3d40fb3e4e4a"
            },
            "attachments": {}
        },
        {
            "cell_type": "code",
            "source": [
                "SELECT *,\r\n",
                "       MIN(DATEDIFF(DAY, METTOL, MEDDIG)) \r\n",
                "\t   OVER(PARTITION BY UGYFEL_FK) AS 'Legrövidebb foglalás',\r\n",
                "\t   MAX(DATEDIFF(DAY, METTOL, MEDDIG)) \r\n",
                "\t   OVER(PARTITION BY UGYFEL_FK) AS 'Leghosszabb foglalás'\r\n",
                "FROM Foglalas"
            ],
            "metadata": {
                "azdata_cell_guid": "222b9618-a8e8-42b4-a8e8-d002257122b7",
                "language": "sql"
            },
            "outputs": [],
            "execution_count": null
        },
        {
            "cell_type": "markdown",
            "source": [
                "```\n",
                "3. Készítsük listát, amely megjeleníti az ügyfelek azonosítóját, nevét és a foglalásainak kezdő- és befejező dátumát, valamint azt, hogy a foglalás összesen hány főre történt! \n",
                "```\n",
                "\n",
                "a. Egy új oszlopban jelenítsük meg azt is, hogy az ügyfél előző három foglalása összesen hány főre történt!\n",
                "\n",
                "![](https://moodle.uni-corvinus.hu/theme/image.php/adaptable/atto_h5p/1709548862/icon)"
            ],
            "metadata": {
                "azdata_cell_guid": "d7876bb9-76d0-4d07-baed-3cb17b2f96c3"
            },
            "attachments": {}
        },
        {
            "cell_type": "code",
            "source": [
                "SELECT v.USERNEV, v.NEV, f.METTOL, f.MEDDIG,\r\n",
                "       f.FELNOTT_SZAM + f.GYERMEK_SZAM AS 'Személyek száma',\r\n",
                "\t   SUM(f.FELNOTT_SZAM+f.GYERMEK_SZAM)\r\n",
                "\t   OVER(PARTITION BY f.UGYFEL_FK ORDER BY FOGLALAS_PK\r\n",
                "\t   ROWS BETWEEN 3 PRECEDING AND 1 PRECEDING) \r\n",
                "\t   AS 'Személyek száma összesen az előző 3 foglalás alapján'\r\n",
                "FROM Vendeg v JOIN Foglalas f ON f.UGYFEL_FK = v.USERNEV"
            ],
            "metadata": {
                "azdata_cell_guid": "56ec19ce-e249-4551-b2a8-f17569765acc",
                "language": "sql"
            },
            "outputs": [],
            "execution_count": null
        },
        {
            "cell_type": "markdown",
            "source": [
                "4. <span style=\"background-color: rgb(255, 255, 255); color: rgb(0, 0, 0); font-family: &quot;Open Sans&quot;, sans-serif; font-size: 14.44px;\">Készítsünk listát arról, hogy az egyes szálláshelyeken évente hány foglalás történt!&nbsp;</span> \n",
                "\n",
                "a. A lista jelenítse meg a szálláshely azonosítóját, nevét, az évet, és a foglalások számát!\n",
                "\n",
                "b. Egy új oszlopban jelenítsük meg a szálláshely eddigi éves foglalásainak számát is (az aktuálisat is beleértve). \n",
                "\n",
                "c. Az évnél a METTOL dátumot vegyük figyelembe! \n",
                "\n",
                "d. A lista ne tartalmazzon duplikált sorokat!"
            ],
            "metadata": {
                "azdata_cell_guid": "8e7fef82-8022-49a0-8255-fc2846c2134b"
            },
            "attachments": {}
        },
        {
            "cell_type": "code",
            "source": [
                "SELECT DISTINCT sz.SZALLAS_ID, sz.SZALLAS_NEV, YEAR(f.METTOL) AS 'ÉV',\r\n",
                "       COUNT(*) OVER(PARTITION BY sz.SZALLAS_ID, YEAR(f.METTOL)) \r\n",
                "\t   AS 'Éves foglalásszám',\r\n",
                "\t   COUNT(*) OVER(PARTITION BY sz.SZALLAS_ID ORDER BY YEAR(f.METTOL) \r\n",
                "\t   RANGE BETWEEN UNBOUNDED PRECEDING AND CURRENT ROW)\r\n",
                "\t   AS 'Eddigi éves foglalásszám összesen'\r\n",
                "FROM Foglalas f JOIN Szallashely sz ON f.SZOBA_FK = sz.SZALLAS_ID"
            ],
            "metadata": {
                "azdata_cell_guid": "36f7b396-4a1f-45e5-8720-2302537c91bc",
                "language": "sql"
            },
            "outputs": [],
            "execution_count": null
        },
        {
            "cell_type": "markdown",
            "source": [
                "5. <span style=\"background-color: rgb(255, 255, 255); color: rgb(0, 0, 0); font-family: &quot;Open Sans&quot;, sans-serif; font-size: 14.44px;\">Készítsük listát a szálláshelyekről! A lista tartalmazza a szálláshely azonosítóját, nevét, és a csillagok számát csillagszám szerint csökkenő, azon belül szállásnév szerint növekvő sorrendben!&nbsp;</span> \n",
                "\n",
                "a. Vegyünk fel két új oszlopot, amely a sorrend szerint előző szálláshely nevét, illetve azonosítóját is megjeleníti!"
            ],
            "metadata": {
                "azdata_cell_guid": "84239ca2-6b5e-49f5-9860-d44c11d6de32"
            },
            "attachments": {}
        },
        {
            "cell_type": "code",
            "source": [
                "SELECT  SZALLAS_ID, SZALLAS_NEV, CSILLAGOK_SZAMA, \r\n",
                "        LAG(szallas_nev) OVER (ORDER BY CSILLAGOK_SZAMA DESC, \r\n",
                "\t\tszallas_nev) \r\n",
                "\t\tAS 'Előző szállás neve',\r\n",
                "\t\tLAG(szallas_id) OVER (ORDER BY CSILLAGOK_SZAMA DESC, \r\n",
                "\t\tszallas_nev) \r\n",
                "\t\tAS 'Előző szállás azonosítója'\t\t\r\n",
                "FROM Szallashely \r\n",
                "--ORDER BY CSILLAGOK_SZAMA DESC, SZALLAS_NEV"
            ],
            "metadata": {
                "azdata_cell_guid": "06d9a62b-9430-424b-a135-d80e675f0eb3",
                "language": "sql"
            },
            "outputs": [
                {
                    "output_type": "display_data",
                    "data": {
                        "text/html": "(21 rows affected)"
                    },
                    "metadata": {}
                },
                {
                    "output_type": "display_data",
                    "data": {
                        "text/html": "Total execution time: 00:00:00.052"
                    },
                    "metadata": {}
                },
                {
                    "output_type": "execute_result",
                    "metadata": {},
                    "execution_count": 1,
                    "data": {
                        "application/vnd.dataresource+json": {
                            "schema": {
                                "fields": [
                                    {
                                        "name": "SZALLAS_ID"
                                    },
                                    {
                                        "name": "SZALLAS_NEV"
                                    },
                                    {
                                        "name": "CSILLAGOK_SZAMA"
                                    },
                                    {
                                        "name": "Előző szállás neve"
                                    },
                                    {
                                        "name": "Előző szállás azonosítója"
                                    }
                                ]
                            },
                            "data": [
                                {
                                    "SZALLAS_ID": "8",
                                    "SZALLAS_NEV": "Hotel Három Hattyú",
                                    "CSILLAGOK_SZAMA": "4",
                                    "Előző szállás neve": "NULL",
                                    "Előző szállás azonosítója": "NULL"
                                },
                                {
                                    "SZALLAS_ID": "10",
                                    "SZALLAS_NEV": "Lagúna Hotel",
                                    "CSILLAGOK_SZAMA": "4",
                                    "Előző szállás neve": "Hotel Három Hattyú",
                                    "Előző szállás azonosítója": "8"
                                },
                                {
                                    "SZALLAS_ID": "17",
                                    "SZALLAS_NEV": "Szarvas Hotel",
                                    "CSILLAGOK_SZAMA": "4",
                                    "Előző szállás neve": "Lagúna Hotel",
                                    "Előző szállás azonosítója": "10"
                                },
                                {
                                    "SZALLAS_ID": "16",
                                    "SZALLAS_NEV": "Bagoly Hotel",
                                    "CSILLAGOK_SZAMA": "3",
                                    "Előző szállás neve": "Szarvas Hotel",
                                    "Előző szállás azonosítója": "17"
                                },
                                {
                                    "SZALLAS_ID": "4",
                                    "SZALLAS_NEV": "Fortuna panzió",
                                    "CSILLAGOK_SZAMA": "3",
                                    "Előző szállás neve": "Bagoly Hotel",
                                    "Előző szállás azonosítója": "16"
                                },
                                {
                                    "SZALLAS_ID": "5",
                                    "SZALLAS_NEV": "Fortuna Panzió",
                                    "CSILLAGOK_SZAMA": "3",
                                    "Előző szállás neve": "Fortuna panzió",
                                    "Előző szállás azonosítója": "4"
                                },
                                {
                                    "SZALLAS_ID": "12",
                                    "SZALLAS_NEV": "Gold Hotel",
                                    "CSILLAGOK_SZAMA": "3",
                                    "Előző szállás neve": "Fortuna Panzió",
                                    "Előző szállás azonosítója": "5"
                                },
                                {
                                    "SZALLAS_ID": "9",
                                    "SZALLAS_NEV": "Jáde panzió",
                                    "CSILLAGOK_SZAMA": "3",
                                    "Előző szállás neve": "Gold Hotel",
                                    "Előző szállás azonosítója": "12"
                                },
                                {
                                    "SZALLAS_ID": "6",
                                    "SZALLAS_NEV": "Kentaur Hotel",
                                    "CSILLAGOK_SZAMA": "3",
                                    "Előző szállás neve": "Jáde panzió",
                                    "Előző szállás azonosítója": "9"
                                },
                                {
                                    "SZALLAS_ID": "13",
                                    "SZALLAS_NEV": "Riviéra Panzió",
                                    "CSILLAGOK_SZAMA": "3",
                                    "Előző szállás neve": "Kentaur Hotel",
                                    "Előző szállás azonosítója": "6"
                                },
                                {
                                    "SZALLAS_ID": "15",
                                    "SZALLAS_NEV": "Tímárház Panzió",
                                    "CSILLAGOK_SZAMA": "3",
                                    "Előző szállás neve": "Riviéra Panzió",
                                    "Előző szállás azonosítója": "13"
                                },
                                {
                                    "SZALLAS_ID": "2",
                                    "SZALLAS_NEV": "Családi Ház",
                                    "CSILLAGOK_SZAMA": "0",
                                    "Előző szállás neve": "Tímárház Panzió",
                                    "Előző szállás azonosítója": "15"
                                },
                                {
                                    "SZALLAS_ID": "3",
                                    "SZALLAS_NEV": "Fortuna Apartman",
                                    "CSILLAGOK_SZAMA": "0",
                                    "Előző szállás neve": "Családi Ház",
                                    "Előző szállás azonosítója": "2"
                                },
                                {
                                    "SZALLAS_ID": "18",
                                    "SZALLAS_NEV": "Fortuna Apartman",
                                    "CSILLAGOK_SZAMA": "0",
                                    "Előző szállás neve": "Fortuna Apartman",
                                    "Előző szállás azonosítója": "3"
                                },
                                {
                                    "SZALLAS_ID": "20",
                                    "SZALLAS_NEV": "Kollégium",
                                    "CSILLAGOK_SZAMA": "0",
                                    "Előző szállás neve": "Fortuna Apartman",
                                    "Előző szállás azonosítója": "18"
                                },
                                {
                                    "SZALLAS_ID": "21",
                                    "SZALLAS_NEV": "Müller Vendégház",
                                    "CSILLAGOK_SZAMA": "0",
                                    "Előző szállás neve": "Kollégium",
                                    "Előző szállás azonosítója": "20"
                                },
                                {
                                    "SZALLAS_ID": "19",
                                    "SZALLAS_NEV": "Nyárfás Vendégház",
                                    "CSILLAGOK_SZAMA": "0",
                                    "Előző szállás neve": "Müller Vendégház",
                                    "Előző szállás azonosítója": "21"
                                },
                                {
                                    "SZALLAS_ID": "14",
                                    "SZALLAS_NEV": "Nyárfás Vendégház",
                                    "CSILLAGOK_SZAMA": "0",
                                    "Előző szállás neve": "Nyárfás Vendégház",
                                    "Előző szállás azonosítója": "19"
                                },
                                {
                                    "SZALLAS_ID": "11",
                                    "SZALLAS_NEV": "Partiszél Vendégház",
                                    "CSILLAGOK_SZAMA": "0",
                                    "Előző szállás neve": "Nyárfás Vendégház",
                                    "Előző szállás azonosítója": "14"
                                },
                                {
                                    "SZALLAS_ID": "1",
                                    "SZALLAS_NEV": "Sába-Ház",
                                    "CSILLAGOK_SZAMA": "0",
                                    "Előző szállás neve": "Partiszél Vendégház",
                                    "Előző szállás azonosítója": "11"
                                },
                                {
                                    "SZALLAS_ID": "7",
                                    "SZALLAS_NEV": "Szieszta Apartmanház",
                                    "CSILLAGOK_SZAMA": "0",
                                    "Előző szállás neve": "Sába-Ház",
                                    "Előző szállás azonosítója": "1"
                                }
                            ]
                        },
                        "text/html": [
                            "<table>",
                            "<tr><th>SZALLAS_ID</th><th>SZALLAS_NEV</th><th>CSILLAGOK_SZAMA</th><th>Előző szállás neve</th><th>Előző szállás azonosítója</th></tr>",
                            "<tr><td>8</td><td>Hotel Három Hattyú</td><td>4</td><td>NULL</td><td>NULL</td></tr>",
                            "<tr><td>10</td><td>Lagúna Hotel</td><td>4</td><td>Hotel Három Hattyú</td><td>8</td></tr>",
                            "<tr><td>17</td><td>Szarvas Hotel</td><td>4</td><td>Lagúna Hotel</td><td>10</td></tr>",
                            "<tr><td>16</td><td>Bagoly Hotel</td><td>3</td><td>Szarvas Hotel</td><td>17</td></tr>",
                            "<tr><td>4</td><td>Fortuna panzió</td><td>3</td><td>Bagoly Hotel</td><td>16</td></tr>",
                            "<tr><td>5</td><td>Fortuna Panzió</td><td>3</td><td>Fortuna panzió</td><td>4</td></tr>",
                            "<tr><td>12</td><td>Gold Hotel</td><td>3</td><td>Fortuna Panzió</td><td>5</td></tr>",
                            "<tr><td>9</td><td>Jáde panzió</td><td>3</td><td>Gold Hotel</td><td>12</td></tr>",
                            "<tr><td>6</td><td>Kentaur Hotel</td><td>3</td><td>Jáde panzió</td><td>9</td></tr>",
                            "<tr><td>13</td><td>Riviéra Panzió</td><td>3</td><td>Kentaur Hotel</td><td>6</td></tr>",
                            "<tr><td>15</td><td>Tímárház Panzió</td><td>3</td><td>Riviéra Panzió</td><td>13</td></tr>",
                            "<tr><td>2</td><td>Családi Ház</td><td>0</td><td>Tímárház Panzió</td><td>15</td></tr>",
                            "<tr><td>3</td><td>Fortuna Apartman</td><td>0</td><td>Családi Ház</td><td>2</td></tr>",
                            "<tr><td>18</td><td>Fortuna Apartman</td><td>0</td><td>Fortuna Apartman</td><td>3</td></tr>",
                            "<tr><td>20</td><td>Kollégium</td><td>0</td><td>Fortuna Apartman</td><td>18</td></tr>",
                            "<tr><td>21</td><td>Müller Vendégház</td><td>0</td><td>Kollégium</td><td>20</td></tr>",
                            "<tr><td>19</td><td>Nyárfás Vendégház</td><td>0</td><td>Müller Vendégház</td><td>21</td></tr>",
                            "<tr><td>14</td><td>Nyárfás Vendégház</td><td>0</td><td>Nyárfás Vendégház</td><td>19</td></tr>",
                            "<tr><td>11</td><td>Partiszél Vendégház</td><td>0</td><td>Nyárfás Vendégház</td><td>14</td></tr>",
                            "<tr><td>1</td><td>Sába-Ház</td><td>0</td><td>Partiszél Vendégház</td><td>11</td></tr>",
                            "<tr><td>7</td><td>Szieszta Apartmanház</td><td>0</td><td>Sába-Ház</td><td>1</td></tr>",
                            "</table>"
                        ]
                    }
                }
            ],
            "execution_count": 1
        },
        {
            "cell_type": "markdown",
            "source": [
                "6. <span style=\"background-color: rgb(255, 255, 255); color: rgb(0, 0, 0); font-family: &quot;Open Sans&quot;, sans-serif; font-size: 14.44px;\">Listázzuk azon termékeket, amelyekből az átlagosnál kevesebb van raktáron!&nbsp;</span> \n",
                "\n",
                "a. Csak a termék kódja és megnevezése jelenjen meg!"
            ],
            "metadata": {
                "azdata_cell_guid": "b0d15045-3c43-4f3a-b8d4-76b4f24e5546"
            },
            "attachments": {}
        },
        {
            "cell_type": "code",
            "source": [
                "SELECT termekkod, megnevezes\r\n",
                "FROM Termek\r\n",
                "WHERE keszlet <\r\n",
                "(\r\n",
                " SELECT AVG(keszlet)\r\n",
                " FROM Termek\r\n",
                ")"
            ],
            "metadata": {
                "azdata_cell_guid": "f2b7400d-1255-40ac-9250-4d57f9da5357",
                "language": "sql"
            },
            "outputs": [],
            "execution_count": null
        },
        {
            "cell_type": "markdown",
            "source": [
                "7. <span style=\"background-color: rgb(255, 255, 255); color: rgb(0, 0, 0); font-family: &quot;Open Sans&quot;, sans-serif; font-size: 14.44px;\">Listázzuk azon ügyfeleket, akik még nem fizettek bankkártyával!&nbsp;</span> \n",
                "\n",
                "a. Csak az ügyfelek neve jelenjen meg!"
            ],
            "metadata": {
                "azdata_cell_guid": "7ebf7ddd-1bd2-4246-815a-be8ae37e3b5b"
            },
            "attachments": {}
        },
        {
            "cell_type": "code",
            "source": [
                "SELECT u.nev\r\n",
                "FROM Ugyfel u\r\n",
                "WHERE NOT EXISTS\r\n",
                "(\r\n",
                " SELECT *\r\n",
                " FROM Rendeles r JOIN Ugyfel u2 ON r.LOGIN = u2.LOGIN\r\n",
                " WHERE u.LOGIN = u2.LOGIN AND r.FIZ_MOD ='Bankkártya'\r\n",
                ")"
            ],
            "metadata": {
                "azdata_cell_guid": "84b7e896-f36e-4985-88f5-e0f706494fef",
                "language": "sql"
            },
            "outputs": [],
            "execution_count": null
        },
        {
            "cell_type": "markdown",
            "source": [
                "8. <span style=\"background-color: rgb(255, 255, 255); color: rgb(0, 0, 0); font-family: &quot;Open Sans&quot;, sans-serif; font-size: 14.44px;\">Mennyibe kerül a második legnagyobb listaárú termék?</span>"
            ],
            "metadata": {
                "azdata_cell_guid": "27a3d3dc-eafb-4a5e-b103-9f465b9eda8f"
            },
            "attachments": {}
        },
        {
            "cell_type": "code",
            "source": [
                "SELECT max(listaar)\r\n",
                "FROM Termek \r\n",
                "WHERE listaar <\r\n",
                "(\r\n",
                " SELECT max(LISTAAR)\r\n",
                " FROM Termek\r\n",
                ")"
            ],
            "metadata": {
                "azdata_cell_guid": "f09edb3f-649b-4a96-958e-9e12774ae8b7",
                "language": "sql"
            },
            "outputs": [],
            "execution_count": null
        },
        {
            "cell_type": "markdown",
            "source": [
                "9. <span style=\"background-color: rgb(255, 255, 255); color: rgb(0, 0, 0); font-family: &quot;Open Sans&quot;, sans-serif; font-size: 14.44px;\">Melyik raktár(ak)ban van az a termék, amelyből a legnagyobb készlet van?&nbsp;</span> \n",
                "\n",
                "a. Csak a raktár(ak) neve jelenjen meg!"
            ],
            "metadata": {
                "azdata_cell_guid": "f12a331a-0e26-4d3d-9c68-812316286577"
            },
            "attachments": {}
        },
        {
            "cell_type": "code",
            "source": [
                "SELECT r.RAKTAR_NEV\r\n",
                "FROM Raktar r JOIN Termek t ON r.RAKTAR_KOD = t.RAKTAR_KOD\r\n",
                "WHERE t.keszlet =\r\n",
                "(\r\n",
                "  SELECT MAX(keszlet)\r\n",
                "  FROM Termek\r\n",
                ")"
            ],
            "metadata": {
                "azdata_cell_guid": "10a77fc9-e61a-46fc-a401-59720d82bc50",
                "language": "sql"
            },
            "outputs": [
                {
                    "output_type": "display_data",
                    "data": {
                        "text/html": "(2 rows affected)"
                    },
                    "metadata": {}
                },
                {
                    "output_type": "display_data",
                    "data": {
                        "text/html": "Total execution time: 00:00:00.015"
                    },
                    "metadata": {}
                },
                {
                    "output_type": "execute_result",
                    "metadata": {},
                    "execution_count": 2,
                    "data": {
                        "application/vnd.dataresource+json": {
                            "schema": {
                                "fields": [
                                    {
                                        "name": "RAKTAR_NEV"
                                    }
                                ]
                            },
                            "data": [
                                {
                                    "RAKTAR_NEV": "Veresegyházi"
                                },
                                {
                                    "RAKTAR_NEV": "Báthory"
                                }
                            ]
                        },
                        "text/html": [
                            "<table>",
                            "<tr><th>RAKTAR_NEV</th></tr>",
                            "<tr><td>Veresegyházi</td></tr>",
                            "<tr><td>Báthory</td></tr>",
                            "</table>"
                        ]
                    }
                }
            ],
            "execution_count": 2
        },
        {
            "cell_type": "markdown",
            "source": [
                "10. <span style=\"background-color: rgb(255, 255, 255); color: rgb(0, 0, 0); font-family: &quot;Open Sans&quot;, sans-serif; font-size: 14.44px;\">Melyek azok a termékek, amelyek listaára nagyobb, mint bármelyik olyan terméké, amelynek nevében az Ajándék szó szerepel?&nbsp;</span> \n",
                "\n",
                "a. A termékek kódját és nevét is jelenítsük meg!"
            ],
            "metadata": {
                "azdata_cell_guid": "9229e2b6-e200-4499-b95b-2d0222149831"
            },
            "attachments": {}
        },
        {
            "cell_type": "code",
            "source": [
                "SELECT MEGNEVEZES\r\n",
                "FROM Termek \r\n",
                "WHERE LISTAAR > ALL\r\n",
                "(\r\n",
                " SELECT LISTAAR\r\n",
                " FROM Termek\r\n",
                " WHERE MEGNEVEZES LIKE '%Ajándék%'\r\n",
                ")"
            ],
            "metadata": {
                "azdata_cell_guid": "8b49ed67-28c6-4880-82a8-cd369e5bba99",
                "language": "sql"
            },
            "outputs": [],
            "execution_count": null
        },
        {
            "cell_type": "markdown",
            "source": [
                "11. <span style=\"background-color: rgb(255, 255, 255); color: rgb(0, 0, 0); font-family: &quot;Open Sans&quot;, sans-serif; font-size: 14.44px;\">Melyik hónapokban adtak le az ügyfelek több rendelést, mint januárban?&nbsp;</span> \n",
                "\n",
                "a. Elég a hónapok sorszámait megjeleníteni. \n",
                "\n",
                "b. A listát rendezzük a hónapok száma szerint növekvő sorrendbe!"
            ],
            "metadata": {
                "azdata_cell_guid": "7f5fc7a7-3b6a-4d89-b292-490830afb0c6"
            },
            "attachments": {}
        },
        {
            "cell_type": "code",
            "source": [
                "SELECT MONTH(rend_datum)\r\n",
                "FROM Rendeles\r\n",
                "GROUP BY MONTH(rend_datum)\r\n",
                "HAVING COUNT(*)>\r\n",
                "(\r\n",
                " SELECT COUNT(*)\r\n",
                " FROM Rendeles\r\n",
                " WHERE MONTH(rend_datum)=1\r\n",
                ")\r\n",
                "ORDER BY 1"
            ],
            "metadata": {
                "azdata_cell_guid": "4a9ece40-f782-4c0d-92cd-9c21969067ed",
                "language": "sql"
            },
            "outputs": [
                {
                    "output_type": "display_data",
                    "data": {
                        "text/html": "(5 rows affected)"
                    },
                    "metadata": {}
                },
                {
                    "output_type": "display_data",
                    "data": {
                        "text/html": "Total execution time: 00:00:00.042"
                    },
                    "metadata": {}
                },
                {
                    "output_type": "execute_result",
                    "metadata": {},
                    "execution_count": 3,
                    "data": {
                        "application/vnd.dataresource+json": {
                            "schema": {
                                "fields": [
                                    {
                                        "name": "(No column name)"
                                    }
                                ]
                            },
                            "data": [
                                {
                                    "(No column name)": "3"
                                },
                                {
                                    "(No column name)": "7"
                                },
                                {
                                    "(No column name)": "8"
                                },
                                {
                                    "(No column name)": "10"
                                },
                                {
                                    "(No column name)": "12"
                                }
                            ]
                        },
                        "text/html": [
                            "<table>",
                            "<tr><th>(No column name)</th></tr>",
                            "<tr><td>3</td></tr>",
                            "<tr><td>7</td></tr>",
                            "<tr><td>8</td></tr>",
                            "<tr><td>10</td></tr>",
                            "<tr><td>12</td></tr>",
                            "</table>"
                        ]
                    }
                }
            ],
            "execution_count": 3
        },
        {
            "cell_type": "markdown",
            "source": [
                "12. <span style=\"background-color: rgb(255, 255, 255); color: rgb(0, 0, 0); font-family: &quot;Open Sans&quot;, sans-serif; font-size: 14.44px;\">Melyek azok a termékek, amelyek listaára az átlagostól max. 20%-kal tér el?&nbsp;</span> \n",
                "\n",
                "a. A termék kódját és nevét is jelenítsük meg!"
            ],
            "metadata": {
                "azdata_cell_guid": "5a483c52-bb98-44bb-bd03-1146d4b0abfa"
            },
            "attachments": {}
        },
        {
            "cell_type": "code",
            "source": [
                "SELECT termekkod, megnevezes\r\n",
                "FROM Termek \r\n",
                "WHERE LISTAAR >=\r\n",
                "(\r\n",
                " SELECT 0.8*AVG(listaar)\r\n",
                " FROM Termek\r\n",
                ")\r\n",
                "\r\n",
                "AND LISTAAR <=\r\n",
                "(\r\n",
                " SELECT 1.2*AVG(listaar)\r\n",
                " FROM Termek\r\n",
                ")"
            ],
            "metadata": {
                "azdata_cell_guid": "dd6e89bd-08f9-4b18-8460-03c45b503df0",
                "language": "sql"
            },
            "outputs": [],
            "execution_count": null
        },
        {
            "cell_type": "markdown",
            "source": [
                "13. <span style=\"background-color: rgb(255, 255, 255); color: rgb(0, 0, 0); font-family: &quot;Open Sans&quot;, sans-serif; font-size: 14.44px;\">Készítsünk listát (sorszámonként) az egyes rendelések teljes összegéről!&nbsp;</span> \n",
                "\n",
                "a. Szűrjünk azon tételekre, ahol ez az érték nagyobb, mint Viktor Éva rendeléseinek teljes összege! \n",
                "\n",
                "b. A teljes összeg oszlopot nevezzük el értelemszerűen!"
            ],
            "metadata": {
                "azdata_cell_guid": "85d5cb66-96c6-42de-99cf-85ab22d08548"
            },
            "attachments": {}
        },
        {
            "cell_type": "code",
            "source": [
                "SELECT r.SORSZAM, SUM(rt.MENNYISEG*rt.EGYSEGAR) AS 'Rendelés összege'\r\n",
                "FROM Rendeles r JOIN Rendeles_tetel rt ON r.SORSZAM = rt.SORSZAM\r\n",
                "GROUP BY r.SORSZAM\r\n",
                "HAVING SUM(rt.MENNYISEG*rt.EGYSEGAR)>\r\n",
                "(\r\n",
                " SELECT SUM(rt.MENNYISEG*rt.EGYSEGAR)\r\n",
                " FROM Rendeles r JOIN Rendeles_tetel rt ON r.SORSZAM = rt.SORSZAM\r\n",
                "      JOIN Ugyfel u ON r.LOGIN = u.LOGIN\r\n",
                " WHERE u.NEV='Viktor Éva'\r\n",
                ")\r\n",
                ""
            ],
            "metadata": {
                "azdata_cell_guid": "cb07d64b-0eaa-498b-b4d2-0b46971e95ce",
                "language": "sql"
            },
            "outputs": [],
            "execution_count": null
        },
        {
            "cell_type": "markdown",
            "source": [
                "14. <span style=\"background-color: rgb(255, 255, 255); color: rgb(0, 0, 0); font-family: &quot;Open Sans&quot;, sans-serif; font-size: 14.44px;\">Listázzuk azokat a termékkategóriákat, amelyből 2017 januárban nem történt rendelés!&nbsp;</span> \n",
                "\n",
                "a. Elég a kategóriák nevét megjeleníteni!"
            ],
            "metadata": {
                "azdata_cell_guid": "f95ad665-a807-4099-bf06-64ed974f866f"
            },
            "attachments": {}
        },
        {
            "cell_type": "code",
            "source": [
                "SELECT tk.KAT_NEV\r\n",
                "FROM Termekkategoria tk \r\n",
                "WHERE tk.KAT_ID NOT IN\r\n",
                "(\r\n",
                " SELECT t.KAT_ID\r\n",
                " FROM Rendeles r JOIN Rendeles_tetel rt ON r.SORSZAM = rt.SORSZAM\r\n",
                "      JOIN Termek t ON rt.TERMEKKOD = t.TERMEKKOD\r\n",
                " WHERE tk.KAT_ID = t.KAT_ID \r\n",
                "       AND r.REND_DATUM BETWEEN '2017.01.01' AND '2017.01.31'\r\n",
                ")"
            ],
            "metadata": {
                "azdata_cell_guid": "74c7ec8a-ae4a-4d03-b1c4-e8f6bb1be12c",
                "language": "sql"
            },
            "outputs": [
                {
                    "output_type": "display_data",
                    "data": {
                        "text/html": "(13 rows affected)"
                    },
                    "metadata": {}
                },
                {
                    "output_type": "display_data",
                    "data": {
                        "text/html": "Total execution time: 00:00:00.047"
                    },
                    "metadata": {}
                },
                {
                    "output_type": "execute_result",
                    "metadata": {},
                    "execution_count": 4,
                    "data": {
                        "application/vnd.dataresource+json": {
                            "schema": {
                                "fields": [
                                    {
                                        "name": "KAT_NEV"
                                    }
                                ]
                            },
                            "data": [
                                {
                                    "KAT_NEV": "csomagoló anyag"
                                },
                                {
                                    "KAT_NEV": "ing"
                                },
                                {
                                    "KAT_NEV": "cipő"
                                },
                                {
                                    "KAT_NEV": "háztartási papír"
                                },
                                {
                                    "KAT_NEV": "papír"
                                },
                                {
                                    "KAT_NEV": "kabát"
                                },
                                {
                                    "KAT_NEV": "kiegészítő"
                                },
                                {
                                    "KAT_NEV": "papír írószer"
                                },
                                {
                                    "KAT_NEV": "nadrág"
                                },
                                {
                                    "KAT_NEV": "ruha"
                                },
                                {
                                    "KAT_NEV": "írószer"
                                },
                                {
                                    "KAT_NEV": "póló"
                                },
                                {
                                    "KAT_NEV": "indigó"
                                }
                            ]
                        },
                        "text/html": [
                            "<table>",
                            "<tr><th>KAT_NEV</th></tr>",
                            "<tr><td>csomagoló anyag</td></tr>",
                            "<tr><td>ing</td></tr>",
                            "<tr><td>cipő</td></tr>",
                            "<tr><td>háztartási papír</td></tr>",
                            "<tr><td>papír</td></tr>",
                            "<tr><td>kabát</td></tr>",
                            "<tr><td>kiegészítő</td></tr>",
                            "<tr><td>papír írószer</td></tr>",
                            "<tr><td>nadrág</td></tr>",
                            "<tr><td>ruha</td></tr>",
                            "<tr><td>írószer</td></tr>",
                            "<tr><td>póló</td></tr>",
                            "<tr><td>indigó</td></tr>",
                            "</table>"
                        ]
                    }
                }
            ],
            "execution_count": 4
        },
        {
            "cell_type": "markdown",
            "source": [
                "15. <span style=\"background-color: rgb(255, 255, 255); color: rgb(0, 0, 0); font-family: &quot;Open Sans&quot;, sans-serif; font-size: 14.44px;\">Listázzuk azon rendelési tételeket, amelynek értéke nagyobb, mint a legdrágább termék listaára azon termékek közül, amelyek szülő kategóriája a ruha!</span>"
            ],
            "metadata": {
                "azdata_cell_guid": "93552388-ffec-49ff-99e5-ae8dc8072601"
            },
            "attachments": {}
        },
        {
            "cell_type": "code",
            "source": [
                "SELECT rt.*\r\n",
                "FROM Rendeles_tetel rt\r\n",
                "WHERE rt.MENNYISEG * rt.EGYSEGAR >\r\n",
                "(\r\n",
                "  SELECT max(t.listaar)\r\n",
                "  FROM Termek t\r\n",
                "  WHERE t.KAT_ID IN\r\n",
                "  (\r\n",
                "    SELECT tk.kat_id\r\n",
                "\tFROM Termekkategoria tk\r\n",
                "\t     JOIN Termekkategoria tk2 ON tk.SZULO_KAT = tk2.KAT_ID\r\n",
                "\tWHERE tk2.KAT_NEV='ruha'\r\n",
                "  )\r\n",
                ")"
            ],
            "metadata": {
                "azdata_cell_guid": "0e7f547f-7d96-4611-b1c2-0fa84a581e79",
                "language": "sql"
            },
            "outputs": [],
            "execution_count": null
        }
    ]
}