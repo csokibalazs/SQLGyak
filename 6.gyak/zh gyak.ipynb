{
    "metadata": {
        "kernelspec": {
            "name": "SQL",
            "display_name": "SQL",
            "language": "sql"
        },
        "language_info": {
            "name": "sql",
            "version": ""
        }
    },
    "nbformat_minor": 2,
    "nbformat": 4,
    "cells": [
        {
            "cell_type": "code",
            "source": [
                "SELECT  IIF(GROUPING_ID(v.usernev) = 1, 'Végösszeg', v.usernev),\r\n",
                "        COUNT(DISTINCT sza.SZALLAS_ID)\r\n",
                "--IIF(GROUPING_ID(NEV)= 1, 'Összesen', NEV) AS \"Felhasználók\",\r\n",
                "        --COUNT(*) AS \"Darab\"\r\n",
                "FROM Vendeg v LEFT JOIN Foglalas f ON v.USERNEV = f.UGYFEL_FK\r\n",
                "                JOIN Szoba szo ON f.SZOBA_FK = szo.SZOBA_ID\r\n",
                "                JOIN Szallashely sza ON szo.SZALLAS_FK = sza.SZALLAS_ID\r\n",
                "GROUP BY ROLLUP(v.USERNEV)\r\n",
                ""
            ],
            "metadata": {
                "azdata_cell_guid": "b7759164-2f8f-4358-a333-e21b29cbfb5c",
                "language": "sql"
            },
            "outputs": [
                {
                    "output_type": "display_data",
                    "data": {
                        "text/html": "(196 rows affected)"
                    },
                    "metadata": {}
                },
                {
                    "output_type": "display_data",
                    "data": {
                        "text/html": "Total execution time: 00:00:00.050"
                    },
                    "metadata": {}
                },
                {
                    "output_type": "execute_result",
                    "metadata": {},
                    "execution_count": 22,
                    "data": {
                        "application/vnd.dataresource+json": {
                            "schema": {
                                "fields": [
                                    {
                                        "name": "(No column name)"
                                    },
                                    {
                                        "name": "(No column name)"
                                    }
                                ]
                            },
                            "data": [
                                {
                                    "(No column name)": "2"
                                },
                                {
                                    "(No column name)": "2"
                                },
                                {
                                    "(No column name)": "5"
                                },
                                {
                                    "(No column name)": "4"
                                },
                                {
                                    "(No column name)": "3"
                                },
                                {
                                    "(No column name)": "5"
                                },
                                {
                                    "(No column name)": "3"
                                },
                                {
                                    "(No column name)": "7"
                                },
                                {
                                    "(No column name)": "3"
                                },
                                {
                                    "(No column name)": "6"
                                },
                                {
                                    "(No column name)": "4"
                                },
                                {
                                    "(No column name)": "3"
                                },
                                {
                                    "(No column name)": "6"
                                },
                                {
                                    "(No column name)": "5"
                                },
                                {
                                    "(No column name)": "2"
                                },
                                {
                                    "(No column name)": "5"
                                },
                                {
                                    "(No column name)": "3"
                                },
                                {
                                    "(No column name)": "1"
                                },
                                {
                                    "(No column name)": "4"
                                },
                                {
                                    "(No column name)": "1"
                                },
                                {
                                    "(No column name)": "2"
                                },
                                {
                                    "(No column name)": "2"
                                },
                                {
                                    "(No column name)": "6"
                                },
                                {
                                    "(No column name)": "3"
                                },
                                {
                                    "(No column name)": "3"
                                },
                                {
                                    "(No column name)": "6"
                                },
                                {
                                    "(No column name)": "4"
                                },
                                {
                                    "(No column name)": "1"
                                },
                                {
                                    "(No column name)": "5"
                                },
                                {
                                    "(No column name)": "5"
                                },
                                {
                                    "(No column name)": "8"
                                },
                                {
                                    "(No column name)": "4"
                                },
                                {
                                    "(No column name)": "3"
                                },
                                {
                                    "(No column name)": "5"
                                },
                                {
                                    "(No column name)": "3"
                                },
                                {
                                    "(No column name)": "5"
                                },
                                {
                                    "(No column name)": "3"
                                },
                                {
                                    "(No column name)": "2"
                                },
                                {
                                    "(No column name)": "6"
                                },
                                {
                                    "(No column name)": "8"
                                },
                                {
                                    "(No column name)": "4"
                                },
                                {
                                    "(No column name)": "3"
                                },
                                {
                                    "(No column name)": "9"
                                },
                                {
                                    "(No column name)": "1"
                                },
                                {
                                    "(No column name)": "2"
                                },
                                {
                                    "(No column name)": "4"
                                },
                                {
                                    "(No column name)": "7"
                                },
                                {
                                    "(No column name)": "5"
                                },
                                {
                                    "(No column name)": "3"
                                },
                                {
                                    "(No column name)": "6"
                                },
                                {
                                    "(No column name)": "4"
                                },
                                {
                                    "(No column name)": "5"
                                },
                                {
                                    "(No column name)": "5"
                                },
                                {
                                    "(No column name)": "6"
                                },
                                {
                                    "(No column name)": "4"
                                },
                                {
                                    "(No column name)": "4"
                                },
                                {
                                    "(No column name)": "4"
                                },
                                {
                                    "(No column name)": "6"
                                },
                                {
                                    "(No column name)": "6"
                                },
                                {
                                    "(No column name)": "5"
                                },
                                {
                                    "(No column name)": "5"
                                },
                                {
                                    "(No column name)": "6"
                                },
                                {
                                    "(No column name)": "5"
                                },
                                {
                                    "(No column name)": "1"
                                },
                                {
                                    "(No column name)": "4"
                                },
                                {
                                    "(No column name)": "3"
                                },
                                {
                                    "(No column name)": "4"
                                },
                                {
                                    "(No column name)": "5"
                                },
                                {
                                    "(No column name)": "3"
                                },
                                {
                                    "(No column name)": "4"
                                },
                                {
                                    "(No column name)": "5"
                                },
                                {
                                    "(No column name)": "3"
                                },
                                {
                                    "(No column name)": "3"
                                },
                                {
                                    "(No column name)": "2"
                                },
                                {
                                    "(No column name)": "3"
                                },
                                {
                                    "(No column name)": "4"
                                },
                                {
                                    "(No column name)": "4"
                                },
                                {
                                    "(No column name)": "5"
                                },
                                {
                                    "(No column name)": "5"
                                },
                                {
                                    "(No column name)": "4"
                                },
                                {
                                    "(No column name)": "4"
                                },
                                {
                                    "(No column name)": "1"
                                },
                                {
                                    "(No column name)": "4"
                                },
                                {
                                    "(No column name)": "5"
                                },
                                {
                                    "(No column name)": "7"
                                },
                                {
                                    "(No column name)": "3"
                                },
                                {
                                    "(No column name)": "3"
                                },
                                {
                                    "(No column name)": "2"
                                },
                                {
                                    "(No column name)": "2"
                                },
                                {
                                    "(No column name)": "2"
                                },
                                {
                                    "(No column name)": "4"
                                },
                                {
                                    "(No column name)": "3"
                                },
                                {
                                    "(No column name)": "4"
                                },
                                {
                                    "(No column name)": "2"
                                },
                                {
                                    "(No column name)": "5"
                                },
                                {
                                    "(No column name)": "3"
                                },
                                {
                                    "(No column name)": "3"
                                },
                                {
                                    "(No column name)": "3"
                                },
                                {
                                    "(No column name)": "3"
                                },
                                {
                                    "(No column name)": "5"
                                },
                                {
                                    "(No column name)": "3"
                                },
                                {
                                    "(No column name)": "2"
                                },
                                {
                                    "(No column name)": "2"
                                },
                                {
                                    "(No column name)": "4"
                                },
                                {
                                    "(No column name)": "5"
                                },
                                {
                                    "(No column name)": "6"
                                },
                                {
                                    "(No column name)": "3"
                                },
                                {
                                    "(No column name)": "4"
                                },
                                {
                                    "(No column name)": "4"
                                },
                                {
                                    "(No column name)": "3"
                                },
                                {
                                    "(No column name)": "3"
                                },
                                {
                                    "(No column name)": "2"
                                },
                                {
                                    "(No column name)": "6"
                                },
                                {
                                    "(No column name)": "6"
                                },
                                {
                                    "(No column name)": "6"
                                },
                                {
                                    "(No column name)": "5"
                                },
                                {
                                    "(No column name)": "4"
                                },
                                {
                                    "(No column name)": "5"
                                },
                                {
                                    "(No column name)": "3"
                                },
                                {
                                    "(No column name)": "5"
                                },
                                {
                                    "(No column name)": "1"
                                },
                                {
                                    "(No column name)": "5"
                                },
                                {
                                    "(No column name)": "3"
                                },
                                {
                                    "(No column name)": "5"
                                },
                                {
                                    "(No column name)": "6"
                                },
                                {
                                    "(No column name)": "3"
                                },
                                {
                                    "(No column name)": "2"
                                },
                                {
                                    "(No column name)": "6"
                                },
                                {
                                    "(No column name)": "3"
                                },
                                {
                                    "(No column name)": "2"
                                },
                                {
                                    "(No column name)": "5"
                                },
                                {
                                    "(No column name)": "4"
                                },
                                {
                                    "(No column name)": "3"
                                },
                                {
                                    "(No column name)": "3"
                                },
                                {
                                    "(No column name)": "5"
                                },
                                {
                                    "(No column name)": "2"
                                },
                                {
                                    "(No column name)": "4"
                                },
                                {
                                    "(No column name)": "4"
                                },
                                {
                                    "(No column name)": "4"
                                },
                                {
                                    "(No column name)": "4"
                                },
                                {
                                    "(No column name)": "5"
                                },
                                {
                                    "(No column name)": "5"
                                },
                                {
                                    "(No column name)": "2"
                                },
                                {
                                    "(No column name)": "3"
                                },
                                {
                                    "(No column name)": "3"
                                },
                                {
                                    "(No column name)": "4"
                                },
                                {
                                    "(No column name)": "3"
                                },
                                {
                                    "(No column name)": "7"
                                },
                                {
                                    "(No column name)": "3"
                                },
                                {
                                    "(No column name)": "4"
                                },
                                {
                                    "(No column name)": "4"
                                },
                                {
                                    "(No column name)": "4"
                                },
                                {
                                    "(No column name)": "5"
                                },
                                {
                                    "(No column name)": "3"
                                },
                                {
                                    "(No column name)": "4"
                                },
                                {
                                    "(No column name)": "4"
                                },
                                {
                                    "(No column name)": "2"
                                },
                                {
                                    "(No column name)": "3"
                                },
                                {
                                    "(No column name)": "4"
                                },
                                {
                                    "(No column name)": "3"
                                },
                                {
                                    "(No column name)": "4"
                                },
                                {
                                    "(No column name)": "3"
                                },
                                {
                                    "(No column name)": "3"
                                },
                                {
                                    "(No column name)": "9"
                                },
                                {
                                    "(No column name)": "3"
                                },
                                {
                                    "(No column name)": "2"
                                },
                                {
                                    "(No column name)": "1"
                                },
                                {
                                    "(No column name)": "4"
                                },
                                {
                                    "(No column name)": "5"
                                },
                                {
                                    "(No column name)": "6"
                                },
                                {
                                    "(No column name)": "2"
                                },
                                {
                                    "(No column name)": "4"
                                },
                                {
                                    "(No column name)": "6"
                                },
                                {
                                    "(No column name)": "2"
                                },
                                {
                                    "(No column name)": "1"
                                },
                                {
                                    "(No column name)": "4"
                                },
                                {
                                    "(No column name)": "1"
                                },
                                {
                                    "(No column name)": "5"
                                },
                                {
                                    "(No column name)": "7"
                                },
                                {
                                    "(No column name)": "5"
                                },
                                {
                                    "(No column name)": "4"
                                },
                                {
                                    "(No column name)": "4"
                                },
                                {
                                    "(No column name)": "2"
                                },
                                {
                                    "(No column name)": "5"
                                },
                                {
                                    "(No column name)": "2"
                                },
                                {
                                    "(No column name)": "5"
                                },
                                {
                                    "(No column name)": "3"
                                },
                                {
                                    "(No column name)": "2"
                                },
                                {
                                    "(No column name)": "2"
                                },
                                {
                                    "(No column name)": "2"
                                },
                                {
                                    "(No column name)": "6"
                                },
                                {
                                    "(No column name)": "2"
                                },
                                {
                                    "(No column name)": "4"
                                },
                                {
                                    "(No column name)": "4"
                                },
                                {
                                    "(No column name)": "5"
                                },
                                {
                                    "(No column name)": "12"
                                }
                            ]
                        },
                        "text/html": [
                            "<table>",
                            "<tr><th>(No column name)</th><th>(No column name)</th></tr>",
                            "<tr><td>adam1</td><td>2</td></tr>",
                            "<tr><td>adam3</td><td>2</td></tr>",
                            "<tr><td>adam4</td><td>5</td></tr>",
                            "<tr><td>agnes</td><td>4</td></tr>",
                            "<tr><td>agnes3</td><td>3</td></tr>",
                            "<tr><td>AGNESH</td><td>5</td></tr>",
                            "<tr><td>AGNESK</td><td>3</td></tr>",
                            "<tr><td>akos</td><td>7</td></tr>",
                            "<tr><td>aladar</td><td>3</td></tr>",
                            "<tr><td>alexandra</td><td>6</td></tr>",
                            "<tr><td>andi</td><td>4</td></tr>",
                            "<tr><td>andras2</td><td>3</td></tr>",
                            "<tr><td>andras21</td><td>6</td></tr>",
                            "<tr><td>andras3</td><td>5</td></tr>",
                            "<tr><td>andras4</td><td>2</td></tr>",
                            "<tr><td>andras41</td><td>5</td></tr>",
                            "<tr><td>ANDRASE</td><td>3</td></tr>",
                            "<tr><td>ANDRASN</td><td>1</td></tr>",
                            "<tr><td>andrea</td><td>4</td></tr>",
                            "<tr><td>andrea3</td><td>1</td></tr>",
                            "<tr><td>andrea4</td><td>2</td></tr>",
                            "<tr><td>ANDREAT</td><td>2</td></tr>",
                            "<tr><td>anett3</td><td>6</td></tr>",
                            "<tr><td>aniko</td><td>3</td></tr>",
                            "<tr><td>aniko4</td><td>3</td></tr>",
                            "<tr><td>ANIKOS</td><td>6</td></tr>",
                            "<tr><td>anita</td><td>4</td></tr>",
                            "<tr><td>annamaria1</td><td>1</td></tr>",
                            "<tr><td>ANNAMARIAR</td><td>5</td></tr>",
                            "<tr><td>aron2</td><td>5</td></tr>",
                            "<tr><td>ARONK</td><td>8</td></tr>",
                            "<tr><td>arpad2</td><td>4</td></tr>",
                            "<tr><td>ARPADH</td><td>3</td></tr>",
                            "<tr><td>ARPADM</td><td>5</td></tr>",
                            "<tr><td>attila</td><td>3</td></tr>",
                            "<tr><td>attila1</td><td>5</td></tr>",
                            "<tr><td>attila4</td><td>3</td></tr>",
                            "<tr><td>ATTILAO</td><td>2</td></tr>",
                            "<tr><td>balazs1</td><td>6</td></tr>",
                            "<tr><td>balazs2</td><td>8</td></tr>",
                            "<tr><td>balazs3</td><td>4</td></tr>",
                            "<tr><td>balint</td><td>3</td></tr>",
                            "<tr><td>balint1</td><td>9</td></tr>",
                            "<tr><td>balint2</td><td>1</td></tr>",
                            "<tr><td>balu</td><td>2</td></tr>",
                            "<tr><td>beata4</td><td>4</td></tr>",
                            "<tr><td>BEATRIXK</td><td>7</td></tr>",
                            "<tr><td>BEATRIXS</td><td>5</td></tr>",
                            "<tr><td>BELAF</td><td>3</td></tr>",
                            "<tr><td>bence</td><td>6</td></tr>",
                            "<tr><td>BENCEB</td><td>4</td></tr>",
                            "<tr><td>bernadett1</td><td>5</td></tr>",
                            "<tr><td>bernadett2</td><td>5</td></tr>",
                            "<tr><td>BERNADETTO</td><td>6</td></tr>",
                            "<tr><td>bertalan</td><td>4</td></tr>",
                            "<tr><td>brigitta</td><td>4</td></tr>",
                            "<tr><td>brigitta3</td><td>4</td></tr>",
                            "<tr><td>csongor3</td><td>6</td></tr>",
                            "<tr><td>dani</td><td>6</td></tr>",
                            "<tr><td>daniel</td><td>5</td></tr>",
                            "<tr><td>daniel1</td><td>5</td></tr>",
                            "<tr><td>david</td><td>6</td></tr>",
                            "<tr><td>david1</td><td>5</td></tr>",
                            "<tr><td>david4</td><td>1</td></tr>",
                            "<tr><td>debora</td><td>4</td></tr>",
                            "<tr><td>denes</td><td>3</td></tr>",
                            "<tr><td>dora3</td><td>4</td></tr>",
                            "<tr><td>edit</td><td>5</td></tr>",
                            "<tr><td>emese</td><td>3</td></tr>",
                            "<tr><td>eszter</td><td>4</td></tr>",
                            "<tr><td>eszter2</td><td>5</td></tr>",
                            "<tr><td>eszter4</td><td>3</td></tr>",
                            "<tr><td>ESZTERE</td><td>3</td></tr>",
                            "<tr><td>eva</td><td>2</td></tr>",
                            "<tr><td>eva2</td><td>3</td></tr>",
                            "<tr><td>EVAV</td><td>4</td></tr>",
                            "<tr><td>ferenc1</td><td>4</td></tr>",
                            "<tr><td>fruzsina4</td><td>5</td></tr>",
                            "<tr><td>gabor1</td><td>5</td></tr>",
                            "<tr><td>gabor4</td><td>4</td></tr>",
                            "<tr><td>gabriella1</td><td>4</td></tr>",
                            "<tr><td>gabriella10</td><td>1</td></tr>",
                            "<tr><td>georgij</td><td>4</td></tr>",
                            "<tr><td>gusztav</td><td>5</td></tr>",
                            "<tr><td>GYONGYIK</td><td>7</td></tr>",
                            "<tr><td>GYORGYO</td><td>3</td></tr>",
                            "<tr><td>henrik3</td><td>3</td></tr>",
                            "<tr><td>IBOLYAA</td><td>2</td></tr>",
                            "<tr><td>ilona3</td><td>2</td></tr>",
                            "<tr><td>imre</td><td>2</td></tr>",
                            "<tr><td>imre1</td><td>4</td></tr>",
                            "<tr><td>istvan</td><td>3</td></tr>",
                            "<tr><td>istvan1</td><td>4</td></tr>",
                            "<tr><td>ISTVANV</td><td>2</td></tr>",
                            "<tr><td>janos3</td><td>5</td></tr>",
                            "<tr><td>JANOSG</td><td>3</td></tr>",
                            "<tr><td>JANOSP</td><td>3</td></tr>",
                            "<tr><td>jozsef</td><td>3</td></tr>",
                            "<tr><td>jozsef2</td><td>3</td></tr>",
                            "<tr><td>JOZSEFG</td><td>5</td></tr>",
                            "<tr><td>JUDITH</td><td>3</td></tr>",
                            "<tr><td>julia</td><td>2</td></tr>",
                            "<tr><td>julia4</td><td>2</td></tr>",
                            "<tr><td>julianna4</td><td>4</td></tr>",
                            "<tr><td>kata</td><td>5</td></tr>",
                            "<tr><td>katalin</td><td>6</td></tr>",
                            "<tr><td>katalin4</td><td>3</td></tr>",
                            "<tr><td>kati</td><td>4</td></tr>",
                            "<tr><td>katka</td><td>4</td></tr>",
                            "<tr><td>klaudia2</td><td>3</td></tr>",
                            "<tr><td>kornel4</td><td>3</td></tr>",
                            "<tr><td>kristof4</td><td>2</td></tr>",
                            "<tr><td>kriszti</td><td>6</td></tr>",
                            "<tr><td>krisztian4</td><td>6</td></tr>",
                            "<tr><td>KRISZTIANM</td><td>6</td></tr>",
                            "<tr><td>krisztina</td><td>5</td></tr>",
                            "<tr><td>krisztina1</td><td>4</td></tr>",
                            "<tr><td>KRISZTINAG</td><td>5</td></tr>",
                            "<tr><td>lajos</td><td>3</td></tr>",
                            "<tr><td>lala</td><td>5</td></tr>",
                            "<tr><td>laszlo1</td><td>1</td></tr>",
                            "<tr><td>laszlo2</td><td>5</td></tr>",
                            "<tr><td>LASZLOA</td><td>3</td></tr>",
                            "<tr><td>LASZLON</td><td>5</td></tr>",
                            "<tr><td>maria1</td><td>6</td></tr>",
                            "<tr><td>mark</td><td>3</td></tr>",
                            "<tr><td>MARKH</td><td>2</td></tr>",
                            "<tr><td>marton</td><td>6</td></tr>",
                            "<tr><td>MATEK</td><td>3</td></tr>",
                            "<tr><td>matyas2</td><td>2</td></tr>",
                            "<tr><td>MATYASS</td><td>5</td></tr>",
                            "<tr><td>MIHALYJ</td><td>4</td></tr>",
                            "<tr><td>miklos2</td><td>3</td></tr>",
                            "<tr><td>MIKLOSB</td><td>3</td></tr>",
                            "<tr><td>MONIKAM</td><td>5</td></tr>",
                            "<tr><td>NANDORF</td><td>2</td></tr>",
                            "<tr><td>nikolett3</td><td>4</td></tr>",
                            "<tr><td>nikoletta4</td><td>4</td></tr>",
                            "<tr><td>NIKOLETTAT</td><td>4</td></tr>",
                            "<tr><td>norbert</td><td>4</td></tr>",
                            "<tr><td>norbert2</td><td>5</td></tr>",
                            "<tr><td>norbert4</td><td>5</td></tr>",
                            "<tr><td>norbert5</td><td>2</td></tr>",
                            "<tr><td>pal</td><td>3</td></tr>",
                            "<tr><td>peter1</td><td>3</td></tr>",
                            "<tr><td>peter2</td><td>4</td></tr>",
                            "<tr><td>peter3</td><td>3</td></tr>",
                            "<tr><td>peter4</td><td>7</td></tr>",
                            "<tr><td>PETERB</td><td>3</td></tr>",
                            "<tr><td>polla</td><td>4</td></tr>",
                            "<tr><td>rajmond4</td><td>4</td></tr>",
                            "<tr><td>reka4</td><td>4</td></tr>",
                            "<tr><td>RENATAK</td><td>5</td></tr>",
                            "<tr><td>RENATAS</td><td>3</td></tr>",
                            "<tr><td>robert2</td><td>4</td></tr>",
                            "<tr><td>ROBERTI</td><td>4</td></tr>",
                            "<tr><td>ROBERTP</td><td>2</td></tr>",
                            "<tr><td>roland</td><td>3</td></tr>",
                            "<tr><td>roland1</td><td>4</td></tr>",
                            "<tr><td>roza2</td><td>3</td></tr>",
                            "<tr><td>sandor</td><td>4</td></tr>",
                            "<tr><td>sandor3</td><td>3</td></tr>",
                            "<tr><td>sandor4</td><td>3</td></tr>",
                            "<tr><td>sara</td><td>9</td></tr>",
                            "<tr><td>SEBASTIANF</td><td>3</td></tr>",
                            "<tr><td>sebestyen</td><td>2</td></tr>",
                            "<tr><td>szabolcs</td><td>1</td></tr>",
                            "<tr><td>SZABOLCSM</td><td>4</td></tr>",
                            "<tr><td>SZILARDS</td><td>5</td></tr>",
                            "<tr><td>szilvia1</td><td>6</td></tr>",
                            "<tr><td>tamara2</td><td>2</td></tr>",
                            "<tr><td>tamas</td><td>4</td></tr>",
                            "<tr><td>TAMASF</td><td>6</td></tr>",
                            "<tr><td>tibor</td><td>2</td></tr>",
                            "<tr><td>tibor2</td><td>1</td></tr>",
                            "<tr><td>tihamer</td><td>4</td></tr>",
                            "<tr><td>timea</td><td>1</td></tr>",
                            "<tr><td>timea2</td><td>5</td></tr>",
                            "<tr><td>tunde</td><td>7</td></tr>",
                            "<tr><td>valentin</td><td>5</td></tr>",
                            "<tr><td>veronika4</td><td>4</td></tr>",
                            "<tr><td>VIKTORIAU</td><td>4</td></tr>",
                            "<tr><td>VIKTORK</td><td>2</td></tr>",
                            "<tr><td>vivien3</td><td>5</td></tr>",
                            "<tr><td>zoltan</td><td>2</td></tr>",
                            "<tr><td>zoltan4</td><td>5</td></tr>",
                            "<tr><td>ZOLTANP</td><td>3</td></tr>",
                            "<tr><td>ZOLTANT</td><td>2</td></tr>",
                            "<tr><td>zsofi1</td><td>2</td></tr>",
                            "<tr><td>zsolt1</td><td>2</td></tr>",
                            "<tr><td>ZSOLTJ</td><td>6</td></tr>",
                            "<tr><td>zsuzsa</td><td>2</td></tr>",
                            "<tr><td>zsuzsa3</td><td>4</td></tr>",
                            "<tr><td>zsuzsanna</td><td>4</td></tr>",
                            "<tr><td>ZSUZSAV</td><td>5</td></tr>",
                            "<tr><td>Végösszeg</td><td>12</td></tr>",
                            "</table>"
                        ]
                    }
                }
            ],
            "execution_count": 22
        },
        {
            "cell_type": "code",
            "source": [
                "SELECT Nev, 2024 - YEAR(LEFT(SZUL_DAT, 4)) AS 'Kor', AVG(2024 - YEAR(LEFT(SZUL_DAT, 4))) OVER(ORDER BY 2024 - YEAR(LEFT(SZUL_DAT, 4)) ROWS BETWEEN 2 PRECEDING AND 2 FOLLOWING) AS 'Átlag'\r\n",
                "FROM Vendeg"
            ],
            "metadata": {
                "azdata_cell_guid": "f0e84965-0d82-48d3-9d21-8af267a15771",
                "language": "sql"
            },
            "outputs": [
                {
                    "output_type": "display_data",
                    "data": {
                        "text/html": "(196 rows affected)"
                    },
                    "metadata": {}
                },
                {
                    "output_type": "display_data",
                    "data": {
                        "text/html": "Total execution time: 00:00:00.013"
                    },
                    "metadata": {}
                },
                {
                    "output_type": "execute_result",
                    "metadata": {},
                    "execution_count": 31,
                    "data": {
                        "application/vnd.dataresource+json": {
                            "schema": {
                                "fields": [
                                    {
                                        "name": "Nev"
                                    },
                                    {
                                        "name": "Kor"
                                    },
                                    {
                                        "name": "Átlag"
                                    }
                                ]
                            },
                            "data": [
                                {
                                    "Nev": "Balogh Eszter",
                                    "Kor": "26",
                                    "Átlag": "26"
                                },
                                {
                                    "Nev": "Vukasinovity Bálint",
                                    "Kor": "27",
                                    "Átlag": "26"
                                },
                                {
                                    "Nev": "Tóth András",
                                    "Kor": "27",
                                    "Átlag": "26"
                                },
                                {
                                    "Nev": "Komjáti András",
                                    "Kor": "27",
                                    "Átlag": "27"
                                },
                                {
                                    "Nev": "Erdei András",
                                    "Kor": "27",
                                    "Átlag": "27"
                                },
                                {
                                    "Nev": "Vizi István",
                                    "Kor": "27",
                                    "Átlag": "27"
                                },
                                {
                                    "Nev": "Hídasi Judit",
                                    "Kor": "27",
                                    "Átlag": "27"
                                },
                                {
                                    "Nev": "Nagymihály Lajos",
                                    "Kor": "27",
                                    "Átlag": "27"
                                },
                                {
                                    "Nev": "Horváth Márk",
                                    "Kor": "27",
                                    "Átlag": "27"
                                },
                                {
                                    "Nev": "Koza Máté",
                                    "Kor": "27",
                                    "Átlag": "27"
                                },
                                {
                                    "Nev": "Tatár Nikoletta",
                                    "Kor": "27",
                                    "Átlag": "27"
                                },
                                {
                                    "Nev": "Nagy Sándor",
                                    "Kor": "27",
                                    "Átlag": "27"
                                },
                                {
                                    "Nev": "Fényes Tamás",
                                    "Kor": "27",
                                    "Átlag": "27"
                                },
                                {
                                    "Nev": "Papós Tímea",
                                    "Kor": "28",
                                    "Átlag": "27"
                                },
                                {
                                    "Nev": "Urbán Viktoria",
                                    "Kor": "28",
                                    "Átlag": "27"
                                },
                                {
                                    "Nev": "Kispál Márk",
                                    "Kor": "28",
                                    "Átlag": "28"
                                },
                                {
                                    "Nev": "Frank Fruzsina",
                                    "Kor": "28",
                                    "Átlag": "28"
                                },
                                {
                                    "Nev": "Szomor Andrea",
                                    "Kor": "28",
                                    "Átlag": "28"
                                },
                                {
                                    "Nev": "Horváth Bálint",
                                    "Kor": "28",
                                    "Átlag": "28"
                                },
                                {
                                    "Nev": "Kovács Bernadett",
                                    "Kor": "28",
                                    "Átlag": "28"
                                },
                                {
                                    "Nev": "Farkas Béla",
                                    "Kor": "29",
                                    "Átlag": "28"
                                },
                                {
                                    "Nev": "Opra Attila",
                                    "Kor": "29",
                                    "Átlag": "28"
                                },
                                {
                                    "Nev": "Sarodi Dóra",
                                    "Kor": "29",
                                    "Átlag": "29"
                                },
                                {
                                    "Nev": "Zatykó Katalin",
                                    "Kor": "29",
                                    "Átlag": "29"
                                },
                                {
                                    "Nev": "Gondos Miklós",
                                    "Kor": "29",
                                    "Átlag": "29"
                                },
                                {
                                    "Nev": "Baráth Mária",
                                    "Kor": "29",
                                    "Átlag": "29"
                                },
                                {
                                    "Nev": "Bagi Beáta",
                                    "Kor": "30",
                                    "Átlag": "29"
                                },
                                {
                                    "Nev": "Barta Zsuzsanna",
                                    "Kor": "30",
                                    "Átlag": "30"
                                },
                                {
                                    "Nev": "Palágyi Polla",
                                    "Kor": "30",
                                    "Átlag": "30"
                                },
                                {
                                    "Nev": "Rácz Rajmond",
                                    "Kor": "31",
                                    "Átlag": "30"
                                },
                                {
                                    "Nev": "Gombos Tibor",
                                    "Kor": "31",
                                    "Átlag": "30"
                                },
                                {
                                    "Nev": "Fülöp Eszter",
                                    "Kor": "31",
                                    "Átlag": "31"
                                },
                                {
                                    "Nev": "Kiss Andrea",
                                    "Kor": "31",
                                    "Átlag": "31"
                                },
                                {
                                    "Nev": "Tóth Júlia",
                                    "Kor": "31",
                                    "Átlag": "31"
                                },
                                {
                                    "Nev": "Bagóczki Alexandra",
                                    "Kor": "32",
                                    "Átlag": "31"
                                },
                                {
                                    "Nev": "Bozsik Balázs",
                                    "Kor": "32",
                                    "Átlag": "31"
                                },
                                {
                                    "Nev": "Foltényi Sebastián",
                                    "Kor": "32",
                                    "Átlag": "32"
                                },
                                {
                                    "Nev": "Rab Sebestyén",
                                    "Kor": "32",
                                    "Átlag": "32"
                                },
                                {
                                    "Nev": "Szirmai Renáta",
                                    "Kor": "33",
                                    "Átlag": "32"
                                },
                                {
                                    "Nev": "Kazy Tihamér",
                                    "Kor": "33",
                                    "Átlag": "32"
                                },
                                {
                                    "Nev": "Boros Vivien",
                                    "Kor": "33",
                                    "Átlag": "33"
                                },
                                {
                                    "Nev": "Pataki Brigitta",
                                    "Kor": "33",
                                    "Átlag": "33"
                                },
                                {
                                    "Nev": "Kiss Ádám",
                                    "Kor": "33",
                                    "Átlag": "33"
                                },
                                {
                                    "Nev": "Hegedűs Norbert",
                                    "Kor": "33",
                                    "Átlag": "33"
                                },
                                {
                                    "Nev": "Szabó Julianna",
                                    "Kor": "34",
                                    "Átlag": "33"
                                },
                                {
                                    "Nev": "Szöllősi Gábor",
                                    "Kor": "34",
                                    "Átlag": "33"
                                },
                                {
                                    "Nev": "Bosnyák Ilona",
                                    "Kor": "34",
                                    "Átlag": "34"
                                },
                                {
                                    "Nev": "Ötvös Árpád",
                                    "Kor": "34",
                                    "Átlag": "34"
                                },
                                {
                                    "Nev": "Horváth Árpád",
                                    "Kor": "34",
                                    "Átlag": "34"
                                },
                                {
                                    "Nev": "Szűcs Annamária",
                                    "Kor": "34",
                                    "Átlag": "34"
                                },
                                {
                                    "Nev": "Berta Dávid",
                                    "Kor": "34",
                                    "Átlag": "34"
                                },
                                {
                                    "Nev": "Bodor Szabolcs",
                                    "Kor": "34",
                                    "Átlag": "34"
                                },
                                {
                                    "Nev": "Farkas Sándor",
                                    "Kor": "35",
                                    "Átlag": "34"
                                },
                                {
                                    "Nev": "Keresztúri Viktor",
                                    "Kor": "35",
                                    "Átlag": "34"
                                },
                                {
                                    "Nev": "Kuruc Emese",
                                    "Kor": "35",
                                    "Átlag": "35"
                                },
                                {
                                    "Nev": "Kelemen Áron",
                                    "Kor": "35",
                                    "Átlag": "35"
                                },
                                {
                                    "Nev": "Molnár Bálint",
                                    "Kor": "35",
                                    "Átlag": "35"
                                },
                                {
                                    "Nev": "Varga István",
                                    "Kor": "35",
                                    "Átlag": "35"
                                },
                                {
                                    "Nev": "Kalacsi Márton",
                                    "Kor": "35",
                                    "Átlag": "35"
                                },
                                {
                                    "Nev": "Búza Imre",
                                    "Kor": "36",
                                    "Átlag": "35"
                                },
                                {
                                    "Nev": "Simon Anikó",
                                    "Kor": "36",
                                    "Átlag": "35"
                                },
                                {
                                    "Nev": "Kovács Ágnes",
                                    "Kor": "36",
                                    "Átlag": "36"
                                },
                                {
                                    "Nev": "Pulai Zsolt",
                                    "Kor": "36",
                                    "Átlag": "36"
                                },
                                {
                                    "Nev": "Kardos Renáta",
                                    "Kor": "36",
                                    "Átlag": "36"
                                },
                                {
                                    "Nev": "Bucskó Róza",
                                    "Kor": "36",
                                    "Átlag": "36"
                                },
                                {
                                    "Nev": "Győrffy Bence",
                                    "Kor": "37",
                                    "Átlag": "36"
                                },
                                {
                                    "Nev": "Orbán Bernadett",
                                    "Kor": "37",
                                    "Átlag": "36"
                                },
                                {
                                    "Nev": "Molnár Eszter",
                                    "Kor": "37",
                                    "Átlag": "37"
                                },
                                {
                                    "Nev": "Telek Gábor",
                                    "Kor": "37",
                                    "Átlag": "37"
                                },
                                {
                                    "Nev": "Gyárfás Krisztina",
                                    "Kor": "37",
                                    "Átlag": "37"
                                },
                                {
                                    "Nev": "Kertész Katalin",
                                    "Kor": "38",
                                    "Átlag": "37"
                                },
                                {
                                    "Nev": "Nádudvari Henrik",
                                    "Kor": "38",
                                    "Átlag": "37"
                                },
                                {
                                    "Nev": "Soós István",
                                    "Kor": "38",
                                    "Átlag": "38"
                                },
                                {
                                    "Nev": "Vörös Dániel",
                                    "Kor": "38",
                                    "Átlag": "38"
                                },
                                {
                                    "Nev": "Bakódy Balázs",
                                    "Kor": "38",
                                    "Átlag": "38"
                                },
                                {
                                    "Nev": "Tornyos Andrea",
                                    "Kor": "38",
                                    "Átlag": "38"
                                },
                                {
                                    "Nev": "Móricz Árpád",
                                    "Kor": "38",
                                    "Átlag": "38"
                                },
                                {
                                    "Nev": "Feró Valentin",
                                    "Kor": "38",
                                    "Átlag": "38"
                                },
                                {
                                    "Nev": "Barna Zoltán",
                                    "Kor": "38",
                                    "Átlag": "38"
                                },
                                {
                                    "Nev": "Tóth Zoltán",
                                    "Kor": "39",
                                    "Átlag": "38"
                                },
                                {
                                    "Nev": "Dániel Tibor",
                                    "Kor": "39",
                                    "Átlag": "38"
                                },
                                {
                                    "Nev": "Ferencz Roland",
                                    "Kor": "39",
                                    "Átlag": "39"
                                },
                                {
                                    "Nev": "Bíró Péter",
                                    "Kor": "39",
                                    "Átlag": "39"
                                },
                                {
                                    "Nev": "Gergely József",
                                    "Kor": "39",
                                    "Átlag": "39"
                                },
                                {
                                    "Nev": "Nagy Júlia",
                                    "Kor": "39",
                                    "Átlag": "39"
                                },
                                {
                                    "Nev": "Pálinkás János",
                                    "Kor": "40",
                                    "Átlag": "39"
                                },
                                {
                                    "Nev": "Poprádi Kristóf",
                                    "Kor": "40",
                                    "Átlag": "39"
                                },
                                {
                                    "Nev": "Back András",
                                    "Kor": "40",
                                    "Átlag": "40"
                                },
                                {
                                    "Nev": "Szűcs Balázs",
                                    "Kor": "40",
                                    "Átlag": "40"
                                },
                                {
                                    "Nev": "Simon Bernadett",
                                    "Kor": "40",
                                    "Átlag": "40"
                                },
                                {
                                    "Nev": "Nagymihály Csongor",
                                    "Kor": "40",
                                    "Átlag": "40"
                                },
                                {
                                    "Nev": "Bittmann Edit",
                                    "Kor": "40",
                                    "Átlag": "40"
                                },
                                {
                                    "Nev": "Antal Tamás",
                                    "Kor": "40",
                                    "Átlag": "40"
                                },
                                {
                                    "Nev": "Tankó Veronika",
                                    "Kor": "41",
                                    "Átlag": "40"
                                },
                                {
                                    "Nev": "Szalai Péter",
                                    "Kor": "41",
                                    "Átlag": "40"
                                },
                                {
                                    "Nev": "Molnár Zsófi",
                                    "Kor": "41",
                                    "Átlag": "41"
                                },
                                {
                                    "Nev": "Józsa Zsolt",
                                    "Kor": "41",
                                    "Átlag": "41"
                                },
                                {
                                    "Nev": "Mile Norbert",
                                    "Kor": "41",
                                    "Átlag": "41"
                                },
                                {
                                    "Nev": "Andor Ibolya",
                                    "Kor": "41",
                                    "Átlag": "41"
                                },
                                {
                                    "Nev": "Nyíri Georgij",
                                    "Kor": "41",
                                    "Átlag": "41"
                                },
                                {
                                    "Nev": "Orosz Ferenc",
                                    "Kor": "41",
                                    "Átlag": "41"
                                },
                                {
                                    "Nev": "Nagy Gabriella",
                                    "Kor": "42",
                                    "Átlag": "41"
                                },
                                {
                                    "Nev": "Bakó Klaudia",
                                    "Kor": "42",
                                    "Átlag": "41"
                                },
                                {
                                    "Nev": "Bíró Ákos",
                                    "Kor": "42",
                                    "Átlag": "42"
                                },
                                {
                                    "Nev": "Gulyás Attila",
                                    "Kor": "42",
                                    "Átlag": "42"
                                },
                                {
                                    "Nev": "Neizer Andrea",
                                    "Kor": "43",
                                    "Átlag": "42"
                                },
                                {
                                    "Nev": "Horváth Ágnes",
                                    "Kor": "43",
                                    "Átlag": "42"
                                },
                                {
                                    "Nev": "Szekendi Beatrix",
                                    "Kor": "43",
                                    "Átlag": "43"
                                },
                                {
                                    "Nev": "Horváth Nikolett",
                                    "Kor": "43",
                                    "Átlag": "43"
                                },
                                {
                                    "Nev": "Oroszi György",
                                    "Kor": "44",
                                    "Átlag": "43"
                                },
                                {
                                    "Nev": "Viktor Éva",
                                    "Kor": "44",
                                    "Átlag": "43"
                                },
                                {
                                    "Nev": "Dunai Aladár",
                                    "Kor": "44",
                                    "Átlag": "44"
                                },
                                {
                                    "Nev": "Nagy András",
                                    "Kor": "44",
                                    "Átlag": "44"
                                },
                                {
                                    "Nev": "Pusztai Zsuzsanna",
                                    "Kor": "44",
                                    "Átlag": "44"
                                },
                                {
                                    "Nev": "Miklós Tamara",
                                    "Kor": "44",
                                    "Átlag": "44"
                                },
                                {
                                    "Nev": "Miklós Szabolcs",
                                    "Kor": "44",
                                    "Átlag": "44"
                                },
                                {
                                    "Nev": "Juhász Mihály",
                                    "Kor": "45",
                                    "Átlag": "44"
                                },
                                {
                                    "Nev": "Varsányi Zsuzsa",
                                    "Kor": "45",
                                    "Átlag": "44"
                                },
                                {
                                    "Nev": "Fodor Zoltán",
                                    "Kor": "45",
                                    "Átlag": "45"
                                },
                                {
                                    "Nev": "Lengyel Ágnes",
                                    "Kor": "45",
                                    "Átlag": "45"
                                },
                                {
                                    "Nev": "Csóti Attila",
                                    "Kor": "45",
                                    "Átlag": "45"
                                },
                                {
                                    "Nev": "Balla Miklós",
                                    "Kor": "45",
                                    "Átlag": "45"
                                },
                                {
                                    "Nev": "Szedlár Krisztina",
                                    "Kor": "45",
                                    "Átlag": "45"
                                },
                                {
                                    "Nev": "Kiss Lajos",
                                    "Kor": "46",
                                    "Átlag": "45"
                                },
                                {
                                    "Nev": "Horváth Krisztina",
                                    "Kor": "46",
                                    "Átlag": "45"
                                },
                                {
                                    "Nev": "Székely Brigitta",
                                    "Kor": "46",
                                    "Átlag": "46"
                                },
                                {
                                    "Nev": "Vajda József",
                                    "Kor": "46",
                                    "Átlag": "46"
                                },
                                {
                                    "Nev": "Böröcz Anikó",
                                    "Kor": "46",
                                    "Átlag": "46"
                                },
                                {
                                    "Nev": "Érsek Eszter",
                                    "Kor": "46",
                                    "Átlag": "46"
                                },
                                {
                                    "Nev": "Rácz Dániel",
                                    "Kor": "46",
                                    "Átlag": "46"
                                },
                                {
                                    "Nev": "Csiger Bertalan",
                                    "Kor": "47",
                                    "Átlag": "46"
                                },
                                {
                                    "Nev": "Regős Annamária",
                                    "Kor": "47",
                                    "Átlag": "46"
                                },
                                {
                                    "Nev": "Molnár András",
                                    "Kor": "47",
                                    "Átlag": "47"
                                },
                                {
                                    "Nev": "Pintér Zoltán",
                                    "Kor": "47",
                                    "Átlag": "47"
                                },
                                {
                                    "Nev": "Patay Róbert",
                                    "Kor": "47",
                                    "Átlag": "47"
                                },
                                {
                                    "Nev": "Kozma Péter",
                                    "Kor": "48",
                                    "Átlag": "47"
                                },
                                {
                                    "Nev": "Bozsó Péter",
                                    "Kor": "48",
                                    "Átlag": "47"
                                },
                                {
                                    "Nev": "Vajda Zsuzsa",
                                    "Kor": "48",
                                    "Átlag": "48"
                                },
                                {
                                    "Nev": "Bieniek Ádám",
                                    "Kor": "48",
                                    "Átlag": "48"
                                },
                                {
                                    "Nev": "Endresz Bálint",
                                    "Kor": "48",
                                    "Átlag": "48"
                                },
                                {
                                    "Nev": "Barna Debóra",
                                    "Kor": "48",
                                    "Átlag": "48"
                                },
                                {
                                    "Nev": "Papp Imre",
                                    "Kor": "48",
                                    "Átlag": "48"
                                },
                                {
                                    "Nev": "Gyuris József",
                                    "Kor": "49",
                                    "Átlag": "48"
                                },
                                {
                                    "Nev": "Giliga János",
                                    "Kor": "49",
                                    "Átlag": "48"
                                },
                                {
                                    "Nev": "Lukács Kornél",
                                    "Kor": "49",
                                    "Átlag": "49"
                                },
                                {
                                    "Nev": "Kovács Katalin",
                                    "Kor": "49",
                                    "Átlag": "49"
                                },
                                {
                                    "Nev": "Móra László",
                                    "Kor": "49",
                                    "Átlag": "49"
                                },
                                {
                                    "Nev": "Szilágyi Mátyás",
                                    "Kor": "49",
                                    "Átlag": "49"
                                },
                                {
                                    "Nev": "Béres Norbert",
                                    "Kor": "49",
                                    "Átlag": "49"
                                },
                                {
                                    "Nev": "Tömböly Dénes",
                                    "Kor": "49",
                                    "Átlag": "49"
                                },
                                {
                                    "Nev": "Baróti Attila",
                                    "Kor": "49",
                                    "Átlag": "49"
                                },
                                {
                                    "Nev": "Dusha Tímea",
                                    "Kor": "49",
                                    "Átlag": "49"
                                },
                                {
                                    "Nev": "Turcsik Tünde",
                                    "Kor": "50",
                                    "Átlag": "49"
                                },
                                {
                                    "Nev": "Ambrus Dávid",
                                    "Kor": "50",
                                    "Átlag": "49"
                                },
                                {
                                    "Nev": "Mohos Mónika",
                                    "Kor": "50",
                                    "Átlag": "50"
                                },
                                {
                                    "Nev": "Kornseé Gyöngyi",
                                    "Kor": "50",
                                    "Átlag": "50"
                                },
                                {
                                    "Nev": "Köves Gábor",
                                    "Kor": "51",
                                    "Átlag": "50"
                                },
                                {
                                    "Nev": "Bajusz Bence",
                                    "Kor": "51",
                                    "Átlag": "50"
                                },
                                {
                                    "Nev": "Tóth Anikó",
                                    "Kor": "51",
                                    "Átlag": "51"
                                },
                                {
                                    "Nev": "Farkas Sára",
                                    "Kor": "51",
                                    "Átlag": "51"
                                },
                                {
                                    "Nev": "Pásztor Róbert",
                                    "Kor": "52",
                                    "Átlag": "51"
                                },
                                {
                                    "Nev": "Kerényi Beatrix",
                                    "Kor": "52",
                                    "Átlag": "51"
                                },
                                {
                                    "Nev": "Botka Mátyás",
                                    "Kor": "52",
                                    "Átlag": "52"
                                },
                                {
                                    "Nev": "Kő Nikoletta",
                                    "Kor": "52",
                                    "Átlag": "52"
                                },
                                {
                                    "Nev": "Perlinger Éva",
                                    "Kor": "53",
                                    "Átlag": "52"
                                },
                                {
                                    "Nev": "Hamvay-Kovács Anita",
                                    "Kor": "53",
                                    "Átlag": "52"
                                },
                                {
                                    "Nev": "Jakab Áron",
                                    "Kor": "53",
                                    "Átlag": "53"
                                },
                                {
                                    "Nev": "Vígh András",
                                    "Kor": "53",
                                    "Átlag": "53"
                                },
                                {
                                    "Nev": "Tari Szilvia",
                                    "Kor": "53",
                                    "Átlag": "53"
                                },
                                {
                                    "Nev": "Karasz Sándor",
                                    "Kor": "54",
                                    "Átlag": "53"
                                },
                                {
                                    "Nev": "Barkóci Ádám",
                                    "Kor": "54",
                                    "Átlag": "53"
                                },
                                {
                                    "Nev": "Sobják Dávid",
                                    "Kor": "54",
                                    "Átlag": "54"
                                },
                                {
                                    "Nev": "Czérna Krisztián",
                                    "Kor": "54",
                                    "Átlag": "54"
                                },
                                {
                                    "Nev": "Bori Krisztina",
                                    "Kor": "55",
                                    "Átlag": "54"
                                },
                                {
                                    "Nev": "Antal László",
                                    "Kor": "55",
                                    "Átlag": "54"
                                },
                                {
                                    "Nev": "Nagy László",
                                    "Kor": "55",
                                    "Átlag": "55"
                                },
                                {
                                    "Nev": "Szűcs Norbert",
                                    "Kor": "55",
                                    "Átlag": "55"
                                },
                                {
                                    "Nev": "Vida Gabriella",
                                    "Kor": "55",
                                    "Átlag": "55"
                                },
                                {
                                    "Nev": "Keszler Dániel",
                                    "Kor": "55",
                                    "Átlag": "55"
                                },
                                {
                                    "Nev": "Berendi Péter",
                                    "Kor": "55",
                                    "Átlag": "55"
                                },
                                {
                                    "Nev": "Szikszai Réka",
                                    "Kor": "55",
                                    "Átlag": "55"
                                },
                                {
                                    "Nev": "Tóth Roland",
                                    "Kor": "56",
                                    "Átlag": "55"
                                },
                                {
                                    "Nev": "Maródi Andrea",
                                    "Kor": "56",
                                    "Átlag": "55"
                                },
                                {
                                    "Nev": "Gondos Katalin",
                                    "Kor": "56",
                                    "Átlag": "56"
                                },
                                {
                                    "Nev": "Horváth Katalin",
                                    "Kor": "56",
                                    "Átlag": "56"
                                },
                                {
                                    "Nev": "Barabás Pál",
                                    "Kor": "56",
                                    "Átlag": "56"
                                },
                                {
                                    "Nev": "Fő Nándor",
                                    "Kor": "56",
                                    "Átlag": "56"
                                },
                                {
                                    "Nev": "Mogyródi Krisztián",
                                    "Kor": "56",
                                    "Átlag": "56"
                                },
                                {
                                    "Nev": "Farkas László",
                                    "Kor": "57",
                                    "Átlag": "56"
                                },
                                {
                                    "Nev": "Harangozó János",
                                    "Kor": "57",
                                    "Átlag": "56"
                                },
                                {
                                    "Nev": "Bárci Gusztáv",
                                    "Kor": "57",
                                    "Átlag": "57"
                                },
                                {
                                    "Nev": "Hartyánszky Ágnes",
                                    "Kor": "57",
                                    "Átlag": "57"
                                },
                                {
                                    "Nev": "Pivarcsi Anett",
                                    "Kor": "57",
                                    "Átlag": "57"
                                },
                                {
                                    "Nev": "Enyedi Éva",
                                    "Kor": "57",
                                    "Átlag": "57"
                                },
                                {
                                    "Nev": "Iván Róbert",
                                    "Kor": "57",
                                    "Átlag": "57"
                                },
                                {
                                    "Nev": "Szalai Szilárd",
                                    "Kor": "57",
                                    "Átlag": "57"
                                }
                            ]
                        },
                        "text/html": [
                            "<table>",
                            "<tr><th>Nev</th><th>Kor</th><th>Átlag</th></tr>",
                            "<tr><td>Balogh Eszter</td><td>26</td><td>26</td></tr>",
                            "<tr><td>Vukasinovity Bálint</td><td>27</td><td>26</td></tr>",
                            "<tr><td>Tóth András</td><td>27</td><td>26</td></tr>",
                            "<tr><td>Komjáti András</td><td>27</td><td>27</td></tr>",
                            "<tr><td>Erdei András</td><td>27</td><td>27</td></tr>",
                            "<tr><td>Vizi István</td><td>27</td><td>27</td></tr>",
                            "<tr><td>Hídasi Judit</td><td>27</td><td>27</td></tr>",
                            "<tr><td>Nagymihály Lajos</td><td>27</td><td>27</td></tr>",
                            "<tr><td>Horváth Márk</td><td>27</td><td>27</td></tr>",
                            "<tr><td>Koza Máté</td><td>27</td><td>27</td></tr>",
                            "<tr><td>Tatár Nikoletta</td><td>27</td><td>27</td></tr>",
                            "<tr><td>Nagy Sándor</td><td>27</td><td>27</td></tr>",
                            "<tr><td>Fényes Tamás</td><td>27</td><td>27</td></tr>",
                            "<tr><td>Papós Tímea</td><td>28</td><td>27</td></tr>",
                            "<tr><td>Urbán Viktoria</td><td>28</td><td>27</td></tr>",
                            "<tr><td>Kispál Márk</td><td>28</td><td>28</td></tr>",
                            "<tr><td>Frank Fruzsina</td><td>28</td><td>28</td></tr>",
                            "<tr><td>Szomor Andrea</td><td>28</td><td>28</td></tr>",
                            "<tr><td>Horváth Bálint</td><td>28</td><td>28</td></tr>",
                            "<tr><td>Kovács Bernadett</td><td>28</td><td>28</td></tr>",
                            "<tr><td>Farkas Béla</td><td>29</td><td>28</td></tr>",
                            "<tr><td>Opra Attila</td><td>29</td><td>28</td></tr>",
                            "<tr><td>Sarodi Dóra</td><td>29</td><td>29</td></tr>",
                            "<tr><td>Zatykó Katalin</td><td>29</td><td>29</td></tr>",
                            "<tr><td>Gondos Miklós</td><td>29</td><td>29</td></tr>",
                            "<tr><td>Baráth Mária</td><td>29</td><td>29</td></tr>",
                            "<tr><td>Bagi Beáta</td><td>30</td><td>29</td></tr>",
                            "<tr><td>Barta Zsuzsanna</td><td>30</td><td>30</td></tr>",
                            "<tr><td>Palágyi Polla</td><td>30</td><td>30</td></tr>",
                            "<tr><td>Rácz Rajmond</td><td>31</td><td>30</td></tr>",
                            "<tr><td>Gombos Tibor</td><td>31</td><td>30</td></tr>",
                            "<tr><td>Fülöp Eszter</td><td>31</td><td>31</td></tr>",
                            "<tr><td>Kiss Andrea</td><td>31</td><td>31</td></tr>",
                            "<tr><td>Tóth Júlia</td><td>31</td><td>31</td></tr>",
                            "<tr><td>Bagóczki Alexandra</td><td>32</td><td>31</td></tr>",
                            "<tr><td>Bozsik Balázs</td><td>32</td><td>31</td></tr>",
                            "<tr><td>Foltényi Sebastián</td><td>32</td><td>32</td></tr>",
                            "<tr><td>Rab Sebestyén</td><td>32</td><td>32</td></tr>",
                            "<tr><td>Szirmai Renáta</td><td>33</td><td>32</td></tr>",
                            "<tr><td>Kazy Tihamér</td><td>33</td><td>32</td></tr>",
                            "<tr><td>Boros Vivien</td><td>33</td><td>33</td></tr>",
                            "<tr><td>Pataki Brigitta</td><td>33</td><td>33</td></tr>",
                            "<tr><td>Kiss Ádám</td><td>33</td><td>33</td></tr>",
                            "<tr><td>Hegedűs Norbert</td><td>33</td><td>33</td></tr>",
                            "<tr><td>Szabó Julianna</td><td>34</td><td>33</td></tr>",
                            "<tr><td>Szöllősi Gábor</td><td>34</td><td>33</td></tr>",
                            "<tr><td>Bosnyák Ilona</td><td>34</td><td>34</td></tr>",
                            "<tr><td>Ötvös Árpád</td><td>34</td><td>34</td></tr>",
                            "<tr><td>Horváth Árpád</td><td>34</td><td>34</td></tr>",
                            "<tr><td>Szűcs Annamária</td><td>34</td><td>34</td></tr>",
                            "<tr><td>Berta Dávid</td><td>34</td><td>34</td></tr>",
                            "<tr><td>Bodor Szabolcs</td><td>34</td><td>34</td></tr>",
                            "<tr><td>Farkas Sándor</td><td>35</td><td>34</td></tr>",
                            "<tr><td>Keresztúri Viktor</td><td>35</td><td>34</td></tr>",
                            "<tr><td>Kuruc Emese</td><td>35</td><td>35</td></tr>",
                            "<tr><td>Kelemen Áron</td><td>35</td><td>35</td></tr>",
                            "<tr><td>Molnár Bálint</td><td>35</td><td>35</td></tr>",
                            "<tr><td>Varga István</td><td>35</td><td>35</td></tr>",
                            "<tr><td>Kalacsi Márton</td><td>35</td><td>35</td></tr>",
                            "<tr><td>Búza Imre</td><td>36</td><td>35</td></tr>",
                            "<tr><td>Simon Anikó</td><td>36</td><td>35</td></tr>",
                            "<tr><td>Kovács Ágnes</td><td>36</td><td>36</td></tr>",
                            "<tr><td>Pulai Zsolt</td><td>36</td><td>36</td></tr>",
                            "<tr><td>Kardos Renáta</td><td>36</td><td>36</td></tr>",
                            "<tr><td>Bucskó Róza</td><td>36</td><td>36</td></tr>",
                            "<tr><td>Győrffy Bence</td><td>37</td><td>36</td></tr>",
                            "<tr><td>Orbán Bernadett</td><td>37</td><td>36</td></tr>",
                            "<tr><td>Molnár Eszter</td><td>37</td><td>37</td></tr>",
                            "<tr><td>Telek Gábor</td><td>37</td><td>37</td></tr>",
                            "<tr><td>Gyárfás Krisztina</td><td>37</td><td>37</td></tr>",
                            "<tr><td>Kertész Katalin</td><td>38</td><td>37</td></tr>",
                            "<tr><td>Nádudvari Henrik</td><td>38</td><td>37</td></tr>",
                            "<tr><td>Soós István</td><td>38</td><td>38</td></tr>",
                            "<tr><td>Vörös Dániel</td><td>38</td><td>38</td></tr>",
                            "<tr><td>Bakódy Balázs</td><td>38</td><td>38</td></tr>",
                            "<tr><td>Tornyos Andrea</td><td>38</td><td>38</td></tr>",
                            "<tr><td>Móricz Árpád</td><td>38</td><td>38</td></tr>",
                            "<tr><td>Feró Valentin</td><td>38</td><td>38</td></tr>",
                            "<tr><td>Barna Zoltán</td><td>38</td><td>38</td></tr>",
                            "<tr><td>Tóth Zoltán</td><td>39</td><td>38</td></tr>",
                            "<tr><td>Dániel Tibor</td><td>39</td><td>38</td></tr>",
                            "<tr><td>Ferencz Roland</td><td>39</td><td>39</td></tr>",
                            "<tr><td>Bíró Péter</td><td>39</td><td>39</td></tr>",
                            "<tr><td>Gergely József</td><td>39</td><td>39</td></tr>",
                            "<tr><td>Nagy Júlia</td><td>39</td><td>39</td></tr>",
                            "<tr><td>Pálinkás János</td><td>40</td><td>39</td></tr>",
                            "<tr><td>Poprádi Kristóf</td><td>40</td><td>39</td></tr>",
                            "<tr><td>Back András</td><td>40</td><td>40</td></tr>",
                            "<tr><td>Szűcs Balázs</td><td>40</td><td>40</td></tr>",
                            "<tr><td>Simon Bernadett</td><td>40</td><td>40</td></tr>",
                            "<tr><td>Nagymihály Csongor</td><td>40</td><td>40</td></tr>",
                            "<tr><td>Bittmann Edit</td><td>40</td><td>40</td></tr>",
                            "<tr><td>Antal Tamás</td><td>40</td><td>40</td></tr>",
                            "<tr><td>Tankó Veronika</td><td>41</td><td>40</td></tr>",
                            "<tr><td>Szalai Péter</td><td>41</td><td>40</td></tr>",
                            "<tr><td>Molnár Zsófi</td><td>41</td><td>41</td></tr>",
                            "<tr><td>Józsa Zsolt</td><td>41</td><td>41</td></tr>",
                            "<tr><td>Mile Norbert</td><td>41</td><td>41</td></tr>",
                            "<tr><td>Andor Ibolya</td><td>41</td><td>41</td></tr>",
                            "<tr><td>Nyíri Georgij</td><td>41</td><td>41</td></tr>",
                            "<tr><td>Orosz Ferenc</td><td>41</td><td>41</td></tr>",
                            "<tr><td>Nagy Gabriella</td><td>42</td><td>41</td></tr>",
                            "<tr><td>Bakó Klaudia</td><td>42</td><td>41</td></tr>",
                            "<tr><td>Bíró Ákos</td><td>42</td><td>42</td></tr>",
                            "<tr><td>Gulyás Attila</td><td>42</td><td>42</td></tr>",
                            "<tr><td>Neizer Andrea</td><td>43</td><td>42</td></tr>",
                            "<tr><td>Horváth Ágnes</td><td>43</td><td>42</td></tr>",
                            "<tr><td>Szekendi Beatrix</td><td>43</td><td>43</td></tr>",
                            "<tr><td>Horváth Nikolett</td><td>43</td><td>43</td></tr>",
                            "<tr><td>Oroszi György</td><td>44</td><td>43</td></tr>",
                            "<tr><td>Viktor Éva</td><td>44</td><td>43</td></tr>",
                            "<tr><td>Dunai Aladár</td><td>44</td><td>44</td></tr>",
                            "<tr><td>Nagy András</td><td>44</td><td>44</td></tr>",
                            "<tr><td>Pusztai Zsuzsanna</td><td>44</td><td>44</td></tr>",
                            "<tr><td>Miklós Tamara</td><td>44</td><td>44</td></tr>",
                            "<tr><td>Miklós Szabolcs</td><td>44</td><td>44</td></tr>",
                            "<tr><td>Juhász Mihály</td><td>45</td><td>44</td></tr>",
                            "<tr><td>Varsányi Zsuzsa</td><td>45</td><td>44</td></tr>",
                            "<tr><td>Fodor Zoltán</td><td>45</td><td>45</td></tr>",
                            "<tr><td>Lengyel Ágnes</td><td>45</td><td>45</td></tr>",
                            "<tr><td>Csóti Attila</td><td>45</td><td>45</td></tr>",
                            "<tr><td>Balla Miklós</td><td>45</td><td>45</td></tr>",
                            "<tr><td>Szedlár Krisztina</td><td>45</td><td>45</td></tr>",
                            "<tr><td>Kiss Lajos</td><td>46</td><td>45</td></tr>",
                            "<tr><td>Horváth Krisztina</td><td>46</td><td>45</td></tr>",
                            "<tr><td>Székely Brigitta</td><td>46</td><td>46</td></tr>",
                            "<tr><td>Vajda József</td><td>46</td><td>46</td></tr>",
                            "<tr><td>Böröcz Anikó</td><td>46</td><td>46</td></tr>",
                            "<tr><td>Érsek Eszter</td><td>46</td><td>46</td></tr>",
                            "<tr><td>Rácz Dániel</td><td>46</td><td>46</td></tr>",
                            "<tr><td>Csiger Bertalan</td><td>47</td><td>46</td></tr>",
                            "<tr><td>Regős Annamária</td><td>47</td><td>46</td></tr>",
                            "<tr><td>Molnár András</td><td>47</td><td>47</td></tr>",
                            "<tr><td>Pintér Zoltán</td><td>47</td><td>47</td></tr>",
                            "<tr><td>Patay Róbert</td><td>47</td><td>47</td></tr>",
                            "<tr><td>Kozma Péter</td><td>48</td><td>47</td></tr>",
                            "<tr><td>Bozsó Péter</td><td>48</td><td>47</td></tr>",
                            "<tr><td>Vajda Zsuzsa</td><td>48</td><td>48</td></tr>",
                            "<tr><td>Bieniek Ádám</td><td>48</td><td>48</td></tr>",
                            "<tr><td>Endresz Bálint</td><td>48</td><td>48</td></tr>",
                            "<tr><td>Barna Debóra</td><td>48</td><td>48</td></tr>",
                            "<tr><td>Papp Imre</td><td>48</td><td>48</td></tr>",
                            "<tr><td>Gyuris József</td><td>49</td><td>48</td></tr>",
                            "<tr><td>Giliga János</td><td>49</td><td>48</td></tr>",
                            "<tr><td>Lukács Kornél</td><td>49</td><td>49</td></tr>",
                            "<tr><td>Kovács Katalin</td><td>49</td><td>49</td></tr>",
                            "<tr><td>Móra László</td><td>49</td><td>49</td></tr>",
                            "<tr><td>Szilágyi Mátyás</td><td>49</td><td>49</td></tr>",
                            "<tr><td>Béres Norbert</td><td>49</td><td>49</td></tr>",
                            "<tr><td>Tömböly Dénes</td><td>49</td><td>49</td></tr>",
                            "<tr><td>Baróti Attila</td><td>49</td><td>49</td></tr>",
                            "<tr><td>Dusha Tímea</td><td>49</td><td>49</td></tr>",
                            "<tr><td>Turcsik Tünde</td><td>50</td><td>49</td></tr>",
                            "<tr><td>Ambrus Dávid</td><td>50</td><td>49</td></tr>",
                            "<tr><td>Mohos Mónika</td><td>50</td><td>50</td></tr>",
                            "<tr><td>Kornseé Gyöngyi</td><td>50</td><td>50</td></tr>",
                            "<tr><td>Köves Gábor</td><td>51</td><td>50</td></tr>",
                            "<tr><td>Bajusz Bence</td><td>51</td><td>50</td></tr>",
                            "<tr><td>Tóth Anikó</td><td>51</td><td>51</td></tr>",
                            "<tr><td>Farkas Sára</td><td>51</td><td>51</td></tr>",
                            "<tr><td>Pásztor Róbert</td><td>52</td><td>51</td></tr>",
                            "<tr><td>Kerényi Beatrix</td><td>52</td><td>51</td></tr>",
                            "<tr><td>Botka Mátyás</td><td>52</td><td>52</td></tr>",
                            "<tr><td>Kő Nikoletta</td><td>52</td><td>52</td></tr>",
                            "<tr><td>Perlinger Éva</td><td>53</td><td>52</td></tr>",
                            "<tr><td>Hamvay-Kovács Anita</td><td>53</td><td>52</td></tr>",
                            "<tr><td>Jakab Áron</td><td>53</td><td>53</td></tr>",
                            "<tr><td>Vígh András</td><td>53</td><td>53</td></tr>",
                            "<tr><td>Tari Szilvia</td><td>53</td><td>53</td></tr>",
                            "<tr><td>Karasz Sándor</td><td>54</td><td>53</td></tr>",
                            "<tr><td>Barkóci Ádám</td><td>54</td><td>53</td></tr>",
                            "<tr><td>Sobják Dávid</td><td>54</td><td>54</td></tr>",
                            "<tr><td>Czérna Krisztián</td><td>54</td><td>54</td></tr>",
                            "<tr><td>Bori Krisztina</td><td>55</td><td>54</td></tr>",
                            "<tr><td>Antal László</td><td>55</td><td>54</td></tr>",
                            "<tr><td>Nagy László</td><td>55</td><td>55</td></tr>",
                            "<tr><td>Szűcs Norbert</td><td>55</td><td>55</td></tr>",
                            "<tr><td>Vida Gabriella</td><td>55</td><td>55</td></tr>",
                            "<tr><td>Keszler Dániel</td><td>55</td><td>55</td></tr>",
                            "<tr><td>Berendi Péter</td><td>55</td><td>55</td></tr>",
                            "<tr><td>Szikszai Réka</td><td>55</td><td>55</td></tr>",
                            "<tr><td>Tóth Roland</td><td>56</td><td>55</td></tr>",
                            "<tr><td>Maródi Andrea</td><td>56</td><td>55</td></tr>",
                            "<tr><td>Gondos Katalin</td><td>56</td><td>56</td></tr>",
                            "<tr><td>Horváth Katalin</td><td>56</td><td>56</td></tr>",
                            "<tr><td>Barabás Pál</td><td>56</td><td>56</td></tr>",
                            "<tr><td>Fő Nándor</td><td>56</td><td>56</td></tr>",
                            "<tr><td>Mogyródi Krisztián</td><td>56</td><td>56</td></tr>",
                            "<tr><td>Farkas László</td><td>57</td><td>56</td></tr>",
                            "<tr><td>Harangozó János</td><td>57</td><td>56</td></tr>",
                            "<tr><td>Bárci Gusztáv</td><td>57</td><td>57</td></tr>",
                            "<tr><td>Hartyánszky Ágnes</td><td>57</td><td>57</td></tr>",
                            "<tr><td>Pivarcsi Anett</td><td>57</td><td>57</td></tr>",
                            "<tr><td>Enyedi Éva</td><td>57</td><td>57</td></tr>",
                            "<tr><td>Iván Róbert</td><td>57</td><td>57</td></tr>",
                            "<tr><td>Szalai Szilárd</td><td>57</td><td>57</td></tr>",
                            "</table>"
                        ]
                    }
                }
            ],
            "execution_count": 31
        },
        {
            "cell_type": "code",
            "source": [
                "SELECT DISTINCT v.USERNEV, v.NEV\r\n",
                "FROM Vendeg v JOIN Foglalas f ON v.USERNEV = f.UGYFEL_FK \r\n",
                "WHERE v.USERNEV NOT IN (SELECT UGYFEL_FK\r\n",
                "        FROM Foglalas f2 \r\n",
                "        WHERE f2.UGYFEL_FK= v.USERNEV  AND f2.FELNOTT_SZAM + f2.GYERMEK_SZAM <>2)"
            ],
            "metadata": {
                "azdata_cell_guid": "8225c3f2-3c7a-45e5-a840-bfc001bdeb28",
                "language": "sql"
            },
            "outputs": [
{
    "output_type": "display_data",
    "data": {
        "text/html": "(10 rows affected)"
    },
    "metadata": {}
}, {
    "output_type": "display_data",
    "data": {
        "text/html": "Total execution time: 00:00:00.019"
    },
    "metadata": {}
}, {
    "output_type": "execute_result",
    "metadata": {},
    "execution_count": 36,
    "data": {
        "application/vnd.dataresource+json": {
            "schema": {
                "fields": [
                    {
                        "name": "USERNEV"
                    },
                    {
                        "name": "NEV"
                    }
                ]
            },
            "data": [
                {
                    "USERNEV": "MIKLOSB",
                    "NEV": "Balla Miklós"
                },
                {
                    "USERNEV": "andras4",
                    "NEV": "Back András"
                },
                {
                    "USERNEV": "ANDRASN",
                    "NEV": "Nagy András"
                },
                {
                    "USERNEV": "szabolcs",
                    "NEV": "Bodor Szabolcs"
                },
                {
                    "USERNEV": "jozsef",
                    "NEV": "Gergely József"
                },
                {
                    "USERNEV": "kristof4",
                    "NEV": "Poprádi Kristóf"
                },
                {
                    "USERNEV": "tibor2",
                    "NEV": "Dániel Tibor"
                },
                {
                    "USERNEV": "balu",
                    "NEV": "Endresz Bálint"
                },
                {
                    "USERNEV": "timea",
                    "NEV": "Papós Tímea"
                },
                {
                    "USERNEV": "ESZTERE",
                    "NEV": "Érsek Eszter"
                }
            ]
        },
        "text/html": [
            "<table>",
            "<tr><th>USERNEV</th><th>NEV</th></tr>",
            "<tr><td>MIKLOSB</td><td>Balla Miklós</td></tr>",
            "<tr><td>andras4</td><td>Back András</td></tr>",
            "<tr><td>ANDRASN</td><td>Nagy András</td></tr>",
            "<tr><td>szabolcs</td><td>Bodor Szabolcs</td></tr>",
            "<tr><td>jozsef</td><td>Gergely József</td></tr>",
            "<tr><td>kristof4</td><td>Poprádi Kristóf</td></tr>",
            "<tr><td>tibor2</td><td>Dániel Tibor</td></tr>",
            "<tr><td>balu</td><td>Endresz Bálint</td></tr>",
            "<tr><td>timea</td><td>Papós Tímea</td></tr>",
            "<tr><td>ESZTERE</td><td>Érsek Eszter</td></tr>",
            "</table>"
        ]
    }
}
],
            "execution_count": 36
        }
    ]
}