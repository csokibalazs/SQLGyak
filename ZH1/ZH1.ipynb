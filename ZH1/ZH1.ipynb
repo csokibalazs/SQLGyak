{
    "metadata": {
        "kernelspec": {
            "name": "SQL",
            "display_name": "SQL",
            "language": "sql"
        },
        "language_info": {
            "name": "sql",
            "version": ""
        }
    },
    "nbformat_minor": 2,
    "nbformat": 4,
    "cells": [
        {
            "cell_type": "code",
            "source": [
                "SELECT FOGLALAS_PK, METTOL, DATEADD(month, 1, METTOL) AS 'Módosított kezdődátum'\r\n",
                "FROM foglalas\r\n",
                "WHERE UGYFEL_FK = 'emese'\r\n",
                ""
            ],
            "metadata": {
                "azdata_cell_guid": "b763e9ae-dceb-4f45-b6fc-cad6e0650ef8",
                "language": "sql"
            },
            "outputs": [
                {
                    "output_type": "display_data",
                    "data": {
                        "text/html": "(7 rows affected)"
                    },
                    "metadata": {}
                },
                {
                    "output_type": "display_data",
                    "data": {
                        "text/html": "Total execution time: 00:00:00.002"
                    },
                    "metadata": {}
                },
                {
                    "output_type": "execute_result",
                    "metadata": {},
                    "execution_count": 8,
                    "data": {
                        "application/vnd.dataresource+json": {
                            "schema": {
                                "fields": [
                                    {
                                        "name": "FOGLALAS_PK"
                                    },
                                    {
                                        "name": "METTOL"
                                    },
                                    {
                                        "name": "Módosított kezdődátum"
                                    }
                                ]
                            },
                            "data": [
                                {
                                    "FOGLALAS_PK": "706",
                                    "METTOL": "2016-07-22",
                                    "Módosított kezdődátum": "2016-08-22"
                                },
                                {
                                    "FOGLALAS_PK": "765",
                                    "METTOL": "2016-08-09",
                                    "Módosított kezdődátum": "2016-09-09"
                                },
                                {
                                    "FOGLALAS_PK": "1083",
                                    "METTOL": "2016-09-27",
                                    "Módosított kezdődátum": "2016-10-27"
                                },
                                {
                                    "FOGLALAS_PK": "1250",
                                    "METTOL": "2016-11-05",
                                    "Módosított kezdődátum": "2016-12-05"
                                },
                                {
                                    "FOGLALAS_PK": "1313",
                                    "METTOL": "2016-11-23",
                                    "Módosított kezdődátum": "2016-12-23"
                                },
                                {
                                    "FOGLALAS_PK": "1354",
                                    "METTOL": "2016-12-07",
                                    "Módosított kezdődátum": "2017-01-07"
                                },
                                {
                                    "FOGLALAS_PK": "1484",
                                    "METTOL": "2017-01-30",
                                    "Módosított kezdődátum": "2017-02-28"
                                }
                            ]
                        },
                        "text/html": [
                            "<table>",
                            "<tr><th>FOGLALAS_PK</th><th>METTOL</th><th>Módosított kezdődátum</th></tr>",
                            "<tr><td>706</td><td>2016-07-22</td><td>2016-08-22</td></tr>",
                            "<tr><td>765</td><td>2016-08-09</td><td>2016-09-09</td></tr>",
                            "<tr><td>1083</td><td>2016-09-27</td><td>2016-10-27</td></tr>",
                            "<tr><td>1250</td><td>2016-11-05</td><td>2016-12-05</td></tr>",
                            "<tr><td>1313</td><td>2016-11-23</td><td>2016-12-23</td></tr>",
                            "<tr><td>1354</td><td>2016-12-07</td><td>2017-01-07</td></tr>",
                            "<tr><td>1484</td><td>2017-01-30</td><td>2017-02-28</td></tr>",
                            "</table>"
                        ]
                    }
                }
            ],
            "execution_count": 8
        },
        {
            "cell_type": "code",
            "source": [
                "SELECT szh.TIPUS, ROUND(COUNT(*), -2) AS 'Foglalás szám'\r\n",
                "FROM Foglalas f JOIN Szoba sz ON f.SZOBA_FK = sz.SZOBA_ID\r\n",
                "                JOIN Szallashely szh ON sz.SZALLAS_FK = szh.SZALLAS_ID\r\n",
                "GROUP BY szh.TIPUS \r\n",
                "HAVING ROUND(COUNT(*), -2) < 500"
            ],
            "metadata": {
                "azdata_cell_guid": "e67ff011-6ef8-4c5c-941a-02aef2d517c9",
                "language": "sql",
                "tags": []
            },
            "outputs": [
                {
                    "output_type": "display_data",
                    "data": {
                        "text/html": "(3 rows affected)"
                    },
                    "metadata": {}
                },
                {
                    "output_type": "display_data",
                    "data": {
                        "text/html": "Total execution time: 00:00:00.019"
                    },
                    "metadata": {}
                },
                {
                    "output_type": "execute_result",
                    "metadata": {},
                    "execution_count": 34,
                    "data": {
                        "application/vnd.dataresource+json": {
                            "schema": {
                                "fields": [
                                    {
                                        "name": "TIPUS"
                                    },
                                    {
                                        "name": "Foglalás szám"
                                    }
                                ]
                            },
                            "data": [
                                {
                                    "TIPUS": "Apartman",
                                    "Foglalás szám": "100"
                                },
                                {
                                    "TIPUS": "vendégház",
                                    "Foglalás szám": "100"
                                },
                                {
                                    "TIPUS": "panzió",
                                    "Foglalás szám": "200"
                                }
                            ]
                        },
                        "text/html": [
                            "<table>",
                            "<tr><th>TIPUS</th><th>Foglalás szám</th></tr>",
                            "<tr><td>Apartman</td><td>100</td></tr>",
                            "<tr><td>vendégház</td><td>100</td></tr>",
                            "<tr><td>panzió</td><td>200</td></tr>",
                            "</table>"
                        ]
                    }
                }
            ],
            "execution_count": 34
        },
        {
            "cell_type": "code",
            "source": [
                "SELECT SZOBA_SZAMA, LEFT(METTOL, 4) AS 'Évszám', COUNT(*) AS 'Foglalások száma'\r\n",
                "FROM Foglalas JOIN Szoba ON Foglalas.SZOBA_FK = Szoba.SZOBA_ID\r\n",
                "WHERE SZOBA_SZAMA%2 = 1\r\n",
                "GROUP BY SZOBA_SZAMA, LEFT(METTOL, 4)\r\n",
                "HAVING COUNT(*) > 10"
            ],
            "metadata": {
                "azdata_cell_guid": "aa648940-4a75-46fe-af03-6f2f07391f39",
                "language": "sql"
            },
            "outputs": [
{
    "output_type": "display_data",
    "data": {
        "text/html": "(18 rows affected)"
    },
    "metadata": {}
}, {
    "output_type": "display_data",
    "data": {
        "text/html": "Total execution time: 00:00:00.015"
    },
    "metadata": {}
}, {
    "output_type": "execute_result",
    "metadata": {},
    "execution_count": 38,
    "data": {
        "application/vnd.dataresource+json": {
            "schema": {
                "fields": [
                    {
                        "name": "SZOBA_SZAMA"
                    },
                    {
                        "name": "Évszám"
                    },
                    {
                        "name": "Foglalások száma"
                    }
                ]
            },
            "data": [
                {
                    "SZOBA_SZAMA": "1",
                    "Évszám": "2016",
                    "Foglalások száma": "52"
                },
                {
                    "SZOBA_SZAMA": "11",
                    "Évszám": "2016",
                    "Foglalások száma": "22"
                },
                {
                    "SZOBA_SZAMA": "13",
                    "Évszám": "2016",
                    "Foglalások száma": "14"
                },
                {
                    "SZOBA_SZAMA": "15",
                    "Évszám": "2016",
                    "Foglalások száma": "16"
                },
                {
                    "SZOBA_SZAMA": "17",
                    "Évszám": "2016",
                    "Foglalások száma": "16"
                },
                {
                    "SZOBA_SZAMA": "19",
                    "Évszám": "2016",
                    "Foglalások száma": "14"
                },
                {
                    "SZOBA_SZAMA": "21",
                    "Évszám": "2016",
                    "Foglalások száma": "29"
                },
                {
                    "SZOBA_SZAMA": "23",
                    "Évszám": "2016",
                    "Foglalások száma": "18"
                },
                {
                    "SZOBA_SZAMA": "25",
                    "Évszám": "2016",
                    "Foglalások száma": "17"
                },
                {
                    "SZOBA_SZAMA": "27",
                    "Évszám": "2016",
                    "Foglalások száma": "12"
                },
                {
                    "SZOBA_SZAMA": "29",
                    "Évszám": "2016",
                    "Foglalások száma": "15"
                },
                {
                    "SZOBA_SZAMA": "3",
                    "Évszám": "2016",
                    "Foglalások száma": "53"
                },
                {
                    "SZOBA_SZAMA": "31",
                    "Évszám": "2016",
                    "Foglalások száma": "19"
                },
                {
                    "SZOBA_SZAMA": "33",
                    "Évszám": "2016",
                    "Foglalások száma": "17"
                },
                {
                    "SZOBA_SZAMA": "5",
                    "Évszám": "2016",
                    "Foglalások száma": "53"
                },
                {
                    "SZOBA_SZAMA": "7",
                    "Évszám": "2016",
                    "Foglalások száma": "32"
                },
                {
                    "SZOBA_SZAMA": "9",
                    "Évszám": "2016",
                    "Foglalások száma": "41"
                },
                {
                    "SZOBA_SZAMA": "3",
                    "Évszám": "2017",
                    "Foglalások száma": "12"
                }
            ]
        },
        "text/html": [
            "<table>",
            "<tr><th>SZOBA_SZAMA</th><th>Évszám</th><th>Foglalások száma</th></tr>",
            "<tr><td>1</td><td>2016</td><td>52</td></tr>",
            "<tr><td>11</td><td>2016</td><td>22</td></tr>",
            "<tr><td>13</td><td>2016</td><td>14</td></tr>",
            "<tr><td>15</td><td>2016</td><td>16</td></tr>",
            "<tr><td>17</td><td>2016</td><td>16</td></tr>",
            "<tr><td>19</td><td>2016</td><td>14</td></tr>",
            "<tr><td>21</td><td>2016</td><td>29</td></tr>",
            "<tr><td>23</td><td>2016</td><td>18</td></tr>",
            "<tr><td>25</td><td>2016</td><td>17</td></tr>",
            "<tr><td>27</td><td>2016</td><td>12</td></tr>",
            "<tr><td>29</td><td>2016</td><td>15</td></tr>",
            "<tr><td>3</td><td>2016</td><td>53</td></tr>",
            "<tr><td>31</td><td>2016</td><td>19</td></tr>",
            "<tr><td>33</td><td>2016</td><td>17</td></tr>",
            "<tr><td>5</td><td>2016</td><td>53</td></tr>",
            "<tr><td>7</td><td>2016</td><td>32</td></tr>",
            "<tr><td>9</td><td>2016</td><td>41</td></tr>",
            "<tr><td>3</td><td>2017</td><td>12</td></tr>",
            "</table>"
        ]
    }
}
],
            "execution_count": 38
        }
    ]
}