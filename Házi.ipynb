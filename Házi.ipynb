{
    "metadata": {
        "kernelspec": {
            "name": "SQL",
            "display_name": "SQL",
            "language": "sql"
        },
        "language_info": {
            "name": "sql",
            "version": ""
        }
    },
    "nbformat_minor": 2,
    "nbformat": 4,
    "cells": [
        {
            "cell_type": "markdown",
            "source": [
                "Dvd tábla stilus oszlopának adatprofilozása"
            ],
            "metadata": {
                "azdata_cell_guid": "0886be66-d290-4e92-8094-abd4156b5c79"
            },
            "attachments": {}
        },
        {
            "cell_type": "code",
            "source": [
                "SELECT stilus, COUNT(*) AS 'Darab'\r\n",
                "FROM dvd\r\n",
                "WHERE stilus IS NOT null\r\n",
                "GROUP BY stilus\r\n",
                "ORDER BY 'Darab' DESC\r\n",
                ""
            ],
            "metadata": {
                "azdata_cell_guid": "292468c0-7565-447a-a762-b87b7048275e",
                "language": "sql"
            },
            "outputs": [
                {
                    "output_type": "display_data",
                    "data": {
                        "text/html": "(47 rows affected)"
                    },
                    "metadata": {}
                },
                {
                    "output_type": "display_data",
                    "data": {
                        "text/html": "Total execution time: 00:00:00.249"
                    },
                    "metadata": {}
                },
                {
                    "output_type": "execute_result",
                    "metadata": {},
                    "execution_count": 16,
                    "data": {
                        "application/vnd.dataresource+json": {
                            "schema": {
                                "fields": [
                                    {
                                        "name": "stilus"
                                    },
                                    {
                                        "name": "Darab"
                                    }
                                ]
                            },
                            "data": [
                                {
                                    "stilus": "játék",
                                    "Darab": "60"
                                },
                                {
                                    "stilus": "ismeretterjesztő",
                                    "Darab": "46"
                                },
                                {
                                    "stilus": "nyelvtanító",
                                    "Darab": "42"
                                },
                                {
                                    "stilus": "történelem",
                                    "Darab": "41"
                                },
                                {
                                    "stilus": "irodalom",
                                    "Darab": "16"
                                },
                                {
                                    "stilus": "földrajz",
                                    "Darab": "16"
                                },
                                {
                                    "stilus": "matematika",
                                    "Darab": "9"
                                },
                                {
                                    "stilus": "csillagászat",
                                    "Darab": "7"
                                },
                                {
                                    "stilus": "szótár",
                                    "Darab": "7"
                                },
                                {
                                    "stilus": "zene",
                                    "Darab": "6"
                                },
                                {
                                    "stilus": "felvételi",
                                    "Darab": "6"
                                },
                                {
                                    "stilus": "biológia",
                                    "Darab": "5"
                                },
                                {
                                    "stilus": "gasztronómia",
                                    "Darab": "4"
                                },
                                {
                                    "stilus": "művészet",
                                    "Darab": "4"
                                },
                                {
                                    "stilus": "játék (autóverseny)",
                                    "Darab": "4"
                                },
                                {
                                    "stilus": "játék (labdarúgás)",
                                    "Darab": "3"
                                },
                                {
                                    "stilus": "állattan",
                                    "Darab": "3"
                                },
                                {
                                    "stilus": "fizika",
                                    "Darab": "3"
                                },
                                {
                                    "stilus": "nyelvtan",
                                    "Darab": "3"
                                },
                                {
                                    "stilus": "számítástechnika",
                                    "Darab": "3"
                                },
                                {
                                    "stilus": "festészet",
                                    "Darab": "2"
                                },
                                {
                                    "stilus": "filmtörténet",
                                    "Darab": "2"
                                },
                                {
                                    "stilus": "fordító program",
                                    "Darab": "1"
                                },
                                {
                                    "stilus": "ásványtan",
                                    "Darab": "1"
                                },
                                {
                                    "stilus": "betűtípusok",
                                    "Darab": "1"
                                },
                                {
                                    "stilus": "gépírás",
                                    "Darab": "1"
                                },
                                {
                                    "stilus": "hadtudomány",
                                    "Darab": "1"
                                },
                                {
                                    "stilus": "humor",
                                    "Darab": "1"
                                },
                                {
                                    "stilus": "irodalom, nyelv",
                                    "Darab": "1"
                                },
                                {
                                    "stilus": "ismeretterjesztő + játék",
                                    "Darab": "1"
                                },
                                {
                                    "stilus": "játék (repülős)",
                                    "Darab": "1"
                                },
                                {
                                    "stilus": "játék (rodeó)",
                                    "Darab": "1"
                                },
                                {
                                    "stilus": "játék (történelmi)",
                                    "Darab": "1"
                                },
                                {
                                    "stilus": "játék, sakk",
                                    "Darab": "1"
                                },
                                {
                                    "stilus": "kémia",
                                    "Darab": "1"
                                },
                                {
                                    "stilus": "kerttervező",
                                    "Darab": "1"
                                },
                                {
                                    "stilus": "környezetvédelem",
                                    "Darab": "1"
                                },
                                {
                                    "stilus": "kresz",
                                    "Darab": "1"
                                },
                                {
                                    "stilus": "lakástervező",
                                    "Darab": "1"
                                },
                                {
                                    "stilus": "játék (jégkorong)",
                                    "Darab": "1"
                                },
                                {
                                    "stilus": "játék - autós",
                                    "Darab": "1"
                                },
                                {
                                    "stilus": "növénytan",
                                    "Darab": "1"
                                },
                                {
                                    "stilus": "matematika, nyelvtan",
                                    "Darab": "1"
                                },
                                {
                                    "stilus": "múvészet",
                                    "Darab": "1"
                                },
                                {
                                    "stilus": "színház",
                                    "Darab": "1"
                                },
                                {
                                    "stilus": "régészet",
                                    "Darab": "1"
                                },
                                {
                                    "stilus": "sport",
                                    "Darab": "1"
                                }
                            ]
                        },
                        "text/html": [
                            "<table>",
                            "<tr><th>stilus</th><th>Darab</th></tr>",
                            "<tr><td>játék</td><td>60</td></tr>",
                            "<tr><td>ismeretterjesztő</td><td>46</td></tr>",
                            "<tr><td>nyelvtanító</td><td>42</td></tr>",
                            "<tr><td>történelem</td><td>41</td></tr>",
                            "<tr><td>irodalom</td><td>16</td></tr>",
                            "<tr><td>földrajz</td><td>16</td></tr>",
                            "<tr><td>matematika</td><td>9</td></tr>",
                            "<tr><td>csillagászat</td><td>7</td></tr>",
                            "<tr><td>szótár</td><td>7</td></tr>",
                            "<tr><td>zene</td><td>6</td></tr>",
                            "<tr><td>felvételi</td><td>6</td></tr>",
                            "<tr><td>biológia</td><td>5</td></tr>",
                            "<tr><td>gasztronómia</td><td>4</td></tr>",
                            "<tr><td>művészet</td><td>4</td></tr>",
                            "<tr><td>játék (autóverseny)</td><td>4</td></tr>",
                            "<tr><td>játék (labdarúgás)</td><td>3</td></tr>",
                            "<tr><td>állattan</td><td>3</td></tr>",
                            "<tr><td>fizika</td><td>3</td></tr>",
                            "<tr><td>nyelvtan</td><td>3</td></tr>",
                            "<tr><td>számítástechnika</td><td>3</td></tr>",
                            "<tr><td>festészet</td><td>2</td></tr>",
                            "<tr><td>filmtörténet</td><td>2</td></tr>",
                            "<tr><td>fordító program</td><td>1</td></tr>",
                            "<tr><td>ásványtan</td><td>1</td></tr>",
                            "<tr><td>betűtípusok</td><td>1</td></tr>",
                            "<tr><td>gépírás</td><td>1</td></tr>",
                            "<tr><td>hadtudomány</td><td>1</td></tr>",
                            "<tr><td>humor</td><td>1</td></tr>",
                            "<tr><td>irodalom, nyelv</td><td>1</td></tr>",
                            "<tr><td>ismeretterjesztő + játék</td><td>1</td></tr>",
                            "<tr><td>játék (repülős)</td><td>1</td></tr>",
                            "<tr><td>játék (rodeó)</td><td>1</td></tr>",
                            "<tr><td>játék (történelmi)</td><td>1</td></tr>",
                            "<tr><td>játék, sakk</td><td>1</td></tr>",
                            "<tr><td>kémia</td><td>1</td></tr>",
                            "<tr><td>kerttervező</td><td>1</td></tr>",
                            "<tr><td>környezetvédelem</td><td>1</td></tr>",
                            "<tr><td>kresz</td><td>1</td></tr>",
                            "<tr><td>lakástervező</td><td>1</td></tr>",
                            "<tr><td>játék (jégkorong)</td><td>1</td></tr>",
                            "<tr><td>játék - autós</td><td>1</td></tr>",
                            "<tr><td>növénytan</td><td>1</td></tr>",
                            "<tr><td>matematika, nyelvtan</td><td>1</td></tr>",
                            "<tr><td>múvészet</td><td>1</td></tr>",
                            "<tr><td>színház</td><td>1</td></tr>",
                            "<tr><td>régészet</td><td>1</td></tr>",
                            "<tr><td>sport</td><td>1</td></tr>",
                            "</table>"
                        ]
                    }
                }
            ],
            "execution_count": 16
        },
        {
            "cell_type": "code",
            "source": [
                "SELECT tipus,\r\n",
                "    COUNT(*)\r\n",
                "FROM \r\n",
                "    (SELECT \r\n",
                "        CASE WHEN stilus IS NULL THEN 'Null'\r\n",
                "            WHEN LEN(stilus) = 0 THEN 'Üres'\r\n",
                "            ELSE 'Nem üres' \r\n",
                "            END AS tipus\r\n",
                "        FROM dvd) sorok\r\n",
                "GROUP BY tipus"
            ],
            "metadata": {
                "azdata_cell_guid": "d8444c51-e1ea-4d73-b3e4-dd50ba4485c7",
                "language": "sql"
            },
            "outputs": [
                {
                    "output_type": "display_data",
                    "data": {
                        "text/html": "(2 rows affected)"
                    },
                    "metadata": {}
                },
                {
                    "output_type": "display_data",
                    "data": {
                        "text/html": "Total execution time: 00:00:00.262"
                    },
                    "metadata": {}
                },
                {
                    "output_type": "execute_result",
                    "metadata": {},
                    "execution_count": 23,
                    "data": {
                        "application/vnd.dataresource+json": {
                            "schema": {
                                "fields": [
                                    {
                                        "name": "tipus"
                                    },
                                    {
                                        "name": "(No column name)"
                                    }
                                ]
                            },
                            "data": [
                                {
                                    "tipus": "Nem üres",
                                    "(No column name)": "317"
                                },
                                {
                                    "tipus": "Null",
                                    "(No column name)": "1"
                                }
                            ]
                        },
                        "text/html": [
                            "<table>",
                            "<tr><th>tipus</th><th>(No column name)</th></tr>",
                            "<tr><td>Nem üres</td><td>317</td></tr>",
                            "<tr><td>Null</td><td>1</td></tr>",
                            "</table>"
                        ]
                    }
                }
            ],
            "execution_count": 23
        },
        {
            "cell_type": "code",
            "source": [
                "SELECT stilus, len(stilus) AS 'HOSSZ'\r\n",
                "FROM dvd\r\n",
                "WHERE stilus IS NOT null\r\n",
                "GROUP BY stilus\r\n",
                "ORDER BY 2"
            ],
            "metadata": {
                "azdata_cell_guid": "f45b94f9-64c3-4f49-b05c-c4dac10b7cf4",
                "language": "sql"
            },
            "outputs": [
                {
                    "output_type": "display_data",
                    "data": {
                        "text/html": "(47 rows affected)"
                    },
                    "metadata": {}
                },
                {
                    "output_type": "display_data",
                    "data": {
                        "text/html": "Total execution time: 00:00:00.632"
                    },
                    "metadata": {}
                },
                {
                    "output_type": "execute_result",
                    "metadata": {},
                    "execution_count": 28,
                    "data": {
                        "application/vnd.dataresource+json": {
                            "schema": {
                                "fields": [
                                    {
                                        "name": "stilus"
                                    },
                                    {
                                        "name": "HOSSZ"
                                    }
                                ]
                            },
                            "data": [
                                {
                                    "stilus": "zene",
                                    "HOSSZ": "4"
                                },
                                {
                                    "stilus": "sport",
                                    "HOSSZ": "5"
                                },
                                {
                                    "stilus": "humor",
                                    "HOSSZ": "5"
                                },
                                {
                                    "stilus": "játék",
                                    "HOSSZ": "5"
                                },
                                {
                                    "stilus": "kémia",
                                    "HOSSZ": "5"
                                },
                                {
                                    "stilus": "kresz",
                                    "HOSSZ": "5"
                                },
                                {
                                    "stilus": "fizika",
                                    "HOSSZ": "6"
                                },
                                {
                                    "stilus": "szótár",
                                    "HOSSZ": "6"
                                },
                                {
                                    "stilus": "színház",
                                    "HOSSZ": "7"
                                },
                                {
                                    "stilus": "gépírás",
                                    "HOSSZ": "7"
                                },
                                {
                                    "stilus": "földrajz",
                                    "HOSSZ": "8"
                                },
                                {
                                    "stilus": "irodalom",
                                    "HOSSZ": "8"
                                },
                                {
                                    "stilus": "állattan",
                                    "HOSSZ": "8"
                                },
                                {
                                    "stilus": "biológia",
                                    "HOSSZ": "8"
                                },
                                {
                                    "stilus": "múvészet",
                                    "HOSSZ": "8"
                                },
                                {
                                    "stilus": "művészet",
                                    "HOSSZ": "8"
                                },
                                {
                                    "stilus": "régészet",
                                    "HOSSZ": "8"
                                },
                                {
                                    "stilus": "nyelvtan",
                                    "HOSSZ": "8"
                                },
                                {
                                    "stilus": "növénytan",
                                    "HOSSZ": "9"
                                },
                                {
                                    "stilus": "ásványtan",
                                    "HOSSZ": "9"
                                },
                                {
                                    "stilus": "felvételi",
                                    "HOSSZ": "9"
                                },
                                {
                                    "stilus": "festészet",
                                    "HOSSZ": "9"
                                },
                                {
                                    "stilus": "matematika",
                                    "HOSSZ": "10"
                                },
                                {
                                    "stilus": "történelem",
                                    "HOSSZ": "10"
                                },
                                {
                                    "stilus": "nyelvtanító",
                                    "HOSSZ": "11"
                                },
                                {
                                    "stilus": "kerttervező",
                                    "HOSSZ": "11"
                                },
                                {
                                    "stilus": "játék, sakk",
                                    "HOSSZ": "11"
                                },
                                {
                                    "stilus": "betűtípusok",
                                    "HOSSZ": "11"
                                },
                                {
                                    "stilus": "hadtudomány",
                                    "HOSSZ": "11"
                                },
                                {
                                    "stilus": "gasztronómia",
                                    "HOSSZ": "12"
                                },
                                {
                                    "stilus": "csillagászat",
                                    "HOSSZ": "12"
                                },
                                {
                                    "stilus": "filmtörténet",
                                    "HOSSZ": "12"
                                },
                                {
                                    "stilus": "lakástervező",
                                    "HOSSZ": "12"
                                },
                                {
                                    "stilus": "játék (rodeó)",
                                    "HOSSZ": "13"
                                },
                                {
                                    "stilus": "játék - autós",
                                    "HOSSZ": "13"
                                },
                                {
                                    "stilus": "játék (repülős)",
                                    "HOSSZ": "15"
                                },
                                {
                                    "stilus": "fordító program",
                                    "HOSSZ": "15"
                                },
                                {
                                    "stilus": "irodalom, nyelv",
                                    "HOSSZ": "15"
                                },
                                {
                                    "stilus": "ismeretterjesztő",
                                    "HOSSZ": "16"
                                },
                                {
                                    "stilus": "környezetvédelem",
                                    "HOSSZ": "16"
                                },
                                {
                                    "stilus": "számítástechnika",
                                    "HOSSZ": "16"
                                },
                                {
                                    "stilus": "játék (jégkorong)",
                                    "HOSSZ": "17"
                                },
                                {
                                    "stilus": "játék (labdarúgás)",
                                    "HOSSZ": "18"
                                },
                                {
                                    "stilus": "játék (történelmi)",
                                    "HOSSZ": "18"
                                },
                                {
                                    "stilus": "játék (autóverseny)",
                                    "HOSSZ": "19"
                                },
                                {
                                    "stilus": "matematika, nyelvtan",
                                    "HOSSZ": "20"
                                },
                                {
                                    "stilus": "ismeretterjesztő + játék",
                                    "HOSSZ": "24"
                                }
                            ]
                        },
                        "text/html": [
                            "<table>",
                            "<tr><th>stilus</th><th>HOSSZ</th></tr>",
                            "<tr><td>zene</td><td>4</td></tr>",
                            "<tr><td>sport</td><td>5</td></tr>",
                            "<tr><td>humor</td><td>5</td></tr>",
                            "<tr><td>játék</td><td>5</td></tr>",
                            "<tr><td>kémia</td><td>5</td></tr>",
                            "<tr><td>kresz</td><td>5</td></tr>",
                            "<tr><td>fizika</td><td>6</td></tr>",
                            "<tr><td>szótár</td><td>6</td></tr>",
                            "<tr><td>színház</td><td>7</td></tr>",
                            "<tr><td>gépírás</td><td>7</td></tr>",
                            "<tr><td>földrajz</td><td>8</td></tr>",
                            "<tr><td>irodalom</td><td>8</td></tr>",
                            "<tr><td>állattan</td><td>8</td></tr>",
                            "<tr><td>biológia</td><td>8</td></tr>",
                            "<tr><td>múvészet</td><td>8</td></tr>",
                            "<tr><td>művészet</td><td>8</td></tr>",
                            "<tr><td>régészet</td><td>8</td></tr>",
                            "<tr><td>nyelvtan</td><td>8</td></tr>",
                            "<tr><td>növénytan</td><td>9</td></tr>",
                            "<tr><td>ásványtan</td><td>9</td></tr>",
                            "<tr><td>felvételi</td><td>9</td></tr>",
                            "<tr><td>festészet</td><td>9</td></tr>",
                            "<tr><td>matematika</td><td>10</td></tr>",
                            "<tr><td>történelem</td><td>10</td></tr>",
                            "<tr><td>nyelvtanító</td><td>11</td></tr>",
                            "<tr><td>kerttervező</td><td>11</td></tr>",
                            "<tr><td>játék, sakk</td><td>11</td></tr>",
                            "<tr><td>betűtípusok</td><td>11</td></tr>",
                            "<tr><td>hadtudomány</td><td>11</td></tr>",
                            "<tr><td>gasztronómia</td><td>12</td></tr>",
                            "<tr><td>csillagászat</td><td>12</td></tr>",
                            "<tr><td>filmtörténet</td><td>12</td></tr>",
                            "<tr><td>lakástervező</td><td>12</td></tr>",
                            "<tr><td>játék (rodeó)</td><td>13</td></tr>",
                            "<tr><td>játék - autós</td><td>13</td></tr>",
                            "<tr><td>játék (repülős)</td><td>15</td></tr>",
                            "<tr><td>fordító program</td><td>15</td></tr>",
                            "<tr><td>irodalom, nyelv</td><td>15</td></tr>",
                            "<tr><td>ismeretterjesztő</td><td>16</td></tr>",
                            "<tr><td>környezetvédelem</td><td>16</td></tr>",
                            "<tr><td>számítástechnika</td><td>16</td></tr>",
                            "<tr><td>játék (jégkorong)</td><td>17</td></tr>",
                            "<tr><td>játék (labdarúgás)</td><td>18</td></tr>",
                            "<tr><td>játék (történelmi)</td><td>18</td></tr>",
                            "<tr><td>játék (autóverseny)</td><td>19</td></tr>",
                            "<tr><td>matematika, nyelvtan</td><td>20</td></tr>",
                            "<tr><td>ismeretterjesztő + játék</td><td>24</td></tr>",
                            "</table>"
                        ]
                    }
                }
            ],
            "execution_count": 28
        },
        {
            "cell_type": "markdown",
            "source": [
                "Dvd tábla lang oszlopának adatprofilozása"
            ],
            "metadata": {
                "azdata_cell_guid": "ca86723d-2b29-458e-8b17-06a4913a4b37"
            },
            "attachments": {}
        },
        {
            "cell_type": "code",
            "source": [
                "SELECT MIN(lang) AS Minimum, \r\n",
                "       MAX(lang) AS Maximum, \r\n",
                "       AVG(lang) AS Átlag,  \r\n",
                "       VAR(lang) AS Eltérés\r\n",
                "FROM dvd\r\n",
                "WHERE lang IS NOT NULL"
            ],
            "metadata": {
                "azdata_cell_guid": "1711305a-3371-4982-9dc4-8399219796ea",
                "language": "sql",
                "tags": []
            },
            "outputs": [
                {
                    "output_type": "display_data",
                    "data": {
                        "text/html": "(1 row affected)"
                    },
                    "metadata": {}
                },
                {
                    "output_type": "display_data",
                    "data": {
                        "text/html": "Total execution time: 00:00:00.192"
                    },
                    "metadata": {}
                },
                {
                    "output_type": "execute_result",
                    "metadata": {},
                    "execution_count": 32,
                    "data": {
                        "application/vnd.dataresource+json": {
                            "schema": {
                                "fields": [
                                    {
                                        "name": "Minimum"
                                    },
                                    {
                                        "name": "Maximum"
                                    },
                                    {
                                        "name": "Átlag"
                                    },
                                    {
                                        "name": "Eltérés"
                                    }
                                ]
                            },
                            "data": [
                                {
                                    "Minimum": "1",
                                    "Maximum": "8",
                                    "Átlag": "1,6253968253968254",
                                    "Eltérés": "1,4069962592255585"
                                }
                            ]
                        },
                        "text/html": [
                            "<table>",
                            "<tr><th>Minimum</th><th>Maximum</th><th>Átlag</th><th>Eltérés</th></tr>",
                            "<tr><td>1</td><td>8</td><td>1,6253968253968254</td><td>1,4069962592255585</td></tr>",
                            "</table>"
                        ]
                    }
                }
            ],
            "execution_count": 32
        },
        {
            "cell_type": "code",
            "source": [
                "SELECT lang, COUNT(*)\r\n",
                "FROM dvd\r\n",
                "GROUP BY lang\r\n",
                "ORDER BY COUNT(*)"
            ],
            "metadata": {
                "language": "sql",
                "azdata_cell_guid": "6c3684d4-145a-47ce-bb7d-1b3ed963186b",
                "tags": [
                    "hide_input"
                ]
            },
            "outputs": [
                {
                    "output_type": "display_data",
                    "data": {
                        "text/html": "(9 rows affected)"
                    },
                    "metadata": {}
                },
                {
                    "output_type": "display_data",
                    "data": {
                        "text/html": "Total execution time: 00:00:00.030"
                    },
                    "metadata": {}
                },
                {
                    "output_type": "execute_result",
                    "metadata": {},
                    "execution_count": 34,
                    "data": {
                        "application/vnd.dataresource+json": {
                            "schema": {
                                "fields": [
                                    {
                                        "name": "lang"
                                    },
                                    {
                                        "name": "(No column name)"
                                    }
                                ]
                            },
                            "data": [
                                {
                                    "lang": "8",
                                    "(No column name)": "1"
                                },
                                {
                                    "lang": "5",
                                    "(No column name)": "2"
                                },
                                {
                                    "lang": "NULL",
                                    "(No column name)": "3"
                                },
                                {
                                    "lang": "6",
                                    "(No column name)": "5"
                                },
                                {
                                    "lang": "7",
                                    "(No column name)": "5"
                                },
                                {
                                    "lang": "4",
                                    "(No column name)": "5"
                                },
                                {
                                    "lang": "3",
                                    "(No column name)": "11"
                                },
                                {
                                    "lang": "2",
                                    "(No column name)": "90"
                                },
                                {
                                    "lang": "1",
                                    "(No column name)": "196"
                                }
                            ]
                        },
                        "text/html": [
                            "<table>",
                            "<tr><th>lang</th><th>(No column name)</th></tr>",
                            "<tr><td>8</td><td>1</td></tr>",
                            "<tr><td>5</td><td>2</td></tr>",
                            "<tr><td>NULL</td><td>3</td></tr>",
                            "<tr><td>6</td><td>5</td></tr>",
                            "<tr><td>7</td><td>5</td></tr>",
                            "<tr><td>4</td><td>5</td></tr>",
                            "<tr><td>3</td><td>11</td></tr>",
                            "<tr><td>2</td><td>90</td></tr>",
                            "<tr><td>1</td><td>196</td></tr>",
                            "</table>"
                        ]
                    }
                }
            ],
            "execution_count": 34
        }
    ]
}