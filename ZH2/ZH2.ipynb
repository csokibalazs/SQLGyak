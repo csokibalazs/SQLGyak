{
    "metadata": {
        "kernelspec": {
            "name": "SQL",
            "display_name": "SQL",
            "language": "sql"
        },
        "language_info": {
            "name": "sql",
            "version": ""
        }
    },
    "nbformat_minor": 2,
    "nbformat": 4,
    "cells": [
        {
            "cell_type": "markdown",
            "source": [
                "Készítsünk listát az egyes szálláshelyek átlagos csillagszámáról típus, illetve hely szerint csoportosítva (külön-külön)!\n",
                "\n",
                "- Az átlag 2 tizedesre kerekítve jelenjen meg\n",
                "- Hagyjuk ki azokat a szálláshelyeket, amelyek nevében kötőjel (-) van!"
            ],
            "metadata": {
                "azdata_cell_guid": "3d89ffea-58d8-4001-a7ad-bfcc8f433367"
            },
            "attachments": {}
        },
        {
            "cell_type": "code",
            "source": [
                "SELECT TIPUS,\r\n",
                "        HELY,\r\n",
                "        ROUND(AVG(CSILLAGOK_SZAMA), 2)  AS 'Átlag'\r\n",
                "FROM Szallashely\r\n",
                "WHERE SZALLAS_NEV NOT LIKE '%-%'\r\n",
                "GROUP BY GROUPING SETS((TIPUS), (HELY))"
            ],
            "metadata": {
                "azdata_cell_guid": "830c471f-e757-4eb5-b51c-a31f895ba1fb",
                "language": "sql"
            },
            "outputs": [
                {
                    "output_type": "display_data",
                    "data": {
                        "text/html": "(14 rows affected)"
                    },
                    "metadata": {}
                },
                {
                    "output_type": "display_data",
                    "data": {
                        "text/html": "Total execution time: 00:00:00.003"
                    },
                    "metadata": {}
                },
                {
                    "output_type": "execute_result",
                    "metadata": {},
                    "execution_count": 19,
                    "data": {
                        "application/vnd.dataresource+json": {
                            "schema": {
                                "fields": [
                                    {
                                        "name": "TIPUS"
                                    },
                                    {
                                        "name": "HELY"
                                    },
                                    {
                                        "name": "Átlag"
                                    }
                                ]
                            },
                            "data": [
                                {
                                    "TIPUS": "NULL",
                                    "HELY": "Balaton-dél",
                                    "Átlag": "2"
                                },
                                {
                                    "TIPUS": "NULL",
                                    "HELY": "Balaton-észak",
                                    "Átlag": "0"
                                },
                                {
                                    "TIPUS": "NULL",
                                    "HELY": "Békés megye",
                                    "Átlag": "3"
                                },
                                {
                                    "TIPUS": "NULL",
                                    "HELY": "Budapest",
                                    "Átlag": "2"
                                },
                                {
                                    "TIPUS": "NULL",
                                    "HELY": "Csongrád megye",
                                    "Átlag": "1"
                                },
                                {
                                    "TIPUS": "NULL",
                                    "HELY": "Dél-Somogy",
                                    "Átlag": "0"
                                },
                                {
                                    "TIPUS": "NULL",
                                    "HELY": "Hajdúbihar megye",
                                    "Átlag": "0"
                                },
                                {
                                    "TIPUS": "NULL",
                                    "HELY": "Pest megye",
                                    "Átlag": "3"
                                },
                                {
                                    "TIPUS": "NULL",
                                    "HELY": "Tolna megye",
                                    "Átlag": "4"
                                },
                                {
                                    "TIPUS": "Apartman",
                                    "HELY": "NULL",
                                    "Átlag": "0"
                                },
                                {
                                    "TIPUS": "Diákszálló",
                                    "HELY": "NULL",
                                    "Átlag": "0"
                                },
                                {
                                    "TIPUS": "Hotel",
                                    "HELY": "NULL",
                                    "Átlag": "3"
                                },
                                {
                                    "TIPUS": "panzió",
                                    "HELY": "NULL",
                                    "Átlag": "3"
                                },
                                {
                                    "TIPUS": "vendégház",
                                    "HELY": "NULL",
                                    "Átlag": "0"
                                }
                            ]
                        },
                        "text/html": [
                            "<table>",
                            "<tr><th>TIPUS</th><th>HELY</th><th>Átlag</th></tr>",
                            "<tr><td>NULL</td><td>Balaton-dél</td><td>2</td></tr>",
                            "<tr><td>NULL</td><td>Balaton-észak</td><td>0</td></tr>",
                            "<tr><td>NULL</td><td>Békés megye</td><td>3</td></tr>",
                            "<tr><td>NULL</td><td>Budapest</td><td>2</td></tr>",
                            "<tr><td>NULL</td><td>Csongrád megye</td><td>1</td></tr>",
                            "<tr><td>NULL</td><td>Dél-Somogy</td><td>0</td></tr>",
                            "<tr><td>NULL</td><td>Hajdúbihar megye</td><td>0</td></tr>",
                            "<tr><td>NULL</td><td>Pest megye</td><td>3</td></tr>",
                            "<tr><td>NULL</td><td>Tolna megye</td><td>4</td></tr>",
                            "<tr><td>Apartman</td><td>NULL</td><td>0</td></tr>",
                            "<tr><td>Diákszálló</td><td>NULL</td><td>0</td></tr>",
                            "<tr><td>Hotel</td><td>NULL</td><td>3</td></tr>",
                            "<tr><td>panzió</td><td>NULL</td><td>3</td></tr>",
                            "<tr><td>vendégház</td><td>NULL</td><td>0</td></tr>",
                            "</table>"
                        ]
                    }
                }
            ],
            "execution_count": 19
        },
        {
            "cell_type": "markdown",
            "source": [
                "Készítsük listát, amely a szobák azonosítóit és a hozzájuk tartozó foglalások azonosítóját és időtartalmát (napokban) jeleníti meg!\n",
                "\n",
                "- Egy új oszlopban jelenítsük meg az adott szoba időben előző foglalásának időtartamát is!\n",
                "- Ha nincs előző, akkor 0 jelenjen meg"
            ],
            "metadata": {
                "azdata_cell_guid": "251a1e8b-2caa-4e81-af9a-bfc60646a145"
            },
            "attachments": {}
        },
        {
            "cell_type": "code",
            "source": [
                "SELECT SZOBA_ID, FOGLALAS_PK, DATEDIFF(DAY, METTOL, MEDDIG) AS 'Napok száma', LAG(DATEDIFF(DAY, METTOL, MEDDIG), 1 ,0) OVER (PARTITION BY SZOBA_ID ORDER BY METTOL) AS 'Korábbi foglalás időtartama'\r\n",
                "FROM Szoba JOIN Foglalas ON SZOBA_FK = SZOBA_ID"
            ],
            "metadata": {
                "azdata_cell_guid": "30321919-7d51-42ac-9e8c-5af966450bda",
                "language": "sql"
            },
            "outputs": [
                {
                    "output_type": "display_data",
                    "data": {
                        "text/html": "(1027 rows affected)"
                    },
                    "metadata": {}
                },
                {
                    "output_type": "display_data",
                    "data": {
                        "text/html": "Total execution time: 00:00:00.018"
                    },
                    "metadata": {}
                },
                {
                    "output_type": "execute_result",
                    "metadata": {},
                    "execution_count": 55,
                    "data": {
                        "application/vnd.dataresource+json": {
                            "schema": {
                                "fields": [
                                    {
                                        "name": "SZOBA_ID"
                                    },
                                    {
                                        "name": "FOGLALAS_PK"
                                    },
                                    {
                                        "name": "Napok száma"
                                    },
                                    {
                                        "name": "Korábbi foglalás időtartama"
                                    }
                                ]
                            },
                            "data": [
                                {
                                    "SZOBA_ID": "1",
                                    "FOGLALAS_PK": "620",
                                    "Napok száma": "5",
                                    "Korábbi foglalás időtartama": "0"
                                },
                                {
                                    "SZOBA_ID": "1",
                                    "FOGLALAS_PK": "949",
                                    "Napok száma": "1",
                                    "Korábbi foglalás időtartama": "5"
                                },
                                {
                                    "SZOBA_ID": "1",
                                    "FOGLALAS_PK": "738",
                                    "Napok száma": "7",
                                    "Korábbi foglalás időtartama": "1"
                                },
                                {
                                    "SZOBA_ID": "1",
                                    "FOGLALAS_PK": "803",
                                    "Napok száma": "4",
                                    "Korábbi foglalás időtartama": "7"
                                },
                                {
                                    "SZOBA_ID": "1",
                                    "FOGLALAS_PK": "1137",
                                    "Napok száma": "2",
                                    "Korábbi foglalás időtartama": "4"
                                },
                                {
                                    "SZOBA_ID": "1",
                                    "FOGLALAS_PK": "1152",
                                    "Napok száma": "1",
                                    "Korábbi foglalás időtartama": "2"
                                },
                                {
                                    "SZOBA_ID": "1",
                                    "FOGLALAS_PK": "1274",
                                    "Napok száma": "1",
                                    "Korábbi foglalás időtartama": "1"
                                },
                                {
                                    "SZOBA_ID": "1",
                                    "FOGLALAS_PK": "1334",
                                    "Napok száma": "4",
                                    "Korábbi foglalás időtartama": "1"
                                },
                                {
                                    "SZOBA_ID": "2",
                                    "FOGLALAS_PK": "828",
                                    "Napok száma": "3",
                                    "Korábbi foglalás időtartama": "0"
                                },
                                {
                                    "SZOBA_ID": "2",
                                    "FOGLALAS_PK": "1051",
                                    "Napok száma": "1",
                                    "Korábbi foglalás időtartama": "3"
                                },
                                {
                                    "SZOBA_ID": "2",
                                    "FOGLALAS_PK": "1069",
                                    "Napok száma": "7",
                                    "Korábbi foglalás időtartama": "1"
                                },
                                {
                                    "SZOBA_ID": "2",
                                    "FOGLALAS_PK": "1311",
                                    "Napok száma": "7",
                                    "Korábbi foglalás időtartama": "7"
                                },
                                {
                                    "SZOBA_ID": "3",
                                    "FOGLALAS_PK": "629",
                                    "Napok száma": "4",
                                    "Korábbi foglalás időtartama": "0"
                                },
                                {
                                    "SZOBA_ID": "3",
                                    "FOGLALAS_PK": "666",
                                    "Napok száma": "6",
                                    "Korábbi foglalás időtartama": "4"
                                },
                                {
                                    "SZOBA_ID": "3",
                                    "FOGLALAS_PK": "788",
                                    "Napok száma": "6",
                                    "Korábbi foglalás időtartama": "6"
                                },
                                {
                                    "SZOBA_ID": "3",
                                    "FOGLALAS_PK": "1038",
                                    "Napok száma": "3",
                                    "Korábbi foglalás időtartama": "6"
                                },
                                {
                                    "SZOBA_ID": "3",
                                    "FOGLALAS_PK": "1110",
                                    "Napok száma": "7",
                                    "Korábbi foglalás időtartama": "3"
                                },
                                {
                                    "SZOBA_ID": "3",
                                    "FOGLALAS_PK": "1151",
                                    "Napok száma": "1",
                                    "Korábbi foglalás időtartama": "7"
                                },
                                {
                                    "SZOBA_ID": "3",
                                    "FOGLALAS_PK": "1434",
                                    "Napok száma": "5",
                                    "Korábbi foglalás időtartama": "1"
                                },
                                {
                                    "SZOBA_ID": "3",
                                    "FOGLALAS_PK": "1544",
                                    "Napok száma": "5",
                                    "Korábbi foglalás időtartama": "5"
                                },
                                {
                                    "SZOBA_ID": "4",
                                    "FOGLALAS_PK": "651",
                                    "Napok száma": "7",
                                    "Korábbi foglalás időtartama": "0"
                                },
                                {
                                    "SZOBA_ID": "4",
                                    "FOGLALAS_PK": "946",
                                    "Napok száma": "5",
                                    "Korábbi foglalás időtartama": "7"
                                },
                                {
                                    "SZOBA_ID": "4",
                                    "FOGLALAS_PK": "1001",
                                    "Napok száma": "7",
                                    "Korábbi foglalás időtartama": "5"
                                },
                                {
                                    "SZOBA_ID": "4",
                                    "FOGLALAS_PK": "1127",
                                    "Napok száma": "3",
                                    "Korábbi foglalás időtartama": "7"
                                },
                                {
                                    "SZOBA_ID": "4",
                                    "FOGLALAS_PK": "1132",
                                    "Napok száma": "6",
                                    "Korábbi foglalás időtartama": "3"
                                },
                                {
                                    "SZOBA_ID": "4",
                                    "FOGLALAS_PK": "1492",
                                    "Napok száma": "6",
                                    "Korábbi foglalás időtartama": "6"
                                },
                                {
                                    "SZOBA_ID": "5",
                                    "FOGLALAS_PK": "564",
                                    "Napok száma": "2",
                                    "Korábbi foglalás időtartama": "0"
                                },
                                {
                                    "SZOBA_ID": "5",
                                    "FOGLALAS_PK": "965",
                                    "Napok száma": "7",
                                    "Korábbi foglalás időtartama": "2"
                                },
                                {
                                    "SZOBA_ID": "5",
                                    "FOGLALAS_PK": "1073",
                                    "Napok száma": "5",
                                    "Korábbi foglalás időtartama": "7"
                                },
                                {
                                    "SZOBA_ID": "5",
                                    "FOGLALAS_PK": "1257",
                                    "Napok száma": "3",
                                    "Korábbi foglalás időtartama": "5"
                                },
                                {
                                    "SZOBA_ID": "6",
                                    "FOGLALAS_PK": "560",
                                    "Napok száma": "6",
                                    "Korábbi foglalás időtartama": "0"
                                },
                                {
                                    "SZOBA_ID": "6",
                                    "FOGLALAS_PK": "873",
                                    "Napok száma": "3",
                                    "Korábbi foglalás időtartama": "6"
                                },
                                {
                                    "SZOBA_ID": "6",
                                    "FOGLALAS_PK": "990",
                                    "Napok száma": "4",
                                    "Korábbi foglalás időtartama": "3"
                                },
                                {
                                    "SZOBA_ID": "6",
                                    "FOGLALAS_PK": "772",
                                    "Napok száma": "6",
                                    "Korábbi foglalás időtartama": "4"
                                },
                                {
                                    "SZOBA_ID": "6",
                                    "FOGLALAS_PK": "850",
                                    "Napok száma": "2",
                                    "Korábbi foglalás időtartama": "6"
                                },
                                {
                                    "SZOBA_ID": "6",
                                    "FOGLALAS_PK": "1099",
                                    "Napok száma": "4",
                                    "Korábbi foglalás időtartama": "2"
                                },
                                {
                                    "SZOBA_ID": "7",
                                    "FOGLALAS_PK": "562",
                                    "Napok száma": "4",
                                    "Korábbi foglalás időtartama": "0"
                                },
                                {
                                    "SZOBA_ID": "7",
                                    "FOGLALAS_PK": "759",
                                    "Napok száma": "7",
                                    "Korábbi foglalás időtartama": "4"
                                },
                                {
                                    "SZOBA_ID": "7",
                                    "FOGLALAS_PK": "1131",
                                    "Napok száma": "1",
                                    "Korábbi foglalás időtartama": "7"
                                },
                                {
                                    "SZOBA_ID": "7",
                                    "FOGLALAS_PK": "1175",
                                    "Napok száma": "4",
                                    "Korábbi foglalás időtartama": "1"
                                },
                                {
                                    "SZOBA_ID": "7",
                                    "FOGLALAS_PK": "1182",
                                    "Napok száma": "4",
                                    "Korábbi foglalás időtartama": "4"
                                },
                                {
                                    "SZOBA_ID": "7",
                                    "FOGLALAS_PK": "1252",
                                    "Napok száma": "2",
                                    "Korábbi foglalás időtartama": "4"
                                },
                                {
                                    "SZOBA_ID": "8",
                                    "FOGLALAS_PK": "882",
                                    "Napok száma": "1",
                                    "Korábbi foglalás időtartama": "0"
                                },
                                {
                                    "SZOBA_ID": "8",
                                    "FOGLALAS_PK": "947",
                                    "Napok száma": "3",
                                    "Korábbi foglalás időtartama": "1"
                                },
                                {
                                    "SZOBA_ID": "8",
                                    "FOGLALAS_PK": "694",
                                    "Napok száma": "4",
                                    "Korábbi foglalás időtartama": "3"
                                },
                                {
                                    "SZOBA_ID": "8",
                                    "FOGLALAS_PK": "818",
                                    "Napok száma": "4",
                                    "Korábbi foglalás időtartama": "4"
                                },
                                {
                                    "SZOBA_ID": "8",
                                    "FOGLALAS_PK": "832",
                                    "Napok száma": "4",
                                    "Korábbi foglalás időtartama": "4"
                                },
                                {
                                    "SZOBA_ID": "9",
                                    "FOGLALAS_PK": "609",
                                    "Napok száma": "2",
                                    "Korábbi foglalás időtartama": "0"
                                },
                                {
                                    "SZOBA_ID": "9",
                                    "FOGLALAS_PK": "1157",
                                    "Napok száma": "6",
                                    "Korábbi foglalás időtartama": "2"
                                },
                                {
                                    "SZOBA_ID": "9",
                                    "FOGLALAS_PK": "1220",
                                    "Napok száma": "3",
                                    "Korábbi foglalás időtartama": "6"
                                },
                                {
                                    "SZOBA_ID": "9",
                                    "FOGLALAS_PK": "1260",
                                    "Napok száma": "6",
                                    "Korábbi foglalás időtartama": "3"
                                },
                                {
                                    "SZOBA_ID": "9",
                                    "FOGLALAS_PK": "1423",
                                    "Napok száma": "3",
                                    "Korábbi foglalás időtartama": "6"
                                },
                                {
                                    "SZOBA_ID": "9",
                                    "FOGLALAS_PK": "1537",
                                    "Napok száma": "3",
                                    "Korábbi foglalás időtartama": "3"
                                },
                                {
                                    "SZOBA_ID": "10",
                                    "FOGLALAS_PK": "569",
                                    "Napok száma": "3",
                                    "Korábbi foglalás időtartama": "0"
                                },
                                {
                                    "SZOBA_ID": "10",
                                    "FOGLALAS_PK": "790",
                                    "Napok száma": "5",
                                    "Korábbi foglalás időtartama": "3"
                                },
                                {
                                    "SZOBA_ID": "10",
                                    "FOGLALAS_PK": "795",
                                    "Napok száma": "4",
                                    "Korábbi foglalás időtartama": "5"
                                },
                                {
                                    "SZOBA_ID": "10",
                                    "FOGLALAS_PK": "1319",
                                    "Napok száma": "6",
                                    "Korábbi foglalás időtartama": "4"
                                },
                                {
                                    "SZOBA_ID": "11",
                                    "FOGLALAS_PK": "918",
                                    "Napok száma": "6",
                                    "Korábbi foglalás időtartama": "0"
                                },
                                {
                                    "SZOBA_ID": "11",
                                    "FOGLALAS_PK": "1123",
                                    "Napok száma": "5",
                                    "Korábbi foglalás időtartama": "6"
                                },
                                {
                                    "SZOBA_ID": "11",
                                    "FOGLALAS_PK": "1236",
                                    "Napok száma": "1",
                                    "Korábbi foglalás időtartama": "5"
                                },
                                {
                                    "SZOBA_ID": "11",
                                    "FOGLALAS_PK": "1523",
                                    "Napok száma": "1",
                                    "Korábbi foglalás időtartama": "1"
                                },
                                {
                                    "SZOBA_ID": "12",
                                    "FOGLALAS_PK": "876",
                                    "Napok száma": "7",
                                    "Korábbi foglalás időtartama": "0"
                                },
                                {
                                    "SZOBA_ID": "12",
                                    "FOGLALAS_PK": "951",
                                    "Napok száma": "3",
                                    "Korábbi foglalás időtartama": "7"
                                },
                                {
                                    "SZOBA_ID": "12",
                                    "FOGLALAS_PK": "970",
                                    "Napok száma": "2",
                                    "Korábbi foglalás időtartama": "3"
                                },
                                {
                                    "SZOBA_ID": "12",
                                    "FOGLALAS_PK": "1020",
                                    "Napok száma": "5",
                                    "Korábbi foglalás időtartama": "2"
                                },
                                {
                                    "SZOBA_ID": "12",
                                    "FOGLALAS_PK": "697",
                                    "Napok száma": "2",
                                    "Korábbi foglalás időtartama": "5"
                                },
                                {
                                    "SZOBA_ID": "12",
                                    "FOGLALAS_PK": "775",
                                    "Napok száma": "4",
                                    "Korábbi foglalás időtartama": "2"
                                },
                                {
                                    "SZOBA_ID": "12",
                                    "FOGLALAS_PK": "1140",
                                    "Napok száma": "3",
                                    "Korábbi foglalás időtartama": "4"
                                },
                                {
                                    "SZOBA_ID": "12",
                                    "FOGLALAS_PK": "1164",
                                    "Napok száma": "5",
                                    "Korábbi foglalás időtartama": "3"
                                },
                                {
                                    "SZOBA_ID": "12",
                                    "FOGLALAS_PK": "1430",
                                    "Napok száma": "2",
                                    "Korábbi foglalás időtartama": "5"
                                },
                                {
                                    "SZOBA_ID": "13",
                                    "FOGLALAS_PK": "763",
                                    "Napok száma": "4",
                                    "Korábbi foglalás időtartama": "0"
                                },
                                {
                                    "SZOBA_ID": "13",
                                    "FOGLALAS_PK": "1044",
                                    "Napok száma": "6",
                                    "Korábbi foglalás időtartama": "4"
                                },
                                {
                                    "SZOBA_ID": "13",
                                    "FOGLALAS_PK": "1347",
                                    "Napok száma": "3",
                                    "Korábbi foglalás időtartama": "6"
                                },
                                {
                                    "SZOBA_ID": "13",
                                    "FOGLALAS_PK": "1469",
                                    "Napok száma": "2",
                                    "Korábbi foglalás időtartama": "3"
                                },
                                {
                                    "SZOBA_ID": "14",
                                    "FOGLALAS_PK": "663",
                                    "Napok száma": "1",
                                    "Korábbi foglalás időtartama": "0"
                                },
                                {
                                    "SZOBA_ID": "14",
                                    "FOGLALAS_PK": "813",
                                    "Napok száma": "3",
                                    "Korábbi foglalás időtartama": "1"
                                },
                                {
                                    "SZOBA_ID": "14",
                                    "FOGLALAS_PK": "1542",
                                    "Napok száma": "4",
                                    "Korábbi foglalás időtartama": "3"
                                },
                                {
                                    "SZOBA_ID": "15",
                                    "FOGLALAS_PK": "1028",
                                    "Napok száma": "2",
                                    "Korábbi foglalás időtartama": "0"
                                },
                                {
                                    "SZOBA_ID": "15",
                                    "FOGLALAS_PK": "791",
                                    "Napok száma": "5",
                                    "Korábbi foglalás időtartama": "2"
                                },
                                {
                                    "SZOBA_ID": "15",
                                    "FOGLALAS_PK": "1129",
                                    "Napok száma": "4",
                                    "Korábbi foglalás időtartama": "5"
                                },
                                {
                                    "SZOBA_ID": "15",
                                    "FOGLALAS_PK": "1244",
                                    "Napok száma": "1",
                                    "Korábbi foglalás időtartama": "4"
                                },
                                {
                                    "SZOBA_ID": "15",
                                    "FOGLALAS_PK": "1418",
                                    "Napok száma": "4",
                                    "Korábbi foglalás időtartama": "1"
                                },
                                {
                                    "SZOBA_ID": "15",
                                    "FOGLALAS_PK": "1442",
                                    "Napok száma": "3",
                                    "Korábbi foglalás időtartama": "4"
                                },
                                {
                                    "SZOBA_ID": "16",
                                    "FOGLALAS_PK": "856",
                                    "Napok száma": "6",
                                    "Korábbi foglalás időtartama": "0"
                                },
                                {
                                    "SZOBA_ID": "16",
                                    "FOGLALAS_PK": "896",
                                    "Napok száma": "1",
                                    "Korábbi foglalás időtartama": "6"
                                },
                                {
                                    "SZOBA_ID": "16",
                                    "FOGLALAS_PK": "973",
                                    "Napok száma": "1",
                                    "Korábbi foglalás időtartama": "1"
                                },
                                {
                                    "SZOBA_ID": "16",
                                    "FOGLALAS_PK": "687",
                                    "Napok száma": "3",
                                    "Korábbi foglalás időtartama": "1"
                                },
                                {
                                    "SZOBA_ID": "16",
                                    "FOGLALAS_PK": "1498",
                                    "Napok száma": "7",
                                    "Korábbi foglalás időtartama": "3"
                                },
                                {
                                    "SZOBA_ID": "17",
                                    "FOGLALAS_PK": "602",
                                    "Napok száma": "6",
                                    "Korábbi foglalás időtartama": "0"
                                },
                                {
                                    "SZOBA_ID": "17",
                                    "FOGLALAS_PK": "916",
                                    "Napok száma": "2",
                                    "Korábbi foglalás időtartama": "6"
                                },
                                {
                                    "SZOBA_ID": "17",
                                    "FOGLALAS_PK": "713",
                                    "Napok száma": "6",
                                    "Korábbi foglalás időtartama": "2"
                                },
                                {
                                    "SZOBA_ID": "17",
                                    "FOGLALAS_PK": "744",
                                    "Napok száma": "1",
                                    "Korábbi foglalás időtartama": "6"
                                },
                                {
                                    "SZOBA_ID": "17",
                                    "FOGLALAS_PK": "1316",
                                    "Napok száma": "5",
                                    "Korábbi foglalás időtartama": "1"
                                },
                                {
                                    "SZOBA_ID": "17",
                                    "FOGLALAS_PK": "1549",
                                    "Napok száma": "3",
                                    "Korábbi foglalás időtartama": "5"
                                },
                                {
                                    "SZOBA_ID": "18",
                                    "FOGLALAS_PK": "626",
                                    "Napok száma": "3",
                                    "Korábbi foglalás időtartama": "0"
                                },
                                {
                                    "SZOBA_ID": "18",
                                    "FOGLALAS_PK": "767",
                                    "Napok száma": "3",
                                    "Korábbi foglalás időtartama": "3"
                                },
                                {
                                    "SZOBA_ID": "18",
                                    "FOGLALAS_PK": "1035",
                                    "Napok száma": "6",
                                    "Korábbi foglalás időtartama": "3"
                                },
                                {
                                    "SZOBA_ID": "18",
                                    "FOGLALAS_PK": "1173",
                                    "Napok száma": "6",
                                    "Korábbi foglalás időtartama": "6"
                                },
                                {
                                    "SZOBA_ID": "18",
                                    "FOGLALAS_PK": "1198",
                                    "Napok száma": "4",
                                    "Korábbi foglalás időtartama": "6"
                                },
                                {
                                    "SZOBA_ID": "18",
                                    "FOGLALAS_PK": "1505",
                                    "Napok száma": "6",
                                    "Korábbi foglalás időtartama": "4"
                                },
                                {
                                    "SZOBA_ID": "19",
                                    "FOGLALAS_PK": "948",
                                    "Napok száma": "2",
                                    "Korábbi foglalás időtartama": "0"
                                },
                                {
                                    "SZOBA_ID": "19",
                                    "FOGLALAS_PK": "696",
                                    "Napok száma": "1",
                                    "Korábbi foglalás időtartama": "2"
                                },
                                {
                                    "SZOBA_ID": "19",
                                    "FOGLALAS_PK": "778",
                                    "Napok száma": "1",
                                    "Korábbi foglalás időtartama": "1"
                                },
                                {
                                    "SZOBA_ID": "19",
                                    "FOGLALAS_PK": "1139",
                                    "Napok száma": "7",
                                    "Korábbi foglalás időtartama": "1"
                                },
                                {
                                    "SZOBA_ID": "19",
                                    "FOGLALAS_PK": "1237",
                                    "Napok száma": "1",
                                    "Korábbi foglalás időtartama": "7"
                                },
                                {
                                    "SZOBA_ID": "19",
                                    "FOGLALAS_PK": "1533",
                                    "Napok száma": "1",
                                    "Korábbi foglalás időtartama": "1"
                                },
                                {
                                    "SZOBA_ID": "20",
                                    "FOGLALAS_PK": "755",
                                    "Napok száma": "6",
                                    "Korábbi foglalás időtartama": "0"
                                },
                                {
                                    "SZOBA_ID": "20",
                                    "FOGLALAS_PK": "820",
                                    "Napok száma": "1",
                                    "Korábbi foglalás időtartama": "6"
                                },
                                {
                                    "SZOBA_ID": "20",
                                    "FOGLALAS_PK": "1070",
                                    "Napok száma": "1",
                                    "Korábbi foglalás időtartama": "1"
                                },
                                {
                                    "SZOBA_ID": "20",
                                    "FOGLALAS_PK": "1114",
                                    "Napok száma": "5",
                                    "Korábbi foglalás időtartama": "1"
                                },
                                {
                                    "SZOBA_ID": "20",
                                    "FOGLALAS_PK": "1106",
                                    "Napok száma": "2",
                                    "Korábbi foglalás időtartama": "5"
                                },
                                {
                                    "SZOBA_ID": "21",
                                    "FOGLALAS_PK": "566",
                                    "Napok száma": "6",
                                    "Korábbi foglalás időtartama": "0"
                                },
                                {
                                    "SZOBA_ID": "21",
                                    "FOGLALAS_PK": "660",
                                    "Napok száma": "5",
                                    "Korábbi foglalás időtartama": "6"
                                },
                                {
                                    "SZOBA_ID": "21",
                                    "FOGLALAS_PK": "805",
                                    "Napok száma": "1",
                                    "Korábbi foglalás időtartama": "5"
                                },
                                {
                                    "SZOBA_ID": "21",
                                    "FOGLALAS_PK": "1212",
                                    "Napok száma": "6",
                                    "Korábbi foglalás időtartama": "1"
                                },
                                {
                                    "SZOBA_ID": "22",
                                    "FOGLALAS_PK": "906",
                                    "Napok száma": "1",
                                    "Korábbi foglalás időtartama": "0"
                                },
                                {
                                    "SZOBA_ID": "22",
                                    "FOGLALAS_PK": "1005",
                                    "Napok száma": "3",
                                    "Korábbi foglalás időtartama": "1"
                                },
                                {
                                    "SZOBA_ID": "22",
                                    "FOGLALAS_PK": "1130",
                                    "Napok száma": "1",
                                    "Korábbi foglalás időtartama": "3"
                                },
                                {
                                    "SZOBA_ID": "22",
                                    "FOGLALAS_PK": "1195",
                                    "Napok száma": "6",
                                    "Korábbi foglalás időtartama": "1"
                                },
                                {
                                    "SZOBA_ID": "22",
                                    "FOGLALAS_PK": "1206",
                                    "Napok száma": "7",
                                    "Korábbi foglalás időtartama": "6"
                                },
                                {
                                    "SZOBA_ID": "22",
                                    "FOGLALAS_PK": "1287",
                                    "Napok száma": "3",
                                    "Korábbi foglalás időtartama": "7"
                                },
                                {
                                    "SZOBA_ID": "23",
                                    "FOGLALAS_PK": "934",
                                    "Napok száma": "1",
                                    "Korábbi foglalás időtartama": "0"
                                },
                                {
                                    "SZOBA_ID": "23",
                                    "FOGLALAS_PK": "945",
                                    "Napok száma": "7",
                                    "Korábbi foglalás időtartama": "1"
                                },
                                {
                                    "SZOBA_ID": "23",
                                    "FOGLALAS_PK": "848",
                                    "Napok száma": "1",
                                    "Korábbi foglalás időtartama": "7"
                                },
                                {
                                    "SZOBA_ID": "24",
                                    "FOGLALAS_PK": "852",
                                    "Napok száma": "2",
                                    "Korábbi foglalás időtartama": "0"
                                },
                                {
                                    "SZOBA_ID": "24",
                                    "FOGLALAS_PK": "1167",
                                    "Napok száma": "1",
                                    "Korábbi foglalás időtartama": "2"
                                },
                                {
                                    "SZOBA_ID": "24",
                                    "FOGLALAS_PK": "1415",
                                    "Napok száma": "3",
                                    "Korábbi foglalás időtartama": "1"
                                },
                                {
                                    "SZOBA_ID": "25",
                                    "FOGLALAS_PK": "1052",
                                    "Napok száma": "3",
                                    "Korábbi foglalás időtartama": "0"
                                },
                                {
                                    "SZOBA_ID": "25",
                                    "FOGLALAS_PK": "1362",
                                    "Napok száma": "2",
                                    "Korábbi foglalás időtartama": "3"
                                },
                                {
                                    "SZOBA_ID": "26",
                                    "FOGLALAS_PK": "1158",
                                    "Napok száma": "2",
                                    "Korábbi foglalás időtartama": "0"
                                },
                                {
                                    "SZOBA_ID": "26",
                                    "FOGLALAS_PK": "1388",
                                    "Napok száma": "3",
                                    "Korábbi foglalás időtartama": "2"
                                },
                                {
                                    "SZOBA_ID": "27",
                                    "FOGLALAS_PK": "758",
                                    "Napok száma": "3",
                                    "Korábbi foglalás időtartama": "0"
                                },
                                {
                                    "SZOBA_ID": "27",
                                    "FOGLALAS_PK": "807",
                                    "Napok száma": "2",
                                    "Korábbi foglalás időtartama": "3"
                                },
                                {
                                    "SZOBA_ID": "27",
                                    "FOGLALAS_PK": "1031",
                                    "Napok száma": "2",
                                    "Korábbi foglalás időtartama": "2"
                                },
                                {
                                    "SZOBA_ID": "27",
                                    "FOGLALAS_PK": "1082",
                                    "Napok száma": "5",
                                    "Korábbi foglalás időtartama": "2"
                                },
                                {
                                    "SZOBA_ID": "27",
                                    "FOGLALAS_PK": "1275",
                                    "Napok száma": "6",
                                    "Korábbi foglalás időtartama": "5"
                                },
                                {
                                    "SZOBA_ID": "27",
                                    "FOGLALAS_PK": "1377",
                                    "Napok száma": "1",
                                    "Korábbi foglalás időtartama": "6"
                                },
                                {
                                    "SZOBA_ID": "27",
                                    "FOGLALAS_PK": "1476",
                                    "Napok száma": "1",
                                    "Korábbi foglalás időtartama": "1"
                                },
                                {
                                    "SZOBA_ID": "28",
                                    "FOGLALAS_PK": "872",
                                    "Napok száma": "5",
                                    "Korábbi foglalás időtartama": "0"
                                },
                                {
                                    "SZOBA_ID": "28",
                                    "FOGLALAS_PK": "886",
                                    "Napok száma": "4",
                                    "Korábbi foglalás időtartama": "5"
                                },
                                {
                                    "SZOBA_ID": "28",
                                    "FOGLALAS_PK": "901",
                                    "Napok száma": "4",
                                    "Korábbi foglalás időtartama": "4"
                                },
                                {
                                    "SZOBA_ID": "28",
                                    "FOGLALAS_PK": "725",
                                    "Napok száma": "5",
                                    "Korábbi foglalás időtartama": "4"
                                },
                                {
                                    "SZOBA_ID": "28",
                                    "FOGLALAS_PK": "1150",
                                    "Napok száma": "6",
                                    "Korábbi foglalás időtartama": "5"
                                },
                                {
                                    "SZOBA_ID": "28",
                                    "FOGLALAS_PK": "1459",
                                    "Napok száma": "2",
                                    "Korábbi foglalás időtartama": "6"
                                },
                                {
                                    "SZOBA_ID": "29",
                                    "FOGLALAS_PK": "611",
                                    "Napok száma": "5",
                                    "Korábbi foglalás időtartama": "0"
                                },
                                {
                                    "SZOBA_ID": "29",
                                    "FOGLALAS_PK": "894",
                                    "Napok száma": "1",
                                    "Korábbi foglalás időtartama": "5"
                                },
                                {
                                    "SZOBA_ID": "29",
                                    "FOGLALAS_PK": "1076",
                                    "Napok száma": "7",
                                    "Korábbi foglalás időtartama": "1"
                                },
                                {
                                    "SZOBA_ID": "29",
                                    "FOGLALAS_PK": "1185",
                                    "Napok száma": "5",
                                    "Korábbi foglalás időtartama": "7"
                                },
                                {
                                    "SZOBA_ID": "29",
                                    "FOGLALAS_PK": "1235",
                                    "Napok száma": "7",
                                    "Korábbi foglalás időtartama": "5"
                                },
                                {
                                    "SZOBA_ID": "29",
                                    "FOGLALAS_PK": "1568",
                                    "Napok száma": "7",
                                    "Korábbi foglalás időtartama": "7"
                                },
                                {
                                    "SZOBA_ID": "30",
                                    "FOGLALAS_PK": "604",
                                    "Napok száma": "2",
                                    "Korábbi foglalás időtartama": "0"
                                },
                                {
                                    "SZOBA_ID": "30",
                                    "FOGLALAS_PK": "1023",
                                    "Napok száma": "7",
                                    "Korábbi foglalás időtartama": "2"
                                },
                                {
                                    "SZOBA_ID": "30",
                                    "FOGLALAS_PK": "1136",
                                    "Napok száma": "5",
                                    "Korábbi foglalás időtartama": "7"
                                },
                                {
                                    "SZOBA_ID": "31",
                                    "FOGLALAS_PK": "598",
                                    "Napok száma": "2",
                                    "Korábbi foglalás időtartama": "0"
                                },
                                {
                                    "SZOBA_ID": "31",
                                    "FOGLALAS_PK": "606",
                                    "Napok száma": "1",
                                    "Korábbi foglalás időtartama": "2"
                                },
                                {
                                    "SZOBA_ID": "31",
                                    "FOGLALAS_PK": "728",
                                    "Napok száma": "4",
                                    "Korábbi foglalás időtartama": "1"
                                },
                                {
                                    "SZOBA_ID": "32",
                                    "FOGLALAS_PK": "920",
                                    "Napok száma": "4",
                                    "Korábbi foglalás időtartama": "0"
                                },
                                {
                                    "SZOBA_ID": "33",
                                    "FOGLALAS_PK": "624",
                                    "Napok száma": "6",
                                    "Korábbi foglalás időtartama": "0"
                                },
                                {
                                    "SZOBA_ID": "33",
                                    "FOGLALAS_PK": "1012",
                                    "Napok száma": "7",
                                    "Korábbi foglalás időtartama": "6"
                                },
                                {
                                    "SZOBA_ID": "33",
                                    "FOGLALAS_PK": "1053",
                                    "Napok száma": "1",
                                    "Korábbi foglalás időtartama": "7"
                                },
                                {
                                    "SZOBA_ID": "33",
                                    "FOGLALAS_PK": "1321",
                                    "Napok száma": "4",
                                    "Korábbi foglalás időtartama": "1"
                                },
                                {
                                    "SZOBA_ID": "33",
                                    "FOGLALAS_PK": "1344",
                                    "Napok száma": "5",
                                    "Korábbi foglalás időtartama": "4"
                                },
                                {
                                    "SZOBA_ID": "33",
                                    "FOGLALAS_PK": "1381",
                                    "Napok száma": "6",
                                    "Korábbi foglalás időtartama": "5"
                                },
                                {
                                    "SZOBA_ID": "34",
                                    "FOGLALAS_PK": "870",
                                    "Napok száma": "6",
                                    "Korábbi foglalás időtartama": "0"
                                },
                                {
                                    "SZOBA_ID": "34",
                                    "FOGLALAS_PK": "904",
                                    "Napok száma": "2",
                                    "Korábbi foglalás időtartama": "6"
                                },
                                {
                                    "SZOBA_ID": "34",
                                    "FOGLALAS_PK": "777",
                                    "Napok száma": "3",
                                    "Korábbi foglalás időtartama": "2"
                                },
                                {
                                    "SZOBA_ID": "34",
                                    "FOGLALAS_PK": "821",
                                    "Napok száma": "1",
                                    "Korábbi foglalás időtartama": "3"
                                },
                                {
                                    "SZOBA_ID": "35",
                                    "FOGLALAS_PK": "971",
                                    "Napok száma": "3",
                                    "Korábbi foglalás időtartama": "0"
                                },
                                {
                                    "SZOBA_ID": "35",
                                    "FOGLALAS_PK": "979",
                                    "Napok száma": "7",
                                    "Korábbi foglalás időtartama": "3"
                                },
                                {
                                    "SZOBA_ID": "35",
                                    "FOGLALAS_PK": "686",
                                    "Napok száma": "6",
                                    "Korábbi foglalás időtartama": "7"
                                },
                                {
                                    "SZOBA_ID": "35",
                                    "FOGLALAS_PK": "707",
                                    "Napok száma": "2",
                                    "Korábbi foglalás időtartama": "6"
                                },
                                {
                                    "SZOBA_ID": "35",
                                    "FOGLALAS_PK": "829",
                                    "Napok száma": "2",
                                    "Korábbi foglalás időtartama": "2"
                                },
                                {
                                    "SZOBA_ID": "35",
                                    "FOGLALAS_PK": "1480",
                                    "Napok száma": "37",
                                    "Korábbi foglalás időtartama": "2"
                                },
                                {
                                    "SZOBA_ID": "35",
                                    "FOGLALAS_PK": "1411",
                                    "Napok száma": "1",
                                    "Korábbi foglalás időtartama": "37"
                                },
                                {
                                    "SZOBA_ID": "35",
                                    "FOGLALAS_PK": "1436",
                                    "Napok száma": "1",
                                    "Korábbi foglalás időtartama": "1"
                                },
                                {
                                    "SZOBA_ID": "35",
                                    "FOGLALAS_PK": "1529",
                                    "Napok száma": "4",
                                    "Korábbi foglalás időtartama": "1"
                                },
                                {
                                    "SZOBA_ID": "36",
                                    "FOGLALAS_PK": "895",
                                    "Napok száma": "5",
                                    "Korábbi foglalás időtartama": "0"
                                },
                                {
                                    "SZOBA_ID": "36",
                                    "FOGLALAS_PK": "919",
                                    "Napok száma": "1",
                                    "Korábbi foglalás időtartama": "5"
                                },
                                {
                                    "SZOBA_ID": "36",
                                    "FOGLALAS_PK": "985",
                                    "Napok száma": "6",
                                    "Korábbi foglalás időtartama": "1"
                                },
                                {
                                    "SZOBA_ID": "36",
                                    "FOGLALAS_PK": "1003",
                                    "Napok száma": "4",
                                    "Korábbi foglalás időtartama": "6"
                                },
                                {
                                    "SZOBA_ID": "36",
                                    "FOGLALAS_PK": "748",
                                    "Napok száma": "2",
                                    "Korábbi foglalás időtartama": "4"
                                },
                                {
                                    "SZOBA_ID": "36",
                                    "FOGLALAS_PK": "750",
                                    "Napok száma": "6",
                                    "Korábbi foglalás időtartama": "2"
                                },
                                {
                                    "SZOBA_ID": "37",
                                    "FOGLALAS_PK": "688",
                                    "Napok száma": "2",
                                    "Korábbi foglalás időtartama": "0"
                                },
                                {
                                    "SZOBA_ID": "37",
                                    "FOGLALAS_PK": "705",
                                    "Napok száma": "4",
                                    "Korábbi foglalás időtartama": "2"
                                },
                                {
                                    "SZOBA_ID": "37",
                                    "FOGLALAS_PK": "1335",
                                    "Napok száma": "7",
                                    "Korábbi foglalás időtartama": "4"
                                },
                                {
                                    "SZOBA_ID": "38",
                                    "FOGLALAS_PK": "627",
                                    "Napok száma": "6",
                                    "Korábbi foglalás időtartama": "0"
                                },
                                {
                                    "SZOBA_ID": "38",
                                    "FOGLALAS_PK": "1033",
                                    "Napok száma": "2",
                                    "Korábbi foglalás időtartama": "6"
                                },
                                {
                                    "SZOBA_ID": "38",
                                    "FOGLALAS_PK": "1060",
                                    "Napok száma": "2",
                                    "Korábbi foglalás időtartama": "2"
                                },
                                {
                                    "SZOBA_ID": "38",
                                    "FOGLALAS_PK": "1078",
                                    "Napok száma": "7",
                                    "Korábbi foglalás időtartama": "2"
                                },
                                {
                                    "SZOBA_ID": "38",
                                    "FOGLALAS_PK": "1351",
                                    "Napok száma": "4",
                                    "Korábbi foglalás időtartama": "7"
                                },
                                {
                                    "SZOBA_ID": "38",
                                    "FOGLALAS_PK": "1416",
                                    "Napok száma": "5",
                                    "Korábbi foglalás időtartama": "4"
                                },
                                {
                                    "SZOBA_ID": "38",
                                    "FOGLALAS_PK": "1478",
                                    "Napok száma": "4",
                                    "Korábbi foglalás időtartama": "5"
                                },
                                {
                                    "SZOBA_ID": "38",
                                    "FOGLALAS_PK": "1556",
                                    "Napok száma": "6",
                                    "Korábbi foglalás időtartama": "4"
                                },
                                {
                                    "SZOBA_ID": "39",
                                    "FOGLALAS_PK": "601",
                                    "Napok száma": "6",
                                    "Korábbi foglalás időtartama": "0"
                                },
                                {
                                    "SZOBA_ID": "39",
                                    "FOGLALAS_PK": "899",
                                    "Napok száma": "6",
                                    "Korábbi foglalás időtartama": "6"
                                },
                                {
                                    "SZOBA_ID": "39",
                                    "FOGLALAS_PK": "1214",
                                    "Napok száma": "5",
                                    "Korábbi foglalás időtartama": "6"
                                },
                                {
                                    "SZOBA_ID": "39",
                                    "FOGLALAS_PK": "1380",
                                    "Napok száma": "5",
                                    "Korábbi foglalás időtartama": "5"
                                },
                                {
                                    "SZOBA_ID": "39",
                                    "FOGLALAS_PK": "1435",
                                    "Napok száma": "7",
                                    "Korábbi foglalás időtartama": "5"
                                },
                                {
                                    "SZOBA_ID": "39",
                                    "FOGLALAS_PK": "1454",
                                    "Napok száma": "1",
                                    "Korábbi foglalás időtartama": "7"
                                },
                                {
                                    "SZOBA_ID": "39",
                                    "FOGLALAS_PK": "1538",
                                    "Napok száma": "2",
                                    "Korábbi foglalás időtartama": "1"
                                },
                                {
                                    "SZOBA_ID": "40",
                                    "FOGLALAS_PK": "924",
                                    "Napok száma": "5",
                                    "Korábbi foglalás időtartama": "0"
                                },
                                {
                                    "SZOBA_ID": "40",
                                    "FOGLALAS_PK": "932",
                                    "Napok száma": "6",
                                    "Korábbi foglalás időtartama": "5"
                                },
                                {
                                    "SZOBA_ID": "40",
                                    "FOGLALAS_PK": "1018",
                                    "Napok száma": "5",
                                    "Korábbi foglalás időtartama": "6"
                                },
                                {
                                    "SZOBA_ID": "40",
                                    "FOGLALAS_PK": "1118",
                                    "Napok száma": "5",
                                    "Korábbi foglalás időtartama": "5"
                                },
                                {
                                    "SZOBA_ID": "41",
                                    "FOGLALAS_PK": "960",
                                    "Napok száma": "6",
                                    "Korábbi foglalás időtartama": "0"
                                },
                                {
                                    "SZOBA_ID": "41",
                                    "FOGLALAS_PK": "1144",
                                    "Napok száma": "1",
                                    "Korábbi foglalás időtartama": "6"
                                },
                                {
                                    "SZOBA_ID": "42",
                                    "FOGLALAS_PK": "561",
                                    "Napok száma": "4",
                                    "Korábbi foglalás időtartama": "0"
                                },
                                {
                                    "SZOBA_ID": "42",
                                    "FOGLALAS_PK": "590",
                                    "Napok száma": "5",
                                    "Korábbi foglalás időtartama": "4"
                                },
                                {
                                    "SZOBA_ID": "42",
                                    "FOGLALAS_PK": "851",
                                    "Napok száma": "7",
                                    "Korábbi foglalás időtartama": "5"
                                },
                                {
                                    "SZOBA_ID": "42",
                                    "FOGLALAS_PK": "770",
                                    "Napok száma": "3",
                                    "Korábbi foglalás időtartama": "7"
                                },
                                {
                                    "SZOBA_ID": "42",
                                    "FOGLALAS_PK": "1309",
                                    "Napok száma": "2",
                                    "Korábbi foglalás időtartama": "3"
                                },
                                {
                                    "SZOBA_ID": "42",
                                    "FOGLALAS_PK": "1444",
                                    "Napok száma": "6",
                                    "Korábbi foglalás időtartama": "2"
                                },
                                {
                                    "SZOBA_ID": "43",
                                    "FOGLALAS_PK": "1019",
                                    "Napok száma": "4",
                                    "Korábbi foglalás időtartama": "0"
                                },
                                {
                                    "SZOBA_ID": "43",
                                    "FOGLALAS_PK": "670",
                                    "Napok száma": "4",
                                    "Korábbi foglalás időtartama": "4"
                                },
                                {
                                    "SZOBA_ID": "43",
                                    "FOGLALAS_PK": "1088",
                                    "Napok száma": "2",
                                    "Korábbi foglalás időtartama": "4"
                                },
                                {
                                    "SZOBA_ID": "43",
                                    "FOGLALAS_PK": "1207",
                                    "Napok száma": "1",
                                    "Korábbi foglalás időtartama": "2"
                                },
                                {
                                    "SZOBA_ID": "43",
                                    "FOGLALAS_PK": "1227",
                                    "Napok száma": "5",
                                    "Korábbi foglalás időtartama": "1"
                                },
                                {
                                    "SZOBA_ID": "43",
                                    "FOGLALAS_PK": "1270",
                                    "Napok száma": "4",
                                    "Korábbi foglalás időtartama": "5"
                                },
                                {
                                    "SZOBA_ID": "43",
                                    "FOGLALAS_PK": "1524",
                                    "Napok száma": "1",
                                    "Korábbi foglalás időtartama": "4"
                                },
                                {
                                    "SZOBA_ID": "43",
                                    "FOGLALAS_PK": "1553",
                                    "Napok száma": "5",
                                    "Korábbi foglalás időtartama": "1"
                                },
                                {
                                    "SZOBA_ID": "44",
                                    "FOGLALAS_PK": "589",
                                    "Napok száma": "2",
                                    "Korábbi foglalás időtartama": "0"
                                },
                                {
                                    "SZOBA_ID": "44",
                                    "FOGLALAS_PK": "658",
                                    "Napok száma": "6",
                                    "Korábbi foglalás időtartama": "2"
                                },
                                {
                                    "SZOBA_ID": "44",
                                    "FOGLALAS_PK": "823",
                                    "Napok száma": "2",
                                    "Korábbi foglalás időtartama": "6"
                                },
                                {
                                    "SZOBA_ID": "44",
                                    "FOGLALAS_PK": "1295",
                                    "Napok száma": "2",
                                    "Korábbi foglalás időtartama": "2"
                                },
                                {
                                    "SZOBA_ID": "44",
                                    "FOGLALAS_PK": "1425",
                                    "Napok száma": "2",
                                    "Korábbi foglalás időtartama": "2"
                                },
                                {
                                    "SZOBA_ID": "44",
                                    "FOGLALAS_PK": "1552",
                                    "Napok száma": "2",
                                    "Korábbi foglalás időtartama": "2"
                                },
                                {
                                    "SZOBA_ID": "45",
                                    "FOGLALAS_PK": "802",
                                    "Napok száma": "7",
                                    "Korábbi foglalás időtartama": "0"
                                },
                                {
                                    "SZOBA_ID": "45",
                                    "FOGLALAS_PK": "800",
                                    "Napok száma": "5",
                                    "Korábbi foglalás időtartama": "7"
                                },
                                {
                                    "SZOBA_ID": "45",
                                    "FOGLALAS_PK": "846",
                                    "Napok száma": "3",
                                    "Korábbi foglalás időtartama": "5"
                                },
                                {
                                    "SZOBA_ID": "45",
                                    "FOGLALAS_PK": "1135",
                                    "Napok száma": "3",
                                    "Korábbi foglalás időtartama": "3"
                                },
                                {
                                    "SZOBA_ID": "45",
                                    "FOGLALAS_PK": "1303",
                                    "Napok száma": "2",
                                    "Korábbi foglalás időtartama": "3"
                                },
                                {
                                    "SZOBA_ID": "46",
                                    "FOGLALAS_PK": "752",
                                    "Napok száma": "5",
                                    "Korábbi foglalás időtartama": "0"
                                },
                                {
                                    "SZOBA_ID": "46",
                                    "FOGLALAS_PK": "1187",
                                    "Napok száma": "7",
                                    "Korábbi foglalás időtartama": "5"
                                },
                                {
                                    "SZOBA_ID": "46",
                                    "FOGLALAS_PK": "1291",
                                    "Napok száma": "3",
                                    "Korábbi foglalás időtartama": "7"
                                },
                                {
                                    "SZOBA_ID": "46",
                                    "FOGLALAS_PK": "1515",
                                    "Napok száma": "4",
                                    "Korábbi foglalás időtartama": "3"
                                },
                                {
                                    "SZOBA_ID": "47",
                                    "FOGLALAS_PK": "955",
                                    "Napok száma": "1",
                                    "Korábbi foglalás időtartama": "0"
                                },
                                {
                                    "SZOBA_ID": "47",
                                    "FOGLALAS_PK": "1056",
                                    "Napok száma": "7",
                                    "Korábbi foglalás időtartama": "1"
                                },
                                {
                                    "SZOBA_ID": "48",
                                    "FOGLALAS_PK": "603",
                                    "Napok száma": "3",
                                    "Korábbi foglalás időtartama": "0"
                                },
                                {
                                    "SZOBA_ID": "48",
                                    "FOGLALAS_PK": "628",
                                    "Napok száma": "2",
                                    "Korábbi foglalás időtartama": "3"
                                },
                                {
                                    "SZOBA_ID": "48",
                                    "FOGLALAS_PK": "914",
                                    "Napok száma": "5",
                                    "Korábbi foglalás időtartama": "2"
                                },
                                {
                                    "SZOBA_ID": "48",
                                    "FOGLALAS_PK": "986",
                                    "Napok száma": "5",
                                    "Korábbi foglalás időtartama": "5"
                                },
                                {
                                    "SZOBA_ID": "48",
                                    "FOGLALAS_PK": "824",
                                    "Napok száma": "2",
                                    "Korábbi foglalás időtartama": "5"
                                },
                                {
                                    "SZOBA_ID": "48",
                                    "FOGLALAS_PK": "1243",
                                    "Napok száma": "6",
                                    "Korábbi foglalás időtartama": "2"
                                },
                                {
                                    "SZOBA_ID": "48",
                                    "FOGLALAS_PK": "1546",
                                    "Napok száma": "3",
                                    "Korábbi foglalás időtartama": "6"
                                },
                                {
                                    "SZOBA_ID": "48",
                                    "FOGLALAS_PK": "1547",
                                    "Napok száma": "1",
                                    "Korábbi foglalás időtartama": "3"
                                },
                                {
                                    "SZOBA_ID": "48",
                                    "FOGLALAS_PK": "1581",
                                    "Napok száma": "5",
                                    "Korábbi foglalás időtartama": "1"
                                },
                                {
                                    "SZOBA_ID": "49",
                                    "FOGLALAS_PK": "888",
                                    "Napok száma": "7",
                                    "Korábbi foglalás időtartama": "0"
                                },
                                {
                                    "SZOBA_ID": "49",
                                    "FOGLALAS_PK": "793",
                                    "Napok száma": "6",
                                    "Korábbi foglalás időtartama": "7"
                                },
                                {
                                    "SZOBA_ID": "49",
                                    "FOGLALAS_PK": "826",
                                    "Napok száma": "4",
                                    "Korábbi foglalás időtartama": "6"
                                },
                                {
                                    "SZOBA_ID": "49",
                                    "FOGLALAS_PK": "1066",
                                    "Napok száma": "7",
                                    "Korábbi foglalás időtartama": "4"
                                },
                                {
                                    "SZOBA_ID": "49",
                                    "FOGLALAS_PK": "1200",
                                    "Napok száma": "7",
                                    "Korábbi foglalás időtartama": "7"
                                },
                                {
                                    "SZOBA_ID": "49",
                                    "FOGLALAS_PK": "1221",
                                    "Napok száma": "2",
                                    "Korábbi foglalás időtartama": "7"
                                },
                                {
                                    "SZOBA_ID": "49",
                                    "FOGLALAS_PK": "1536",
                                    "Napok száma": "6",
                                    "Korábbi foglalás időtartama": "2"
                                },
                                {
                                    "SZOBA_ID": "50",
                                    "FOGLALAS_PK": "787",
                                    "Napok száma": "3",
                                    "Korábbi foglalás időtartama": "0"
                                },
                                {
                                    "SZOBA_ID": "50",
                                    "FOGLALAS_PK": "1063",
                                    "Napok száma": "2",
                                    "Korábbi foglalás időtartama": "3"
                                },
                                {
                                    "SZOBA_ID": "50",
                                    "FOGLALAS_PK": "1224",
                                    "Napok száma": "1",
                                    "Korábbi foglalás időtartama": "2"
                                },
                                {
                                    "SZOBA_ID": "50",
                                    "FOGLALAS_PK": "1272",
                                    "Napok száma": "1",
                                    "Korábbi foglalás időtartama": "1"
                                },
                                {
                                    "SZOBA_ID": "51",
                                    "FOGLALAS_PK": "865",
                                    "Napok száma": "7",
                                    "Korábbi foglalás időtartama": "0"
                                },
                                {
                                    "SZOBA_ID": "51",
                                    "FOGLALAS_PK": "811",
                                    "Napok száma": "2",
                                    "Korábbi foglalás időtartama": "7"
                                },
                                {
                                    "SZOBA_ID": "51",
                                    "FOGLALAS_PK": "1165",
                                    "Napok száma": "5",
                                    "Korábbi foglalás időtartama": "2"
                                },
                                {
                                    "SZOBA_ID": "51",
                                    "FOGLALAS_PK": "1477",
                                    "Napok száma": "6",
                                    "Korábbi foglalás időtartama": "5"
                                },
                                {
                                    "SZOBA_ID": "51",
                                    "FOGLALAS_PK": "1550",
                                    "Napok száma": "1",
                                    "Korábbi foglalás időtartama": "6"
                                },
                                {
                                    "SZOBA_ID": "52",
                                    "FOGLALAS_PK": "822",
                                    "Napok száma": "7",
                                    "Korábbi foglalás időtartama": "0"
                                },
                                {
                                    "SZOBA_ID": "52",
                                    "FOGLALAS_PK": "1202",
                                    "Napok száma": "2",
                                    "Korábbi foglalás időtartama": "7"
                                },
                                {
                                    "SZOBA_ID": "52",
                                    "FOGLALAS_PK": "1258",
                                    "Napok száma": "5",
                                    "Korábbi foglalás időtartama": "2"
                                },
                                {
                                    "SZOBA_ID": "52",
                                    "FOGLALAS_PK": "1431",
                                    "Napok száma": "5",
                                    "Korábbi foglalás időtartama": "5"
                                },
                                {
                                    "SZOBA_ID": "52",
                                    "FOGLALAS_PK": "1534",
                                    "Napok száma": "5",
                                    "Korábbi foglalás időtartama": "5"
                                },
                                {
                                    "SZOBA_ID": "53",
                                    "FOGLALAS_PK": "855",
                                    "Napok száma": "1",
                                    "Korábbi foglalás időtartama": "0"
                                },
                                {
                                    "SZOBA_ID": "53",
                                    "FOGLALAS_PK": "987",
                                    "Napok száma": "4",
                                    "Korábbi foglalás időtartama": "1"
                                },
                                {
                                    "SZOBA_ID": "54",
                                    "FOGLALAS_PK": "622",
                                    "Napok száma": "7",
                                    "Korábbi foglalás időtartama": "0"
                                },
                                {
                                    "SZOBA_ID": "54",
                                    "FOGLALAS_PK": "642",
                                    "Napok száma": "5",
                                    "Korábbi foglalás időtartama": "7"
                                },
                                {
                                    "SZOBA_ID": "54",
                                    "FOGLALAS_PK": "889",
                                    "Napok száma": "2",
                                    "Korábbi foglalás időtartama": "5"
                                },
                                {
                                    "SZOBA_ID": "54",
                                    "FOGLALAS_PK": "668",
                                    "Napok száma": "1",
                                    "Korábbi foglalás időtartama": "2"
                                },
                                {
                                    "SZOBA_ID": "54",
                                    "FOGLALAS_PK": "1096",
                                    "Napok száma": "4",
                                    "Korábbi foglalás időtartama": "1"
                                },
                                {
                                    "SZOBA_ID": "54",
                                    "FOGLALAS_PK": "1328",
                                    "Napok száma": "4",
                                    "Korábbi foglalás időtartama": "4"
                                },
                                {
                                    "SZOBA_ID": "55",
                                    "FOGLALAS_PK": "734",
                                    "Napok száma": "6",
                                    "Korábbi foglalás időtartama": "0"
                                },
                                {
                                    "SZOBA_ID": "55",
                                    "FOGLALAS_PK": "1086",
                                    "Napok száma": "5",
                                    "Korábbi foglalás időtartama": "6"
                                },
                                {
                                    "SZOBA_ID": "55",
                                    "FOGLALAS_PK": "1163",
                                    "Napok száma": "2",
                                    "Korábbi foglalás időtartama": "5"
                                },
                                {
                                    "SZOBA_ID": "55",
                                    "FOGLALAS_PK": "1232",
                                    "Napok száma": "7",
                                    "Korábbi foglalás időtartama": "2"
                                },
                                {
                                    "SZOBA_ID": "55",
                                    "FOGLALAS_PK": "1327",
                                    "Napok száma": "6",
                                    "Korábbi foglalás időtartama": "7"
                                },
                                {
                                    "SZOBA_ID": "55",
                                    "FOGLALAS_PK": "1386",
                                    "Napok száma": "2",
                                    "Korábbi foglalás időtartama": "6"
                                },
                                {
                                    "SZOBA_ID": "55",
                                    "FOGLALAS_PK": "1512",
                                    "Napok száma": "1",
                                    "Korábbi foglalás időtartama": "2"
                                },
                                {
                                    "SZOBA_ID": "55",
                                    "FOGLALAS_PK": "1520",
                                    "Napok száma": "1",
                                    "Korábbi foglalás időtartama": "1"
                                },
                                {
                                    "SZOBA_ID": "56",
                                    "FOGLALAS_PK": "935",
                                    "Napok száma": "4",
                                    "Korábbi foglalás időtartama": "0"
                                },
                                {
                                    "SZOBA_ID": "56",
                                    "FOGLALAS_PK": "838",
                                    "Napok száma": "2",
                                    "Korábbi foglalás időtartama": "4"
                                },
                                {
                                    "SZOBA_ID": "57",
                                    "FOGLALAS_PK": "1348",
                                    "Napok száma": "1",
                                    "Korábbi foglalás időtartama": "0"
                                },
                                {
                                    "SZOBA_ID": "57",
                                    "FOGLALAS_PK": "1389",
                                    "Napok száma": "1",
                                    "Korábbi foglalás időtartama": "1"
                                },
                                {
                                    "SZOBA_ID": "57",
                                    "FOGLALAS_PK": "1466",
                                    "Napok száma": "7",
                                    "Korábbi foglalás időtartama": "1"
                                },
                                {
                                    "SZOBA_ID": "57",
                                    "FOGLALAS_PK": "1504",
                                    "Napok száma": "4",
                                    "Korábbi foglalás időtartama": "7"
                                },
                                {
                                    "SZOBA_ID": "58",
                                    "FOGLALAS_PK": "883",
                                    "Napok száma": "5",
                                    "Korábbi foglalás időtartama": "0"
                                },
                                {
                                    "SZOBA_ID": "58",
                                    "FOGLALAS_PK": "719",
                                    "Napok száma": "3",
                                    "Korábbi foglalás időtartama": "5"
                                },
                                {
                                    "SZOBA_ID": "58",
                                    "FOGLALAS_PK": "773",
                                    "Napok száma": "2",
                                    "Korábbi foglalás időtartama": "3"
                                },
                                {
                                    "SZOBA_ID": "58",
                                    "FOGLALAS_PK": "1113",
                                    "Napok száma": "3",
                                    "Korábbi foglalás időtartama": "2"
                                },
                                {
                                    "SZOBA_ID": "58",
                                    "FOGLALAS_PK": "1186",
                                    "Napok száma": "6",
                                    "Korábbi foglalás időtartama": "3"
                                },
                                {
                                    "SZOBA_ID": "58",
                                    "FOGLALAS_PK": "1208",
                                    "Napok száma": "6",
                                    "Korábbi foglalás időtartama": "6"
                                },
                                {
                                    "SZOBA_ID": "58",
                                    "FOGLALAS_PK": "1255",
                                    "Napok száma": "7",
                                    "Korábbi foglalás időtartama": "6"
                                },
                                {
                                    "SZOBA_ID": "58",
                                    "FOGLALAS_PK": "1261",
                                    "Napok száma": "6",
                                    "Korábbi foglalás időtartama": "7"
                                },
                                {
                                    "SZOBA_ID": "58",
                                    "FOGLALAS_PK": "1285",
                                    "Napok száma": "7",
                                    "Korábbi foglalás időtartama": "6"
                                },
                                {
                                    "SZOBA_ID": "58",
                                    "FOGLALAS_PK": "1293",
                                    "Napok száma": "3",
                                    "Korábbi foglalás időtartama": "7"
                                },
                                {
                                    "SZOBA_ID": "58",
                                    "FOGLALAS_PK": "1307",
                                    "Napok száma": "6",
                                    "Korábbi foglalás időtartama": "3"
                                },
                                {
                                    "SZOBA_ID": "58",
                                    "FOGLALAS_PK": "1322",
                                    "Napok száma": "3",
                                    "Korábbi foglalás időtartama": "6"
                                },
                                {
                                    "SZOBA_ID": "58",
                                    "FOGLALAS_PK": "1451",
                                    "Napok száma": "6",
                                    "Korábbi foglalás időtartama": "3"
                                },
                                {
                                    "SZOBA_ID": "59",
                                    "FOGLALAS_PK": "1080",
                                    "Napok száma": "1",
                                    "Korábbi foglalás időtartama": "0"
                                },
                                {
                                    "SZOBA_ID": "59",
                                    "FOGLALAS_PK": "1084",
                                    "Napok száma": "2",
                                    "Korábbi foglalás időtartama": "1"
                                },
                                {
                                    "SZOBA_ID": "59",
                                    "FOGLALAS_PK": "1170",
                                    "Napok száma": "5",
                                    "Korábbi foglalás időtartama": "2"
                                },
                                {
                                    "SZOBA_ID": "59",
                                    "FOGLALAS_PK": "1191",
                                    "Napok száma": "6",
                                    "Korábbi foglalás időtartama": "5"
                                },
                                {
                                    "SZOBA_ID": "59",
                                    "FOGLALAS_PK": "1239",
                                    "Napok száma": "2",
                                    "Korábbi foglalás időtartama": "6"
                                },
                                {
                                    "SZOBA_ID": "59",
                                    "FOGLALAS_PK": "1288",
                                    "Napok száma": "3",
                                    "Korábbi foglalás időtartama": "2"
                                },
                                {
                                    "SZOBA_ID": "59",
                                    "FOGLALAS_PK": "1573",
                                    "Napok száma": "1",
                                    "Korábbi foglalás időtartama": "3"
                                },
                                {
                                    "SZOBA_ID": "60",
                                    "FOGLALAS_PK": "676",
                                    "Napok száma": "2",
                                    "Korábbi foglalás időtartama": "0"
                                },
                                {
                                    "SZOBA_ID": "61",
                                    "FOGLALAS_PK": "701",
                                    "Napok száma": "2",
                                    "Korábbi foglalás időtartama": "0"
                                },
                                {
                                    "SZOBA_ID": "61",
                                    "FOGLALAS_PK": "756",
                                    "Napok száma": "6",
                                    "Korábbi foglalás időtartama": "2"
                                },
                                {
                                    "SZOBA_ID": "61",
                                    "FOGLALAS_PK": "1148",
                                    "Napok száma": "3",
                                    "Korábbi foglalás időtartama": "6"
                                },
                                {
                                    "SZOBA_ID": "61",
                                    "FOGLALAS_PK": "1218",
                                    "Napok száma": "2",
                                    "Korábbi foglalás időtartama": "3"
                                },
                                {
                                    "SZOBA_ID": "61",
                                    "FOGLALAS_PK": "1496",
                                    "Napok száma": "7",
                                    "Korábbi foglalás időtartama": "2"
                                },
                                {
                                    "SZOBA_ID": "62",
                                    "FOGLALAS_PK": "936",
                                    "Napok száma": "3",
                                    "Korábbi foglalás időtartama": "0"
                                },
                                {
                                    "SZOBA_ID": "62",
                                    "FOGLALAS_PK": "938",
                                    "Napok száma": "1",
                                    "Korábbi foglalás időtartama": "3"
                                },
                                {
                                    "SZOBA_ID": "62",
                                    "FOGLALAS_PK": "702",
                                    "Napok száma": "5",
                                    "Korábbi foglalás időtartama": "1"
                                },
                                {
                                    "SZOBA_ID": "62",
                                    "FOGLALAS_PK": "1081",
                                    "Napok száma": "7",
                                    "Korábbi foglalás időtartama": "5"
                                },
                                {
                                    "SZOBA_ID": "62",
                                    "FOGLALAS_PK": "1426",
                                    "Napok száma": "4",
                                    "Korábbi foglalás időtartama": "7"
                                },
                                {
                                    "SZOBA_ID": "63",
                                    "FOGLALAS_PK": "625",
                                    "Napok száma": "3",
                                    "Korábbi foglalás időtartama": "0"
                                },
                                {
                                    "SZOBA_ID": "63",
                                    "FOGLALAS_PK": "891",
                                    "Napok száma": "6",
                                    "Korábbi foglalás időtartama": "3"
                                },
                                {
                                    "SZOBA_ID": "63",
                                    "FOGLALAS_PK": "769",
                                    "Napok száma": "5",
                                    "Korábbi foglalás időtartama": "6"
                                },
                                {
                                    "SZOBA_ID": "63",
                                    "FOGLALAS_PK": "845",
                                    "Napok száma": "1",
                                    "Korábbi foglalás időtartama": "5"
                                },
                                {
                                    "SZOBA_ID": "64",
                                    "FOGLALAS_PK": "875",
                                    "Napok száma": "2",
                                    "Korábbi foglalás időtartama": "0"
                                },
                                {
                                    "SZOBA_ID": "64",
                                    "FOGLALAS_PK": "1122",
                                    "Napok száma": "4",
                                    "Korábbi foglalás időtartama": "2"
                                },
                                {
                                    "SZOBA_ID": "64",
                                    "FOGLALAS_PK": "1233",
                                    "Napok száma": "7",
                                    "Korábbi foglalás időtartama": "4"
                                },
                                {
                                    "SZOBA_ID": "64",
                                    "FOGLALAS_PK": "1446",
                                    "Napok száma": "6",
                                    "Korábbi foglalás időtartama": "7"
                                },
                                {
                                    "SZOBA_ID": "64",
                                    "FOGLALAS_PK": "1465",
                                    "Napok száma": "4",
                                    "Korábbi foglalás időtartama": "6"
                                },
                                {
                                    "SZOBA_ID": "64",
                                    "FOGLALAS_PK": "1582",
                                    "Napok száma": "1",
                                    "Korábbi foglalás időtartama": "4"
                                },
                                {
                                    "SZOBA_ID": "65",
                                    "FOGLALAS_PK": "650",
                                    "Napok száma": "6",
                                    "Korábbi foglalás időtartama": "0"
                                },
                                {
                                    "SZOBA_ID": "66",
                                    "FOGLALAS_PK": "950",
                                    "Napok száma": "3",
                                    "Korábbi foglalás időtartama": "0"
                                },
                                {
                                    "SZOBA_ID": "66",
                                    "FOGLALAS_PK": "736",
                                    "Napok száma": "3",
                                    "Korábbi foglalás időtartama": "3"
                                },
                                {
                                    "SZOBA_ID": "66",
                                    "FOGLALAS_PK": "1234",
                                    "Napok száma": "3",
                                    "Korábbi foglalás időtartama": "3"
                                },
                                {
                                    "SZOBA_ID": "66",
                                    "FOGLALAS_PK": "1264",
                                    "Napok száma": "4",
                                    "Korábbi foglalás időtartama": "3"
                                },
                                {
                                    "SZOBA_ID": "67",
                                    "FOGLALAS_PK": "638",
                                    "Napok száma": "5",
                                    "Korábbi foglalás időtartama": "0"
                                },
                                {
                                    "SZOBA_ID": "67",
                                    "FOGLALAS_PK": "645",
                                    "Napok száma": "6",
                                    "Korábbi foglalás időtartama": "5"
                                },
                                {
                                    "SZOBA_ID": "67",
                                    "FOGLALAS_PK": "874",
                                    "Napok száma": "6",
                                    "Korábbi foglalás időtartama": "6"
                                },
                                {
                                    "SZOBA_ID": "67",
                                    "FOGLALAS_PK": "1382",
                                    "Napok száma": "1",
                                    "Korábbi foglalás időtartama": "6"
                                },
                                {
                                    "SZOBA_ID": "67",
                                    "FOGLALAS_PK": "1580",
                                    "Napok száma": "5",
                                    "Korábbi foglalás időtartama": "1"
                                },
                                {
                                    "SZOBA_ID": "67",
                                    "FOGLALAS_PK": "1584",
                                    "Napok száma": "1",
                                    "Korábbi foglalás időtartama": "5"
                                },
                                {
                                    "SZOBA_ID": "68",
                                    "FOGLALAS_PK": "563",
                                    "Napok száma": "5",
                                    "Korábbi foglalás időtartama": "0"
                                },
                                {
                                    "SZOBA_ID": "68",
                                    "FOGLALAS_PK": "1027",
                                    "Napok száma": "7",
                                    "Korábbi foglalás időtartama": "5"
                                },
                                {
                                    "SZOBA_ID": "68",
                                    "FOGLALAS_PK": "1324",
                                    "Napok száma": "4",
                                    "Korábbi foglalás időtartama": "7"
                                },
                                {
                                    "SZOBA_ID": "69",
                                    "FOGLALAS_PK": "885",
                                    "Napok száma": "1",
                                    "Korábbi foglalás időtartama": "0"
                                },
                                {
                                    "SZOBA_ID": "69",
                                    "FOGLALAS_PK": "1055",
                                    "Napok száma": "5",
                                    "Korábbi foglalás időtartama": "1"
                                },
                                {
                                    "SZOBA_ID": "69",
                                    "FOGLALAS_PK": "1225",
                                    "Napok száma": "5",
                                    "Korábbi foglalás időtartama": "5"
                                },
                                {
                                    "SZOBA_ID": "69",
                                    "FOGLALAS_PK": "1246",
                                    "Napok száma": "7",
                                    "Korábbi foglalás időtartama": "5"
                                },
                                {
                                    "SZOBA_ID": "70",
                                    "FOGLALAS_PK": "585",
                                    "Napok száma": "5",
                                    "Korábbi foglalás időtartama": "0"
                                },
                                {
                                    "SZOBA_ID": "70",
                                    "FOGLALAS_PK": "860",
                                    "Napok száma": "2",
                                    "Korábbi foglalás időtartama": "5"
                                },
                                {
                                    "SZOBA_ID": "70",
                                    "FOGLALAS_PK": "1006",
                                    "Napok száma": "3",
                                    "Korábbi foglalás időtartama": "2"
                                },
                                {
                                    "SZOBA_ID": "70",
                                    "FOGLALAS_PK": "704",
                                    "Napok száma": "3",
                                    "Korábbi foglalás időtartama": "3"
                                },
                                {
                                    "SZOBA_ID": "70",
                                    "FOGLALAS_PK": "814",
                                    "Napok száma": "3",
                                    "Korábbi foglalás időtartama": "3"
                                },
                                {
                                    "SZOBA_ID": "70",
                                    "FOGLALAS_PK": "1092",
                                    "Napok száma": "3",
                                    "Korábbi foglalás időtartama": "3"
                                },
                                {
                                    "SZOBA_ID": "70",
                                    "FOGLALAS_PK": "1126",
                                    "Napok száma": "3",
                                    "Korábbi foglalás időtartama": "3"
                                },
                                {
                                    "SZOBA_ID": "70",
                                    "FOGLALAS_PK": "1325",
                                    "Napok száma": "7",
                                    "Korábbi foglalás időtartama": "3"
                                },
                                {
                                    "SZOBA_ID": "70",
                                    "FOGLALAS_PK": "1333",
                                    "Napok száma": "6",
                                    "Korábbi foglalás időtartama": "7"
                                },
                                {
                                    "SZOBA_ID": "70",
                                    "FOGLALAS_PK": "1365",
                                    "Napok száma": "3",
                                    "Korábbi foglalás időtartama": "6"
                                },
                                {
                                    "SZOBA_ID": "70",
                                    "FOGLALAS_PK": "1457",
                                    "Napok száma": "7",
                                    "Korábbi foglalás időtartama": "3"
                                },
                                {
                                    "SZOBA_ID": "71",
                                    "FOGLALAS_PK": "1009",
                                    "Napok száma": "1",
                                    "Korábbi foglalás időtartama": "0"
                                },
                                {
                                    "SZOBA_ID": "71",
                                    "FOGLALAS_PK": "681",
                                    "Napok száma": "3",
                                    "Korábbi foglalás időtartama": "1"
                                },
                                {
                                    "SZOBA_ID": "71",
                                    "FOGLALAS_PK": "712",
                                    "Napok száma": "1",
                                    "Korábbi foglalás időtartama": "3"
                                },
                                {
                                    "SZOBA_ID": "72",
                                    "FOGLALAS_PK": "902",
                                    "Napok száma": "5",
                                    "Korábbi foglalás időtartama": "0"
                                },
                                {
                                    "SZOBA_ID": "72",
                                    "FOGLALAS_PK": "961",
                                    "Napok száma": "6",
                                    "Korábbi foglalás időtartama": "5"
                                },
                                {
                                    "SZOBA_ID": "72",
                                    "FOGLALAS_PK": "1318",
                                    "Napok száma": "2",
                                    "Korábbi foglalás időtartama": "6"
                                },
                                {
                                    "SZOBA_ID": "72",
                                    "FOGLALAS_PK": "1396",
                                    "Napok száma": "3",
                                    "Korábbi foglalás időtartama": "2"
                                },
                                {
                                    "SZOBA_ID": "73",
                                    "FOGLALAS_PK": "1000",
                                    "Napok száma": "4",
                                    "Korábbi foglalás időtartama": "0"
                                },
                                {
                                    "SZOBA_ID": "73",
                                    "FOGLALAS_PK": "714",
                                    "Napok száma": "7",
                                    "Korábbi foglalás időtartama": "4"
                                },
                                {
                                    "SZOBA_ID": "73",
                                    "FOGLALAS_PK": "1159",
                                    "Napok száma": "5",
                                    "Korábbi foglalás időtartama": "7"
                                },
                                {
                                    "SZOBA_ID": "73",
                                    "FOGLALAS_PK": "1331",
                                    "Napok száma": "4",
                                    "Korábbi foglalás időtartama": "5"
                                },
                                {
                                    "SZOBA_ID": "74",
                                    "FOGLALAS_PK": "595",
                                    "Napok száma": "7",
                                    "Korábbi foglalás időtartama": "0"
                                },
                                {
                                    "SZOBA_ID": "74",
                                    "FOGLALAS_PK": "877",
                                    "Napok száma": "4",
                                    "Korábbi foglalás időtartama": "7"
                                },
                                {
                                    "SZOBA_ID": "74",
                                    "FOGLALAS_PK": "940",
                                    "Napok száma": "5",
                                    "Korábbi foglalás időtartama": "4"
                                },
                                {
                                    "SZOBA_ID": "74",
                                    "FOGLALAS_PK": "963",
                                    "Napok száma": "1",
                                    "Korábbi foglalás időtartama": "5"
                                },
                                {
                                    "SZOBA_ID": "74",
                                    "FOGLALAS_PK": "797",
                                    "Napok száma": "5",
                                    "Korábbi foglalás időtartama": "1"
                                },
                                {
                                    "SZOBA_ID": "74",
                                    "FOGLALAS_PK": "830",
                                    "Napok száma": "1",
                                    "Korábbi foglalás időtartama": "5"
                                },
                                {
                                    "SZOBA_ID": "74",
                                    "FOGLALAS_PK": "847",
                                    "Napok száma": "3",
                                    "Korábbi foglalás időtartama": "1"
                                },
                                {
                                    "SZOBA_ID": "74",
                                    "FOGLALAS_PK": "1093",
                                    "Napok száma": "6",
                                    "Korábbi foglalás időtartama": "3"
                                },
                                {
                                    "SZOBA_ID": "74",
                                    "FOGLALAS_PK": "1179",
                                    "Napok száma": "7",
                                    "Korábbi foglalás időtartama": "6"
                                },
                                {
                                    "SZOBA_ID": "75",
                                    "FOGLALAS_PK": "1013",
                                    "Napok száma": "5",
                                    "Korábbi foglalás időtartama": "0"
                                },
                                {
                                    "SZOBA_ID": "75",
                                    "FOGLALAS_PK": "1412",
                                    "Napok száma": "2",
                                    "Korábbi foglalás időtartama": "5"
                                },
                                {
                                    "SZOBA_ID": "75",
                                    "FOGLALAS_PK": "1458",
                                    "Napok száma": "1",
                                    "Korábbi foglalás időtartama": "2"
                                },
                                {
                                    "SZOBA_ID": "76",
                                    "FOGLALAS_PK": "976",
                                    "Napok száma": "2",
                                    "Korábbi foglalás időtartama": "0"
                                },
                                {
                                    "SZOBA_ID": "76",
                                    "FOGLALAS_PK": "683",
                                    "Napok száma": "7",
                                    "Korábbi foglalás időtartama": "2"
                                },
                                {
                                    "SZOBA_ID": "76",
                                    "FOGLALAS_PK": "1557",
                                    "Napok száma": "3",
                                    "Korábbi foglalás időtartama": "7"
                                },
                                {
                                    "SZOBA_ID": "77",
                                    "FOGLALAS_PK": "593",
                                    "Napok száma": "3",
                                    "Korábbi foglalás időtartama": "0"
                                },
                                {
                                    "SZOBA_ID": "77",
                                    "FOGLALAS_PK": "982",
                                    "Napok száma": "3",
                                    "Korábbi foglalás időtartama": "3"
                                },
                                {
                                    "SZOBA_ID": "77",
                                    "FOGLALAS_PK": "698",
                                    "Napok száma": "4",
                                    "Korábbi foglalás időtartama": "3"
                                },
                                {
                                    "SZOBA_ID": "77",
                                    "FOGLALAS_PK": "1104",
                                    "Napok száma": "1",
                                    "Korábbi foglalás időtartama": "4"
                                },
                                {
                                    "SZOBA_ID": "77",
                                    "FOGLALAS_PK": "1439",
                                    "Napok száma": "6",
                                    "Korábbi foglalás időtartama": "1"
                                },
                                {
                                    "SZOBA_ID": "77",
                                    "FOGLALAS_PK": "1461",
                                    "Napok száma": "4",
                                    "Korábbi foglalás időtartama": "6"
                                },
                                {
                                    "SZOBA_ID": "78",
                                    "FOGLALAS_PK": "568",
                                    "Napok száma": "1",
                                    "Korábbi foglalás időtartama": "0"
                                },
                                {
                                    "SZOBA_ID": "78",
                                    "FOGLALAS_PK": "646",
                                    "Napok száma": "3",
                                    "Korábbi foglalás időtartama": "1"
                                },
                                {
                                    "SZOBA_ID": "78",
                                    "FOGLALAS_PK": "700",
                                    "Napok száma": "5",
                                    "Korábbi foglalás időtartama": "3"
                                },
                                {
                                    "SZOBA_ID": "78",
                                    "FOGLALAS_PK": "1268",
                                    "Napok száma": "2",
                                    "Korábbi foglalás időtartama": "5"
                                },
                                {
                                    "SZOBA_ID": "78",
                                    "FOGLALAS_PK": "1281",
                                    "Napok száma": "3",
                                    "Korábbi foglalás időtartama": "2"
                                },
                                {
                                    "SZOBA_ID": "78",
                                    "FOGLALAS_PK": "1577",
                                    "Napok száma": "7",
                                    "Korábbi foglalás időtartama": "3"
                                },
                                {
                                    "SZOBA_ID": "79",
                                    "FOGLALAS_PK": "583",
                                    "Napok száma": "6",
                                    "Korábbi foglalás időtartama": "0"
                                },
                                {
                                    "SZOBA_ID": "79",
                                    "FOGLALAS_PK": "1054",
                                    "Napok száma": "1",
                                    "Korábbi foglalás időtartama": "6"
                                },
                                {
                                    "SZOBA_ID": "79",
                                    "FOGLALAS_PK": "1229",
                                    "Napok száma": "7",
                                    "Korábbi foglalás időtartama": "1"
                                },
                                {
                                    "SZOBA_ID": "79",
                                    "FOGLALAS_PK": "1345",
                                    "Napok száma": "3",
                                    "Korábbi foglalás időtartama": "7"
                                },
                                {
                                    "SZOBA_ID": "79",
                                    "FOGLALAS_PK": "1447",
                                    "Napok száma": "4",
                                    "Korábbi foglalás időtartama": "3"
                                },
                                {
                                    "SZOBA_ID": "80",
                                    "FOGLALAS_PK": "887",
                                    "Napok száma": "6",
                                    "Korábbi foglalás időtartama": "0"
                                },
                                {
                                    "SZOBA_ID": "80",
                                    "FOGLALAS_PK": "929",
                                    "Napok száma": "2",
                                    "Korábbi foglalás időtartama": "6"
                                },
                                {
                                    "SZOBA_ID": "80",
                                    "FOGLALAS_PK": "983",
                                    "Napok száma": "6",
                                    "Korábbi foglalás időtartama": "2"
                                },
                                {
                                    "SZOBA_ID": "80",
                                    "FOGLALAS_PK": "667",
                                    "Napok száma": "6",
                                    "Korábbi foglalás időtartama": "6"
                                },
                                {
                                    "SZOBA_ID": "80",
                                    "FOGLALAS_PK": "1071",
                                    "Napok száma": "4",
                                    "Korábbi foglalás időtartama": "6"
                                },
                                {
                                    "SZOBA_ID": "80",
                                    "FOGLALAS_PK": "1279",
                                    "Napok száma": "5",
                                    "Korábbi foglalás időtartama": "4"
                                },
                                {
                                    "SZOBA_ID": "80",
                                    "FOGLALAS_PK": "1367",
                                    "Napok száma": "3",
                                    "Korábbi foglalás időtartama": "5"
                                },
                                {
                                    "SZOBA_ID": "81",
                                    "FOGLALAS_PK": "1366",
                                    "Napok száma": "5",
                                    "Korábbi foglalás időtartama": "0"
                                },
                                {
                                    "SZOBA_ID": "81",
                                    "FOGLALAS_PK": "1443",
                                    "Napok száma": "7",
                                    "Korábbi foglalás időtartama": "5"
                                },
                                {
                                    "SZOBA_ID": "81",
                                    "FOGLALAS_PK": "1464",
                                    "Napok száma": "7",
                                    "Korábbi foglalás időtartama": "7"
                                },
                                {
                                    "SZOBA_ID": "81",
                                    "FOGLALAS_PK": "1506",
                                    "Napok száma": "3",
                                    "Korábbi foglalás időtartama": "7"
                                },
                                {
                                    "SZOBA_ID": "81",
                                    "FOGLALAS_PK": "1562",
                                    "Napok száma": "3",
                                    "Korábbi foglalás időtartama": "3"
                                },
                                {
                                    "SZOBA_ID": "82",
                                    "FOGLALAS_PK": "862",
                                    "Napok száma": "4",
                                    "Korábbi foglalás időtartama": "0"
                                },
                                {
                                    "SZOBA_ID": "82",
                                    "FOGLALAS_PK": "871",
                                    "Napok száma": "5",
                                    "Korábbi foglalás időtartama": "4"
                                },
                                {
                                    "SZOBA_ID": "82",
                                    "FOGLALAS_PK": "997",
                                    "Napok száma": "6",
                                    "Korábbi foglalás időtartama": "5"
                                },
                                {
                                    "SZOBA_ID": "82",
                                    "FOGLALAS_PK": "1277",
                                    "Napok száma": "5",
                                    "Korábbi foglalás időtartama": "6"
                                },
                                {
                                    "SZOBA_ID": "82",
                                    "FOGLALAS_PK": "1341",
                                    "Napok száma": "2",
                                    "Korábbi foglalás időtartama": "5"
                                },
                                {
                                    "SZOBA_ID": "82",
                                    "FOGLALAS_PK": "1406",
                                    "Napok száma": "1",
                                    "Korábbi foglalás időtartama": "2"
                                },
                                {
                                    "SZOBA_ID": "83",
                                    "FOGLALAS_PK": "572",
                                    "Napok száma": "7",
                                    "Korábbi foglalás időtartama": "0"
                                },
                                {
                                    "SZOBA_ID": "83",
                                    "FOGLALAS_PK": "869",
                                    "Napok száma": "6",
                                    "Korábbi foglalás időtartama": "7"
                                },
                                {
                                    "SZOBA_ID": "83",
                                    "FOGLALAS_PK": "878",
                                    "Napok száma": "6",
                                    "Korábbi foglalás időtartama": "6"
                                },
                                {
                                    "SZOBA_ID": "83",
                                    "FOGLALAS_PK": "995",
                                    "Napok száma": "5",
                                    "Korábbi foglalás időtartama": "6"
                                },
                                {
                                    "SZOBA_ID": "83",
                                    "FOGLALAS_PK": "674",
                                    "Napok száma": "4",
                                    "Korábbi foglalás időtartama": "5"
                                },
                                {
                                    "SZOBA_ID": "83",
                                    "FOGLALAS_PK": "798",
                                    "Napok száma": "4",
                                    "Korábbi foglalás időtartama": "4"
                                },
                                {
                                    "SZOBA_ID": "83",
                                    "FOGLALAS_PK": "1119",
                                    "Napok száma": "6",
                                    "Korábbi foglalás időtartama": "4"
                                },
                                {
                                    "SZOBA_ID": "83",
                                    "FOGLALAS_PK": "1379",
                                    "Napok száma": "7",
                                    "Korábbi foglalás időtartama": "6"
                                },
                                {
                                    "SZOBA_ID": "84",
                                    "FOGLALAS_PK": "954",
                                    "Napok száma": "5",
                                    "Korábbi foglalás időtartama": "0"
                                },
                                {
                                    "SZOBA_ID": "84",
                                    "FOGLALAS_PK": "819",
                                    "Napok száma": "2",
                                    "Korábbi foglalás időtartama": "5"
                                },
                                {
                                    "SZOBA_ID": "84",
                                    "FOGLALAS_PK": "1376",
                                    "Napok száma": "5",
                                    "Korábbi foglalás időtartama": "2"
                                },
                                {
                                    "SZOBA_ID": "84",
                                    "FOGLALAS_PK": "1384",
                                    "Napok száma": "7",
                                    "Korábbi foglalás időtartama": "5"
                                },
                                {
                                    "SZOBA_ID": "85",
                                    "FOGLALAS_PK": "647",
                                    "Napok száma": "3",
                                    "Korábbi foglalás időtartama": "0"
                                },
                                {
                                    "SZOBA_ID": "85",
                                    "FOGLALAS_PK": "1059",
                                    "Napok száma": "3",
                                    "Korábbi foglalás időtartama": "3"
                                },
                                {
                                    "SZOBA_ID": "85",
                                    "FOGLALAS_PK": "1320",
                                    "Napok száma": "1",
                                    "Korábbi foglalás időtartama": "3"
                                },
                                {
                                    "SZOBA_ID": "85",
                                    "FOGLALAS_PK": "1513",
                                    "Napok száma": "7",
                                    "Korábbi foglalás időtartama": "1"
                                },
                                {
                                    "SZOBA_ID": "86",
                                    "FOGLALAS_PK": "859",
                                    "Napok száma": "1",
                                    "Korábbi foglalás időtartama": "0"
                                },
                                {
                                    "SZOBA_ID": "86",
                                    "FOGLALAS_PK": "1057",
                                    "Napok száma": "5",
                                    "Korábbi foglalás időtartama": "1"
                                },
                                {
                                    "SZOBA_ID": "86",
                                    "FOGLALAS_PK": "1079",
                                    "Napok száma": "4",
                                    "Korábbi foglalás időtartama": "5"
                                },
                                {
                                    "SZOBA_ID": "86",
                                    "FOGLALAS_PK": "1108",
                                    "Napok száma": "1",
                                    "Korábbi foglalás időtartama": "4"
                                },
                                {
                                    "SZOBA_ID": "86",
                                    "FOGLALAS_PK": "1453",
                                    "Napok száma": "1",
                                    "Korábbi foglalás időtartama": "1"
                                },
                                {
                                    "SZOBA_ID": "87",
                                    "FOGLALAS_PK": "558",
                                    "Napok száma": "4",
                                    "Korábbi foglalás időtartama": "0"
                                },
                                {
                                    "SZOBA_ID": "87",
                                    "FOGLALAS_PK": "844",
                                    "Napok száma": "1",
                                    "Korábbi foglalás időtartama": "4"
                                },
                                {
                                    "SZOBA_ID": "87",
                                    "FOGLALAS_PK": "1103",
                                    "Napok száma": "3",
                                    "Korábbi foglalás időtartama": "1"
                                },
                                {
                                    "SZOBA_ID": "87",
                                    "FOGLALAS_PK": "1349",
                                    "Napok száma": "5",
                                    "Korábbi foglalás időtartama": "3"
                                },
                                {
                                    "SZOBA_ID": "87",
                                    "FOGLALAS_PK": "1456",
                                    "Napok száma": "5",
                                    "Korábbi foglalás időtartama": "5"
                                },
                                {
                                    "SZOBA_ID": "88",
                                    "FOGLALAS_PK": "866",
                                    "Napok száma": "2",
                                    "Korábbi foglalás időtartama": "0"
                                },
                                {
                                    "SZOBA_ID": "88",
                                    "FOGLALAS_PK": "757",
                                    "Napok száma": "7",
                                    "Korábbi foglalás időtartama": "2"
                                },
                                {
                                    "SZOBA_ID": "88",
                                    "FOGLALAS_PK": "1196",
                                    "Napok száma": "3",
                                    "Korábbi foglalás időtartama": "7"
                                },
                                {
                                    "SZOBA_ID": "88",
                                    "FOGLALAS_PK": "1273",
                                    "Napok száma": "7",
                                    "Korábbi foglalás időtartama": "3"
                                },
                                {
                                    "SZOBA_ID": "88",
                                    "FOGLALAS_PK": "1300",
                                    "Napok száma": "3",
                                    "Korábbi foglalás időtartama": "7"
                                },
                                {
                                    "SZOBA_ID": "88",
                                    "FOGLALAS_PK": "1359",
                                    "Napok száma": "2",
                                    "Korábbi foglalás időtartama": "3"
                                },
                                {
                                    "SZOBA_ID": "88",
                                    "FOGLALAS_PK": "1548",
                                    "Napok száma": "7",
                                    "Korábbi foglalás időtartama": "2"
                                },
                                {
                                    "SZOBA_ID": "88",
                                    "FOGLALAS_PK": "1575",
                                    "Napok száma": "6",
                                    "Korábbi foglalás időtartama": "7"
                                },
                                {
                                    "SZOBA_ID": "89",
                                    "FOGLALAS_PK": "817",
                                    "Napok száma": "3",
                                    "Korábbi foglalás időtartama": "0"
                                },
                                {
                                    "SZOBA_ID": "89",
                                    "FOGLALAS_PK": "1037",
                                    "Napok száma": "7",
                                    "Korábbi foglalás időtartama": "3"
                                },
                                {
                                    "SZOBA_ID": "89",
                                    "FOGLALAS_PK": "1101",
                                    "Napok száma": "5",
                                    "Korábbi foglalás időtartama": "7"
                                },
                                {
                                    "SZOBA_ID": "89",
                                    "FOGLALAS_PK": "1189",
                                    "Napok száma": "6",
                                    "Korábbi foglalás időtartama": "5"
                                },
                                {
                                    "SZOBA_ID": "89",
                                    "FOGLALAS_PK": "1253",
                                    "Napok száma": "2",
                                    "Korábbi foglalás időtartama": "6"
                                },
                                {
                                    "SZOBA_ID": "89",
                                    "FOGLALAS_PK": "1269",
                                    "Napok száma": "2",
                                    "Korábbi foglalás időtartama": "2"
                                },
                                {
                                    "SZOBA_ID": "89",
                                    "FOGLALAS_PK": "1399",
                                    "Napok száma": "2",
                                    "Korábbi foglalás időtartama": "2"
                                },
                                {
                                    "SZOBA_ID": "89",
                                    "FOGLALAS_PK": "1521",
                                    "Napok száma": "7",
                                    "Korábbi foglalás időtartama": "2"
                                },
                                {
                                    "SZOBA_ID": "90",
                                    "FOGLALAS_PK": "729",
                                    "Napok száma": "2",
                                    "Korábbi foglalás időtartama": "0"
                                },
                                {
                                    "SZOBA_ID": "90",
                                    "FOGLALAS_PK": "1174",
                                    "Napok száma": "7",
                                    "Korábbi foglalás időtartama": "2"
                                },
                                {
                                    "SZOBA_ID": "90",
                                    "FOGLALAS_PK": "1299",
                                    "Napok száma": "6",
                                    "Korábbi foglalás időtartama": "7"
                                },
                                {
                                    "SZOBA_ID": "90",
                                    "FOGLALAS_PK": "1405",
                                    "Napok száma": "5",
                                    "Korábbi foglalás időtartama": "6"
                                },
                                {
                                    "SZOBA_ID": "91",
                                    "FOGLALAS_PK": "636",
                                    "Napok száma": "6",
                                    "Korábbi foglalás időtartama": "0"
                                },
                                {
                                    "SZOBA_ID": "91",
                                    "FOGLALAS_PK": "732",
                                    "Napok száma": "4",
                                    "Korábbi foglalás időtartama": "6"
                                },
                                {
                                    "SZOBA_ID": "91",
                                    "FOGLALAS_PK": "1213",
                                    "Napok száma": "3",
                                    "Korábbi foglalás időtartama": "4"
                                },
                                {
                                    "SZOBA_ID": "91",
                                    "FOGLALAS_PK": "1397",
                                    "Napok száma": "4",
                                    "Korábbi foglalás időtartama": "3"
                                },
                                {
                                    "SZOBA_ID": "92",
                                    "FOGLALAS_PK": "942",
                                    "Napok száma": "6",
                                    "Korábbi foglalás időtartama": "0"
                                },
                                {
                                    "SZOBA_ID": "92",
                                    "FOGLALAS_PK": "1016",
                                    "Napok száma": "2",
                                    "Korábbi foglalás időtartama": "6"
                                },
                                {
                                    "SZOBA_ID": "92",
                                    "FOGLALAS_PK": "809",
                                    "Napok száma": "3",
                                    "Korábbi foglalás időtartama": "2"
                                },
                                {
                                    "SZOBA_ID": "92",
                                    "FOGLALAS_PK": "841",
                                    "Napok száma": "6",
                                    "Korábbi foglalás időtartama": "3"
                                },
                                {
                                    "SZOBA_ID": "92",
                                    "FOGLALAS_PK": "1527",
                                    "Napok száma": "2",
                                    "Korábbi foglalás időtartama": "6"
                                },
                                {
                                    "SZOBA_ID": "92",
                                    "FOGLALAS_PK": "1555",
                                    "Napok száma": "4",
                                    "Korábbi foglalás időtartama": "2"
                                },
                                {
                                    "SZOBA_ID": "93",
                                    "FOGLALAS_PK": "741",
                                    "Napok száma": "7",
                                    "Korábbi foglalás időtartama": "0"
                                },
                                {
                                    "SZOBA_ID": "93",
                                    "FOGLALAS_PK": "1169",
                                    "Napok száma": "4",
                                    "Korábbi foglalás időtartama": "7"
                                },
                                {
                                    "SZOBA_ID": "93",
                                    "FOGLALAS_PK": "1217",
                                    "Napok száma": "1",
                                    "Korábbi foglalás időtartama": "4"
                                },
                                {
                                    "SZOBA_ID": "93",
                                    "FOGLALAS_PK": "1355",
                                    "Napok száma": "2",
                                    "Korábbi foglalás időtartama": "1"
                                },
                                {
                                    "SZOBA_ID": "93",
                                    "FOGLALAS_PK": "1391",
                                    "Napok száma": "4",
                                    "Korábbi foglalás időtartama": "2"
                                },
                                {
                                    "SZOBA_ID": "94",
                                    "FOGLALAS_PK": "616",
                                    "Napok száma": "4",
                                    "Korábbi foglalás időtartama": "0"
                                },
                                {
                                    "SZOBA_ID": "94",
                                    "FOGLALAS_PK": "975",
                                    "Napok száma": "5",
                                    "Korábbi foglalás időtartama": "4"
                                },
                                {
                                    "SZOBA_ID": "94",
                                    "FOGLALAS_PK": "665",
                                    "Napok száma": "7",
                                    "Korábbi foglalás időtartama": "5"
                                },
                                {
                                    "SZOBA_ID": "94",
                                    "FOGLALAS_PK": "727",
                                    "Napok száma": "3",
                                    "Korábbi foglalás időtartama": "7"
                                },
                                {
                                    "SZOBA_ID": "94",
                                    "FOGLALAS_PK": "1241",
                                    "Napok száma": "7",
                                    "Korábbi foglalás időtartama": "3"
                                },
                                {
                                    "SZOBA_ID": "94",
                                    "FOGLALAS_PK": "1305",
                                    "Napok száma": "2",
                                    "Korábbi foglalás időtartama": "7"
                                },
                                {
                                    "SZOBA_ID": "94",
                                    "FOGLALAS_PK": "1312",
                                    "Napok száma": "3",
                                    "Korábbi foglalás időtartama": "2"
                                },
                                {
                                    "SZOBA_ID": "94",
                                    "FOGLALAS_PK": "1368",
                                    "Napok száma": "1",
                                    "Korábbi foglalás időtartama": "3"
                                },
                                {
                                    "SZOBA_ID": "94",
                                    "FOGLALAS_PK": "1518",
                                    "Napok száma": "2",
                                    "Korábbi foglalás időtartama": "1"
                                },
                                {
                                    "SZOBA_ID": "94",
                                    "FOGLALAS_PK": "1564",
                                    "Napok száma": "7",
                                    "Korábbi foglalás időtartama": "2"
                                },
                                {
                                    "SZOBA_ID": "95",
                                    "FOGLALAS_PK": "656",
                                    "Napok száma": "7",
                                    "Korábbi foglalás időtartama": "0"
                                },
                                {
                                    "SZOBA_ID": "95",
                                    "FOGLALAS_PK": "1048",
                                    "Napok száma": "3",
                                    "Korábbi foglalás időtartama": "7"
                                },
                                {
                                    "SZOBA_ID": "95",
                                    "FOGLALAS_PK": "1097",
                                    "Napok száma": "4",
                                    "Korábbi foglalás időtartama": "3"
                                },
                                {
                                    "SZOBA_ID": "95",
                                    "FOGLALAS_PK": "1543",
                                    "Napok száma": "7",
                                    "Korábbi foglalás időtartama": "4"
                                },
                                {
                                    "SZOBA_ID": "96",
                                    "FOGLALAS_PK": "607",
                                    "Napok száma": "4",
                                    "Korábbi foglalás időtartama": "0"
                                },
                                {
                                    "SZOBA_ID": "96",
                                    "FOGLALAS_PK": "623",
                                    "Napok száma": "7",
                                    "Korábbi foglalás időtartama": "4"
                                },
                                {
                                    "SZOBA_ID": "96",
                                    "FOGLALAS_PK": "671",
                                    "Napok száma": "4",
                                    "Korábbi foglalás időtartama": "7"
                                },
                                {
                                    "SZOBA_ID": "96",
                                    "FOGLALAS_PK": "780",
                                    "Napok száma": "1",
                                    "Korábbi foglalás időtartama": "4"
                                },
                                {
                                    "SZOBA_ID": "96",
                                    "FOGLALAS_PK": "1378",
                                    "Napok száma": "3",
                                    "Korábbi foglalás időtartama": "1"
                                },
                                {
                                    "SZOBA_ID": "96",
                                    "FOGLALAS_PK": "1438",
                                    "Napok száma": "2",
                                    "Korábbi foglalás időtartama": "3"
                                },
                                {
                                    "SZOBA_ID": "96",
                                    "FOGLALAS_PK": "1569",
                                    "Napok száma": "7",
                                    "Korábbi foglalás időtartama": "2"
                                },
                                {
                                    "SZOBA_ID": "97",
                                    "FOGLALAS_PK": "635",
                                    "Napok száma": "3",
                                    "Korábbi foglalás időtartama": "0"
                                },
                                {
                                    "SZOBA_ID": "97",
                                    "FOGLALAS_PK": "726",
                                    "Napok száma": "4",
                                    "Korábbi foglalás időtartama": "3"
                                },
                                {
                                    "SZOBA_ID": "97",
                                    "FOGLALAS_PK": "718",
                                    "Napok száma": "7",
                                    "Korábbi foglalás időtartama": "4"
                                },
                                {
                                    "SZOBA_ID": "97",
                                    "FOGLALAS_PK": "836",
                                    "Napok száma": "2",
                                    "Korábbi foglalás időtartama": "7"
                                },
                                {
                                    "SZOBA_ID": "97",
                                    "FOGLALAS_PK": "1395",
                                    "Napok száma": "1",
                                    "Korábbi foglalás időtartama": "2"
                                },
                                {
                                    "SZOBA_ID": "97",
                                    "FOGLALAS_PK": "1417",
                                    "Napok száma": "7",
                                    "Korábbi foglalás időtartama": "1"
                                },
                                {
                                    "SZOBA_ID": "97",
                                    "FOGLALAS_PK": "1528",
                                    "Napok száma": "2",
                                    "Korábbi foglalás időtartama": "7"
                                },
                                {
                                    "SZOBA_ID": "98",
                                    "FOGLALAS_PK": "631",
                                    "Napok száma": "6",
                                    "Korábbi foglalás időtartama": "0"
                                },
                                {
                                    "SZOBA_ID": "98",
                                    "FOGLALAS_PK": "884",
                                    "Napok száma": "5",
                                    "Korábbi foglalás időtartama": "6"
                                },
                                {
                                    "SZOBA_ID": "98",
                                    "FOGLALAS_PK": "1050",
                                    "Napok száma": "6",
                                    "Korábbi foglalás időtartama": "5"
                                },
                                {
                                    "SZOBA_ID": "98",
                                    "FOGLALAS_PK": "1402",
                                    "Napok száma": "2",
                                    "Korábbi foglalás időtartama": "6"
                                },
                                {
                                    "SZOBA_ID": "99",
                                    "FOGLALAS_PK": "632",
                                    "Napok száma": "1",
                                    "Korábbi foglalás időtartama": "0"
                                },
                                {
                                    "SZOBA_ID": "99",
                                    "FOGLALAS_PK": "691",
                                    "Napok száma": "5",
                                    "Korábbi foglalás időtartama": "1"
                                },
                                {
                                    "SZOBA_ID": "99",
                                    "FOGLALAS_PK": "1072",
                                    "Napok száma": "1",
                                    "Korábbi foglalás időtartama": "5"
                                },
                                {
                                    "SZOBA_ID": "99",
                                    "FOGLALAS_PK": "1408",
                                    "Napok száma": "1",
                                    "Korábbi foglalás időtartama": "1"
                                },
                                {
                                    "SZOBA_ID": "99",
                                    "FOGLALAS_PK": "1486",
                                    "Napok száma": "5",
                                    "Korábbi foglalás időtartama": "1"
                                },
                                {
                                    "SZOBA_ID": "100",
                                    "FOGLALAS_PK": "597",
                                    "Napok száma": "1",
                                    "Korábbi foglalás időtartama": "0"
                                },
                                {
                                    "SZOBA_ID": "100",
                                    "FOGLALAS_PK": "637",
                                    "Napok száma": "5",
                                    "Korábbi foglalás időtartama": "1"
                                },
                                {
                                    "SZOBA_ID": "100",
                                    "FOGLALAS_PK": "1315",
                                    "Napok száma": "5",
                                    "Korábbi foglalás időtartama": "5"
                                },
                                {
                                    "SZOBA_ID": "100",
                                    "FOGLALAS_PK": "1482",
                                    "Napok száma": "7",
                                    "Korábbi foglalás időtartama": "5"
                                },
                                {
                                    "SZOBA_ID": "101",
                                    "FOGLALAS_PK": "715",
                                    "Napok száma": "3",
                                    "Korábbi foglalás időtartama": "0"
                                },
                                {
                                    "SZOBA_ID": "101",
                                    "FOGLALAS_PK": "1332",
                                    "Napok száma": "6",
                                    "Korábbi foglalás időtartama": "3"
                                },
                                {
                                    "SZOBA_ID": "101",
                                    "FOGLALAS_PK": "1516",
                                    "Napok száma": "4",
                                    "Korábbi foglalás időtartama": "6"
                                },
                                {
                                    "SZOBA_ID": "102",
                                    "FOGLALAS_PK": "689",
                                    "Napok száma": "5",
                                    "Korábbi foglalás időtartama": "0"
                                },
                                {
                                    "SZOBA_ID": "102",
                                    "FOGLALAS_PK": "1343",
                                    "Napok száma": "2",
                                    "Korábbi foglalás időtartama": "5"
                                },
                                {
                                    "SZOBA_ID": "103",
                                    "FOGLALAS_PK": "972",
                                    "Napok száma": "2",
                                    "Korábbi foglalás időtartama": "0"
                                },
                                {
                                    "SZOBA_ID": "103",
                                    "FOGLALAS_PK": "992",
                                    "Napok száma": "7",
                                    "Korábbi foglalás időtartama": "2"
                                },
                                {
                                    "SZOBA_ID": "103",
                                    "FOGLALAS_PK": "1398",
                                    "Napok száma": "1",
                                    "Korábbi foglalás időtartama": "7"
                                },
                                {
                                    "SZOBA_ID": "103",
                                    "FOGLALAS_PK": "1485",
                                    "Napok száma": "4",
                                    "Korábbi foglalás időtartama": "1"
                                },
                                {
                                    "SZOBA_ID": "104",
                                    "FOGLALAS_PK": "837",
                                    "Napok száma": "4",
                                    "Korábbi foglalás időtartama": "0"
                                },
                                {
                                    "SZOBA_ID": "104",
                                    "FOGLALAS_PK": "1180",
                                    "Napok száma": "1",
                                    "Korábbi foglalás időtartama": "4"
                                },
                                {
                                    "SZOBA_ID": "104",
                                    "FOGLALAS_PK": "1522",
                                    "Napok száma": "2",
                                    "Korábbi foglalás időtartama": "1"
                                },
                                {
                                    "SZOBA_ID": "104",
                                    "FOGLALAS_PK": "1532",
                                    "Napok száma": "3",
                                    "Korábbi foglalás időtartama": "2"
                                },
                                {
                                    "SZOBA_ID": "105",
                                    "FOGLALAS_PK": "618",
                                    "Napok száma": "1",
                                    "Korábbi foglalás időtartama": "0"
                                },
                                {
                                    "SZOBA_ID": "105",
                                    "FOGLALAS_PK": "1525",
                                    "Napok száma": "5",
                                    "Korábbi foglalás időtartama": "1"
                                },
                                {
                                    "SZOBA_ID": "106",
                                    "FOGLALAS_PK": "610",
                                    "Napok száma": "3",
                                    "Korábbi foglalás időtartama": "0"
                                },
                                {
                                    "SZOBA_ID": "106",
                                    "FOGLALAS_PK": "708",
                                    "Napok száma": "7",
                                    "Korábbi foglalás időtartama": "3"
                                },
                                {
                                    "SZOBA_ID": "106",
                                    "FOGLALAS_PK": "1228",
                                    "Napok száma": "7",
                                    "Korábbi foglalás időtartama": "7"
                                },
                                {
                                    "SZOBA_ID": "106",
                                    "FOGLALAS_PK": "1271",
                                    "Napok száma": "5",
                                    "Korábbi foglalás időtartama": "7"
                                },
                                {
                                    "SZOBA_ID": "106",
                                    "FOGLALAS_PK": "1372",
                                    "Napok száma": "7",
                                    "Korábbi foglalás időtartama": "5"
                                },
                                {
                                    "SZOBA_ID": "106",
                                    "FOGLALAS_PK": "1510",
                                    "Napok száma": "6",
                                    "Korábbi foglalás időtartama": "7"
                                },
                                {
                                    "SZOBA_ID": "107",
                                    "FOGLALAS_PK": "586",
                                    "Napok száma": "6",
                                    "Korábbi foglalás időtartama": "0"
                                },
                                {
                                    "SZOBA_ID": "107",
                                    "FOGLALAS_PK": "1250",
                                    "Napok száma": "4",
                                    "Korábbi foglalás időtartama": "6"
                                },
                                {
                                    "SZOBA_ID": "107",
                                    "FOGLALAS_PK": "1354",
                                    "Napok száma": "1",
                                    "Korábbi foglalás időtartama": "4"
                                },
                                {
                                    "SZOBA_ID": "107",
                                    "FOGLALAS_PK": "1452",
                                    "Napok száma": "6",
                                    "Korábbi foglalás időtartama": "1"
                                },
                                {
                                    "SZOBA_ID": "107",
                                    "FOGLALAS_PK": "1494",
                                    "Napok száma": "2",
                                    "Korábbi foglalás időtartama": "6"
                                },
                                {
                                    "SZOBA_ID": "108",
                                    "FOGLALAS_PK": "1102",
                                    "Napok száma": "1",
                                    "Korábbi foglalás időtartama": "0"
                                },
                                {
                                    "SZOBA_ID": "108",
                                    "FOGLALAS_PK": "1392",
                                    "Napok száma": "6",
                                    "Korábbi foglalás időtartama": "1"
                                },
                                {
                                    "SZOBA_ID": "109",
                                    "FOGLALAS_PK": "614",
                                    "Napok száma": "4",
                                    "Korábbi foglalás időtartama": "0"
                                },
                                {
                                    "SZOBA_ID": "109",
                                    "FOGLALAS_PK": "621",
                                    "Napok száma": "7",
                                    "Korábbi foglalás időtartama": "4"
                                },
                                {
                                    "SZOBA_ID": "109",
                                    "FOGLALAS_PK": "654",
                                    "Napok száma": "5",
                                    "Korábbi foglalás időtartama": "7"
                                },
                                {
                                    "SZOBA_ID": "109",
                                    "FOGLALAS_PK": "810",
                                    "Napok száma": "2",
                                    "Korábbi foglalás időtartama": "5"
                                },
                                {
                                    "SZOBA_ID": "109",
                                    "FOGLALAS_PK": "1083",
                                    "Napok száma": "1",
                                    "Korábbi foglalás időtartama": "2"
                                },
                                {
                                    "SZOBA_ID": "109",
                                    "FOGLALAS_PK": "1298",
                                    "Napok száma": "4",
                                    "Korábbi foglalás időtartama": "1"
                                },
                                {
                                    "SZOBA_ID": "109",
                                    "FOGLALAS_PK": "1560",
                                    "Napok száma": "1",
                                    "Korábbi foglalás időtartama": "4"
                                },
                                {
                                    "SZOBA_ID": "110",
                                    "FOGLALAS_PK": "931",
                                    "Napok száma": "5",
                                    "Korábbi foglalás időtartama": "0"
                                },
                                {
                                    "SZOBA_ID": "110",
                                    "FOGLALAS_PK": "964",
                                    "Napok száma": "6",
                                    "Korábbi foglalás időtartama": "5"
                                },
                                {
                                    "SZOBA_ID": "110",
                                    "FOGLALAS_PK": "685",
                                    "Napok száma": "1",
                                    "Korábbi foglalás időtartama": "6"
                                },
                                {
                                    "SZOBA_ID": "110",
                                    "FOGLALAS_PK": "1041",
                                    "Napok száma": "3",
                                    "Korábbi foglalás időtartama": "1"
                                },
                                {
                                    "SZOBA_ID": "110",
                                    "FOGLALAS_PK": "1109",
                                    "Napok száma": "5",
                                    "Korábbi foglalás időtartama": "3"
                                },
                                {
                                    "SZOBA_ID": "110",
                                    "FOGLALAS_PK": "1162",
                                    "Napok száma": "2",
                                    "Korábbi foglalás időtartama": "5"
                                },
                                {
                                    "SZOBA_ID": "110",
                                    "FOGLALAS_PK": "1424",
                                    "Napok száma": "1",
                                    "Korábbi foglalás időtartama": "2"
                                },
                                {
                                    "SZOBA_ID": "110",
                                    "FOGLALAS_PK": "1489",
                                    "Napok száma": "6",
                                    "Korábbi foglalás időtartama": "1"
                                },
                                {
                                    "SZOBA_ID": "111",
                                    "FOGLALAS_PK": "605",
                                    "Napok száma": "7",
                                    "Korábbi foglalás időtartama": "0"
                                },
                                {
                                    "SZOBA_ID": "111",
                                    "FOGLALAS_PK": "959",
                                    "Napok száma": "7",
                                    "Korábbi foglalás időtartama": "7"
                                },
                                {
                                    "SZOBA_ID": "111",
                                    "FOGLALAS_PK": "786",
                                    "Napok száma": "4",
                                    "Korábbi foglalás időtartama": "7"
                                },
                                {
                                    "SZOBA_ID": "111",
                                    "FOGLALAS_PK": "1296",
                                    "Napok száma": "3",
                                    "Korábbi foglalás időtartama": "4"
                                },
                                {
                                    "SZOBA_ID": "111",
                                    "FOGLALAS_PK": "1353",
                                    "Napok száma": "5",
                                    "Korábbi foglalás időtartama": "3"
                                },
                                {
                                    "SZOBA_ID": "112",
                                    "FOGLALAS_PK": "921",
                                    "Napok száma": "1",
                                    "Korábbi foglalás időtartama": "0"
                                },
                                {
                                    "SZOBA_ID": "112",
                                    "FOGLALAS_PK": "776",
                                    "Napok száma": "4",
                                    "Korábbi foglalás időtartama": "1"
                                },
                                {
                                    "SZOBA_ID": "112",
                                    "FOGLALAS_PK": "801",
                                    "Napok száma": "5",
                                    "Korábbi foglalás időtartama": "4"
                                },
                                {
                                    "SZOBA_ID": "112",
                                    "FOGLALAS_PK": "1124",
                                    "Napok száma": "6",
                                    "Korábbi foglalás időtartama": "5"
                                },
                                {
                                    "SZOBA_ID": "112",
                                    "FOGLALAS_PK": "1530",
                                    "Napok száma": "6",
                                    "Korábbi foglalás időtartama": "6"
                                },
                                {
                                    "SZOBA_ID": "113",
                                    "FOGLALAS_PK": "1029",
                                    "Napok száma": "5",
                                    "Korábbi foglalás időtartama": "0"
                                },
                                {
                                    "SZOBA_ID": "113",
                                    "FOGLALAS_PK": "1085",
                                    "Napok száma": "4",
                                    "Korábbi foglalás időtartama": "5"
                                },
                                {
                                    "SZOBA_ID": "113",
                                    "FOGLALAS_PK": "1263",
                                    "Napok száma": "1",
                                    "Korábbi foglalás időtartama": "4"
                                },
                                {
                                    "SZOBA_ID": "113",
                                    "FOGLALAS_PK": "1495",
                                    "Napok száma": "7",
                                    "Korábbi foglalás időtartama": "1"
                                },
                                {
                                    "SZOBA_ID": "113",
                                    "FOGLALAS_PK": "1499",
                                    "Napok száma": "2",
                                    "Korábbi foglalás időtartama": "7"
                                },
                                {
                                    "SZOBA_ID": "114",
                                    "FOGLALAS_PK": "966",
                                    "Napok száma": "6",
                                    "Korábbi foglalás időtartama": "0"
                                },
                                {
                                    "SZOBA_ID": "114",
                                    "FOGLALAS_PK": "737",
                                    "Napok száma": "2",
                                    "Korábbi foglalás időtartama": "6"
                                },
                                {
                                    "SZOBA_ID": "114",
                                    "FOGLALAS_PK": "827",
                                    "Napok száma": "7",
                                    "Korábbi foglalás időtartama": "2"
                                },
                                {
                                    "SZOBA_ID": "114",
                                    "FOGLALAS_PK": "1540",
                                    "Napok száma": "3",
                                    "Korábbi foglalás időtartama": "7"
                                },
                                {
                                    "SZOBA_ID": "115",
                                    "FOGLALAS_PK": "596",
                                    "Napok száma": "7",
                                    "Korábbi foglalás időtartama": "0"
                                },
                                {
                                    "SZOBA_ID": "115",
                                    "FOGLALAS_PK": "943",
                                    "Napok száma": "7",
                                    "Korábbi foglalás időtartama": "7"
                                },
                                {
                                    "SZOBA_ID": "115",
                                    "FOGLALAS_PK": "1121",
                                    "Napok száma": "7",
                                    "Korábbi foglalás időtartama": "7"
                                },
                                {
                                    "SZOBA_ID": "115",
                                    "FOGLALAS_PK": "1154",
                                    "Napok száma": "4",
                                    "Korábbi foglalás időtartama": "7"
                                },
                                {
                                    "SZOBA_ID": "115",
                                    "FOGLALAS_PK": "1352",
                                    "Napok száma": "3",
                                    "Korábbi foglalás időtartama": "4"
                                },
                                {
                                    "SZOBA_ID": "115",
                                    "FOGLALAS_PK": "1554",
                                    "Napok száma": "3",
                                    "Korábbi foglalás időtartama": "3"
                                },
                                {
                                    "SZOBA_ID": "115",
                                    "FOGLALAS_PK": "1566",
                                    "Napok száma": "1",
                                    "Korábbi foglalás időtartama": "3"
                                },
                                {
                                    "SZOBA_ID": "116",
                                    "FOGLALAS_PK": "1455",
                                    "Napok száma": "2",
                                    "Korábbi foglalás időtartama": "0"
                                },
                                {
                                    "SZOBA_ID": "116",
                                    "FOGLALAS_PK": "1501",
                                    "Napok száma": "4",
                                    "Korábbi foglalás időtartama": "2"
                                },
                                {
                                    "SZOBA_ID": "117",
                                    "FOGLALAS_PK": "612",
                                    "Napok száma": "2",
                                    "Korábbi foglalás időtartama": "0"
                                },
                                {
                                    "SZOBA_ID": "117",
                                    "FOGLALAS_PK": "617",
                                    "Napok száma": "3",
                                    "Korábbi foglalás időtartama": "2"
                                },
                                {
                                    "SZOBA_ID": "117",
                                    "FOGLALAS_PK": "953",
                                    "Napok száma": "5",
                                    "Korábbi foglalás időtartama": "3"
                                },
                                {
                                    "SZOBA_ID": "117",
                                    "FOGLALAS_PK": "962",
                                    "Napok száma": "4",
                                    "Korábbi foglalás időtartama": "5"
                                },
                                {
                                    "SZOBA_ID": "117",
                                    "FOGLALAS_PK": "1002",
                                    "Napok száma": "1",
                                    "Korábbi foglalás időtartama": "4"
                                },
                                {
                                    "SZOBA_ID": "117",
                                    "FOGLALAS_PK": "1192",
                                    "Napok száma": "2",
                                    "Korábbi foglalás időtartama": "1"
                                },
                                {
                                    "SZOBA_ID": "117",
                                    "FOGLALAS_PK": "1247",
                                    "Napok száma": "3",
                                    "Korábbi foglalás időtartama": "2"
                                },
                                {
                                    "SZOBA_ID": "117",
                                    "FOGLALAS_PK": "1468",
                                    "Napok száma": "7",
                                    "Korábbi foglalás időtartama": "3"
                                },
                                {
                                    "SZOBA_ID": "118",
                                    "FOGLALAS_PK": "864",
                                    "Napok száma": "6",
                                    "Korábbi foglalás időtartama": "0"
                                },
                                {
                                    "SZOBA_ID": "118",
                                    "FOGLALAS_PK": "994",
                                    "Napok száma": "7",
                                    "Korábbi foglalás időtartama": "6"
                                },
                                {
                                    "SZOBA_ID": "118",
                                    "FOGLALAS_PK": "996",
                                    "Napok száma": "3",
                                    "Korábbi foglalás időtartama": "7"
                                },
                                {
                                    "SZOBA_ID": "118",
                                    "FOGLALAS_PK": "716",
                                    "Napok száma": "1",
                                    "Korábbi foglalás időtartama": "3"
                                },
                                {
                                    "SZOBA_ID": "118",
                                    "FOGLALAS_PK": "1374",
                                    "Napok száma": "5",
                                    "Korábbi foglalás időtartama": "1"
                                },
                                {
                                    "SZOBA_ID": "118",
                                    "FOGLALAS_PK": "1472",
                                    "Napok száma": "6",
                                    "Korábbi foglalás időtartama": "5"
                                },
                                {
                                    "SZOBA_ID": "118",
                                    "FOGLALAS_PK": "1481",
                                    "Napok száma": "3",
                                    "Korábbi foglalás időtartama": "6"
                                },
                                {
                                    "SZOBA_ID": "119",
                                    "FOGLALAS_PK": "1026",
                                    "Napok száma": "3",
                                    "Korábbi foglalás időtartama": "0"
                                },
                                {
                                    "SZOBA_ID": "119",
                                    "FOGLALAS_PK": "706",
                                    "Napok száma": "2",
                                    "Korábbi foglalás időtartama": "3"
                                },
                                {
                                    "SZOBA_ID": "119",
                                    "FOGLALAS_PK": "722",
                                    "Napok száma": "1",
                                    "Korábbi foglalás időtartama": "2"
                                },
                                {
                                    "SZOBA_ID": "119",
                                    "FOGLALAS_PK": "1413",
                                    "Napok száma": "3",
                                    "Korábbi foglalás időtartama": "1"
                                },
                                {
                                    "SZOBA_ID": "119",
                                    "FOGLALAS_PK": "1488",
                                    "Napok száma": "3",
                                    "Korábbi foglalás időtartama": "3"
                                },
                                {
                                    "SZOBA_ID": "120",
                                    "FOGLALAS_PK": "998",
                                    "Napok száma": "3",
                                    "Korábbi foglalás időtartama": "0"
                                },
                                {
                                    "SZOBA_ID": "120",
                                    "FOGLALAS_PK": "762",
                                    "Napok száma": "3",
                                    "Korábbi foglalás időtartama": "3"
                                },
                                {
                                    "SZOBA_ID": "120",
                                    "FOGLALAS_PK": "1089",
                                    "Napok száma": "6",
                                    "Korábbi foglalás időtartama": "3"
                                },
                                {
                                    "SZOBA_ID": "120",
                                    "FOGLALAS_PK": "1339",
                                    "Napok száma": "6",
                                    "Korábbi foglalás időtartama": "6"
                                },
                                {
                                    "SZOBA_ID": "120",
                                    "FOGLALAS_PK": "1483",
                                    "Napok száma": "1",
                                    "Korábbi foglalás időtartama": "6"
                                },
                                {
                                    "SZOBA_ID": "120",
                                    "FOGLALAS_PK": "1493",
                                    "Napok száma": "7",
                                    "Korábbi foglalás időtartama": "1"
                                },
                                {
                                    "SZOBA_ID": "121",
                                    "FOGLALAS_PK": "858",
                                    "Napok száma": "5",
                                    "Korábbi foglalás időtartama": "0"
                                },
                                {
                                    "SZOBA_ID": "121",
                                    "FOGLALAS_PK": "735",
                                    "Napok száma": "6",
                                    "Korábbi foglalás időtartama": "5"
                                },
                                {
                                    "SZOBA_ID": "121",
                                    "FOGLALAS_PK": "739",
                                    "Napok száma": "6",
                                    "Korábbi foglalás időtartama": "6"
                                },
                                {
                                    "SZOBA_ID": "121",
                                    "FOGLALAS_PK": "1049",
                                    "Napok száma": "3",
                                    "Korábbi foglalás időtartama": "6"
                                },
                                {
                                    "SZOBA_ID": "121",
                                    "FOGLALAS_PK": "1128",
                                    "Napok száma": "4",
                                    "Korábbi foglalás időtartama": "3"
                                },
                                {
                                    "SZOBA_ID": "121",
                                    "FOGLALAS_PK": "1215",
                                    "Napok száma": "4",
                                    "Korábbi foglalás időtartama": "4"
                                },
                                {
                                    "SZOBA_ID": "121",
                                    "FOGLALAS_PK": "1373",
                                    "Napok száma": "5",
                                    "Korábbi foglalás időtartama": "4"
                                },
                                {
                                    "SZOBA_ID": "121",
                                    "FOGLALAS_PK": "1393",
                                    "Napok száma": "6",
                                    "Korábbi foglalás időtartama": "5"
                                },
                                {
                                    "SZOBA_ID": "122",
                                    "FOGLALAS_PK": "1007",
                                    "Napok száma": "2",
                                    "Korábbi foglalás időtartama": "0"
                                },
                                {
                                    "SZOBA_ID": "122",
                                    "FOGLALAS_PK": "1036",
                                    "Napok száma": "2",
                                    "Korábbi foglalás időtartama": "2"
                                },
                                {
                                    "SZOBA_ID": "122",
                                    "FOGLALAS_PK": "1062",
                                    "Napok száma": "3",
                                    "Korábbi foglalás időtartama": "2"
                                },
                                {
                                    "SZOBA_ID": "122",
                                    "FOGLALAS_PK": "1166",
                                    "Napok száma": "4",
                                    "Korábbi foglalás időtartama": "3"
                                },
                                {
                                    "SZOBA_ID": "122",
                                    "FOGLALAS_PK": "1209",
                                    "Napok száma": "1",
                                    "Korábbi foglalás időtartama": "4"
                                },
                                {
                                    "SZOBA_ID": "122",
                                    "FOGLALAS_PK": "1245",
                                    "Napok száma": "2",
                                    "Korábbi foglalás időtartama": "1"
                                },
                                {
                                    "SZOBA_ID": "122",
                                    "FOGLALAS_PK": "1337",
                                    "Napok száma": "2",
                                    "Korábbi foglalás időtartama": "2"
                                },
                                {
                                    "SZOBA_ID": "122",
                                    "FOGLALAS_PK": "1385",
                                    "Napok száma": "5",
                                    "Korábbi foglalás időtartama": "2"
                                },
                                {
                                    "SZOBA_ID": "122",
                                    "FOGLALAS_PK": "1440",
                                    "Napok száma": "3",
                                    "Korábbi foglalás időtartama": "5"
                                },
                                {
                                    "SZOBA_ID": "123",
                                    "FOGLALAS_PK": "587",
                                    "Napok száma": "7",
                                    "Korábbi foglalás időtartama": "0"
                                },
                                {
                                    "SZOBA_ID": "123",
                                    "FOGLALAS_PK": "923",
                                    "Napok száma": "4",
                                    "Korábbi foglalás időtartama": "7"
                                },
                                {
                                    "SZOBA_ID": "123",
                                    "FOGLALAS_PK": "967",
                                    "Napok száma": "5",
                                    "Korábbi foglalás időtartama": "4"
                                },
                                {
                                    "SZOBA_ID": "123",
                                    "FOGLALAS_PK": "1223",
                                    "Napok száma": "1",
                                    "Korábbi foglalás időtartama": "5"
                                },
                                {
                                    "SZOBA_ID": "123",
                                    "FOGLALAS_PK": "1282",
                                    "Napok száma": "6",
                                    "Korábbi foglalás időtartama": "1"
                                },
                                {
                                    "SZOBA_ID": "124",
                                    "FOGLALAS_PK": "861",
                                    "Napok száma": "1",
                                    "Korábbi foglalás időtartama": "0"
                                },
                                {
                                    "SZOBA_ID": "124",
                                    "FOGLALAS_PK": "1210",
                                    "Napok száma": "4",
                                    "Korábbi foglalás időtartama": "1"
                                },
                                {
                                    "SZOBA_ID": "124",
                                    "FOGLALAS_PK": "1330",
                                    "Napok száma": "7",
                                    "Korábbi foglalás időtartama": "4"
                                },
                                {
                                    "SZOBA_ID": "124",
                                    "FOGLALAS_PK": "1403",
                                    "Napok száma": "6",
                                    "Korábbi foglalás időtartama": "7"
                                },
                                {
                                    "SZOBA_ID": "124",
                                    "FOGLALAS_PK": "1419",
                                    "Napok száma": "3",
                                    "Korábbi foglalás időtartama": "6"
                                },
                                {
                                    "SZOBA_ID": "124",
                                    "FOGLALAS_PK": "1531",
                                    "Napok száma": "6",
                                    "Korábbi foglalás időtartama": "3"
                                },
                                {
                                    "SZOBA_ID": "125",
                                    "FOGLALAS_PK": "576",
                                    "Napok száma": "1",
                                    "Korábbi foglalás időtartama": "0"
                                },
                                {
                                    "SZOBA_ID": "126",
                                    "FOGLALAS_PK": "754",
                                    "Napok száma": "4",
                                    "Korábbi foglalás időtartama": "0"
                                },
                                {
                                    "SZOBA_ID": "126",
                                    "FOGLALAS_PK": "806",
                                    "Napok száma": "6",
                                    "Korábbi foglalás időtartama": "4"
                                },
                                {
                                    "SZOBA_ID": "126",
                                    "FOGLALAS_PK": "1134",
                                    "Napok száma": "1",
                                    "Korábbi foglalás időtartama": "6"
                                },
                                {
                                    "SZOBA_ID": "126",
                                    "FOGLALAS_PK": "1364",
                                    "Napok száma": "6",
                                    "Korábbi foglalás időtartama": "1"
                                },
                                {
                                    "SZOBA_ID": "126",
                                    "FOGLALAS_PK": "1428",
                                    "Napok száma": "7",
                                    "Korábbi foglalás időtartama": "6"
                                },
                                {
                                    "SZOBA_ID": "126",
                                    "FOGLALAS_PK": "1500",
                                    "Napok száma": "4",
                                    "Korábbi foglalás időtartama": "7"
                                },
                                {
                                    "SZOBA_ID": "127",
                                    "FOGLALAS_PK": "643",
                                    "Napok száma": "2",
                                    "Korábbi foglalás időtartama": "0"
                                },
                                {
                                    "SZOBA_ID": "127",
                                    "FOGLALAS_PK": "853",
                                    "Napok száma": "5",
                                    "Korábbi foglalás időtartama": "2"
                                },
                                {
                                    "SZOBA_ID": "127",
                                    "FOGLALAS_PK": "879",
                                    "Napok száma": "2",
                                    "Korábbi foglalás időtartama": "5"
                                },
                                {
                                    "SZOBA_ID": "127",
                                    "FOGLALAS_PK": "1034",
                                    "Napok száma": "6",
                                    "Korábbi foglalás időtartama": "2"
                                },
                                {
                                    "SZOBA_ID": "127",
                                    "FOGLALAS_PK": "1226",
                                    "Napok száma": "5",
                                    "Korábbi foglalás időtartama": "6"
                                },
                                {
                                    "SZOBA_ID": "127",
                                    "FOGLALAS_PK": "1286",
                                    "Napok száma": "1",
                                    "Korábbi foglalás időtartama": "5"
                                },
                                {
                                    "SZOBA_ID": "127",
                                    "FOGLALAS_PK": "1579",
                                    "Napok száma": "5",
                                    "Korábbi foglalás időtartama": "1"
                                },
                                {
                                    "SZOBA_ID": "128",
                                    "FOGLALAS_PK": "717",
                                    "Napok száma": "2",
                                    "Korábbi foglalás időtartama": "0"
                                },
                                {
                                    "SZOBA_ID": "128",
                                    "FOGLALAS_PK": "815",
                                    "Napok száma": "1",
                                    "Korábbi foglalás időtartama": "2"
                                },
                                {
                                    "SZOBA_ID": "128",
                                    "FOGLALAS_PK": "1290",
                                    "Napok száma": "1",
                                    "Korábbi foglalás időtartama": "1"
                                },
                                {
                                    "SZOBA_ID": "128",
                                    "FOGLALAS_PK": "1574",
                                    "Napok száma": "1",
                                    "Korábbi foglalás időtartama": "1"
                                },
                                {
                                    "SZOBA_ID": "128",
                                    "FOGLALAS_PK": "1583",
                                    "Napok száma": "4",
                                    "Korábbi foglalás időtartama": "1"
                                },
                                {
                                    "SZOBA_ID": "129",
                                    "FOGLALAS_PK": "723",
                                    "Napok száma": "7",
                                    "Korábbi foglalás időtartama": "0"
                                },
                                {
                                    "SZOBA_ID": "129",
                                    "FOGLALAS_PK": "1360",
                                    "Napok száma": "6",
                                    "Korábbi foglalás időtartama": "7"
                                },
                                {
                                    "SZOBA_ID": "129",
                                    "FOGLALAS_PK": "1445",
                                    "Napok száma": "7",
                                    "Korábbi foglalás időtartama": "6"
                                },
                                {
                                    "SZOBA_ID": "129",
                                    "FOGLALAS_PK": "1509",
                                    "Napok száma": "6",
                                    "Korábbi foglalás időtartama": "7"
                                },
                                {
                                    "SZOBA_ID": "130",
                                    "FOGLALAS_PK": "580",
                                    "Napok száma": "3",
                                    "Korábbi foglalás időtartama": "0"
                                },
                                {
                                    "SZOBA_ID": "130",
                                    "FOGLALAS_PK": "613",
                                    "Napok száma": "3",
                                    "Korábbi foglalás időtartama": "3"
                                },
                                {
                                    "SZOBA_ID": "130",
                                    "FOGLALAS_PK": "910",
                                    "Napok száma": "2",
                                    "Korábbi foglalás időtartama": "3"
                                },
                                {
                                    "SZOBA_ID": "130",
                                    "FOGLALAS_PK": "779",
                                    "Napok száma": "6",
                                    "Korábbi foglalás időtartama": "2"
                                },
                                {
                                    "SZOBA_ID": "130",
                                    "FOGLALAS_PK": "1040",
                                    "Napok száma": "1",
                                    "Korábbi foglalás időtartama": "6"
                                },
                                {
                                    "SZOBA_ID": "130",
                                    "FOGLALAS_PK": "1475",
                                    "Napok száma": "7",
                                    "Korábbi foglalás időtartama": "1"
                                },
                                {
                                    "SZOBA_ID": "131",
                                    "FOGLALAS_PK": "559",
                                    "Napok száma": "2",
                                    "Korábbi foglalás időtartama": "0"
                                },
                                {
                                    "SZOBA_ID": "131",
                                    "FOGLALAS_PK": "655",
                                    "Napok száma": "1",
                                    "Korábbi foglalás időtartama": "2"
                                },
                                {
                                    "SZOBA_ID": "131",
                                    "FOGLALAS_PK": "881",
                                    "Napok száma": "6",
                                    "Korábbi foglalás időtartama": "1"
                                },
                                {
                                    "SZOBA_ID": "131",
                                    "FOGLALAS_PK": "760",
                                    "Napok száma": "4",
                                    "Korábbi foglalás időtartama": "6"
                                },
                                {
                                    "SZOBA_ID": "131",
                                    "FOGLALAS_PK": "1474",
                                    "Napok száma": "5",
                                    "Korábbi foglalás időtartama": "4"
                                },
                                {
                                    "SZOBA_ID": "132",
                                    "FOGLALAS_PK": "619",
                                    "Napok száma": "7",
                                    "Korábbi foglalás időtartama": "0"
                                },
                                {
                                    "SZOBA_ID": "132",
                                    "FOGLALAS_PK": "999",
                                    "Napok száma": "6",
                                    "Korábbi foglalás időtartama": "7"
                                },
                                {
                                    "SZOBA_ID": "132",
                                    "FOGLALAS_PK": "1090",
                                    "Napok száma": "7",
                                    "Korábbi foglalás időtartama": "6"
                                },
                                {
                                    "SZOBA_ID": "132",
                                    "FOGLALAS_PK": "1111",
                                    "Napok száma": "3",
                                    "Korábbi foglalás időtartama": "7"
                                },
                                {
                                    "SZOBA_ID": "132",
                                    "FOGLALAS_PK": "1301",
                                    "Napok száma": "2",
                                    "Korábbi foglalás időtartama": "3"
                                },
                                {
                                    "SZOBA_ID": "132",
                                    "FOGLALAS_PK": "1519",
                                    "Napok száma": "2",
                                    "Korábbi foglalás időtartama": "2"
                                },
                                {
                                    "SZOBA_ID": "133",
                                    "FOGLALAS_PK": "909",
                                    "Napok száma": "4",
                                    "Korábbi foglalás időtartama": "0"
                                },
                                {
                                    "SZOBA_ID": "133",
                                    "FOGLALAS_PK": "988",
                                    "Napok száma": "3",
                                    "Korábbi foglalás időtartama": "4"
                                },
                                {
                                    "SZOBA_ID": "133",
                                    "FOGLALAS_PK": "1149",
                                    "Napok száma": "7",
                                    "Korábbi foglalás időtartama": "3"
                                },
                                {
                                    "SZOBA_ID": "133",
                                    "FOGLALAS_PK": "1306",
                                    "Napok száma": "3",
                                    "Korábbi foglalás időtartama": "7"
                                },
                                {
                                    "SZOBA_ID": "133",
                                    "FOGLALAS_PK": "1363",
                                    "Napok száma": "5",
                                    "Korábbi foglalás időtartama": "3"
                                },
                                {
                                    "SZOBA_ID": "133",
                                    "FOGLALAS_PK": "1409",
                                    "Napok száma": "1",
                                    "Korábbi foglalás időtartama": "5"
                                },
                                {
                                    "SZOBA_ID": "134",
                                    "FOGLALAS_PK": "1004",
                                    "Napok száma": "5",
                                    "Korábbi foglalás időtartama": "0"
                                },
                                {
                                    "SZOBA_ID": "134",
                                    "FOGLALAS_PK": "1024",
                                    "Napok száma": "1",
                                    "Korábbi foglalás időtartama": "5"
                                },
                                {
                                    "SZOBA_ID": "134",
                                    "FOGLALAS_PK": "1045",
                                    "Napok száma": "2",
                                    "Korábbi foglalás időtartama": "1"
                                },
                                {
                                    "SZOBA_ID": "134",
                                    "FOGLALAS_PK": "1178",
                                    "Napok száma": "7",
                                    "Korábbi foglalás időtartama": "2"
                                },
                                {
                                    "SZOBA_ID": "134",
                                    "FOGLALAS_PK": "1219",
                                    "Napok száma": "6",
                                    "Korábbi foglalás időtartama": "7"
                                },
                                {
                                    "SZOBA_ID": "134",
                                    "FOGLALAS_PK": "1535",
                                    "Napok száma": "7",
                                    "Korábbi foglalás időtartama": "6"
                                },
                                {
                                    "SZOBA_ID": "135",
                                    "FOGLALAS_PK": "724",
                                    "Napok száma": "6",
                                    "Korábbi foglalás időtartama": "0"
                                },
                                {
                                    "SZOBA_ID": "135",
                                    "FOGLALAS_PK": "849",
                                    "Napok száma": "7",
                                    "Korábbi foglalás időtartama": "6"
                                },
                                {
                                    "SZOBA_ID": "135",
                                    "FOGLALAS_PK": "1289",
                                    "Napok száma": "3",
                                    "Korábbi foglalás időtartama": "7"
                                },
                                {
                                    "SZOBA_ID": "136",
                                    "FOGLALAS_PK": "584",
                                    "Napok száma": "2",
                                    "Korábbi foglalás időtartama": "0"
                                },
                                {
                                    "SZOBA_ID": "136",
                                    "FOGLALAS_PK": "661",
                                    "Napok száma": "5",
                                    "Korábbi foglalás időtartama": "2"
                                },
                                {
                                    "SZOBA_ID": "136",
                                    "FOGLALAS_PK": "1046",
                                    "Napok száma": "4",
                                    "Korábbi foglalás időtartama": "5"
                                },
                                {
                                    "SZOBA_ID": "137",
                                    "FOGLALAS_PK": "582",
                                    "Napok száma": "3",
                                    "Korábbi foglalás időtartama": "0"
                                },
                                {
                                    "SZOBA_ID": "137",
                                    "FOGLALAS_PK": "649",
                                    "Napok száma": "5",
                                    "Korábbi foglalás időtartama": "3"
                                },
                                {
                                    "SZOBA_ID": "137",
                                    "FOGLALAS_PK": "657",
                                    "Napok száma": "6",
                                    "Korábbi foglalás időtartama": "5"
                                },
                                {
                                    "SZOBA_ID": "137",
                                    "FOGLALAS_PK": "1014",
                                    "Napok száma": "1",
                                    "Korábbi foglalás időtartama": "6"
                                },
                                {
                                    "SZOBA_ID": "137",
                                    "FOGLALAS_PK": "1201",
                                    "Napok száma": "6",
                                    "Korábbi foglalás időtartama": "1"
                                },
                                {
                                    "SZOBA_ID": "137",
                                    "FOGLALAS_PK": "1280",
                                    "Napok száma": "3",
                                    "Korábbi foglalás időtartama": "6"
                                },
                                {
                                    "SZOBA_ID": "138",
                                    "FOGLALAS_PK": "768",
                                    "Napok száma": "6",
                                    "Korábbi foglalás időtartama": "0"
                                },
                                {
                                    "SZOBA_ID": "138",
                                    "FOGLALAS_PK": "796",
                                    "Napok száma": "4",
                                    "Korábbi foglalás időtartama": "6"
                                },
                                {
                                    "SZOBA_ID": "138",
                                    "FOGLALAS_PK": "1256",
                                    "Napok száma": "4",
                                    "Korábbi foglalás időtartama": "4"
                                },
                                {
                                    "SZOBA_ID": "138",
                                    "FOGLALAS_PK": "1283",
                                    "Napok száma": "2",
                                    "Korábbi foglalás időtartama": "4"
                                },
                                {
                                    "SZOBA_ID": "138",
                                    "FOGLALAS_PK": "1294",
                                    "Napok száma": "5",
                                    "Korábbi foglalás időtartama": "2"
                                },
                                {
                                    "SZOBA_ID": "138",
                                    "FOGLALAS_PK": "1358",
                                    "Napok száma": "7",
                                    "Korábbi foglalás időtartama": "5"
                                },
                                {
                                    "SZOBA_ID": "138",
                                    "FOGLALAS_PK": "1370",
                                    "Napok száma": "5",
                                    "Korábbi foglalás időtartama": "7"
                                },
                                {
                                    "SZOBA_ID": "139",
                                    "FOGLALAS_PK": "579",
                                    "Napok száma": "2",
                                    "Korábbi foglalás időtartama": "0"
                                },
                                {
                                    "SZOBA_ID": "139",
                                    "FOGLALAS_PK": "745",
                                    "Napok száma": "1",
                                    "Korábbi foglalás időtartama": "2"
                                },
                                {
                                    "SZOBA_ID": "139",
                                    "FOGLALAS_PK": "751",
                                    "Napok száma": "4",
                                    "Korábbi foglalás időtartama": "1"
                                },
                                {
                                    "SZOBA_ID": "139",
                                    "FOGLALAS_PK": "1042",
                                    "Napok száma": "2",
                                    "Korábbi foglalás időtartama": "4"
                                },
                                {
                                    "SZOBA_ID": "139",
                                    "FOGLALAS_PK": "1064",
                                    "Napok száma": "6",
                                    "Korábbi foglalás időtartama": "2"
                                },
                                {
                                    "SZOBA_ID": "139",
                                    "FOGLALAS_PK": "1433",
                                    "Napok száma": "6",
                                    "Korábbi foglalás időtartama": "6"
                                },
                                {
                                    "SZOBA_ID": "139",
                                    "FOGLALAS_PK": "1450",
                                    "Napok száma": "7",
                                    "Korábbi foglalás időtartama": "6"
                                },
                                {
                                    "SZOBA_ID": "140",
                                    "FOGLALAS_PK": "915",
                                    "Napok száma": "2",
                                    "Korábbi foglalás időtartama": "0"
                                },
                                {
                                    "SZOBA_ID": "140",
                                    "FOGLALAS_PK": "733",
                                    "Napok száma": "1",
                                    "Korábbi foglalás időtartama": "2"
                                },
                                {
                                    "SZOBA_ID": "140",
                                    "FOGLALAS_PK": "1098",
                                    "Napok száma": "2",
                                    "Korábbi foglalás időtartama": "1"
                                },
                                {
                                    "SZOBA_ID": "140",
                                    "FOGLALAS_PK": "1156",
                                    "Napok száma": "3",
                                    "Korábbi foglalás időtartama": "2"
                                },
                                {
                                    "SZOBA_ID": "140",
                                    "FOGLALAS_PK": "1259",
                                    "Napok száma": "7",
                                    "Korábbi foglalás időtartama": "3"
                                },
                                {
                                    "SZOBA_ID": "140",
                                    "FOGLALAS_PK": "1357",
                                    "Napok száma": "4",
                                    "Korábbi foglalás időtartama": "7"
                                },
                                {
                                    "SZOBA_ID": "140",
                                    "FOGLALAS_PK": "1361",
                                    "Napok száma": "3",
                                    "Korábbi foglalás időtartama": "4"
                                },
                                {
                                    "SZOBA_ID": "140",
                                    "FOGLALAS_PK": "1371",
                                    "Napok száma": "1",
                                    "Korábbi foglalás időtartama": "3"
                                },
                                {
                                    "SZOBA_ID": "141",
                                    "FOGLALAS_PK": "565",
                                    "Napok száma": "6",
                                    "Korábbi foglalás időtartama": "0"
                                },
                                {
                                    "SZOBA_ID": "141",
                                    "FOGLALAS_PK": "908",
                                    "Napok száma": "2",
                                    "Korábbi foglalás időtartama": "6"
                                },
                                {
                                    "SZOBA_ID": "141",
                                    "FOGLALAS_PK": "761",
                                    "Napok száma": "3",
                                    "Korábbi foglalás időtartama": "2"
                                },
                                {
                                    "SZOBA_ID": "141",
                                    "FOGLALAS_PK": "784",
                                    "Napok száma": "7",
                                    "Korábbi foglalás időtartama": "3"
                                },
                                {
                                    "SZOBA_ID": "141",
                                    "FOGLALAS_PK": "1254",
                                    "Napok száma": "4",
                                    "Korábbi foglalás időtartama": "7"
                                },
                                {
                                    "SZOBA_ID": "141",
                                    "FOGLALAS_PK": "1401",
                                    "Napok száma": "6",
                                    "Korábbi foglalás időtartama": "4"
                                },
                                {
                                    "SZOBA_ID": "142",
                                    "FOGLALAS_PK": "1369",
                                    "Napok száma": "6",
                                    "Korábbi foglalás időtartama": "0"
                                },
                                {
                                    "SZOBA_ID": "142",
                                    "FOGLALAS_PK": "1545",
                                    "Napok száma": "3",
                                    "Korábbi foglalás időtartama": "6"
                                },
                                {
                                    "SZOBA_ID": "143",
                                    "FOGLALAS_PK": "980",
                                    "Napok száma": "3",
                                    "Korábbi foglalás időtartama": "0"
                                },
                                {
                                    "SZOBA_ID": "143",
                                    "FOGLALAS_PK": "1155",
                                    "Napok száma": "7",
                                    "Korábbi foglalás időtartama": "3"
                                },
                                {
                                    "SZOBA_ID": "143",
                                    "FOGLALAS_PK": "1193",
                                    "Napok száma": "6",
                                    "Korábbi foglalás időtartama": "7"
                                },
                                {
                                    "SZOBA_ID": "143",
                                    "FOGLALAS_PK": "1222",
                                    "Napok száma": "2",
                                    "Korábbi foglalás időtartama": "6"
                                },
                                {
                                    "SZOBA_ID": "143",
                                    "FOGLALAS_PK": "1313",
                                    "Napok száma": "4",
                                    "Korábbi foglalás időtartama": "2"
                                },
                                {
                                    "SZOBA_ID": "143",
                                    "FOGLALAS_PK": "1394",
                                    "Napok száma": "3",
                                    "Korábbi foglalás időtartama": "4"
                                },
                                {
                                    "SZOBA_ID": "143",
                                    "FOGLALAS_PK": "1448",
                                    "Napok száma": "6",
                                    "Korábbi foglalás időtartama": "3"
                                },
                                {
                                    "SZOBA_ID": "144",
                                    "FOGLALAS_PK": "581",
                                    "Napok száma": "4",
                                    "Korábbi foglalás időtartama": "0"
                                },
                                {
                                    "SZOBA_ID": "144",
                                    "FOGLALAS_PK": "1087",
                                    "Napok száma": "2",
                                    "Korábbi foglalás időtartama": "4"
                                },
                                {
                                    "SZOBA_ID": "144",
                                    "FOGLALAS_PK": "1199",
                                    "Napok száma": "7",
                                    "Korábbi foglalás időtartama": "2"
                                },
                                {
                                    "SZOBA_ID": "144",
                                    "FOGLALAS_PK": "1297",
                                    "Napok száma": "1",
                                    "Korábbi foglalás időtartama": "7"
                                },
                                {
                                    "SZOBA_ID": "144",
                                    "FOGLALAS_PK": "1572",
                                    "Napok száma": "2",
                                    "Korábbi foglalás időtartama": "1"
                                },
                                {
                                    "SZOBA_ID": "145",
                                    "FOGLALAS_PK": "703",
                                    "Napok száma": "4",
                                    "Korábbi foglalás időtartama": "0"
                                },
                                {
                                    "SZOBA_ID": "145",
                                    "FOGLALAS_PK": "1077",
                                    "Napok száma": "1",
                                    "Korábbi foglalás időtartama": "4"
                                },
                                {
                                    "SZOBA_ID": "145",
                                    "FOGLALAS_PK": "1120",
                                    "Napok száma": "1",
                                    "Korábbi foglalás időtartama": "1"
                                },
                                {
                                    "SZOBA_ID": "145",
                                    "FOGLALAS_PK": "1145",
                                    "Napok száma": "4",
                                    "Korábbi foglalás időtartama": "1"
                                },
                                {
                                    "SZOBA_ID": "145",
                                    "FOGLALAS_PK": "1338",
                                    "Napok száma": "2",
                                    "Korábbi foglalás időtartama": "4"
                                },
                                {
                                    "SZOBA_ID": "145",
                                    "FOGLALAS_PK": "1471",
                                    "Napok száma": "1",
                                    "Korábbi foglalás időtartama": "2"
                                },
                                {
                                    "SZOBA_ID": "146",
                                    "FOGLALAS_PK": "890",
                                    "Napok száma": "3",
                                    "Korábbi foglalás időtartama": "0"
                                },
                                {
                                    "SZOBA_ID": "146",
                                    "FOGLALAS_PK": "664",
                                    "Napok száma": "3",
                                    "Korábbi foglalás időtartama": "3"
                                },
                                {
                                    "SZOBA_ID": "146",
                                    "FOGLALAS_PK": "789",
                                    "Napok száma": "7",
                                    "Korábbi foglalás időtartama": "3"
                                },
                                {
                                    "SZOBA_ID": "146",
                                    "FOGLALAS_PK": "804",
                                    "Napok száma": "7",
                                    "Korábbi foglalás időtartama": "7"
                                },
                                {
                                    "SZOBA_ID": "146",
                                    "FOGLALAS_PK": "1032",
                                    "Napok száma": "5",
                                    "Korábbi foglalás időtartama": "7"
                                },
                                {
                                    "SZOBA_ID": "146",
                                    "FOGLALAS_PK": "1479",
                                    "Napok száma": "6",
                                    "Korábbi foglalás időtartama": "5"
                                },
                                {
                                    "SZOBA_ID": "147",
                                    "FOGLALAS_PK": "771",
                                    "Napok száma": "4",
                                    "Korábbi foglalás időtartama": "0"
                                },
                                {
                                    "SZOBA_ID": "148",
                                    "FOGLALAS_PK": "678",
                                    "Napok száma": "4",
                                    "Korábbi foglalás időtartama": "0"
                                },
                                {
                                    "SZOBA_ID": "148",
                                    "FOGLALAS_PK": "765",
                                    "Napok száma": "3",
                                    "Korábbi foglalás időtartama": "4"
                                },
                                {
                                    "SZOBA_ID": "148",
                                    "FOGLALAS_PK": "783",
                                    "Napok száma": "7",
                                    "Korábbi foglalás időtartama": "3"
                                },
                                {
                                    "SZOBA_ID": "148",
                                    "FOGLALAS_PK": "808",
                                    "Napok száma": "2",
                                    "Korábbi foglalás időtartama": "7"
                                },
                                {
                                    "SZOBA_ID": "148",
                                    "FOGLALAS_PK": "812",
                                    "Napok száma": "6",
                                    "Korábbi foglalás időtartama": "2"
                                },
                                {
                                    "SZOBA_ID": "148",
                                    "FOGLALAS_PK": "1578",
                                    "Napok száma": "7",
                                    "Korábbi foglalás időtartama": "6"
                                },
                                {
                                    "SZOBA_ID": "149",
                                    "FOGLALAS_PK": "591",
                                    "Napok száma": "1",
                                    "Korábbi foglalás időtartama": "0"
                                },
                                {
                                    "SZOBA_ID": "149",
                                    "FOGLALAS_PK": "652",
                                    "Napok száma": "1",
                                    "Korábbi foglalás időtartama": "1"
                                },
                                {
                                    "SZOBA_ID": "149",
                                    "FOGLALAS_PK": "833",
                                    "Napok száma": "2",
                                    "Korábbi foglalás időtartama": "1"
                                },
                                {
                                    "SZOBA_ID": "149",
                                    "FOGLALAS_PK": "834",
                                    "Napok száma": "5",
                                    "Korábbi foglalás időtartama": "2"
                                },
                                {
                                    "SZOBA_ID": "149",
                                    "FOGLALAS_PK": "843",
                                    "Napok száma": "4",
                                    "Korábbi foglalás időtartama": "5"
                                },
                                {
                                    "SZOBA_ID": "149",
                                    "FOGLALAS_PK": "1146",
                                    "Napok száma": "6",
                                    "Korábbi foglalás időtartama": "4"
                                },
                                {
                                    "SZOBA_ID": "149",
                                    "FOGLALAS_PK": "1514",
                                    "Napok száma": "5",
                                    "Korábbi foglalás időtartama": "6"
                                },
                                {
                                    "SZOBA_ID": "150",
                                    "FOGLALAS_PK": "641",
                                    "Napok száma": "3",
                                    "Korábbi foglalás időtartama": "0"
                                },
                                {
                                    "SZOBA_ID": "150",
                                    "FOGLALAS_PK": "1100",
                                    "Napok száma": "5",
                                    "Korábbi foglalás időtartama": "3"
                                },
                                {
                                    "SZOBA_ID": "150",
                                    "FOGLALAS_PK": "1105",
                                    "Napok száma": "1",
                                    "Korábbi foglalás időtartama": "5"
                                },
                                {
                                    "SZOBA_ID": "150",
                                    "FOGLALAS_PK": "1177",
                                    "Napok száma": "1",
                                    "Korábbi foglalás időtartama": "1"
                                },
                                {
                                    "SZOBA_ID": "150",
                                    "FOGLALAS_PK": "1203",
                                    "Napok száma": "4",
                                    "Korábbi foglalás időtartama": "1"
                                },
                                {
                                    "SZOBA_ID": "150",
                                    "FOGLALAS_PK": "1432",
                                    "Napok száma": "3",
                                    "Korábbi foglalás időtartama": "4"
                                },
                                {
                                    "SZOBA_ID": "151",
                                    "FOGLALAS_PK": "893",
                                    "Napok száma": "3",
                                    "Korábbi foglalás időtartama": "0"
                                },
                                {
                                    "SZOBA_ID": "151",
                                    "FOGLALAS_PK": "1058",
                                    "Napok száma": "3",
                                    "Korábbi foglalás időtartama": "3"
                                },
                                {
                                    "SZOBA_ID": "151",
                                    "FOGLALAS_PK": "1115",
                                    "Napok száma": "3",
                                    "Korábbi foglalás időtartama": "3"
                                },
                                {
                                    "SZOBA_ID": "152",
                                    "FOGLALAS_PK": "730",
                                    "Napok száma": "2",
                                    "Korábbi foglalás időtartama": "0"
                                },
                                {
                                    "SZOBA_ID": "152",
                                    "FOGLALAS_PK": "1160",
                                    "Napok száma": "7",
                                    "Korábbi foglalás időtartama": "2"
                                },
                                {
                                    "SZOBA_ID": "152",
                                    "FOGLALAS_PK": "1197",
                                    "Napok száma": "6",
                                    "Korábbi foglalás időtartama": "7"
                                },
                                {
                                    "SZOBA_ID": "152",
                                    "FOGLALAS_PK": "1558",
                                    "Napok száma": "2",
                                    "Korábbi foglalás időtartama": "6"
                                },
                                {
                                    "SZOBA_ID": "153",
                                    "FOGLALAS_PK": "594",
                                    "Napok száma": "3",
                                    "Korábbi foglalás időtartama": "0"
                                },
                                {
                                    "SZOBA_ID": "153",
                                    "FOGLALAS_PK": "969",
                                    "Napok száma": "6",
                                    "Korábbi foglalás időtartama": "3"
                                },
                                {
                                    "SZOBA_ID": "153",
                                    "FOGLALAS_PK": "1460",
                                    "Napok száma": "3",
                                    "Korábbi foglalás időtartama": "6"
                                },
                                {
                                    "SZOBA_ID": "153",
                                    "FOGLALAS_PK": "1470",
                                    "Napok száma": "5",
                                    "Korábbi foglalás időtartama": "3"
                                },
                                {
                                    "SZOBA_ID": "153",
                                    "FOGLALAS_PK": "1507",
                                    "Napok száma": "3",
                                    "Korábbi foglalás időtartama": "5"
                                },
                                {
                                    "SZOBA_ID": "154",
                                    "FOGLALAS_PK": "968",
                                    "Napok száma": "1",
                                    "Korábbi foglalás időtartama": "0"
                                },
                                {
                                    "SZOBA_ID": "154",
                                    "FOGLALAS_PK": "1061",
                                    "Napok száma": "7",
                                    "Korábbi foglalás időtartama": "1"
                                },
                                {
                                    "SZOBA_ID": "154",
                                    "FOGLALAS_PK": "1168",
                                    "Napok száma": "6",
                                    "Korábbi foglalás időtartama": "7"
                                },
                                {
                                    "SZOBA_ID": "154",
                                    "FOGLALAS_PK": "1262",
                                    "Napok száma": "1",
                                    "Korábbi foglalás időtartama": "6"
                                },
                                {
                                    "SZOBA_ID": "154",
                                    "FOGLALAS_PK": "1539",
                                    "Napok száma": "2",
                                    "Korábbi foglalás időtartama": "1"
                                },
                                {
                                    "SZOBA_ID": "155",
                                    "FOGLALAS_PK": "575",
                                    "Napok száma": "1",
                                    "Korábbi foglalás időtartama": "0"
                                },
                                {
                                    "SZOBA_ID": "155",
                                    "FOGLALAS_PK": "577",
                                    "Napok száma": "3",
                                    "Korábbi foglalás időtartama": "1"
                                },
                                {
                                    "SZOBA_ID": "155",
                                    "FOGLALAS_PK": "1112",
                                    "Napok száma": "4",
                                    "Korábbi foglalás időtartama": "3"
                                },
                                {
                                    "SZOBA_ID": "155",
                                    "FOGLALAS_PK": "1310",
                                    "Napok száma": "1",
                                    "Korábbi foglalás időtartama": "4"
                                },
                                {
                                    "SZOBA_ID": "155",
                                    "FOGLALAS_PK": "1541",
                                    "Napok száma": "1",
                                    "Korábbi foglalás időtartama": "1"
                                },
                                {
                                    "SZOBA_ID": "156",
                                    "FOGLALAS_PK": "588",
                                    "Napok száma": "7",
                                    "Korábbi foglalás időtartama": "0"
                                },
                                {
                                    "SZOBA_ID": "156",
                                    "FOGLALAS_PK": "907",
                                    "Napok száma": "3",
                                    "Korábbi foglalás időtartama": "7"
                                },
                                {
                                    "SZOBA_ID": "156",
                                    "FOGLALAS_PK": "956",
                                    "Napok száma": "6",
                                    "Korábbi foglalás időtartama": "3"
                                },
                                {
                                    "SZOBA_ID": "156",
                                    "FOGLALAS_PK": "692",
                                    "Napok száma": "6",
                                    "Korábbi foglalás időtartama": "6"
                                },
                                {
                                    "SZOBA_ID": "156",
                                    "FOGLALAS_PK": "1462",
                                    "Napok száma": "7",
                                    "Korábbi foglalás időtartama": "6"
                                },
                                {
                                    "SZOBA_ID": "156",
                                    "FOGLALAS_PK": "1490",
                                    "Napok száma": "1",
                                    "Korábbi foglalás időtartama": "7"
                                },
                                {
                                    "SZOBA_ID": "156",
                                    "FOGLALAS_PK": "1561",
                                    "Napok száma": "4",
                                    "Korábbi foglalás időtartama": "1"
                                },
                                {
                                    "SZOBA_ID": "157",
                                    "FOGLALAS_PK": "648",
                                    "Napok száma": "4",
                                    "Korábbi foglalás időtartama": "0"
                                },
                                {
                                    "SZOBA_ID": "157",
                                    "FOGLALAS_PK": "1025",
                                    "Napok száma": "3",
                                    "Korábbi foglalás időtartama": "4"
                                },
                                {
                                    "SZOBA_ID": "157",
                                    "FOGLALAS_PK": "1047",
                                    "Napok száma": "4",
                                    "Korábbi foglalás időtartama": "3"
                                },
                                {
                                    "SZOBA_ID": "157",
                                    "FOGLALAS_PK": "1240",
                                    "Napok száma": "7",
                                    "Korábbi foglalás időtartama": "4"
                                },
                                {
                                    "SZOBA_ID": "157",
                                    "FOGLALAS_PK": "1551",
                                    "Napok száma": "3",
                                    "Korábbi foglalás időtartama": "7"
                                },
                                {
                                    "SZOBA_ID": "158",
                                    "FOGLALAS_PK": "825",
                                    "Napok száma": "4",
                                    "Korábbi foglalás időtartama": "0"
                                },
                                {
                                    "SZOBA_ID": "158",
                                    "FOGLALAS_PK": "840",
                                    "Napok száma": "4",
                                    "Korábbi foglalás időtartama": "4"
                                },
                                {
                                    "SZOBA_ID": "158",
                                    "FOGLALAS_PK": "1117",
                                    "Napok száma": "3",
                                    "Korábbi foglalás időtartama": "4"
                                },
                                {
                                    "SZOBA_ID": "160",
                                    "FOGLALAS_PK": "922",
                                    "Napok száma": "2",
                                    "Korábbi foglalás időtartama": "0"
                                },
                                {
                                    "SZOBA_ID": "160",
                                    "FOGLALAS_PK": "927",
                                    "Napok száma": "4",
                                    "Korábbi foglalás időtartama": "2"
                                },
                                {
                                    "SZOBA_ID": "160",
                                    "FOGLALAS_PK": "933",
                                    "Napok száma": "4",
                                    "Korábbi foglalás időtartama": "4"
                                },
                                {
                                    "SZOBA_ID": "160",
                                    "FOGLALAS_PK": "720",
                                    "Napok száma": "2",
                                    "Korábbi foglalás időtartama": "4"
                                },
                                {
                                    "SZOBA_ID": "160",
                                    "FOGLALAS_PK": "1565",
                                    "Napok száma": "3",
                                    "Korábbi foglalás időtartama": "2"
                                },
                                {
                                    "SZOBA_ID": "161",
                                    "FOGLALAS_PK": "639",
                                    "Napok száma": "4",
                                    "Korábbi foglalás időtartama": "0"
                                },
                                {
                                    "SZOBA_ID": "161",
                                    "FOGLALAS_PK": "653",
                                    "Napok száma": "7",
                                    "Korábbi foglalás időtartama": "4"
                                },
                                {
                                    "SZOBA_ID": "161",
                                    "FOGLALAS_PK": "911",
                                    "Napok száma": "4",
                                    "Korábbi foglalás időtartama": "7"
                                },
                                {
                                    "SZOBA_ID": "161",
                                    "FOGLALAS_PK": "1068",
                                    "Napok száma": "6",
                                    "Korábbi foglalás időtartama": "4"
                                },
                                {
                                    "SZOBA_ID": "161",
                                    "FOGLALAS_PK": "1190",
                                    "Napok száma": "7",
                                    "Korábbi foglalás időtartama": "6"
                                },
                                {
                                    "SZOBA_ID": "161",
                                    "FOGLALAS_PK": "1571",
                                    "Napok száma": "4",
                                    "Korábbi foglalás időtartama": "7"
                                },
                                {
                                    "SZOBA_ID": "162",
                                    "FOGLALAS_PK": "599",
                                    "Napok száma": "4",
                                    "Korábbi foglalás időtartama": "0"
                                },
                                {
                                    "SZOBA_ID": "162",
                                    "FOGLALAS_PK": "1205",
                                    "Napok száma": "6",
                                    "Korábbi foglalás időtartama": "4"
                                },
                                {
                                    "SZOBA_ID": "162",
                                    "FOGLALAS_PK": "1400",
                                    "Napok száma": "1",
                                    "Korábbi foglalás időtartama": "6"
                                },
                                {
                                    "SZOBA_ID": "163",
                                    "FOGLALAS_PK": "630",
                                    "Napok száma": "2",
                                    "Korábbi foglalás időtartama": "0"
                                },
                                {
                                    "SZOBA_ID": "163",
                                    "FOGLALAS_PK": "941",
                                    "Napok száma": "1",
                                    "Korábbi foglalás időtartama": "2"
                                },
                                {
                                    "SZOBA_ID": "163",
                                    "FOGLALAS_PK": "782",
                                    "Napok száma": "3",
                                    "Korábbi foglalás időtartama": "1"
                                },
                                {
                                    "SZOBA_ID": "163",
                                    "FOGLALAS_PK": "1075",
                                    "Napok száma": "4",
                                    "Korábbi foglalás időtartama": "3"
                                },
                                {
                                    "SZOBA_ID": "163",
                                    "FOGLALAS_PK": "1107",
                                    "Napok száma": "3",
                                    "Korábbi foglalás időtartama": "4"
                                },
                                {
                                    "SZOBA_ID": "163",
                                    "FOGLALAS_PK": "1265",
                                    "Napok száma": "5",
                                    "Korábbi foglalás időtartama": "3"
                                },
                                {
                                    "SZOBA_ID": "163",
                                    "FOGLALAS_PK": "1487",
                                    "Napok száma": "3",
                                    "Korábbi foglalás időtartama": "5"
                                },
                                {
                                    "SZOBA_ID": "164",
                                    "FOGLALAS_PK": "570",
                                    "Napok száma": "7",
                                    "Korábbi foglalás időtartama": "0"
                                },
                                {
                                    "SZOBA_ID": "164",
                                    "FOGLALAS_PK": "1010",
                                    "Napok száma": "2",
                                    "Korábbi foglalás időtartama": "7"
                                },
                                {
                                    "SZOBA_ID": "164",
                                    "FOGLALAS_PK": "742",
                                    "Napok száma": "6",
                                    "Korábbi foglalás időtartama": "2"
                                },
                                {
                                    "SZOBA_ID": "164",
                                    "FOGLALAS_PK": "1284",
                                    "Napok száma": "4",
                                    "Korábbi foglalás időtartama": "6"
                                },
                                {
                                    "SZOBA_ID": "164",
                                    "FOGLALAS_PK": "1292",
                                    "Napok száma": "2",
                                    "Korábbi foglalás időtartama": "4"
                                },
                                {
                                    "SZOBA_ID": "165",
                                    "FOGLALAS_PK": "640",
                                    "Napok száma": "3",
                                    "Korábbi foglalás időtartama": "0"
                                },
                                {
                                    "SZOBA_ID": "165",
                                    "FOGLALAS_PK": "857",
                                    "Napok száma": "5",
                                    "Korábbi foglalás időtartama": "3"
                                },
                                {
                                    "SZOBA_ID": "165",
                                    "FOGLALAS_PK": "900",
                                    "Napok száma": "6",
                                    "Korábbi foglalás időtartama": "5"
                                },
                                {
                                    "SZOBA_ID": "165",
                                    "FOGLALAS_PK": "897",
                                    "Napok száma": "6",
                                    "Korábbi foglalás időtartama": "6"
                                },
                                {
                                    "SZOBA_ID": "165",
                                    "FOGLALAS_PK": "892",
                                    "Napok száma": "3",
                                    "Korábbi foglalás időtartama": "6"
                                },
                                {
                                    "SZOBA_ID": "165",
                                    "FOGLALAS_PK": "1141",
                                    "Napok száma": "1",
                                    "Korábbi foglalás időtartama": "3"
                                },
                                {
                                    "SZOBA_ID": "165",
                                    "FOGLALAS_PK": "1375",
                                    "Napok száma": "4",
                                    "Korábbi foglalás időtartama": "1"
                                },
                                {
                                    "SZOBA_ID": "166",
                                    "FOGLALAS_PK": "644",
                                    "Napok száma": "7",
                                    "Korábbi foglalás időtartama": "0"
                                },
                                {
                                    "SZOBA_ID": "166",
                                    "FOGLALAS_PK": "781",
                                    "Napok száma": "7",
                                    "Korábbi foglalás időtartama": "7"
                                },
                                {
                                    "SZOBA_ID": "166",
                                    "FOGLALAS_PK": "1526",
                                    "Napok száma": "2",
                                    "Korábbi foglalás időtartama": "7"
                                },
                                {
                                    "SZOBA_ID": "167",
                                    "FOGLALAS_PK": "854",
                                    "Napok száma": "7",
                                    "Korábbi foglalás időtartama": "0"
                                },
                                {
                                    "SZOBA_ID": "167",
                                    "FOGLALAS_PK": "1414",
                                    "Napok száma": "3",
                                    "Korábbi foglalás időtartama": "7"
                                },
                                {
                                    "SZOBA_ID": "168",
                                    "FOGLALAS_PK": "930",
                                    "Napok száma": "3",
                                    "Korábbi foglalás időtartama": "0"
                                },
                                {
                                    "SZOBA_ID": "168",
                                    "FOGLALAS_PK": "792",
                                    "Napok száma": "3",
                                    "Korábbi foglalás időtartama": "3"
                                },
                                {
                                    "SZOBA_ID": "168",
                                    "FOGLALAS_PK": "794",
                                    "Napok száma": "4",
                                    "Korábbi foglalás időtartama": "3"
                                },
                                {
                                    "SZOBA_ID": "168",
                                    "FOGLALAS_PK": "1249",
                                    "Napok száma": "4",
                                    "Korábbi foglalás időtartama": "4"
                                },
                                {
                                    "SZOBA_ID": "168",
                                    "FOGLALAS_PK": "1266",
                                    "Napok száma": "4",
                                    "Korábbi foglalás időtartama": "4"
                                },
                                {
                                    "SZOBA_ID": "169",
                                    "FOGLALAS_PK": "573",
                                    "Napok száma": "5",
                                    "Korábbi foglalás időtartama": "0"
                                },
                                {
                                    "SZOBA_ID": "169",
                                    "FOGLALAS_PK": "659",
                                    "Napok száma": "6",
                                    "Korábbi foglalás időtartama": "5"
                                },
                                {
                                    "SZOBA_ID": "169",
                                    "FOGLALAS_PK": "974",
                                    "Napok száma": "1",
                                    "Korábbi foglalás időtartama": "6"
                                },
                                {
                                    "SZOBA_ID": "169",
                                    "FOGLALAS_PK": "746",
                                    "Napok száma": "7",
                                    "Korábbi foglalás időtartama": "1"
                                },
                                {
                                    "SZOBA_ID": "169",
                                    "FOGLALAS_PK": "1356",
                                    "Napok száma": "4",
                                    "Korábbi foglalás időtartama": "7"
                                },
                                {
                                    "SZOBA_ID": "169",
                                    "FOGLALAS_PK": "1427",
                                    "Napok száma": "1",
                                    "Korábbi foglalás időtartama": "4"
                                },
                                {
                                    "SZOBA_ID": "170",
                                    "FOGLALAS_PK": "567",
                                    "Napok száma": "7",
                                    "Korábbi foglalás időtartama": "0"
                                },
                                {
                                    "SZOBA_ID": "170",
                                    "FOGLALAS_PK": "944",
                                    "Napok száma": "4",
                                    "Korábbi foglalás időtartama": "7"
                                },
                                {
                                    "SZOBA_ID": "170",
                                    "FOGLALAS_PK": "1194",
                                    "Napok száma": "4",
                                    "Korábbi foglalás időtartama": "4"
                                },
                                {
                                    "SZOBA_ID": "170",
                                    "FOGLALAS_PK": "1267",
                                    "Napok száma": "7",
                                    "Korábbi foglalás időtartama": "4"
                                },
                                {
                                    "SZOBA_ID": "170",
                                    "FOGLALAS_PK": "1342",
                                    "Napok száma": "6",
                                    "Korábbi foglalás időtartama": "7"
                                },
                                {
                                    "SZOBA_ID": "171",
                                    "FOGLALAS_PK": "574",
                                    "Napok száma": "2",
                                    "Korábbi foglalás időtartama": "0"
                                },
                                {
                                    "SZOBA_ID": "171",
                                    "FOGLALAS_PK": "981",
                                    "Napok száma": "4",
                                    "Korábbi foglalás időtartama": "2"
                                },
                                {
                                    "SZOBA_ID": "171",
                                    "FOGLALAS_PK": "1181",
                                    "Napok száma": "6",
                                    "Korábbi foglalás időtartama": "4"
                                },
                                {
                                    "SZOBA_ID": "171",
                                    "FOGLALAS_PK": "1329",
                                    "Napok száma": "5",
                                    "Korábbi foglalás időtartama": "6"
                                },
                                {
                                    "SZOBA_ID": "171",
                                    "FOGLALAS_PK": "1567",
                                    "Napok száma": "6",
                                    "Korábbi foglalás időtartama": "5"
                                },
                                {
                                    "SZOBA_ID": "172",
                                    "FOGLALAS_PK": "984",
                                    "Napok száma": "4",
                                    "Korábbi foglalás időtartama": "0"
                                },
                                {
                                    "SZOBA_ID": "172",
                                    "FOGLALAS_PK": "709",
                                    "Napok száma": "5",
                                    "Korábbi foglalás időtartama": "4"
                                },
                                {
                                    "SZOBA_ID": "172",
                                    "FOGLALAS_PK": "749",
                                    "Napok száma": "6",
                                    "Korábbi foglalás időtartama": "5"
                                },
                                {
                                    "SZOBA_ID": "172",
                                    "FOGLALAS_PK": "839",
                                    "Napok száma": "5",
                                    "Korábbi foglalás időtartama": "6"
                                },
                                {
                                    "SZOBA_ID": "172",
                                    "FOGLALAS_PK": "1142",
                                    "Napok száma": "4",
                                    "Korábbi foglalás időtartama": "5"
                                },
                                {
                                    "SZOBA_ID": "172",
                                    "FOGLALAS_PK": "1171",
                                    "Napok száma": "5",
                                    "Korábbi foglalás időtartama": "4"
                                },
                                {
                                    "SZOBA_ID": "172",
                                    "FOGLALAS_PK": "1336",
                                    "Napok száma": "5",
                                    "Korábbi foglalás időtartama": "5"
                                },
                                {
                                    "SZOBA_ID": "172",
                                    "FOGLALAS_PK": "1421",
                                    "Napok száma": "5",
                                    "Korábbi foglalás időtartama": "5"
                                },
                                {
                                    "SZOBA_ID": "172",
                                    "FOGLALAS_PK": "1491",
                                    "Napok száma": "2",
                                    "Korábbi foglalás időtartama": "5"
                                },
                                {
                                    "SZOBA_ID": "173",
                                    "FOGLALAS_PK": "913",
                                    "Napok száma": "1",
                                    "Korábbi foglalás időtartama": "0"
                                },
                                {
                                    "SZOBA_ID": "173",
                                    "FOGLALAS_PK": "669",
                                    "Napok száma": "7",
                                    "Korábbi foglalás időtartama": "1"
                                },
                                {
                                    "SZOBA_ID": "173",
                                    "FOGLALAS_PK": "1350",
                                    "Napok száma": "3",
                                    "Korábbi foglalás időtartama": "7"
                                },
                                {
                                    "SZOBA_ID": "173",
                                    "FOGLALAS_PK": "1429",
                                    "Napok száma": "4",
                                    "Korábbi foglalás időtartama": "3"
                                },
                                {
                                    "SZOBA_ID": "174",
                                    "FOGLALAS_PK": "917",
                                    "Napok száma": "2",
                                    "Korábbi foglalás időtartama": "0"
                                },
                                {
                                    "SZOBA_ID": "174",
                                    "FOGLALAS_PK": "1015",
                                    "Napok száma": "5",
                                    "Korábbi foglalás időtartama": "2"
                                },
                                {
                                    "SZOBA_ID": "174",
                                    "FOGLALAS_PK": "682",
                                    "Napok száma": "3",
                                    "Korábbi foglalás időtartama": "5"
                                },
                                {
                                    "SZOBA_ID": "174",
                                    "FOGLALAS_PK": "1276",
                                    "Napok száma": "1",
                                    "Korábbi foglalás időtartama": "3"
                                },
                                {
                                    "SZOBA_ID": "175",
                                    "FOGLALAS_PK": "867",
                                    "Napok száma": "6",
                                    "Korábbi foglalás időtartama": "0"
                                },
                                {
                                    "SZOBA_ID": "175",
                                    "FOGLALAS_PK": "799",
                                    "Napok száma": "4",
                                    "Korábbi foglalás időtartama": "6"
                                },
                                {
                                    "SZOBA_ID": "175",
                                    "FOGLALAS_PK": "1094",
                                    "Napok száma": "5",
                                    "Korábbi foglalás időtartama": "4"
                                },
                                {
                                    "SZOBA_ID": "175",
                                    "FOGLALAS_PK": "1133",
                                    "Napok száma": "2",
                                    "Korábbi foglalás időtartama": "5"
                                },
                                {
                                    "SZOBA_ID": "175",
                                    "FOGLALAS_PK": "1407",
                                    "Napok száma": "7",
                                    "Korábbi foglalás időtartama": "2"
                                },
                                {
                                    "SZOBA_ID": "176",
                                    "FOGLALAS_PK": "592",
                                    "Napok száma": "5",
                                    "Korábbi foglalás időtartama": "0"
                                },
                                {
                                    "SZOBA_ID": "176",
                                    "FOGLALAS_PK": "1143",
                                    "Napok száma": "6",
                                    "Korábbi foglalás időtartama": "5"
                                },
                                {
                                    "SZOBA_ID": "176",
                                    "FOGLALAS_PK": "1278",
                                    "Napok száma": "6",
                                    "Korábbi foglalás időtartama": "6"
                                },
                                {
                                    "SZOBA_ID": "176",
                                    "FOGLALAS_PK": "1383",
                                    "Napok száma": "4",
                                    "Korábbi foglalás időtartama": "6"
                                },
                                {
                                    "SZOBA_ID": "176",
                                    "FOGLALAS_PK": "1511",
                                    "Napok száma": "2",
                                    "Korábbi foglalás időtartama": "4"
                                },
                                {
                                    "SZOBA_ID": "176",
                                    "FOGLALAS_PK": "1570",
                                    "Napok száma": "3",
                                    "Korábbi foglalás időtartama": "2"
                                },
                                {
                                    "SZOBA_ID": "177",
                                    "FOGLALAS_PK": "785",
                                    "Napok száma": "3",
                                    "Korábbi foglalás időtartama": "0"
                                },
                                {
                                    "SZOBA_ID": "177",
                                    "FOGLALAS_PK": "831",
                                    "Napok száma": "7",
                                    "Korábbi foglalás időtartama": "3"
                                },
                                {
                                    "SZOBA_ID": "177",
                                    "FOGLALAS_PK": "1176",
                                    "Napok száma": "3",
                                    "Korábbi foglalás időtartama": "7"
                                },
                                {
                                    "SZOBA_ID": "177",
                                    "FOGLALAS_PK": "1503",
                                    "Napok száma": "3",
                                    "Korábbi foglalás időtartama": "3"
                                },
                                {
                                    "SZOBA_ID": "178",
                                    "FOGLALAS_PK": "991",
                                    "Napok száma": "7",
                                    "Korábbi foglalás időtartama": "0"
                                },
                                {
                                    "SZOBA_ID": "178",
                                    "FOGLALAS_PK": "816",
                                    "Napok száma": "4",
                                    "Korábbi foglalás időtartama": "7"
                                },
                                {
                                    "SZOBA_ID": "178",
                                    "FOGLALAS_PK": "1211",
                                    "Napok száma": "3",
                                    "Korábbi foglalás időtartama": "4"
                                },
                                {
                                    "SZOBA_ID": "178",
                                    "FOGLALAS_PK": "1242",
                                    "Napok száma": "1",
                                    "Korábbi foglalás időtartama": "3"
                                },
                                {
                                    "SZOBA_ID": "179",
                                    "FOGLALAS_PK": "662",
                                    "Napok száma": "2",
                                    "Korábbi foglalás időtartama": "0"
                                },
                                {
                                    "SZOBA_ID": "179",
                                    "FOGLALAS_PK": "1021",
                                    "Napok száma": "1",
                                    "Korábbi foglalás időtartama": "2"
                                },
                                {
                                    "SZOBA_ID": "179",
                                    "FOGLALAS_PK": "1497",
                                    "Napok száma": "1",
                                    "Korábbi foglalás időtartama": "1"
                                },
                                {
                                    "SZOBA_ID": "180",
                                    "FOGLALAS_PK": "905",
                                    "Napok száma": "5",
                                    "Korábbi foglalás időtartama": "0"
                                },
                                {
                                    "SZOBA_ID": "180",
                                    "FOGLALAS_PK": "1559",
                                    "Napok száma": "3",
                                    "Korábbi foglalás időtartama": "5"
                                },
                                {
                                    "SZOBA_ID": "180",
                                    "FOGLALAS_PK": "1563",
                                    "Napok száma": "6",
                                    "Korábbi foglalás időtartama": "3"
                                },
                                {
                                    "SZOBA_ID": "181",
                                    "FOGLALAS_PK": "937",
                                    "Napok száma": "3",
                                    "Korábbi foglalás időtartama": "0"
                                },
                                {
                                    "SZOBA_ID": "181",
                                    "FOGLALAS_PK": "958",
                                    "Napok száma": "5",
                                    "Korábbi foglalás időtartama": "3"
                                },
                                {
                                    "SZOBA_ID": "181",
                                    "FOGLALAS_PK": "1022",
                                    "Napok száma": "1",
                                    "Korábbi foglalás időtartama": "5"
                                },
                                {
                                    "SZOBA_ID": "181",
                                    "FOGLALAS_PK": "677",
                                    "Napok száma": "4",
                                    "Korábbi foglalás időtartama": "1"
                                },
                                {
                                    "SZOBA_ID": "181",
                                    "FOGLALAS_PK": "731",
                                    "Napok száma": "6",
                                    "Korábbi foglalás időtartama": "4"
                                },
                                {
                                    "SZOBA_ID": "181",
                                    "FOGLALAS_PK": "1346",
                                    "Napok száma": "6",
                                    "Korábbi foglalás időtartama": "6"
                                },
                                {
                                    "SZOBA_ID": "182",
                                    "FOGLALAS_PK": "571",
                                    "Napok száma": "2",
                                    "Korábbi foglalás időtartama": "0"
                                },
                                {
                                    "SZOBA_ID": "182",
                                    "FOGLALAS_PK": "928",
                                    "Napok száma": "2",
                                    "Korábbi foglalás időtartama": "2"
                                },
                                {
                                    "SZOBA_ID": "182",
                                    "FOGLALAS_PK": "1008",
                                    "Napok száma": "6",
                                    "Korábbi foglalás időtartama": "2"
                                },
                                {
                                    "SZOBA_ID": "182",
                                    "FOGLALAS_PK": "740",
                                    "Napok száma": "3",
                                    "Korábbi foglalás időtartama": "6"
                                },
                                {
                                    "SZOBA_ID": "182",
                                    "FOGLALAS_PK": "1188",
                                    "Napok száma": "1",
                                    "Korábbi foglalás időtartama": "3"
                                },
                                {
                                    "SZOBA_ID": "182",
                                    "FOGLALAS_PK": "1230",
                                    "Napok száma": "7",
                                    "Korábbi foglalás időtartama": "1"
                                },
                                {
                                    "SZOBA_ID": "182",
                                    "FOGLALAS_PK": "1231",
                                    "Napok száma": "4",
                                    "Korábbi foglalás időtartama": "7"
                                },
                                {
                                    "SZOBA_ID": "182",
                                    "FOGLALAS_PK": "1308",
                                    "Napok száma": "1",
                                    "Korábbi foglalás időtartama": "4"
                                },
                                {
                                    "SZOBA_ID": "182",
                                    "FOGLALAS_PK": "1317",
                                    "Napok száma": "3",
                                    "Korábbi foglalás időtartama": "1"
                                },
                                {
                                    "SZOBA_ID": "182",
                                    "FOGLALAS_PK": "1326",
                                    "Napok száma": "4",
                                    "Korábbi foglalás időtartama": "3"
                                },
                                {
                                    "SZOBA_ID": "182",
                                    "FOGLALAS_PK": "1410",
                                    "Napok száma": "4",
                                    "Korábbi foglalás időtartama": "4"
                                },
                                {
                                    "SZOBA_ID": "182",
                                    "FOGLALAS_PK": "1422",
                                    "Napok száma": "3",
                                    "Korábbi foglalás időtartama": "4"
                                },
                                {
                                    "SZOBA_ID": "183",
                                    "FOGLALAS_PK": "939",
                                    "Napok száma": "4",
                                    "Korábbi foglalás időtartama": "0"
                                },
                                {
                                    "SZOBA_ID": "183",
                                    "FOGLALAS_PK": "1067",
                                    "Napok száma": "7",
                                    "Korábbi foglalás időtartama": "4"
                                },
                                {
                                    "SZOBA_ID": "183",
                                    "FOGLALAS_PK": "1147",
                                    "Napok száma": "4",
                                    "Korábbi foglalás időtartama": "7"
                                },
                                {
                                    "SZOBA_ID": "183",
                                    "FOGLALAS_PK": "1437",
                                    "Napok száma": "4",
                                    "Korábbi foglalás időtartama": "4"
                                },
                                {
                                    "SZOBA_ID": "184",
                                    "FOGLALAS_PK": "608",
                                    "Napok száma": "2",
                                    "Korábbi foglalás időtartama": "0"
                                },
                                {
                                    "SZOBA_ID": "184",
                                    "FOGLALAS_PK": "880",
                                    "Napok száma": "4",
                                    "Korábbi foglalás időtartama": "2"
                                },
                                {
                                    "SZOBA_ID": "184",
                                    "FOGLALAS_PK": "684",
                                    "Napok száma": "3",
                                    "Korábbi foglalás időtartama": "4"
                                },
                                {
                                    "SZOBA_ID": "184",
                                    "FOGLALAS_PK": "1251",
                                    "Napok száma": "4",
                                    "Korábbi foglalás időtartama": "3"
                                },
                                {
                                    "SZOBA_ID": "185",
                                    "FOGLALAS_PK": "578",
                                    "Napok száma": "6",
                                    "Korábbi foglalás időtartama": "0"
                                },
                                {
                                    "SZOBA_ID": "185",
                                    "FOGLALAS_PK": "863",
                                    "Napok száma": "4",
                                    "Korábbi foglalás időtartama": "6"
                                },
                                {
                                    "SZOBA_ID": "185",
                                    "FOGLALAS_PK": "898",
                                    "Napok száma": "4",
                                    "Korábbi foglalás időtartama": "4"
                                },
                                {
                                    "SZOBA_ID": "185",
                                    "FOGLALAS_PK": "925",
                                    "Napok száma": "6",
                                    "Korábbi foglalás időtartama": "4"
                                },
                                {
                                    "SZOBA_ID": "185",
                                    "FOGLALAS_PK": "672",
                                    "Napok száma": "3",
                                    "Korábbi foglalás időtartama": "6"
                                },
                                {
                                    "SZOBA_ID": "185",
                                    "FOGLALAS_PK": "679",
                                    "Napok száma": "5",
                                    "Korábbi foglalás időtartama": "3"
                                },
                                {
                                    "SZOBA_ID": "185",
                                    "FOGLALAS_PK": "693",
                                    "Napok száma": "2",
                                    "Korábbi foglalás időtartama": "5"
                                },
                                {
                                    "SZOBA_ID": "185",
                                    "FOGLALAS_PK": "711",
                                    "Napok száma": "3",
                                    "Korábbi foglalás időtartama": "2"
                                },
                                {
                                    "SZOBA_ID": "185",
                                    "FOGLALAS_PK": "1125",
                                    "Napok száma": "3",
                                    "Korábbi foglalás időtartama": "3"
                                },
                                {
                                    "SZOBA_ID": "185",
                                    "FOGLALAS_PK": "1183",
                                    "Napok száma": "5",
                                    "Korábbi foglalás időtartama": "3"
                                },
                                {
                                    "SZOBA_ID": "185",
                                    "FOGLALAS_PK": "1441",
                                    "Napok száma": "7",
                                    "Korábbi foglalás időtartama": "5"
                                },
                                {
                                    "SZOBA_ID": "185",
                                    "FOGLALAS_PK": "1463",
                                    "Napok száma": "7",
                                    "Korábbi foglalás időtartama": "7"
                                },
                                {
                                    "SZOBA_ID": "186",
                                    "FOGLALAS_PK": "615",
                                    "Napok száma": "3",
                                    "Korábbi foglalás időtartama": "0"
                                },
                                {
                                    "SZOBA_ID": "186",
                                    "FOGLALAS_PK": "1153",
                                    "Napok száma": "3",
                                    "Korábbi foglalás időtartama": "3"
                                },
                                {
                                    "SZOBA_ID": "186",
                                    "FOGLALAS_PK": "1248",
                                    "Napok száma": "2",
                                    "Korábbi foglalás időtartama": "3"
                                },
                                {
                                    "SZOBA_ID": "186",
                                    "FOGLALAS_PK": "1467",
                                    "Napok száma": "3",
                                    "Korábbi foglalás időtartama": "2"
                                },
                                {
                                    "SZOBA_ID": "187",
                                    "FOGLALAS_PK": "633",
                                    "Napok száma": "6",
                                    "Korábbi foglalás időtartama": "0"
                                },
                                {
                                    "SZOBA_ID": "187",
                                    "FOGLALAS_PK": "868",
                                    "Napok száma": "4",
                                    "Korábbi foglalás időtartama": "6"
                                },
                                {
                                    "SZOBA_ID": "187",
                                    "FOGLALAS_PK": "957",
                                    "Napok száma": "4",
                                    "Korábbi foglalás időtartama": "4"
                                },
                                {
                                    "SZOBA_ID": "187",
                                    "FOGLALAS_PK": "695",
                                    "Napok száma": "6",
                                    "Korábbi foglalás időtartama": "4"
                                },
                                {
                                    "SZOBA_ID": "187",
                                    "FOGLALAS_PK": "743",
                                    "Napok száma": "2",
                                    "Korábbi foglalás időtartama": "6"
                                },
                                {
                                    "SZOBA_ID": "187",
                                    "FOGLALAS_PK": "766",
                                    "Napok száma": "1",
                                    "Korábbi foglalás időtartama": "2"
                                },
                                {
                                    "SZOBA_ID": "187",
                                    "FOGLALAS_PK": "1404",
                                    "Napok száma": "2",
                                    "Korábbi foglalás időtartama": "1"
                                },
                                {
                                    "SZOBA_ID": "188",
                                    "FOGLALAS_PK": "912",
                                    "Napok száma": "1",
                                    "Korábbi foglalás időtartama": "0"
                                },
                                {
                                    "SZOBA_ID": "188",
                                    "FOGLALAS_PK": "690",
                                    "Napok száma": "4",
                                    "Korábbi foglalás időtartama": "1"
                                },
                                {
                                    "SZOBA_ID": "188",
                                    "FOGLALAS_PK": "710",
                                    "Napok száma": "7",
                                    "Korábbi foglalás időtartama": "4"
                                },
                                {
                                    "SZOBA_ID": "188",
                                    "FOGLALAS_PK": "747",
                                    "Napok száma": "3",
                                    "Korábbi foglalás időtartama": "7"
                                },
                                {
                                    "SZOBA_ID": "188",
                                    "FOGLALAS_PK": "1030",
                                    "Napok száma": "4",
                                    "Korábbi foglalás időtartama": "3"
                                },
                                {
                                    "SZOBA_ID": "188",
                                    "FOGLALAS_PK": "1390",
                                    "Napok száma": "5",
                                    "Korábbi foglalás időtartama": "4"
                                },
                                {
                                    "SZOBA_ID": "189",
                                    "FOGLALAS_PK": "699",
                                    "Napok száma": "2",
                                    "Korábbi foglalás időtartama": "0"
                                },
                                {
                                    "SZOBA_ID": "189",
                                    "FOGLALAS_PK": "753",
                                    "Napok száma": "1",
                                    "Korábbi foglalás időtartama": "2"
                                },
                                {
                                    "SZOBA_ID": "189",
                                    "FOGLALAS_PK": "1204",
                                    "Napok száma": "2",
                                    "Korábbi foglalás időtartama": "1"
                                },
                                {
                                    "SZOBA_ID": "189",
                                    "FOGLALAS_PK": "1449",
                                    "Napok száma": "2",
                                    "Korábbi foglalás időtartama": "2"
                                },
                                {
                                    "SZOBA_ID": "189",
                                    "FOGLALAS_PK": "1576",
                                    "Napok száma": "3",
                                    "Korábbi foglalás időtartama": "2"
                                },
                                {
                                    "SZOBA_ID": "190",
                                    "FOGLALAS_PK": "600",
                                    "Napok száma": "7",
                                    "Korábbi foglalás időtartama": "0"
                                },
                                {
                                    "SZOBA_ID": "190",
                                    "FOGLALAS_PK": "989",
                                    "Napok száma": "1",
                                    "Korábbi foglalás időtartama": "7"
                                },
                                {
                                    "SZOBA_ID": "190",
                                    "FOGLALAS_PK": "1017",
                                    "Napok száma": "1",
                                    "Korábbi foglalás időtartama": "1"
                                },
                                {
                                    "SZOBA_ID": "190",
                                    "FOGLALAS_PK": "774",
                                    "Napok száma": "5",
                                    "Korábbi foglalás időtartama": "1"
                                },
                                {
                                    "SZOBA_ID": "190",
                                    "FOGLALAS_PK": "1517",
                                    "Napok száma": "5",
                                    "Korábbi foglalás időtartama": "5"
                                },
                                {
                                    "SZOBA_ID": "191",
                                    "FOGLALAS_PK": "1039",
                                    "Napok száma": "6",
                                    "Korábbi foglalás időtartama": "0"
                                },
                                {
                                    "SZOBA_ID": "191",
                                    "FOGLALAS_PK": "1302",
                                    "Napok száma": "1",
                                    "Korábbi foglalás időtartama": "6"
                                },
                                {
                                    "SZOBA_ID": "191",
                                    "FOGLALAS_PK": "1323",
                                    "Napok száma": "7",
                                    "Korábbi foglalás időtartama": "1"
                                },
                                {
                                    "SZOBA_ID": "191",
                                    "FOGLALAS_PK": "1502",
                                    "Napok száma": "2",
                                    "Korábbi foglalás időtartama": "7"
                                },
                                {
                                    "SZOBA_ID": "191",
                                    "FOGLALAS_PK": "1508",
                                    "Napok száma": "7",
                                    "Korábbi foglalás időtartama": "2"
                                },
                                {
                                    "SZOBA_ID": "192",
                                    "FOGLALAS_PK": "903",
                                    "Napok száma": "7",
                                    "Korábbi foglalás időtartama": "0"
                                },
                                {
                                    "SZOBA_ID": "192",
                                    "FOGLALAS_PK": "680",
                                    "Napok száma": "4",
                                    "Korábbi foglalás időtartama": "7"
                                },
                                {
                                    "SZOBA_ID": "193",
                                    "FOGLALAS_PK": "634",
                                    "Napok száma": "6",
                                    "Korábbi foglalás időtartama": "0"
                                },
                                {
                                    "SZOBA_ID": "193",
                                    "FOGLALAS_PK": "926",
                                    "Napok száma": "1",
                                    "Korábbi foglalás időtartama": "6"
                                },
                                {
                                    "SZOBA_ID": "193",
                                    "FOGLALAS_PK": "977",
                                    "Napok száma": "2",
                                    "Korábbi foglalás időtartama": "1"
                                },
                                {
                                    "SZOBA_ID": "193",
                                    "FOGLALAS_PK": "675",
                                    "Napok száma": "2",
                                    "Korábbi foglalás időtartama": "2"
                                },
                                {
                                    "SZOBA_ID": "193",
                                    "FOGLALAS_PK": "835",
                                    "Napok száma": "2",
                                    "Korábbi foglalás időtartama": "2"
                                },
                                {
                                    "SZOBA_ID": "193",
                                    "FOGLALAS_PK": "1043",
                                    "Napok száma": "6",
                                    "Korábbi foglalás időtartama": "2"
                                },
                                {
                                    "SZOBA_ID": "193",
                                    "FOGLALAS_PK": "1238",
                                    "Napok száma": "6",
                                    "Korábbi foglalás időtartama": "6"
                                },
                                {
                                    "SZOBA_ID": "194",
                                    "FOGLALAS_PK": "1095",
                                    "Napok száma": "5",
                                    "Korábbi foglalás időtartama": "0"
                                },
                                {
                                    "SZOBA_ID": "195",
                                    "FOGLALAS_PK": "721",
                                    "Napok száma": "4",
                                    "Korábbi foglalás időtartama": "0"
                                },
                                {
                                    "SZOBA_ID": "195",
                                    "FOGLALAS_PK": "842",
                                    "Napok száma": "4",
                                    "Korábbi foglalás időtartama": "4"
                                },
                                {
                                    "SZOBA_ID": "195",
                                    "FOGLALAS_PK": "1074",
                                    "Napok száma": "7",
                                    "Korábbi foglalás időtartama": "4"
                                },
                                {
                                    "SZOBA_ID": "195",
                                    "FOGLALAS_PK": "1184",
                                    "Napok száma": "5",
                                    "Korábbi foglalás időtartama": "7"
                                },
                                {
                                    "SZOBA_ID": "195",
                                    "FOGLALAS_PK": "1473",
                                    "Napok száma": "7",
                                    "Korábbi foglalás időtartama": "5"
                                },
                                {
                                    "SZOBA_ID": "195",
                                    "FOGLALAS_PK": "1484",
                                    "Napok száma": "1",
                                    "Korábbi foglalás időtartama": "7"
                                },
                                {
                                    "SZOBA_ID": "196",
                                    "FOGLALAS_PK": "952",
                                    "Napok száma": "3",
                                    "Korábbi foglalás időtartama": "0"
                                },
                                {
                                    "SZOBA_ID": "196",
                                    "FOGLALAS_PK": "673",
                                    "Napok száma": "5",
                                    "Korábbi foglalás időtartama": "3"
                                },
                                {
                                    "SZOBA_ID": "196",
                                    "FOGLALAS_PK": "1314",
                                    "Napok száma": "5",
                                    "Korábbi foglalás időtartama": "5"
                                },
                                {
                                    "SZOBA_ID": "196",
                                    "FOGLALAS_PK": "1340",
                                    "Napok száma": "5",
                                    "Korábbi foglalás időtartama": "5"
                                },
                                {
                                    "SZOBA_ID": "197",
                                    "FOGLALAS_PK": "993",
                                    "Napok száma": "7",
                                    "Korábbi foglalás időtartama": "0"
                                },
                                {
                                    "SZOBA_ID": "197",
                                    "FOGLALAS_PK": "764",
                                    "Napok száma": "7",
                                    "Korábbi foglalás időtartama": "7"
                                },
                                {
                                    "SZOBA_ID": "197",
                                    "FOGLALAS_PK": "1091",
                                    "Napok száma": "7",
                                    "Korábbi foglalás időtartama": "7"
                                },
                                {
                                    "SZOBA_ID": "197",
                                    "FOGLALAS_PK": "1172",
                                    "Napok száma": "7",
                                    "Korábbi foglalás időtartama": "7"
                                },
                                {
                                    "SZOBA_ID": "197",
                                    "FOGLALAS_PK": "1304",
                                    "Napok száma": "7",
                                    "Korábbi foglalás időtartama": "7"
                                },
                                {
                                    "SZOBA_ID": "197",
                                    "FOGLALAS_PK": "1387",
                                    "Napok száma": "3",
                                    "Korábbi foglalás időtartama": "7"
                                },
                                {
                                    "SZOBA_ID": "198",
                                    "FOGLALAS_PK": "978",
                                    "Napok száma": "1",
                                    "Korábbi foglalás időtartama": "0"
                                },
                                {
                                    "SZOBA_ID": "198",
                                    "FOGLALAS_PK": "1011",
                                    "Napok száma": "7",
                                    "Korábbi foglalás időtartama": "1"
                                },
                                {
                                    "SZOBA_ID": "198",
                                    "FOGLALAS_PK": "1065",
                                    "Napok száma": "3",
                                    "Korábbi foglalás időtartama": "7"
                                },
                                {
                                    "SZOBA_ID": "198",
                                    "FOGLALAS_PK": "1116",
                                    "Napok száma": "1",
                                    "Korábbi foglalás időtartama": "3"
                                },
                                {
                                    "SZOBA_ID": "198",
                                    "FOGLALAS_PK": "1138",
                                    "Napok száma": "5",
                                    "Korábbi foglalás időtartama": "1"
                                },
                                {
                                    "SZOBA_ID": "198",
                                    "FOGLALAS_PK": "1161",
                                    "Napok száma": "5",
                                    "Korábbi foglalás időtartama": "5"
                                },
                                {
                                    "SZOBA_ID": "198",
                                    "FOGLALAS_PK": "1216",
                                    "Napok száma": "7",
                                    "Korábbi foglalás időtartama": "5"
                                },
                                {
                                    "SZOBA_ID": "198",
                                    "FOGLALAS_PK": "1420",
                                    "Napok száma": "5",
                                    "Korábbi foglalás időtartama": "7"
                                }
                            ]
                        },
                        "text/html": [
                            "<table>",
                            "<tr><th>SZOBA_ID</th><th>FOGLALAS_PK</th><th>Napok száma</th><th>Korábbi foglalás időtartama</th></tr>",
                            "<tr><td>1</td><td>620</td><td>5</td><td>0</td></tr>",
                            "<tr><td>1</td><td>949</td><td>1</td><td>5</td></tr>",
                            "<tr><td>1</td><td>738</td><td>7</td><td>1</td></tr>",
                            "<tr><td>1</td><td>803</td><td>4</td><td>7</td></tr>",
                            "<tr><td>1</td><td>1137</td><td>2</td><td>4</td></tr>",
                            "<tr><td>1</td><td>1152</td><td>1</td><td>2</td></tr>",
                            "<tr><td>1</td><td>1274</td><td>1</td><td>1</td></tr>",
                            "<tr><td>1</td><td>1334</td><td>4</td><td>1</td></tr>",
                            "<tr><td>2</td><td>828</td><td>3</td><td>0</td></tr>",
                            "<tr><td>2</td><td>1051</td><td>1</td><td>3</td></tr>",
                            "<tr><td>2</td><td>1069</td><td>7</td><td>1</td></tr>",
                            "<tr><td>2</td><td>1311</td><td>7</td><td>7</td></tr>",
                            "<tr><td>3</td><td>629</td><td>4</td><td>0</td></tr>",
                            "<tr><td>3</td><td>666</td><td>6</td><td>4</td></tr>",
                            "<tr><td>3</td><td>788</td><td>6</td><td>6</td></tr>",
                            "<tr><td>3</td><td>1038</td><td>3</td><td>6</td></tr>",
                            "<tr><td>3</td><td>1110</td><td>7</td><td>3</td></tr>",
                            "<tr><td>3</td><td>1151</td><td>1</td><td>7</td></tr>",
                            "<tr><td>3</td><td>1434</td><td>5</td><td>1</td></tr>",
                            "<tr><td>3</td><td>1544</td><td>5</td><td>5</td></tr>",
                            "<tr><td>4</td><td>651</td><td>7</td><td>0</td></tr>",
                            "<tr><td>4</td><td>946</td><td>5</td><td>7</td></tr>",
                            "<tr><td>4</td><td>1001</td><td>7</td><td>5</td></tr>",
                            "<tr><td>4</td><td>1127</td><td>3</td><td>7</td></tr>",
                            "<tr><td>4</td><td>1132</td><td>6</td><td>3</td></tr>",
                            "<tr><td>4</td><td>1492</td><td>6</td><td>6</td></tr>",
                            "<tr><td>5</td><td>564</td><td>2</td><td>0</td></tr>",
                            "<tr><td>5</td><td>965</td><td>7</td><td>2</td></tr>",
                            "<tr><td>5</td><td>1073</td><td>5</td><td>7</td></tr>",
                            "<tr><td>5</td><td>1257</td><td>3</td><td>5</td></tr>",
                            "<tr><td>6</td><td>560</td><td>6</td><td>0</td></tr>",
                            "<tr><td>6</td><td>873</td><td>3</td><td>6</td></tr>",
                            "<tr><td>6</td><td>990</td><td>4</td><td>3</td></tr>",
                            "<tr><td>6</td><td>772</td><td>6</td><td>4</td></tr>",
                            "<tr><td>6</td><td>850</td><td>2</td><td>6</td></tr>",
                            "<tr><td>6</td><td>1099</td><td>4</td><td>2</td></tr>",
                            "<tr><td>7</td><td>562</td><td>4</td><td>0</td></tr>",
                            "<tr><td>7</td><td>759</td><td>7</td><td>4</td></tr>",
                            "<tr><td>7</td><td>1131</td><td>1</td><td>7</td></tr>",
                            "<tr><td>7</td><td>1175</td><td>4</td><td>1</td></tr>",
                            "<tr><td>7</td><td>1182</td><td>4</td><td>4</td></tr>",
                            "<tr><td>7</td><td>1252</td><td>2</td><td>4</td></tr>",
                            "<tr><td>8</td><td>882</td><td>1</td><td>0</td></tr>",
                            "<tr><td>8</td><td>947</td><td>3</td><td>1</td></tr>",
                            "<tr><td>8</td><td>694</td><td>4</td><td>3</td></tr>",
                            "<tr><td>8</td><td>818</td><td>4</td><td>4</td></tr>",
                            "<tr><td>8</td><td>832</td><td>4</td><td>4</td></tr>",
                            "<tr><td>9</td><td>609</td><td>2</td><td>0</td></tr>",
                            "<tr><td>9</td><td>1157</td><td>6</td><td>2</td></tr>",
                            "<tr><td>9</td><td>1220</td><td>3</td><td>6</td></tr>",
                            "<tr><td>9</td><td>1260</td><td>6</td><td>3</td></tr>",
                            "<tr><td>9</td><td>1423</td><td>3</td><td>6</td></tr>",
                            "<tr><td>9</td><td>1537</td><td>3</td><td>3</td></tr>",
                            "<tr><td>10</td><td>569</td><td>3</td><td>0</td></tr>",
                            "<tr><td>10</td><td>790</td><td>5</td><td>3</td></tr>",
                            "<tr><td>10</td><td>795</td><td>4</td><td>5</td></tr>",
                            "<tr><td>10</td><td>1319</td><td>6</td><td>4</td></tr>",
                            "<tr><td>11</td><td>918</td><td>6</td><td>0</td></tr>",
                            "<tr><td>11</td><td>1123</td><td>5</td><td>6</td></tr>",
                            "<tr><td>11</td><td>1236</td><td>1</td><td>5</td></tr>",
                            "<tr><td>11</td><td>1523</td><td>1</td><td>1</td></tr>",
                            "<tr><td>12</td><td>876</td><td>7</td><td>0</td></tr>",
                            "<tr><td>12</td><td>951</td><td>3</td><td>7</td></tr>",
                            "<tr><td>12</td><td>970</td><td>2</td><td>3</td></tr>",
                            "<tr><td>12</td><td>1020</td><td>5</td><td>2</td></tr>",
                            "<tr><td>12</td><td>697</td><td>2</td><td>5</td></tr>",
                            "<tr><td>12</td><td>775</td><td>4</td><td>2</td></tr>",
                            "<tr><td>12</td><td>1140</td><td>3</td><td>4</td></tr>",
                            "<tr><td>12</td><td>1164</td><td>5</td><td>3</td></tr>",
                            "<tr><td>12</td><td>1430</td><td>2</td><td>5</td></tr>",
                            "<tr><td>13</td><td>763</td><td>4</td><td>0</td></tr>",
                            "<tr><td>13</td><td>1044</td><td>6</td><td>4</td></tr>",
                            "<tr><td>13</td><td>1347</td><td>3</td><td>6</td></tr>",
                            "<tr><td>13</td><td>1469</td><td>2</td><td>3</td></tr>",
                            "<tr><td>14</td><td>663</td><td>1</td><td>0</td></tr>",
                            "<tr><td>14</td><td>813</td><td>3</td><td>1</td></tr>",
                            "<tr><td>14</td><td>1542</td><td>4</td><td>3</td></tr>",
                            "<tr><td>15</td><td>1028</td><td>2</td><td>0</td></tr>",
                            "<tr><td>15</td><td>791</td><td>5</td><td>2</td></tr>",
                            "<tr><td>15</td><td>1129</td><td>4</td><td>5</td></tr>",
                            "<tr><td>15</td><td>1244</td><td>1</td><td>4</td></tr>",
                            "<tr><td>15</td><td>1418</td><td>4</td><td>1</td></tr>",
                            "<tr><td>15</td><td>1442</td><td>3</td><td>4</td></tr>",
                            "<tr><td>16</td><td>856</td><td>6</td><td>0</td></tr>",
                            "<tr><td>16</td><td>896</td><td>1</td><td>6</td></tr>",
                            "<tr><td>16</td><td>973</td><td>1</td><td>1</td></tr>",
                            "<tr><td>16</td><td>687</td><td>3</td><td>1</td></tr>",
                            "<tr><td>16</td><td>1498</td><td>7</td><td>3</td></tr>",
                            "<tr><td>17</td><td>602</td><td>6</td><td>0</td></tr>",
                            "<tr><td>17</td><td>916</td><td>2</td><td>6</td></tr>",
                            "<tr><td>17</td><td>713</td><td>6</td><td>2</td></tr>",
                            "<tr><td>17</td><td>744</td><td>1</td><td>6</td></tr>",
                            "<tr><td>17</td><td>1316</td><td>5</td><td>1</td></tr>",
                            "<tr><td>17</td><td>1549</td><td>3</td><td>5</td></tr>",
                            "<tr><td>18</td><td>626</td><td>3</td><td>0</td></tr>",
                            "<tr><td>18</td><td>767</td><td>3</td><td>3</td></tr>",
                            "<tr><td>18</td><td>1035</td><td>6</td><td>3</td></tr>",
                            "<tr><td>18</td><td>1173</td><td>6</td><td>6</td></tr>",
                            "<tr><td>18</td><td>1198</td><td>4</td><td>6</td></tr>",
                            "<tr><td>18</td><td>1505</td><td>6</td><td>4</td></tr>",
                            "<tr><td>19</td><td>948</td><td>2</td><td>0</td></tr>",
                            "<tr><td>19</td><td>696</td><td>1</td><td>2</td></tr>",
                            "<tr><td>19</td><td>778</td><td>1</td><td>1</td></tr>",
                            "<tr><td>19</td><td>1139</td><td>7</td><td>1</td></tr>",
                            "<tr><td>19</td><td>1237</td><td>1</td><td>7</td></tr>",
                            "<tr><td>19</td><td>1533</td><td>1</td><td>1</td></tr>",
                            "<tr><td>20</td><td>755</td><td>6</td><td>0</td></tr>",
                            "<tr><td>20</td><td>820</td><td>1</td><td>6</td></tr>",
                            "<tr><td>20</td><td>1070</td><td>1</td><td>1</td></tr>",
                            "<tr><td>20</td><td>1114</td><td>5</td><td>1</td></tr>",
                            "<tr><td>20</td><td>1106</td><td>2</td><td>5</td></tr>",
                            "<tr><td>21</td><td>566</td><td>6</td><td>0</td></tr>",
                            "<tr><td>21</td><td>660</td><td>5</td><td>6</td></tr>",
                            "<tr><td>21</td><td>805</td><td>1</td><td>5</td></tr>",
                            "<tr><td>21</td><td>1212</td><td>6</td><td>1</td></tr>",
                            "<tr><td>22</td><td>906</td><td>1</td><td>0</td></tr>",
                            "<tr><td>22</td><td>1005</td><td>3</td><td>1</td></tr>",
                            "<tr><td>22</td><td>1130</td><td>1</td><td>3</td></tr>",
                            "<tr><td>22</td><td>1195</td><td>6</td><td>1</td></tr>",
                            "<tr><td>22</td><td>1206</td><td>7</td><td>6</td></tr>",
                            "<tr><td>22</td><td>1287</td><td>3</td><td>7</td></tr>",
                            "<tr><td>23</td><td>934</td><td>1</td><td>0</td></tr>",
                            "<tr><td>23</td><td>945</td><td>7</td><td>1</td></tr>",
                            "<tr><td>23</td><td>848</td><td>1</td><td>7</td></tr>",
                            "<tr><td>24</td><td>852</td><td>2</td><td>0</td></tr>",
                            "<tr><td>24</td><td>1167</td><td>1</td><td>2</td></tr>",
                            "<tr><td>24</td><td>1415</td><td>3</td><td>1</td></tr>",
                            "<tr><td>25</td><td>1052</td><td>3</td><td>0</td></tr>",
                            "<tr><td>25</td><td>1362</td><td>2</td><td>3</td></tr>",
                            "<tr><td>26</td><td>1158</td><td>2</td><td>0</td></tr>",
                            "<tr><td>26</td><td>1388</td><td>3</td><td>2</td></tr>",
                            "<tr><td>27</td><td>758</td><td>3</td><td>0</td></tr>",
                            "<tr><td>27</td><td>807</td><td>2</td><td>3</td></tr>",
                            "<tr><td>27</td><td>1031</td><td>2</td><td>2</td></tr>",
                            "<tr><td>27</td><td>1082</td><td>5</td><td>2</td></tr>",
                            "<tr><td>27</td><td>1275</td><td>6</td><td>5</td></tr>",
                            "<tr><td>27</td><td>1377</td><td>1</td><td>6</td></tr>",
                            "<tr><td>27</td><td>1476</td><td>1</td><td>1</td></tr>",
                            "<tr><td>28</td><td>872</td><td>5</td><td>0</td></tr>",
                            "<tr><td>28</td><td>886</td><td>4</td><td>5</td></tr>",
                            "<tr><td>28</td><td>901</td><td>4</td><td>4</td></tr>",
                            "<tr><td>28</td><td>725</td><td>5</td><td>4</td></tr>",
                            "<tr><td>28</td><td>1150</td><td>6</td><td>5</td></tr>",
                            "<tr><td>28</td><td>1459</td><td>2</td><td>6</td></tr>",
                            "<tr><td>29</td><td>611</td><td>5</td><td>0</td></tr>",
                            "<tr><td>29</td><td>894</td><td>1</td><td>5</td></tr>",
                            "<tr><td>29</td><td>1076</td><td>7</td><td>1</td></tr>",
                            "<tr><td>29</td><td>1185</td><td>5</td><td>7</td></tr>",
                            "<tr><td>29</td><td>1235</td><td>7</td><td>5</td></tr>",
                            "<tr><td>29</td><td>1568</td><td>7</td><td>7</td></tr>",
                            "<tr><td>30</td><td>604</td><td>2</td><td>0</td></tr>",
                            "<tr><td>30</td><td>1023</td><td>7</td><td>2</td></tr>",
                            "<tr><td>30</td><td>1136</td><td>5</td><td>7</td></tr>",
                            "<tr><td>31</td><td>598</td><td>2</td><td>0</td></tr>",
                            "<tr><td>31</td><td>606</td><td>1</td><td>2</td></tr>",
                            "<tr><td>31</td><td>728</td><td>4</td><td>1</td></tr>",
                            "<tr><td>32</td><td>920</td><td>4</td><td>0</td></tr>",
                            "<tr><td>33</td><td>624</td><td>6</td><td>0</td></tr>",
                            "<tr><td>33</td><td>1012</td><td>7</td><td>6</td></tr>",
                            "<tr><td>33</td><td>1053</td><td>1</td><td>7</td></tr>",
                            "<tr><td>33</td><td>1321</td><td>4</td><td>1</td></tr>",
                            "<tr><td>33</td><td>1344</td><td>5</td><td>4</td></tr>",
                            "<tr><td>33</td><td>1381</td><td>6</td><td>5</td></tr>",
                            "<tr><td>34</td><td>870</td><td>6</td><td>0</td></tr>",
                            "<tr><td>34</td><td>904</td><td>2</td><td>6</td></tr>",
                            "<tr><td>34</td><td>777</td><td>3</td><td>2</td></tr>",
                            "<tr><td>34</td><td>821</td><td>1</td><td>3</td></tr>",
                            "<tr><td>35</td><td>971</td><td>3</td><td>0</td></tr>",
                            "<tr><td>35</td><td>979</td><td>7</td><td>3</td></tr>",
                            "<tr><td>35</td><td>686</td><td>6</td><td>7</td></tr>",
                            "<tr><td>35</td><td>707</td><td>2</td><td>6</td></tr>",
                            "<tr><td>35</td><td>829</td><td>2</td><td>2</td></tr>",
                            "<tr><td>35</td><td>1480</td><td>37</td><td>2</td></tr>",
                            "<tr><td>35</td><td>1411</td><td>1</td><td>37</td></tr>",
                            "<tr><td>35</td><td>1436</td><td>1</td><td>1</td></tr>",
                            "<tr><td>35</td><td>1529</td><td>4</td><td>1</td></tr>",
                            "<tr><td>36</td><td>895</td><td>5</td><td>0</td></tr>",
                            "<tr><td>36</td><td>919</td><td>1</td><td>5</td></tr>",
                            "<tr><td>36</td><td>985</td><td>6</td><td>1</td></tr>",
                            "<tr><td>36</td><td>1003</td><td>4</td><td>6</td></tr>",
                            "<tr><td>36</td><td>748</td><td>2</td><td>4</td></tr>",
                            "<tr><td>36</td><td>750</td><td>6</td><td>2</td></tr>",
                            "<tr><td>37</td><td>688</td><td>2</td><td>0</td></tr>",
                            "<tr><td>37</td><td>705</td><td>4</td><td>2</td></tr>",
                            "<tr><td>37</td><td>1335</td><td>7</td><td>4</td></tr>",
                            "<tr><td>38</td><td>627</td><td>6</td><td>0</td></tr>",
                            "<tr><td>38</td><td>1033</td><td>2</td><td>6</td></tr>",
                            "<tr><td>38</td><td>1060</td><td>2</td><td>2</td></tr>",
                            "<tr><td>38</td><td>1078</td><td>7</td><td>2</td></tr>",
                            "<tr><td>38</td><td>1351</td><td>4</td><td>7</td></tr>",
                            "<tr><td>38</td><td>1416</td><td>5</td><td>4</td></tr>",
                            "<tr><td>38</td><td>1478</td><td>4</td><td>5</td></tr>",
                            "<tr><td>38</td><td>1556</td><td>6</td><td>4</td></tr>",
                            "<tr><td>39</td><td>601</td><td>6</td><td>0</td></tr>",
                            "<tr><td>39</td><td>899</td><td>6</td><td>6</td></tr>",
                            "<tr><td>39</td><td>1214</td><td>5</td><td>6</td></tr>",
                            "<tr><td>39</td><td>1380</td><td>5</td><td>5</td></tr>",
                            "<tr><td>39</td><td>1435</td><td>7</td><td>5</td></tr>",
                            "<tr><td>39</td><td>1454</td><td>1</td><td>7</td></tr>",
                            "<tr><td>39</td><td>1538</td><td>2</td><td>1</td></tr>",
                            "<tr><td>40</td><td>924</td><td>5</td><td>0</td></tr>",
                            "<tr><td>40</td><td>932</td><td>6</td><td>5</td></tr>",
                            "<tr><td>40</td><td>1018</td><td>5</td><td>6</td></tr>",
                            "<tr><td>40</td><td>1118</td><td>5</td><td>5</td></tr>",
                            "<tr><td>41</td><td>960</td><td>6</td><td>0</td></tr>",
                            "<tr><td>41</td><td>1144</td><td>1</td><td>6</td></tr>",
                            "<tr><td>42</td><td>561</td><td>4</td><td>0</td></tr>",
                            "<tr><td>42</td><td>590</td><td>5</td><td>4</td></tr>",
                            "<tr><td>42</td><td>851</td><td>7</td><td>5</td></tr>",
                            "<tr><td>42</td><td>770</td><td>3</td><td>7</td></tr>",
                            "<tr><td>42</td><td>1309</td><td>2</td><td>3</td></tr>",
                            "<tr><td>42</td><td>1444</td><td>6</td><td>2</td></tr>",
                            "<tr><td>43</td><td>1019</td><td>4</td><td>0</td></tr>",
                            "<tr><td>43</td><td>670</td><td>4</td><td>4</td></tr>",
                            "<tr><td>43</td><td>1088</td><td>2</td><td>4</td></tr>",
                            "<tr><td>43</td><td>1207</td><td>1</td><td>2</td></tr>",
                            "<tr><td>43</td><td>1227</td><td>5</td><td>1</td></tr>",
                            "<tr><td>43</td><td>1270</td><td>4</td><td>5</td></tr>",
                            "<tr><td>43</td><td>1524</td><td>1</td><td>4</td></tr>",
                            "<tr><td>43</td><td>1553</td><td>5</td><td>1</td></tr>",
                            "<tr><td>44</td><td>589</td><td>2</td><td>0</td></tr>",
                            "<tr><td>44</td><td>658</td><td>6</td><td>2</td></tr>",
                            "<tr><td>44</td><td>823</td><td>2</td><td>6</td></tr>",
                            "<tr><td>44</td><td>1295</td><td>2</td><td>2</td></tr>",
                            "<tr><td>44</td><td>1425</td><td>2</td><td>2</td></tr>",
                            "<tr><td>44</td><td>1552</td><td>2</td><td>2</td></tr>",
                            "<tr><td>45</td><td>802</td><td>7</td><td>0</td></tr>",
                            "<tr><td>45</td><td>800</td><td>5</td><td>7</td></tr>",
                            "<tr><td>45</td><td>846</td><td>3</td><td>5</td></tr>",
                            "<tr><td>45</td><td>1135</td><td>3</td><td>3</td></tr>",
                            "<tr><td>45</td><td>1303</td><td>2</td><td>3</td></tr>",
                            "<tr><td>46</td><td>752</td><td>5</td><td>0</td></tr>",
                            "<tr><td>46</td><td>1187</td><td>7</td><td>5</td></tr>",
                            "<tr><td>46</td><td>1291</td><td>3</td><td>7</td></tr>",
                            "<tr><td>46</td><td>1515</td><td>4</td><td>3</td></tr>",
                            "<tr><td>47</td><td>955</td><td>1</td><td>0</td></tr>",
                            "<tr><td>47</td><td>1056</td><td>7</td><td>1</td></tr>",
                            "<tr><td>48</td><td>603</td><td>3</td><td>0</td></tr>",
                            "<tr><td>48</td><td>628</td><td>2</td><td>3</td></tr>",
                            "<tr><td>48</td><td>914</td><td>5</td><td>2</td></tr>",
                            "<tr><td>48</td><td>986</td><td>5</td><td>5</td></tr>",
                            "<tr><td>48</td><td>824</td><td>2</td><td>5</td></tr>",
                            "<tr><td>48</td><td>1243</td><td>6</td><td>2</td></tr>",
                            "<tr><td>48</td><td>1546</td><td>3</td><td>6</td></tr>",
                            "<tr><td>48</td><td>1547</td><td>1</td><td>3</td></tr>",
                            "<tr><td>48</td><td>1581</td><td>5</td><td>1</td></tr>",
                            "<tr><td>49</td><td>888</td><td>7</td><td>0</td></tr>",
                            "<tr><td>49</td><td>793</td><td>6</td><td>7</td></tr>",
                            "<tr><td>49</td><td>826</td><td>4</td><td>6</td></tr>",
                            "<tr><td>49</td><td>1066</td><td>7</td><td>4</td></tr>",
                            "<tr><td>49</td><td>1200</td><td>7</td><td>7</td></tr>",
                            "<tr><td>49</td><td>1221</td><td>2</td><td>7</td></tr>",
                            "<tr><td>49</td><td>1536</td><td>6</td><td>2</td></tr>",
                            "<tr><td>50</td><td>787</td><td>3</td><td>0</td></tr>",
                            "<tr><td>50</td><td>1063</td><td>2</td><td>3</td></tr>",
                            "<tr><td>50</td><td>1224</td><td>1</td><td>2</td></tr>",
                            "<tr><td>50</td><td>1272</td><td>1</td><td>1</td></tr>",
                            "<tr><td>51</td><td>865</td><td>7</td><td>0</td></tr>",
                            "<tr><td>51</td><td>811</td><td>2</td><td>7</td></tr>",
                            "<tr><td>51</td><td>1165</td><td>5</td><td>2</td></tr>",
                            "<tr><td>51</td><td>1477</td><td>6</td><td>5</td></tr>",
                            "<tr><td>51</td><td>1550</td><td>1</td><td>6</td></tr>",
                            "<tr><td>52</td><td>822</td><td>7</td><td>0</td></tr>",
                            "<tr><td>52</td><td>1202</td><td>2</td><td>7</td></tr>",
                            "<tr><td>52</td><td>1258</td><td>5</td><td>2</td></tr>",
                            "<tr><td>52</td><td>1431</td><td>5</td><td>5</td></tr>",
                            "<tr><td>52</td><td>1534</td><td>5</td><td>5</td></tr>",
                            "<tr><td>53</td><td>855</td><td>1</td><td>0</td></tr>",
                            "<tr><td>53</td><td>987</td><td>4</td><td>1</td></tr>",
                            "<tr><td>54</td><td>622</td><td>7</td><td>0</td></tr>",
                            "<tr><td>54</td><td>642</td><td>5</td><td>7</td></tr>",
                            "<tr><td>54</td><td>889</td><td>2</td><td>5</td></tr>",
                            "<tr><td>54</td><td>668</td><td>1</td><td>2</td></tr>",
                            "<tr><td>54</td><td>1096</td><td>4</td><td>1</td></tr>",
                            "<tr><td>54</td><td>1328</td><td>4</td><td>4</td></tr>",
                            "<tr><td>55</td><td>734</td><td>6</td><td>0</td></tr>",
                            "<tr><td>55</td><td>1086</td><td>5</td><td>6</td></tr>",
                            "<tr><td>55</td><td>1163</td><td>2</td><td>5</td></tr>",
                            "<tr><td>55</td><td>1232</td><td>7</td><td>2</td></tr>",
                            "<tr><td>55</td><td>1327</td><td>6</td><td>7</td></tr>",
                            "<tr><td>55</td><td>1386</td><td>2</td><td>6</td></tr>",
                            "<tr><td>55</td><td>1512</td><td>1</td><td>2</td></tr>",
                            "<tr><td>55</td><td>1520</td><td>1</td><td>1</td></tr>",
                            "<tr><td>56</td><td>935</td><td>4</td><td>0</td></tr>",
                            "<tr><td>56</td><td>838</td><td>2</td><td>4</td></tr>",
                            "<tr><td>57</td><td>1348</td><td>1</td><td>0</td></tr>",
                            "<tr><td>57</td><td>1389</td><td>1</td><td>1</td></tr>",
                            "<tr><td>57</td><td>1466</td><td>7</td><td>1</td></tr>",
                            "<tr><td>57</td><td>1504</td><td>4</td><td>7</td></tr>",
                            "<tr><td>58</td><td>883</td><td>5</td><td>0</td></tr>",
                            "<tr><td>58</td><td>719</td><td>3</td><td>5</td></tr>",
                            "<tr><td>58</td><td>773</td><td>2</td><td>3</td></tr>",
                            "<tr><td>58</td><td>1113</td><td>3</td><td>2</td></tr>",
                            "<tr><td>58</td><td>1186</td><td>6</td><td>3</td></tr>",
                            "<tr><td>58</td><td>1208</td><td>6</td><td>6</td></tr>",
                            "<tr><td>58</td><td>1255</td><td>7</td><td>6</td></tr>",
                            "<tr><td>58</td><td>1261</td><td>6</td><td>7</td></tr>",
                            "<tr><td>58</td><td>1285</td><td>7</td><td>6</td></tr>",
                            "<tr><td>58</td><td>1293</td><td>3</td><td>7</td></tr>",
                            "<tr><td>58</td><td>1307</td><td>6</td><td>3</td></tr>",
                            "<tr><td>58</td><td>1322</td><td>3</td><td>6</td></tr>",
                            "<tr><td>58</td><td>1451</td><td>6</td><td>3</td></tr>",
                            "<tr><td>59</td><td>1080</td><td>1</td><td>0</td></tr>",
                            "<tr><td>59</td><td>1084</td><td>2</td><td>1</td></tr>",
                            "<tr><td>59</td><td>1170</td><td>5</td><td>2</td></tr>",
                            "<tr><td>59</td><td>1191</td><td>6</td><td>5</td></tr>",
                            "<tr><td>59</td><td>1239</td><td>2</td><td>6</td></tr>",
                            "<tr><td>59</td><td>1288</td><td>3</td><td>2</td></tr>",
                            "<tr><td>59</td><td>1573</td><td>1</td><td>3</td></tr>",
                            "<tr><td>60</td><td>676</td><td>2</td><td>0</td></tr>",
                            "<tr><td>61</td><td>701</td><td>2</td><td>0</td></tr>",
                            "<tr><td>61</td><td>756</td><td>6</td><td>2</td></tr>",
                            "<tr><td>61</td><td>1148</td><td>3</td><td>6</td></tr>",
                            "<tr><td>61</td><td>1218</td><td>2</td><td>3</td></tr>",
                            "<tr><td>61</td><td>1496</td><td>7</td><td>2</td></tr>",
                            "<tr><td>62</td><td>936</td><td>3</td><td>0</td></tr>",
                            "<tr><td>62</td><td>938</td><td>1</td><td>3</td></tr>",
                            "<tr><td>62</td><td>702</td><td>5</td><td>1</td></tr>",
                            "<tr><td>62</td><td>1081</td><td>7</td><td>5</td></tr>",
                            "<tr><td>62</td><td>1426</td><td>4</td><td>7</td></tr>",
                            "<tr><td>63</td><td>625</td><td>3</td><td>0</td></tr>",
                            "<tr><td>63</td><td>891</td><td>6</td><td>3</td></tr>",
                            "<tr><td>63</td><td>769</td><td>5</td><td>6</td></tr>",
                            "<tr><td>63</td><td>845</td><td>1</td><td>5</td></tr>",
                            "<tr><td>64</td><td>875</td><td>2</td><td>0</td></tr>",
                            "<tr><td>64</td><td>1122</td><td>4</td><td>2</td></tr>",
                            "<tr><td>64</td><td>1233</td><td>7</td><td>4</td></tr>",
                            "<tr><td>64</td><td>1446</td><td>6</td><td>7</td></tr>",
                            "<tr><td>64</td><td>1465</td><td>4</td><td>6</td></tr>",
                            "<tr><td>64</td><td>1582</td><td>1</td><td>4</td></tr>",
                            "<tr><td>65</td><td>650</td><td>6</td><td>0</td></tr>",
                            "<tr><td>66</td><td>950</td><td>3</td><td>0</td></tr>",
                            "<tr><td>66</td><td>736</td><td>3</td><td>3</td></tr>",
                            "<tr><td>66</td><td>1234</td><td>3</td><td>3</td></tr>",
                            "<tr><td>66</td><td>1264</td><td>4</td><td>3</td></tr>",
                            "<tr><td>67</td><td>638</td><td>5</td><td>0</td></tr>",
                            "<tr><td>67</td><td>645</td><td>6</td><td>5</td></tr>",
                            "<tr><td>67</td><td>874</td><td>6</td><td>6</td></tr>",
                            "<tr><td>67</td><td>1382</td><td>1</td><td>6</td></tr>",
                            "<tr><td>67</td><td>1580</td><td>5</td><td>1</td></tr>",
                            "<tr><td>67</td><td>1584</td><td>1</td><td>5</td></tr>",
                            "<tr><td>68</td><td>563</td><td>5</td><td>0</td></tr>",
                            "<tr><td>68</td><td>1027</td><td>7</td><td>5</td></tr>",
                            "<tr><td>68</td><td>1324</td><td>4</td><td>7</td></tr>",
                            "<tr><td>69</td><td>885</td><td>1</td><td>0</td></tr>",
                            "<tr><td>69</td><td>1055</td><td>5</td><td>1</td></tr>",
                            "<tr><td>69</td><td>1225</td><td>5</td><td>5</td></tr>",
                            "<tr><td>69</td><td>1246</td><td>7</td><td>5</td></tr>",
                            "<tr><td>70</td><td>585</td><td>5</td><td>0</td></tr>",
                            "<tr><td>70</td><td>860</td><td>2</td><td>5</td></tr>",
                            "<tr><td>70</td><td>1006</td><td>3</td><td>2</td></tr>",
                            "<tr><td>70</td><td>704</td><td>3</td><td>3</td></tr>",
                            "<tr><td>70</td><td>814</td><td>3</td><td>3</td></tr>",
                            "<tr><td>70</td><td>1092</td><td>3</td><td>3</td></tr>",
                            "<tr><td>70</td><td>1126</td><td>3</td><td>3</td></tr>",
                            "<tr><td>70</td><td>1325</td><td>7</td><td>3</td></tr>",
                            "<tr><td>70</td><td>1333</td><td>6</td><td>7</td></tr>",
                            "<tr><td>70</td><td>1365</td><td>3</td><td>6</td></tr>",
                            "<tr><td>70</td><td>1457</td><td>7</td><td>3</td></tr>",
                            "<tr><td>71</td><td>1009</td><td>1</td><td>0</td></tr>",
                            "<tr><td>71</td><td>681</td><td>3</td><td>1</td></tr>",
                            "<tr><td>71</td><td>712</td><td>1</td><td>3</td></tr>",
                            "<tr><td>72</td><td>902</td><td>5</td><td>0</td></tr>",
                            "<tr><td>72</td><td>961</td><td>6</td><td>5</td></tr>",
                            "<tr><td>72</td><td>1318</td><td>2</td><td>6</td></tr>",
                            "<tr><td>72</td><td>1396</td><td>3</td><td>2</td></tr>",
                            "<tr><td>73</td><td>1000</td><td>4</td><td>0</td></tr>",
                            "<tr><td>73</td><td>714</td><td>7</td><td>4</td></tr>",
                            "<tr><td>73</td><td>1159</td><td>5</td><td>7</td></tr>",
                            "<tr><td>73</td><td>1331</td><td>4</td><td>5</td></tr>",
                            "<tr><td>74</td><td>595</td><td>7</td><td>0</td></tr>",
                            "<tr><td>74</td><td>877</td><td>4</td><td>7</td></tr>",
                            "<tr><td>74</td><td>940</td><td>5</td><td>4</td></tr>",
                            "<tr><td>74</td><td>963</td><td>1</td><td>5</td></tr>",
                            "<tr><td>74</td><td>797</td><td>5</td><td>1</td></tr>",
                            "<tr><td>74</td><td>830</td><td>1</td><td>5</td></tr>",
                            "<tr><td>74</td><td>847</td><td>3</td><td>1</td></tr>",
                            "<tr><td>74</td><td>1093</td><td>6</td><td>3</td></tr>",
                            "<tr><td>74</td><td>1179</td><td>7</td><td>6</td></tr>",
                            "<tr><td>75</td><td>1013</td><td>5</td><td>0</td></tr>",
                            "<tr><td>75</td><td>1412</td><td>2</td><td>5</td></tr>",
                            "<tr><td>75</td><td>1458</td><td>1</td><td>2</td></tr>",
                            "<tr><td>76</td><td>976</td><td>2</td><td>0</td></tr>",
                            "<tr><td>76</td><td>683</td><td>7</td><td>2</td></tr>",
                            "<tr><td>76</td><td>1557</td><td>3</td><td>7</td></tr>",
                            "<tr><td>77</td><td>593</td><td>3</td><td>0</td></tr>",
                            "<tr><td>77</td><td>982</td><td>3</td><td>3</td></tr>",
                            "<tr><td>77</td><td>698</td><td>4</td><td>3</td></tr>",
                            "<tr><td>77</td><td>1104</td><td>1</td><td>4</td></tr>",
                            "<tr><td>77</td><td>1439</td><td>6</td><td>1</td></tr>",
                            "<tr><td>77</td><td>1461</td><td>4</td><td>6</td></tr>",
                            "<tr><td>78</td><td>568</td><td>1</td><td>0</td></tr>",
                            "<tr><td>78</td><td>646</td><td>3</td><td>1</td></tr>",
                            "<tr><td>78</td><td>700</td><td>5</td><td>3</td></tr>",
                            "<tr><td>78</td><td>1268</td><td>2</td><td>5</td></tr>",
                            "<tr><td>78</td><td>1281</td><td>3</td><td>2</td></tr>",
                            "<tr><td>78</td><td>1577</td><td>7</td><td>3</td></tr>",
                            "<tr><td>79</td><td>583</td><td>6</td><td>0</td></tr>",
                            "<tr><td>79</td><td>1054</td><td>1</td><td>6</td></tr>",
                            "<tr><td>79</td><td>1229</td><td>7</td><td>1</td></tr>",
                            "<tr><td>79</td><td>1345</td><td>3</td><td>7</td></tr>",
                            "<tr><td>79</td><td>1447</td><td>4</td><td>3</td></tr>",
                            "<tr><td>80</td><td>887</td><td>6</td><td>0</td></tr>",
                            "<tr><td>80</td><td>929</td><td>2</td><td>6</td></tr>",
                            "<tr><td>80</td><td>983</td><td>6</td><td>2</td></tr>",
                            "<tr><td>80</td><td>667</td><td>6</td><td>6</td></tr>",
                            "<tr><td>80</td><td>1071</td><td>4</td><td>6</td></tr>",
                            "<tr><td>80</td><td>1279</td><td>5</td><td>4</td></tr>",
                            "<tr><td>80</td><td>1367</td><td>3</td><td>5</td></tr>",
                            "<tr><td>81</td><td>1366</td><td>5</td><td>0</td></tr>",
                            "<tr><td>81</td><td>1443</td><td>7</td><td>5</td></tr>",
                            "<tr><td>81</td><td>1464</td><td>7</td><td>7</td></tr>",
                            "<tr><td>81</td><td>1506</td><td>3</td><td>7</td></tr>",
                            "<tr><td>81</td><td>1562</td><td>3</td><td>3</td></tr>",
                            "<tr><td>82</td><td>862</td><td>4</td><td>0</td></tr>",
                            "<tr><td>82</td><td>871</td><td>5</td><td>4</td></tr>",
                            "<tr><td>82</td><td>997</td><td>6</td><td>5</td></tr>",
                            "<tr><td>82</td><td>1277</td><td>5</td><td>6</td></tr>",
                            "<tr><td>82</td><td>1341</td><td>2</td><td>5</td></tr>",
                            "<tr><td>82</td><td>1406</td><td>1</td><td>2</td></tr>",
                            "<tr><td>83</td><td>572</td><td>7</td><td>0</td></tr>",
                            "<tr><td>83</td><td>869</td><td>6</td><td>7</td></tr>",
                            "<tr><td>83</td><td>878</td><td>6</td><td>6</td></tr>",
                            "<tr><td>83</td><td>995</td><td>5</td><td>6</td></tr>",
                            "<tr><td>83</td><td>674</td><td>4</td><td>5</td></tr>",
                            "<tr><td>83</td><td>798</td><td>4</td><td>4</td></tr>",
                            "<tr><td>83</td><td>1119</td><td>6</td><td>4</td></tr>",
                            "<tr><td>83</td><td>1379</td><td>7</td><td>6</td></tr>",
                            "<tr><td>84</td><td>954</td><td>5</td><td>0</td></tr>",
                            "<tr><td>84</td><td>819</td><td>2</td><td>5</td></tr>",
                            "<tr><td>84</td><td>1376</td><td>5</td><td>2</td></tr>",
                            "<tr><td>84</td><td>1384</td><td>7</td><td>5</td></tr>",
                            "<tr><td>85</td><td>647</td><td>3</td><td>0</td></tr>",
                            "<tr><td>85</td><td>1059</td><td>3</td><td>3</td></tr>",
                            "<tr><td>85</td><td>1320</td><td>1</td><td>3</td></tr>",
                            "<tr><td>85</td><td>1513</td><td>7</td><td>1</td></tr>",
                            "<tr><td>86</td><td>859</td><td>1</td><td>0</td></tr>",
                            "<tr><td>86</td><td>1057</td><td>5</td><td>1</td></tr>",
                            "<tr><td>86</td><td>1079</td><td>4</td><td>5</td></tr>",
                            "<tr><td>86</td><td>1108</td><td>1</td><td>4</td></tr>",
                            "<tr><td>86</td><td>1453</td><td>1</td><td>1</td></tr>",
                            "<tr><td>87</td><td>558</td><td>4</td><td>0</td></tr>",
                            "<tr><td>87</td><td>844</td><td>1</td><td>4</td></tr>",
                            "<tr><td>87</td><td>1103</td><td>3</td><td>1</td></tr>",
                            "<tr><td>87</td><td>1349</td><td>5</td><td>3</td></tr>",
                            "<tr><td>87</td><td>1456</td><td>5</td><td>5</td></tr>",
                            "<tr><td>88</td><td>866</td><td>2</td><td>0</td></tr>",
                            "<tr><td>88</td><td>757</td><td>7</td><td>2</td></tr>",
                            "<tr><td>88</td><td>1196</td><td>3</td><td>7</td></tr>",
                            "<tr><td>88</td><td>1273</td><td>7</td><td>3</td></tr>",
                            "<tr><td>88</td><td>1300</td><td>3</td><td>7</td></tr>",
                            "<tr><td>88</td><td>1359</td><td>2</td><td>3</td></tr>",
                            "<tr><td>88</td><td>1548</td><td>7</td><td>2</td></tr>",
                            "<tr><td>88</td><td>1575</td><td>6</td><td>7</td></tr>",
                            "<tr><td>89</td><td>817</td><td>3</td><td>0</td></tr>",
                            "<tr><td>89</td><td>1037</td><td>7</td><td>3</td></tr>",
                            "<tr><td>89</td><td>1101</td><td>5</td><td>7</td></tr>",
                            "<tr><td>89</td><td>1189</td><td>6</td><td>5</td></tr>",
                            "<tr><td>89</td><td>1253</td><td>2</td><td>6</td></tr>",
                            "<tr><td>89</td><td>1269</td><td>2</td><td>2</td></tr>",
                            "<tr><td>89</td><td>1399</td><td>2</td><td>2</td></tr>",
                            "<tr><td>89</td><td>1521</td><td>7</td><td>2</td></tr>",
                            "<tr><td>90</td><td>729</td><td>2</td><td>0</td></tr>",
                            "<tr><td>90</td><td>1174</td><td>7</td><td>2</td></tr>",
                            "<tr><td>90</td><td>1299</td><td>6</td><td>7</td></tr>",
                            "<tr><td>90</td><td>1405</td><td>5</td><td>6</td></tr>",
                            "<tr><td>91</td><td>636</td><td>6</td><td>0</td></tr>",
                            "<tr><td>91</td><td>732</td><td>4</td><td>6</td></tr>",
                            "<tr><td>91</td><td>1213</td><td>3</td><td>4</td></tr>",
                            "<tr><td>91</td><td>1397</td><td>4</td><td>3</td></tr>",
                            "<tr><td>92</td><td>942</td><td>6</td><td>0</td></tr>",
                            "<tr><td>92</td><td>1016</td><td>2</td><td>6</td></tr>",
                            "<tr><td>92</td><td>809</td><td>3</td><td>2</td></tr>",
                            "<tr><td>92</td><td>841</td><td>6</td><td>3</td></tr>",
                            "<tr><td>92</td><td>1527</td><td>2</td><td>6</td></tr>",
                            "<tr><td>92</td><td>1555</td><td>4</td><td>2</td></tr>",
                            "<tr><td>93</td><td>741</td><td>7</td><td>0</td></tr>",
                            "<tr><td>93</td><td>1169</td><td>4</td><td>7</td></tr>",
                            "<tr><td>93</td><td>1217</td><td>1</td><td>4</td></tr>",
                            "<tr><td>93</td><td>1355</td><td>2</td><td>1</td></tr>",
                            "<tr><td>93</td><td>1391</td><td>4</td><td>2</td></tr>",
                            "<tr><td>94</td><td>616</td><td>4</td><td>0</td></tr>",
                            "<tr><td>94</td><td>975</td><td>5</td><td>4</td></tr>",
                            "<tr><td>94</td><td>665</td><td>7</td><td>5</td></tr>",
                            "<tr><td>94</td><td>727</td><td>3</td><td>7</td></tr>",
                            "<tr><td>94</td><td>1241</td><td>7</td><td>3</td></tr>",
                            "<tr><td>94</td><td>1305</td><td>2</td><td>7</td></tr>",
                            "<tr><td>94</td><td>1312</td><td>3</td><td>2</td></tr>",
                            "<tr><td>94</td><td>1368</td><td>1</td><td>3</td></tr>",
                            "<tr><td>94</td><td>1518</td><td>2</td><td>1</td></tr>",
                            "<tr><td>94</td><td>1564</td><td>7</td><td>2</td></tr>",
                            "<tr><td>95</td><td>656</td><td>7</td><td>0</td></tr>",
                            "<tr><td>95</td><td>1048</td><td>3</td><td>7</td></tr>",
                            "<tr><td>95</td><td>1097</td><td>4</td><td>3</td></tr>",
                            "<tr><td>95</td><td>1543</td><td>7</td><td>4</td></tr>",
                            "<tr><td>96</td><td>607</td><td>4</td><td>0</td></tr>",
                            "<tr><td>96</td><td>623</td><td>7</td><td>4</td></tr>",
                            "<tr><td>96</td><td>671</td><td>4</td><td>7</td></tr>",
                            "<tr><td>96</td><td>780</td><td>1</td><td>4</td></tr>",
                            "<tr><td>96</td><td>1378</td><td>3</td><td>1</td></tr>",
                            "<tr><td>96</td><td>1438</td><td>2</td><td>3</td></tr>",
                            "<tr><td>96</td><td>1569</td><td>7</td><td>2</td></tr>",
                            "<tr><td>97</td><td>635</td><td>3</td><td>0</td></tr>",
                            "<tr><td>97</td><td>726</td><td>4</td><td>3</td></tr>",
                            "<tr><td>97</td><td>718</td><td>7</td><td>4</td></tr>",
                            "<tr><td>97</td><td>836</td><td>2</td><td>7</td></tr>",
                            "<tr><td>97</td><td>1395</td><td>1</td><td>2</td></tr>",
                            "<tr><td>97</td><td>1417</td><td>7</td><td>1</td></tr>",
                            "<tr><td>97</td><td>1528</td><td>2</td><td>7</td></tr>",
                            "<tr><td>98</td><td>631</td><td>6</td><td>0</td></tr>",
                            "<tr><td>98</td><td>884</td><td>5</td><td>6</td></tr>",
                            "<tr><td>98</td><td>1050</td><td>6</td><td>5</td></tr>",
                            "<tr><td>98</td><td>1402</td><td>2</td><td>6</td></tr>",
                            "<tr><td>99</td><td>632</td><td>1</td><td>0</td></tr>",
                            "<tr><td>99</td><td>691</td><td>5</td><td>1</td></tr>",
                            "<tr><td>99</td><td>1072</td><td>1</td><td>5</td></tr>",
                            "<tr><td>99</td><td>1408</td><td>1</td><td>1</td></tr>",
                            "<tr><td>99</td><td>1486</td><td>5</td><td>1</td></tr>",
                            "<tr><td>100</td><td>597</td><td>1</td><td>0</td></tr>",
                            "<tr><td>100</td><td>637</td><td>5</td><td>1</td></tr>",
                            "<tr><td>100</td><td>1315</td><td>5</td><td>5</td></tr>",
                            "<tr><td>100</td><td>1482</td><td>7</td><td>5</td></tr>",
                            "<tr><td>101</td><td>715</td><td>3</td><td>0</td></tr>",
                            "<tr><td>101</td><td>1332</td><td>6</td><td>3</td></tr>",
                            "<tr><td>101</td><td>1516</td><td>4</td><td>6</td></tr>",
                            "<tr><td>102</td><td>689</td><td>5</td><td>0</td></tr>",
                            "<tr><td>102</td><td>1343</td><td>2</td><td>5</td></tr>",
                            "<tr><td>103</td><td>972</td><td>2</td><td>0</td></tr>",
                            "<tr><td>103</td><td>992</td><td>7</td><td>2</td></tr>",
                            "<tr><td>103</td><td>1398</td><td>1</td><td>7</td></tr>",
                            "<tr><td>103</td><td>1485</td><td>4</td><td>1</td></tr>",
                            "<tr><td>104</td><td>837</td><td>4</td><td>0</td></tr>",
                            "<tr><td>104</td><td>1180</td><td>1</td><td>4</td></tr>",
                            "<tr><td>104</td><td>1522</td><td>2</td><td>1</td></tr>",
                            "<tr><td>104</td><td>1532</td><td>3</td><td>2</td></tr>",
                            "<tr><td>105</td><td>618</td><td>1</td><td>0</td></tr>",
                            "<tr><td>105</td><td>1525</td><td>5</td><td>1</td></tr>",
                            "<tr><td>106</td><td>610</td><td>3</td><td>0</td></tr>",
                            "<tr><td>106</td><td>708</td><td>7</td><td>3</td></tr>",
                            "<tr><td>106</td><td>1228</td><td>7</td><td>7</td></tr>",
                            "<tr><td>106</td><td>1271</td><td>5</td><td>7</td></tr>",
                            "<tr><td>106</td><td>1372</td><td>7</td><td>5</td></tr>",
                            "<tr><td>106</td><td>1510</td><td>6</td><td>7</td></tr>",
                            "<tr><td>107</td><td>586</td><td>6</td><td>0</td></tr>",
                            "<tr><td>107</td><td>1250</td><td>4</td><td>6</td></tr>",
                            "<tr><td>107</td><td>1354</td><td>1</td><td>4</td></tr>",
                            "<tr><td>107</td><td>1452</td><td>6</td><td>1</td></tr>",
                            "<tr><td>107</td><td>1494</td><td>2</td><td>6</td></tr>",
                            "<tr><td>108</td><td>1102</td><td>1</td><td>0</td></tr>",
                            "<tr><td>108</td><td>1392</td><td>6</td><td>1</td></tr>",
                            "<tr><td>109</td><td>614</td><td>4</td><td>0</td></tr>",
                            "<tr><td>109</td><td>621</td><td>7</td><td>4</td></tr>",
                            "<tr><td>109</td><td>654</td><td>5</td><td>7</td></tr>",
                            "<tr><td>109</td><td>810</td><td>2</td><td>5</td></tr>",
                            "<tr><td>109</td><td>1083</td><td>1</td><td>2</td></tr>",
                            "<tr><td>109</td><td>1298</td><td>4</td><td>1</td></tr>",
                            "<tr><td>109</td><td>1560</td><td>1</td><td>4</td></tr>",
                            "<tr><td>110</td><td>931</td><td>5</td><td>0</td></tr>",
                            "<tr><td>110</td><td>964</td><td>6</td><td>5</td></tr>",
                            "<tr><td>110</td><td>685</td><td>1</td><td>6</td></tr>",
                            "<tr><td>110</td><td>1041</td><td>3</td><td>1</td></tr>",
                            "<tr><td>110</td><td>1109</td><td>5</td><td>3</td></tr>",
                            "<tr><td>110</td><td>1162</td><td>2</td><td>5</td></tr>",
                            "<tr><td>110</td><td>1424</td><td>1</td><td>2</td></tr>",
                            "<tr><td>110</td><td>1489</td><td>6</td><td>1</td></tr>",
                            "<tr><td>111</td><td>605</td><td>7</td><td>0</td></tr>",
                            "<tr><td>111</td><td>959</td><td>7</td><td>7</td></tr>",
                            "<tr><td>111</td><td>786</td><td>4</td><td>7</td></tr>",
                            "<tr><td>111</td><td>1296</td><td>3</td><td>4</td></tr>",
                            "<tr><td>111</td><td>1353</td><td>5</td><td>3</td></tr>",
                            "<tr><td>112</td><td>921</td><td>1</td><td>0</td></tr>",
                            "<tr><td>112</td><td>776</td><td>4</td><td>1</td></tr>",
                            "<tr><td>112</td><td>801</td><td>5</td><td>4</td></tr>",
                            "<tr><td>112</td><td>1124</td><td>6</td><td>5</td></tr>",
                            "<tr><td>112</td><td>1530</td><td>6</td><td>6</td></tr>",
                            "<tr><td>113</td><td>1029</td><td>5</td><td>0</td></tr>",
                            "<tr><td>113</td><td>1085</td><td>4</td><td>5</td></tr>",
                            "<tr><td>113</td><td>1263</td><td>1</td><td>4</td></tr>",
                            "<tr><td>113</td><td>1495</td><td>7</td><td>1</td></tr>",
                            "<tr><td>113</td><td>1499</td><td>2</td><td>7</td></tr>",
                            "<tr><td>114</td><td>966</td><td>6</td><td>0</td></tr>",
                            "<tr><td>114</td><td>737</td><td>2</td><td>6</td></tr>",
                            "<tr><td>114</td><td>827</td><td>7</td><td>2</td></tr>",
                            "<tr><td>114</td><td>1540</td><td>3</td><td>7</td></tr>",
                            "<tr><td>115</td><td>596</td><td>7</td><td>0</td></tr>",
                            "<tr><td>115</td><td>943</td><td>7</td><td>7</td></tr>",
                            "<tr><td>115</td><td>1121</td><td>7</td><td>7</td></tr>",
                            "<tr><td>115</td><td>1154</td><td>4</td><td>7</td></tr>",
                            "<tr><td>115</td><td>1352</td><td>3</td><td>4</td></tr>",
                            "<tr><td>115</td><td>1554</td><td>3</td><td>3</td></tr>",
                            "<tr><td>115</td><td>1566</td><td>1</td><td>3</td></tr>",
                            "<tr><td>116</td><td>1455</td><td>2</td><td>0</td></tr>",
                            "<tr><td>116</td><td>1501</td><td>4</td><td>2</td></tr>",
                            "<tr><td>117</td><td>612</td><td>2</td><td>0</td></tr>",
                            "<tr><td>117</td><td>617</td><td>3</td><td>2</td></tr>",
                            "<tr><td>117</td><td>953</td><td>5</td><td>3</td></tr>",
                            "<tr><td>117</td><td>962</td><td>4</td><td>5</td></tr>",
                            "<tr><td>117</td><td>1002</td><td>1</td><td>4</td></tr>",
                            "<tr><td>117</td><td>1192</td><td>2</td><td>1</td></tr>",
                            "<tr><td>117</td><td>1247</td><td>3</td><td>2</td></tr>",
                            "<tr><td>117</td><td>1468</td><td>7</td><td>3</td></tr>",
                            "<tr><td>118</td><td>864</td><td>6</td><td>0</td></tr>",
                            "<tr><td>118</td><td>994</td><td>7</td><td>6</td></tr>",
                            "<tr><td>118</td><td>996</td><td>3</td><td>7</td></tr>",
                            "<tr><td>118</td><td>716</td><td>1</td><td>3</td></tr>",
                            "<tr><td>118</td><td>1374</td><td>5</td><td>1</td></tr>",
                            "<tr><td>118</td><td>1472</td><td>6</td><td>5</td></tr>",
                            "<tr><td>118</td><td>1481</td><td>3</td><td>6</td></tr>",
                            "<tr><td>119</td><td>1026</td><td>3</td><td>0</td></tr>",
                            "<tr><td>119</td><td>706</td><td>2</td><td>3</td></tr>",
                            "<tr><td>119</td><td>722</td><td>1</td><td>2</td></tr>",
                            "<tr><td>119</td><td>1413</td><td>3</td><td>1</td></tr>",
                            "<tr><td>119</td><td>1488</td><td>3</td><td>3</td></tr>",
                            "<tr><td>120</td><td>998</td><td>3</td><td>0</td></tr>",
                            "<tr><td>120</td><td>762</td><td>3</td><td>3</td></tr>",
                            "<tr><td>120</td><td>1089</td><td>6</td><td>3</td></tr>",
                            "<tr><td>120</td><td>1339</td><td>6</td><td>6</td></tr>",
                            "<tr><td>120</td><td>1483</td><td>1</td><td>6</td></tr>",
                            "<tr><td>120</td><td>1493</td><td>7</td><td>1</td></tr>",
                            "<tr><td>121</td><td>858</td><td>5</td><td>0</td></tr>",
                            "<tr><td>121</td><td>735</td><td>6</td><td>5</td></tr>",
                            "<tr><td>121</td><td>739</td><td>6</td><td>6</td></tr>",
                            "<tr><td>121</td><td>1049</td><td>3</td><td>6</td></tr>",
                            "<tr><td>121</td><td>1128</td><td>4</td><td>3</td></tr>",
                            "<tr><td>121</td><td>1215</td><td>4</td><td>4</td></tr>",
                            "<tr><td>121</td><td>1373</td><td>5</td><td>4</td></tr>",
                            "<tr><td>121</td><td>1393</td><td>6</td><td>5</td></tr>",
                            "<tr><td>122</td><td>1007</td><td>2</td><td>0</td></tr>",
                            "<tr><td>122</td><td>1036</td><td>2</td><td>2</td></tr>",
                            "<tr><td>122</td><td>1062</td><td>3</td><td>2</td></tr>",
                            "<tr><td>122</td><td>1166</td><td>4</td><td>3</td></tr>",
                            "<tr><td>122</td><td>1209</td><td>1</td><td>4</td></tr>",
                            "<tr><td>122</td><td>1245</td><td>2</td><td>1</td></tr>",
                            "<tr><td>122</td><td>1337</td><td>2</td><td>2</td></tr>",
                            "<tr><td>122</td><td>1385</td><td>5</td><td>2</td></tr>",
                            "<tr><td>122</td><td>1440</td><td>3</td><td>5</td></tr>",
                            "<tr><td>123</td><td>587</td><td>7</td><td>0</td></tr>",
                            "<tr><td>123</td><td>923</td><td>4</td><td>7</td></tr>",
                            "<tr><td>123</td><td>967</td><td>5</td><td>4</td></tr>",
                            "<tr><td>123</td><td>1223</td><td>1</td><td>5</td></tr>",
                            "<tr><td>123</td><td>1282</td><td>6</td><td>1</td></tr>",
                            "<tr><td>124</td><td>861</td><td>1</td><td>0</td></tr>",
                            "<tr><td>124</td><td>1210</td><td>4</td><td>1</td></tr>",
                            "<tr><td>124</td><td>1330</td><td>7</td><td>4</td></tr>",
                            "<tr><td>124</td><td>1403</td><td>6</td><td>7</td></tr>",
                            "<tr><td>124</td><td>1419</td><td>3</td><td>6</td></tr>",
                            "<tr><td>124</td><td>1531</td><td>6</td><td>3</td></tr>",
                            "<tr><td>125</td><td>576</td><td>1</td><td>0</td></tr>",
                            "<tr><td>126</td><td>754</td><td>4</td><td>0</td></tr>",
                            "<tr><td>126</td><td>806</td><td>6</td><td>4</td></tr>",
                            "<tr><td>126</td><td>1134</td><td>1</td><td>6</td></tr>",
                            "<tr><td>126</td><td>1364</td><td>6</td><td>1</td></tr>",
                            "<tr><td>126</td><td>1428</td><td>7</td><td>6</td></tr>",
                            "<tr><td>126</td><td>1500</td><td>4</td><td>7</td></tr>",
                            "<tr><td>127</td><td>643</td><td>2</td><td>0</td></tr>",
                            "<tr><td>127</td><td>853</td><td>5</td><td>2</td></tr>",
                            "<tr><td>127</td><td>879</td><td>2</td><td>5</td></tr>",
                            "<tr><td>127</td><td>1034</td><td>6</td><td>2</td></tr>",
                            "<tr><td>127</td><td>1226</td><td>5</td><td>6</td></tr>",
                            "<tr><td>127</td><td>1286</td><td>1</td><td>5</td></tr>",
                            "<tr><td>127</td><td>1579</td><td>5</td><td>1</td></tr>",
                            "<tr><td>128</td><td>717</td><td>2</td><td>0</td></tr>",
                            "<tr><td>128</td><td>815</td><td>1</td><td>2</td></tr>",
                            "<tr><td>128</td><td>1290</td><td>1</td><td>1</td></tr>",
                            "<tr><td>128</td><td>1574</td><td>1</td><td>1</td></tr>",
                            "<tr><td>128</td><td>1583</td><td>4</td><td>1</td></tr>",
                            "<tr><td>129</td><td>723</td><td>7</td><td>0</td></tr>",
                            "<tr><td>129</td><td>1360</td><td>6</td><td>7</td></tr>",
                            "<tr><td>129</td><td>1445</td><td>7</td><td>6</td></tr>",
                            "<tr><td>129</td><td>1509</td><td>6</td><td>7</td></tr>",
                            "<tr><td>130</td><td>580</td><td>3</td><td>0</td></tr>",
                            "<tr><td>130</td><td>613</td><td>3</td><td>3</td></tr>",
                            "<tr><td>130</td><td>910</td><td>2</td><td>3</td></tr>",
                            "<tr><td>130</td><td>779</td><td>6</td><td>2</td></tr>",
                            "<tr><td>130</td><td>1040</td><td>1</td><td>6</td></tr>",
                            "<tr><td>130</td><td>1475</td><td>7</td><td>1</td></tr>",
                            "<tr><td>131</td><td>559</td><td>2</td><td>0</td></tr>",
                            "<tr><td>131</td><td>655</td><td>1</td><td>2</td></tr>",
                            "<tr><td>131</td><td>881</td><td>6</td><td>1</td></tr>",
                            "<tr><td>131</td><td>760</td><td>4</td><td>6</td></tr>",
                            "<tr><td>131</td><td>1474</td><td>5</td><td>4</td></tr>",
                            "<tr><td>132</td><td>619</td><td>7</td><td>0</td></tr>",
                            "<tr><td>132</td><td>999</td><td>6</td><td>7</td></tr>",
                            "<tr><td>132</td><td>1090</td><td>7</td><td>6</td></tr>",
                            "<tr><td>132</td><td>1111</td><td>3</td><td>7</td></tr>",
                            "<tr><td>132</td><td>1301</td><td>2</td><td>3</td></tr>",
                            "<tr><td>132</td><td>1519</td><td>2</td><td>2</td></tr>",
                            "<tr><td>133</td><td>909</td><td>4</td><td>0</td></tr>",
                            "<tr><td>133</td><td>988</td><td>3</td><td>4</td></tr>",
                            "<tr><td>133</td><td>1149</td><td>7</td><td>3</td></tr>",
                            "<tr><td>133</td><td>1306</td><td>3</td><td>7</td></tr>",
                            "<tr><td>133</td><td>1363</td><td>5</td><td>3</td></tr>",
                            "<tr><td>133</td><td>1409</td><td>1</td><td>5</td></tr>",
                            "<tr><td>134</td><td>1004</td><td>5</td><td>0</td></tr>",
                            "<tr><td>134</td><td>1024</td><td>1</td><td>5</td></tr>",
                            "<tr><td>134</td><td>1045</td><td>2</td><td>1</td></tr>",
                            "<tr><td>134</td><td>1178</td><td>7</td><td>2</td></tr>",
                            "<tr><td>134</td><td>1219</td><td>6</td><td>7</td></tr>",
                            "<tr><td>134</td><td>1535</td><td>7</td><td>6</td></tr>",
                            "<tr><td>135</td><td>724</td><td>6</td><td>0</td></tr>",
                            "<tr><td>135</td><td>849</td><td>7</td><td>6</td></tr>",
                            "<tr><td>135</td><td>1289</td><td>3</td><td>7</td></tr>",
                            "<tr><td>136</td><td>584</td><td>2</td><td>0</td></tr>",
                            "<tr><td>136</td><td>661</td><td>5</td><td>2</td></tr>",
                            "<tr><td>136</td><td>1046</td><td>4</td><td>5</td></tr>",
                            "<tr><td>137</td><td>582</td><td>3</td><td>0</td></tr>",
                            "<tr><td>137</td><td>649</td><td>5</td><td>3</td></tr>",
                            "<tr><td>137</td><td>657</td><td>6</td><td>5</td></tr>",
                            "<tr><td>137</td><td>1014</td><td>1</td><td>6</td></tr>",
                            "<tr><td>137</td><td>1201</td><td>6</td><td>1</td></tr>",
                            "<tr><td>137</td><td>1280</td><td>3</td><td>6</td></tr>",
                            "<tr><td>138</td><td>768</td><td>6</td><td>0</td></tr>",
                            "<tr><td>138</td><td>796</td><td>4</td><td>6</td></tr>",
                            "<tr><td>138</td><td>1256</td><td>4</td><td>4</td></tr>",
                            "<tr><td>138</td><td>1283</td><td>2</td><td>4</td></tr>",
                            "<tr><td>138</td><td>1294</td><td>5</td><td>2</td></tr>",
                            "<tr><td>138</td><td>1358</td><td>7</td><td>5</td></tr>",
                            "<tr><td>138</td><td>1370</td><td>5</td><td>7</td></tr>",
                            "<tr><td>139</td><td>579</td><td>2</td><td>0</td></tr>",
                            "<tr><td>139</td><td>745</td><td>1</td><td>2</td></tr>",
                            "<tr><td>139</td><td>751</td><td>4</td><td>1</td></tr>",
                            "<tr><td>139</td><td>1042</td><td>2</td><td>4</td></tr>",
                            "<tr><td>139</td><td>1064</td><td>6</td><td>2</td></tr>",
                            "<tr><td>139</td><td>1433</td><td>6</td><td>6</td></tr>",
                            "<tr><td>139</td><td>1450</td><td>7</td><td>6</td></tr>",
                            "<tr><td>140</td><td>915</td><td>2</td><td>0</td></tr>",
                            "<tr><td>140</td><td>733</td><td>1</td><td>2</td></tr>",
                            "<tr><td>140</td><td>1098</td><td>2</td><td>1</td></tr>",
                            "<tr><td>140</td><td>1156</td><td>3</td><td>2</td></tr>",
                            "<tr><td>140</td><td>1259</td><td>7</td><td>3</td></tr>",
                            "<tr><td>140</td><td>1357</td><td>4</td><td>7</td></tr>",
                            "<tr><td>140</td><td>1361</td><td>3</td><td>4</td></tr>",
                            "<tr><td>140</td><td>1371</td><td>1</td><td>3</td></tr>",
                            "<tr><td>141</td><td>565</td><td>6</td><td>0</td></tr>",
                            "<tr><td>141</td><td>908</td><td>2</td><td>6</td></tr>",
                            "<tr><td>141</td><td>761</td><td>3</td><td>2</td></tr>",
                            "<tr><td>141</td><td>784</td><td>7</td><td>3</td></tr>",
                            "<tr><td>141</td><td>1254</td><td>4</td><td>7</td></tr>",
                            "<tr><td>141</td><td>1401</td><td>6</td><td>4</td></tr>",
                            "<tr><td>142</td><td>1369</td><td>6</td><td>0</td></tr>",
                            "<tr><td>142</td><td>1545</td><td>3</td><td>6</td></tr>",
                            "<tr><td>143</td><td>980</td><td>3</td><td>0</td></tr>",
                            "<tr><td>143</td><td>1155</td><td>7</td><td>3</td></tr>",
                            "<tr><td>143</td><td>1193</td><td>6</td><td>7</td></tr>",
                            "<tr><td>143</td><td>1222</td><td>2</td><td>6</td></tr>",
                            "<tr><td>143</td><td>1313</td><td>4</td><td>2</td></tr>",
                            "<tr><td>143</td><td>1394</td><td>3</td><td>4</td></tr>",
                            "<tr><td>143</td><td>1448</td><td>6</td><td>3</td></tr>",
                            "<tr><td>144</td><td>581</td><td>4</td><td>0</td></tr>",
                            "<tr><td>144</td><td>1087</td><td>2</td><td>4</td></tr>",
                            "<tr><td>144</td><td>1199</td><td>7</td><td>2</td></tr>",
                            "<tr><td>144</td><td>1297</td><td>1</td><td>7</td></tr>",
                            "<tr><td>144</td><td>1572</td><td>2</td><td>1</td></tr>",
                            "<tr><td>145</td><td>703</td><td>4</td><td>0</td></tr>",
                            "<tr><td>145</td><td>1077</td><td>1</td><td>4</td></tr>",
                            "<tr><td>145</td><td>1120</td><td>1</td><td>1</td></tr>",
                            "<tr><td>145</td><td>1145</td><td>4</td><td>1</td></tr>",
                            "<tr><td>145</td><td>1338</td><td>2</td><td>4</td></tr>",
                            "<tr><td>145</td><td>1471</td><td>1</td><td>2</td></tr>",
                            "<tr><td>146</td><td>890</td><td>3</td><td>0</td></tr>",
                            "<tr><td>146</td><td>664</td><td>3</td><td>3</td></tr>",
                            "<tr><td>146</td><td>789</td><td>7</td><td>3</td></tr>",
                            "<tr><td>146</td><td>804</td><td>7</td><td>7</td></tr>",
                            "<tr><td>146</td><td>1032</td><td>5</td><td>7</td></tr>",
                            "<tr><td>146</td><td>1479</td><td>6</td><td>5</td></tr>",
                            "<tr><td>147</td><td>771</td><td>4</td><td>0</td></tr>",
                            "<tr><td>148</td><td>678</td><td>4</td><td>0</td></tr>",
                            "<tr><td>148</td><td>765</td><td>3</td><td>4</td></tr>",
                            "<tr><td>148</td><td>783</td><td>7</td><td>3</td></tr>",
                            "<tr><td>148</td><td>808</td><td>2</td><td>7</td></tr>",
                            "<tr><td>148</td><td>812</td><td>6</td><td>2</td></tr>",
                            "<tr><td>148</td><td>1578</td><td>7</td><td>6</td></tr>",
                            "<tr><td>149</td><td>591</td><td>1</td><td>0</td></tr>",
                            "<tr><td>149</td><td>652</td><td>1</td><td>1</td></tr>",
                            "<tr><td>149</td><td>833</td><td>2</td><td>1</td></tr>",
                            "<tr><td>149</td><td>834</td><td>5</td><td>2</td></tr>",
                            "<tr><td>149</td><td>843</td><td>4</td><td>5</td></tr>",
                            "<tr><td>149</td><td>1146</td><td>6</td><td>4</td></tr>",
                            "<tr><td>149</td><td>1514</td><td>5</td><td>6</td></tr>",
                            "<tr><td>150</td><td>641</td><td>3</td><td>0</td></tr>",
                            "<tr><td>150</td><td>1100</td><td>5</td><td>3</td></tr>",
                            "<tr><td>150</td><td>1105</td><td>1</td><td>5</td></tr>",
                            "<tr><td>150</td><td>1177</td><td>1</td><td>1</td></tr>",
                            "<tr><td>150</td><td>1203</td><td>4</td><td>1</td></tr>",
                            "<tr><td>150</td><td>1432</td><td>3</td><td>4</td></tr>",
                            "<tr><td>151</td><td>893</td><td>3</td><td>0</td></tr>",
                            "<tr><td>151</td><td>1058</td><td>3</td><td>3</td></tr>",
                            "<tr><td>151</td><td>1115</td><td>3</td><td>3</td></tr>",
                            "<tr><td>152</td><td>730</td><td>2</td><td>0</td></tr>",
                            "<tr><td>152</td><td>1160</td><td>7</td><td>2</td></tr>",
                            "<tr><td>152</td><td>1197</td><td>6</td><td>7</td></tr>",
                            "<tr><td>152</td><td>1558</td><td>2</td><td>6</td></tr>",
                            "<tr><td>153</td><td>594</td><td>3</td><td>0</td></tr>",
                            "<tr><td>153</td><td>969</td><td>6</td><td>3</td></tr>",
                            "<tr><td>153</td><td>1460</td><td>3</td><td>6</td></tr>",
                            "<tr><td>153</td><td>1470</td><td>5</td><td>3</td></tr>",
                            "<tr><td>153</td><td>1507</td><td>3</td><td>5</td></tr>",
                            "<tr><td>154</td><td>968</td><td>1</td><td>0</td></tr>",
                            "<tr><td>154</td><td>1061</td><td>7</td><td>1</td></tr>",
                            "<tr><td>154</td><td>1168</td><td>6</td><td>7</td></tr>",
                            "<tr><td>154</td><td>1262</td><td>1</td><td>6</td></tr>",
                            "<tr><td>154</td><td>1539</td><td>2</td><td>1</td></tr>",
                            "<tr><td>155</td><td>575</td><td>1</td><td>0</td></tr>",
                            "<tr><td>155</td><td>577</td><td>3</td><td>1</td></tr>",
                            "<tr><td>155</td><td>1112</td><td>4</td><td>3</td></tr>",
                            "<tr><td>155</td><td>1310</td><td>1</td><td>4</td></tr>",
                            "<tr><td>155</td><td>1541</td><td>1</td><td>1</td></tr>",
                            "<tr><td>156</td><td>588</td><td>7</td><td>0</td></tr>",
                            "<tr><td>156</td><td>907</td><td>3</td><td>7</td></tr>",
                            "<tr><td>156</td><td>956</td><td>6</td><td>3</td></tr>",
                            "<tr><td>156</td><td>692</td><td>6</td><td>6</td></tr>",
                            "<tr><td>156</td><td>1462</td><td>7</td><td>6</td></tr>",
                            "<tr><td>156</td><td>1490</td><td>1</td><td>7</td></tr>",
                            "<tr><td>156</td><td>1561</td><td>4</td><td>1</td></tr>",
                            "<tr><td>157</td><td>648</td><td>4</td><td>0</td></tr>",
                            "<tr><td>157</td><td>1025</td><td>3</td><td>4</td></tr>",
                            "<tr><td>157</td><td>1047</td><td>4</td><td>3</td></tr>",
                            "<tr><td>157</td><td>1240</td><td>7</td><td>4</td></tr>",
                            "<tr><td>157</td><td>1551</td><td>3</td><td>7</td></tr>",
                            "<tr><td>158</td><td>825</td><td>4</td><td>0</td></tr>",
                            "<tr><td>158</td><td>840</td><td>4</td><td>4</td></tr>",
                            "<tr><td>158</td><td>1117</td><td>3</td><td>4</td></tr>",
                            "<tr><td>160</td><td>922</td><td>2</td><td>0</td></tr>",
                            "<tr><td>160</td><td>927</td><td>4</td><td>2</td></tr>",
                            "<tr><td>160</td><td>933</td><td>4</td><td>4</td></tr>",
                            "<tr><td>160</td><td>720</td><td>2</td><td>4</td></tr>",
                            "<tr><td>160</td><td>1565</td><td>3</td><td>2</td></tr>",
                            "<tr><td>161</td><td>639</td><td>4</td><td>0</td></tr>",
                            "<tr><td>161</td><td>653</td><td>7</td><td>4</td></tr>",
                            "<tr><td>161</td><td>911</td><td>4</td><td>7</td></tr>",
                            "<tr><td>161</td><td>1068</td><td>6</td><td>4</td></tr>",
                            "<tr><td>161</td><td>1190</td><td>7</td><td>6</td></tr>",
                            "<tr><td>161</td><td>1571</td><td>4</td><td>7</td></tr>",
                            "<tr><td>162</td><td>599</td><td>4</td><td>0</td></tr>",
                            "<tr><td>162</td><td>1205</td><td>6</td><td>4</td></tr>",
                            "<tr><td>162</td><td>1400</td><td>1</td><td>6</td></tr>",
                            "<tr><td>163</td><td>630</td><td>2</td><td>0</td></tr>",
                            "<tr><td>163</td><td>941</td><td>1</td><td>2</td></tr>",
                            "<tr><td>163</td><td>782</td><td>3</td><td>1</td></tr>",
                            "<tr><td>163</td><td>1075</td><td>4</td><td>3</td></tr>",
                            "<tr><td>163</td><td>1107</td><td>3</td><td>4</td></tr>",
                            "<tr><td>163</td><td>1265</td><td>5</td><td>3</td></tr>",
                            "<tr><td>163</td><td>1487</td><td>3</td><td>5</td></tr>",
                            "<tr><td>164</td><td>570</td><td>7</td><td>0</td></tr>",
                            "<tr><td>164</td><td>1010</td><td>2</td><td>7</td></tr>",
                            "<tr><td>164</td><td>742</td><td>6</td><td>2</td></tr>",
                            "<tr><td>164</td><td>1284</td><td>4</td><td>6</td></tr>",
                            "<tr><td>164</td><td>1292</td><td>2</td><td>4</td></tr>",
                            "<tr><td>165</td><td>640</td><td>3</td><td>0</td></tr>",
                            "<tr><td>165</td><td>857</td><td>5</td><td>3</td></tr>",
                            "<tr><td>165</td><td>900</td><td>6</td><td>5</td></tr>",
                            "<tr><td>165</td><td>897</td><td>6</td><td>6</td></tr>",
                            "<tr><td>165</td><td>892</td><td>3</td><td>6</td></tr>",
                            "<tr><td>165</td><td>1141</td><td>1</td><td>3</td></tr>",
                            "<tr><td>165</td><td>1375</td><td>4</td><td>1</td></tr>",
                            "<tr><td>166</td><td>644</td><td>7</td><td>0</td></tr>",
                            "<tr><td>166</td><td>781</td><td>7</td><td>7</td></tr>",
                            "<tr><td>166</td><td>1526</td><td>2</td><td>7</td></tr>",
                            "<tr><td>167</td><td>854</td><td>7</td><td>0</td></tr>",
                            "<tr><td>167</td><td>1414</td><td>3</td><td>7</td></tr>",
                            "<tr><td>168</td><td>930</td><td>3</td><td>0</td></tr>",
                            "<tr><td>168</td><td>792</td><td>3</td><td>3</td></tr>",
                            "<tr><td>168</td><td>794</td><td>4</td><td>3</td></tr>",
                            "<tr><td>168</td><td>1249</td><td>4</td><td>4</td></tr>",
                            "<tr><td>168</td><td>1266</td><td>4</td><td>4</td></tr>",
                            "<tr><td>169</td><td>573</td><td>5</td><td>0</td></tr>",
                            "<tr><td>169</td><td>659</td><td>6</td><td>5</td></tr>",
                            "<tr><td>169</td><td>974</td><td>1</td><td>6</td></tr>",
                            "<tr><td>169</td><td>746</td><td>7</td><td>1</td></tr>",
                            "<tr><td>169</td><td>1356</td><td>4</td><td>7</td></tr>",
                            "<tr><td>169</td><td>1427</td><td>1</td><td>4</td></tr>",
                            "<tr><td>170</td><td>567</td><td>7</td><td>0</td></tr>",
                            "<tr><td>170</td><td>944</td><td>4</td><td>7</td></tr>",
                            "<tr><td>170</td><td>1194</td><td>4</td><td>4</td></tr>",
                            "<tr><td>170</td><td>1267</td><td>7</td><td>4</td></tr>",
                            "<tr><td>170</td><td>1342</td><td>6</td><td>7</td></tr>",
                            "<tr><td>171</td><td>574</td><td>2</td><td>0</td></tr>",
                            "<tr><td>171</td><td>981</td><td>4</td><td>2</td></tr>",
                            "<tr><td>171</td><td>1181</td><td>6</td><td>4</td></tr>",
                            "<tr><td>171</td><td>1329</td><td>5</td><td>6</td></tr>",
                            "<tr><td>171</td><td>1567</td><td>6</td><td>5</td></tr>",
                            "<tr><td>172</td><td>984</td><td>4</td><td>0</td></tr>",
                            "<tr><td>172</td><td>709</td><td>5</td><td>4</td></tr>",
                            "<tr><td>172</td><td>749</td><td>6</td><td>5</td></tr>",
                            "<tr><td>172</td><td>839</td><td>5</td><td>6</td></tr>",
                            "<tr><td>172</td><td>1142</td><td>4</td><td>5</td></tr>",
                            "<tr><td>172</td><td>1171</td><td>5</td><td>4</td></tr>",
                            "<tr><td>172</td><td>1336</td><td>5</td><td>5</td></tr>",
                            "<tr><td>172</td><td>1421</td><td>5</td><td>5</td></tr>",
                            "<tr><td>172</td><td>1491</td><td>2</td><td>5</td></tr>",
                            "<tr><td>173</td><td>913</td><td>1</td><td>0</td></tr>",
                            "<tr><td>173</td><td>669</td><td>7</td><td>1</td></tr>",
                            "<tr><td>173</td><td>1350</td><td>3</td><td>7</td></tr>",
                            "<tr><td>173</td><td>1429</td><td>4</td><td>3</td></tr>",
                            "<tr><td>174</td><td>917</td><td>2</td><td>0</td></tr>",
                            "<tr><td>174</td><td>1015</td><td>5</td><td>2</td></tr>",
                            "<tr><td>174</td><td>682</td><td>3</td><td>5</td></tr>",
                            "<tr><td>174</td><td>1276</td><td>1</td><td>3</td></tr>",
                            "<tr><td>175</td><td>867</td><td>6</td><td>0</td></tr>",
                            "<tr><td>175</td><td>799</td><td>4</td><td>6</td></tr>",
                            "<tr><td>175</td><td>1094</td><td>5</td><td>4</td></tr>",
                            "<tr><td>175</td><td>1133</td><td>2</td><td>5</td></tr>",
                            "<tr><td>175</td><td>1407</td><td>7</td><td>2</td></tr>",
                            "<tr><td>176</td><td>592</td><td>5</td><td>0</td></tr>",
                            "<tr><td>176</td><td>1143</td><td>6</td><td>5</td></tr>",
                            "<tr><td>176</td><td>1278</td><td>6</td><td>6</td></tr>",
                            "<tr><td>176</td><td>1383</td><td>4</td><td>6</td></tr>",
                            "<tr><td>176</td><td>1511</td><td>2</td><td>4</td></tr>",
                            "<tr><td>176</td><td>1570</td><td>3</td><td>2</td></tr>",
                            "<tr><td>177</td><td>785</td><td>3</td><td>0</td></tr>",
                            "<tr><td>177</td><td>831</td><td>7</td><td>3</td></tr>",
                            "<tr><td>177</td><td>1176</td><td>3</td><td>7</td></tr>",
                            "<tr><td>177</td><td>1503</td><td>3</td><td>3</td></tr>",
                            "<tr><td>178</td><td>991</td><td>7</td><td>0</td></tr>",
                            "<tr><td>178</td><td>816</td><td>4</td><td>7</td></tr>",
                            "<tr><td>178</td><td>1211</td><td>3</td><td>4</td></tr>",
                            "<tr><td>178</td><td>1242</td><td>1</td><td>3</td></tr>",
                            "<tr><td>179</td><td>662</td><td>2</td><td>0</td></tr>",
                            "<tr><td>179</td><td>1021</td><td>1</td><td>2</td></tr>",
                            "<tr><td>179</td><td>1497</td><td>1</td><td>1</td></tr>",
                            "<tr><td>180</td><td>905</td><td>5</td><td>0</td></tr>",
                            "<tr><td>180</td><td>1559</td><td>3</td><td>5</td></tr>",
                            "<tr><td>180</td><td>1563</td><td>6</td><td>3</td></tr>",
                            "<tr><td>181</td><td>937</td><td>3</td><td>0</td></tr>",
                            "<tr><td>181</td><td>958</td><td>5</td><td>3</td></tr>",
                            "<tr><td>181</td><td>1022</td><td>1</td><td>5</td></tr>",
                            "<tr><td>181</td><td>677</td><td>4</td><td>1</td></tr>",
                            "<tr><td>181</td><td>731</td><td>6</td><td>4</td></tr>",
                            "<tr><td>181</td><td>1346</td><td>6</td><td>6</td></tr>",
                            "<tr><td>182</td><td>571</td><td>2</td><td>0</td></tr>",
                            "<tr><td>182</td><td>928</td><td>2</td><td>2</td></tr>",
                            "<tr><td>182</td><td>1008</td><td>6</td><td>2</td></tr>",
                            "<tr><td>182</td><td>740</td><td>3</td><td>6</td></tr>",
                            "<tr><td>182</td><td>1188</td><td>1</td><td>3</td></tr>",
                            "<tr><td>182</td><td>1230</td><td>7</td><td>1</td></tr>",
                            "<tr><td>182</td><td>1231</td><td>4</td><td>7</td></tr>",
                            "<tr><td>182</td><td>1308</td><td>1</td><td>4</td></tr>",
                            "<tr><td>182</td><td>1317</td><td>3</td><td>1</td></tr>",
                            "<tr><td>182</td><td>1326</td><td>4</td><td>3</td></tr>",
                            "<tr><td>182</td><td>1410</td><td>4</td><td>4</td></tr>",
                            "<tr><td>182</td><td>1422</td><td>3</td><td>4</td></tr>",
                            "<tr><td>183</td><td>939</td><td>4</td><td>0</td></tr>",
                            "<tr><td>183</td><td>1067</td><td>7</td><td>4</td></tr>",
                            "<tr><td>183</td><td>1147</td><td>4</td><td>7</td></tr>",
                            "<tr><td>183</td><td>1437</td><td>4</td><td>4</td></tr>",
                            "<tr><td>184</td><td>608</td><td>2</td><td>0</td></tr>",
                            "<tr><td>184</td><td>880</td><td>4</td><td>2</td></tr>",
                            "<tr><td>184</td><td>684</td><td>3</td><td>4</td></tr>",
                            "<tr><td>184</td><td>1251</td><td>4</td><td>3</td></tr>",
                            "<tr><td>185</td><td>578</td><td>6</td><td>0</td></tr>",
                            "<tr><td>185</td><td>863</td><td>4</td><td>6</td></tr>",
                            "<tr><td>185</td><td>898</td><td>4</td><td>4</td></tr>",
                            "<tr><td>185</td><td>925</td><td>6</td><td>4</td></tr>",
                            "<tr><td>185</td><td>672</td><td>3</td><td>6</td></tr>",
                            "<tr><td>185</td><td>679</td><td>5</td><td>3</td></tr>",
                            "<tr><td>185</td><td>693</td><td>2</td><td>5</td></tr>",
                            "<tr><td>185</td><td>711</td><td>3</td><td>2</td></tr>",
                            "<tr><td>185</td><td>1125</td><td>3</td><td>3</td></tr>",
                            "<tr><td>185</td><td>1183</td><td>5</td><td>3</td></tr>",
                            "<tr><td>185</td><td>1441</td><td>7</td><td>5</td></tr>",
                            "<tr><td>185</td><td>1463</td><td>7</td><td>7</td></tr>",
                            "<tr><td>186</td><td>615</td><td>3</td><td>0</td></tr>",
                            "<tr><td>186</td><td>1153</td><td>3</td><td>3</td></tr>",
                            "<tr><td>186</td><td>1248</td><td>2</td><td>3</td></tr>",
                            "<tr><td>186</td><td>1467</td><td>3</td><td>2</td></tr>",
                            "<tr><td>187</td><td>633</td><td>6</td><td>0</td></tr>",
                            "<tr><td>187</td><td>868</td><td>4</td><td>6</td></tr>",
                            "<tr><td>187</td><td>957</td><td>4</td><td>4</td></tr>",
                            "<tr><td>187</td><td>695</td><td>6</td><td>4</td></tr>",
                            "<tr><td>187</td><td>743</td><td>2</td><td>6</td></tr>",
                            "<tr><td>187</td><td>766</td><td>1</td><td>2</td></tr>",
                            "<tr><td>187</td><td>1404</td><td>2</td><td>1</td></tr>",
                            "<tr><td>188</td><td>912</td><td>1</td><td>0</td></tr>",
                            "<tr><td>188</td><td>690</td><td>4</td><td>1</td></tr>",
                            "<tr><td>188</td><td>710</td><td>7</td><td>4</td></tr>",
                            "<tr><td>188</td><td>747</td><td>3</td><td>7</td></tr>",
                            "<tr><td>188</td><td>1030</td><td>4</td><td>3</td></tr>",
                            "<tr><td>188</td><td>1390</td><td>5</td><td>4</td></tr>",
                            "<tr><td>189</td><td>699</td><td>2</td><td>0</td></tr>",
                            "<tr><td>189</td><td>753</td><td>1</td><td>2</td></tr>",
                            "<tr><td>189</td><td>1204</td><td>2</td><td>1</td></tr>",
                            "<tr><td>189</td><td>1449</td><td>2</td><td>2</td></tr>",
                            "<tr><td>189</td><td>1576</td><td>3</td><td>2</td></tr>",
                            "<tr><td>190</td><td>600</td><td>7</td><td>0</td></tr>",
                            "<tr><td>190</td><td>989</td><td>1</td><td>7</td></tr>",
                            "<tr><td>190</td><td>1017</td><td>1</td><td>1</td></tr>",
                            "<tr><td>190</td><td>774</td><td>5</td><td>1</td></tr>",
                            "<tr><td>190</td><td>1517</td><td>5</td><td>5</td></tr>",
                            "<tr><td>191</td><td>1039</td><td>6</td><td>0</td></tr>",
                            "<tr><td>191</td><td>1302</td><td>1</td><td>6</td></tr>",
                            "<tr><td>191</td><td>1323</td><td>7</td><td>1</td></tr>",
                            "<tr><td>191</td><td>1502</td><td>2</td><td>7</td></tr>",
                            "<tr><td>191</td><td>1508</td><td>7</td><td>2</td></tr>",
                            "<tr><td>192</td><td>903</td><td>7</td><td>0</td></tr>",
                            "<tr><td>192</td><td>680</td><td>4</td><td>7</td></tr>",
                            "<tr><td>193</td><td>634</td><td>6</td><td>0</td></tr>",
                            "<tr><td>193</td><td>926</td><td>1</td><td>6</td></tr>",
                            "<tr><td>193</td><td>977</td><td>2</td><td>1</td></tr>",
                            "<tr><td>193</td><td>675</td><td>2</td><td>2</td></tr>",
                            "<tr><td>193</td><td>835</td><td>2</td><td>2</td></tr>",
                            "<tr><td>193</td><td>1043</td><td>6</td><td>2</td></tr>",
                            "<tr><td>193</td><td>1238</td><td>6</td><td>6</td></tr>",
                            "<tr><td>194</td><td>1095</td><td>5</td><td>0</td></tr>",
                            "<tr><td>195</td><td>721</td><td>4</td><td>0</td></tr>",
                            "<tr><td>195</td><td>842</td><td>4</td><td>4</td></tr>",
                            "<tr><td>195</td><td>1074</td><td>7</td><td>4</td></tr>",
                            "<tr><td>195</td><td>1184</td><td>5</td><td>7</td></tr>",
                            "<tr><td>195</td><td>1473</td><td>7</td><td>5</td></tr>",
                            "<tr><td>195</td><td>1484</td><td>1</td><td>7</td></tr>",
                            "<tr><td>196</td><td>952</td><td>3</td><td>0</td></tr>",
                            "<tr><td>196</td><td>673</td><td>5</td><td>3</td></tr>",
                            "<tr><td>196</td><td>1314</td><td>5</td><td>5</td></tr>",
                            "<tr><td>196</td><td>1340</td><td>5</td><td>5</td></tr>",
                            "<tr><td>197</td><td>993</td><td>7</td><td>0</td></tr>",
                            "<tr><td>197</td><td>764</td><td>7</td><td>7</td></tr>",
                            "<tr><td>197</td><td>1091</td><td>7</td><td>7</td></tr>",
                            "<tr><td>197</td><td>1172</td><td>7</td><td>7</td></tr>",
                            "<tr><td>197</td><td>1304</td><td>7</td><td>7</td></tr>",
                            "<tr><td>197</td><td>1387</td><td>3</td><td>7</td></tr>",
                            "<tr><td>198</td><td>978</td><td>1</td><td>0</td></tr>",
                            "<tr><td>198</td><td>1011</td><td>7</td><td>1</td></tr>",
                            "<tr><td>198</td><td>1065</td><td>3</td><td>7</td></tr>",
                            "<tr><td>198</td><td>1116</td><td>1</td><td>3</td></tr>",
                            "<tr><td>198</td><td>1138</td><td>5</td><td>1</td></tr>",
                            "<tr><td>198</td><td>1161</td><td>5</td><td>5</td></tr>",
                            "<tr><td>198</td><td>1216</td><td>7</td><td>5</td></tr>",
                            "<tr><td>198</td><td>1420</td><td>5</td><td>7</td></tr>",
                            "</table>"
                        ]
                    }
                }
            ],
            "execution_count": 55
        },
        {
            "cell_type": "markdown",
            "source": [
                "Kérdezzük le az átlagosnál kevesebb főre történt foglalások adatait!\n",
                "\n",
                "a. Egy új oszlopban jelenjen meg az ügyfél neve is!\n",
                "\n",
                "b. Egy másik új oszlop mutassa meg, hogy az ügyfél előző három foglalása átlagosan hány főre történt! Az oszlop neve legyen 'Előző három foglalás átlaga'\n",
                "\n",
                "c. A listában azon vendégek is jelenjenek meg, akik még nem foglaltak!"
            ],
            "metadata": {
                "azdata_cell_guid": "c08358d2-6b1c-475b-819a-88b566987a3e"
            },
            "attachments": {}
        },
        {
            "cell_type": "code",
            "source": [
                "SELECT f.*, FELNOTT_SZAM+GYERMEK_SZAM AS 'Össz fő', NEV, AVG(FELNOTT_SZAM+GYERMEK_SZAM) OVER (PARTITION BY NEV ORDER BY METTOL ROWS BETWEEN 3 PRECEDING AND 1 PRECEDING) AS 'Előző három foglalás átlaga'\r\n",
                "FROM Foglalas f RIGHT JOIN Vendeg v ON f.UGYFEL_FK = v.USERNEV \r\n",
                "WHERE FELNOTT_SZAM+GYERMEK_SZAM < (\r\n",
                "    SELECT AVG(FELNOTT_SZAM+GYERMEK_SZAM)\r\n",
                "    FROM Foglalas\r\n",
                ")"
            ],
            "metadata": {
                "azdata_cell_guid": "9fc757b5-0057-45ed-a961-2ecc74fa3886",
                "language": "sql"
            },
            "outputs": [
                {
                    "output_type": "display_data",
                    "data": {
                        "text/html": "(147 rows affected)"
                    },
                    "metadata": {}
                },
                {
                    "output_type": "display_data",
                    "data": {
                        "text/html": "Total execution time: 00:00:00.021"
                    },
                    "metadata": {}
                },
                {
                    "output_type": "execute_result",
                    "metadata": {},
                    "execution_count": 56,
                    "data": {
                        "application/vnd.dataresource+json": {
                            "schema": {
                                "fields": [
                                    {
                                        "name": "FOGLALAS_PK"
                                    },
                                    {
                                        "name": "UGYFEL_FK"
                                    },
                                    {
                                        "name": "SZOBA_FK"
                                    },
                                    {
                                        "name": "METTOL"
                                    },
                                    {
                                        "name": "MEDDIG"
                                    },
                                    {
                                        "name": "FELNOTT_SZAM"
                                    },
                                    {
                                        "name": "GYERMEK_SZAM"
                                    },
                                    {
                                        "name": "Össz fő"
                                    },
                                    {
                                        "name": "NEV"
                                    },
                                    {
                                        "name": "Előző három foglalás átlaga"
                                    }
                                ]
                            },
                            "data": [
                                {
                                    "FOGLALAS_PK": "757",
                                    "UGYFEL_FK": "david",
                                    "SZOBA_FK": "88",
                                    "METTOL": "2016-08-05",
                                    "MEDDIG": "2016-08-12",
                                    "FELNOTT_SZAM": "1",
                                    "GYERMEK_SZAM": "0",
                                    "Össz fő": "1",
                                    "NEV": "Ambrus Dávid",
                                    "Előző három foglalás átlaga": "NULL"
                                },
                                {
                                    "FOGLALAS_PK": "923",
                                    "UGYFEL_FK": "LASZLOA",
                                    "SZOBA_FK": "123",
                                    "METTOL": "2016-06-07",
                                    "MEDDIG": "2016-06-11",
                                    "FELNOTT_SZAM": "1",
                                    "GYERMEK_SZAM": "0",
                                    "Össz fő": "1",
                                    "NEV": "Antal László",
                                    "Előző három foglalás átlaga": "NULL"
                                },
                                {
                                    "FOGLALAS_PK": "1005",
                                    "UGYFEL_FK": "beata4",
                                    "SZOBA_FK": "22",
                                    "METTOL": "2016-07-03",
                                    "MEDDIG": "2016-07-06",
                                    "FELNOTT_SZAM": "1",
                                    "GYERMEK_SZAM": "0",
                                    "Össz fő": "1",
                                    "NEV": "Bagi Beáta",
                                    "Előző három foglalás átlaga": "NULL"
                                },
                                {
                                    "FOGLALAS_PK": "1112",
                                    "UGYFEL_FK": "beata4",
                                    "SZOBA_FK": "155",
                                    "METTOL": "2016-10-01",
                                    "MEDDIG": "2016-10-05",
                                    "FELNOTT_SZAM": "1",
                                    "GYERMEK_SZAM": "0",
                                    "Össz fő": "1",
                                    "NEV": "Bagi Beáta",
                                    "Előző három foglalás átlaga": "1"
                                },
                                {
                                    "FOGLALAS_PK": "1436",
                                    "UGYFEL_FK": "alexandra",
                                    "SZOBA_FK": "35",
                                    "METTOL": "2017-01-13",
                                    "MEDDIG": "2017-01-14",
                                    "FELNOTT_SZAM": "1",
                                    "GYERMEK_SZAM": "0",
                                    "Össz fő": "1",
                                    "NEV": "Bagóczki Alexandra",
                                    "Előző három foglalás átlaga": "NULL"
                                },
                                {
                                    "FOGLALAS_PK": "1017",
                                    "UGYFEL_FK": "eszter2",
                                    "SZOBA_FK": "190",
                                    "METTOL": "2016-07-08",
                                    "MEDDIG": "2016-07-09",
                                    "FELNOTT_SZAM": "1",
                                    "GYERMEK_SZAM": "0",
                                    "Össz fő": "1",
                                    "NEV": "Balogh Eszter",
                                    "Előző három foglalás átlaga": "NULL"
                                },
                                {
                                    "FOGLALAS_PK": "1109",
                                    "UGYFEL_FK": "eszter2",
                                    "SZOBA_FK": "110",
                                    "METTOL": "2016-10-01",
                                    "MEDDIG": "2016-10-06",
                                    "FELNOTT_SZAM": "1",
                                    "GYERMEK_SZAM": "0",
                                    "Össz fő": "1",
                                    "NEV": "Balogh Eszter",
                                    "Előző három foglalás átlaga": "1"
                                },
                                {
                                    "FOGLALAS_PK": "1171",
                                    "UGYFEL_FK": "eszter2",
                                    "SZOBA_FK": "172",
                                    "METTOL": "2016-10-20",
                                    "MEDDIG": "2016-10-25",
                                    "FELNOTT_SZAM": "1",
                                    "GYERMEK_SZAM": "0",
                                    "Össz fő": "1",
                                    "NEV": "Balogh Eszter",
                                    "Előző három foglalás átlaga": "1"
                                },
                                {
                                    "FOGLALAS_PK": "1187",
                                    "UGYFEL_FK": "eszter2",
                                    "SZOBA_FK": "46",
                                    "METTOL": "2016-10-23",
                                    "MEDDIG": "2016-10-30",
                                    "FELNOTT_SZAM": "1",
                                    "GYERMEK_SZAM": "0",
                                    "Össz fő": "1",
                                    "NEV": "Balogh Eszter",
                                    "Előző három foglalás átlaga": "1"
                                },
                                {
                                    "FOGLALAS_PK": "1336",
                                    "UGYFEL_FK": "eszter2",
                                    "SZOBA_FK": "172",
                                    "METTOL": "2016-12-02",
                                    "MEDDIG": "2016-12-07",
                                    "FELNOTT_SZAM": "1",
                                    "GYERMEK_SZAM": "0",
                                    "Össz fő": "1",
                                    "NEV": "Balogh Eszter",
                                    "Előző három foglalás átlaga": "1"
                                },
                                {
                                    "FOGLALAS_PK": "1480",
                                    "UGYFEL_FK": "eszter2",
                                    "SZOBA_FK": "35",
                                    "METTOL": "2016-12-29",
                                    "MEDDIG": "2017-02-04",
                                    "FELNOTT_SZAM": "1",
                                    "GYERMEK_SZAM": "0",
                                    "Össz fő": "1",
                                    "NEV": "Balogh Eszter",
                                    "Előző három foglalás átlaga": "1"
                                },
                                {
                                    "FOGLALAS_PK": "652",
                                    "UGYFEL_FK": "maria1",
                                    "SZOBA_FK": "149",
                                    "METTOL": "2016-05-18",
                                    "MEDDIG": "2016-05-19",
                                    "FELNOTT_SZAM": "1",
                                    "GYERMEK_SZAM": "0",
                                    "Össz fő": "1",
                                    "NEV": "Baráth Mária",
                                    "Előző három foglalás átlaga": "NULL"
                                },
                                {
                                    "FOGLALAS_PK": "981",
                                    "UGYFEL_FK": "maria1",
                                    "SZOBA_FK": "171",
                                    "METTOL": "2016-06-23",
                                    "MEDDIG": "2016-06-27",
                                    "FELNOTT_SZAM": "1",
                                    "GYERMEK_SZAM": "0",
                                    "Össz fő": "1",
                                    "NEV": "Baráth Mária",
                                    "Előző három foglalás átlaga": "1"
                                },
                                {
                                    "FOGLALAS_PK": "846",
                                    "UGYFEL_FK": "maria1",
                                    "SZOBA_FK": "45",
                                    "METTOL": "2016-09-02",
                                    "MEDDIG": "2016-09-05",
                                    "FELNOTT_SZAM": "1",
                                    "GYERMEK_SZAM": "0",
                                    "Össz fő": "1",
                                    "NEV": "Baráth Mária",
                                    "Előző három foglalás átlaga": "1"
                                },
                                {
                                    "FOGLALAS_PK": "1504",
                                    "UGYFEL_FK": "adam3",
                                    "SZOBA_FK": "57",
                                    "METTOL": "2017-02-06",
                                    "MEDDIG": "2017-02-10",
                                    "FELNOTT_SZAM": "1",
                                    "GYERMEK_SZAM": "0",
                                    "Össz fő": "1",
                                    "NEV": "Barkóci Ádám",
                                    "Előző három foglalás átlaga": "NULL"
                                },
                                {
                                    "FOGLALAS_PK": "893",
                                    "UGYFEL_FK": "zoltan4",
                                    "SZOBA_FK": "151",
                                    "METTOL": "2016-06-03",
                                    "MEDDIG": "2016-06-06",
                                    "FELNOTT_SZAM": "1",
                                    "GYERMEK_SZAM": "0",
                                    "Össz fő": "1",
                                    "NEV": "Barna Zoltán",
                                    "Előző három foglalás átlaga": "NULL"
                                },
                                {
                                    "FOGLALAS_PK": "779",
                                    "UGYFEL_FK": "zoltan4",
                                    "SZOBA_FK": "130",
                                    "METTOL": "2016-08-15",
                                    "MEDDIG": "2016-08-21",
                                    "FELNOTT_SZAM": "1",
                                    "GYERMEK_SZAM": "0",
                                    "Össz fő": "1",
                                    "NEV": "Barna Zoltán",
                                    "Előző három foglalás átlaga": "1"
                                },
                                {
                                    "FOGLALAS_PK": "1230",
                                    "UGYFEL_FK": "zoltan4",
                                    "SZOBA_FK": "182",
                                    "METTOL": "2016-10-30",
                                    "MEDDIG": "2016-11-06",
                                    "FELNOTT_SZAM": "1",
                                    "GYERMEK_SZAM": "0",
                                    "Össz fő": "1",
                                    "NEV": "Barna Zoltán",
                                    "Előző három foglalás átlaga": "1"
                                },
                                {
                                    "FOGLALAS_PK": "1403",
                                    "UGYFEL_FK": "zoltan4",
                                    "SZOBA_FK": "124",
                                    "METTOL": "2016-12-29",
                                    "MEDDIG": "2017-01-04",
                                    "FELNOTT_SZAM": "1",
                                    "GYERMEK_SZAM": "0",
                                    "Össz fő": "1",
                                    "NEV": "Barna Zoltán",
                                    "Előző három foglalás átlaga": "1"
                                },
                                {
                                    "FOGLALAS_PK": "1428",
                                    "UGYFEL_FK": "zsuzsanna",
                                    "SZOBA_FK": "126",
                                    "METTOL": "2017-01-09",
                                    "MEDDIG": "2017-01-16",
                                    "FELNOTT_SZAM": "1",
                                    "GYERMEK_SZAM": "0",
                                    "Össz fő": "1",
                                    "NEV": "Barta Zsuzsanna",
                                    "Előző három foglalás átlaga": "NULL"
                                },
                                {
                                    "FOGLALAS_PK": "562",
                                    "UGYFEL_FK": "PETERB",
                                    "SZOBA_FK": "7",
                                    "METTOL": "2016-04-06",
                                    "MEDDIG": "2016-04-10",
                                    "FELNOTT_SZAM": "1",
                                    "GYERMEK_SZAM": "0",
                                    "Össz fő": "1",
                                    "NEV": "Berendi Péter",
                                    "Előző három foglalás átlaga": "NULL"
                                },
                                {
                                    "FOGLALAS_PK": "781",
                                    "UGYFEL_FK": "PETERB",
                                    "SZOBA_FK": "166",
                                    "METTOL": "2016-08-16",
                                    "MEDDIG": "2016-08-23",
                                    "FELNOTT_SZAM": "1",
                                    "GYERMEK_SZAM": "0",
                                    "Össz fő": "1",
                                    "NEV": "Berendi Péter",
                                    "Előző három foglalás átlaga": "1"
                                },
                                {
                                    "FOGLALAS_PK": "1252",
                                    "UGYFEL_FK": "norbert5",
                                    "SZOBA_FK": "7",
                                    "METTOL": "2016-11-05",
                                    "MEDDIG": "2016-11-07",
                                    "FELNOTT_SZAM": "1",
                                    "GYERMEK_SZAM": "0",
                                    "Össz fő": "1",
                                    "NEV": "Béres Norbert",
                                    "Előző három foglalás átlaga": "NULL"
                                },
                                {
                                    "FOGLALAS_PK": "705",
                                    "UGYFEL_FK": "akos",
                                    "SZOBA_FK": "37",
                                    "METTOL": "2016-07-22",
                                    "MEDDIG": "2016-07-26",
                                    "FELNOTT_SZAM": "1",
                                    "GYERMEK_SZAM": "0",
                                    "Össz fő": "1",
                                    "NEV": "Bíró Ákos",
                                    "Előző három foglalás átlaga": "NULL"
                                },
                                {
                                    "FOGLALAS_PK": "1034",
                                    "UGYFEL_FK": "akos",
                                    "SZOBA_FK": "127",
                                    "METTOL": "2016-09-06",
                                    "MEDDIG": "2016-09-12",
                                    "FELNOTT_SZAM": "1",
                                    "GYERMEK_SZAM": "0",
                                    "Össz fő": "1",
                                    "NEV": "Bíró Ákos",
                                    "Előző három foglalás átlaga": "1"
                                },
                                {
                                    "FOGLALAS_PK": "648",
                                    "UGYFEL_FK": "krisztina1",
                                    "SZOBA_FK": "157",
                                    "METTOL": "2016-05-16",
                                    "MEDDIG": "2016-05-20",
                                    "FELNOTT_SZAM": "1",
                                    "GYERMEK_SZAM": "0",
                                    "Össz fő": "1",
                                    "NEV": "Bori Krisztina",
                                    "Előző három foglalás átlaga": "NULL"
                                },
                                {
                                    "FOGLALAS_PK": "1103",
                                    "UGYFEL_FK": "vivien3",
                                    "SZOBA_FK": "87",
                                    "METTOL": "2016-10-01",
                                    "MEDDIG": "2016-10-04",
                                    "FELNOTT_SZAM": "1",
                                    "GYERMEK_SZAM": "0",
                                    "Össz fő": "1",
                                    "NEV": "Boros Vivien",
                                    "Előző három foglalás átlaga": "NULL"
                                },
                                {
                                    "FOGLALAS_PK": "1001",
                                    "UGYFEL_FK": "aniko4",
                                    "SZOBA_FK": "4",
                                    "METTOL": "2016-07-02",
                                    "MEDDIG": "2016-07-09",
                                    "FELNOTT_SZAM": "1",
                                    "GYERMEK_SZAM": "0",
                                    "Össz fő": "1",
                                    "NEV": "Böröcz Anikó",
                                    "Előző három foglalás átlaga": "NULL"
                                },
                                {
                                    "FOGLALAS_PK": "787",
                                    "UGYFEL_FK": "krisztian4",
                                    "SZOBA_FK": "50",
                                    "METTOL": "2016-08-16",
                                    "MEDDIG": "2016-08-19",
                                    "FELNOTT_SZAM": "1",
                                    "GYERMEK_SZAM": "0",
                                    "Össz fő": "1",
                                    "NEV": "Czérna Krisztián",
                                    "Előző három foglalás átlaga": "NULL"
                                },
                                {
                                    "FOGLALAS_PK": "834",
                                    "UGYFEL_FK": "krisztian4",
                                    "SZOBA_FK": "149",
                                    "METTOL": "2016-08-29",
                                    "MEDDIG": "2016-09-03",
                                    "FELNOTT_SZAM": "1",
                                    "GYERMEK_SZAM": "0",
                                    "Össz fő": "1",
                                    "NEV": "Czérna Krisztián",
                                    "Előző három foglalás átlaga": "1"
                                },
                                {
                                    "FOGLALAS_PK": "1422",
                                    "UGYFEL_FK": "krisztian4",
                                    "SZOBA_FK": "182",
                                    "METTOL": "2017-01-06",
                                    "MEDDIG": "2017-01-09",
                                    "FELNOTT_SZAM": "1",
                                    "GYERMEK_SZAM": "0",
                                    "Össz fő": "1",
                                    "NEV": "Czérna Krisztián",
                                    "Előző három foglalás átlaga": "1"
                                },
                                {
                                    "FOGLALAS_PK": "974",
                                    "UGYFEL_FK": "bertalan",
                                    "SZOBA_FK": "169",
                                    "METTOL": "2016-06-20",
                                    "MEDDIG": "2016-06-21",
                                    "FELNOTT_SZAM": "1",
                                    "GYERMEK_SZAM": "0",
                                    "Össz fő": "1",
                                    "NEV": "Csiger Bertalan",
                                    "Előző három foglalás átlaga": "NULL"
                                },
                                {
                                    "FOGLALAS_PK": "1154",
                                    "UGYFEL_FK": "attila",
                                    "SZOBA_FK": "115",
                                    "METTOL": "2016-10-15",
                                    "MEDDIG": "2016-10-19",
                                    "FELNOTT_SZAM": "1",
                                    "GYERMEK_SZAM": "0",
                                    "Össz fő": "1",
                                    "NEV": "Csóti Attila",
                                    "Előző három foglalás átlaga": "NULL"
                                },
                                {
                                    "FOGLALAS_PK": "651",
                                    "UGYFEL_FK": "aladar",
                                    "SZOBA_FK": "4",
                                    "METTOL": "2016-05-17",
                                    "MEDDIG": "2016-05-24",
                                    "FELNOTT_SZAM": "1",
                                    "GYERMEK_SZAM": "0",
                                    "Össz fő": "1",
                                    "NEV": "Dunai Aladár",
                                    "Előző három foglalás átlaga": "NULL"
                                },
                                {
                                    "FOGLALAS_PK": "1079",
                                    "UGYFEL_FK": "aladar",
                                    "SZOBA_FK": "86",
                                    "METTOL": "2016-09-24",
                                    "MEDDIG": "2016-09-28",
                                    "FELNOTT_SZAM": "1",
                                    "GYERMEK_SZAM": "0",
                                    "Össz fő": "1",
                                    "NEV": "Dunai Aladár",
                                    "Előző három foglalás átlaga": "1"
                                },
                                {
                                    "FOGLALAS_PK": "600",
                                    "UGYFEL_FK": "ANDRASE",
                                    "SZOBA_FK": "190",
                                    "METTOL": "2016-04-24",
                                    "MEDDIG": "2016-05-01",
                                    "FELNOTT_SZAM": "1",
                                    "GYERMEK_SZAM": "0",
                                    "Össz fő": "1",
                                    "NEV": "Erdei András",
                                    "Előző három foglalás átlaga": "NULL"
                                },
                                {
                                    "FOGLALAS_PK": "1350",
                                    "UGYFEL_FK": "BELAF",
                                    "SZOBA_FK": "173",
                                    "METTOL": "2016-12-06",
                                    "MEDDIG": "2016-12-09",
                                    "FELNOTT_SZAM": "1",
                                    "GYERMEK_SZAM": "0",
                                    "Össz fő": "1",
                                    "NEV": "Farkas Béla",
                                    "Előző három foglalás átlaga": "NULL"
                                },
                                {
                                    "FOGLALAS_PK": "858",
                                    "UGYFEL_FK": "sandor3",
                                    "SZOBA_FK": "121",
                                    "METTOL": "2016-05-25",
                                    "MEDDIG": "2016-05-30",
                                    "FELNOTT_SZAM": "1",
                                    "GYERMEK_SZAM": "0",
                                    "Össz fő": "1",
                                    "NEV": "Farkas Sándor",
                                    "Előző három foglalás átlaga": "NULL"
                                },
                                {
                                    "FOGLALAS_PK": "1351",
                                    "UGYFEL_FK": "sara",
                                    "SZOBA_FK": "38",
                                    "METTOL": "2016-12-06",
                                    "MEDDIG": "2016-12-10",
                                    "FELNOTT_SZAM": "1",
                                    "GYERMEK_SZAM": "0",
                                    "Össz fő": "1",
                                    "NEV": "Farkas Sára",
                                    "Előző három foglalás átlaga": "NULL"
                                },
                                {
                                    "FOGLALAS_PK": "1338",
                                    "UGYFEL_FK": "TAMASF",
                                    "SZOBA_FK": "145",
                                    "METTOL": "2016-12-02",
                                    "MEDDIG": "2016-12-04",
                                    "FELNOTT_SZAM": "1",
                                    "GYERMEK_SZAM": "0",
                                    "Össz fő": "1",
                                    "NEV": "Fényes Tamás",
                                    "Előző három foglalás átlaga": "NULL"
                                },
                                {
                                    "FOGLALAS_PK": "1384",
                                    "UGYFEL_FK": "roland1",
                                    "SZOBA_FK": "84",
                                    "METTOL": "2016-12-22",
                                    "MEDDIG": "2016-12-29",
                                    "FELNOTT_SZAM": "1",
                                    "GYERMEK_SZAM": "0",
                                    "Össz fő": "1",
                                    "NEV": "Ferencz Roland",
                                    "Előző három foglalás átlaga": "NULL"
                                },
                                {
                                    "FOGLALAS_PK": "709",
                                    "UGYFEL_FK": "valentin",
                                    "SZOBA_FK": "172",
                                    "METTOL": "2016-07-24",
                                    "MEDDIG": "2016-07-29",
                                    "FELNOTT_SZAM": "1",
                                    "GYERMEK_SZAM": "0",
                                    "Össz fő": "1",
                                    "NEV": "Feró Valentin",
                                    "Előző három foglalás átlaga": "NULL"
                                },
                                {
                                    "FOGLALAS_PK": "1366",
                                    "UGYFEL_FK": "fruzsina4",
                                    "SZOBA_FK": "81",
                                    "METTOL": "2016-12-16",
                                    "MEDDIG": "2016-12-21",
                                    "FELNOTT_SZAM": "1",
                                    "GYERMEK_SZAM": "0",
                                    "Össz fő": "1",
                                    "NEV": "Frank Fruzsina",
                                    "Előző három foglalás átlaga": "NULL"
                                },
                                {
                                    "FOGLALAS_PK": "631",
                                    "UGYFEL_FK": "JANOSG",
                                    "SZOBA_FK": "98",
                                    "METTOL": "2016-05-09",
                                    "MEDDIG": "2016-05-15",
                                    "FELNOTT_SZAM": "1",
                                    "GYERMEK_SZAM": "0",
                                    "Össz fő": "1",
                                    "NEV": "Giliga János",
                                    "Előző három foglalás átlaga": "NULL"
                                },
                                {
                                    "FOGLALAS_PK": "1251",
                                    "UGYFEL_FK": "tibor",
                                    "SZOBA_FK": "184",
                                    "METTOL": "2016-11-05",
                                    "MEDDIG": "2016-11-09",
                                    "FELNOTT_SZAM": "1",
                                    "GYERMEK_SZAM": "0",
                                    "Össz fő": "1",
                                    "NEV": "Gombos Tibor",
                                    "Előző három foglalás átlaga": "NULL"
                                },
                                {
                                    "FOGLALAS_PK": "601",
                                    "UGYFEL_FK": "kata",
                                    "SZOBA_FK": "39",
                                    "METTOL": "2016-04-25",
                                    "MEDDIG": "2016-05-01",
                                    "FELNOTT_SZAM": "1",
                                    "GYERMEK_SZAM": "0",
                                    "Össz fő": "1",
                                    "NEV": "Gondos Katalin",
                                    "Előző három foglalás átlaga": "NULL"
                                },
                                {
                                    "FOGLALAS_PK": "1006",
                                    "UGYFEL_FK": "kata",
                                    "SZOBA_FK": "70",
                                    "METTOL": "2016-07-03",
                                    "MEDDIG": "2016-07-06",
                                    "FELNOTT_SZAM": "1",
                                    "GYERMEK_SZAM": "0",
                                    "Össz fő": "1",
                                    "NEV": "Gondos Katalin",
                                    "Előző három foglalás átlaga": "1"
                                },
                                {
                                    "FOGLALAS_PK": "1134",
                                    "UGYFEL_FK": "miklos2",
                                    "SZOBA_FK": "126",
                                    "METTOL": "2016-10-08",
                                    "MEDDIG": "2016-10-09",
                                    "FELNOTT_SZAM": "1",
                                    "GYERMEK_SZAM": "0",
                                    "Össz fő": "1",
                                    "NEV": "Gondos Miklós",
                                    "Előző három foglalás átlaga": "NULL"
                                },
                                {
                                    "FOGLALAS_PK": "657",
                                    "UGYFEL_FK": "attila1",
                                    "SZOBA_FK": "137",
                                    "METTOL": "2016-05-20",
                                    "MEDDIG": "2016-05-26",
                                    "FELNOTT_SZAM": "1",
                                    "GYERMEK_SZAM": "0",
                                    "Össz fő": "1",
                                    "NEV": "Gulyás Attila",
                                    "Előző három foglalás átlaga": "NULL"
                                },
                                {
                                    "FOGLALAS_PK": "854",
                                    "UGYFEL_FK": "KRISZTINAG",
                                    "SZOBA_FK": "167",
                                    "METTOL": "2016-05-24",
                                    "MEDDIG": "2016-05-31",
                                    "FELNOTT_SZAM": "1",
                                    "GYERMEK_SZAM": "0",
                                    "Össz fő": "1",
                                    "NEV": "Gyárfás Krisztina",
                                    "Előző három foglalás átlaga": "NULL"
                                },
                                {
                                    "FOGLALAS_PK": "935",
                                    "UGYFEL_FK": "KRISZTINAG",
                                    "SZOBA_FK": "56",
                                    "METTOL": "2016-06-08",
                                    "MEDDIG": "2016-06-12",
                                    "FELNOTT_SZAM": "1",
                                    "GYERMEK_SZAM": "0",
                                    "Össz fő": "1",
                                    "NEV": "Gyárfás Krisztina",
                                    "Előző három foglalás átlaga": "1"
                                },
                                {
                                    "FOGLALAS_PK": "872",
                                    "UGYFEL_FK": "bence",
                                    "SZOBA_FK": "28",
                                    "METTOL": "2016-05-29",
                                    "MEDDIG": "2016-06-03",
                                    "FELNOTT_SZAM": "1",
                                    "GYERMEK_SZAM": "0",
                                    "Össz fő": "1",
                                    "NEV": "Győrffy Bence",
                                    "Előző három foglalás átlaga": "NULL"
                                },
                                {
                                    "FOGLALAS_PK": "852",
                                    "UGYFEL_FK": "JOZSEFG",
                                    "SZOBA_FK": "24",
                                    "METTOL": "2016-05-23",
                                    "MEDDIG": "2016-05-25",
                                    "FELNOTT_SZAM": "1",
                                    "GYERMEK_SZAM": "0",
                                    "Össz fő": "1",
                                    "NEV": "Gyuris József",
                                    "Előző három foglalás átlaga": "NULL"
                                },
                                {
                                    "FOGLALAS_PK": "1461",
                                    "UGYFEL_FK": "JOZSEFG",
                                    "SZOBA_FK": "77",
                                    "METTOL": "2017-01-22",
                                    "MEDDIG": "2017-01-26",
                                    "FELNOTT_SZAM": "1",
                                    "GYERMEK_SZAM": "0",
                                    "Össz fő": "1",
                                    "NEV": "Gyuris József",
                                    "Előző három foglalás átlaga": "1"
                                },
                                {
                                    "FOGLALAS_PK": "904",
                                    "UGYFEL_FK": "janos3",
                                    "SZOBA_FK": "34",
                                    "METTOL": "2016-06-04",
                                    "MEDDIG": "2016-06-06",
                                    "FELNOTT_SZAM": "1",
                                    "GYERMEK_SZAM": "0",
                                    "Össz fő": "1",
                                    "NEV": "Harangozó János",
                                    "Előző három foglalás átlaga": "NULL"
                                },
                                {
                                    "FOGLALAS_PK": "1177",
                                    "UGYFEL_FK": "janos3",
                                    "SZOBA_FK": "150",
                                    "METTOL": "2016-10-22",
                                    "MEDDIG": "2016-10-23",
                                    "FELNOTT_SZAM": "1",
                                    "GYERMEK_SZAM": "0",
                                    "Össz fő": "1",
                                    "NEV": "Harangozó János",
                                    "Előző három foglalás átlaga": "1"
                                },
                                {
                                    "FOGLALAS_PK": "755",
                                    "UGYFEL_FK": "agnes3",
                                    "SZOBA_FK": "20",
                                    "METTOL": "2016-08-04",
                                    "MEDDIG": "2016-08-10",
                                    "FELNOTT_SZAM": "1",
                                    "GYERMEK_SZAM": "0",
                                    "Össz fő": "1",
                                    "NEV": "Hartyánszky Ágnes",
                                    "Előző három foglalás átlaga": "NULL"
                                },
                                {
                                    "FOGLALAS_PK": "587",
                                    "UGYFEL_FK": "norbert2",
                                    "SZOBA_FK": "123",
                                    "METTOL": "2016-04-19",
                                    "MEDDIG": "2016-04-26",
                                    "FELNOTT_SZAM": "1",
                                    "GYERMEK_SZAM": "0",
                                    "Össz fő": "1",
                                    "NEV": "Hegedűs Norbert",
                                    "Előző három foglalás átlaga": "NULL"
                                },
                                {
                                    "FOGLALAS_PK": "782",
                                    "UGYFEL_FK": "norbert2",
                                    "SZOBA_FK": "163",
                                    "METTOL": "2016-08-16",
                                    "MEDDIG": "2016-08-19",
                                    "FELNOTT_SZAM": "1",
                                    "GYERMEK_SZAM": "0",
                                    "Össz fő": "1",
                                    "NEV": "Hegedűs Norbert",
                                    "Előző három foglalás átlaga": "1"
                                },
                                {
                                    "FOGLALAS_PK": "1379",
                                    "UGYFEL_FK": "JUDITH",
                                    "SZOBA_FK": "83",
                                    "METTOL": "2016-12-19",
                                    "MEDDIG": "2016-12-26",
                                    "FELNOTT_SZAM": "1",
                                    "GYERMEK_SZAM": "0",
                                    "Össz fő": "1",
                                    "NEV": "Hídasi Judit",
                                    "Előző három foglalás átlaga": "NULL"
                                },
                                {
                                    "FOGLALAS_PK": "980",
                                    "UGYFEL_FK": "AGNESH",
                                    "SZOBA_FK": "143",
                                    "METTOL": "2016-06-23",
                                    "MEDDIG": "2016-06-26",
                                    "FELNOTT_SZAM": "1",
                                    "GYERMEK_SZAM": "0",
                                    "Össz fő": "1",
                                    "NEV": "Horváth Ágnes",
                                    "Előző három foglalás átlaga": "NULL"
                                },
                                {
                                    "FOGLALAS_PK": "1225",
                                    "UGYFEL_FK": "AGNESH",
                                    "SZOBA_FK": "69",
                                    "METTOL": "2016-10-30",
                                    "MEDDIG": "2016-11-04",
                                    "FELNOTT_SZAM": "1",
                                    "GYERMEK_SZAM": "0",
                                    "Össz fő": "1",
                                    "NEV": "Horváth Ágnes",
                                    "Előző három foglalás átlaga": "1"
                                },
                                {
                                    "FOGLALAS_PK": "1056",
                                    "UGYFEL_FK": "ARPADH",
                                    "SZOBA_FK": "47",
                                    "METTOL": "2016-09-16",
                                    "MEDDIG": "2016-09-23",
                                    "FELNOTT_SZAM": "1",
                                    "GYERMEK_SZAM": "0",
                                    "Össz fő": "1",
                                    "NEV": "Horváth Árpád",
                                    "Előző három foglalás átlaga": "NULL"
                                },
                                {
                                    "FOGLALAS_PK": "1066",
                                    "UGYFEL_FK": "ARPADH",
                                    "SZOBA_FK": "49",
                                    "METTOL": "2016-09-18",
                                    "MEDDIG": "2016-09-25",
                                    "FELNOTT_SZAM": "1",
                                    "GYERMEK_SZAM": "0",
                                    "Össz fő": "1",
                                    "NEV": "Horváth Árpád",
                                    "Előző három foglalás átlaga": "1"
                                },
                                {
                                    "FOGLALAS_PK": "1342",
                                    "UGYFEL_FK": "ARPADH",
                                    "SZOBA_FK": "170",
                                    "METTOL": "2016-12-04",
                                    "MEDDIG": "2016-12-10",
                                    "FELNOTT_SZAM": "1",
                                    "GYERMEK_SZAM": "0",
                                    "Össz fő": "1",
                                    "NEV": "Horváth Árpád",
                                    "Előző három foglalás átlaga": "1"
                                },
                                {
                                    "FOGLALAS_PK": "661",
                                    "UGYFEL_FK": "katalin",
                                    "SZOBA_FK": "136",
                                    "METTOL": "2016-05-21",
                                    "MEDDIG": "2016-05-26",
                                    "FELNOTT_SZAM": "1",
                                    "GYERMEK_SZAM": "0",
                                    "Össz fő": "1",
                                    "NEV": "Horváth Katalin",
                                    "Előző három foglalás átlaga": "NULL"
                                },
                                {
                                    "FOGLALAS_PK": "1015",
                                    "UGYFEL_FK": "katalin",
                                    "SZOBA_FK": "174",
                                    "METTOL": "2016-07-06",
                                    "MEDDIG": "2016-07-11",
                                    "FELNOTT_SZAM": "1",
                                    "GYERMEK_SZAM": "0",
                                    "Össz fő": "1",
                                    "NEV": "Horváth Katalin",
                                    "Előző három foglalás átlaga": "1"
                                },
                                {
                                    "FOGLALAS_PK": "733",
                                    "UGYFEL_FK": "katalin",
                                    "SZOBA_FK": "140",
                                    "METTOL": "2016-07-28",
                                    "MEDDIG": "2016-07-29",
                                    "FELNOTT_SZAM": "1",
                                    "GYERMEK_SZAM": "0",
                                    "Össz fő": "1",
                                    "NEV": "Horváth Katalin",
                                    "Előző három foglalás átlaga": "1"
                                },
                                {
                                    "FOGLALAS_PK": "1372",
                                    "UGYFEL_FK": "katalin",
                                    "SZOBA_FK": "106",
                                    "METTOL": "2016-12-17",
                                    "MEDDIG": "2016-12-24",
                                    "FELNOTT_SZAM": "1",
                                    "GYERMEK_SZAM": "0",
                                    "Össz fő": "1",
                                    "NEV": "Horváth Katalin",
                                    "Előző három foglalás átlaga": "1"
                                },
                                {
                                    "FOGLALAS_PK": "897",
                                    "UGYFEL_FK": "nikolett3",
                                    "SZOBA_FK": "165",
                                    "METTOL": "2016-06-03",
                                    "MEDDIG": "2016-06-09",
                                    "FELNOTT_SZAM": "1",
                                    "GYERMEK_SZAM": "0",
                                    "Össz fő": "1",
                                    "NEV": "Horváth Nikolett",
                                    "Előző három foglalás átlaga": "NULL"
                                },
                                {
                                    "FOGLALAS_PK": "976",
                                    "UGYFEL_FK": "nikolett3",
                                    "SZOBA_FK": "76",
                                    "METTOL": "2016-06-22",
                                    "MEDDIG": "2016-06-24",
                                    "FELNOTT_SZAM": "1",
                                    "GYERMEK_SZAM": "0",
                                    "Össz fő": "1",
                                    "NEV": "Horváth Nikolett",
                                    "Előző három foglalás átlaga": "1"
                                },
                                {
                                    "FOGLALAS_PK": "1186",
                                    "UGYFEL_FK": "ROBERTI",
                                    "SZOBA_FK": "58",
                                    "METTOL": "2016-10-23",
                                    "MEDDIG": "2016-10-29",
                                    "FELNOTT_SZAM": "1",
                                    "GYERMEK_SZAM": "0",
                                    "Össz fő": "1",
                                    "NEV": "Iván Róbert",
                                    "Előző három foglalás átlaga": "NULL"
                                },
                                {
                                    "FOGLALAS_PK": "867",
                                    "UGYFEL_FK": "ZSOLTJ",
                                    "SZOBA_FK": "175",
                                    "METTOL": "2016-05-28",
                                    "MEDDIG": "2016-06-03",
                                    "FELNOTT_SZAM": "1",
                                    "GYERMEK_SZAM": "0",
                                    "Össz fő": "1",
                                    "NEV": "Józsa Zsolt",
                                    "Előző három foglalás átlaga": "NULL"
                                },
                                {
                                    "FOGLALAS_PK": "990",
                                    "UGYFEL_FK": "MIHALYJ",
                                    "SZOBA_FK": "6",
                                    "METTOL": "2016-06-27",
                                    "MEDDIG": "2016-07-01",
                                    "FELNOTT_SZAM": "1",
                                    "GYERMEK_SZAM": "0",
                                    "Össz fő": "1",
                                    "NEV": "Juhász Mihály",
                                    "Előző három foglalás átlaga": "NULL"
                                },
                                {
                                    "FOGLALAS_PK": "839",
                                    "UGYFEL_FK": "MIHALYJ",
                                    "SZOBA_FK": "172",
                                    "METTOL": "2016-08-29",
                                    "MEDDIG": "2016-09-03",
                                    "FELNOTT_SZAM": "1",
                                    "GYERMEK_SZAM": "0",
                                    "Össz fő": "1",
                                    "NEV": "Juhász Mihály",
                                    "Előző három foglalás átlaga": "1"
                                },
                                {
                                    "FOGLALAS_PK": "620",
                                    "UGYFEL_FK": "marton",
                                    "SZOBA_FK": "1",
                                    "METTOL": "2016-05-05",
                                    "MEDDIG": "2016-05-10",
                                    "FELNOTT_SZAM": "1",
                                    "GYERMEK_SZAM": "0",
                                    "Össz fő": "1",
                                    "NEV": "Kalacsi Márton",
                                    "Előző három foglalás átlaga": "NULL"
                                },
                                {
                                    "FOGLALAS_PK": "1224",
                                    "UGYFEL_FK": "RENATAK",
                                    "SZOBA_FK": "50",
                                    "METTOL": "2016-10-30",
                                    "MEDDIG": "2016-10-31",
                                    "FELNOTT_SZAM": "1",
                                    "GYERMEK_SZAM": "0",
                                    "Össz fő": "1",
                                    "NEV": "Kardos Renáta",
                                    "Előző három foglalás átlaga": "NULL"
                                },
                                {
                                    "FOGLALAS_PK": "1312",
                                    "UGYFEL_FK": "RENATAK",
                                    "SZOBA_FK": "94",
                                    "METTOL": "2016-11-23",
                                    "MEDDIG": "2016-11-26",
                                    "FELNOTT_SZAM": "1",
                                    "GYERMEK_SZAM": "0",
                                    "Össz fő": "1",
                                    "NEV": "Kardos Renáta",
                                    "Előző három foglalás átlaga": "1"
                                },
                                {
                                    "FOGLALAS_PK": "1543",
                                    "UGYFEL_FK": "RENATAK",
                                    "SZOBA_FK": "95",
                                    "METTOL": "2017-02-16",
                                    "MEDDIG": "2017-02-23",
                                    "FELNOTT_SZAM": "1",
                                    "GYERMEK_SZAM": "0",
                                    "Össz fő": "1",
                                    "NEV": "Kardos Renáta",
                                    "Előző három foglalás átlaga": "1"
                                },
                                {
                                    "FOGLALAS_PK": "1581",
                                    "UGYFEL_FK": "RENATAK",
                                    "SZOBA_FK": "48",
                                    "METTOL": "2017-03-01",
                                    "MEDDIG": "2017-03-06",
                                    "FELNOTT_SZAM": "1",
                                    "GYERMEK_SZAM": "0",
                                    "Össz fő": "1",
                                    "NEV": "Kardos Renáta",
                                    "Előző három foglalás átlaga": "1"
                                },
                                {
                                    "FOGLALAS_PK": "881",
                                    "UGYFEL_FK": "tihamer",
                                    "SZOBA_FK": "131",
                                    "METTOL": "2016-05-30",
                                    "MEDDIG": "2016-06-05",
                                    "FELNOTT_SZAM": "1",
                                    "GYERMEK_SZAM": "0",
                                    "Össz fő": "1",
                                    "NEV": "Kazy Tihamér",
                                    "Előző három foglalás átlaga": "NULL"
                                },
                                {
                                    "FOGLALAS_PK": "997",
                                    "UGYFEL_FK": "katalin4",
                                    "SZOBA_FK": "82",
                                    "METTOL": "2016-07-01",
                                    "MEDDIG": "2016-07-07",
                                    "FELNOTT_SZAM": "1",
                                    "GYERMEK_SZAM": "0",
                                    "Össz fő": "1",
                                    "NEV": "Kertész Katalin",
                                    "Előző három foglalás átlaga": "NULL"
                                },
                                {
                                    "FOGLALAS_PK": "1172",
                                    "UGYFEL_FK": "mark",
                                    "SZOBA_FK": "197",
                                    "METTOL": "2016-10-20",
                                    "MEDDIG": "2016-10-27",
                                    "FELNOTT_SZAM": "1",
                                    "GYERMEK_SZAM": "0",
                                    "Össz fő": "1",
                                    "NEV": "Kispál Márk",
                                    "Előző három foglalás átlaga": "NULL"
                                },
                                {
                                    "FOGLALAS_PK": "803",
                                    "UGYFEL_FK": "adam1",
                                    "SZOBA_FK": "1",
                                    "METTOL": "2016-08-20",
                                    "MEDDIG": "2016-08-24",
                                    "FELNOTT_SZAM": "1",
                                    "GYERMEK_SZAM": "0",
                                    "Össz fő": "1",
                                    "NEV": "Kiss Ádám",
                                    "Előző három foglalás átlaga": "NULL"
                                },
                                {
                                    "FOGLALAS_PK": "1523",
                                    "UGYFEL_FK": "lajos",
                                    "SZOBA_FK": "11",
                                    "METTOL": "2017-02-12",
                                    "MEDDIG": "2017-02-13",
                                    "FELNOTT_SZAM": "1",
                                    "GYERMEK_SZAM": "0",
                                    "Össz fő": "1",
                                    "NEV": "Kiss Lajos",
                                    "Előző három foglalás átlaga": "NULL"
                                },
                                {
                                    "FOGLALAS_PK": "799",
                                    "UGYFEL_FK": "andras41",
                                    "SZOBA_FK": "175",
                                    "METTOL": "2016-08-19",
                                    "MEDDIG": "2016-08-23",
                                    "FELNOTT_SZAM": "1",
                                    "GYERMEK_SZAM": "0",
                                    "Össz fő": "1",
                                    "NEV": "Komjáti András",
                                    "Előző három foglalás átlaga": "NULL"
                                },
                                {
                                    "FOGLALAS_PK": "1074",
                                    "UGYFEL_FK": "andras41",
                                    "SZOBA_FK": "195",
                                    "METTOL": "2016-09-22",
                                    "MEDDIG": "2016-09-29",
                                    "FELNOTT_SZAM": "1",
                                    "GYERMEK_SZAM": "0",
                                    "Össz fő": "1",
                                    "NEV": "Komjáti András",
                                    "Előző három foglalás átlaga": "1"
                                },
                                {
                                    "FOGLALAS_PK": "1308",
                                    "UGYFEL_FK": "andras41",
                                    "SZOBA_FK": "182",
                                    "METTOL": "2016-11-23",
                                    "MEDDIG": "2016-11-24",
                                    "FELNOTT_SZAM": "1",
                                    "GYERMEK_SZAM": "0",
                                    "Össz fő": "1",
                                    "NEV": "Komjáti András",
                                    "Előző három foglalás átlaga": "1"
                                },
                                {
                                    "FOGLALAS_PK": "945",
                                    "UGYFEL_FK": "GYONGYIK",
                                    "SZOBA_FK": "23",
                                    "METTOL": "2016-06-10",
                                    "MEDDIG": "2016-06-17",
                                    "FELNOTT_SZAM": "1",
                                    "GYERMEK_SZAM": "0",
                                    "Össz fő": "1",
                                    "NEV": "Kornseé Gyöngyi",
                                    "Előző három foglalás átlaga": "NULL"
                                },
                                {
                                    "FOGLALAS_PK": "1367",
                                    "UGYFEL_FK": "bernadett2",
                                    "SZOBA_FK": "80",
                                    "METTOL": "2016-12-17",
                                    "MEDDIG": "2016-12-20",
                                    "FELNOTT_SZAM": "1",
                                    "GYERMEK_SZAM": "0",
                                    "Össz fő": "1",
                                    "NEV": "Kovács Bernadett",
                                    "Előző három foglalás átlaga": "NULL"
                                },
                                {
                                    "FOGLALAS_PK": "954",
                                    "UGYFEL_FK": "katka",
                                    "SZOBA_FK": "84",
                                    "METTOL": "2016-06-13",
                                    "MEDDIG": "2016-06-18",
                                    "FELNOTT_SZAM": "1",
                                    "GYERMEK_SZAM": "0",
                                    "Össz fő": "1",
                                    "NEV": "Kovács Katalin",
                                    "Előző három foglalás átlaga": "NULL"
                                },
                                {
                                    "FOGLALAS_PK": "1026",
                                    "UGYFEL_FK": "gabor1",
                                    "SZOBA_FK": "119",
                                    "METTOL": "2016-07-12",
                                    "MEDDIG": "2016-07-15",
                                    "FELNOTT_SZAM": "1",
                                    "GYERMEK_SZAM": "0",
                                    "Össz fő": "1",
                                    "NEV": "Köves Gábor",
                                    "Előző három foglalás átlaga": "NULL"
                                },
                                {
                                    "FOGLALAS_PK": "1169",
                                    "UGYFEL_FK": "gabor1",
                                    "SZOBA_FK": "93",
                                    "METTOL": "2016-10-20",
                                    "MEDDIG": "2016-10-24",
                                    "FELNOTT_SZAM": "1",
                                    "GYERMEK_SZAM": "0",
                                    "Össz fő": "1",
                                    "NEV": "Köves Gábor",
                                    "Előző három foglalás átlaga": "1"
                                },
                                {
                                    "FOGLALAS_PK": "1250",
                                    "UGYFEL_FK": "emese",
                                    "SZOBA_FK": "107",
                                    "METTOL": "2016-11-05",
                                    "MEDDIG": "2016-11-09",
                                    "FELNOTT_SZAM": "1",
                                    "GYERMEK_SZAM": "0",
                                    "Össz fő": "1",
                                    "NEV": "Kuruc Emese",
                                    "Előző három foglalás átlaga": "NULL"
                                },
                                {
                                    "FOGLALAS_PK": "857",
                                    "UGYFEL_FK": "agnes",
                                    "SZOBA_FK": "165",
                                    "METTOL": "2016-05-25",
                                    "MEDDIG": "2016-05-30",
                                    "FELNOTT_SZAM": "1",
                                    "GYERMEK_SZAM": "0",
                                    "Össz fő": "1",
                                    "NEV": "Lengyel Ágnes",
                                    "Előző három foglalás átlaga": "NULL"
                                },
                                {
                                    "FOGLALAS_PK": "955",
                                    "UGYFEL_FK": "andi",
                                    "SZOBA_FK": "47",
                                    "METTOL": "2016-06-13",
                                    "MEDDIG": "2016-06-14",
                                    "FELNOTT_SZAM": "1",
                                    "GYERMEK_SZAM": "0",
                                    "Össz fő": "1",
                                    "NEV": "Maródi Andrea",
                                    "Előző három foglalás átlaga": "NULL"
                                },
                                {
                                    "FOGLALAS_PK": "1541",
                                    "UGYFEL_FK": "norbert4",
                                    "SZOBA_FK": "155",
                                    "METTOL": "2017-02-16",
                                    "MEDDIG": "2017-02-17",
                                    "FELNOTT_SZAM": "1",
                                    "GYERMEK_SZAM": "0",
                                    "Össz fő": "1",
                                    "NEV": "Mile Norbert",
                                    "Előző három foglalás átlaga": "NULL"
                                },
                                {
                                    "FOGLALAS_PK": "1443",
                                    "UGYFEL_FK": "KRISZTIANM",
                                    "SZOBA_FK": "81",
                                    "METTOL": "2017-01-16",
                                    "MEDDIG": "2017-01-23",
                                    "FELNOTT_SZAM": "1",
                                    "GYERMEK_SZAM": "0",
                                    "Össz fő": "1",
                                    "NEV": "Mogyródi Krisztián",
                                    "Előző három foglalás átlaga": "NULL"
                                },
                                {
                                    "FOGLALAS_PK": "708",
                                    "UGYFEL_FK": "MONIKAM",
                                    "SZOBA_FK": "106",
                                    "METTOL": "2016-07-23",
                                    "MEDDIG": "2016-07-30",
                                    "FELNOTT_SZAM": "1",
                                    "GYERMEK_SZAM": "0",
                                    "Össz fő": "1",
                                    "NEV": "Mohos Mónika",
                                    "Előző három foglalás átlaga": "NULL"
                                },
                                {
                                    "FOGLALAS_PK": "1450",
                                    "UGYFEL_FK": "MONIKAM",
                                    "SZOBA_FK": "139",
                                    "METTOL": "2017-01-17",
                                    "MEDDIG": "2017-01-24",
                                    "FELNOTT_SZAM": "1",
                                    "GYERMEK_SZAM": "0",
                                    "Össz fő": "1",
                                    "NEV": "Mohos Mónika",
                                    "Előző három foglalás átlaga": "1"
                                },
                                {
                                    "FOGLALAS_PK": "697",
                                    "UGYFEL_FK": "andras21",
                                    "SZOBA_FK": "12",
                                    "METTOL": "2016-07-20",
                                    "MEDDIG": "2016-07-22",
                                    "FELNOTT_SZAM": "1",
                                    "GYERMEK_SZAM": "0",
                                    "Össz fő": "1",
                                    "NEV": "Molnár András",
                                    "Előző három foglalás átlaga": "NULL"
                                },
                                {
                                    "FOGLALAS_PK": "948",
                                    "UGYFEL_FK": "balint1",
                                    "SZOBA_FK": "19",
                                    "METTOL": "2016-06-10",
                                    "MEDDIG": "2016-06-12",
                                    "FELNOTT_SZAM": "1",
                                    "GYERMEK_SZAM": "0",
                                    "Össz fő": "1",
                                    "NEV": "Molnár Bálint",
                                    "Előző három foglalás átlaga": "NULL"
                                },
                                {
                                    "FOGLALAS_PK": "1057",
                                    "UGYFEL_FK": "balint1",
                                    "SZOBA_FK": "86",
                                    "METTOL": "2016-09-16",
                                    "MEDDIG": "2016-09-21",
                                    "FELNOTT_SZAM": "1",
                                    "GYERMEK_SZAM": "0",
                                    "Össz fő": "1",
                                    "NEV": "Molnár Bálint",
                                    "Előző három foglalás átlaga": "1"
                                },
                                {
                                    "FOGLALAS_PK": "1420",
                                    "UGYFEL_FK": "ARPADM",
                                    "SZOBA_FK": "198",
                                    "METTOL": "2017-01-05",
                                    "MEDDIG": "2017-01-10",
                                    "FELNOTT_SZAM": "1",
                                    "GYERMEK_SZAM": "0",
                                    "Össz fő": "1",
                                    "NEV": "Móricz Árpád",
                                    "Előző három foglalás átlaga": "NULL"
                                },
                                {
                                    "FOGLALAS_PK": "818",
                                    "UGYFEL_FK": "henrik3",
                                    "SZOBA_FK": "8",
                                    "METTOL": "2016-08-24",
                                    "MEDDIG": "2016-08-28",
                                    "FELNOTT_SZAM": "1",
                                    "GYERMEK_SZAM": "0",
                                    "Össz fő": "1",
                                    "NEV": "Nádudvari Henrik",
                                    "Előző három foglalás átlaga": "NULL"
                                },
                                {
                                    "FOGLALAS_PK": "1258",
                                    "UGYFEL_FK": "julia4",
                                    "SZOBA_FK": "52",
                                    "METTOL": "2016-11-07",
                                    "MEDDIG": "2016-11-12",
                                    "FELNOTT_SZAM": "1",
                                    "GYERMEK_SZAM": "0",
                                    "Össz fő": "1",
                                    "NEV": "Nagy Júlia",
                                    "Előző három foglalás átlaga": "NULL"
                                },
                                {
                                    "FOGLALAS_PK": "892",
                                    "UGYFEL_FK": "LASZLON",
                                    "SZOBA_FK": "165",
                                    "METTOL": "2016-06-03",
                                    "MEDDIG": "2016-06-06",
                                    "FELNOTT_SZAM": "1",
                                    "GYERMEK_SZAM": "0",
                                    "Össz fő": "1",
                                    "NEV": "Nagy László",
                                    "Előző három foglalás átlaga": "NULL"
                                },
                                {
                                    "FOGLALAS_PK": "1136",
                                    "UGYFEL_FK": "LASZLON",
                                    "SZOBA_FK": "30",
                                    "METTOL": "2016-10-09",
                                    "MEDDIG": "2016-10-14",
                                    "FELNOTT_SZAM": "1",
                                    "GYERMEK_SZAM": "0",
                                    "Össz fő": "1",
                                    "NEV": "Nagy László",
                                    "Előző három foglalás átlaga": "1"
                                },
                                {
                                    "FOGLALAS_PK": "1329",
                                    "UGYFEL_FK": "LASZLON",
                                    "SZOBA_FK": "171",
                                    "METTOL": "2016-11-29",
                                    "MEDDIG": "2016-12-04",
                                    "FELNOTT_SZAM": "1",
                                    "GYERMEK_SZAM": "0",
                                    "Össz fő": "1",
                                    "NEV": "Nagy László",
                                    "Előző három foglalás átlaga": "1"
                                },
                                {
                                    "FOGLALAS_PK": "1156",
                                    "UGYFEL_FK": "sandor4",
                                    "SZOBA_FK": "140",
                                    "METTOL": "2016-10-15",
                                    "MEDDIG": "2016-10-18",
                                    "FELNOTT_SZAM": "1",
                                    "GYERMEK_SZAM": "0",
                                    "Össz fő": "1",
                                    "NEV": "Nagy Sándor",
                                    "Előző három foglalás átlaga": "NULL"
                                },
                                {
                                    "FOGLALAS_PK": "1339",
                                    "UGYFEL_FK": "sandor4",
                                    "SZOBA_FK": "120",
                                    "METTOL": "2016-12-03",
                                    "MEDDIG": "2016-12-09",
                                    "FELNOTT_SZAM": "1",
                                    "GYERMEK_SZAM": "0",
                                    "Össz fő": "1",
                                    "NEV": "Nagy Sándor",
                                    "Előző három foglalás átlaga": "1"
                                },
                                {
                                    "FOGLALAS_PK": "860",
                                    "UGYFEL_FK": "andrea4",
                                    "SZOBA_FK": "70",
                                    "METTOL": "2016-05-27",
                                    "MEDDIG": "2016-05-29",
                                    "FELNOTT_SZAM": "1",
                                    "GYERMEK_SZAM": "0",
                                    "Össz fő": "1",
                                    "NEV": "Neizer Andrea",
                                    "Előző három foglalás átlaga": "NULL"
                                },
                                {
                                    "FOGLALAS_PK": "1213",
                                    "UGYFEL_FK": "GYORGYO",
                                    "SZOBA_FK": "91",
                                    "METTOL": "2016-10-28",
                                    "MEDDIG": "2016-10-31",
                                    "FELNOTT_SZAM": "1",
                                    "GYERMEK_SZAM": "0",
                                    "Össz fő": "1",
                                    "NEV": "Oroszi György",
                                    "Előző három foglalás átlaga": "NULL"
                                },
                                {
                                    "FOGLALAS_PK": "1374",
                                    "UGYFEL_FK": "robert2",
                                    "SZOBA_FK": "118",
                                    "METTOL": "2016-12-17",
                                    "MEDDIG": "2016-12-22",
                                    "FELNOTT_SZAM": "1",
                                    "GYERMEK_SZAM": "0",
                                    "Össz fő": "1",
                                    "NEV": "Patay Róbert",
                                    "Előző három foglalás átlaga": "NULL"
                                },
                                {
                                    "FOGLALAS_PK": "845",
                                    "UGYFEL_FK": "eva2",
                                    "SZOBA_FK": "63",
                                    "METTOL": "2016-09-02",
                                    "MEDDIG": "2016-09-03",
                                    "FELNOTT_SZAM": "1",
                                    "GYERMEK_SZAM": "0",
                                    "Össz fő": "1",
                                    "NEV": "Perlinger Éva",
                                    "Előző három foglalás átlaga": "NULL"
                                },
                                {
                                    "FOGLALAS_PK": "567",
                                    "UGYFEL_FK": "anett3",
                                    "SZOBA_FK": "170",
                                    "METTOL": "2016-04-10",
                                    "MEDDIG": "2016-04-17",
                                    "FELNOTT_SZAM": "1",
                                    "GYERMEK_SZAM": "0",
                                    "Össz fő": "1",
                                    "NEV": "Pivarcsi Anett",
                                    "Előző három foglalás átlaga": "NULL"
                                },
                                {
                                    "FOGLALAS_PK": "1159",
                                    "UGYFEL_FK": "anett3",
                                    "SZOBA_FK": "73",
                                    "METTOL": "2016-10-16",
                                    "MEDDIG": "2016-10-21",
                                    "FELNOTT_SZAM": "1",
                                    "GYERMEK_SZAM": "0",
                                    "Össz fő": "1",
                                    "NEV": "Pivarcsi Anett",
                                    "Előző három foglalás átlaga": "1"
                                },
                                {
                                    "FOGLALAS_PK": "1430",
                                    "UGYFEL_FK": "daniel",
                                    "SZOBA_FK": "12",
                                    "METTOL": "2017-01-09",
                                    "MEDDIG": "2017-01-11",
                                    "FELNOTT_SZAM": "1",
                                    "GYERMEK_SZAM": "0",
                                    "Össz fő": "1",
                                    "NEV": "Rácz Dániel",
                                    "Előző három foglalás átlaga": "NULL"
                                },
                                {
                                    "FOGLALAS_PK": "684",
                                    "UGYFEL_FK": "ANNAMARIAR",
                                    "SZOBA_FK": "184",
                                    "METTOL": "2016-07-18",
                                    "MEDDIG": "2016-07-21",
                                    "FELNOTT_SZAM": "1",
                                    "GYERMEK_SZAM": "0",
                                    "Össz fő": "1",
                                    "NEV": "Regős Annamária",
                                    "Előző három foglalás átlaga": "NULL"
                                },
                                {
                                    "FOGLALAS_PK": "965",
                                    "UGYFEL_FK": "ANIKOS",
                                    "SZOBA_FK": "5",
                                    "METTOL": "2016-06-16",
                                    "MEDDIG": "2016-06-23",
                                    "FELNOTT_SZAM": "1",
                                    "GYERMEK_SZAM": "0",
                                    "Össz fő": "1",
                                    "NEV": "Simon Anikó",
                                    "Előző három foglalás átlaga": "NULL"
                                },
                                {
                                    "FOGLALAS_PK": "1568",
                                    "UGYFEL_FK": "bernadett1",
                                    "SZOBA_FK": "29",
                                    "METTOL": "2017-02-24",
                                    "MEDDIG": "2017-03-03",
                                    "FELNOTT_SZAM": "1",
                                    "GYERMEK_SZAM": "0",
                                    "Össz fő": "1",
                                    "NEV": "Simon Bernadett",
                                    "Előző három foglalás átlaga": "NULL"
                                },
                                {
                                    "FOGLALAS_PK": "1396",
                                    "UGYFEL_FK": "peter3",
                                    "SZOBA_FK": "72",
                                    "METTOL": "2016-12-25",
                                    "MEDDIG": "2016-12-28",
                                    "FELNOTT_SZAM": "1",
                                    "GYERMEK_SZAM": "0",
                                    "Össz fő": "1",
                                    "NEV": "Szalai Péter",
                                    "Előző három foglalás átlaga": "NULL"
                                },
                                {
                                    "FOGLALAS_PK": "1434",
                                    "UGYFEL_FK": "peter3",
                                    "SZOBA_FK": "3",
                                    "METTOL": "2017-01-12",
                                    "MEDDIG": "2017-01-17",
                                    "FELNOTT_SZAM": "1",
                                    "GYERMEK_SZAM": "0",
                                    "Össz fő": "1",
                                    "NEV": "Szalai Péter",
                                    "Előző három foglalás átlaga": "1"
                                },
                                {
                                    "FOGLALAS_PK": "1508",
                                    "UGYFEL_FK": "SZILARDS",
                                    "SZOBA_FK": "191",
                                    "METTOL": "2017-02-08",
                                    "MEDDIG": "2017-02-15",
                                    "FELNOTT_SZAM": "1",
                                    "GYERMEK_SZAM": "0",
                                    "Össz fő": "1",
                                    "NEV": "Szalai Szilárd",
                                    "Előző három foglalás átlaga": "NULL"
                                },
                                {
                                    "FOGLALAS_PK": "1048",
                                    "UGYFEL_FK": "krisztina",
                                    "SZOBA_FK": "95",
                                    "METTOL": "2016-09-13",
                                    "MEDDIG": "2016-09-16",
                                    "FELNOTT_SZAM": "1",
                                    "GYERMEK_SZAM": "0",
                                    "Össz fő": "1",
                                    "NEV": "Szedlár Krisztina",
                                    "Előző három foglalás átlaga": "NULL"
                                },
                                {
                                    "FOGLALAS_PK": "1306",
                                    "UGYFEL_FK": "krisztina",
                                    "SZOBA_FK": "133",
                                    "METTOL": "2016-11-22",
                                    "MEDDIG": "2016-11-25",
                                    "FELNOTT_SZAM": "1",
                                    "GYERMEK_SZAM": "0",
                                    "Össz fő": "1",
                                    "NEV": "Szedlár Krisztina",
                                    "Előző három foglalás átlaga": "1"
                                },
                                {
                                    "FOGLALAS_PK": "1469",
                                    "UGYFEL_FK": "brigitta",
                                    "SZOBA_FK": "13",
                                    "METTOL": "2017-01-23",
                                    "MEDDIG": "2017-01-25",
                                    "FELNOTT_SZAM": "1",
                                    "GYERMEK_SZAM": "0",
                                    "Össz fő": "1",
                                    "NEV": "Székely Brigitta",
                                    "Előző három foglalás átlaga": "NULL"
                                },
                                {
                                    "FOGLALAS_PK": "586",
                                    "UGYFEL_FK": "BEATRIXS",
                                    "SZOBA_FK": "107",
                                    "METTOL": "2016-04-18",
                                    "MEDDIG": "2016-04-24",
                                    "FELNOTT_SZAM": "1",
                                    "GYERMEK_SZAM": "0",
                                    "Össz fő": "1",
                                    "NEV": "Szekendi Beatrix",
                                    "Előző három foglalás átlaga": "NULL"
                                },
                                {
                                    "FOGLALAS_PK": "891",
                                    "UGYFEL_FK": "MATYASS",
                                    "SZOBA_FK": "63",
                                    "METTOL": "2016-06-02",
                                    "MEDDIG": "2016-06-08",
                                    "FELNOTT_SZAM": "1",
                                    "GYERMEK_SZAM": "0",
                                    "Össz fő": "1",
                                    "NEV": "Szilágyi Mátyás",
                                    "Előző három foglalás átlaga": "NULL"
                                },
                                {
                                    "FOGLALAS_PK": "1190",
                                    "UGYFEL_FK": "MATYASS",
                                    "SZOBA_FK": "161",
                                    "METTOL": "2016-10-24",
                                    "MEDDIG": "2016-10-31",
                                    "FELNOTT_SZAM": "1",
                                    "GYERMEK_SZAM": "0",
                                    "Össz fő": "1",
                                    "NEV": "Szilágyi Mátyás",
                                    "Előző három foglalás átlaga": "1"
                                },
                                {
                                    "FOGLALAS_PK": "1529",
                                    "UGYFEL_FK": "RENATAS",
                                    "SZOBA_FK": "35",
                                    "METTOL": "2017-02-13",
                                    "MEDDIG": "2017-02-17",
                                    "FELNOTT_SZAM": "1",
                                    "GYERMEK_SZAM": "0",
                                    "Össz fő": "1",
                                    "NEV": "Szirmai Renáta",
                                    "Előző három foglalás átlaga": "NULL"
                                },
                                {
                                    "FOGLALAS_PK": "1578",
                                    "UGYFEL_FK": "balazs2",
                                    "SZOBA_FK": "148",
                                    "METTOL": "2017-02-27",
                                    "MEDDIG": "2017-03-06",
                                    "FELNOTT_SZAM": "1",
                                    "GYERMEK_SZAM": "0",
                                    "Össz fő": "1",
                                    "NEV": "Szűcs Balázs",
                                    "Előző három foglalás átlaga": "NULL"
                                },
                                {
                                    "FOGLALAS_PK": "1018",
                                    "UGYFEL_FK": "norbert",
                                    "SZOBA_FK": "40",
                                    "METTOL": "2016-07-08",
                                    "MEDDIG": "2016-07-13",
                                    "FELNOTT_SZAM": "1",
                                    "GYERMEK_SZAM": "0",
                                    "Össz fő": "1",
                                    "NEV": "Szűcs Norbert",
                                    "Előző három foglalás átlaga": "NULL"
                                },
                                {
                                    "FOGLALAS_PK": "1576",
                                    "UGYFEL_FK": "norbert",
                                    "SZOBA_FK": "189",
                                    "METTOL": "2017-02-26",
                                    "MEDDIG": "2017-03-01",
                                    "FELNOTT_SZAM": "1",
                                    "GYERMEK_SZAM": "0",
                                    "Össz fő": "1",
                                    "NEV": "Szűcs Norbert",
                                    "Előző három foglalás átlaga": "1"
                                },
                                {
                                    "FOGLALAS_PK": "790",
                                    "UGYFEL_FK": "veronika4",
                                    "SZOBA_FK": "10",
                                    "METTOL": "2016-08-16",
                                    "MEDDIG": "2016-08-21",
                                    "FELNOTT_SZAM": "1",
                                    "GYERMEK_SZAM": "0",
                                    "Össz fő": "1",
                                    "NEV": "Tankó Veronika",
                                    "Előző három foglalás átlaga": "NULL"
                                },
                                {
                                    "FOGLALAS_PK": "878",
                                    "UGYFEL_FK": "gabor4",
                                    "SZOBA_FK": "83",
                                    "METTOL": "2016-05-30",
                                    "MEDDIG": "2016-06-05",
                                    "FELNOTT_SZAM": "1",
                                    "GYERMEK_SZAM": "0",
                                    "Össz fő": "1",
                                    "NEV": "Telek Gábor",
                                    "Előző három foglalás átlaga": "NULL"
                                },
                                {
                                    "FOGLALAS_PK": "884",
                                    "UGYFEL_FK": "andras2",
                                    "SZOBA_FK": "98",
                                    "METTOL": "2016-05-30",
                                    "MEDDIG": "2016-06-04",
                                    "FELNOTT_SZAM": "1",
                                    "GYERMEK_SZAM": "0",
                                    "Össz fő": "1",
                                    "NEV": "Tóth András",
                                    "Előző három foglalás átlaga": "NULL"
                                },
                                {
                                    "FOGLALAS_PK": "638",
                                    "UGYFEL_FK": "julia",
                                    "SZOBA_FK": "67",
                                    "METTOL": "2016-05-12",
                                    "MEDDIG": "2016-05-17",
                                    "FELNOTT_SZAM": "1",
                                    "GYERMEK_SZAM": "0",
                                    "Össz fő": "1",
                                    "NEV": "Tóth Júlia",
                                    "Előző három foglalás átlaga": "NULL"
                                },
                                {
                                    "FOGLALAS_PK": "669",
                                    "UGYFEL_FK": "tunde",
                                    "SZOBA_FK": "173",
                                    "METTOL": "2016-07-14",
                                    "MEDDIG": "2016-07-21",
                                    "FELNOTT_SZAM": "1",
                                    "GYERMEK_SZAM": "0",
                                    "Össz fő": "1",
                                    "NEV": "Turcsik Tünde",
                                    "Előző három foglalás átlaga": "NULL"
                                },
                                {
                                    "FOGLALAS_PK": "610",
                                    "UGYFEL_FK": "VIKTORIAU",
                                    "SZOBA_FK": "106",
                                    "METTOL": "2016-04-30",
                                    "MEDDIG": "2016-05-03",
                                    "FELNOTT_SZAM": "1",
                                    "GYERMEK_SZAM": "0",
                                    "Össz fő": "1",
                                    "NEV": "Urbán Viktoria",
                                    "Előző három foglalás átlaga": "NULL"
                                },
                                {
                                    "FOGLALAS_PK": "1202",
                                    "UGYFEL_FK": "ZSUZSAV",
                                    "SZOBA_FK": "52",
                                    "METTOL": "2016-10-26",
                                    "MEDDIG": "2016-10-28",
                                    "FELNOTT_SZAM": "1",
                                    "GYERMEK_SZAM": "0",
                                    "Össz fő": "1",
                                    "NEV": "Vajda Zsuzsa",
                                    "Előző három foglalás átlaga": "NULL"
                                },
                                {
                                    "FOGLALAS_PK": "880",
                                    "UGYFEL_FK": "andras3",
                                    "SZOBA_FK": "184",
                                    "METTOL": "2016-05-30",
                                    "MEDDIG": "2016-06-03",
                                    "FELNOTT_SZAM": "1",
                                    "GYERMEK_SZAM": "0",
                                    "Össz fő": "1",
                                    "NEV": "Vígh András",
                                    "Előző három foglalás átlaga": "NULL"
                                },
                                {
                                    "FOGLALAS_PK": "949",
                                    "UGYFEL_FK": "andras3",
                                    "SZOBA_FK": "1",
                                    "METTOL": "2016-06-10",
                                    "MEDDIG": "2016-06-11",
                                    "FELNOTT_SZAM": "1",
                                    "GYERMEK_SZAM": "0",
                                    "Össz fő": "1",
                                    "NEV": "Vígh András",
                                    "Előző három foglalás átlaga": "1"
                                },
                                {
                                    "FOGLALAS_PK": "689",
                                    "UGYFEL_FK": "istvan1",
                                    "SZOBA_FK": "102",
                                    "METTOL": "2016-07-19",
                                    "MEDDIG": "2016-07-24",
                                    "FELNOTT_SZAM": "1",
                                    "GYERMEK_SZAM": "0",
                                    "Össz fő": "1",
                                    "NEV": "Vizi István",
                                    "Előző három foglalás átlaga": "NULL"
                                },
                                {
                                    "FOGLALAS_PK": "1102",
                                    "UGYFEL_FK": "dani",
                                    "SZOBA_FK": "108",
                                    "METTOL": "2016-10-01",
                                    "MEDDIG": "2016-10-02",
                                    "FELNOTT_SZAM": "1",
                                    "GYERMEK_SZAM": "0",
                                    "Össz fő": "1",
                                    "NEV": "Vörös Dániel",
                                    "Előző három foglalás átlaga": "NULL"
                                },
                                {
                                    "FOGLALAS_PK": "1466",
                                    "UGYFEL_FK": "dani",
                                    "SZOBA_FK": "57",
                                    "METTOL": "2017-01-22",
                                    "MEDDIG": "2017-01-29",
                                    "FELNOTT_SZAM": "1",
                                    "GYERMEK_SZAM": "0",
                                    "Össz fő": "1",
                                    "NEV": "Vörös Dániel",
                                    "Előző három foglalás átlaga": "1"
                                },
                                {
                                    "FOGLALAS_PK": "702",
                                    "UGYFEL_FK": "balint2",
                                    "SZOBA_FK": "62",
                                    "METTOL": "2016-07-21",
                                    "MEDDIG": "2016-07-26",
                                    "FELNOTT_SZAM": "1",
                                    "GYERMEK_SZAM": "0",
                                    "Össz fő": "1",
                                    "NEV": "Vukasinovity Bálint",
                                    "Előző három foglalás átlaga": "NULL"
                                }
                            ]
                        },
                        "text/html": [
                            "<table>",
                            "<tr><th>FOGLALAS_PK</th><th>UGYFEL_FK</th><th>SZOBA_FK</th><th>METTOL</th><th>MEDDIG</th><th>FELNOTT_SZAM</th><th>GYERMEK_SZAM</th><th>Össz fő</th><th>NEV</th><th>Előző három foglalás átlaga</th></tr>",
                            "<tr><td>757</td><td>david</td><td>88</td><td>2016-08-05</td><td>2016-08-12</td><td>1</td><td>0</td><td>1</td><td>Ambrus Dávid</td><td>NULL</td></tr>",
                            "<tr><td>923</td><td>LASZLOA</td><td>123</td><td>2016-06-07</td><td>2016-06-11</td><td>1</td><td>0</td><td>1</td><td>Antal László</td><td>NULL</td></tr>",
                            "<tr><td>1005</td><td>beata4</td><td>22</td><td>2016-07-03</td><td>2016-07-06</td><td>1</td><td>0</td><td>1</td><td>Bagi Beáta</td><td>NULL</td></tr>",
                            "<tr><td>1112</td><td>beata4</td><td>155</td><td>2016-10-01</td><td>2016-10-05</td><td>1</td><td>0</td><td>1</td><td>Bagi Beáta</td><td>1</td></tr>",
                            "<tr><td>1436</td><td>alexandra</td><td>35</td><td>2017-01-13</td><td>2017-01-14</td><td>1</td><td>0</td><td>1</td><td>Bagóczki Alexandra</td><td>NULL</td></tr>",
                            "<tr><td>1017</td><td>eszter2</td><td>190</td><td>2016-07-08</td><td>2016-07-09</td><td>1</td><td>0</td><td>1</td><td>Balogh Eszter</td><td>NULL</td></tr>",
                            "<tr><td>1109</td><td>eszter2</td><td>110</td><td>2016-10-01</td><td>2016-10-06</td><td>1</td><td>0</td><td>1</td><td>Balogh Eszter</td><td>1</td></tr>",
                            "<tr><td>1171</td><td>eszter2</td><td>172</td><td>2016-10-20</td><td>2016-10-25</td><td>1</td><td>0</td><td>1</td><td>Balogh Eszter</td><td>1</td></tr>",
                            "<tr><td>1187</td><td>eszter2</td><td>46</td><td>2016-10-23</td><td>2016-10-30</td><td>1</td><td>0</td><td>1</td><td>Balogh Eszter</td><td>1</td></tr>",
                            "<tr><td>1336</td><td>eszter2</td><td>172</td><td>2016-12-02</td><td>2016-12-07</td><td>1</td><td>0</td><td>1</td><td>Balogh Eszter</td><td>1</td></tr>",
                            "<tr><td>1480</td><td>eszter2</td><td>35</td><td>2016-12-29</td><td>2017-02-04</td><td>1</td><td>0</td><td>1</td><td>Balogh Eszter</td><td>1</td></tr>",
                            "<tr><td>652</td><td>maria1</td><td>149</td><td>2016-05-18</td><td>2016-05-19</td><td>1</td><td>0</td><td>1</td><td>Baráth Mária</td><td>NULL</td></tr>",
                            "<tr><td>981</td><td>maria1</td><td>171</td><td>2016-06-23</td><td>2016-06-27</td><td>1</td><td>0</td><td>1</td><td>Baráth Mária</td><td>1</td></tr>",
                            "<tr><td>846</td><td>maria1</td><td>45</td><td>2016-09-02</td><td>2016-09-05</td><td>1</td><td>0</td><td>1</td><td>Baráth Mária</td><td>1</td></tr>",
                            "<tr><td>1504</td><td>adam3</td><td>57</td><td>2017-02-06</td><td>2017-02-10</td><td>1</td><td>0</td><td>1</td><td>Barkóci Ádám</td><td>NULL</td></tr>",
                            "<tr><td>893</td><td>zoltan4</td><td>151</td><td>2016-06-03</td><td>2016-06-06</td><td>1</td><td>0</td><td>1</td><td>Barna Zoltán</td><td>NULL</td></tr>",
                            "<tr><td>779</td><td>zoltan4</td><td>130</td><td>2016-08-15</td><td>2016-08-21</td><td>1</td><td>0</td><td>1</td><td>Barna Zoltán</td><td>1</td></tr>",
                            "<tr><td>1230</td><td>zoltan4</td><td>182</td><td>2016-10-30</td><td>2016-11-06</td><td>1</td><td>0</td><td>1</td><td>Barna Zoltán</td><td>1</td></tr>",
                            "<tr><td>1403</td><td>zoltan4</td><td>124</td><td>2016-12-29</td><td>2017-01-04</td><td>1</td><td>0</td><td>1</td><td>Barna Zoltán</td><td>1</td></tr>",
                            "<tr><td>1428</td><td>zsuzsanna</td><td>126</td><td>2017-01-09</td><td>2017-01-16</td><td>1</td><td>0</td><td>1</td><td>Barta Zsuzsanna</td><td>NULL</td></tr>",
                            "<tr><td>562</td><td>PETERB</td><td>7</td><td>2016-04-06</td><td>2016-04-10</td><td>1</td><td>0</td><td>1</td><td>Berendi Péter</td><td>NULL</td></tr>",
                            "<tr><td>781</td><td>PETERB</td><td>166</td><td>2016-08-16</td><td>2016-08-23</td><td>1</td><td>0</td><td>1</td><td>Berendi Péter</td><td>1</td></tr>",
                            "<tr><td>1252</td><td>norbert5</td><td>7</td><td>2016-11-05</td><td>2016-11-07</td><td>1</td><td>0</td><td>1</td><td>Béres Norbert</td><td>NULL</td></tr>",
                            "<tr><td>705</td><td>akos</td><td>37</td><td>2016-07-22</td><td>2016-07-26</td><td>1</td><td>0</td><td>1</td><td>Bíró Ákos</td><td>NULL</td></tr>",
                            "<tr><td>1034</td><td>akos</td><td>127</td><td>2016-09-06</td><td>2016-09-12</td><td>1</td><td>0</td><td>1</td><td>Bíró Ákos</td><td>1</td></tr>",
                            "<tr><td>648</td><td>krisztina1</td><td>157</td><td>2016-05-16</td><td>2016-05-20</td><td>1</td><td>0</td><td>1</td><td>Bori Krisztina</td><td>NULL</td></tr>",
                            "<tr><td>1103</td><td>vivien3</td><td>87</td><td>2016-10-01</td><td>2016-10-04</td><td>1</td><td>0</td><td>1</td><td>Boros Vivien</td><td>NULL</td></tr>",
                            "<tr><td>1001</td><td>aniko4</td><td>4</td><td>2016-07-02</td><td>2016-07-09</td><td>1</td><td>0</td><td>1</td><td>Böröcz Anikó</td><td>NULL</td></tr>",
                            "<tr><td>787</td><td>krisztian4</td><td>50</td><td>2016-08-16</td><td>2016-08-19</td><td>1</td><td>0</td><td>1</td><td>Czérna Krisztián</td><td>NULL</td></tr>",
                            "<tr><td>834</td><td>krisztian4</td><td>149</td><td>2016-08-29</td><td>2016-09-03</td><td>1</td><td>0</td><td>1</td><td>Czérna Krisztián</td><td>1</td></tr>",
                            "<tr><td>1422</td><td>krisztian4</td><td>182</td><td>2017-01-06</td><td>2017-01-09</td><td>1</td><td>0</td><td>1</td><td>Czérna Krisztián</td><td>1</td></tr>",
                            "<tr><td>974</td><td>bertalan</td><td>169</td><td>2016-06-20</td><td>2016-06-21</td><td>1</td><td>0</td><td>1</td><td>Csiger Bertalan</td><td>NULL</td></tr>",
                            "<tr><td>1154</td><td>attila</td><td>115</td><td>2016-10-15</td><td>2016-10-19</td><td>1</td><td>0</td><td>1</td><td>Csóti Attila</td><td>NULL</td></tr>",
                            "<tr><td>651</td><td>aladar</td><td>4</td><td>2016-05-17</td><td>2016-05-24</td><td>1</td><td>0</td><td>1</td><td>Dunai Aladár</td><td>NULL</td></tr>",
                            "<tr><td>1079</td><td>aladar</td><td>86</td><td>2016-09-24</td><td>2016-09-28</td><td>1</td><td>0</td><td>1</td><td>Dunai Aladár</td><td>1</td></tr>",
                            "<tr><td>600</td><td>ANDRASE</td><td>190</td><td>2016-04-24</td><td>2016-05-01</td><td>1</td><td>0</td><td>1</td><td>Erdei András</td><td>NULL</td></tr>",
                            "<tr><td>1350</td><td>BELAF</td><td>173</td><td>2016-12-06</td><td>2016-12-09</td><td>1</td><td>0</td><td>1</td><td>Farkas Béla</td><td>NULL</td></tr>",
                            "<tr><td>858</td><td>sandor3</td><td>121</td><td>2016-05-25</td><td>2016-05-30</td><td>1</td><td>0</td><td>1</td><td>Farkas Sándor</td><td>NULL</td></tr>",
                            "<tr><td>1351</td><td>sara</td><td>38</td><td>2016-12-06</td><td>2016-12-10</td><td>1</td><td>0</td><td>1</td><td>Farkas Sára</td><td>NULL</td></tr>",
                            "<tr><td>1338</td><td>TAMASF</td><td>145</td><td>2016-12-02</td><td>2016-12-04</td><td>1</td><td>0</td><td>1</td><td>Fényes Tamás</td><td>NULL</td></tr>",
                            "<tr><td>1384</td><td>roland1</td><td>84</td><td>2016-12-22</td><td>2016-12-29</td><td>1</td><td>0</td><td>1</td><td>Ferencz Roland</td><td>NULL</td></tr>",
                            "<tr><td>709</td><td>valentin</td><td>172</td><td>2016-07-24</td><td>2016-07-29</td><td>1</td><td>0</td><td>1</td><td>Feró Valentin</td><td>NULL</td></tr>",
                            "<tr><td>1366</td><td>fruzsina4</td><td>81</td><td>2016-12-16</td><td>2016-12-21</td><td>1</td><td>0</td><td>1</td><td>Frank Fruzsina</td><td>NULL</td></tr>",
                            "<tr><td>631</td><td>JANOSG</td><td>98</td><td>2016-05-09</td><td>2016-05-15</td><td>1</td><td>0</td><td>1</td><td>Giliga János</td><td>NULL</td></tr>",
                            "<tr><td>1251</td><td>tibor</td><td>184</td><td>2016-11-05</td><td>2016-11-09</td><td>1</td><td>0</td><td>1</td><td>Gombos Tibor</td><td>NULL</td></tr>",
                            "<tr><td>601</td><td>kata</td><td>39</td><td>2016-04-25</td><td>2016-05-01</td><td>1</td><td>0</td><td>1</td><td>Gondos Katalin</td><td>NULL</td></tr>",
                            "<tr><td>1006</td><td>kata</td><td>70</td><td>2016-07-03</td><td>2016-07-06</td><td>1</td><td>0</td><td>1</td><td>Gondos Katalin</td><td>1</td></tr>",
                            "<tr><td>1134</td><td>miklos2</td><td>126</td><td>2016-10-08</td><td>2016-10-09</td><td>1</td><td>0</td><td>1</td><td>Gondos Miklós</td><td>NULL</td></tr>",
                            "<tr><td>657</td><td>attila1</td><td>137</td><td>2016-05-20</td><td>2016-05-26</td><td>1</td><td>0</td><td>1</td><td>Gulyás Attila</td><td>NULL</td></tr>",
                            "<tr><td>854</td><td>KRISZTINAG</td><td>167</td><td>2016-05-24</td><td>2016-05-31</td><td>1</td><td>0</td><td>1</td><td>Gyárfás Krisztina</td><td>NULL</td></tr>",
                            "<tr><td>935</td><td>KRISZTINAG</td><td>56</td><td>2016-06-08</td><td>2016-06-12</td><td>1</td><td>0</td><td>1</td><td>Gyárfás Krisztina</td><td>1</td></tr>",
                            "<tr><td>872</td><td>bence</td><td>28</td><td>2016-05-29</td><td>2016-06-03</td><td>1</td><td>0</td><td>1</td><td>Győrffy Bence</td><td>NULL</td></tr>",
                            "<tr><td>852</td><td>JOZSEFG</td><td>24</td><td>2016-05-23</td><td>2016-05-25</td><td>1</td><td>0</td><td>1</td><td>Gyuris József</td><td>NULL</td></tr>",
                            "<tr><td>1461</td><td>JOZSEFG</td><td>77</td><td>2017-01-22</td><td>2017-01-26</td><td>1</td><td>0</td><td>1</td><td>Gyuris József</td><td>1</td></tr>",
                            "<tr><td>904</td><td>janos3</td><td>34</td><td>2016-06-04</td><td>2016-06-06</td><td>1</td><td>0</td><td>1</td><td>Harangozó János</td><td>NULL</td></tr>",
                            "<tr><td>1177</td><td>janos3</td><td>150</td><td>2016-10-22</td><td>2016-10-23</td><td>1</td><td>0</td><td>1</td><td>Harangozó János</td><td>1</td></tr>",
                            "<tr><td>755</td><td>agnes3</td><td>20</td><td>2016-08-04</td><td>2016-08-10</td><td>1</td><td>0</td><td>1</td><td>Hartyánszky Ágnes</td><td>NULL</td></tr>",
                            "<tr><td>587</td><td>norbert2</td><td>123</td><td>2016-04-19</td><td>2016-04-26</td><td>1</td><td>0</td><td>1</td><td>Hegedűs Norbert</td><td>NULL</td></tr>",
                            "<tr><td>782</td><td>norbert2</td><td>163</td><td>2016-08-16</td><td>2016-08-19</td><td>1</td><td>0</td><td>1</td><td>Hegedűs Norbert</td><td>1</td></tr>",
                            "<tr><td>1379</td><td>JUDITH</td><td>83</td><td>2016-12-19</td><td>2016-12-26</td><td>1</td><td>0</td><td>1</td><td>Hídasi Judit</td><td>NULL</td></tr>",
                            "<tr><td>980</td><td>AGNESH</td><td>143</td><td>2016-06-23</td><td>2016-06-26</td><td>1</td><td>0</td><td>1</td><td>Horváth Ágnes</td><td>NULL</td></tr>",
                            "<tr><td>1225</td><td>AGNESH</td><td>69</td><td>2016-10-30</td><td>2016-11-04</td><td>1</td><td>0</td><td>1</td><td>Horváth Ágnes</td><td>1</td></tr>",
                            "<tr><td>1056</td><td>ARPADH</td><td>47</td><td>2016-09-16</td><td>2016-09-23</td><td>1</td><td>0</td><td>1</td><td>Horváth Árpád</td><td>NULL</td></tr>",
                            "<tr><td>1066</td><td>ARPADH</td><td>49</td><td>2016-09-18</td><td>2016-09-25</td><td>1</td><td>0</td><td>1</td><td>Horváth Árpád</td><td>1</td></tr>",
                            "<tr><td>1342</td><td>ARPADH</td><td>170</td><td>2016-12-04</td><td>2016-12-10</td><td>1</td><td>0</td><td>1</td><td>Horváth Árpád</td><td>1</td></tr>",
                            "<tr><td>661</td><td>katalin</td><td>136</td><td>2016-05-21</td><td>2016-05-26</td><td>1</td><td>0</td><td>1</td><td>Horváth Katalin</td><td>NULL</td></tr>",
                            "<tr><td>1015</td><td>katalin</td><td>174</td><td>2016-07-06</td><td>2016-07-11</td><td>1</td><td>0</td><td>1</td><td>Horváth Katalin</td><td>1</td></tr>",
                            "<tr><td>733</td><td>katalin</td><td>140</td><td>2016-07-28</td><td>2016-07-29</td><td>1</td><td>0</td><td>1</td><td>Horváth Katalin</td><td>1</td></tr>",
                            "<tr><td>1372</td><td>katalin</td><td>106</td><td>2016-12-17</td><td>2016-12-24</td><td>1</td><td>0</td><td>1</td><td>Horváth Katalin</td><td>1</td></tr>",
                            "<tr><td>897</td><td>nikolett3</td><td>165</td><td>2016-06-03</td><td>2016-06-09</td><td>1</td><td>0</td><td>1</td><td>Horváth Nikolett</td><td>NULL</td></tr>",
                            "<tr><td>976</td><td>nikolett3</td><td>76</td><td>2016-06-22</td><td>2016-06-24</td><td>1</td><td>0</td><td>1</td><td>Horváth Nikolett</td><td>1</td></tr>",
                            "<tr><td>1186</td><td>ROBERTI</td><td>58</td><td>2016-10-23</td><td>2016-10-29</td><td>1</td><td>0</td><td>1</td><td>Iván Róbert</td><td>NULL</td></tr>",
                            "<tr><td>867</td><td>ZSOLTJ</td><td>175</td><td>2016-05-28</td><td>2016-06-03</td><td>1</td><td>0</td><td>1</td><td>Józsa Zsolt</td><td>NULL</td></tr>",
                            "<tr><td>990</td><td>MIHALYJ</td><td>6</td><td>2016-06-27</td><td>2016-07-01</td><td>1</td><td>0</td><td>1</td><td>Juhász Mihály</td><td>NULL</td></tr>",
                            "<tr><td>839</td><td>MIHALYJ</td><td>172</td><td>2016-08-29</td><td>2016-09-03</td><td>1</td><td>0</td><td>1</td><td>Juhász Mihály</td><td>1</td></tr>",
                            "<tr><td>620</td><td>marton</td><td>1</td><td>2016-05-05</td><td>2016-05-10</td><td>1</td><td>0</td><td>1</td><td>Kalacsi Márton</td><td>NULL</td></tr>",
                            "<tr><td>1224</td><td>RENATAK</td><td>50</td><td>2016-10-30</td><td>2016-10-31</td><td>1</td><td>0</td><td>1</td><td>Kardos Renáta</td><td>NULL</td></tr>",
                            "<tr><td>1312</td><td>RENATAK</td><td>94</td><td>2016-11-23</td><td>2016-11-26</td><td>1</td><td>0</td><td>1</td><td>Kardos Renáta</td><td>1</td></tr>",
                            "<tr><td>1543</td><td>RENATAK</td><td>95</td><td>2017-02-16</td><td>2017-02-23</td><td>1</td><td>0</td><td>1</td><td>Kardos Renáta</td><td>1</td></tr>",
                            "<tr><td>1581</td><td>RENATAK</td><td>48</td><td>2017-03-01</td><td>2017-03-06</td><td>1</td><td>0</td><td>1</td><td>Kardos Renáta</td><td>1</td></tr>",
                            "<tr><td>881</td><td>tihamer</td><td>131</td><td>2016-05-30</td><td>2016-06-05</td><td>1</td><td>0</td><td>1</td><td>Kazy Tihamér</td><td>NULL</td></tr>",
                            "<tr><td>997</td><td>katalin4</td><td>82</td><td>2016-07-01</td><td>2016-07-07</td><td>1</td><td>0</td><td>1</td><td>Kertész Katalin</td><td>NULL</td></tr>",
                            "<tr><td>1172</td><td>mark</td><td>197</td><td>2016-10-20</td><td>2016-10-27</td><td>1</td><td>0</td><td>1</td><td>Kispál Márk</td><td>NULL</td></tr>",
                            "<tr><td>803</td><td>adam1</td><td>1</td><td>2016-08-20</td><td>2016-08-24</td><td>1</td><td>0</td><td>1</td><td>Kiss Ádám</td><td>NULL</td></tr>",
                            "<tr><td>1523</td><td>lajos</td><td>11</td><td>2017-02-12</td><td>2017-02-13</td><td>1</td><td>0</td><td>1</td><td>Kiss Lajos</td><td>NULL</td></tr>",
                            "<tr><td>799</td><td>andras41</td><td>175</td><td>2016-08-19</td><td>2016-08-23</td><td>1</td><td>0</td><td>1</td><td>Komjáti András</td><td>NULL</td></tr>",
                            "<tr><td>1074</td><td>andras41</td><td>195</td><td>2016-09-22</td><td>2016-09-29</td><td>1</td><td>0</td><td>1</td><td>Komjáti András</td><td>1</td></tr>",
                            "<tr><td>1308</td><td>andras41</td><td>182</td><td>2016-11-23</td><td>2016-11-24</td><td>1</td><td>0</td><td>1</td><td>Komjáti András</td><td>1</td></tr>",
                            "<tr><td>945</td><td>GYONGYIK</td><td>23</td><td>2016-06-10</td><td>2016-06-17</td><td>1</td><td>0</td><td>1</td><td>Kornseé Gyöngyi</td><td>NULL</td></tr>",
                            "<tr><td>1367</td><td>bernadett2</td><td>80</td><td>2016-12-17</td><td>2016-12-20</td><td>1</td><td>0</td><td>1</td><td>Kovács Bernadett</td><td>NULL</td></tr>",
                            "<tr><td>954</td><td>katka</td><td>84</td><td>2016-06-13</td><td>2016-06-18</td><td>1</td><td>0</td><td>1</td><td>Kovács Katalin</td><td>NULL</td></tr>",
                            "<tr><td>1026</td><td>gabor1</td><td>119</td><td>2016-07-12</td><td>2016-07-15</td><td>1</td><td>0</td><td>1</td><td>Köves Gábor</td><td>NULL</td></tr>",
                            "<tr><td>1169</td><td>gabor1</td><td>93</td><td>2016-10-20</td><td>2016-10-24</td><td>1</td><td>0</td><td>1</td><td>Köves Gábor</td><td>1</td></tr>",
                            "<tr><td>1250</td><td>emese</td><td>107</td><td>2016-11-05</td><td>2016-11-09</td><td>1</td><td>0</td><td>1</td><td>Kuruc Emese</td><td>NULL</td></tr>",
                            "<tr><td>857</td><td>agnes</td><td>165</td><td>2016-05-25</td><td>2016-05-30</td><td>1</td><td>0</td><td>1</td><td>Lengyel Ágnes</td><td>NULL</td></tr>",
                            "<tr><td>955</td><td>andi</td><td>47</td><td>2016-06-13</td><td>2016-06-14</td><td>1</td><td>0</td><td>1</td><td>Maródi Andrea</td><td>NULL</td></tr>",
                            "<tr><td>1541</td><td>norbert4</td><td>155</td><td>2017-02-16</td><td>2017-02-17</td><td>1</td><td>0</td><td>1</td><td>Mile Norbert</td><td>NULL</td></tr>",
                            "<tr><td>1443</td><td>KRISZTIANM</td><td>81</td><td>2017-01-16</td><td>2017-01-23</td><td>1</td><td>0</td><td>1</td><td>Mogyródi Krisztián</td><td>NULL</td></tr>",
                            "<tr><td>708</td><td>MONIKAM</td><td>106</td><td>2016-07-23</td><td>2016-07-30</td><td>1</td><td>0</td><td>1</td><td>Mohos Mónika</td><td>NULL</td></tr>",
                            "<tr><td>1450</td><td>MONIKAM</td><td>139</td><td>2017-01-17</td><td>2017-01-24</td><td>1</td><td>0</td><td>1</td><td>Mohos Mónika</td><td>1</td></tr>",
                            "<tr><td>697</td><td>andras21</td><td>12</td><td>2016-07-20</td><td>2016-07-22</td><td>1</td><td>0</td><td>1</td><td>Molnár András</td><td>NULL</td></tr>",
                            "<tr><td>948</td><td>balint1</td><td>19</td><td>2016-06-10</td><td>2016-06-12</td><td>1</td><td>0</td><td>1</td><td>Molnár Bálint</td><td>NULL</td></tr>",
                            "<tr><td>1057</td><td>balint1</td><td>86</td><td>2016-09-16</td><td>2016-09-21</td><td>1</td><td>0</td><td>1</td><td>Molnár Bálint</td><td>1</td></tr>",
                            "<tr><td>1420</td><td>ARPADM</td><td>198</td><td>2017-01-05</td><td>2017-01-10</td><td>1</td><td>0</td><td>1</td><td>Móricz Árpád</td><td>NULL</td></tr>",
                            "<tr><td>818</td><td>henrik3</td><td>8</td><td>2016-08-24</td><td>2016-08-28</td><td>1</td><td>0</td><td>1</td><td>Nádudvari Henrik</td><td>NULL</td></tr>",
                            "<tr><td>1258</td><td>julia4</td><td>52</td><td>2016-11-07</td><td>2016-11-12</td><td>1</td><td>0</td><td>1</td><td>Nagy Júlia</td><td>NULL</td></tr>",
                            "<tr><td>892</td><td>LASZLON</td><td>165</td><td>2016-06-03</td><td>2016-06-06</td><td>1</td><td>0</td><td>1</td><td>Nagy László</td><td>NULL</td></tr>",
                            "<tr><td>1136</td><td>LASZLON</td><td>30</td><td>2016-10-09</td><td>2016-10-14</td><td>1</td><td>0</td><td>1</td><td>Nagy László</td><td>1</td></tr>",
                            "<tr><td>1329</td><td>LASZLON</td><td>171</td><td>2016-11-29</td><td>2016-12-04</td><td>1</td><td>0</td><td>1</td><td>Nagy László</td><td>1</td></tr>",
                            "<tr><td>1156</td><td>sandor4</td><td>140</td><td>2016-10-15</td><td>2016-10-18</td><td>1</td><td>0</td><td>1</td><td>Nagy Sándor</td><td>NULL</td></tr>",
                            "<tr><td>1339</td><td>sandor4</td><td>120</td><td>2016-12-03</td><td>2016-12-09</td><td>1</td><td>0</td><td>1</td><td>Nagy Sándor</td><td>1</td></tr>",
                            "<tr><td>860</td><td>andrea4</td><td>70</td><td>2016-05-27</td><td>2016-05-29</td><td>1</td><td>0</td><td>1</td><td>Neizer Andrea</td><td>NULL</td></tr>",
                            "<tr><td>1213</td><td>GYORGYO</td><td>91</td><td>2016-10-28</td><td>2016-10-31</td><td>1</td><td>0</td><td>1</td><td>Oroszi György</td><td>NULL</td></tr>",
                            "<tr><td>1374</td><td>robert2</td><td>118</td><td>2016-12-17</td><td>2016-12-22</td><td>1</td><td>0</td><td>1</td><td>Patay Róbert</td><td>NULL</td></tr>",
                            "<tr><td>845</td><td>eva2</td><td>63</td><td>2016-09-02</td><td>2016-09-03</td><td>1</td><td>0</td><td>1</td><td>Perlinger Éva</td><td>NULL</td></tr>",
                            "<tr><td>567</td><td>anett3</td><td>170</td><td>2016-04-10</td><td>2016-04-17</td><td>1</td><td>0</td><td>1</td><td>Pivarcsi Anett</td><td>NULL</td></tr>",
                            "<tr><td>1159</td><td>anett3</td><td>73</td><td>2016-10-16</td><td>2016-10-21</td><td>1</td><td>0</td><td>1</td><td>Pivarcsi Anett</td><td>1</td></tr>",
                            "<tr><td>1430</td><td>daniel</td><td>12</td><td>2017-01-09</td><td>2017-01-11</td><td>1</td><td>0</td><td>1</td><td>Rácz Dániel</td><td>NULL</td></tr>",
                            "<tr><td>684</td><td>ANNAMARIAR</td><td>184</td><td>2016-07-18</td><td>2016-07-21</td><td>1</td><td>0</td><td>1</td><td>Regős Annamária</td><td>NULL</td></tr>",
                            "<tr><td>965</td><td>ANIKOS</td><td>5</td><td>2016-06-16</td><td>2016-06-23</td><td>1</td><td>0</td><td>1</td><td>Simon Anikó</td><td>NULL</td></tr>",
                            "<tr><td>1568</td><td>bernadett1</td><td>29</td><td>2017-02-24</td><td>2017-03-03</td><td>1</td><td>0</td><td>1</td><td>Simon Bernadett</td><td>NULL</td></tr>",
                            "<tr><td>1396</td><td>peter3</td><td>72</td><td>2016-12-25</td><td>2016-12-28</td><td>1</td><td>0</td><td>1</td><td>Szalai Péter</td><td>NULL</td></tr>",
                            "<tr><td>1434</td><td>peter3</td><td>3</td><td>2017-01-12</td><td>2017-01-17</td><td>1</td><td>0</td><td>1</td><td>Szalai Péter</td><td>1</td></tr>",
                            "<tr><td>1508</td><td>SZILARDS</td><td>191</td><td>2017-02-08</td><td>2017-02-15</td><td>1</td><td>0</td><td>1</td><td>Szalai Szilárd</td><td>NULL</td></tr>",
                            "<tr><td>1048</td><td>krisztina</td><td>95</td><td>2016-09-13</td><td>2016-09-16</td><td>1</td><td>0</td><td>1</td><td>Szedlár Krisztina</td><td>NULL</td></tr>",
                            "<tr><td>1306</td><td>krisztina</td><td>133</td><td>2016-11-22</td><td>2016-11-25</td><td>1</td><td>0</td><td>1</td><td>Szedlár Krisztina</td><td>1</td></tr>",
                            "<tr><td>1469</td><td>brigitta</td><td>13</td><td>2017-01-23</td><td>2017-01-25</td><td>1</td><td>0</td><td>1</td><td>Székely Brigitta</td><td>NULL</td></tr>",
                            "<tr><td>586</td><td>BEATRIXS</td><td>107</td><td>2016-04-18</td><td>2016-04-24</td><td>1</td><td>0</td><td>1</td><td>Szekendi Beatrix</td><td>NULL</td></tr>",
                            "<tr><td>891</td><td>MATYASS</td><td>63</td><td>2016-06-02</td><td>2016-06-08</td><td>1</td><td>0</td><td>1</td><td>Szilágyi Mátyás</td><td>NULL</td></tr>",
                            "<tr><td>1190</td><td>MATYASS</td><td>161</td><td>2016-10-24</td><td>2016-10-31</td><td>1</td><td>0</td><td>1</td><td>Szilágyi Mátyás</td><td>1</td></tr>",
                            "<tr><td>1529</td><td>RENATAS</td><td>35</td><td>2017-02-13</td><td>2017-02-17</td><td>1</td><td>0</td><td>1</td><td>Szirmai Renáta</td><td>NULL</td></tr>",
                            "<tr><td>1578</td><td>balazs2</td><td>148</td><td>2017-02-27</td><td>2017-03-06</td><td>1</td><td>0</td><td>1</td><td>Szűcs Balázs</td><td>NULL</td></tr>",
                            "<tr><td>1018</td><td>norbert</td><td>40</td><td>2016-07-08</td><td>2016-07-13</td><td>1</td><td>0</td><td>1</td><td>Szűcs Norbert</td><td>NULL</td></tr>",
                            "<tr><td>1576</td><td>norbert</td><td>189</td><td>2017-02-26</td><td>2017-03-01</td><td>1</td><td>0</td><td>1</td><td>Szűcs Norbert</td><td>1</td></tr>",
                            "<tr><td>790</td><td>veronika4</td><td>10</td><td>2016-08-16</td><td>2016-08-21</td><td>1</td><td>0</td><td>1</td><td>Tankó Veronika</td><td>NULL</td></tr>",
                            "<tr><td>878</td><td>gabor4</td><td>83</td><td>2016-05-30</td><td>2016-06-05</td><td>1</td><td>0</td><td>1</td><td>Telek Gábor</td><td>NULL</td></tr>",
                            "<tr><td>884</td><td>andras2</td><td>98</td><td>2016-05-30</td><td>2016-06-04</td><td>1</td><td>0</td><td>1</td><td>Tóth András</td><td>NULL</td></tr>",
                            "<tr><td>638</td><td>julia</td><td>67</td><td>2016-05-12</td><td>2016-05-17</td><td>1</td><td>0</td><td>1</td><td>Tóth Júlia</td><td>NULL</td></tr>",
                            "<tr><td>669</td><td>tunde</td><td>173</td><td>2016-07-14</td><td>2016-07-21</td><td>1</td><td>0</td><td>1</td><td>Turcsik Tünde</td><td>NULL</td></tr>",
                            "<tr><td>610</td><td>VIKTORIAU</td><td>106</td><td>2016-04-30</td><td>2016-05-03</td><td>1</td><td>0</td><td>1</td><td>Urbán Viktoria</td><td>NULL</td></tr>",
                            "<tr><td>1202</td><td>ZSUZSAV</td><td>52</td><td>2016-10-26</td><td>2016-10-28</td><td>1</td><td>0</td><td>1</td><td>Vajda Zsuzsa</td><td>NULL</td></tr>",
                            "<tr><td>880</td><td>andras3</td><td>184</td><td>2016-05-30</td><td>2016-06-03</td><td>1</td><td>0</td><td>1</td><td>Vígh András</td><td>NULL</td></tr>",
                            "<tr><td>949</td><td>andras3</td><td>1</td><td>2016-06-10</td><td>2016-06-11</td><td>1</td><td>0</td><td>1</td><td>Vígh András</td><td>1</td></tr>",
                            "<tr><td>689</td><td>istvan1</td><td>102</td><td>2016-07-19</td><td>2016-07-24</td><td>1</td><td>0</td><td>1</td><td>Vizi István</td><td>NULL</td></tr>",
                            "<tr><td>1102</td><td>dani</td><td>108</td><td>2016-10-01</td><td>2016-10-02</td><td>1</td><td>0</td><td>1</td><td>Vörös Dániel</td><td>NULL</td></tr>",
                            "<tr><td>1466</td><td>dani</td><td>57</td><td>2017-01-22</td><td>2017-01-29</td><td>1</td><td>0</td><td>1</td><td>Vörös Dániel</td><td>1</td></tr>",
                            "<tr><td>702</td><td>balint2</td><td>62</td><td>2016-07-21</td><td>2016-07-26</td><td>1</td><td>0</td><td>1</td><td>Vukasinovity Bálint</td><td>NULL</td></tr>",
                            "</table>"
                        ]
                    }
                }
            ],
            "execution_count": 56
        }
    ]
}