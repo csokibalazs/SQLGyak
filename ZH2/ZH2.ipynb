{
    "metadata": {
        "kernelspec": {
            "name": "SQL",
            "display_name": "SQL",
            "language": "sql"
        },
        "language_info": {
            "name": "sql",
            "version": ""
        }
    },
    "nbformat_minor": 2,
    "nbformat": 4,
    "cells": [
        {
            "cell_type": "markdown",
            "source": [
                "Készítsünk listát az egyes szálláshelyek átlagos csillagszámáról típus, illetve hely szerint csoportosítva (külön-külön)!\n",
                "\n",
                "- Az átlag 2 tizedesre kerekítve jelenjen meg\n",
                "- Hagyjuk ki azokat a szálláshelyeket, amelyek nevében kötőjel (-) van!"
            ],
            "metadata": {
                "azdata_cell_guid": "3d89ffea-58d8-4001-a7ad-bfcc8f433367"
            },
            "attachments": {}
        },
        {
            "cell_type": "code",
            "source": [
                "SELECT TIPUS,\r\n",
                "        HELY,\r\n",
                "        ROUND(AVG(CSILLAGOK_SZAMA), 2)  AS 'Átlag'\r\n",
                "FROM Szallashely\r\n",
                "WHERE SZALLAS_NEV NOT LIKE '%-%'\r\n",
                "GROUP BY GROUPING SETS((TIPUS), (HELY))"
            ],
            "metadata": {
                "azdata_cell_guid": "830c471f-e757-4eb5-b51c-a31f895ba1fb",
                "language": "sql"
            },
            "outputs": [
                {
                    "output_type": "display_data",
                    "data": {
                        "text/html": "(14 rows affected)"
                    },
                    "metadata": {}
                },
                {
                    "output_type": "display_data",
                    "data": {
                        "text/html": "Total execution time: 00:00:00.003"
                    },
                    "metadata": {}
                },
                {
                    "output_type": "execute_result",
                    "metadata": {},
                    "execution_count": 19,
                    "data": {
                        "application/vnd.dataresource+json": {
                            "schema": {
                                "fields": [
                                    {
                                        "name": "TIPUS"
                                    },
                                    {
                                        "name": "HELY"
                                    },
                                    {
                                        "name": "Átlag"
                                    }
                                ]
                            },
                            "data": [
                                {
                                    "TIPUS": "NULL",
                                    "HELY": "Balaton-dél",
                                    "Átlag": "2"
                                },
                                {
                                    "TIPUS": "NULL",
                                    "HELY": "Balaton-észak",
                                    "Átlag": "0"
                                },
                                {
                                    "TIPUS": "NULL",
                                    "HELY": "Békés megye",
                                    "Átlag": "3"
                                },
                                {
                                    "TIPUS": "NULL",
                                    "HELY": "Budapest",
                                    "Átlag": "2"
                                },
                                {
                                    "TIPUS": "NULL",
                                    "HELY": "Csongrád megye",
                                    "Átlag": "1"
                                },
                                {
                                    "TIPUS": "NULL",
                                    "HELY": "Dél-Somogy",
                                    "Átlag": "0"
                                },
                                {
                                    "TIPUS": "NULL",
                                    "HELY": "Hajdúbihar megye",
                                    "Átlag": "0"
                                },
                                {
                                    "TIPUS": "NULL",
                                    "HELY": "Pest megye",
                                    "Átlag": "3"
                                },
                                {
                                    "TIPUS": "NULL",
                                    "HELY": "Tolna megye",
                                    "Átlag": "4"
                                },
                                {
                                    "TIPUS": "Apartman",
                                    "HELY": "NULL",
                                    "Átlag": "0"
                                },
                                {
                                    "TIPUS": "Diákszálló",
                                    "HELY": "NULL",
                                    "Átlag": "0"
                                },
                                {
                                    "TIPUS": "Hotel",
                                    "HELY": "NULL",
                                    "Átlag": "3"
                                },
                                {
                                    "TIPUS": "panzió",
                                    "HELY": "NULL",
                                    "Átlag": "3"
                                },
                                {
                                    "TIPUS": "vendégház",
                                    "HELY": "NULL",
                                    "Átlag": "0"
                                }
                            ]
                        },
                        "text/html": [
                            "<table>",
                            "<tr><th>TIPUS</th><th>HELY</th><th>Átlag</th></tr>",
                            "<tr><td>NULL</td><td>Balaton-dél</td><td>2</td></tr>",
                            "<tr><td>NULL</td><td>Balaton-észak</td><td>0</td></tr>",
                            "<tr><td>NULL</td><td>Békés megye</td><td>3</td></tr>",
                            "<tr><td>NULL</td><td>Budapest</td><td>2</td></tr>",
                            "<tr><td>NULL</td><td>Csongrád megye</td><td>1</td></tr>",
                            "<tr><td>NULL</td><td>Dél-Somogy</td><td>0</td></tr>",
                            "<tr><td>NULL</td><td>Hajdúbihar megye</td><td>0</td></tr>",
                            "<tr><td>NULL</td><td>Pest megye</td><td>3</td></tr>",
                            "<tr><td>NULL</td><td>Tolna megye</td><td>4</td></tr>",
                            "<tr><td>Apartman</td><td>NULL</td><td>0</td></tr>",
                            "<tr><td>Diákszálló</td><td>NULL</td><td>0</td></tr>",
                            "<tr><td>Hotel</td><td>NULL</td><td>3</td></tr>",
                            "<tr><td>panzió</td><td>NULL</td><td>3</td></tr>",
                            "<tr><td>vendégház</td><td>NULL</td><td>0</td></tr>",
                            "</table>"
                        ]
                    }
                }
            ],
            "execution_count": 19
        },
        {
            "cell_type": "markdown",
            "source": [
                "Készítsük listát, amely a szobák azonosítóit és a hozzájuk tartozó foglalások azonosítóját és időtartalmát (napokban) jeleníti meg!\n",
                "\n",
                "- Egy új oszlopban jelenítsük meg az adott szoba időben előző foglalásának időtartamát is!\n",
                "- Ha nincs előző, akkor 0 jelenjen meg"
            ],
            "metadata": {
                "azdata_cell_guid": "251a1e8b-2caa-4e81-af9a-bfc60646a145"
            },
            "attachments": {}
        },
        {
            "cell_type": "code",
            "source": [
                "SELECT SZOBA_ID, FOGLALAS_PK, DATEDIFF(DAY, METTOL, MEDDIG) AS 'Napok száma', SUM(DATEDIFF(DAY, METTOL, MEDDIG)) OVER (PARTITION BY SZOBA_ID ORDER BY METTOL ROWS BETWEEN UNBOUNDED PRECEDING AND 1 PRECEDING)\r\n",
                "FROM Szoba JOIN Foglalas ON SZOBA_FK = SZOBA_ID"
            ],
            "metadata": {
                "azdata_cell_guid": "30321919-7d51-42ac-9e8c-5af966450bda",
                "language": "sql"
            },
            "outputs": [
                {
                    "output_type": "display_data",
                    "data": {
                        "text/html": "(1027 rows affected)"
                    },
                    "metadata": {}
                },
                {
                    "output_type": "display_data",
                    "data": {
                        "text/html": "Total execution time: 00:00:00.065"
                    },
                    "metadata": {}
                },
                {
                    "output_type": "execute_result",
                    "metadata": {},
                    "execution_count": 32,
                    "data": {
                        "application/vnd.dataresource+json": {
                            "schema": {
                                "fields": [
                                    {
                                        "name": "SZOBA_ID"
                                    },
                                    {
                                        "name": "FOGLALAS_PK"
                                    },
                                    {
                                        "name": "Napok száma"
                                    },
                                    {
                                        "name": "(No column name)"
                                    }
                                ]
                            },
                            "data": [
                                {
                                    "SZOBA_ID": "1",
                                    "FOGLALAS_PK": "620",
                                    "Napok száma": "5",
                                    "(No column name)": "NULL"
                                },
                                {
                                    "SZOBA_ID": "1",
                                    "FOGLALAS_PK": "949",
                                    "Napok száma": "1",
                                    "(No column name)": "5"
                                },
                                {
                                    "SZOBA_ID": "1",
                                    "FOGLALAS_PK": "738",
                                    "Napok száma": "7",
                                    "(No column name)": "6"
                                },
                                {
                                    "SZOBA_ID": "1",
                                    "FOGLALAS_PK": "803",
                                    "Napok száma": "4",
                                    "(No column name)": "13"
                                },
                                {
                                    "SZOBA_ID": "1",
                                    "FOGLALAS_PK": "1137",
                                    "Napok száma": "2",
                                    "(No column name)": "17"
                                },
                                {
                                    "SZOBA_ID": "1",
                                    "FOGLALAS_PK": "1152",
                                    "Napok száma": "1",
                                    "(No column name)": "19"
                                },
                                {
                                    "SZOBA_ID": "1",
                                    "FOGLALAS_PK": "1274",
                                    "Napok száma": "1",
                                    "(No column name)": "20"
                                },
                                {
                                    "SZOBA_ID": "1",
                                    "FOGLALAS_PK": "1334",
                                    "Napok száma": "4",
                                    "(No column name)": "21"
                                },
                                {
                                    "SZOBA_ID": "2",
                                    "FOGLALAS_PK": "828",
                                    "Napok száma": "3",
                                    "(No column name)": "NULL"
                                },
                                {
                                    "SZOBA_ID": "2",
                                    "FOGLALAS_PK": "1051",
                                    "Napok száma": "1",
                                    "(No column name)": "3"
                                },
                                {
                                    "SZOBA_ID": "2",
                                    "FOGLALAS_PK": "1069",
                                    "Napok száma": "7",
                                    "(No column name)": "4"
                                },
                                {
                                    "SZOBA_ID": "2",
                                    "FOGLALAS_PK": "1311",
                                    "Napok száma": "7",
                                    "(No column name)": "11"
                                },
                                {
                                    "SZOBA_ID": "3",
                                    "FOGLALAS_PK": "629",
                                    "Napok száma": "4",
                                    "(No column name)": "NULL"
                                },
                                {
                                    "SZOBA_ID": "3",
                                    "FOGLALAS_PK": "666",
                                    "Napok száma": "6",
                                    "(No column name)": "4"
                                },
                                {
                                    "SZOBA_ID": "3",
                                    "FOGLALAS_PK": "788",
                                    "Napok száma": "6",
                                    "(No column name)": "10"
                                },
                                {
                                    "SZOBA_ID": "3",
                                    "FOGLALAS_PK": "1038",
                                    "Napok száma": "3",
                                    "(No column name)": "16"
                                },
                                {
                                    "SZOBA_ID": "3",
                                    "FOGLALAS_PK": "1110",
                                    "Napok száma": "7",
                                    "(No column name)": "19"
                                },
                                {
                                    "SZOBA_ID": "3",
                                    "FOGLALAS_PK": "1151",
                                    "Napok száma": "1",
                                    "(No column name)": "26"
                                },
                                {
                                    "SZOBA_ID": "3",
                                    "FOGLALAS_PK": "1434",
                                    "Napok száma": "5",
                                    "(No column name)": "27"
                                },
                                {
                                    "SZOBA_ID": "3",
                                    "FOGLALAS_PK": "1544",
                                    "Napok száma": "5",
                                    "(No column name)": "32"
                                },
                                {
                                    "SZOBA_ID": "4",
                                    "FOGLALAS_PK": "651",
                                    "Napok száma": "7",
                                    "(No column name)": "NULL"
                                },
                                {
                                    "SZOBA_ID": "4",
                                    "FOGLALAS_PK": "946",
                                    "Napok száma": "5",
                                    "(No column name)": "7"
                                },
                                {
                                    "SZOBA_ID": "4",
                                    "FOGLALAS_PK": "1001",
                                    "Napok száma": "7",
                                    "(No column name)": "12"
                                },
                                {
                                    "SZOBA_ID": "4",
                                    "FOGLALAS_PK": "1127",
                                    "Napok száma": "3",
                                    "(No column name)": "19"
                                },
                                {
                                    "SZOBA_ID": "4",
                                    "FOGLALAS_PK": "1132",
                                    "Napok száma": "6",
                                    "(No column name)": "22"
                                },
                                {
                                    "SZOBA_ID": "4",
                                    "FOGLALAS_PK": "1492",
                                    "Napok száma": "6",
                                    "(No column name)": "28"
                                },
                                {
                                    "SZOBA_ID": "5",
                                    "FOGLALAS_PK": "564",
                                    "Napok száma": "2",
                                    "(No column name)": "NULL"
                                },
                                {
                                    "SZOBA_ID": "5",
                                    "FOGLALAS_PK": "965",
                                    "Napok száma": "7",
                                    "(No column name)": "2"
                                },
                                {
                                    "SZOBA_ID": "5",
                                    "FOGLALAS_PK": "1073",
                                    "Napok száma": "5",
                                    "(No column name)": "9"
                                },
                                {
                                    "SZOBA_ID": "5",
                                    "FOGLALAS_PK": "1257",
                                    "Napok száma": "3",
                                    "(No column name)": "14"
                                },
                                {
                                    "SZOBA_ID": "6",
                                    "FOGLALAS_PK": "560",
                                    "Napok száma": "6",
                                    "(No column name)": "NULL"
                                },
                                {
                                    "SZOBA_ID": "6",
                                    "FOGLALAS_PK": "873",
                                    "Napok száma": "3",
                                    "(No column name)": "6"
                                },
                                {
                                    "SZOBA_ID": "6",
                                    "FOGLALAS_PK": "990",
                                    "Napok száma": "4",
                                    "(No column name)": "9"
                                },
                                {
                                    "SZOBA_ID": "6",
                                    "FOGLALAS_PK": "772",
                                    "Napok száma": "6",
                                    "(No column name)": "13"
                                },
                                {
                                    "SZOBA_ID": "6",
                                    "FOGLALAS_PK": "850",
                                    "Napok száma": "2",
                                    "(No column name)": "19"
                                },
                                {
                                    "SZOBA_ID": "6",
                                    "FOGLALAS_PK": "1099",
                                    "Napok száma": "4",
                                    "(No column name)": "21"
                                },
                                {
                                    "SZOBA_ID": "7",
                                    "FOGLALAS_PK": "562",
                                    "Napok száma": "4",
                                    "(No column name)": "NULL"
                                },
                                {
                                    "SZOBA_ID": "7",
                                    "FOGLALAS_PK": "759",
                                    "Napok száma": "7",
                                    "(No column name)": "4"
                                },
                                {
                                    "SZOBA_ID": "7",
                                    "FOGLALAS_PK": "1131",
                                    "Napok száma": "1",
                                    "(No column name)": "11"
                                },
                                {
                                    "SZOBA_ID": "7",
                                    "FOGLALAS_PK": "1175",
                                    "Napok száma": "4",
                                    "(No column name)": "12"
                                },
                                {
                                    "SZOBA_ID": "7",
                                    "FOGLALAS_PK": "1182",
                                    "Napok száma": "4",
                                    "(No column name)": "16"
                                },
                                {
                                    "SZOBA_ID": "7",
                                    "FOGLALAS_PK": "1252",
                                    "Napok száma": "2",
                                    "(No column name)": "20"
                                },
                                {
                                    "SZOBA_ID": "8",
                                    "FOGLALAS_PK": "882",
                                    "Napok száma": "1",
                                    "(No column name)": "NULL"
                                },
                                {
                                    "SZOBA_ID": "8",
                                    "FOGLALAS_PK": "947",
                                    "Napok száma": "3",
                                    "(No column name)": "1"
                                },
                                {
                                    "SZOBA_ID": "8",
                                    "FOGLALAS_PK": "694",
                                    "Napok száma": "4",
                                    "(No column name)": "4"
                                },
                                {
                                    "SZOBA_ID": "8",
                                    "FOGLALAS_PK": "818",
                                    "Napok száma": "4",
                                    "(No column name)": "8"
                                },
                                {
                                    "SZOBA_ID": "8",
                                    "FOGLALAS_PK": "832",
                                    "Napok száma": "4",
                                    "(No column name)": "12"
                                },
                                {
                                    "SZOBA_ID": "9",
                                    "FOGLALAS_PK": "609",
                                    "Napok száma": "2",
                                    "(No column name)": "NULL"
                                },
                                {
                                    "SZOBA_ID": "9",
                                    "FOGLALAS_PK": "1157",
                                    "Napok száma": "6",
                                    "(No column name)": "2"
                                },
                                {
                                    "SZOBA_ID": "9",
                                    "FOGLALAS_PK": "1220",
                                    "Napok száma": "3",
                                    "(No column name)": "8"
                                },
                                {
                                    "SZOBA_ID": "9",
                                    "FOGLALAS_PK": "1260",
                                    "Napok száma": "6",
                                    "(No column name)": "11"
                                },
                                {
                                    "SZOBA_ID": "9",
                                    "FOGLALAS_PK": "1423",
                                    "Napok száma": "3",
                                    "(No column name)": "17"
                                },
                                {
                                    "SZOBA_ID": "9",
                                    "FOGLALAS_PK": "1537",
                                    "Napok száma": "3",
                                    "(No column name)": "20"
                                },
                                {
                                    "SZOBA_ID": "10",
                                    "FOGLALAS_PK": "569",
                                    "Napok száma": "3",
                                    "(No column name)": "NULL"
                                },
                                {
                                    "SZOBA_ID": "10",
                                    "FOGLALAS_PK": "790",
                                    "Napok száma": "5",
                                    "(No column name)": "3"
                                },
                                {
                                    "SZOBA_ID": "10",
                                    "FOGLALAS_PK": "795",
                                    "Napok száma": "4",
                                    "(No column name)": "8"
                                },
                                {
                                    "SZOBA_ID": "10",
                                    "FOGLALAS_PK": "1319",
                                    "Napok száma": "6",
                                    "(No column name)": "12"
                                },
                                {
                                    "SZOBA_ID": "11",
                                    "FOGLALAS_PK": "918",
                                    "Napok száma": "6",
                                    "(No column name)": "NULL"
                                },
                                {
                                    "SZOBA_ID": "11",
                                    "FOGLALAS_PK": "1123",
                                    "Napok száma": "5",
                                    "(No column name)": "6"
                                },
                                {
                                    "SZOBA_ID": "11",
                                    "FOGLALAS_PK": "1236",
                                    "Napok száma": "1",
                                    "(No column name)": "11"
                                },
                                {
                                    "SZOBA_ID": "11",
                                    "FOGLALAS_PK": "1523",
                                    "Napok száma": "1",
                                    "(No column name)": "12"
                                },
                                {
                                    "SZOBA_ID": "12",
                                    "FOGLALAS_PK": "876",
                                    "Napok száma": "7",
                                    "(No column name)": "NULL"
                                },
                                {
                                    "SZOBA_ID": "12",
                                    "FOGLALAS_PK": "951",
                                    "Napok száma": "3",
                                    "(No column name)": "7"
                                },
                                {
                                    "SZOBA_ID": "12",
                                    "FOGLALAS_PK": "970",
                                    "Napok száma": "2",
                                    "(No column name)": "10"
                                },
                                {
                                    "SZOBA_ID": "12",
                                    "FOGLALAS_PK": "1020",
                                    "Napok száma": "5",
                                    "(No column name)": "12"
                                },
                                {
                                    "SZOBA_ID": "12",
                                    "FOGLALAS_PK": "697",
                                    "Napok száma": "2",
                                    "(No column name)": "17"
                                },
                                {
                                    "SZOBA_ID": "12",
                                    "FOGLALAS_PK": "775",
                                    "Napok száma": "4",
                                    "(No column name)": "19"
                                },
                                {
                                    "SZOBA_ID": "12",
                                    "FOGLALAS_PK": "1140",
                                    "Napok száma": "3",
                                    "(No column name)": "23"
                                },
                                {
                                    "SZOBA_ID": "12",
                                    "FOGLALAS_PK": "1164",
                                    "Napok száma": "5",
                                    "(No column name)": "26"
                                },
                                {
                                    "SZOBA_ID": "12",
                                    "FOGLALAS_PK": "1430",
                                    "Napok száma": "2",
                                    "(No column name)": "31"
                                },
                                {
                                    "SZOBA_ID": "13",
                                    "FOGLALAS_PK": "763",
                                    "Napok száma": "4",
                                    "(No column name)": "NULL"
                                },
                                {
                                    "SZOBA_ID": "13",
                                    "FOGLALAS_PK": "1044",
                                    "Napok száma": "6",
                                    "(No column name)": "4"
                                },
                                {
                                    "SZOBA_ID": "13",
                                    "FOGLALAS_PK": "1347",
                                    "Napok száma": "3",
                                    "(No column name)": "10"
                                },
                                {
                                    "SZOBA_ID": "13",
                                    "FOGLALAS_PK": "1469",
                                    "Napok száma": "2",
                                    "(No column name)": "13"
                                },
                                {
                                    "SZOBA_ID": "14",
                                    "FOGLALAS_PK": "663",
                                    "Napok száma": "1",
                                    "(No column name)": "NULL"
                                },
                                {
                                    "SZOBA_ID": "14",
                                    "FOGLALAS_PK": "813",
                                    "Napok száma": "3",
                                    "(No column name)": "1"
                                },
                                {
                                    "SZOBA_ID": "14",
                                    "FOGLALAS_PK": "1542",
                                    "Napok száma": "4",
                                    "(No column name)": "4"
                                },
                                {
                                    "SZOBA_ID": "15",
                                    "FOGLALAS_PK": "1028",
                                    "Napok száma": "2",
                                    "(No column name)": "NULL"
                                },
                                {
                                    "SZOBA_ID": "15",
                                    "FOGLALAS_PK": "791",
                                    "Napok száma": "5",
                                    "(No column name)": "2"
                                },
                                {
                                    "SZOBA_ID": "15",
                                    "FOGLALAS_PK": "1129",
                                    "Napok száma": "4",
                                    "(No column name)": "7"
                                },
                                {
                                    "SZOBA_ID": "15",
                                    "FOGLALAS_PK": "1244",
                                    "Napok száma": "1",
                                    "(No column name)": "11"
                                },
                                {
                                    "SZOBA_ID": "15",
                                    "FOGLALAS_PK": "1418",
                                    "Napok száma": "4",
                                    "(No column name)": "12"
                                },
                                {
                                    "SZOBA_ID": "15",
                                    "FOGLALAS_PK": "1442",
                                    "Napok száma": "3",
                                    "(No column name)": "16"
                                },
                                {
                                    "SZOBA_ID": "16",
                                    "FOGLALAS_PK": "856",
                                    "Napok száma": "6",
                                    "(No column name)": "NULL"
                                },
                                {
                                    "SZOBA_ID": "16",
                                    "FOGLALAS_PK": "896",
                                    "Napok száma": "1",
                                    "(No column name)": "6"
                                },
                                {
                                    "SZOBA_ID": "16",
                                    "FOGLALAS_PK": "973",
                                    "Napok száma": "1",
                                    "(No column name)": "7"
                                },
                                {
                                    "SZOBA_ID": "16",
                                    "FOGLALAS_PK": "687",
                                    "Napok száma": "3",
                                    "(No column name)": "8"
                                },
                                {
                                    "SZOBA_ID": "16",
                                    "FOGLALAS_PK": "1498",
                                    "Napok száma": "7",
                                    "(No column name)": "11"
                                },
                                {
                                    "SZOBA_ID": "17",
                                    "FOGLALAS_PK": "602",
                                    "Napok száma": "6",
                                    "(No column name)": "NULL"
                                },
                                {
                                    "SZOBA_ID": "17",
                                    "FOGLALAS_PK": "916",
                                    "Napok száma": "2",
                                    "(No column name)": "6"
                                },
                                {
                                    "SZOBA_ID": "17",
                                    "FOGLALAS_PK": "713",
                                    "Napok száma": "6",
                                    "(No column name)": "8"
                                },
                                {
                                    "SZOBA_ID": "17",
                                    "FOGLALAS_PK": "744",
                                    "Napok száma": "1",
                                    "(No column name)": "14"
                                },
                                {
                                    "SZOBA_ID": "17",
                                    "FOGLALAS_PK": "1316",
                                    "Napok száma": "5",
                                    "(No column name)": "15"
                                },
                                {
                                    "SZOBA_ID": "17",
                                    "FOGLALAS_PK": "1549",
                                    "Napok száma": "3",
                                    "(No column name)": "20"
                                },
                                {
                                    "SZOBA_ID": "18",
                                    "FOGLALAS_PK": "626",
                                    "Napok száma": "3",
                                    "(No column name)": "NULL"
                                },
                                {
                                    "SZOBA_ID": "18",
                                    "FOGLALAS_PK": "767",
                                    "Napok száma": "3",
                                    "(No column name)": "3"
                                },
                                {
                                    "SZOBA_ID": "18",
                                    "FOGLALAS_PK": "1035",
                                    "Napok száma": "6",
                                    "(No column name)": "6"
                                },
                                {
                                    "SZOBA_ID": "18",
                                    "FOGLALAS_PK": "1173",
                                    "Napok száma": "6",
                                    "(No column name)": "12"
                                },
                                {
                                    "SZOBA_ID": "18",
                                    "FOGLALAS_PK": "1198",
                                    "Napok száma": "4",
                                    "(No column name)": "18"
                                },
                                {
                                    "SZOBA_ID": "18",
                                    "FOGLALAS_PK": "1505",
                                    "Napok száma": "6",
                                    "(No column name)": "22"
                                },
                                {
                                    "SZOBA_ID": "19",
                                    "FOGLALAS_PK": "948",
                                    "Napok száma": "2",
                                    "(No column name)": "NULL"
                                },
                                {
                                    "SZOBA_ID": "19",
                                    "FOGLALAS_PK": "696",
                                    "Napok száma": "1",
                                    "(No column name)": "2"
                                },
                                {
                                    "SZOBA_ID": "19",
                                    "FOGLALAS_PK": "778",
                                    "Napok száma": "1",
                                    "(No column name)": "3"
                                },
                                {
                                    "SZOBA_ID": "19",
                                    "FOGLALAS_PK": "1139",
                                    "Napok száma": "7",
                                    "(No column name)": "4"
                                },
                                {
                                    "SZOBA_ID": "19",
                                    "FOGLALAS_PK": "1237",
                                    "Napok száma": "1",
                                    "(No column name)": "11"
                                },
                                {
                                    "SZOBA_ID": "19",
                                    "FOGLALAS_PK": "1533",
                                    "Napok száma": "1",
                                    "(No column name)": "12"
                                },
                                {
                                    "SZOBA_ID": "20",
                                    "FOGLALAS_PK": "755",
                                    "Napok száma": "6",
                                    "(No column name)": "NULL"
                                },
                                {
                                    "SZOBA_ID": "20",
                                    "FOGLALAS_PK": "820",
                                    "Napok száma": "1",
                                    "(No column name)": "6"
                                },
                                {
                                    "SZOBA_ID": "20",
                                    "FOGLALAS_PK": "1070",
                                    "Napok száma": "1",
                                    "(No column name)": "7"
                                },
                                {
                                    "SZOBA_ID": "20",
                                    "FOGLALAS_PK": "1114",
                                    "Napok száma": "5",
                                    "(No column name)": "8"
                                },
                                {
                                    "SZOBA_ID": "20",
                                    "FOGLALAS_PK": "1106",
                                    "Napok száma": "2",
                                    "(No column name)": "13"
                                },
                                {
                                    "SZOBA_ID": "21",
                                    "FOGLALAS_PK": "566",
                                    "Napok száma": "6",
                                    "(No column name)": "NULL"
                                },
                                {
                                    "SZOBA_ID": "21",
                                    "FOGLALAS_PK": "660",
                                    "Napok száma": "5",
                                    "(No column name)": "6"
                                },
                                {
                                    "SZOBA_ID": "21",
                                    "FOGLALAS_PK": "805",
                                    "Napok száma": "1",
                                    "(No column name)": "11"
                                },
                                {
                                    "SZOBA_ID": "21",
                                    "FOGLALAS_PK": "1212",
                                    "Napok száma": "6",
                                    "(No column name)": "12"
                                },
                                {
                                    "SZOBA_ID": "22",
                                    "FOGLALAS_PK": "906",
                                    "Napok száma": "1",
                                    "(No column name)": "NULL"
                                },
                                {
                                    "SZOBA_ID": "22",
                                    "FOGLALAS_PK": "1005",
                                    "Napok száma": "3",
                                    "(No column name)": "1"
                                },
                                {
                                    "SZOBA_ID": "22",
                                    "FOGLALAS_PK": "1130",
                                    "Napok száma": "1",
                                    "(No column name)": "4"
                                },
                                {
                                    "SZOBA_ID": "22",
                                    "FOGLALAS_PK": "1195",
                                    "Napok száma": "6",
                                    "(No column name)": "5"
                                },
                                {
                                    "SZOBA_ID": "22",
                                    "FOGLALAS_PK": "1206",
                                    "Napok száma": "7",
                                    "(No column name)": "11"
                                },
                                {
                                    "SZOBA_ID": "22",
                                    "FOGLALAS_PK": "1287",
                                    "Napok száma": "3",
                                    "(No column name)": "18"
                                },
                                {
                                    "SZOBA_ID": "23",
                                    "FOGLALAS_PK": "934",
                                    "Napok száma": "1",
                                    "(No column name)": "NULL"
                                },
                                {
                                    "SZOBA_ID": "23",
                                    "FOGLALAS_PK": "945",
                                    "Napok száma": "7",
                                    "(No column name)": "1"
                                },
                                {
                                    "SZOBA_ID": "23",
                                    "FOGLALAS_PK": "848",
                                    "Napok száma": "1",
                                    "(No column name)": "8"
                                },
                                {
                                    "SZOBA_ID": "24",
                                    "FOGLALAS_PK": "852",
                                    "Napok száma": "2",
                                    "(No column name)": "NULL"
                                },
                                {
                                    "SZOBA_ID": "24",
                                    "FOGLALAS_PK": "1167",
                                    "Napok száma": "1",
                                    "(No column name)": "2"
                                },
                                {
                                    "SZOBA_ID": "24",
                                    "FOGLALAS_PK": "1415",
                                    "Napok száma": "3",
                                    "(No column name)": "3"
                                },
                                {
                                    "SZOBA_ID": "25",
                                    "FOGLALAS_PK": "1052",
                                    "Napok száma": "3",
                                    "(No column name)": "NULL"
                                },
                                {
                                    "SZOBA_ID": "25",
                                    "FOGLALAS_PK": "1362",
                                    "Napok száma": "2",
                                    "(No column name)": "3"
                                },
                                {
                                    "SZOBA_ID": "26",
                                    "FOGLALAS_PK": "1158",
                                    "Napok száma": "2",
                                    "(No column name)": "NULL"
                                },
                                {
                                    "SZOBA_ID": "26",
                                    "FOGLALAS_PK": "1388",
                                    "Napok száma": "3",
                                    "(No column name)": "2"
                                },
                                {
                                    "SZOBA_ID": "27",
                                    "FOGLALAS_PK": "758",
                                    "Napok száma": "3",
                                    "(No column name)": "NULL"
                                },
                                {
                                    "SZOBA_ID": "27",
                                    "FOGLALAS_PK": "807",
                                    "Napok száma": "2",
                                    "(No column name)": "3"
                                },
                                {
                                    "SZOBA_ID": "27",
                                    "FOGLALAS_PK": "1031",
                                    "Napok száma": "2",
                                    "(No column name)": "5"
                                },
                                {
                                    "SZOBA_ID": "27",
                                    "FOGLALAS_PK": "1082",
                                    "Napok száma": "5",
                                    "(No column name)": "7"
                                },
                                {
                                    "SZOBA_ID": "27",
                                    "FOGLALAS_PK": "1275",
                                    "Napok száma": "6",
                                    "(No column name)": "12"
                                },
                                {
                                    "SZOBA_ID": "27",
                                    "FOGLALAS_PK": "1377",
                                    "Napok száma": "1",
                                    "(No column name)": "18"
                                },
                                {
                                    "SZOBA_ID": "27",
                                    "FOGLALAS_PK": "1476",
                                    "Napok száma": "1",
                                    "(No column name)": "19"
                                },
                                {
                                    "SZOBA_ID": "28",
                                    "FOGLALAS_PK": "872",
                                    "Napok száma": "5",
                                    "(No column name)": "NULL"
                                },
                                {
                                    "SZOBA_ID": "28",
                                    "FOGLALAS_PK": "886",
                                    "Napok száma": "4",
                                    "(No column name)": "5"
                                },
                                {
                                    "SZOBA_ID": "28",
                                    "FOGLALAS_PK": "901",
                                    "Napok száma": "4",
                                    "(No column name)": "9"
                                },
                                {
                                    "SZOBA_ID": "28",
                                    "FOGLALAS_PK": "725",
                                    "Napok száma": "5",
                                    "(No column name)": "13"
                                },
                                {
                                    "SZOBA_ID": "28",
                                    "FOGLALAS_PK": "1150",
                                    "Napok száma": "6",
                                    "(No column name)": "18"
                                },
                                {
                                    "SZOBA_ID": "28",
                                    "FOGLALAS_PK": "1459",
                                    "Napok száma": "2",
                                    "(No column name)": "24"
                                },
                                {
                                    "SZOBA_ID": "29",
                                    "FOGLALAS_PK": "611",
                                    "Napok száma": "5",
                                    "(No column name)": "NULL"
                                },
                                {
                                    "SZOBA_ID": "29",
                                    "FOGLALAS_PK": "894",
                                    "Napok száma": "1",
                                    "(No column name)": "5"
                                },
                                {
                                    "SZOBA_ID": "29",
                                    "FOGLALAS_PK": "1076",
                                    "Napok száma": "7",
                                    "(No column name)": "6"
                                },
                                {
                                    "SZOBA_ID": "29",
                                    "FOGLALAS_PK": "1185",
                                    "Napok száma": "5",
                                    "(No column name)": "13"
                                },
                                {
                                    "SZOBA_ID": "29",
                                    "FOGLALAS_PK": "1235",
                                    "Napok száma": "7",
                                    "(No column name)": "18"
                                },
                                {
                                    "SZOBA_ID": "29",
                                    "FOGLALAS_PK": "1568",
                                    "Napok száma": "7",
                                    "(No column name)": "25"
                                },
                                {
                                    "SZOBA_ID": "30",
                                    "FOGLALAS_PK": "604",
                                    "Napok száma": "2",
                                    "(No column name)": "NULL"
                                },
                                {
                                    "SZOBA_ID": "30",
                                    "FOGLALAS_PK": "1023",
                                    "Napok száma": "7",
                                    "(No column name)": "2"
                                },
                                {
                                    "SZOBA_ID": "30",
                                    "FOGLALAS_PK": "1136",
                                    "Napok száma": "5",
                                    "(No column name)": "9"
                                },
                                {
                                    "SZOBA_ID": "31",
                                    "FOGLALAS_PK": "598",
                                    "Napok száma": "2",
                                    "(No column name)": "NULL"
                                },
                                {
                                    "SZOBA_ID": "31",
                                    "FOGLALAS_PK": "606",
                                    "Napok száma": "1",
                                    "(No column name)": "2"
                                },
                                {
                                    "SZOBA_ID": "31",
                                    "FOGLALAS_PK": "728",
                                    "Napok száma": "4",
                                    "(No column name)": "3"
                                },
                                {
                                    "SZOBA_ID": "32",
                                    "FOGLALAS_PK": "920",
                                    "Napok száma": "4",
                                    "(No column name)": "NULL"
                                },
                                {
                                    "SZOBA_ID": "33",
                                    "FOGLALAS_PK": "624",
                                    "Napok száma": "6",
                                    "(No column name)": "NULL"
                                },
                                {
                                    "SZOBA_ID": "33",
                                    "FOGLALAS_PK": "1012",
                                    "Napok száma": "7",
                                    "(No column name)": "6"
                                },
                                {
                                    "SZOBA_ID": "33",
                                    "FOGLALAS_PK": "1053",
                                    "Napok száma": "1",
                                    "(No column name)": "13"
                                },
                                {
                                    "SZOBA_ID": "33",
                                    "FOGLALAS_PK": "1321",
                                    "Napok száma": "4",
                                    "(No column name)": "14"
                                },
                                {
                                    "SZOBA_ID": "33",
                                    "FOGLALAS_PK": "1344",
                                    "Napok száma": "5",
                                    "(No column name)": "18"
                                },
                                {
                                    "SZOBA_ID": "33",
                                    "FOGLALAS_PK": "1381",
                                    "Napok száma": "6",
                                    "(No column name)": "23"
                                },
                                {
                                    "SZOBA_ID": "34",
                                    "FOGLALAS_PK": "870",
                                    "Napok száma": "6",
                                    "(No column name)": "NULL"
                                },
                                {
                                    "SZOBA_ID": "34",
                                    "FOGLALAS_PK": "904",
                                    "Napok száma": "2",
                                    "(No column name)": "6"
                                },
                                {
                                    "SZOBA_ID": "34",
                                    "FOGLALAS_PK": "777",
                                    "Napok száma": "3",
                                    "(No column name)": "8"
                                },
                                {
                                    "SZOBA_ID": "34",
                                    "FOGLALAS_PK": "821",
                                    "Napok száma": "1",
                                    "(No column name)": "11"
                                },
                                {
                                    "SZOBA_ID": "35",
                                    "FOGLALAS_PK": "971",
                                    "Napok száma": "3",
                                    "(No column name)": "NULL"
                                },
                                {
                                    "SZOBA_ID": "35",
                                    "FOGLALAS_PK": "979",
                                    "Napok száma": "7",
                                    "(No column name)": "3"
                                },
                                {
                                    "SZOBA_ID": "35",
                                    "FOGLALAS_PK": "686",
                                    "Napok száma": "6",
                                    "(No column name)": "10"
                                },
                                {
                                    "SZOBA_ID": "35",
                                    "FOGLALAS_PK": "707",
                                    "Napok száma": "2",
                                    "(No column name)": "16"
                                },
                                {
                                    "SZOBA_ID": "35",
                                    "FOGLALAS_PK": "829",
                                    "Napok száma": "2",
                                    "(No column name)": "18"
                                },
                                {
                                    "SZOBA_ID": "35",
                                    "FOGLALAS_PK": "1480",
                                    "Napok száma": "37",
                                    "(No column name)": "20"
                                },
                                {
                                    "SZOBA_ID": "35",
                                    "FOGLALAS_PK": "1411",
                                    "Napok száma": "1",
                                    "(No column name)": "57"
                                },
                                {
                                    "SZOBA_ID": "35",
                                    "FOGLALAS_PK": "1436",
                                    "Napok száma": "1",
                                    "(No column name)": "58"
                                },
                                {
                                    "SZOBA_ID": "35",
                                    "FOGLALAS_PK": "1529",
                                    "Napok száma": "4",
                                    "(No column name)": "59"
                                },
                                {
                                    "SZOBA_ID": "36",
                                    "FOGLALAS_PK": "895",
                                    "Napok száma": "5",
                                    "(No column name)": "NULL"
                                },
                                {
                                    "SZOBA_ID": "36",
                                    "FOGLALAS_PK": "919",
                                    "Napok száma": "1",
                                    "(No column name)": "5"
                                },
                                {
                                    "SZOBA_ID": "36",
                                    "FOGLALAS_PK": "985",
                                    "Napok száma": "6",
                                    "(No column name)": "6"
                                },
                                {
                                    "SZOBA_ID": "36",
                                    "FOGLALAS_PK": "1003",
                                    "Napok száma": "4",
                                    "(No column name)": "12"
                                },
                                {
                                    "SZOBA_ID": "36",
                                    "FOGLALAS_PK": "748",
                                    "Napok száma": "2",
                                    "(No column name)": "16"
                                },
                                {
                                    "SZOBA_ID": "36",
                                    "FOGLALAS_PK": "750",
                                    "Napok száma": "6",
                                    "(No column name)": "18"
                                },
                                {
                                    "SZOBA_ID": "37",
                                    "FOGLALAS_PK": "688",
                                    "Napok száma": "2",
                                    "(No column name)": "NULL"
                                },
                                {
                                    "SZOBA_ID": "37",
                                    "FOGLALAS_PK": "705",
                                    "Napok száma": "4",
                                    "(No column name)": "2"
                                },
                                {
                                    "SZOBA_ID": "37",
                                    "FOGLALAS_PK": "1335",
                                    "Napok száma": "7",
                                    "(No column name)": "6"
                                },
                                {
                                    "SZOBA_ID": "38",
                                    "FOGLALAS_PK": "627",
                                    "Napok száma": "6",
                                    "(No column name)": "NULL"
                                },
                                {
                                    "SZOBA_ID": "38",
                                    "FOGLALAS_PK": "1033",
                                    "Napok száma": "2",
                                    "(No column name)": "6"
                                },
                                {
                                    "SZOBA_ID": "38",
                                    "FOGLALAS_PK": "1060",
                                    "Napok száma": "2",
                                    "(No column name)": "8"
                                },
                                {
                                    "SZOBA_ID": "38",
                                    "FOGLALAS_PK": "1078",
                                    "Napok száma": "7",
                                    "(No column name)": "10"
                                },
                                {
                                    "SZOBA_ID": "38",
                                    "FOGLALAS_PK": "1351",
                                    "Napok száma": "4",
                                    "(No column name)": "17"
                                },
                                {
                                    "SZOBA_ID": "38",
                                    "FOGLALAS_PK": "1416",
                                    "Napok száma": "5",
                                    "(No column name)": "21"
                                },
                                {
                                    "SZOBA_ID": "38",
                                    "FOGLALAS_PK": "1478",
                                    "Napok száma": "4",
                                    "(No column name)": "26"
                                },
                                {
                                    "SZOBA_ID": "38",
                                    "FOGLALAS_PK": "1556",
                                    "Napok száma": "6",
                                    "(No column name)": "30"
                                },
                                {
                                    "SZOBA_ID": "39",
                                    "FOGLALAS_PK": "601",
                                    "Napok száma": "6",
                                    "(No column name)": "NULL"
                                },
                                {
                                    "SZOBA_ID": "39",
                                    "FOGLALAS_PK": "899",
                                    "Napok száma": "6",
                                    "(No column name)": "6"
                                },
                                {
                                    "SZOBA_ID": "39",
                                    "FOGLALAS_PK": "1214",
                                    "Napok száma": "5",
                                    "(No column name)": "12"
                                },
                                {
                                    "SZOBA_ID": "39",
                                    "FOGLALAS_PK": "1380",
                                    "Napok száma": "5",
                                    "(No column name)": "17"
                                },
                                {
                                    "SZOBA_ID": "39",
                                    "FOGLALAS_PK": "1435",
                                    "Napok száma": "7",
                                    "(No column name)": "22"
                                },
                                {
                                    "SZOBA_ID": "39",
                                    "FOGLALAS_PK": "1454",
                                    "Napok száma": "1",
                                    "(No column name)": "29"
                                },
                                {
                                    "SZOBA_ID": "39",
                                    "FOGLALAS_PK": "1538",
                                    "Napok száma": "2",
                                    "(No column name)": "30"
                                },
                                {
                                    "SZOBA_ID": "40",
                                    "FOGLALAS_PK": "924",
                                    "Napok száma": "5",
                                    "(No column name)": "NULL"
                                },
                                {
                                    "SZOBA_ID": "40",
                                    "FOGLALAS_PK": "932",
                                    "Napok száma": "6",
                                    "(No column name)": "5"
                                },
                                {
                                    "SZOBA_ID": "40",
                                    "FOGLALAS_PK": "1018",
                                    "Napok száma": "5",
                                    "(No column name)": "11"
                                },
                                {
                                    "SZOBA_ID": "40",
                                    "FOGLALAS_PK": "1118",
                                    "Napok száma": "5",
                                    "(No column name)": "16"
                                },
                                {
                                    "SZOBA_ID": "41",
                                    "FOGLALAS_PK": "960",
                                    "Napok száma": "6",
                                    "(No column name)": "NULL"
                                },
                                {
                                    "SZOBA_ID": "41",
                                    "FOGLALAS_PK": "1144",
                                    "Napok száma": "1",
                                    "(No column name)": "6"
                                },
                                {
                                    "SZOBA_ID": "42",
                                    "FOGLALAS_PK": "561",
                                    "Napok száma": "4",
                                    "(No column name)": "NULL"
                                },
                                {
                                    "SZOBA_ID": "42",
                                    "FOGLALAS_PK": "590",
                                    "Napok száma": "5",
                                    "(No column name)": "4"
                                },
                                {
                                    "SZOBA_ID": "42",
                                    "FOGLALAS_PK": "851",
                                    "Napok száma": "7",
                                    "(No column name)": "9"
                                },
                                {
                                    "SZOBA_ID": "42",
                                    "FOGLALAS_PK": "770",
                                    "Napok száma": "3",
                                    "(No column name)": "16"
                                },
                                {
                                    "SZOBA_ID": "42",
                                    "FOGLALAS_PK": "1309",
                                    "Napok száma": "2",
                                    "(No column name)": "19"
                                },
                                {
                                    "SZOBA_ID": "42",
                                    "FOGLALAS_PK": "1444",
                                    "Napok száma": "6",
                                    "(No column name)": "21"
                                },
                                {
                                    "SZOBA_ID": "43",
                                    "FOGLALAS_PK": "1019",
                                    "Napok száma": "4",
                                    "(No column name)": "NULL"
                                },
                                {
                                    "SZOBA_ID": "43",
                                    "FOGLALAS_PK": "670",
                                    "Napok száma": "4",
                                    "(No column name)": "4"
                                },
                                {
                                    "SZOBA_ID": "43",
                                    "FOGLALAS_PK": "1088",
                                    "Napok száma": "2",
                                    "(No column name)": "8"
                                },
                                {
                                    "SZOBA_ID": "43",
                                    "FOGLALAS_PK": "1207",
                                    "Napok száma": "1",
                                    "(No column name)": "10"
                                },
                                {
                                    "SZOBA_ID": "43",
                                    "FOGLALAS_PK": "1227",
                                    "Napok száma": "5",
                                    "(No column name)": "11"
                                },
                                {
                                    "SZOBA_ID": "43",
                                    "FOGLALAS_PK": "1270",
                                    "Napok száma": "4",
                                    "(No column name)": "16"
                                },
                                {
                                    "SZOBA_ID": "43",
                                    "FOGLALAS_PK": "1524",
                                    "Napok száma": "1",
                                    "(No column name)": "20"
                                },
                                {
                                    "SZOBA_ID": "43",
                                    "FOGLALAS_PK": "1553",
                                    "Napok száma": "5",
                                    "(No column name)": "21"
                                },
                                {
                                    "SZOBA_ID": "44",
                                    "FOGLALAS_PK": "589",
                                    "Napok száma": "2",
                                    "(No column name)": "NULL"
                                },
                                {
                                    "SZOBA_ID": "44",
                                    "FOGLALAS_PK": "658",
                                    "Napok száma": "6",
                                    "(No column name)": "2"
                                },
                                {
                                    "SZOBA_ID": "44",
                                    "FOGLALAS_PK": "823",
                                    "Napok száma": "2",
                                    "(No column name)": "8"
                                },
                                {
                                    "SZOBA_ID": "44",
                                    "FOGLALAS_PK": "1295",
                                    "Napok száma": "2",
                                    "(No column name)": "10"
                                },
                                {
                                    "SZOBA_ID": "44",
                                    "FOGLALAS_PK": "1425",
                                    "Napok száma": "2",
                                    "(No column name)": "12"
                                },
                                {
                                    "SZOBA_ID": "44",
                                    "FOGLALAS_PK": "1552",
                                    "Napok száma": "2",
                                    "(No column name)": "14"
                                },
                                {
                                    "SZOBA_ID": "45",
                                    "FOGLALAS_PK": "802",
                                    "Napok száma": "7",
                                    "(No column name)": "NULL"
                                },
                                {
                                    "SZOBA_ID": "45",
                                    "FOGLALAS_PK": "800",
                                    "Napok száma": "5",
                                    "(No column name)": "7"
                                },
                                {
                                    "SZOBA_ID": "45",
                                    "FOGLALAS_PK": "846",
                                    "Napok száma": "3",
                                    "(No column name)": "12"
                                },
                                {
                                    "SZOBA_ID": "45",
                                    "FOGLALAS_PK": "1135",
                                    "Napok száma": "3",
                                    "(No column name)": "15"
                                },
                                {
                                    "SZOBA_ID": "45",
                                    "FOGLALAS_PK": "1303",
                                    "Napok száma": "2",
                                    "(No column name)": "18"
                                },
                                {
                                    "SZOBA_ID": "46",
                                    "FOGLALAS_PK": "752",
                                    "Napok száma": "5",
                                    "(No column name)": "NULL"
                                },
                                {
                                    "SZOBA_ID": "46",
                                    "FOGLALAS_PK": "1187",
                                    "Napok száma": "7",
                                    "(No column name)": "5"
                                },
                                {
                                    "SZOBA_ID": "46",
                                    "FOGLALAS_PK": "1291",
                                    "Napok száma": "3",
                                    "(No column name)": "12"
                                },
                                {
                                    "SZOBA_ID": "46",
                                    "FOGLALAS_PK": "1515",
                                    "Napok száma": "4",
                                    "(No column name)": "15"
                                },
                                {
                                    "SZOBA_ID": "47",
                                    "FOGLALAS_PK": "955",
                                    "Napok száma": "1",
                                    "(No column name)": "NULL"
                                },
                                {
                                    "SZOBA_ID": "47",
                                    "FOGLALAS_PK": "1056",
                                    "Napok száma": "7",
                                    "(No column name)": "1"
                                },
                                {
                                    "SZOBA_ID": "48",
                                    "FOGLALAS_PK": "603",
                                    "Napok száma": "3",
                                    "(No column name)": "NULL"
                                },
                                {
                                    "SZOBA_ID": "48",
                                    "FOGLALAS_PK": "628",
                                    "Napok száma": "2",
                                    "(No column name)": "3"
                                },
                                {
                                    "SZOBA_ID": "48",
                                    "FOGLALAS_PK": "914",
                                    "Napok száma": "5",
                                    "(No column name)": "5"
                                },
                                {
                                    "SZOBA_ID": "48",
                                    "FOGLALAS_PK": "986",
                                    "Napok száma": "5",
                                    "(No column name)": "10"
                                },
                                {
                                    "SZOBA_ID": "48",
                                    "FOGLALAS_PK": "824",
                                    "Napok száma": "2",
                                    "(No column name)": "15"
                                },
                                {
                                    "SZOBA_ID": "48",
                                    "FOGLALAS_PK": "1243",
                                    "Napok száma": "6",
                                    "(No column name)": "17"
                                },
                                {
                                    "SZOBA_ID": "48",
                                    "FOGLALAS_PK": "1546",
                                    "Napok száma": "3",
                                    "(No column name)": "23"
                                },
                                {
                                    "SZOBA_ID": "48",
                                    "FOGLALAS_PK": "1547",
                                    "Napok száma": "1",
                                    "(No column name)": "26"
                                },
                                {
                                    "SZOBA_ID": "48",
                                    "FOGLALAS_PK": "1581",
                                    "Napok száma": "5",
                                    "(No column name)": "27"
                                },
                                {
                                    "SZOBA_ID": "49",
                                    "FOGLALAS_PK": "888",
                                    "Napok száma": "7",
                                    "(No column name)": "NULL"
                                },
                                {
                                    "SZOBA_ID": "49",
                                    "FOGLALAS_PK": "793",
                                    "Napok száma": "6",
                                    "(No column name)": "7"
                                },
                                {
                                    "SZOBA_ID": "49",
                                    "FOGLALAS_PK": "826",
                                    "Napok száma": "4",
                                    "(No column name)": "13"
                                },
                                {
                                    "SZOBA_ID": "49",
                                    "FOGLALAS_PK": "1066",
                                    "Napok száma": "7",
                                    "(No column name)": "17"
                                },
                                {
                                    "SZOBA_ID": "49",
                                    "FOGLALAS_PK": "1200",
                                    "Napok száma": "7",
                                    "(No column name)": "24"
                                },
                                {
                                    "SZOBA_ID": "49",
                                    "FOGLALAS_PK": "1221",
                                    "Napok száma": "2",
                                    "(No column name)": "31"
                                },
                                {
                                    "SZOBA_ID": "49",
                                    "FOGLALAS_PK": "1536",
                                    "Napok száma": "6",
                                    "(No column name)": "33"
                                },
                                {
                                    "SZOBA_ID": "50",
                                    "FOGLALAS_PK": "787",
                                    "Napok száma": "3",
                                    "(No column name)": "NULL"
                                },
                                {
                                    "SZOBA_ID": "50",
                                    "FOGLALAS_PK": "1063",
                                    "Napok száma": "2",
                                    "(No column name)": "3"
                                },
                                {
                                    "SZOBA_ID": "50",
                                    "FOGLALAS_PK": "1224",
                                    "Napok száma": "1",
                                    "(No column name)": "5"
                                },
                                {
                                    "SZOBA_ID": "50",
                                    "FOGLALAS_PK": "1272",
                                    "Napok száma": "1",
                                    "(No column name)": "6"
                                },
                                {
                                    "SZOBA_ID": "51",
                                    "FOGLALAS_PK": "865",
                                    "Napok száma": "7",
                                    "(No column name)": "NULL"
                                },
                                {
                                    "SZOBA_ID": "51",
                                    "FOGLALAS_PK": "811",
                                    "Napok száma": "2",
                                    "(No column name)": "7"
                                },
                                {
                                    "SZOBA_ID": "51",
                                    "FOGLALAS_PK": "1165",
                                    "Napok száma": "5",
                                    "(No column name)": "9"
                                },
                                {
                                    "SZOBA_ID": "51",
                                    "FOGLALAS_PK": "1477",
                                    "Napok száma": "6",
                                    "(No column name)": "14"
                                },
                                {
                                    "SZOBA_ID": "51",
                                    "FOGLALAS_PK": "1550",
                                    "Napok száma": "1",
                                    "(No column name)": "20"
                                },
                                {
                                    "SZOBA_ID": "52",
                                    "FOGLALAS_PK": "822",
                                    "Napok száma": "7",
                                    "(No column name)": "NULL"
                                },
                                {
                                    "SZOBA_ID": "52",
                                    "FOGLALAS_PK": "1202",
                                    "Napok száma": "2",
                                    "(No column name)": "7"
                                },
                                {
                                    "SZOBA_ID": "52",
                                    "FOGLALAS_PK": "1258",
                                    "Napok száma": "5",
                                    "(No column name)": "9"
                                },
                                {
                                    "SZOBA_ID": "52",
                                    "FOGLALAS_PK": "1431",
                                    "Napok száma": "5",
                                    "(No column name)": "14"
                                },
                                {
                                    "SZOBA_ID": "52",
                                    "FOGLALAS_PK": "1534",
                                    "Napok száma": "5",
                                    "(No column name)": "19"
                                },
                                {
                                    "SZOBA_ID": "53",
                                    "FOGLALAS_PK": "855",
                                    "Napok száma": "1",
                                    "(No column name)": "NULL"
                                },
                                {
                                    "SZOBA_ID": "53",
                                    "FOGLALAS_PK": "987",
                                    "Napok száma": "4",
                                    "(No column name)": "1"
                                },
                                {
                                    "SZOBA_ID": "54",
                                    "FOGLALAS_PK": "622",
                                    "Napok száma": "7",
                                    "(No column name)": "NULL"
                                },
                                {
                                    "SZOBA_ID": "54",
                                    "FOGLALAS_PK": "642",
                                    "Napok száma": "5",
                                    "(No column name)": "7"
                                },
                                {
                                    "SZOBA_ID": "54",
                                    "FOGLALAS_PK": "889",
                                    "Napok száma": "2",
                                    "(No column name)": "12"
                                },
                                {
                                    "SZOBA_ID": "54",
                                    "FOGLALAS_PK": "668",
                                    "Napok száma": "1",
                                    "(No column name)": "14"
                                },
                                {
                                    "SZOBA_ID": "54",
                                    "FOGLALAS_PK": "1096",
                                    "Napok száma": "4",
                                    "(No column name)": "15"
                                },
                                {
                                    "SZOBA_ID": "54",
                                    "FOGLALAS_PK": "1328",
                                    "Napok száma": "4",
                                    "(No column name)": "19"
                                },
                                {
                                    "SZOBA_ID": "55",
                                    "FOGLALAS_PK": "734",
                                    "Napok száma": "6",
                                    "(No column name)": "NULL"
                                },
                                {
                                    "SZOBA_ID": "55",
                                    "FOGLALAS_PK": "1086",
                                    "Napok száma": "5",
                                    "(No column name)": "6"
                                },
                                {
                                    "SZOBA_ID": "55",
                                    "FOGLALAS_PK": "1163",
                                    "Napok száma": "2",
                                    "(No column name)": "11"
                                },
                                {
                                    "SZOBA_ID": "55",
                                    "FOGLALAS_PK": "1232",
                                    "Napok száma": "7",
                                    "(No column name)": "13"
                                },
                                {
                                    "SZOBA_ID": "55",
                                    "FOGLALAS_PK": "1327",
                                    "Napok száma": "6",
                                    "(No column name)": "20"
                                },
                                {
                                    "SZOBA_ID": "55",
                                    "FOGLALAS_PK": "1386",
                                    "Napok száma": "2",
                                    "(No column name)": "26"
                                },
                                {
                                    "SZOBA_ID": "55",
                                    "FOGLALAS_PK": "1512",
                                    "Napok száma": "1",
                                    "(No column name)": "28"
                                },
                                {
                                    "SZOBA_ID": "55",
                                    "FOGLALAS_PK": "1520",
                                    "Napok száma": "1",
                                    "(No column name)": "29"
                                },
                                {
                                    "SZOBA_ID": "56",
                                    "FOGLALAS_PK": "935",
                                    "Napok száma": "4",
                                    "(No column name)": "NULL"
                                },
                                {
                                    "SZOBA_ID": "56",
                                    "FOGLALAS_PK": "838",
                                    "Napok száma": "2",
                                    "(No column name)": "4"
                                },
                                {
                                    "SZOBA_ID": "57",
                                    "FOGLALAS_PK": "1348",
                                    "Napok száma": "1",
                                    "(No column name)": "NULL"
                                },
                                {
                                    "SZOBA_ID": "57",
                                    "FOGLALAS_PK": "1389",
                                    "Napok száma": "1",
                                    "(No column name)": "1"
                                },
                                {
                                    "SZOBA_ID": "57",
                                    "FOGLALAS_PK": "1466",
                                    "Napok száma": "7",
                                    "(No column name)": "2"
                                },
                                {
                                    "SZOBA_ID": "57",
                                    "FOGLALAS_PK": "1504",
                                    "Napok száma": "4",
                                    "(No column name)": "9"
                                },
                                {
                                    "SZOBA_ID": "58",
                                    "FOGLALAS_PK": "883",
                                    "Napok száma": "5",
                                    "(No column name)": "NULL"
                                },
                                {
                                    "SZOBA_ID": "58",
                                    "FOGLALAS_PK": "719",
                                    "Napok száma": "3",
                                    "(No column name)": "5"
                                },
                                {
                                    "SZOBA_ID": "58",
                                    "FOGLALAS_PK": "773",
                                    "Napok száma": "2",
                                    "(No column name)": "8"
                                },
                                {
                                    "SZOBA_ID": "58",
                                    "FOGLALAS_PK": "1113",
                                    "Napok száma": "3",
                                    "(No column name)": "10"
                                },
                                {
                                    "SZOBA_ID": "58",
                                    "FOGLALAS_PK": "1186",
                                    "Napok száma": "6",
                                    "(No column name)": "13"
                                },
                                {
                                    "SZOBA_ID": "58",
                                    "FOGLALAS_PK": "1208",
                                    "Napok száma": "6",
                                    "(No column name)": "19"
                                },
                                {
                                    "SZOBA_ID": "58",
                                    "FOGLALAS_PK": "1255",
                                    "Napok száma": "7",
                                    "(No column name)": "25"
                                },
                                {
                                    "SZOBA_ID": "58",
                                    "FOGLALAS_PK": "1261",
                                    "Napok száma": "6",
                                    "(No column name)": "32"
                                },
                                {
                                    "SZOBA_ID": "58",
                                    "FOGLALAS_PK": "1285",
                                    "Napok száma": "7",
                                    "(No column name)": "38"
                                },
                                {
                                    "SZOBA_ID": "58",
                                    "FOGLALAS_PK": "1293",
                                    "Napok száma": "3",
                                    "(No column name)": "45"
                                },
                                {
                                    "SZOBA_ID": "58",
                                    "FOGLALAS_PK": "1307",
                                    "Napok száma": "6",
                                    "(No column name)": "48"
                                },
                                {
                                    "SZOBA_ID": "58",
                                    "FOGLALAS_PK": "1322",
                                    "Napok száma": "3",
                                    "(No column name)": "54"
                                },
                                {
                                    "SZOBA_ID": "58",
                                    "FOGLALAS_PK": "1451",
                                    "Napok száma": "6",
                                    "(No column name)": "57"
                                },
                                {
                                    "SZOBA_ID": "59",
                                    "FOGLALAS_PK": "1080",
                                    "Napok száma": "1",
                                    "(No column name)": "NULL"
                                },
                                {
                                    "SZOBA_ID": "59",
                                    "FOGLALAS_PK": "1084",
                                    "Napok száma": "2",
                                    "(No column name)": "1"
                                },
                                {
                                    "SZOBA_ID": "59",
                                    "FOGLALAS_PK": "1170",
                                    "Napok száma": "5",
                                    "(No column name)": "3"
                                },
                                {
                                    "SZOBA_ID": "59",
                                    "FOGLALAS_PK": "1191",
                                    "Napok száma": "6",
                                    "(No column name)": "8"
                                },
                                {
                                    "SZOBA_ID": "59",
                                    "FOGLALAS_PK": "1239",
                                    "Napok száma": "2",
                                    "(No column name)": "14"
                                },
                                {
                                    "SZOBA_ID": "59",
                                    "FOGLALAS_PK": "1288",
                                    "Napok száma": "3",
                                    "(No column name)": "16"
                                },
                                {
                                    "SZOBA_ID": "59",
                                    "FOGLALAS_PK": "1573",
                                    "Napok száma": "1",
                                    "(No column name)": "19"
                                },
                                {
                                    "SZOBA_ID": "60",
                                    "FOGLALAS_PK": "676",
                                    "Napok száma": "2",
                                    "(No column name)": "NULL"
                                },
                                {
                                    "SZOBA_ID": "61",
                                    "FOGLALAS_PK": "701",
                                    "Napok száma": "2",
                                    "(No column name)": "NULL"
                                },
                                {
                                    "SZOBA_ID": "61",
                                    "FOGLALAS_PK": "756",
                                    "Napok száma": "6",
                                    "(No column name)": "2"
                                },
                                {
                                    "SZOBA_ID": "61",
                                    "FOGLALAS_PK": "1148",
                                    "Napok száma": "3",
                                    "(No column name)": "8"
                                },
                                {
                                    "SZOBA_ID": "61",
                                    "FOGLALAS_PK": "1218",
                                    "Napok száma": "2",
                                    "(No column name)": "11"
                                },
                                {
                                    "SZOBA_ID": "61",
                                    "FOGLALAS_PK": "1496",
                                    "Napok száma": "7",
                                    "(No column name)": "13"
                                },
                                {
                                    "SZOBA_ID": "62",
                                    "FOGLALAS_PK": "936",
                                    "Napok száma": "3",
                                    "(No column name)": "NULL"
                                },
                                {
                                    "SZOBA_ID": "62",
                                    "FOGLALAS_PK": "938",
                                    "Napok száma": "1",
                                    "(No column name)": "3"
                                },
                                {
                                    "SZOBA_ID": "62",
                                    "FOGLALAS_PK": "702",
                                    "Napok száma": "5",
                                    "(No column name)": "4"
                                },
                                {
                                    "SZOBA_ID": "62",
                                    "FOGLALAS_PK": "1081",
                                    "Napok száma": "7",
                                    "(No column name)": "9"
                                },
                                {
                                    "SZOBA_ID": "62",
                                    "FOGLALAS_PK": "1426",
                                    "Napok száma": "4",
                                    "(No column name)": "16"
                                },
                                {
                                    "SZOBA_ID": "63",
                                    "FOGLALAS_PK": "625",
                                    "Napok száma": "3",
                                    "(No column name)": "NULL"
                                },
                                {
                                    "SZOBA_ID": "63",
                                    "FOGLALAS_PK": "891",
                                    "Napok száma": "6",
                                    "(No column name)": "3"
                                },
                                {
                                    "SZOBA_ID": "63",
                                    "FOGLALAS_PK": "769",
                                    "Napok száma": "5",
                                    "(No column name)": "9"
                                },
                                {
                                    "SZOBA_ID": "63",
                                    "FOGLALAS_PK": "845",
                                    "Napok száma": "1",
                                    "(No column name)": "14"
                                },
                                {
                                    "SZOBA_ID": "64",
                                    "FOGLALAS_PK": "875",
                                    "Napok száma": "2",
                                    "(No column name)": "NULL"
                                },
                                {
                                    "SZOBA_ID": "64",
                                    "FOGLALAS_PK": "1122",
                                    "Napok száma": "4",
                                    "(No column name)": "2"
                                },
                                {
                                    "SZOBA_ID": "64",
                                    "FOGLALAS_PK": "1233",
                                    "Napok száma": "7",
                                    "(No column name)": "6"
                                },
                                {
                                    "SZOBA_ID": "64",
                                    "FOGLALAS_PK": "1446",
                                    "Napok száma": "6",
                                    "(No column name)": "13"
                                },
                                {
                                    "SZOBA_ID": "64",
                                    "FOGLALAS_PK": "1465",
                                    "Napok száma": "4",
                                    "(No column name)": "19"
                                },
                                {
                                    "SZOBA_ID": "64",
                                    "FOGLALAS_PK": "1582",
                                    "Napok száma": "1",
                                    "(No column name)": "23"
                                },
                                {
                                    "SZOBA_ID": "65",
                                    "FOGLALAS_PK": "650",
                                    "Napok száma": "6",
                                    "(No column name)": "NULL"
                                },
                                {
                                    "SZOBA_ID": "66",
                                    "FOGLALAS_PK": "950",
                                    "Napok száma": "3",
                                    "(No column name)": "NULL"
                                },
                                {
                                    "SZOBA_ID": "66",
                                    "FOGLALAS_PK": "736",
                                    "Napok száma": "3",
                                    "(No column name)": "3"
                                },
                                {
                                    "SZOBA_ID": "66",
                                    "FOGLALAS_PK": "1234",
                                    "Napok száma": "3",
                                    "(No column name)": "6"
                                },
                                {
                                    "SZOBA_ID": "66",
                                    "FOGLALAS_PK": "1264",
                                    "Napok száma": "4",
                                    "(No column name)": "9"
                                },
                                {
                                    "SZOBA_ID": "67",
                                    "FOGLALAS_PK": "638",
                                    "Napok száma": "5",
                                    "(No column name)": "NULL"
                                },
                                {
                                    "SZOBA_ID": "67",
                                    "FOGLALAS_PK": "645",
                                    "Napok száma": "6",
                                    "(No column name)": "5"
                                },
                                {
                                    "SZOBA_ID": "67",
                                    "FOGLALAS_PK": "874",
                                    "Napok száma": "6",
                                    "(No column name)": "11"
                                },
                                {
                                    "SZOBA_ID": "67",
                                    "FOGLALAS_PK": "1382",
                                    "Napok száma": "1",
                                    "(No column name)": "17"
                                },
                                {
                                    "SZOBA_ID": "67",
                                    "FOGLALAS_PK": "1580",
                                    "Napok száma": "5",
                                    "(No column name)": "18"
                                },
                                {
                                    "SZOBA_ID": "67",
                                    "FOGLALAS_PK": "1584",
                                    "Napok száma": "1",
                                    "(No column name)": "23"
                                },
                                {
                                    "SZOBA_ID": "68",
                                    "FOGLALAS_PK": "563",
                                    "Napok száma": "5",
                                    "(No column name)": "NULL"
                                },
                                {
                                    "SZOBA_ID": "68",
                                    "FOGLALAS_PK": "1027",
                                    "Napok száma": "7",
                                    "(No column name)": "5"
                                },
                                {
                                    "SZOBA_ID": "68",
                                    "FOGLALAS_PK": "1324",
                                    "Napok száma": "4",
                                    "(No column name)": "12"
                                },
                                {
                                    "SZOBA_ID": "69",
                                    "FOGLALAS_PK": "885",
                                    "Napok száma": "1",
                                    "(No column name)": "NULL"
                                },
                                {
                                    "SZOBA_ID": "69",
                                    "FOGLALAS_PK": "1055",
                                    "Napok száma": "5",
                                    "(No column name)": "1"
                                },
                                {
                                    "SZOBA_ID": "69",
                                    "FOGLALAS_PK": "1225",
                                    "Napok száma": "5",
                                    "(No column name)": "6"
                                },
                                {
                                    "SZOBA_ID": "69",
                                    "FOGLALAS_PK": "1246",
                                    "Napok száma": "7",
                                    "(No column name)": "11"
                                },
                                {
                                    "SZOBA_ID": "70",
                                    "FOGLALAS_PK": "585",
                                    "Napok száma": "5",
                                    "(No column name)": "NULL"
                                },
                                {
                                    "SZOBA_ID": "70",
                                    "FOGLALAS_PK": "860",
                                    "Napok száma": "2",
                                    "(No column name)": "5"
                                },
                                {
                                    "SZOBA_ID": "70",
                                    "FOGLALAS_PK": "1006",
                                    "Napok száma": "3",
                                    "(No column name)": "7"
                                },
                                {
                                    "SZOBA_ID": "70",
                                    "FOGLALAS_PK": "704",
                                    "Napok száma": "3",
                                    "(No column name)": "10"
                                },
                                {
                                    "SZOBA_ID": "70",
                                    "FOGLALAS_PK": "814",
                                    "Napok száma": "3",
                                    "(No column name)": "13"
                                },
                                {
                                    "SZOBA_ID": "70",
                                    "FOGLALAS_PK": "1092",
                                    "Napok száma": "3",
                                    "(No column name)": "16"
                                },
                                {
                                    "SZOBA_ID": "70",
                                    "FOGLALAS_PK": "1126",
                                    "Napok száma": "3",
                                    "(No column name)": "19"
                                },
                                {
                                    "SZOBA_ID": "70",
                                    "FOGLALAS_PK": "1325",
                                    "Napok száma": "7",
                                    "(No column name)": "22"
                                },
                                {
                                    "SZOBA_ID": "70",
                                    "FOGLALAS_PK": "1333",
                                    "Napok száma": "6",
                                    "(No column name)": "29"
                                },
                                {
                                    "SZOBA_ID": "70",
                                    "FOGLALAS_PK": "1365",
                                    "Napok száma": "3",
                                    "(No column name)": "35"
                                },
                                {
                                    "SZOBA_ID": "70",
                                    "FOGLALAS_PK": "1457",
                                    "Napok száma": "7",
                                    "(No column name)": "38"
                                },
                                {
                                    "SZOBA_ID": "71",
                                    "FOGLALAS_PK": "1009",
                                    "Napok száma": "1",
                                    "(No column name)": "NULL"
                                },
                                {
                                    "SZOBA_ID": "71",
                                    "FOGLALAS_PK": "681",
                                    "Napok száma": "3",
                                    "(No column name)": "1"
                                },
                                {
                                    "SZOBA_ID": "71",
                                    "FOGLALAS_PK": "712",
                                    "Napok száma": "1",
                                    "(No column name)": "4"
                                },
                                {
                                    "SZOBA_ID": "72",
                                    "FOGLALAS_PK": "902",
                                    "Napok száma": "5",
                                    "(No column name)": "NULL"
                                },
                                {
                                    "SZOBA_ID": "72",
                                    "FOGLALAS_PK": "961",
                                    "Napok száma": "6",
                                    "(No column name)": "5"
                                },
                                {
                                    "SZOBA_ID": "72",
                                    "FOGLALAS_PK": "1318",
                                    "Napok száma": "2",
                                    "(No column name)": "11"
                                },
                                {
                                    "SZOBA_ID": "72",
                                    "FOGLALAS_PK": "1396",
                                    "Napok száma": "3",
                                    "(No column name)": "13"
                                },
                                {
                                    "SZOBA_ID": "73",
                                    "FOGLALAS_PK": "1000",
                                    "Napok száma": "4",
                                    "(No column name)": "NULL"
                                },
                                {
                                    "SZOBA_ID": "73",
                                    "FOGLALAS_PK": "714",
                                    "Napok száma": "7",
                                    "(No column name)": "4"
                                },
                                {
                                    "SZOBA_ID": "73",
                                    "FOGLALAS_PK": "1159",
                                    "Napok száma": "5",
                                    "(No column name)": "11"
                                },
                                {
                                    "SZOBA_ID": "73",
                                    "FOGLALAS_PK": "1331",
                                    "Napok száma": "4",
                                    "(No column name)": "16"
                                },
                                {
                                    "SZOBA_ID": "74",
                                    "FOGLALAS_PK": "595",
                                    "Napok száma": "7",
                                    "(No column name)": "NULL"
                                },
                                {
                                    "SZOBA_ID": "74",
                                    "FOGLALAS_PK": "877",
                                    "Napok száma": "4",
                                    "(No column name)": "7"
                                },
                                {
                                    "SZOBA_ID": "74",
                                    "FOGLALAS_PK": "940",
                                    "Napok száma": "5",
                                    "(No column name)": "11"
                                },
                                {
                                    "SZOBA_ID": "74",
                                    "FOGLALAS_PK": "963",
                                    "Napok száma": "1",
                                    "(No column name)": "16"
                                },
                                {
                                    "SZOBA_ID": "74",
                                    "FOGLALAS_PK": "797",
                                    "Napok száma": "5",
                                    "(No column name)": "17"
                                },
                                {
                                    "SZOBA_ID": "74",
                                    "FOGLALAS_PK": "830",
                                    "Napok száma": "1",
                                    "(No column name)": "22"
                                },
                                {
                                    "SZOBA_ID": "74",
                                    "FOGLALAS_PK": "847",
                                    "Napok száma": "3",
                                    "(No column name)": "23"
                                },
                                {
                                    "SZOBA_ID": "74",
                                    "FOGLALAS_PK": "1093",
                                    "Napok száma": "6",
                                    "(No column name)": "26"
                                },
                                {
                                    "SZOBA_ID": "74",
                                    "FOGLALAS_PK": "1179",
                                    "Napok száma": "7",
                                    "(No column name)": "32"
                                },
                                {
                                    "SZOBA_ID": "75",
                                    "FOGLALAS_PK": "1013",
                                    "Napok száma": "5",
                                    "(No column name)": "NULL"
                                },
                                {
                                    "SZOBA_ID": "75",
                                    "FOGLALAS_PK": "1412",
                                    "Napok száma": "2",
                                    "(No column name)": "5"
                                },
                                {
                                    "SZOBA_ID": "75",
                                    "FOGLALAS_PK": "1458",
                                    "Napok száma": "1",
                                    "(No column name)": "7"
                                },
                                {
                                    "SZOBA_ID": "76",
                                    "FOGLALAS_PK": "976",
                                    "Napok száma": "2",
                                    "(No column name)": "NULL"
                                },
                                {
                                    "SZOBA_ID": "76",
                                    "FOGLALAS_PK": "683",
                                    "Napok száma": "7",
                                    "(No column name)": "2"
                                },
                                {
                                    "SZOBA_ID": "76",
                                    "FOGLALAS_PK": "1557",
                                    "Napok száma": "3",
                                    "(No column name)": "9"
                                },
                                {
                                    "SZOBA_ID": "77",
                                    "FOGLALAS_PK": "593",
                                    "Napok száma": "3",
                                    "(No column name)": "NULL"
                                },
                                {
                                    "SZOBA_ID": "77",
                                    "FOGLALAS_PK": "982",
                                    "Napok száma": "3",
                                    "(No column name)": "3"
                                },
                                {
                                    "SZOBA_ID": "77",
                                    "FOGLALAS_PK": "698",
                                    "Napok száma": "4",
                                    "(No column name)": "6"
                                },
                                {
                                    "SZOBA_ID": "77",
                                    "FOGLALAS_PK": "1104",
                                    "Napok száma": "1",
                                    "(No column name)": "10"
                                },
                                {
                                    "SZOBA_ID": "77",
                                    "FOGLALAS_PK": "1439",
                                    "Napok száma": "6",
                                    "(No column name)": "11"
                                },
                                {
                                    "SZOBA_ID": "77",
                                    "FOGLALAS_PK": "1461",
                                    "Napok száma": "4",
                                    "(No column name)": "17"
                                },
                                {
                                    "SZOBA_ID": "78",
                                    "FOGLALAS_PK": "568",
                                    "Napok száma": "1",
                                    "(No column name)": "NULL"
                                },
                                {
                                    "SZOBA_ID": "78",
                                    "FOGLALAS_PK": "646",
                                    "Napok száma": "3",
                                    "(No column name)": "1"
                                },
                                {
                                    "SZOBA_ID": "78",
                                    "FOGLALAS_PK": "700",
                                    "Napok száma": "5",
                                    "(No column name)": "4"
                                },
                                {
                                    "SZOBA_ID": "78",
                                    "FOGLALAS_PK": "1268",
                                    "Napok száma": "2",
                                    "(No column name)": "9"
                                },
                                {
                                    "SZOBA_ID": "78",
                                    "FOGLALAS_PK": "1281",
                                    "Napok száma": "3",
                                    "(No column name)": "11"
                                },
                                {
                                    "SZOBA_ID": "78",
                                    "FOGLALAS_PK": "1577",
                                    "Napok száma": "7",
                                    "(No column name)": "14"
                                },
                                {
                                    "SZOBA_ID": "79",
                                    "FOGLALAS_PK": "583",
                                    "Napok száma": "6",
                                    "(No column name)": "NULL"
                                },
                                {
                                    "SZOBA_ID": "79",
                                    "FOGLALAS_PK": "1054",
                                    "Napok száma": "1",
                                    "(No column name)": "6"
                                },
                                {
                                    "SZOBA_ID": "79",
                                    "FOGLALAS_PK": "1229",
                                    "Napok száma": "7",
                                    "(No column name)": "7"
                                },
                                {
                                    "SZOBA_ID": "79",
                                    "FOGLALAS_PK": "1345",
                                    "Napok száma": "3",
                                    "(No column name)": "14"
                                },
                                {
                                    "SZOBA_ID": "79",
                                    "FOGLALAS_PK": "1447",
                                    "Napok száma": "4",
                                    "(No column name)": "17"
                                },
                                {
                                    "SZOBA_ID": "80",
                                    "FOGLALAS_PK": "887",
                                    "Napok száma": "6",
                                    "(No column name)": "NULL"
                                },
                                {
                                    "SZOBA_ID": "80",
                                    "FOGLALAS_PK": "929",
                                    "Napok száma": "2",
                                    "(No column name)": "6"
                                },
                                {
                                    "SZOBA_ID": "80",
                                    "FOGLALAS_PK": "983",
                                    "Napok száma": "6",
                                    "(No column name)": "8"
                                },
                                {
                                    "SZOBA_ID": "80",
                                    "FOGLALAS_PK": "667",
                                    "Napok száma": "6",
                                    "(No column name)": "14"
                                },
                                {
                                    "SZOBA_ID": "80",
                                    "FOGLALAS_PK": "1071",
                                    "Napok száma": "4",
                                    "(No column name)": "20"
                                },
                                {
                                    "SZOBA_ID": "80",
                                    "FOGLALAS_PK": "1279",
                                    "Napok száma": "5",
                                    "(No column name)": "24"
                                },
                                {
                                    "SZOBA_ID": "80",
                                    "FOGLALAS_PK": "1367",
                                    "Napok száma": "3",
                                    "(No column name)": "29"
                                },
                                {
                                    "SZOBA_ID": "81",
                                    "FOGLALAS_PK": "1366",
                                    "Napok száma": "5",
                                    "(No column name)": "NULL"
                                },
                                {
                                    "SZOBA_ID": "81",
                                    "FOGLALAS_PK": "1443",
                                    "Napok száma": "7",
                                    "(No column name)": "5"
                                },
                                {
                                    "SZOBA_ID": "81",
                                    "FOGLALAS_PK": "1464",
                                    "Napok száma": "7",
                                    "(No column name)": "12"
                                },
                                {
                                    "SZOBA_ID": "81",
                                    "FOGLALAS_PK": "1506",
                                    "Napok száma": "3",
                                    "(No column name)": "19"
                                },
                                {
                                    "SZOBA_ID": "81",
                                    "FOGLALAS_PK": "1562",
                                    "Napok száma": "3",
                                    "(No column name)": "22"
                                },
                                {
                                    "SZOBA_ID": "82",
                                    "FOGLALAS_PK": "862",
                                    "Napok száma": "4",
                                    "(No column name)": "NULL"
                                },
                                {
                                    "SZOBA_ID": "82",
                                    "FOGLALAS_PK": "871",
                                    "Napok száma": "5",
                                    "(No column name)": "4"
                                },
                                {
                                    "SZOBA_ID": "82",
                                    "FOGLALAS_PK": "997",
                                    "Napok száma": "6",
                                    "(No column name)": "9"
                                },
                                {
                                    "SZOBA_ID": "82",
                                    "FOGLALAS_PK": "1277",
                                    "Napok száma": "5",
                                    "(No column name)": "15"
                                },
                                {
                                    "SZOBA_ID": "82",
                                    "FOGLALAS_PK": "1341",
                                    "Napok száma": "2",
                                    "(No column name)": "20"
                                },
                                {
                                    "SZOBA_ID": "82",
                                    "FOGLALAS_PK": "1406",
                                    "Napok száma": "1",
                                    "(No column name)": "22"
                                },
                                {
                                    "SZOBA_ID": "83",
                                    "FOGLALAS_PK": "572",
                                    "Napok száma": "7",
                                    "(No column name)": "NULL"
                                },
                                {
                                    "SZOBA_ID": "83",
                                    "FOGLALAS_PK": "869",
                                    "Napok száma": "6",
                                    "(No column name)": "7"
                                },
                                {
                                    "SZOBA_ID": "83",
                                    "FOGLALAS_PK": "878",
                                    "Napok száma": "6",
                                    "(No column name)": "13"
                                },
                                {
                                    "SZOBA_ID": "83",
                                    "FOGLALAS_PK": "995",
                                    "Napok száma": "5",
                                    "(No column name)": "19"
                                },
                                {
                                    "SZOBA_ID": "83",
                                    "FOGLALAS_PK": "674",
                                    "Napok száma": "4",
                                    "(No column name)": "24"
                                },
                                {
                                    "SZOBA_ID": "83",
                                    "FOGLALAS_PK": "798",
                                    "Napok száma": "4",
                                    "(No column name)": "28"
                                },
                                {
                                    "SZOBA_ID": "83",
                                    "FOGLALAS_PK": "1119",
                                    "Napok száma": "6",
                                    "(No column name)": "32"
                                },
                                {
                                    "SZOBA_ID": "83",
                                    "FOGLALAS_PK": "1379",
                                    "Napok száma": "7",
                                    "(No column name)": "38"
                                },
                                {
                                    "SZOBA_ID": "84",
                                    "FOGLALAS_PK": "954",
                                    "Napok száma": "5",
                                    "(No column name)": "NULL"
                                },
                                {
                                    "SZOBA_ID": "84",
                                    "FOGLALAS_PK": "819",
                                    "Napok száma": "2",
                                    "(No column name)": "5"
                                },
                                {
                                    "SZOBA_ID": "84",
                                    "FOGLALAS_PK": "1376",
                                    "Napok száma": "5",
                                    "(No column name)": "7"
                                },
                                {
                                    "SZOBA_ID": "84",
                                    "FOGLALAS_PK": "1384",
                                    "Napok száma": "7",
                                    "(No column name)": "12"
                                },
                                {
                                    "SZOBA_ID": "85",
                                    "FOGLALAS_PK": "647",
                                    "Napok száma": "3",
                                    "(No column name)": "NULL"
                                },
                                {
                                    "SZOBA_ID": "85",
                                    "FOGLALAS_PK": "1059",
                                    "Napok száma": "3",
                                    "(No column name)": "3"
                                },
                                {
                                    "SZOBA_ID": "85",
                                    "FOGLALAS_PK": "1320",
                                    "Napok száma": "1",
                                    "(No column name)": "6"
                                },
                                {
                                    "SZOBA_ID": "85",
                                    "FOGLALAS_PK": "1513",
                                    "Napok száma": "7",
                                    "(No column name)": "7"
                                },
                                {
                                    "SZOBA_ID": "86",
                                    "FOGLALAS_PK": "859",
                                    "Napok száma": "1",
                                    "(No column name)": "NULL"
                                },
                                {
                                    "SZOBA_ID": "86",
                                    "FOGLALAS_PK": "1057",
                                    "Napok száma": "5",
                                    "(No column name)": "1"
                                },
                                {
                                    "SZOBA_ID": "86",
                                    "FOGLALAS_PK": "1079",
                                    "Napok száma": "4",
                                    "(No column name)": "6"
                                },
                                {
                                    "SZOBA_ID": "86",
                                    "FOGLALAS_PK": "1108",
                                    "Napok száma": "1",
                                    "(No column name)": "10"
                                },
                                {
                                    "SZOBA_ID": "86",
                                    "FOGLALAS_PK": "1453",
                                    "Napok száma": "1",
                                    "(No column name)": "11"
                                },
                                {
                                    "SZOBA_ID": "87",
                                    "FOGLALAS_PK": "558",
                                    "Napok száma": "4",
                                    "(No column name)": "NULL"
                                },
                                {
                                    "SZOBA_ID": "87",
                                    "FOGLALAS_PK": "844",
                                    "Napok száma": "1",
                                    "(No column name)": "4"
                                },
                                {
                                    "SZOBA_ID": "87",
                                    "FOGLALAS_PK": "1103",
                                    "Napok száma": "3",
                                    "(No column name)": "5"
                                },
                                {
                                    "SZOBA_ID": "87",
                                    "FOGLALAS_PK": "1349",
                                    "Napok száma": "5",
                                    "(No column name)": "8"
                                },
                                {
                                    "SZOBA_ID": "87",
                                    "FOGLALAS_PK": "1456",
                                    "Napok száma": "5",
                                    "(No column name)": "13"
                                },
                                {
                                    "SZOBA_ID": "88",
                                    "FOGLALAS_PK": "866",
                                    "Napok száma": "2",
                                    "(No column name)": "NULL"
                                },
                                {
                                    "SZOBA_ID": "88",
                                    "FOGLALAS_PK": "757",
                                    "Napok száma": "7",
                                    "(No column name)": "2"
                                },
                                {
                                    "SZOBA_ID": "88",
                                    "FOGLALAS_PK": "1196",
                                    "Napok száma": "3",
                                    "(No column name)": "9"
                                },
                                {
                                    "SZOBA_ID": "88",
                                    "FOGLALAS_PK": "1273",
                                    "Napok száma": "7",
                                    "(No column name)": "12"
                                },
                                {
                                    "SZOBA_ID": "88",
                                    "FOGLALAS_PK": "1300",
                                    "Napok száma": "3",
                                    "(No column name)": "19"
                                },
                                {
                                    "SZOBA_ID": "88",
                                    "FOGLALAS_PK": "1359",
                                    "Napok száma": "2",
                                    "(No column name)": "22"
                                },
                                {
                                    "SZOBA_ID": "88",
                                    "FOGLALAS_PK": "1548",
                                    "Napok száma": "7",
                                    "(No column name)": "24"
                                },
                                {
                                    "SZOBA_ID": "88",
                                    "FOGLALAS_PK": "1575",
                                    "Napok száma": "6",
                                    "(No column name)": "31"
                                },
                                {
                                    "SZOBA_ID": "89",
                                    "FOGLALAS_PK": "817",
                                    "Napok száma": "3",
                                    "(No column name)": "NULL"
                                },
                                {
                                    "SZOBA_ID": "89",
                                    "FOGLALAS_PK": "1037",
                                    "Napok száma": "7",
                                    "(No column name)": "3"
                                },
                                {
                                    "SZOBA_ID": "89",
                                    "FOGLALAS_PK": "1101",
                                    "Napok száma": "5",
                                    "(No column name)": "10"
                                },
                                {
                                    "SZOBA_ID": "89",
                                    "FOGLALAS_PK": "1189",
                                    "Napok száma": "6",
                                    "(No column name)": "15"
                                },
                                {
                                    "SZOBA_ID": "89",
                                    "FOGLALAS_PK": "1253",
                                    "Napok száma": "2",
                                    "(No column name)": "21"
                                },
                                {
                                    "SZOBA_ID": "89",
                                    "FOGLALAS_PK": "1269",
                                    "Napok száma": "2",
                                    "(No column name)": "23"
                                },
                                {
                                    "SZOBA_ID": "89",
                                    "FOGLALAS_PK": "1399",
                                    "Napok száma": "2",
                                    "(No column name)": "25"
                                },
                                {
                                    "SZOBA_ID": "89",
                                    "FOGLALAS_PK": "1521",
                                    "Napok száma": "7",
                                    "(No column name)": "27"
                                },
                                {
                                    "SZOBA_ID": "90",
                                    "FOGLALAS_PK": "729",
                                    "Napok száma": "2",
                                    "(No column name)": "NULL"
                                },
                                {
                                    "SZOBA_ID": "90",
                                    "FOGLALAS_PK": "1174",
                                    "Napok száma": "7",
                                    "(No column name)": "2"
                                },
                                {
                                    "SZOBA_ID": "90",
                                    "FOGLALAS_PK": "1299",
                                    "Napok száma": "6",
                                    "(No column name)": "9"
                                },
                                {
                                    "SZOBA_ID": "90",
                                    "FOGLALAS_PK": "1405",
                                    "Napok száma": "5",
                                    "(No column name)": "15"
                                },
                                {
                                    "SZOBA_ID": "91",
                                    "FOGLALAS_PK": "636",
                                    "Napok száma": "6",
                                    "(No column name)": "NULL"
                                },
                                {
                                    "SZOBA_ID": "91",
                                    "FOGLALAS_PK": "732",
                                    "Napok száma": "4",
                                    "(No column name)": "6"
                                },
                                {
                                    "SZOBA_ID": "91",
                                    "FOGLALAS_PK": "1213",
                                    "Napok száma": "3",
                                    "(No column name)": "10"
                                },
                                {
                                    "SZOBA_ID": "91",
                                    "FOGLALAS_PK": "1397",
                                    "Napok száma": "4",
                                    "(No column name)": "13"
                                },
                                {
                                    "SZOBA_ID": "92",
                                    "FOGLALAS_PK": "942",
                                    "Napok száma": "6",
                                    "(No column name)": "NULL"
                                },
                                {
                                    "SZOBA_ID": "92",
                                    "FOGLALAS_PK": "1016",
                                    "Napok száma": "2",
                                    "(No column name)": "6"
                                },
                                {
                                    "SZOBA_ID": "92",
                                    "FOGLALAS_PK": "809",
                                    "Napok száma": "3",
                                    "(No column name)": "8"
                                },
                                {
                                    "SZOBA_ID": "92",
                                    "FOGLALAS_PK": "841",
                                    "Napok száma": "6",
                                    "(No column name)": "11"
                                },
                                {
                                    "SZOBA_ID": "92",
                                    "FOGLALAS_PK": "1527",
                                    "Napok száma": "2",
                                    "(No column name)": "17"
                                },
                                {
                                    "SZOBA_ID": "92",
                                    "FOGLALAS_PK": "1555",
                                    "Napok száma": "4",
                                    "(No column name)": "19"
                                },
                                {
                                    "SZOBA_ID": "93",
                                    "FOGLALAS_PK": "741",
                                    "Napok száma": "7",
                                    "(No column name)": "NULL"
                                },
                                {
                                    "SZOBA_ID": "93",
                                    "FOGLALAS_PK": "1169",
                                    "Napok száma": "4",
                                    "(No column name)": "7"
                                },
                                {
                                    "SZOBA_ID": "93",
                                    "FOGLALAS_PK": "1217",
                                    "Napok száma": "1",
                                    "(No column name)": "11"
                                },
                                {
                                    "SZOBA_ID": "93",
                                    "FOGLALAS_PK": "1355",
                                    "Napok száma": "2",
                                    "(No column name)": "12"
                                },
                                {
                                    "SZOBA_ID": "93",
                                    "FOGLALAS_PK": "1391",
                                    "Napok száma": "4",
                                    "(No column name)": "14"
                                },
                                {
                                    "SZOBA_ID": "94",
                                    "FOGLALAS_PK": "616",
                                    "Napok száma": "4",
                                    "(No column name)": "NULL"
                                },
                                {
                                    "SZOBA_ID": "94",
                                    "FOGLALAS_PK": "975",
                                    "Napok száma": "5",
                                    "(No column name)": "4"
                                },
                                {
                                    "SZOBA_ID": "94",
                                    "FOGLALAS_PK": "665",
                                    "Napok száma": "7",
                                    "(No column name)": "9"
                                },
                                {
                                    "SZOBA_ID": "94",
                                    "FOGLALAS_PK": "727",
                                    "Napok száma": "3",
                                    "(No column name)": "16"
                                },
                                {
                                    "SZOBA_ID": "94",
                                    "FOGLALAS_PK": "1241",
                                    "Napok száma": "7",
                                    "(No column name)": "19"
                                },
                                {
                                    "SZOBA_ID": "94",
                                    "FOGLALAS_PK": "1305",
                                    "Napok száma": "2",
                                    "(No column name)": "26"
                                },
                                {
                                    "SZOBA_ID": "94",
                                    "FOGLALAS_PK": "1312",
                                    "Napok száma": "3",
                                    "(No column name)": "28"
                                },
                                {
                                    "SZOBA_ID": "94",
                                    "FOGLALAS_PK": "1368",
                                    "Napok száma": "1",
                                    "(No column name)": "31"
                                },
                                {
                                    "SZOBA_ID": "94",
                                    "FOGLALAS_PK": "1518",
                                    "Napok száma": "2",
                                    "(No column name)": "32"
                                },
                                {
                                    "SZOBA_ID": "94",
                                    "FOGLALAS_PK": "1564",
                                    "Napok száma": "7",
                                    "(No column name)": "34"
                                },
                                {
                                    "SZOBA_ID": "95",
                                    "FOGLALAS_PK": "656",
                                    "Napok száma": "7",
                                    "(No column name)": "NULL"
                                },
                                {
                                    "SZOBA_ID": "95",
                                    "FOGLALAS_PK": "1048",
                                    "Napok száma": "3",
                                    "(No column name)": "7"
                                },
                                {
                                    "SZOBA_ID": "95",
                                    "FOGLALAS_PK": "1097",
                                    "Napok száma": "4",
                                    "(No column name)": "10"
                                },
                                {
                                    "SZOBA_ID": "95",
                                    "FOGLALAS_PK": "1543",
                                    "Napok száma": "7",
                                    "(No column name)": "14"
                                },
                                {
                                    "SZOBA_ID": "96",
                                    "FOGLALAS_PK": "607",
                                    "Napok száma": "4",
                                    "(No column name)": "NULL"
                                },
                                {
                                    "SZOBA_ID": "96",
                                    "FOGLALAS_PK": "623",
                                    "Napok száma": "7",
                                    "(No column name)": "4"
                                },
                                {
                                    "SZOBA_ID": "96",
                                    "FOGLALAS_PK": "671",
                                    "Napok száma": "4",
                                    "(No column name)": "11"
                                },
                                {
                                    "SZOBA_ID": "96",
                                    "FOGLALAS_PK": "780",
                                    "Napok száma": "1",
                                    "(No column name)": "15"
                                },
                                {
                                    "SZOBA_ID": "96",
                                    "FOGLALAS_PK": "1378",
                                    "Napok száma": "3",
                                    "(No column name)": "16"
                                },
                                {
                                    "SZOBA_ID": "96",
                                    "FOGLALAS_PK": "1438",
                                    "Napok száma": "2",
                                    "(No column name)": "19"
                                },
                                {
                                    "SZOBA_ID": "96",
                                    "FOGLALAS_PK": "1569",
                                    "Napok száma": "7",
                                    "(No column name)": "21"
                                },
                                {
                                    "SZOBA_ID": "97",
                                    "FOGLALAS_PK": "635",
                                    "Napok száma": "3",
                                    "(No column name)": "NULL"
                                },
                                {
                                    "SZOBA_ID": "97",
                                    "FOGLALAS_PK": "726",
                                    "Napok száma": "4",
                                    "(No column name)": "3"
                                },
                                {
                                    "SZOBA_ID": "97",
                                    "FOGLALAS_PK": "718",
                                    "Napok száma": "7",
                                    "(No column name)": "7"
                                },
                                {
                                    "SZOBA_ID": "97",
                                    "FOGLALAS_PK": "836",
                                    "Napok száma": "2",
                                    "(No column name)": "14"
                                },
                                {
                                    "SZOBA_ID": "97",
                                    "FOGLALAS_PK": "1395",
                                    "Napok száma": "1",
                                    "(No column name)": "16"
                                },
                                {
                                    "SZOBA_ID": "97",
                                    "FOGLALAS_PK": "1417",
                                    "Napok száma": "7",
                                    "(No column name)": "17"
                                },
                                {
                                    "SZOBA_ID": "97",
                                    "FOGLALAS_PK": "1528",
                                    "Napok száma": "2",
                                    "(No column name)": "24"
                                },
                                {
                                    "SZOBA_ID": "98",
                                    "FOGLALAS_PK": "631",
                                    "Napok száma": "6",
                                    "(No column name)": "NULL"
                                },
                                {
                                    "SZOBA_ID": "98",
                                    "FOGLALAS_PK": "884",
                                    "Napok száma": "5",
                                    "(No column name)": "6"
                                },
                                {
                                    "SZOBA_ID": "98",
                                    "FOGLALAS_PK": "1050",
                                    "Napok száma": "6",
                                    "(No column name)": "11"
                                },
                                {
                                    "SZOBA_ID": "98",
                                    "FOGLALAS_PK": "1402",
                                    "Napok száma": "2",
                                    "(No column name)": "17"
                                },
                                {
                                    "SZOBA_ID": "99",
                                    "FOGLALAS_PK": "632",
                                    "Napok száma": "1",
                                    "(No column name)": "NULL"
                                },
                                {
                                    "SZOBA_ID": "99",
                                    "FOGLALAS_PK": "691",
                                    "Napok száma": "5",
                                    "(No column name)": "1"
                                },
                                {
                                    "SZOBA_ID": "99",
                                    "FOGLALAS_PK": "1072",
                                    "Napok száma": "1",
                                    "(No column name)": "6"
                                },
                                {
                                    "SZOBA_ID": "99",
                                    "FOGLALAS_PK": "1408",
                                    "Napok száma": "1",
                                    "(No column name)": "7"
                                },
                                {
                                    "SZOBA_ID": "99",
                                    "FOGLALAS_PK": "1486",
                                    "Napok száma": "5",
                                    "(No column name)": "8"
                                },
                                {
                                    "SZOBA_ID": "100",
                                    "FOGLALAS_PK": "597",
                                    "Napok száma": "1",
                                    "(No column name)": "NULL"
                                },
                                {
                                    "SZOBA_ID": "100",
                                    "FOGLALAS_PK": "637",
                                    "Napok száma": "5",
                                    "(No column name)": "1"
                                },
                                {
                                    "SZOBA_ID": "100",
                                    "FOGLALAS_PK": "1315",
                                    "Napok száma": "5",
                                    "(No column name)": "6"
                                },
                                {
                                    "SZOBA_ID": "100",
                                    "FOGLALAS_PK": "1482",
                                    "Napok száma": "7",
                                    "(No column name)": "11"
                                },
                                {
                                    "SZOBA_ID": "101",
                                    "FOGLALAS_PK": "715",
                                    "Napok száma": "3",
                                    "(No column name)": "NULL"
                                },
                                {
                                    "SZOBA_ID": "101",
                                    "FOGLALAS_PK": "1332",
                                    "Napok száma": "6",
                                    "(No column name)": "3"
                                },
                                {
                                    "SZOBA_ID": "101",
                                    "FOGLALAS_PK": "1516",
                                    "Napok száma": "4",
                                    "(No column name)": "9"
                                },
                                {
                                    "SZOBA_ID": "102",
                                    "FOGLALAS_PK": "689",
                                    "Napok száma": "5",
                                    "(No column name)": "NULL"
                                },
                                {
                                    "SZOBA_ID": "102",
                                    "FOGLALAS_PK": "1343",
                                    "Napok száma": "2",
                                    "(No column name)": "5"
                                },
                                {
                                    "SZOBA_ID": "103",
                                    "FOGLALAS_PK": "972",
                                    "Napok száma": "2",
                                    "(No column name)": "NULL"
                                },
                                {
                                    "SZOBA_ID": "103",
                                    "FOGLALAS_PK": "992",
                                    "Napok száma": "7",
                                    "(No column name)": "2"
                                },
                                {
                                    "SZOBA_ID": "103",
                                    "FOGLALAS_PK": "1398",
                                    "Napok száma": "1",
                                    "(No column name)": "9"
                                },
                                {
                                    "SZOBA_ID": "103",
                                    "FOGLALAS_PK": "1485",
                                    "Napok száma": "4",
                                    "(No column name)": "10"
                                },
                                {
                                    "SZOBA_ID": "104",
                                    "FOGLALAS_PK": "837",
                                    "Napok száma": "4",
                                    "(No column name)": "NULL"
                                },
                                {
                                    "SZOBA_ID": "104",
                                    "FOGLALAS_PK": "1180",
                                    "Napok száma": "1",
                                    "(No column name)": "4"
                                },
                                {
                                    "SZOBA_ID": "104",
                                    "FOGLALAS_PK": "1522",
                                    "Napok száma": "2",
                                    "(No column name)": "5"
                                },
                                {
                                    "SZOBA_ID": "104",
                                    "FOGLALAS_PK": "1532",
                                    "Napok száma": "3",
                                    "(No column name)": "7"
                                },
                                {
                                    "SZOBA_ID": "105",
                                    "FOGLALAS_PK": "618",
                                    "Napok száma": "1",
                                    "(No column name)": "NULL"
                                },
                                {
                                    "SZOBA_ID": "105",
                                    "FOGLALAS_PK": "1525",
                                    "Napok száma": "5",
                                    "(No column name)": "1"
                                },
                                {
                                    "SZOBA_ID": "106",
                                    "FOGLALAS_PK": "610",
                                    "Napok száma": "3",
                                    "(No column name)": "NULL"
                                },
                                {
                                    "SZOBA_ID": "106",
                                    "FOGLALAS_PK": "708",
                                    "Napok száma": "7",
                                    "(No column name)": "3"
                                },
                                {
                                    "SZOBA_ID": "106",
                                    "FOGLALAS_PK": "1228",
                                    "Napok száma": "7",
                                    "(No column name)": "10"
                                },
                                {
                                    "SZOBA_ID": "106",
                                    "FOGLALAS_PK": "1271",
                                    "Napok száma": "5",
                                    "(No column name)": "17"
                                },
                                {
                                    "SZOBA_ID": "106",
                                    "FOGLALAS_PK": "1372",
                                    "Napok száma": "7",
                                    "(No column name)": "22"
                                },
                                {
                                    "SZOBA_ID": "106",
                                    "FOGLALAS_PK": "1510",
                                    "Napok száma": "6",
                                    "(No column name)": "29"
                                },
                                {
                                    "SZOBA_ID": "107",
                                    "FOGLALAS_PK": "586",
                                    "Napok száma": "6",
                                    "(No column name)": "NULL"
                                },
                                {
                                    "SZOBA_ID": "107",
                                    "FOGLALAS_PK": "1250",
                                    "Napok száma": "4",
                                    "(No column name)": "6"
                                },
                                {
                                    "SZOBA_ID": "107",
                                    "FOGLALAS_PK": "1354",
                                    "Napok száma": "1",
                                    "(No column name)": "10"
                                },
                                {
                                    "SZOBA_ID": "107",
                                    "FOGLALAS_PK": "1452",
                                    "Napok száma": "6",
                                    "(No column name)": "11"
                                },
                                {
                                    "SZOBA_ID": "107",
                                    "FOGLALAS_PK": "1494",
                                    "Napok száma": "2",
                                    "(No column name)": "17"
                                },
                                {
                                    "SZOBA_ID": "108",
                                    "FOGLALAS_PK": "1102",
                                    "Napok száma": "1",
                                    "(No column name)": "NULL"
                                },
                                {
                                    "SZOBA_ID": "108",
                                    "FOGLALAS_PK": "1392",
                                    "Napok száma": "6",
                                    "(No column name)": "1"
                                },
                                {
                                    "SZOBA_ID": "109",
                                    "FOGLALAS_PK": "614",
                                    "Napok száma": "4",
                                    "(No column name)": "NULL"
                                },
                                {
                                    "SZOBA_ID": "109",
                                    "FOGLALAS_PK": "621",
                                    "Napok száma": "7",
                                    "(No column name)": "4"
                                },
                                {
                                    "SZOBA_ID": "109",
                                    "FOGLALAS_PK": "654",
                                    "Napok száma": "5",
                                    "(No column name)": "11"
                                },
                                {
                                    "SZOBA_ID": "109",
                                    "FOGLALAS_PK": "810",
                                    "Napok száma": "2",
                                    "(No column name)": "16"
                                },
                                {
                                    "SZOBA_ID": "109",
                                    "FOGLALAS_PK": "1083",
                                    "Napok száma": "1",
                                    "(No column name)": "18"
                                },
                                {
                                    "SZOBA_ID": "109",
                                    "FOGLALAS_PK": "1298",
                                    "Napok száma": "4",
                                    "(No column name)": "19"
                                },
                                {
                                    "SZOBA_ID": "109",
                                    "FOGLALAS_PK": "1560",
                                    "Napok száma": "1",
                                    "(No column name)": "23"
                                },
                                {
                                    "SZOBA_ID": "110",
                                    "FOGLALAS_PK": "931",
                                    "Napok száma": "5",
                                    "(No column name)": "NULL"
                                },
                                {
                                    "SZOBA_ID": "110",
                                    "FOGLALAS_PK": "964",
                                    "Napok száma": "6",
                                    "(No column name)": "5"
                                },
                                {
                                    "SZOBA_ID": "110",
                                    "FOGLALAS_PK": "685",
                                    "Napok száma": "1",
                                    "(No column name)": "11"
                                },
                                {
                                    "SZOBA_ID": "110",
                                    "FOGLALAS_PK": "1041",
                                    "Napok száma": "3",
                                    "(No column name)": "12"
                                },
                                {
                                    "SZOBA_ID": "110",
                                    "FOGLALAS_PK": "1109",
                                    "Napok száma": "5",
                                    "(No column name)": "15"
                                },
                                {
                                    "SZOBA_ID": "110",
                                    "FOGLALAS_PK": "1162",
                                    "Napok száma": "2",
                                    "(No column name)": "20"
                                },
                                {
                                    "SZOBA_ID": "110",
                                    "FOGLALAS_PK": "1424",
                                    "Napok száma": "1",
                                    "(No column name)": "22"
                                },
                                {
                                    "SZOBA_ID": "110",
                                    "FOGLALAS_PK": "1489",
                                    "Napok száma": "6",
                                    "(No column name)": "23"
                                },
                                {
                                    "SZOBA_ID": "111",
                                    "FOGLALAS_PK": "605",
                                    "Napok száma": "7",
                                    "(No column name)": "NULL"
                                },
                                {
                                    "SZOBA_ID": "111",
                                    "FOGLALAS_PK": "959",
                                    "Napok száma": "7",
                                    "(No column name)": "7"
                                },
                                {
                                    "SZOBA_ID": "111",
                                    "FOGLALAS_PK": "786",
                                    "Napok száma": "4",
                                    "(No column name)": "14"
                                },
                                {
                                    "SZOBA_ID": "111",
                                    "FOGLALAS_PK": "1296",
                                    "Napok száma": "3",
                                    "(No column name)": "18"
                                },
                                {
                                    "SZOBA_ID": "111",
                                    "FOGLALAS_PK": "1353",
                                    "Napok száma": "5",
                                    "(No column name)": "21"
                                },
                                {
                                    "SZOBA_ID": "112",
                                    "FOGLALAS_PK": "921",
                                    "Napok száma": "1",
                                    "(No column name)": "NULL"
                                },
                                {
                                    "SZOBA_ID": "112",
                                    "FOGLALAS_PK": "776",
                                    "Napok száma": "4",
                                    "(No column name)": "1"
                                },
                                {
                                    "SZOBA_ID": "112",
                                    "FOGLALAS_PK": "801",
                                    "Napok száma": "5",
                                    "(No column name)": "5"
                                },
                                {
                                    "SZOBA_ID": "112",
                                    "FOGLALAS_PK": "1124",
                                    "Napok száma": "6",
                                    "(No column name)": "10"
                                },
                                {
                                    "SZOBA_ID": "112",
                                    "FOGLALAS_PK": "1530",
                                    "Napok száma": "6",
                                    "(No column name)": "16"
                                },
                                {
                                    "SZOBA_ID": "113",
                                    "FOGLALAS_PK": "1029",
                                    "Napok száma": "5",
                                    "(No column name)": "NULL"
                                },
                                {
                                    "SZOBA_ID": "113",
                                    "FOGLALAS_PK": "1085",
                                    "Napok száma": "4",
                                    "(No column name)": "5"
                                },
                                {
                                    "SZOBA_ID": "113",
                                    "FOGLALAS_PK": "1263",
                                    "Napok száma": "1",
                                    "(No column name)": "9"
                                },
                                {
                                    "SZOBA_ID": "113",
                                    "FOGLALAS_PK": "1495",
                                    "Napok száma": "7",
                                    "(No column name)": "10"
                                },
                                {
                                    "SZOBA_ID": "113",
                                    "FOGLALAS_PK": "1499",
                                    "Napok száma": "2",
                                    "(No column name)": "17"
                                },
                                {
                                    "SZOBA_ID": "114",
                                    "FOGLALAS_PK": "966",
                                    "Napok száma": "6",
                                    "(No column name)": "NULL"
                                },
                                {
                                    "SZOBA_ID": "114",
                                    "FOGLALAS_PK": "737",
                                    "Napok száma": "2",
                                    "(No column name)": "6"
                                },
                                {
                                    "SZOBA_ID": "114",
                                    "FOGLALAS_PK": "827",
                                    "Napok száma": "7",
                                    "(No column name)": "8"
                                },
                                {
                                    "SZOBA_ID": "114",
                                    "FOGLALAS_PK": "1540",
                                    "Napok száma": "3",
                                    "(No column name)": "15"
                                },
                                {
                                    "SZOBA_ID": "115",
                                    "FOGLALAS_PK": "596",
                                    "Napok száma": "7",
                                    "(No column name)": "NULL"
                                },
                                {
                                    "SZOBA_ID": "115",
                                    "FOGLALAS_PK": "943",
                                    "Napok száma": "7",
                                    "(No column name)": "7"
                                },
                                {
                                    "SZOBA_ID": "115",
                                    "FOGLALAS_PK": "1121",
                                    "Napok száma": "7",
                                    "(No column name)": "14"
                                },
                                {
                                    "SZOBA_ID": "115",
                                    "FOGLALAS_PK": "1154",
                                    "Napok száma": "4",
                                    "(No column name)": "21"
                                },
                                {
                                    "SZOBA_ID": "115",
                                    "FOGLALAS_PK": "1352",
                                    "Napok száma": "3",
                                    "(No column name)": "25"
                                },
                                {
                                    "SZOBA_ID": "115",
                                    "FOGLALAS_PK": "1554",
                                    "Napok száma": "3",
                                    "(No column name)": "28"
                                },
                                {
                                    "SZOBA_ID": "115",
                                    "FOGLALAS_PK": "1566",
                                    "Napok száma": "1",
                                    "(No column name)": "31"
                                },
                                {
                                    "SZOBA_ID": "116",
                                    "FOGLALAS_PK": "1455",
                                    "Napok száma": "2",
                                    "(No column name)": "NULL"
                                },
                                {
                                    "SZOBA_ID": "116",
                                    "FOGLALAS_PK": "1501",
                                    "Napok száma": "4",
                                    "(No column name)": "2"
                                },
                                {
                                    "SZOBA_ID": "117",
                                    "FOGLALAS_PK": "612",
                                    "Napok száma": "2",
                                    "(No column name)": "NULL"
                                },
                                {
                                    "SZOBA_ID": "117",
                                    "FOGLALAS_PK": "617",
                                    "Napok száma": "3",
                                    "(No column name)": "2"
                                },
                                {
                                    "SZOBA_ID": "117",
                                    "FOGLALAS_PK": "953",
                                    "Napok száma": "5",
                                    "(No column name)": "5"
                                },
                                {
                                    "SZOBA_ID": "117",
                                    "FOGLALAS_PK": "962",
                                    "Napok száma": "4",
                                    "(No column name)": "10"
                                },
                                {
                                    "SZOBA_ID": "117",
                                    "FOGLALAS_PK": "1002",
                                    "Napok száma": "1",
                                    "(No column name)": "14"
                                },
                                {
                                    "SZOBA_ID": "117",
                                    "FOGLALAS_PK": "1192",
                                    "Napok száma": "2",
                                    "(No column name)": "15"
                                },
                                {
                                    "SZOBA_ID": "117",
                                    "FOGLALAS_PK": "1247",
                                    "Napok száma": "3",
                                    "(No column name)": "17"
                                },
                                {
                                    "SZOBA_ID": "117",
                                    "FOGLALAS_PK": "1468",
                                    "Napok száma": "7",
                                    "(No column name)": "20"
                                },
                                {
                                    "SZOBA_ID": "118",
                                    "FOGLALAS_PK": "864",
                                    "Napok száma": "6",
                                    "(No column name)": "NULL"
                                },
                                {
                                    "SZOBA_ID": "118",
                                    "FOGLALAS_PK": "994",
                                    "Napok száma": "7",
                                    "(No column name)": "6"
                                },
                                {
                                    "SZOBA_ID": "118",
                                    "FOGLALAS_PK": "996",
                                    "Napok száma": "3",
                                    "(No column name)": "13"
                                },
                                {
                                    "SZOBA_ID": "118",
                                    "FOGLALAS_PK": "716",
                                    "Napok száma": "1",
                                    "(No column name)": "16"
                                },
                                {
                                    "SZOBA_ID": "118",
                                    "FOGLALAS_PK": "1374",
                                    "Napok száma": "5",
                                    "(No column name)": "17"
                                },
                                {
                                    "SZOBA_ID": "118",
                                    "FOGLALAS_PK": "1472",
                                    "Napok száma": "6",
                                    "(No column name)": "22"
                                },
                                {
                                    "SZOBA_ID": "118",
                                    "FOGLALAS_PK": "1481",
                                    "Napok száma": "3",
                                    "(No column name)": "28"
                                },
                                {
                                    "SZOBA_ID": "119",
                                    "FOGLALAS_PK": "1026",
                                    "Napok száma": "3",
                                    "(No column name)": "NULL"
                                },
                                {
                                    "SZOBA_ID": "119",
                                    "FOGLALAS_PK": "706",
                                    "Napok száma": "2",
                                    "(No column name)": "3"
                                },
                                {
                                    "SZOBA_ID": "119",
                                    "FOGLALAS_PK": "722",
                                    "Napok száma": "1",
                                    "(No column name)": "5"
                                },
                                {
                                    "SZOBA_ID": "119",
                                    "FOGLALAS_PK": "1413",
                                    "Napok száma": "3",
                                    "(No column name)": "6"
                                },
                                {
                                    "SZOBA_ID": "119",
                                    "FOGLALAS_PK": "1488",
                                    "Napok száma": "3",
                                    "(No column name)": "9"
                                },
                                {
                                    "SZOBA_ID": "120",
                                    "FOGLALAS_PK": "998",
                                    "Napok száma": "3",
                                    "(No column name)": "NULL"
                                },
                                {
                                    "SZOBA_ID": "120",
                                    "FOGLALAS_PK": "762",
                                    "Napok száma": "3",
                                    "(No column name)": "3"
                                },
                                {
                                    "SZOBA_ID": "120",
                                    "FOGLALAS_PK": "1089",
                                    "Napok száma": "6",
                                    "(No column name)": "6"
                                },
                                {
                                    "SZOBA_ID": "120",
                                    "FOGLALAS_PK": "1339",
                                    "Napok száma": "6",
                                    "(No column name)": "12"
                                },
                                {
                                    "SZOBA_ID": "120",
                                    "FOGLALAS_PK": "1483",
                                    "Napok száma": "1",
                                    "(No column name)": "18"
                                },
                                {
                                    "SZOBA_ID": "120",
                                    "FOGLALAS_PK": "1493",
                                    "Napok száma": "7",
                                    "(No column name)": "19"
                                },
                                {
                                    "SZOBA_ID": "121",
                                    "FOGLALAS_PK": "858",
                                    "Napok száma": "5",
                                    "(No column name)": "NULL"
                                },
                                {
                                    "SZOBA_ID": "121",
                                    "FOGLALAS_PK": "735",
                                    "Napok száma": "6",
                                    "(No column name)": "5"
                                },
                                {
                                    "SZOBA_ID": "121",
                                    "FOGLALAS_PK": "739",
                                    "Napok száma": "6",
                                    "(No column name)": "11"
                                },
                                {
                                    "SZOBA_ID": "121",
                                    "FOGLALAS_PK": "1049",
                                    "Napok száma": "3",
                                    "(No column name)": "17"
                                },
                                {
                                    "SZOBA_ID": "121",
                                    "FOGLALAS_PK": "1128",
                                    "Napok száma": "4",
                                    "(No column name)": "20"
                                },
                                {
                                    "SZOBA_ID": "121",
                                    "FOGLALAS_PK": "1215",
                                    "Napok száma": "4",
                                    "(No column name)": "24"
                                },
                                {
                                    "SZOBA_ID": "121",
                                    "FOGLALAS_PK": "1373",
                                    "Napok száma": "5",
                                    "(No column name)": "28"
                                },
                                {
                                    "SZOBA_ID": "121",
                                    "FOGLALAS_PK": "1393",
                                    "Napok száma": "6",
                                    "(No column name)": "33"
                                },
                                {
                                    "SZOBA_ID": "122",
                                    "FOGLALAS_PK": "1007",
                                    "Napok száma": "2",
                                    "(No column name)": "NULL"
                                },
                                {
                                    "SZOBA_ID": "122",
                                    "FOGLALAS_PK": "1036",
                                    "Napok száma": "2",
                                    "(No column name)": "2"
                                },
                                {
                                    "SZOBA_ID": "122",
                                    "FOGLALAS_PK": "1062",
                                    "Napok száma": "3",
                                    "(No column name)": "4"
                                },
                                {
                                    "SZOBA_ID": "122",
                                    "FOGLALAS_PK": "1166",
                                    "Napok száma": "4",
                                    "(No column name)": "7"
                                },
                                {
                                    "SZOBA_ID": "122",
                                    "FOGLALAS_PK": "1209",
                                    "Napok száma": "1",
                                    "(No column name)": "11"
                                },
                                {
                                    "SZOBA_ID": "122",
                                    "FOGLALAS_PK": "1245",
                                    "Napok száma": "2",
                                    "(No column name)": "12"
                                },
                                {
                                    "SZOBA_ID": "122",
                                    "FOGLALAS_PK": "1337",
                                    "Napok száma": "2",
                                    "(No column name)": "14"
                                },
                                {
                                    "SZOBA_ID": "122",
                                    "FOGLALAS_PK": "1385",
                                    "Napok száma": "5",
                                    "(No column name)": "16"
                                },
                                {
                                    "SZOBA_ID": "122",
                                    "FOGLALAS_PK": "1440",
                                    "Napok száma": "3",
                                    "(No column name)": "21"
                                },
                                {
                                    "SZOBA_ID": "123",
                                    "FOGLALAS_PK": "587",
                                    "Napok száma": "7",
                                    "(No column name)": "NULL"
                                },
                                {
                                    "SZOBA_ID": "123",
                                    "FOGLALAS_PK": "923",
                                    "Napok száma": "4",
                                    "(No column name)": "7"
                                },
                                {
                                    "SZOBA_ID": "123",
                                    "FOGLALAS_PK": "967",
                                    "Napok száma": "5",
                                    "(No column name)": "11"
                                },
                                {
                                    "SZOBA_ID": "123",
                                    "FOGLALAS_PK": "1223",
                                    "Napok száma": "1",
                                    "(No column name)": "16"
                                },
                                {
                                    "SZOBA_ID": "123",
                                    "FOGLALAS_PK": "1282",
                                    "Napok száma": "6",
                                    "(No column name)": "17"
                                },
                                {
                                    "SZOBA_ID": "124",
                                    "FOGLALAS_PK": "861",
                                    "Napok száma": "1",
                                    "(No column name)": "NULL"
                                },
                                {
                                    "SZOBA_ID": "124",
                                    "FOGLALAS_PK": "1210",
                                    "Napok száma": "4",
                                    "(No column name)": "1"
                                },
                                {
                                    "SZOBA_ID": "124",
                                    "FOGLALAS_PK": "1330",
                                    "Napok száma": "7",
                                    "(No column name)": "5"
                                },
                                {
                                    "SZOBA_ID": "124",
                                    "FOGLALAS_PK": "1403",
                                    "Napok száma": "6",
                                    "(No column name)": "12"
                                },
                                {
                                    "SZOBA_ID": "124",
                                    "FOGLALAS_PK": "1419",
                                    "Napok száma": "3",
                                    "(No column name)": "18"
                                },
                                {
                                    "SZOBA_ID": "124",
                                    "FOGLALAS_PK": "1531",
                                    "Napok száma": "6",
                                    "(No column name)": "21"
                                },
                                {
                                    "SZOBA_ID": "125",
                                    "FOGLALAS_PK": "576",
                                    "Napok száma": "1",
                                    "(No column name)": "NULL"
                                },
                                {
                                    "SZOBA_ID": "126",
                                    "FOGLALAS_PK": "754",
                                    "Napok száma": "4",
                                    "(No column name)": "NULL"
                                },
                                {
                                    "SZOBA_ID": "126",
                                    "FOGLALAS_PK": "806",
                                    "Napok száma": "6",
                                    "(No column name)": "4"
                                },
                                {
                                    "SZOBA_ID": "126",
                                    "FOGLALAS_PK": "1134",
                                    "Napok száma": "1",
                                    "(No column name)": "10"
                                },
                                {
                                    "SZOBA_ID": "126",
                                    "FOGLALAS_PK": "1364",
                                    "Napok száma": "6",
                                    "(No column name)": "11"
                                },
                                {
                                    "SZOBA_ID": "126",
                                    "FOGLALAS_PK": "1428",
                                    "Napok száma": "7",
                                    "(No column name)": "17"
                                },
                                {
                                    "SZOBA_ID": "126",
                                    "FOGLALAS_PK": "1500",
                                    "Napok száma": "4",
                                    "(No column name)": "24"
                                },
                                {
                                    "SZOBA_ID": "127",
                                    "FOGLALAS_PK": "643",
                                    "Napok száma": "2",
                                    "(No column name)": "NULL"
                                },
                                {
                                    "SZOBA_ID": "127",
                                    "FOGLALAS_PK": "853",
                                    "Napok száma": "5",
                                    "(No column name)": "2"
                                },
                                {
                                    "SZOBA_ID": "127",
                                    "FOGLALAS_PK": "879",
                                    "Napok száma": "2",
                                    "(No column name)": "7"
                                },
                                {
                                    "SZOBA_ID": "127",
                                    "FOGLALAS_PK": "1034",
                                    "Napok száma": "6",
                                    "(No column name)": "9"
                                },
                                {
                                    "SZOBA_ID": "127",
                                    "FOGLALAS_PK": "1226",
                                    "Napok száma": "5",
                                    "(No column name)": "15"
                                },
                                {
                                    "SZOBA_ID": "127",
                                    "FOGLALAS_PK": "1286",
                                    "Napok száma": "1",
                                    "(No column name)": "20"
                                },
                                {
                                    "SZOBA_ID": "127",
                                    "FOGLALAS_PK": "1579",
                                    "Napok száma": "5",
                                    "(No column name)": "21"
                                },
                                {
                                    "SZOBA_ID": "128",
                                    "FOGLALAS_PK": "717",
                                    "Napok száma": "2",
                                    "(No column name)": "NULL"
                                },
                                {
                                    "SZOBA_ID": "128",
                                    "FOGLALAS_PK": "815",
                                    "Napok száma": "1",
                                    "(No column name)": "2"
                                },
                                {
                                    "SZOBA_ID": "128",
                                    "FOGLALAS_PK": "1290",
                                    "Napok száma": "1",
                                    "(No column name)": "3"
                                },
                                {
                                    "SZOBA_ID": "128",
                                    "FOGLALAS_PK": "1574",
                                    "Napok száma": "1",
                                    "(No column name)": "4"
                                },
                                {
                                    "SZOBA_ID": "128",
                                    "FOGLALAS_PK": "1583",
                                    "Napok száma": "4",
                                    "(No column name)": "5"
                                },
                                {
                                    "SZOBA_ID": "129",
                                    "FOGLALAS_PK": "723",
                                    "Napok száma": "7",
                                    "(No column name)": "NULL"
                                },
                                {
                                    "SZOBA_ID": "129",
                                    "FOGLALAS_PK": "1360",
                                    "Napok száma": "6",
                                    "(No column name)": "7"
                                },
                                {
                                    "SZOBA_ID": "129",
                                    "FOGLALAS_PK": "1445",
                                    "Napok száma": "7",
                                    "(No column name)": "13"
                                },
                                {
                                    "SZOBA_ID": "129",
                                    "FOGLALAS_PK": "1509",
                                    "Napok száma": "6",
                                    "(No column name)": "20"
                                },
                                {
                                    "SZOBA_ID": "130",
                                    "FOGLALAS_PK": "580",
                                    "Napok száma": "3",
                                    "(No column name)": "NULL"
                                },
                                {
                                    "SZOBA_ID": "130",
                                    "FOGLALAS_PK": "613",
                                    "Napok száma": "3",
                                    "(No column name)": "3"
                                },
                                {
                                    "SZOBA_ID": "130",
                                    "FOGLALAS_PK": "910",
                                    "Napok száma": "2",
                                    "(No column name)": "6"
                                },
                                {
                                    "SZOBA_ID": "130",
                                    "FOGLALAS_PK": "779",
                                    "Napok száma": "6",
                                    "(No column name)": "8"
                                },
                                {
                                    "SZOBA_ID": "130",
                                    "FOGLALAS_PK": "1040",
                                    "Napok száma": "1",
                                    "(No column name)": "14"
                                },
                                {
                                    "SZOBA_ID": "130",
                                    "FOGLALAS_PK": "1475",
                                    "Napok száma": "7",
                                    "(No column name)": "15"
                                },
                                {
                                    "SZOBA_ID": "131",
                                    "FOGLALAS_PK": "559",
                                    "Napok száma": "2",
                                    "(No column name)": "NULL"
                                },
                                {
                                    "SZOBA_ID": "131",
                                    "FOGLALAS_PK": "655",
                                    "Napok száma": "1",
                                    "(No column name)": "2"
                                },
                                {
                                    "SZOBA_ID": "131",
                                    "FOGLALAS_PK": "881",
                                    "Napok száma": "6",
                                    "(No column name)": "3"
                                },
                                {
                                    "SZOBA_ID": "131",
                                    "FOGLALAS_PK": "760",
                                    "Napok száma": "4",
                                    "(No column name)": "9"
                                },
                                {
                                    "SZOBA_ID": "131",
                                    "FOGLALAS_PK": "1474",
                                    "Napok száma": "5",
                                    "(No column name)": "13"
                                },
                                {
                                    "SZOBA_ID": "132",
                                    "FOGLALAS_PK": "619",
                                    "Napok száma": "7",
                                    "(No column name)": "NULL"
                                },
                                {
                                    "SZOBA_ID": "132",
                                    "FOGLALAS_PK": "999",
                                    "Napok száma": "6",
                                    "(No column name)": "7"
                                },
                                {
                                    "SZOBA_ID": "132",
                                    "FOGLALAS_PK": "1090",
                                    "Napok száma": "7",
                                    "(No column name)": "13"
                                },
                                {
                                    "SZOBA_ID": "132",
                                    "FOGLALAS_PK": "1111",
                                    "Napok száma": "3",
                                    "(No column name)": "20"
                                },
                                {
                                    "SZOBA_ID": "132",
                                    "FOGLALAS_PK": "1301",
                                    "Napok száma": "2",
                                    "(No column name)": "23"
                                },
                                {
                                    "SZOBA_ID": "132",
                                    "FOGLALAS_PK": "1519",
                                    "Napok száma": "2",
                                    "(No column name)": "25"
                                },
                                {
                                    "SZOBA_ID": "133",
                                    "FOGLALAS_PK": "909",
                                    "Napok száma": "4",
                                    "(No column name)": "NULL"
                                },
                                {
                                    "SZOBA_ID": "133",
                                    "FOGLALAS_PK": "988",
                                    "Napok száma": "3",
                                    "(No column name)": "4"
                                },
                                {
                                    "SZOBA_ID": "133",
                                    "FOGLALAS_PK": "1149",
                                    "Napok száma": "7",
                                    "(No column name)": "7"
                                },
                                {
                                    "SZOBA_ID": "133",
                                    "FOGLALAS_PK": "1306",
                                    "Napok száma": "3",
                                    "(No column name)": "14"
                                },
                                {
                                    "SZOBA_ID": "133",
                                    "FOGLALAS_PK": "1363",
                                    "Napok száma": "5",
                                    "(No column name)": "17"
                                },
                                {
                                    "SZOBA_ID": "133",
                                    "FOGLALAS_PK": "1409",
                                    "Napok száma": "1",
                                    "(No column name)": "22"
                                },
                                {
                                    "SZOBA_ID": "134",
                                    "FOGLALAS_PK": "1004",
                                    "Napok száma": "5",
                                    "(No column name)": "NULL"
                                },
                                {
                                    "SZOBA_ID": "134",
                                    "FOGLALAS_PK": "1024",
                                    "Napok száma": "1",
                                    "(No column name)": "5"
                                },
                                {
                                    "SZOBA_ID": "134",
                                    "FOGLALAS_PK": "1045",
                                    "Napok száma": "2",
                                    "(No column name)": "6"
                                },
                                {
                                    "SZOBA_ID": "134",
                                    "FOGLALAS_PK": "1178",
                                    "Napok száma": "7",
                                    "(No column name)": "8"
                                },
                                {
                                    "SZOBA_ID": "134",
                                    "FOGLALAS_PK": "1219",
                                    "Napok száma": "6",
                                    "(No column name)": "15"
                                },
                                {
                                    "SZOBA_ID": "134",
                                    "FOGLALAS_PK": "1535",
                                    "Napok száma": "7",
                                    "(No column name)": "21"
                                },
                                {
                                    "SZOBA_ID": "135",
                                    "FOGLALAS_PK": "724",
                                    "Napok száma": "6",
                                    "(No column name)": "NULL"
                                },
                                {
                                    "SZOBA_ID": "135",
                                    "FOGLALAS_PK": "849",
                                    "Napok száma": "7",
                                    "(No column name)": "6"
                                },
                                {
                                    "SZOBA_ID": "135",
                                    "FOGLALAS_PK": "1289",
                                    "Napok száma": "3",
                                    "(No column name)": "13"
                                },
                                {
                                    "SZOBA_ID": "136",
                                    "FOGLALAS_PK": "584",
                                    "Napok száma": "2",
                                    "(No column name)": "NULL"
                                },
                                {
                                    "SZOBA_ID": "136",
                                    "FOGLALAS_PK": "661",
                                    "Napok száma": "5",
                                    "(No column name)": "2"
                                },
                                {
                                    "SZOBA_ID": "136",
                                    "FOGLALAS_PK": "1046",
                                    "Napok száma": "4",
                                    "(No column name)": "7"
                                },
                                {
                                    "SZOBA_ID": "137",
                                    "FOGLALAS_PK": "582",
                                    "Napok száma": "3",
                                    "(No column name)": "NULL"
                                },
                                {
                                    "SZOBA_ID": "137",
                                    "FOGLALAS_PK": "649",
                                    "Napok száma": "5",
                                    "(No column name)": "3"
                                },
                                {
                                    "SZOBA_ID": "137",
                                    "FOGLALAS_PK": "657",
                                    "Napok száma": "6",
                                    "(No column name)": "8"
                                },
                                {
                                    "SZOBA_ID": "137",
                                    "FOGLALAS_PK": "1014",
                                    "Napok száma": "1",
                                    "(No column name)": "14"
                                },
                                {
                                    "SZOBA_ID": "137",
                                    "FOGLALAS_PK": "1201",
                                    "Napok száma": "6",
                                    "(No column name)": "15"
                                },
                                {
                                    "SZOBA_ID": "137",
                                    "FOGLALAS_PK": "1280",
                                    "Napok száma": "3",
                                    "(No column name)": "21"
                                },
                                {
                                    "SZOBA_ID": "138",
                                    "FOGLALAS_PK": "768",
                                    "Napok száma": "6",
                                    "(No column name)": "NULL"
                                },
                                {
                                    "SZOBA_ID": "138",
                                    "FOGLALAS_PK": "796",
                                    "Napok száma": "4",
                                    "(No column name)": "6"
                                },
                                {
                                    "SZOBA_ID": "138",
                                    "FOGLALAS_PK": "1256",
                                    "Napok száma": "4",
                                    "(No column name)": "10"
                                },
                                {
                                    "SZOBA_ID": "138",
                                    "FOGLALAS_PK": "1283",
                                    "Napok száma": "2",
                                    "(No column name)": "14"
                                },
                                {
                                    "SZOBA_ID": "138",
                                    "FOGLALAS_PK": "1294",
                                    "Napok száma": "5",
                                    "(No column name)": "16"
                                },
                                {
                                    "SZOBA_ID": "138",
                                    "FOGLALAS_PK": "1358",
                                    "Napok száma": "7",
                                    "(No column name)": "21"
                                },
                                {
                                    "SZOBA_ID": "138",
                                    "FOGLALAS_PK": "1370",
                                    "Napok száma": "5",
                                    "(No column name)": "28"
                                },
                                {
                                    "SZOBA_ID": "139",
                                    "FOGLALAS_PK": "579",
                                    "Napok száma": "2",
                                    "(No column name)": "NULL"
                                },
                                {
                                    "SZOBA_ID": "139",
                                    "FOGLALAS_PK": "745",
                                    "Napok száma": "1",
                                    "(No column name)": "2"
                                },
                                {
                                    "SZOBA_ID": "139",
                                    "FOGLALAS_PK": "751",
                                    "Napok száma": "4",
                                    "(No column name)": "3"
                                },
                                {
                                    "SZOBA_ID": "139",
                                    "FOGLALAS_PK": "1042",
                                    "Napok száma": "2",
                                    "(No column name)": "7"
                                },
                                {
                                    "SZOBA_ID": "139",
                                    "FOGLALAS_PK": "1064",
                                    "Napok száma": "6",
                                    "(No column name)": "9"
                                },
                                {
                                    "SZOBA_ID": "139",
                                    "FOGLALAS_PK": "1433",
                                    "Napok száma": "6",
                                    "(No column name)": "15"
                                },
                                {
                                    "SZOBA_ID": "139",
                                    "FOGLALAS_PK": "1450",
                                    "Napok száma": "7",
                                    "(No column name)": "21"
                                },
                                {
                                    "SZOBA_ID": "140",
                                    "FOGLALAS_PK": "915",
                                    "Napok száma": "2",
                                    "(No column name)": "NULL"
                                },
                                {
                                    "SZOBA_ID": "140",
                                    "FOGLALAS_PK": "733",
                                    "Napok száma": "1",
                                    "(No column name)": "2"
                                },
                                {
                                    "SZOBA_ID": "140",
                                    "FOGLALAS_PK": "1098",
                                    "Napok száma": "2",
                                    "(No column name)": "3"
                                },
                                {
                                    "SZOBA_ID": "140",
                                    "FOGLALAS_PK": "1156",
                                    "Napok száma": "3",
                                    "(No column name)": "5"
                                },
                                {
                                    "SZOBA_ID": "140",
                                    "FOGLALAS_PK": "1259",
                                    "Napok száma": "7",
                                    "(No column name)": "8"
                                },
                                {
                                    "SZOBA_ID": "140",
                                    "FOGLALAS_PK": "1357",
                                    "Napok száma": "4",
                                    "(No column name)": "15"
                                },
                                {
                                    "SZOBA_ID": "140",
                                    "FOGLALAS_PK": "1361",
                                    "Napok száma": "3",
                                    "(No column name)": "19"
                                },
                                {
                                    "SZOBA_ID": "140",
                                    "FOGLALAS_PK": "1371",
                                    "Napok száma": "1",
                                    "(No column name)": "22"
                                },
                                {
                                    "SZOBA_ID": "141",
                                    "FOGLALAS_PK": "565",
                                    "Napok száma": "6",
                                    "(No column name)": "NULL"
                                },
                                {
                                    "SZOBA_ID": "141",
                                    "FOGLALAS_PK": "908",
                                    "Napok száma": "2",
                                    "(No column name)": "6"
                                },
                                {
                                    "SZOBA_ID": "141",
                                    "FOGLALAS_PK": "761",
                                    "Napok száma": "3",
                                    "(No column name)": "8"
                                },
                                {
                                    "SZOBA_ID": "141",
                                    "FOGLALAS_PK": "784",
                                    "Napok száma": "7",
                                    "(No column name)": "11"
                                },
                                {
                                    "SZOBA_ID": "141",
                                    "FOGLALAS_PK": "1254",
                                    "Napok száma": "4",
                                    "(No column name)": "18"
                                },
                                {
                                    "SZOBA_ID": "141",
                                    "FOGLALAS_PK": "1401",
                                    "Napok száma": "6",
                                    "(No column name)": "22"
                                },
                                {
                                    "SZOBA_ID": "142",
                                    "FOGLALAS_PK": "1369",
                                    "Napok száma": "6",
                                    "(No column name)": "NULL"
                                },
                                {
                                    "SZOBA_ID": "142",
                                    "FOGLALAS_PK": "1545",
                                    "Napok száma": "3",
                                    "(No column name)": "6"
                                },
                                {
                                    "SZOBA_ID": "143",
                                    "FOGLALAS_PK": "980",
                                    "Napok száma": "3",
                                    "(No column name)": "NULL"
                                },
                                {
                                    "SZOBA_ID": "143",
                                    "FOGLALAS_PK": "1155",
                                    "Napok száma": "7",
                                    "(No column name)": "3"
                                },
                                {
                                    "SZOBA_ID": "143",
                                    "FOGLALAS_PK": "1193",
                                    "Napok száma": "6",
                                    "(No column name)": "10"
                                },
                                {
                                    "SZOBA_ID": "143",
                                    "FOGLALAS_PK": "1222",
                                    "Napok száma": "2",
                                    "(No column name)": "16"
                                },
                                {
                                    "SZOBA_ID": "143",
                                    "FOGLALAS_PK": "1313",
                                    "Napok száma": "4",
                                    "(No column name)": "18"
                                },
                                {
                                    "SZOBA_ID": "143",
                                    "FOGLALAS_PK": "1394",
                                    "Napok száma": "3",
                                    "(No column name)": "22"
                                },
                                {
                                    "SZOBA_ID": "143",
                                    "FOGLALAS_PK": "1448",
                                    "Napok száma": "6",
                                    "(No column name)": "25"
                                },
                                {
                                    "SZOBA_ID": "144",
                                    "FOGLALAS_PK": "581",
                                    "Napok száma": "4",
                                    "(No column name)": "NULL"
                                },
                                {
                                    "SZOBA_ID": "144",
                                    "FOGLALAS_PK": "1087",
                                    "Napok száma": "2",
                                    "(No column name)": "4"
                                },
                                {
                                    "SZOBA_ID": "144",
                                    "FOGLALAS_PK": "1199",
                                    "Napok száma": "7",
                                    "(No column name)": "6"
                                },
                                {
                                    "SZOBA_ID": "144",
                                    "FOGLALAS_PK": "1297",
                                    "Napok száma": "1",
                                    "(No column name)": "13"
                                },
                                {
                                    "SZOBA_ID": "144",
                                    "FOGLALAS_PK": "1572",
                                    "Napok száma": "2",
                                    "(No column name)": "14"
                                },
                                {
                                    "SZOBA_ID": "145",
                                    "FOGLALAS_PK": "703",
                                    "Napok száma": "4",
                                    "(No column name)": "NULL"
                                },
                                {
                                    "SZOBA_ID": "145",
                                    "FOGLALAS_PK": "1077",
                                    "Napok száma": "1",
                                    "(No column name)": "4"
                                },
                                {
                                    "SZOBA_ID": "145",
                                    "FOGLALAS_PK": "1120",
                                    "Napok száma": "1",
                                    "(No column name)": "5"
                                },
                                {
                                    "SZOBA_ID": "145",
                                    "FOGLALAS_PK": "1145",
                                    "Napok száma": "4",
                                    "(No column name)": "6"
                                },
                                {
                                    "SZOBA_ID": "145",
                                    "FOGLALAS_PK": "1338",
                                    "Napok száma": "2",
                                    "(No column name)": "10"
                                },
                                {
                                    "SZOBA_ID": "145",
                                    "FOGLALAS_PK": "1471",
                                    "Napok száma": "1",
                                    "(No column name)": "12"
                                },
                                {
                                    "SZOBA_ID": "146",
                                    "FOGLALAS_PK": "890",
                                    "Napok száma": "3",
                                    "(No column name)": "NULL"
                                },
                                {
                                    "SZOBA_ID": "146",
                                    "FOGLALAS_PK": "664",
                                    "Napok száma": "3",
                                    "(No column name)": "3"
                                },
                                {
                                    "SZOBA_ID": "146",
                                    "FOGLALAS_PK": "789",
                                    "Napok száma": "7",
                                    "(No column name)": "6"
                                },
                                {
                                    "SZOBA_ID": "146",
                                    "FOGLALAS_PK": "804",
                                    "Napok száma": "7",
                                    "(No column name)": "13"
                                },
                                {
                                    "SZOBA_ID": "146",
                                    "FOGLALAS_PK": "1032",
                                    "Napok száma": "5",
                                    "(No column name)": "20"
                                },
                                {
                                    "SZOBA_ID": "146",
                                    "FOGLALAS_PK": "1479",
                                    "Napok száma": "6",
                                    "(No column name)": "25"
                                },
                                {
                                    "SZOBA_ID": "147",
                                    "FOGLALAS_PK": "771",
                                    "Napok száma": "4",
                                    "(No column name)": "NULL"
                                },
                                {
                                    "SZOBA_ID": "148",
                                    "FOGLALAS_PK": "678",
                                    "Napok száma": "4",
                                    "(No column name)": "NULL"
                                },
                                {
                                    "SZOBA_ID": "148",
                                    "FOGLALAS_PK": "765",
                                    "Napok száma": "3",
                                    "(No column name)": "4"
                                },
                                {
                                    "SZOBA_ID": "148",
                                    "FOGLALAS_PK": "783",
                                    "Napok száma": "7",
                                    "(No column name)": "7"
                                },
                                {
                                    "SZOBA_ID": "148",
                                    "FOGLALAS_PK": "808",
                                    "Napok száma": "2",
                                    "(No column name)": "14"
                                },
                                {
                                    "SZOBA_ID": "148",
                                    "FOGLALAS_PK": "812",
                                    "Napok száma": "6",
                                    "(No column name)": "16"
                                },
                                {
                                    "SZOBA_ID": "148",
                                    "FOGLALAS_PK": "1578",
                                    "Napok száma": "7",
                                    "(No column name)": "22"
                                },
                                {
                                    "SZOBA_ID": "149",
                                    "FOGLALAS_PK": "591",
                                    "Napok száma": "1",
                                    "(No column name)": "NULL"
                                },
                                {
                                    "SZOBA_ID": "149",
                                    "FOGLALAS_PK": "652",
                                    "Napok száma": "1",
                                    "(No column name)": "1"
                                },
                                {
                                    "SZOBA_ID": "149",
                                    "FOGLALAS_PK": "833",
                                    "Napok száma": "2",
                                    "(No column name)": "2"
                                },
                                {
                                    "SZOBA_ID": "149",
                                    "FOGLALAS_PK": "834",
                                    "Napok száma": "5",
                                    "(No column name)": "4"
                                },
                                {
                                    "SZOBA_ID": "149",
                                    "FOGLALAS_PK": "843",
                                    "Napok száma": "4",
                                    "(No column name)": "9"
                                },
                                {
                                    "SZOBA_ID": "149",
                                    "FOGLALAS_PK": "1146",
                                    "Napok száma": "6",
                                    "(No column name)": "13"
                                },
                                {
                                    "SZOBA_ID": "149",
                                    "FOGLALAS_PK": "1514",
                                    "Napok száma": "5",
                                    "(No column name)": "19"
                                },
                                {
                                    "SZOBA_ID": "150",
                                    "FOGLALAS_PK": "641",
                                    "Napok száma": "3",
                                    "(No column name)": "NULL"
                                },
                                {
                                    "SZOBA_ID": "150",
                                    "FOGLALAS_PK": "1100",
                                    "Napok száma": "5",
                                    "(No column name)": "3"
                                },
                                {
                                    "SZOBA_ID": "150",
                                    "FOGLALAS_PK": "1105",
                                    "Napok száma": "1",
                                    "(No column name)": "8"
                                },
                                {
                                    "SZOBA_ID": "150",
                                    "FOGLALAS_PK": "1177",
                                    "Napok száma": "1",
                                    "(No column name)": "9"
                                },
                                {
                                    "SZOBA_ID": "150",
                                    "FOGLALAS_PK": "1203",
                                    "Napok száma": "4",
                                    "(No column name)": "10"
                                },
                                {
                                    "SZOBA_ID": "150",
                                    "FOGLALAS_PK": "1432",
                                    "Napok száma": "3",
                                    "(No column name)": "14"
                                },
                                {
                                    "SZOBA_ID": "151",
                                    "FOGLALAS_PK": "893",
                                    "Napok száma": "3",
                                    "(No column name)": "NULL"
                                },
                                {
                                    "SZOBA_ID": "151",
                                    "FOGLALAS_PK": "1058",
                                    "Napok száma": "3",
                                    "(No column name)": "3"
                                },
                                {
                                    "SZOBA_ID": "151",
                                    "FOGLALAS_PK": "1115",
                                    "Napok száma": "3",
                                    "(No column name)": "6"
                                },
                                {
                                    "SZOBA_ID": "152",
                                    "FOGLALAS_PK": "730",
                                    "Napok száma": "2",
                                    "(No column name)": "NULL"
                                },
                                {
                                    "SZOBA_ID": "152",
                                    "FOGLALAS_PK": "1160",
                                    "Napok száma": "7",
                                    "(No column name)": "2"
                                },
                                {
                                    "SZOBA_ID": "152",
                                    "FOGLALAS_PK": "1197",
                                    "Napok száma": "6",
                                    "(No column name)": "9"
                                },
                                {
                                    "SZOBA_ID": "152",
                                    "FOGLALAS_PK": "1558",
                                    "Napok száma": "2",
                                    "(No column name)": "15"
                                },
                                {
                                    "SZOBA_ID": "153",
                                    "FOGLALAS_PK": "594",
                                    "Napok száma": "3",
                                    "(No column name)": "NULL"
                                },
                                {
                                    "SZOBA_ID": "153",
                                    "FOGLALAS_PK": "969",
                                    "Napok száma": "6",
                                    "(No column name)": "3"
                                },
                                {
                                    "SZOBA_ID": "153",
                                    "FOGLALAS_PK": "1460",
                                    "Napok száma": "3",
                                    "(No column name)": "9"
                                },
                                {
                                    "SZOBA_ID": "153",
                                    "FOGLALAS_PK": "1470",
                                    "Napok száma": "5",
                                    "(No column name)": "12"
                                },
                                {
                                    "SZOBA_ID": "153",
                                    "FOGLALAS_PK": "1507",
                                    "Napok száma": "3",
                                    "(No column name)": "17"
                                },
                                {
                                    "SZOBA_ID": "154",
                                    "FOGLALAS_PK": "968",
                                    "Napok száma": "1",
                                    "(No column name)": "NULL"
                                },
                                {
                                    "SZOBA_ID": "154",
                                    "FOGLALAS_PK": "1061",
                                    "Napok száma": "7",
                                    "(No column name)": "1"
                                },
                                {
                                    "SZOBA_ID": "154",
                                    "FOGLALAS_PK": "1168",
                                    "Napok száma": "6",
                                    "(No column name)": "8"
                                },
                                {
                                    "SZOBA_ID": "154",
                                    "FOGLALAS_PK": "1262",
                                    "Napok száma": "1",
                                    "(No column name)": "14"
                                },
                                {
                                    "SZOBA_ID": "154",
                                    "FOGLALAS_PK": "1539",
                                    "Napok száma": "2",
                                    "(No column name)": "15"
                                },
                                {
                                    "SZOBA_ID": "155",
                                    "FOGLALAS_PK": "575",
                                    "Napok száma": "1",
                                    "(No column name)": "NULL"
                                },
                                {
                                    "SZOBA_ID": "155",
                                    "FOGLALAS_PK": "577",
                                    "Napok száma": "3",
                                    "(No column name)": "1"
                                },
                                {
                                    "SZOBA_ID": "155",
                                    "FOGLALAS_PK": "1112",
                                    "Napok száma": "4",
                                    "(No column name)": "4"
                                },
                                {
                                    "SZOBA_ID": "155",
                                    "FOGLALAS_PK": "1310",
                                    "Napok száma": "1",
                                    "(No column name)": "8"
                                },
                                {
                                    "SZOBA_ID": "155",
                                    "FOGLALAS_PK": "1541",
                                    "Napok száma": "1",
                                    "(No column name)": "9"
                                },
                                {
                                    "SZOBA_ID": "156",
                                    "FOGLALAS_PK": "588",
                                    "Napok száma": "7",
                                    "(No column name)": "NULL"
                                },
                                {
                                    "SZOBA_ID": "156",
                                    "FOGLALAS_PK": "907",
                                    "Napok száma": "3",
                                    "(No column name)": "7"
                                },
                                {
                                    "SZOBA_ID": "156",
                                    "FOGLALAS_PK": "956",
                                    "Napok száma": "6",
                                    "(No column name)": "10"
                                },
                                {
                                    "SZOBA_ID": "156",
                                    "FOGLALAS_PK": "692",
                                    "Napok száma": "6",
                                    "(No column name)": "16"
                                },
                                {
                                    "SZOBA_ID": "156",
                                    "FOGLALAS_PK": "1462",
                                    "Napok száma": "7",
                                    "(No column name)": "22"
                                },
                                {
                                    "SZOBA_ID": "156",
                                    "FOGLALAS_PK": "1490",
                                    "Napok száma": "1",
                                    "(No column name)": "29"
                                },
                                {
                                    "SZOBA_ID": "156",
                                    "FOGLALAS_PK": "1561",
                                    "Napok száma": "4",
                                    "(No column name)": "30"
                                },
                                {
                                    "SZOBA_ID": "157",
                                    "FOGLALAS_PK": "648",
                                    "Napok száma": "4",
                                    "(No column name)": "NULL"
                                },
                                {
                                    "SZOBA_ID": "157",
                                    "FOGLALAS_PK": "1025",
                                    "Napok száma": "3",
                                    "(No column name)": "4"
                                },
                                {
                                    "SZOBA_ID": "157",
                                    "FOGLALAS_PK": "1047",
                                    "Napok száma": "4",
                                    "(No column name)": "7"
                                },
                                {
                                    "SZOBA_ID": "157",
                                    "FOGLALAS_PK": "1240",
                                    "Napok száma": "7",
                                    "(No column name)": "11"
                                },
                                {
                                    "SZOBA_ID": "157",
                                    "FOGLALAS_PK": "1551",
                                    "Napok száma": "3",
                                    "(No column name)": "18"
                                },
                                {
                                    "SZOBA_ID": "158",
                                    "FOGLALAS_PK": "825",
                                    "Napok száma": "4",
                                    "(No column name)": "NULL"
                                },
                                {
                                    "SZOBA_ID": "158",
                                    "FOGLALAS_PK": "840",
                                    "Napok száma": "4",
                                    "(No column name)": "4"
                                },
                                {
                                    "SZOBA_ID": "158",
                                    "FOGLALAS_PK": "1117",
                                    "Napok száma": "3",
                                    "(No column name)": "8"
                                },
                                {
                                    "SZOBA_ID": "160",
                                    "FOGLALAS_PK": "922",
                                    "Napok száma": "2",
                                    "(No column name)": "NULL"
                                },
                                {
                                    "SZOBA_ID": "160",
                                    "FOGLALAS_PK": "927",
                                    "Napok száma": "4",
                                    "(No column name)": "2"
                                },
                                {
                                    "SZOBA_ID": "160",
                                    "FOGLALAS_PK": "933",
                                    "Napok száma": "4",
                                    "(No column name)": "6"
                                },
                                {
                                    "SZOBA_ID": "160",
                                    "FOGLALAS_PK": "720",
                                    "Napok száma": "2",
                                    "(No column name)": "10"
                                },
                                {
                                    "SZOBA_ID": "160",
                                    "FOGLALAS_PK": "1565",
                                    "Napok száma": "3",
                                    "(No column name)": "12"
                                },
                                {
                                    "SZOBA_ID": "161",
                                    "FOGLALAS_PK": "639",
                                    "Napok száma": "4",
                                    "(No column name)": "NULL"
                                },
                                {
                                    "SZOBA_ID": "161",
                                    "FOGLALAS_PK": "653",
                                    "Napok száma": "7",
                                    "(No column name)": "4"
                                },
                                {
                                    "SZOBA_ID": "161",
                                    "FOGLALAS_PK": "911",
                                    "Napok száma": "4",
                                    "(No column name)": "11"
                                },
                                {
                                    "SZOBA_ID": "161",
                                    "FOGLALAS_PK": "1068",
                                    "Napok száma": "6",
                                    "(No column name)": "15"
                                },
                                {
                                    "SZOBA_ID": "161",
                                    "FOGLALAS_PK": "1190",
                                    "Napok száma": "7",
                                    "(No column name)": "21"
                                },
                                {
                                    "SZOBA_ID": "161",
                                    "FOGLALAS_PK": "1571",
                                    "Napok száma": "4",
                                    "(No column name)": "28"
                                },
                                {
                                    "SZOBA_ID": "162",
                                    "FOGLALAS_PK": "599",
                                    "Napok száma": "4",
                                    "(No column name)": "NULL"
                                },
                                {
                                    "SZOBA_ID": "162",
                                    "FOGLALAS_PK": "1205",
                                    "Napok száma": "6",
                                    "(No column name)": "4"
                                },
                                {
                                    "SZOBA_ID": "162",
                                    "FOGLALAS_PK": "1400",
                                    "Napok száma": "1",
                                    "(No column name)": "10"
                                },
                                {
                                    "SZOBA_ID": "163",
                                    "FOGLALAS_PK": "630",
                                    "Napok száma": "2",
                                    "(No column name)": "NULL"
                                },
                                {
                                    "SZOBA_ID": "163",
                                    "FOGLALAS_PK": "941",
                                    "Napok száma": "1",
                                    "(No column name)": "2"
                                },
                                {
                                    "SZOBA_ID": "163",
                                    "FOGLALAS_PK": "782",
                                    "Napok száma": "3",
                                    "(No column name)": "3"
                                },
                                {
                                    "SZOBA_ID": "163",
                                    "FOGLALAS_PK": "1075",
                                    "Napok száma": "4",
                                    "(No column name)": "6"
                                },
                                {
                                    "SZOBA_ID": "163",
                                    "FOGLALAS_PK": "1107",
                                    "Napok száma": "3",
                                    "(No column name)": "10"
                                },
                                {
                                    "SZOBA_ID": "163",
                                    "FOGLALAS_PK": "1265",
                                    "Napok száma": "5",
                                    "(No column name)": "13"
                                },
                                {
                                    "SZOBA_ID": "163",
                                    "FOGLALAS_PK": "1487",
                                    "Napok száma": "3",
                                    "(No column name)": "18"
                                },
                                {
                                    "SZOBA_ID": "164",
                                    "FOGLALAS_PK": "570",
                                    "Napok száma": "7",
                                    "(No column name)": "NULL"
                                },
                                {
                                    "SZOBA_ID": "164",
                                    "FOGLALAS_PK": "1010",
                                    "Napok száma": "2",
                                    "(No column name)": "7"
                                },
                                {
                                    "SZOBA_ID": "164",
                                    "FOGLALAS_PK": "742",
                                    "Napok száma": "6",
                                    "(No column name)": "9"
                                },
                                {
                                    "SZOBA_ID": "164",
                                    "FOGLALAS_PK": "1284",
                                    "Napok száma": "4",
                                    "(No column name)": "15"
                                },
                                {
                                    "SZOBA_ID": "164",
                                    "FOGLALAS_PK": "1292",
                                    "Napok száma": "2",
                                    "(No column name)": "19"
                                },
                                {
                                    "SZOBA_ID": "165",
                                    "FOGLALAS_PK": "640",
                                    "Napok száma": "3",
                                    "(No column name)": "NULL"
                                },
                                {
                                    "SZOBA_ID": "165",
                                    "FOGLALAS_PK": "857",
                                    "Napok száma": "5",
                                    "(No column name)": "3"
                                },
                                {
                                    "SZOBA_ID": "165",
                                    "FOGLALAS_PK": "900",
                                    "Napok száma": "6",
                                    "(No column name)": "8"
                                },
                                {
                                    "SZOBA_ID": "165",
                                    "FOGLALAS_PK": "897",
                                    "Napok száma": "6",
                                    "(No column name)": "14"
                                },
                                {
                                    "SZOBA_ID": "165",
                                    "FOGLALAS_PK": "892",
                                    "Napok száma": "3",
                                    "(No column name)": "20"
                                },
                                {
                                    "SZOBA_ID": "165",
                                    "FOGLALAS_PK": "1141",
                                    "Napok száma": "1",
                                    "(No column name)": "23"
                                },
                                {
                                    "SZOBA_ID": "165",
                                    "FOGLALAS_PK": "1375",
                                    "Napok száma": "4",
                                    "(No column name)": "24"
                                },
                                {
                                    "SZOBA_ID": "166",
                                    "FOGLALAS_PK": "644",
                                    "Napok száma": "7",
                                    "(No column name)": "NULL"
                                },
                                {
                                    "SZOBA_ID": "166",
                                    "FOGLALAS_PK": "781",
                                    "Napok száma": "7",
                                    "(No column name)": "7"
                                },
                                {
                                    "SZOBA_ID": "166",
                                    "FOGLALAS_PK": "1526",
                                    "Napok száma": "2",
                                    "(No column name)": "14"
                                },
                                {
                                    "SZOBA_ID": "167",
                                    "FOGLALAS_PK": "854",
                                    "Napok száma": "7",
                                    "(No column name)": "NULL"
                                },
                                {
                                    "SZOBA_ID": "167",
                                    "FOGLALAS_PK": "1414",
                                    "Napok száma": "3",
                                    "(No column name)": "7"
                                },
                                {
                                    "SZOBA_ID": "168",
                                    "FOGLALAS_PK": "930",
                                    "Napok száma": "3",
                                    "(No column name)": "NULL"
                                },
                                {
                                    "SZOBA_ID": "168",
                                    "FOGLALAS_PK": "792",
                                    "Napok száma": "3",
                                    "(No column name)": "3"
                                },
                                {
                                    "SZOBA_ID": "168",
                                    "FOGLALAS_PK": "794",
                                    "Napok száma": "4",
                                    "(No column name)": "6"
                                },
                                {
                                    "SZOBA_ID": "168",
                                    "FOGLALAS_PK": "1249",
                                    "Napok száma": "4",
                                    "(No column name)": "10"
                                },
                                {
                                    "SZOBA_ID": "168",
                                    "FOGLALAS_PK": "1266",
                                    "Napok száma": "4",
                                    "(No column name)": "14"
                                },
                                {
                                    "SZOBA_ID": "169",
                                    "FOGLALAS_PK": "573",
                                    "Napok száma": "5",
                                    "(No column name)": "NULL"
                                },
                                {
                                    "SZOBA_ID": "169",
                                    "FOGLALAS_PK": "659",
                                    "Napok száma": "6",
                                    "(No column name)": "5"
                                },
                                {
                                    "SZOBA_ID": "169",
                                    "FOGLALAS_PK": "974",
                                    "Napok száma": "1",
                                    "(No column name)": "11"
                                },
                                {
                                    "SZOBA_ID": "169",
                                    "FOGLALAS_PK": "746",
                                    "Napok száma": "7",
                                    "(No column name)": "12"
                                },
                                {
                                    "SZOBA_ID": "169",
                                    "FOGLALAS_PK": "1356",
                                    "Napok száma": "4",
                                    "(No column name)": "19"
                                },
                                {
                                    "SZOBA_ID": "169",
                                    "FOGLALAS_PK": "1427",
                                    "Napok száma": "1",
                                    "(No column name)": "23"
                                },
                                {
                                    "SZOBA_ID": "170",
                                    "FOGLALAS_PK": "567",
                                    "Napok száma": "7",
                                    "(No column name)": "NULL"
                                },
                                {
                                    "SZOBA_ID": "170",
                                    "FOGLALAS_PK": "944",
                                    "Napok száma": "4",
                                    "(No column name)": "7"
                                },
                                {
                                    "SZOBA_ID": "170",
                                    "FOGLALAS_PK": "1194",
                                    "Napok száma": "4",
                                    "(No column name)": "11"
                                },
                                {
                                    "SZOBA_ID": "170",
                                    "FOGLALAS_PK": "1267",
                                    "Napok száma": "7",
                                    "(No column name)": "15"
                                },
                                {
                                    "SZOBA_ID": "170",
                                    "FOGLALAS_PK": "1342",
                                    "Napok száma": "6",
                                    "(No column name)": "22"
                                },
                                {
                                    "SZOBA_ID": "171",
                                    "FOGLALAS_PK": "574",
                                    "Napok száma": "2",
                                    "(No column name)": "NULL"
                                },
                                {
                                    "SZOBA_ID": "171",
                                    "FOGLALAS_PK": "981",
                                    "Napok száma": "4",
                                    "(No column name)": "2"
                                },
                                {
                                    "SZOBA_ID": "171",
                                    "FOGLALAS_PK": "1181",
                                    "Napok száma": "6",
                                    "(No column name)": "6"
                                },
                                {
                                    "SZOBA_ID": "171",
                                    "FOGLALAS_PK": "1329",
                                    "Napok száma": "5",
                                    "(No column name)": "12"
                                },
                                {
                                    "SZOBA_ID": "171",
                                    "FOGLALAS_PK": "1567",
                                    "Napok száma": "6",
                                    "(No column name)": "17"
                                },
                                {
                                    "SZOBA_ID": "172",
                                    "FOGLALAS_PK": "984",
                                    "Napok száma": "4",
                                    "(No column name)": "NULL"
                                },
                                {
                                    "SZOBA_ID": "172",
                                    "FOGLALAS_PK": "709",
                                    "Napok száma": "5",
                                    "(No column name)": "4"
                                },
                                {
                                    "SZOBA_ID": "172",
                                    "FOGLALAS_PK": "749",
                                    "Napok száma": "6",
                                    "(No column name)": "9"
                                },
                                {
                                    "SZOBA_ID": "172",
                                    "FOGLALAS_PK": "839",
                                    "Napok száma": "5",
                                    "(No column name)": "15"
                                },
                                {
                                    "SZOBA_ID": "172",
                                    "FOGLALAS_PK": "1142",
                                    "Napok száma": "4",
                                    "(No column name)": "20"
                                },
                                {
                                    "SZOBA_ID": "172",
                                    "FOGLALAS_PK": "1171",
                                    "Napok száma": "5",
                                    "(No column name)": "24"
                                },
                                {
                                    "SZOBA_ID": "172",
                                    "FOGLALAS_PK": "1336",
                                    "Napok száma": "5",
                                    "(No column name)": "29"
                                },
                                {
                                    "SZOBA_ID": "172",
                                    "FOGLALAS_PK": "1421",
                                    "Napok száma": "5",
                                    "(No column name)": "34"
                                },
                                {
                                    "SZOBA_ID": "172",
                                    "FOGLALAS_PK": "1491",
                                    "Napok száma": "2",
                                    "(No column name)": "39"
                                },
                                {
                                    "SZOBA_ID": "173",
                                    "FOGLALAS_PK": "913",
                                    "Napok száma": "1",
                                    "(No column name)": "NULL"
                                },
                                {
                                    "SZOBA_ID": "173",
                                    "FOGLALAS_PK": "669",
                                    "Napok száma": "7",
                                    "(No column name)": "1"
                                },
                                {
                                    "SZOBA_ID": "173",
                                    "FOGLALAS_PK": "1350",
                                    "Napok száma": "3",
                                    "(No column name)": "8"
                                },
                                {
                                    "SZOBA_ID": "173",
                                    "FOGLALAS_PK": "1429",
                                    "Napok száma": "4",
                                    "(No column name)": "11"
                                },
                                {
                                    "SZOBA_ID": "174",
                                    "FOGLALAS_PK": "917",
                                    "Napok száma": "2",
                                    "(No column name)": "NULL"
                                },
                                {
                                    "SZOBA_ID": "174",
                                    "FOGLALAS_PK": "1015",
                                    "Napok száma": "5",
                                    "(No column name)": "2"
                                },
                                {
                                    "SZOBA_ID": "174",
                                    "FOGLALAS_PK": "682",
                                    "Napok száma": "3",
                                    "(No column name)": "7"
                                },
                                {
                                    "SZOBA_ID": "174",
                                    "FOGLALAS_PK": "1276",
                                    "Napok száma": "1",
                                    "(No column name)": "10"
                                },
                                {
                                    "SZOBA_ID": "175",
                                    "FOGLALAS_PK": "867",
                                    "Napok száma": "6",
                                    "(No column name)": "NULL"
                                },
                                {
                                    "SZOBA_ID": "175",
                                    "FOGLALAS_PK": "799",
                                    "Napok száma": "4",
                                    "(No column name)": "6"
                                },
                                {
                                    "SZOBA_ID": "175",
                                    "FOGLALAS_PK": "1094",
                                    "Napok száma": "5",
                                    "(No column name)": "10"
                                },
                                {
                                    "SZOBA_ID": "175",
                                    "FOGLALAS_PK": "1133",
                                    "Napok száma": "2",
                                    "(No column name)": "15"
                                },
                                {
                                    "SZOBA_ID": "175",
                                    "FOGLALAS_PK": "1407",
                                    "Napok száma": "7",
                                    "(No column name)": "17"
                                },
                                {
                                    "SZOBA_ID": "176",
                                    "FOGLALAS_PK": "592",
                                    "Napok száma": "5",
                                    "(No column name)": "NULL"
                                },
                                {
                                    "SZOBA_ID": "176",
                                    "FOGLALAS_PK": "1143",
                                    "Napok száma": "6",
                                    "(No column name)": "5"
                                },
                                {
                                    "SZOBA_ID": "176",
                                    "FOGLALAS_PK": "1278",
                                    "Napok száma": "6",
                                    "(No column name)": "11"
                                },
                                {
                                    "SZOBA_ID": "176",
                                    "FOGLALAS_PK": "1383",
                                    "Napok száma": "4",
                                    "(No column name)": "17"
                                },
                                {
                                    "SZOBA_ID": "176",
                                    "FOGLALAS_PK": "1511",
                                    "Napok száma": "2",
                                    "(No column name)": "21"
                                },
                                {
                                    "SZOBA_ID": "176",
                                    "FOGLALAS_PK": "1570",
                                    "Napok száma": "3",
                                    "(No column name)": "23"
                                },
                                {
                                    "SZOBA_ID": "177",
                                    "FOGLALAS_PK": "785",
                                    "Napok száma": "3",
                                    "(No column name)": "NULL"
                                },
                                {
                                    "SZOBA_ID": "177",
                                    "FOGLALAS_PK": "831",
                                    "Napok száma": "7",
                                    "(No column name)": "3"
                                },
                                {
                                    "SZOBA_ID": "177",
                                    "FOGLALAS_PK": "1176",
                                    "Napok száma": "3",
                                    "(No column name)": "10"
                                },
                                {
                                    "SZOBA_ID": "177",
                                    "FOGLALAS_PK": "1503",
                                    "Napok száma": "3",
                                    "(No column name)": "13"
                                },
                                {
                                    "SZOBA_ID": "178",
                                    "FOGLALAS_PK": "991",
                                    "Napok száma": "7",
                                    "(No column name)": "NULL"
                                },
                                {
                                    "SZOBA_ID": "178",
                                    "FOGLALAS_PK": "816",
                                    "Napok száma": "4",
                                    "(No column name)": "7"
                                },
                                {
                                    "SZOBA_ID": "178",
                                    "FOGLALAS_PK": "1211",
                                    "Napok száma": "3",
                                    "(No column name)": "11"
                                },
                                {
                                    "SZOBA_ID": "178",
                                    "FOGLALAS_PK": "1242",
                                    "Napok száma": "1",
                                    "(No column name)": "14"
                                },
                                {
                                    "SZOBA_ID": "179",
                                    "FOGLALAS_PK": "662",
                                    "Napok száma": "2",
                                    "(No column name)": "NULL"
                                },
                                {
                                    "SZOBA_ID": "179",
                                    "FOGLALAS_PK": "1021",
                                    "Napok száma": "1",
                                    "(No column name)": "2"
                                },
                                {
                                    "SZOBA_ID": "179",
                                    "FOGLALAS_PK": "1497",
                                    "Napok száma": "1",
                                    "(No column name)": "3"
                                },
                                {
                                    "SZOBA_ID": "180",
                                    "FOGLALAS_PK": "905",
                                    "Napok száma": "5",
                                    "(No column name)": "NULL"
                                },
                                {
                                    "SZOBA_ID": "180",
                                    "FOGLALAS_PK": "1559",
                                    "Napok száma": "3",
                                    "(No column name)": "5"
                                },
                                {
                                    "SZOBA_ID": "180",
                                    "FOGLALAS_PK": "1563",
                                    "Napok száma": "6",
                                    "(No column name)": "8"
                                },
                                {
                                    "SZOBA_ID": "181",
                                    "FOGLALAS_PK": "937",
                                    "Napok száma": "3",
                                    "(No column name)": "NULL"
                                },
                                {
                                    "SZOBA_ID": "181",
                                    "FOGLALAS_PK": "958",
                                    "Napok száma": "5",
                                    "(No column name)": "3"
                                },
                                {
                                    "SZOBA_ID": "181",
                                    "FOGLALAS_PK": "1022",
                                    "Napok száma": "1",
                                    "(No column name)": "8"
                                },
                                {
                                    "SZOBA_ID": "181",
                                    "FOGLALAS_PK": "677",
                                    "Napok száma": "4",
                                    "(No column name)": "9"
                                },
                                {
                                    "SZOBA_ID": "181",
                                    "FOGLALAS_PK": "731",
                                    "Napok száma": "6",
                                    "(No column name)": "13"
                                },
                                {
                                    "SZOBA_ID": "181",
                                    "FOGLALAS_PK": "1346",
                                    "Napok száma": "6",
                                    "(No column name)": "19"
                                },
                                {
                                    "SZOBA_ID": "182",
                                    "FOGLALAS_PK": "571",
                                    "Napok száma": "2",
                                    "(No column name)": "NULL"
                                },
                                {
                                    "SZOBA_ID": "182",
                                    "FOGLALAS_PK": "928",
                                    "Napok száma": "2",
                                    "(No column name)": "2"
                                },
                                {
                                    "SZOBA_ID": "182",
                                    "FOGLALAS_PK": "1008",
                                    "Napok száma": "6",
                                    "(No column name)": "4"
                                },
                                {
                                    "SZOBA_ID": "182",
                                    "FOGLALAS_PK": "740",
                                    "Napok száma": "3",
                                    "(No column name)": "10"
                                },
                                {
                                    "SZOBA_ID": "182",
                                    "FOGLALAS_PK": "1188",
                                    "Napok száma": "1",
                                    "(No column name)": "13"
                                },
                                {
                                    "SZOBA_ID": "182",
                                    "FOGLALAS_PK": "1230",
                                    "Napok száma": "7",
                                    "(No column name)": "14"
                                },
                                {
                                    "SZOBA_ID": "182",
                                    "FOGLALAS_PK": "1231",
                                    "Napok száma": "4",
                                    "(No column name)": "21"
                                },
                                {
                                    "SZOBA_ID": "182",
                                    "FOGLALAS_PK": "1308",
                                    "Napok száma": "1",
                                    "(No column name)": "25"
                                },
                                {
                                    "SZOBA_ID": "182",
                                    "FOGLALAS_PK": "1317",
                                    "Napok száma": "3",
                                    "(No column name)": "26"
                                },
                                {
                                    "SZOBA_ID": "182",
                                    "FOGLALAS_PK": "1326",
                                    "Napok száma": "4",
                                    "(No column name)": "29"
                                },
                                {
                                    "SZOBA_ID": "182",
                                    "FOGLALAS_PK": "1410",
                                    "Napok száma": "4",
                                    "(No column name)": "33"
                                },
                                {
                                    "SZOBA_ID": "182",
                                    "FOGLALAS_PK": "1422",
                                    "Napok száma": "3",
                                    "(No column name)": "37"
                                },
                                {
                                    "SZOBA_ID": "183",
                                    "FOGLALAS_PK": "939",
                                    "Napok száma": "4",
                                    "(No column name)": "NULL"
                                },
                                {
                                    "SZOBA_ID": "183",
                                    "FOGLALAS_PK": "1067",
                                    "Napok száma": "7",
                                    "(No column name)": "4"
                                },
                                {
                                    "SZOBA_ID": "183",
                                    "FOGLALAS_PK": "1147",
                                    "Napok száma": "4",
                                    "(No column name)": "11"
                                },
                                {
                                    "SZOBA_ID": "183",
                                    "FOGLALAS_PK": "1437",
                                    "Napok száma": "4",
                                    "(No column name)": "15"
                                },
                                {
                                    "SZOBA_ID": "184",
                                    "FOGLALAS_PK": "608",
                                    "Napok száma": "2",
                                    "(No column name)": "NULL"
                                },
                                {
                                    "SZOBA_ID": "184",
                                    "FOGLALAS_PK": "880",
                                    "Napok száma": "4",
                                    "(No column name)": "2"
                                },
                                {
                                    "SZOBA_ID": "184",
                                    "FOGLALAS_PK": "684",
                                    "Napok száma": "3",
                                    "(No column name)": "6"
                                },
                                {
                                    "SZOBA_ID": "184",
                                    "FOGLALAS_PK": "1251",
                                    "Napok száma": "4",
                                    "(No column name)": "9"
                                },
                                {
                                    "SZOBA_ID": "185",
                                    "FOGLALAS_PK": "578",
                                    "Napok száma": "6",
                                    "(No column name)": "NULL"
                                },
                                {
                                    "SZOBA_ID": "185",
                                    "FOGLALAS_PK": "863",
                                    "Napok száma": "4",
                                    "(No column name)": "6"
                                },
                                {
                                    "SZOBA_ID": "185",
                                    "FOGLALAS_PK": "898",
                                    "Napok száma": "4",
                                    "(No column name)": "10"
                                },
                                {
                                    "SZOBA_ID": "185",
                                    "FOGLALAS_PK": "925",
                                    "Napok száma": "6",
                                    "(No column name)": "14"
                                },
                                {
                                    "SZOBA_ID": "185",
                                    "FOGLALAS_PK": "672",
                                    "Napok száma": "3",
                                    "(No column name)": "20"
                                },
                                {
                                    "SZOBA_ID": "185",
                                    "FOGLALAS_PK": "679",
                                    "Napok száma": "5",
                                    "(No column name)": "23"
                                },
                                {
                                    "SZOBA_ID": "185",
                                    "FOGLALAS_PK": "693",
                                    "Napok száma": "2",
                                    "(No column name)": "28"
                                },
                                {
                                    "SZOBA_ID": "185",
                                    "FOGLALAS_PK": "711",
                                    "Napok száma": "3",
                                    "(No column name)": "30"
                                },
                                {
                                    "SZOBA_ID": "185",
                                    "FOGLALAS_PK": "1125",
                                    "Napok száma": "3",
                                    "(No column name)": "33"
                                },
                                {
                                    "SZOBA_ID": "185",
                                    "FOGLALAS_PK": "1183",
                                    "Napok száma": "5",
                                    "(No column name)": "36"
                                },
                                {
                                    "SZOBA_ID": "185",
                                    "FOGLALAS_PK": "1441",
                                    "Napok száma": "7",
                                    "(No column name)": "41"
                                },
                                {
                                    "SZOBA_ID": "185",
                                    "FOGLALAS_PK": "1463",
                                    "Napok száma": "7",
                                    "(No column name)": "48"
                                },
                                {
                                    "SZOBA_ID": "186",
                                    "FOGLALAS_PK": "615",
                                    "Napok száma": "3",
                                    "(No column name)": "NULL"
                                },
                                {
                                    "SZOBA_ID": "186",
                                    "FOGLALAS_PK": "1153",
                                    "Napok száma": "3",
                                    "(No column name)": "3"
                                },
                                {
                                    "SZOBA_ID": "186",
                                    "FOGLALAS_PK": "1248",
                                    "Napok száma": "2",
                                    "(No column name)": "6"
                                },
                                {
                                    "SZOBA_ID": "186",
                                    "FOGLALAS_PK": "1467",
                                    "Napok száma": "3",
                                    "(No column name)": "8"
                                },
                                {
                                    "SZOBA_ID": "187",
                                    "FOGLALAS_PK": "633",
                                    "Napok száma": "6",
                                    "(No column name)": "NULL"
                                },
                                {
                                    "SZOBA_ID": "187",
                                    "FOGLALAS_PK": "868",
                                    "Napok száma": "4",
                                    "(No column name)": "6"
                                },
                                {
                                    "SZOBA_ID": "187",
                                    "FOGLALAS_PK": "957",
                                    "Napok száma": "4",
                                    "(No column name)": "10"
                                },
                                {
                                    "SZOBA_ID": "187",
                                    "FOGLALAS_PK": "695",
                                    "Napok száma": "6",
                                    "(No column name)": "14"
                                },
                                {
                                    "SZOBA_ID": "187",
                                    "FOGLALAS_PK": "743",
                                    "Napok száma": "2",
                                    "(No column name)": "20"
                                },
                                {
                                    "SZOBA_ID": "187",
                                    "FOGLALAS_PK": "766",
                                    "Napok száma": "1",
                                    "(No column name)": "22"
                                },
                                {
                                    "SZOBA_ID": "187",
                                    "FOGLALAS_PK": "1404",
                                    "Napok száma": "2",
                                    "(No column name)": "23"
                                },
                                {
                                    "SZOBA_ID": "188",
                                    "FOGLALAS_PK": "912",
                                    "Napok száma": "1",
                                    "(No column name)": "NULL"
                                },
                                {
                                    "SZOBA_ID": "188",
                                    "FOGLALAS_PK": "690",
                                    "Napok száma": "4",
                                    "(No column name)": "1"
                                },
                                {
                                    "SZOBA_ID": "188",
                                    "FOGLALAS_PK": "710",
                                    "Napok száma": "7",
                                    "(No column name)": "5"
                                },
                                {
                                    "SZOBA_ID": "188",
                                    "FOGLALAS_PK": "747",
                                    "Napok száma": "3",
                                    "(No column name)": "12"
                                },
                                {
                                    "SZOBA_ID": "188",
                                    "FOGLALAS_PK": "1030",
                                    "Napok száma": "4",
                                    "(No column name)": "15"
                                },
                                {
                                    "SZOBA_ID": "188",
                                    "FOGLALAS_PK": "1390",
                                    "Napok száma": "5",
                                    "(No column name)": "19"
                                },
                                {
                                    "SZOBA_ID": "189",
                                    "FOGLALAS_PK": "699",
                                    "Napok száma": "2",
                                    "(No column name)": "NULL"
                                },
                                {
                                    "SZOBA_ID": "189",
                                    "FOGLALAS_PK": "753",
                                    "Napok száma": "1",
                                    "(No column name)": "2"
                                },
                                {
                                    "SZOBA_ID": "189",
                                    "FOGLALAS_PK": "1204",
                                    "Napok száma": "2",
                                    "(No column name)": "3"
                                },
                                {
                                    "SZOBA_ID": "189",
                                    "FOGLALAS_PK": "1449",
                                    "Napok száma": "2",
                                    "(No column name)": "5"
                                },
                                {
                                    "SZOBA_ID": "189",
                                    "FOGLALAS_PK": "1576",
                                    "Napok száma": "3",
                                    "(No column name)": "7"
                                },
                                {
                                    "SZOBA_ID": "190",
                                    "FOGLALAS_PK": "600",
                                    "Napok száma": "7",
                                    "(No column name)": "NULL"
                                },
                                {
                                    "SZOBA_ID": "190",
                                    "FOGLALAS_PK": "989",
                                    "Napok száma": "1",
                                    "(No column name)": "7"
                                },
                                {
                                    "SZOBA_ID": "190",
                                    "FOGLALAS_PK": "1017",
                                    "Napok száma": "1",
                                    "(No column name)": "8"
                                },
                                {
                                    "SZOBA_ID": "190",
                                    "FOGLALAS_PK": "774",
                                    "Napok száma": "5",
                                    "(No column name)": "9"
                                },
                                {
                                    "SZOBA_ID": "190",
                                    "FOGLALAS_PK": "1517",
                                    "Napok száma": "5",
                                    "(No column name)": "14"
                                },
                                {
                                    "SZOBA_ID": "191",
                                    "FOGLALAS_PK": "1039",
                                    "Napok száma": "6",
                                    "(No column name)": "NULL"
                                },
                                {
                                    "SZOBA_ID": "191",
                                    "FOGLALAS_PK": "1302",
                                    "Napok száma": "1",
                                    "(No column name)": "6"
                                },
                                {
                                    "SZOBA_ID": "191",
                                    "FOGLALAS_PK": "1323",
                                    "Napok száma": "7",
                                    "(No column name)": "7"
                                },
                                {
                                    "SZOBA_ID": "191",
                                    "FOGLALAS_PK": "1502",
                                    "Napok száma": "2",
                                    "(No column name)": "14"
                                },
                                {
                                    "SZOBA_ID": "191",
                                    "FOGLALAS_PK": "1508",
                                    "Napok száma": "7",
                                    "(No column name)": "16"
                                },
                                {
                                    "SZOBA_ID": "192",
                                    "FOGLALAS_PK": "903",
                                    "Napok száma": "7",
                                    "(No column name)": "NULL"
                                },
                                {
                                    "SZOBA_ID": "192",
                                    "FOGLALAS_PK": "680",
                                    "Napok száma": "4",
                                    "(No column name)": "7"
                                },
                                {
                                    "SZOBA_ID": "193",
                                    "FOGLALAS_PK": "634",
                                    "Napok száma": "6",
                                    "(No column name)": "NULL"
                                },
                                {
                                    "SZOBA_ID": "193",
                                    "FOGLALAS_PK": "926",
                                    "Napok száma": "1",
                                    "(No column name)": "6"
                                },
                                {
                                    "SZOBA_ID": "193",
                                    "FOGLALAS_PK": "977",
                                    "Napok száma": "2",
                                    "(No column name)": "7"
                                },
                                {
                                    "SZOBA_ID": "193",
                                    "FOGLALAS_PK": "675",
                                    "Napok száma": "2",
                                    "(No column name)": "9"
                                },
                                {
                                    "SZOBA_ID": "193",
                                    "FOGLALAS_PK": "835",
                                    "Napok száma": "2",
                                    "(No column name)": "11"
                                },
                                {
                                    "SZOBA_ID": "193",
                                    "FOGLALAS_PK": "1043",
                                    "Napok száma": "6",
                                    "(No column name)": "13"
                                },
                                {
                                    "SZOBA_ID": "193",
                                    "FOGLALAS_PK": "1238",
                                    "Napok száma": "6",
                                    "(No column name)": "19"
                                },
                                {
                                    "SZOBA_ID": "194",
                                    "FOGLALAS_PK": "1095",
                                    "Napok száma": "5",
                                    "(No column name)": "NULL"
                                },
                                {
                                    "SZOBA_ID": "195",
                                    "FOGLALAS_PK": "721",
                                    "Napok száma": "4",
                                    "(No column name)": "NULL"
                                },
                                {
                                    "SZOBA_ID": "195",
                                    "FOGLALAS_PK": "842",
                                    "Napok száma": "4",
                                    "(No column name)": "4"
                                },
                                {
                                    "SZOBA_ID": "195",
                                    "FOGLALAS_PK": "1074",
                                    "Napok száma": "7",
                                    "(No column name)": "8"
                                },
                                {
                                    "SZOBA_ID": "195",
                                    "FOGLALAS_PK": "1184",
                                    "Napok száma": "5",
                                    "(No column name)": "15"
                                },
                                {
                                    "SZOBA_ID": "195",
                                    "FOGLALAS_PK": "1473",
                                    "Napok száma": "7",
                                    "(No column name)": "20"
                                },
                                {
                                    "SZOBA_ID": "195",
                                    "FOGLALAS_PK": "1484",
                                    "Napok száma": "1",
                                    "(No column name)": "27"
                                },
                                {
                                    "SZOBA_ID": "196",
                                    "FOGLALAS_PK": "952",
                                    "Napok száma": "3",
                                    "(No column name)": "NULL"
                                },
                                {
                                    "SZOBA_ID": "196",
                                    "FOGLALAS_PK": "673",
                                    "Napok száma": "5",
                                    "(No column name)": "3"
                                },
                                {
                                    "SZOBA_ID": "196",
                                    "FOGLALAS_PK": "1314",
                                    "Napok száma": "5",
                                    "(No column name)": "8"
                                },
                                {
                                    "SZOBA_ID": "196",
                                    "FOGLALAS_PK": "1340",
                                    "Napok száma": "5",
                                    "(No column name)": "13"
                                },
                                {
                                    "SZOBA_ID": "197",
                                    "FOGLALAS_PK": "993",
                                    "Napok száma": "7",
                                    "(No column name)": "NULL"
                                },
                                {
                                    "SZOBA_ID": "197",
                                    "FOGLALAS_PK": "764",
                                    "Napok száma": "7",
                                    "(No column name)": "7"
                                },
                                {
                                    "SZOBA_ID": "197",
                                    "FOGLALAS_PK": "1091",
                                    "Napok száma": "7",
                                    "(No column name)": "14"
                                },
                                {
                                    "SZOBA_ID": "197",
                                    "FOGLALAS_PK": "1172",
                                    "Napok száma": "7",
                                    "(No column name)": "21"
                                },
                                {
                                    "SZOBA_ID": "197",
                                    "FOGLALAS_PK": "1304",
                                    "Napok száma": "7",
                                    "(No column name)": "28"
                                },
                                {
                                    "SZOBA_ID": "197",
                                    "FOGLALAS_PK": "1387",
                                    "Napok száma": "3",
                                    "(No column name)": "35"
                                },
                                {
                                    "SZOBA_ID": "198",
                                    "FOGLALAS_PK": "978",
                                    "Napok száma": "1",
                                    "(No column name)": "NULL"
                                },
                                {
                                    "SZOBA_ID": "198",
                                    "FOGLALAS_PK": "1011",
                                    "Napok száma": "7",
                                    "(No column name)": "1"
                                },
                                {
                                    "SZOBA_ID": "198",
                                    "FOGLALAS_PK": "1065",
                                    "Napok száma": "3",
                                    "(No column name)": "8"
                                },
                                {
                                    "SZOBA_ID": "198",
                                    "FOGLALAS_PK": "1116",
                                    "Napok száma": "1",
                                    "(No column name)": "11"
                                },
                                {
                                    "SZOBA_ID": "198",
                                    "FOGLALAS_PK": "1138",
                                    "Napok száma": "5",
                                    "(No column name)": "12"
                                },
                                {
                                    "SZOBA_ID": "198",
                                    "FOGLALAS_PK": "1161",
                                    "Napok száma": "5",
                                    "(No column name)": "17"
                                },
                                {
                                    "SZOBA_ID": "198",
                                    "FOGLALAS_PK": "1216",
                                    "Napok száma": "7",
                                    "(No column name)": "22"
                                },
                                {
                                    "SZOBA_ID": "198",
                                    "FOGLALAS_PK": "1420",
                                    "Napok száma": "5",
                                    "(No column name)": "29"
                                }
                            ]
                        },
                        "text/html": [
                            "<table>",
                            "<tr><th>SZOBA_ID</th><th>FOGLALAS_PK</th><th>Napok száma</th><th>(No column name)</th></tr>",
                            "<tr><td>1</td><td>620</td><td>5</td><td>NULL</td></tr>",
                            "<tr><td>1</td><td>949</td><td>1</td><td>5</td></tr>",
                            "<tr><td>1</td><td>738</td><td>7</td><td>6</td></tr>",
                            "<tr><td>1</td><td>803</td><td>4</td><td>13</td></tr>",
                            "<tr><td>1</td><td>1137</td><td>2</td><td>17</td></tr>",
                            "<tr><td>1</td><td>1152</td><td>1</td><td>19</td></tr>",
                            "<tr><td>1</td><td>1274</td><td>1</td><td>20</td></tr>",
                            "<tr><td>1</td><td>1334</td><td>4</td><td>21</td></tr>",
                            "<tr><td>2</td><td>828</td><td>3</td><td>NULL</td></tr>",
                            "<tr><td>2</td><td>1051</td><td>1</td><td>3</td></tr>",
                            "<tr><td>2</td><td>1069</td><td>7</td><td>4</td></tr>",
                            "<tr><td>2</td><td>1311</td><td>7</td><td>11</td></tr>",
                            "<tr><td>3</td><td>629</td><td>4</td><td>NULL</td></tr>",
                            "<tr><td>3</td><td>666</td><td>6</td><td>4</td></tr>",
                            "<tr><td>3</td><td>788</td><td>6</td><td>10</td></tr>",
                            "<tr><td>3</td><td>1038</td><td>3</td><td>16</td></tr>",
                            "<tr><td>3</td><td>1110</td><td>7</td><td>19</td></tr>",
                            "<tr><td>3</td><td>1151</td><td>1</td><td>26</td></tr>",
                            "<tr><td>3</td><td>1434</td><td>5</td><td>27</td></tr>",
                            "<tr><td>3</td><td>1544</td><td>5</td><td>32</td></tr>",
                            "<tr><td>4</td><td>651</td><td>7</td><td>NULL</td></tr>",
                            "<tr><td>4</td><td>946</td><td>5</td><td>7</td></tr>",
                            "<tr><td>4</td><td>1001</td><td>7</td><td>12</td></tr>",
                            "<tr><td>4</td><td>1127</td><td>3</td><td>19</td></tr>",
                            "<tr><td>4</td><td>1132</td><td>6</td><td>22</td></tr>",
                            "<tr><td>4</td><td>1492</td><td>6</td><td>28</td></tr>",
                            "<tr><td>5</td><td>564</td><td>2</td><td>NULL</td></tr>",
                            "<tr><td>5</td><td>965</td><td>7</td><td>2</td></tr>",
                            "<tr><td>5</td><td>1073</td><td>5</td><td>9</td></tr>",
                            "<tr><td>5</td><td>1257</td><td>3</td><td>14</td></tr>",
                            "<tr><td>6</td><td>560</td><td>6</td><td>NULL</td></tr>",
                            "<tr><td>6</td><td>873</td><td>3</td><td>6</td></tr>",
                            "<tr><td>6</td><td>990</td><td>4</td><td>9</td></tr>",
                            "<tr><td>6</td><td>772</td><td>6</td><td>13</td></tr>",
                            "<tr><td>6</td><td>850</td><td>2</td><td>19</td></tr>",
                            "<tr><td>6</td><td>1099</td><td>4</td><td>21</td></tr>",
                            "<tr><td>7</td><td>562</td><td>4</td><td>NULL</td></tr>",
                            "<tr><td>7</td><td>759</td><td>7</td><td>4</td></tr>",
                            "<tr><td>7</td><td>1131</td><td>1</td><td>11</td></tr>",
                            "<tr><td>7</td><td>1175</td><td>4</td><td>12</td></tr>",
                            "<tr><td>7</td><td>1182</td><td>4</td><td>16</td></tr>",
                            "<tr><td>7</td><td>1252</td><td>2</td><td>20</td></tr>",
                            "<tr><td>8</td><td>882</td><td>1</td><td>NULL</td></tr>",
                            "<tr><td>8</td><td>947</td><td>3</td><td>1</td></tr>",
                            "<tr><td>8</td><td>694</td><td>4</td><td>4</td></tr>",
                            "<tr><td>8</td><td>818</td><td>4</td><td>8</td></tr>",
                            "<tr><td>8</td><td>832</td><td>4</td><td>12</td></tr>",
                            "<tr><td>9</td><td>609</td><td>2</td><td>NULL</td></tr>",
                            "<tr><td>9</td><td>1157</td><td>6</td><td>2</td></tr>",
                            "<tr><td>9</td><td>1220</td><td>3</td><td>8</td></tr>",
                            "<tr><td>9</td><td>1260</td><td>6</td><td>11</td></tr>",
                            "<tr><td>9</td><td>1423</td><td>3</td><td>17</td></tr>",
                            "<tr><td>9</td><td>1537</td><td>3</td><td>20</td></tr>",
                            "<tr><td>10</td><td>569</td><td>3</td><td>NULL</td></tr>",
                            "<tr><td>10</td><td>790</td><td>5</td><td>3</td></tr>",
                            "<tr><td>10</td><td>795</td><td>4</td><td>8</td></tr>",
                            "<tr><td>10</td><td>1319</td><td>6</td><td>12</td></tr>",
                            "<tr><td>11</td><td>918</td><td>6</td><td>NULL</td></tr>",
                            "<tr><td>11</td><td>1123</td><td>5</td><td>6</td></tr>",
                            "<tr><td>11</td><td>1236</td><td>1</td><td>11</td></tr>",
                            "<tr><td>11</td><td>1523</td><td>1</td><td>12</td></tr>",
                            "<tr><td>12</td><td>876</td><td>7</td><td>NULL</td></tr>",
                            "<tr><td>12</td><td>951</td><td>3</td><td>7</td></tr>",
                            "<tr><td>12</td><td>970</td><td>2</td><td>10</td></tr>",
                            "<tr><td>12</td><td>1020</td><td>5</td><td>12</td></tr>",
                            "<tr><td>12</td><td>697</td><td>2</td><td>17</td></tr>",
                            "<tr><td>12</td><td>775</td><td>4</td><td>19</td></tr>",
                            "<tr><td>12</td><td>1140</td><td>3</td><td>23</td></tr>",
                            "<tr><td>12</td><td>1164</td><td>5</td><td>26</td></tr>",
                            "<tr><td>12</td><td>1430</td><td>2</td><td>31</td></tr>",
                            "<tr><td>13</td><td>763</td><td>4</td><td>NULL</td></tr>",
                            "<tr><td>13</td><td>1044</td><td>6</td><td>4</td></tr>",
                            "<tr><td>13</td><td>1347</td><td>3</td><td>10</td></tr>",
                            "<tr><td>13</td><td>1469</td><td>2</td><td>13</td></tr>",
                            "<tr><td>14</td><td>663</td><td>1</td><td>NULL</td></tr>",
                            "<tr><td>14</td><td>813</td><td>3</td><td>1</td></tr>",
                            "<tr><td>14</td><td>1542</td><td>4</td><td>4</td></tr>",
                            "<tr><td>15</td><td>1028</td><td>2</td><td>NULL</td></tr>",
                            "<tr><td>15</td><td>791</td><td>5</td><td>2</td></tr>",
                            "<tr><td>15</td><td>1129</td><td>4</td><td>7</td></tr>",
                            "<tr><td>15</td><td>1244</td><td>1</td><td>11</td></tr>",
                            "<tr><td>15</td><td>1418</td><td>4</td><td>12</td></tr>",
                            "<tr><td>15</td><td>1442</td><td>3</td><td>16</td></tr>",
                            "<tr><td>16</td><td>856</td><td>6</td><td>NULL</td></tr>",
                            "<tr><td>16</td><td>896</td><td>1</td><td>6</td></tr>",
                            "<tr><td>16</td><td>973</td><td>1</td><td>7</td></tr>",
                            "<tr><td>16</td><td>687</td><td>3</td><td>8</td></tr>",
                            "<tr><td>16</td><td>1498</td><td>7</td><td>11</td></tr>",
                            "<tr><td>17</td><td>602</td><td>6</td><td>NULL</td></tr>",
                            "<tr><td>17</td><td>916</td><td>2</td><td>6</td></tr>",
                            "<tr><td>17</td><td>713</td><td>6</td><td>8</td></tr>",
                            "<tr><td>17</td><td>744</td><td>1</td><td>14</td></tr>",
                            "<tr><td>17</td><td>1316</td><td>5</td><td>15</td></tr>",
                            "<tr><td>17</td><td>1549</td><td>3</td><td>20</td></tr>",
                            "<tr><td>18</td><td>626</td><td>3</td><td>NULL</td></tr>",
                            "<tr><td>18</td><td>767</td><td>3</td><td>3</td></tr>",
                            "<tr><td>18</td><td>1035</td><td>6</td><td>6</td></tr>",
                            "<tr><td>18</td><td>1173</td><td>6</td><td>12</td></tr>",
                            "<tr><td>18</td><td>1198</td><td>4</td><td>18</td></tr>",
                            "<tr><td>18</td><td>1505</td><td>6</td><td>22</td></tr>",
                            "<tr><td>19</td><td>948</td><td>2</td><td>NULL</td></tr>",
                            "<tr><td>19</td><td>696</td><td>1</td><td>2</td></tr>",
                            "<tr><td>19</td><td>778</td><td>1</td><td>3</td></tr>",
                            "<tr><td>19</td><td>1139</td><td>7</td><td>4</td></tr>",
                            "<tr><td>19</td><td>1237</td><td>1</td><td>11</td></tr>",
                            "<tr><td>19</td><td>1533</td><td>1</td><td>12</td></tr>",
                            "<tr><td>20</td><td>755</td><td>6</td><td>NULL</td></tr>",
                            "<tr><td>20</td><td>820</td><td>1</td><td>6</td></tr>",
                            "<tr><td>20</td><td>1070</td><td>1</td><td>7</td></tr>",
                            "<tr><td>20</td><td>1114</td><td>5</td><td>8</td></tr>",
                            "<tr><td>20</td><td>1106</td><td>2</td><td>13</td></tr>",
                            "<tr><td>21</td><td>566</td><td>6</td><td>NULL</td></tr>",
                            "<tr><td>21</td><td>660</td><td>5</td><td>6</td></tr>",
                            "<tr><td>21</td><td>805</td><td>1</td><td>11</td></tr>",
                            "<tr><td>21</td><td>1212</td><td>6</td><td>12</td></tr>",
                            "<tr><td>22</td><td>906</td><td>1</td><td>NULL</td></tr>",
                            "<tr><td>22</td><td>1005</td><td>3</td><td>1</td></tr>",
                            "<tr><td>22</td><td>1130</td><td>1</td><td>4</td></tr>",
                            "<tr><td>22</td><td>1195</td><td>6</td><td>5</td></tr>",
                            "<tr><td>22</td><td>1206</td><td>7</td><td>11</td></tr>",
                            "<tr><td>22</td><td>1287</td><td>3</td><td>18</td></tr>",
                            "<tr><td>23</td><td>934</td><td>1</td><td>NULL</td></tr>",
                            "<tr><td>23</td><td>945</td><td>7</td><td>1</td></tr>",
                            "<tr><td>23</td><td>848</td><td>1</td><td>8</td></tr>",
                            "<tr><td>24</td><td>852</td><td>2</td><td>NULL</td></tr>",
                            "<tr><td>24</td><td>1167</td><td>1</td><td>2</td></tr>",
                            "<tr><td>24</td><td>1415</td><td>3</td><td>3</td></tr>",
                            "<tr><td>25</td><td>1052</td><td>3</td><td>NULL</td></tr>",
                            "<tr><td>25</td><td>1362</td><td>2</td><td>3</td></tr>",
                            "<tr><td>26</td><td>1158</td><td>2</td><td>NULL</td></tr>",
                            "<tr><td>26</td><td>1388</td><td>3</td><td>2</td></tr>",
                            "<tr><td>27</td><td>758</td><td>3</td><td>NULL</td></tr>",
                            "<tr><td>27</td><td>807</td><td>2</td><td>3</td></tr>",
                            "<tr><td>27</td><td>1031</td><td>2</td><td>5</td></tr>",
                            "<tr><td>27</td><td>1082</td><td>5</td><td>7</td></tr>",
                            "<tr><td>27</td><td>1275</td><td>6</td><td>12</td></tr>",
                            "<tr><td>27</td><td>1377</td><td>1</td><td>18</td></tr>",
                            "<tr><td>27</td><td>1476</td><td>1</td><td>19</td></tr>",
                            "<tr><td>28</td><td>872</td><td>5</td><td>NULL</td></tr>",
                            "<tr><td>28</td><td>886</td><td>4</td><td>5</td></tr>",
                            "<tr><td>28</td><td>901</td><td>4</td><td>9</td></tr>",
                            "<tr><td>28</td><td>725</td><td>5</td><td>13</td></tr>",
                            "<tr><td>28</td><td>1150</td><td>6</td><td>18</td></tr>",
                            "<tr><td>28</td><td>1459</td><td>2</td><td>24</td></tr>",
                            "<tr><td>29</td><td>611</td><td>5</td><td>NULL</td></tr>",
                            "<tr><td>29</td><td>894</td><td>1</td><td>5</td></tr>",
                            "<tr><td>29</td><td>1076</td><td>7</td><td>6</td></tr>",
                            "<tr><td>29</td><td>1185</td><td>5</td><td>13</td></tr>",
                            "<tr><td>29</td><td>1235</td><td>7</td><td>18</td></tr>",
                            "<tr><td>29</td><td>1568</td><td>7</td><td>25</td></tr>",
                            "<tr><td>30</td><td>604</td><td>2</td><td>NULL</td></tr>",
                            "<tr><td>30</td><td>1023</td><td>7</td><td>2</td></tr>",
                            "<tr><td>30</td><td>1136</td><td>5</td><td>9</td></tr>",
                            "<tr><td>31</td><td>598</td><td>2</td><td>NULL</td></tr>",
                            "<tr><td>31</td><td>606</td><td>1</td><td>2</td></tr>",
                            "<tr><td>31</td><td>728</td><td>4</td><td>3</td></tr>",
                            "<tr><td>32</td><td>920</td><td>4</td><td>NULL</td></tr>",
                            "<tr><td>33</td><td>624</td><td>6</td><td>NULL</td></tr>",
                            "<tr><td>33</td><td>1012</td><td>7</td><td>6</td></tr>",
                            "<tr><td>33</td><td>1053</td><td>1</td><td>13</td></tr>",
                            "<tr><td>33</td><td>1321</td><td>4</td><td>14</td></tr>",
                            "<tr><td>33</td><td>1344</td><td>5</td><td>18</td></tr>",
                            "<tr><td>33</td><td>1381</td><td>6</td><td>23</td></tr>",
                            "<tr><td>34</td><td>870</td><td>6</td><td>NULL</td></tr>",
                            "<tr><td>34</td><td>904</td><td>2</td><td>6</td></tr>",
                            "<tr><td>34</td><td>777</td><td>3</td><td>8</td></tr>",
                            "<tr><td>34</td><td>821</td><td>1</td><td>11</td></tr>",
                            "<tr><td>35</td><td>971</td><td>3</td><td>NULL</td></tr>",
                            "<tr><td>35</td><td>979</td><td>7</td><td>3</td></tr>",
                            "<tr><td>35</td><td>686</td><td>6</td><td>10</td></tr>",
                            "<tr><td>35</td><td>707</td><td>2</td><td>16</td></tr>",
                            "<tr><td>35</td><td>829</td><td>2</td><td>18</td></tr>",
                            "<tr><td>35</td><td>1480</td><td>37</td><td>20</td></tr>",
                            "<tr><td>35</td><td>1411</td><td>1</td><td>57</td></tr>",
                            "<tr><td>35</td><td>1436</td><td>1</td><td>58</td></tr>",
                            "<tr><td>35</td><td>1529</td><td>4</td><td>59</td></tr>",
                            "<tr><td>36</td><td>895</td><td>5</td><td>NULL</td></tr>",
                            "<tr><td>36</td><td>919</td><td>1</td><td>5</td></tr>",
                            "<tr><td>36</td><td>985</td><td>6</td><td>6</td></tr>",
                            "<tr><td>36</td><td>1003</td><td>4</td><td>12</td></tr>",
                            "<tr><td>36</td><td>748</td><td>2</td><td>16</td></tr>",
                            "<tr><td>36</td><td>750</td><td>6</td><td>18</td></tr>",
                            "<tr><td>37</td><td>688</td><td>2</td><td>NULL</td></tr>",
                            "<tr><td>37</td><td>705</td><td>4</td><td>2</td></tr>",
                            "<tr><td>37</td><td>1335</td><td>7</td><td>6</td></tr>",
                            "<tr><td>38</td><td>627</td><td>6</td><td>NULL</td></tr>",
                            "<tr><td>38</td><td>1033</td><td>2</td><td>6</td></tr>",
                            "<tr><td>38</td><td>1060</td><td>2</td><td>8</td></tr>",
                            "<tr><td>38</td><td>1078</td><td>7</td><td>10</td></tr>",
                            "<tr><td>38</td><td>1351</td><td>4</td><td>17</td></tr>",
                            "<tr><td>38</td><td>1416</td><td>5</td><td>21</td></tr>",
                            "<tr><td>38</td><td>1478</td><td>4</td><td>26</td></tr>",
                            "<tr><td>38</td><td>1556</td><td>6</td><td>30</td></tr>",
                            "<tr><td>39</td><td>601</td><td>6</td><td>NULL</td></tr>",
                            "<tr><td>39</td><td>899</td><td>6</td><td>6</td></tr>",
                            "<tr><td>39</td><td>1214</td><td>5</td><td>12</td></tr>",
                            "<tr><td>39</td><td>1380</td><td>5</td><td>17</td></tr>",
                            "<tr><td>39</td><td>1435</td><td>7</td><td>22</td></tr>",
                            "<tr><td>39</td><td>1454</td><td>1</td><td>29</td></tr>",
                            "<tr><td>39</td><td>1538</td><td>2</td><td>30</td></tr>",
                            "<tr><td>40</td><td>924</td><td>5</td><td>NULL</td></tr>",
                            "<tr><td>40</td><td>932</td><td>6</td><td>5</td></tr>",
                            "<tr><td>40</td><td>1018</td><td>5</td><td>11</td></tr>",
                            "<tr><td>40</td><td>1118</td><td>5</td><td>16</td></tr>",
                            "<tr><td>41</td><td>960</td><td>6</td><td>NULL</td></tr>",
                            "<tr><td>41</td><td>1144</td><td>1</td><td>6</td></tr>",
                            "<tr><td>42</td><td>561</td><td>4</td><td>NULL</td></tr>",
                            "<tr><td>42</td><td>590</td><td>5</td><td>4</td></tr>",
                            "<tr><td>42</td><td>851</td><td>7</td><td>9</td></tr>",
                            "<tr><td>42</td><td>770</td><td>3</td><td>16</td></tr>",
                            "<tr><td>42</td><td>1309</td><td>2</td><td>19</td></tr>",
                            "<tr><td>42</td><td>1444</td><td>6</td><td>21</td></tr>",
                            "<tr><td>43</td><td>1019</td><td>4</td><td>NULL</td></tr>",
                            "<tr><td>43</td><td>670</td><td>4</td><td>4</td></tr>",
                            "<tr><td>43</td><td>1088</td><td>2</td><td>8</td></tr>",
                            "<tr><td>43</td><td>1207</td><td>1</td><td>10</td></tr>",
                            "<tr><td>43</td><td>1227</td><td>5</td><td>11</td></tr>",
                            "<tr><td>43</td><td>1270</td><td>4</td><td>16</td></tr>",
                            "<tr><td>43</td><td>1524</td><td>1</td><td>20</td></tr>",
                            "<tr><td>43</td><td>1553</td><td>5</td><td>21</td></tr>",
                            "<tr><td>44</td><td>589</td><td>2</td><td>NULL</td></tr>",
                            "<tr><td>44</td><td>658</td><td>6</td><td>2</td></tr>",
                            "<tr><td>44</td><td>823</td><td>2</td><td>8</td></tr>",
                            "<tr><td>44</td><td>1295</td><td>2</td><td>10</td></tr>",
                            "<tr><td>44</td><td>1425</td><td>2</td><td>12</td></tr>",
                            "<tr><td>44</td><td>1552</td><td>2</td><td>14</td></tr>",
                            "<tr><td>45</td><td>802</td><td>7</td><td>NULL</td></tr>",
                            "<tr><td>45</td><td>800</td><td>5</td><td>7</td></tr>",
                            "<tr><td>45</td><td>846</td><td>3</td><td>12</td></tr>",
                            "<tr><td>45</td><td>1135</td><td>3</td><td>15</td></tr>",
                            "<tr><td>45</td><td>1303</td><td>2</td><td>18</td></tr>",
                            "<tr><td>46</td><td>752</td><td>5</td><td>NULL</td></tr>",
                            "<tr><td>46</td><td>1187</td><td>7</td><td>5</td></tr>",
                            "<tr><td>46</td><td>1291</td><td>3</td><td>12</td></tr>",
                            "<tr><td>46</td><td>1515</td><td>4</td><td>15</td></tr>",
                            "<tr><td>47</td><td>955</td><td>1</td><td>NULL</td></tr>",
                            "<tr><td>47</td><td>1056</td><td>7</td><td>1</td></tr>",
                            "<tr><td>48</td><td>603</td><td>3</td><td>NULL</td></tr>",
                            "<tr><td>48</td><td>628</td><td>2</td><td>3</td></tr>",
                            "<tr><td>48</td><td>914</td><td>5</td><td>5</td></tr>",
                            "<tr><td>48</td><td>986</td><td>5</td><td>10</td></tr>",
                            "<tr><td>48</td><td>824</td><td>2</td><td>15</td></tr>",
                            "<tr><td>48</td><td>1243</td><td>6</td><td>17</td></tr>",
                            "<tr><td>48</td><td>1546</td><td>3</td><td>23</td></tr>",
                            "<tr><td>48</td><td>1547</td><td>1</td><td>26</td></tr>",
                            "<tr><td>48</td><td>1581</td><td>5</td><td>27</td></tr>",
                            "<tr><td>49</td><td>888</td><td>7</td><td>NULL</td></tr>",
                            "<tr><td>49</td><td>793</td><td>6</td><td>7</td></tr>",
                            "<tr><td>49</td><td>826</td><td>4</td><td>13</td></tr>",
                            "<tr><td>49</td><td>1066</td><td>7</td><td>17</td></tr>",
                            "<tr><td>49</td><td>1200</td><td>7</td><td>24</td></tr>",
                            "<tr><td>49</td><td>1221</td><td>2</td><td>31</td></tr>",
                            "<tr><td>49</td><td>1536</td><td>6</td><td>33</td></tr>",
                            "<tr><td>50</td><td>787</td><td>3</td><td>NULL</td></tr>",
                            "<tr><td>50</td><td>1063</td><td>2</td><td>3</td></tr>",
                            "<tr><td>50</td><td>1224</td><td>1</td><td>5</td></tr>",
                            "<tr><td>50</td><td>1272</td><td>1</td><td>6</td></tr>",
                            "<tr><td>51</td><td>865</td><td>7</td><td>NULL</td></tr>",
                            "<tr><td>51</td><td>811</td><td>2</td><td>7</td></tr>",
                            "<tr><td>51</td><td>1165</td><td>5</td><td>9</td></tr>",
                            "<tr><td>51</td><td>1477</td><td>6</td><td>14</td></tr>",
                            "<tr><td>51</td><td>1550</td><td>1</td><td>20</td></tr>",
                            "<tr><td>52</td><td>822</td><td>7</td><td>NULL</td></tr>",
                            "<tr><td>52</td><td>1202</td><td>2</td><td>7</td></tr>",
                            "<tr><td>52</td><td>1258</td><td>5</td><td>9</td></tr>",
                            "<tr><td>52</td><td>1431</td><td>5</td><td>14</td></tr>",
                            "<tr><td>52</td><td>1534</td><td>5</td><td>19</td></tr>",
                            "<tr><td>53</td><td>855</td><td>1</td><td>NULL</td></tr>",
                            "<tr><td>53</td><td>987</td><td>4</td><td>1</td></tr>",
                            "<tr><td>54</td><td>622</td><td>7</td><td>NULL</td></tr>",
                            "<tr><td>54</td><td>642</td><td>5</td><td>7</td></tr>",
                            "<tr><td>54</td><td>889</td><td>2</td><td>12</td></tr>",
                            "<tr><td>54</td><td>668</td><td>1</td><td>14</td></tr>",
                            "<tr><td>54</td><td>1096</td><td>4</td><td>15</td></tr>",
                            "<tr><td>54</td><td>1328</td><td>4</td><td>19</td></tr>",
                            "<tr><td>55</td><td>734</td><td>6</td><td>NULL</td></tr>",
                            "<tr><td>55</td><td>1086</td><td>5</td><td>6</td></tr>",
                            "<tr><td>55</td><td>1163</td><td>2</td><td>11</td></tr>",
                            "<tr><td>55</td><td>1232</td><td>7</td><td>13</td></tr>",
                            "<tr><td>55</td><td>1327</td><td>6</td><td>20</td></tr>",
                            "<tr><td>55</td><td>1386</td><td>2</td><td>26</td></tr>",
                            "<tr><td>55</td><td>1512</td><td>1</td><td>28</td></tr>",
                            "<tr><td>55</td><td>1520</td><td>1</td><td>29</td></tr>",
                            "<tr><td>56</td><td>935</td><td>4</td><td>NULL</td></tr>",
                            "<tr><td>56</td><td>838</td><td>2</td><td>4</td></tr>",
                            "<tr><td>57</td><td>1348</td><td>1</td><td>NULL</td></tr>",
                            "<tr><td>57</td><td>1389</td><td>1</td><td>1</td></tr>",
                            "<tr><td>57</td><td>1466</td><td>7</td><td>2</td></tr>",
                            "<tr><td>57</td><td>1504</td><td>4</td><td>9</td></tr>",
                            "<tr><td>58</td><td>883</td><td>5</td><td>NULL</td></tr>",
                            "<tr><td>58</td><td>719</td><td>3</td><td>5</td></tr>",
                            "<tr><td>58</td><td>773</td><td>2</td><td>8</td></tr>",
                            "<tr><td>58</td><td>1113</td><td>3</td><td>10</td></tr>",
                            "<tr><td>58</td><td>1186</td><td>6</td><td>13</td></tr>",
                            "<tr><td>58</td><td>1208</td><td>6</td><td>19</td></tr>",
                            "<tr><td>58</td><td>1255</td><td>7</td><td>25</td></tr>",
                            "<tr><td>58</td><td>1261</td><td>6</td><td>32</td></tr>",
                            "<tr><td>58</td><td>1285</td><td>7</td><td>38</td></tr>",
                            "<tr><td>58</td><td>1293</td><td>3</td><td>45</td></tr>",
                            "<tr><td>58</td><td>1307</td><td>6</td><td>48</td></tr>",
                            "<tr><td>58</td><td>1322</td><td>3</td><td>54</td></tr>",
                            "<tr><td>58</td><td>1451</td><td>6</td><td>57</td></tr>",
                            "<tr><td>59</td><td>1080</td><td>1</td><td>NULL</td></tr>",
                            "<tr><td>59</td><td>1084</td><td>2</td><td>1</td></tr>",
                            "<tr><td>59</td><td>1170</td><td>5</td><td>3</td></tr>",
                            "<tr><td>59</td><td>1191</td><td>6</td><td>8</td></tr>",
                            "<tr><td>59</td><td>1239</td><td>2</td><td>14</td></tr>",
                            "<tr><td>59</td><td>1288</td><td>3</td><td>16</td></tr>",
                            "<tr><td>59</td><td>1573</td><td>1</td><td>19</td></tr>",
                            "<tr><td>60</td><td>676</td><td>2</td><td>NULL</td></tr>",
                            "<tr><td>61</td><td>701</td><td>2</td><td>NULL</td></tr>",
                            "<tr><td>61</td><td>756</td><td>6</td><td>2</td></tr>",
                            "<tr><td>61</td><td>1148</td><td>3</td><td>8</td></tr>",
                            "<tr><td>61</td><td>1218</td><td>2</td><td>11</td></tr>",
                            "<tr><td>61</td><td>1496</td><td>7</td><td>13</td></tr>",
                            "<tr><td>62</td><td>936</td><td>3</td><td>NULL</td></tr>",
                            "<tr><td>62</td><td>938</td><td>1</td><td>3</td></tr>",
                            "<tr><td>62</td><td>702</td><td>5</td><td>4</td></tr>",
                            "<tr><td>62</td><td>1081</td><td>7</td><td>9</td></tr>",
                            "<tr><td>62</td><td>1426</td><td>4</td><td>16</td></tr>",
                            "<tr><td>63</td><td>625</td><td>3</td><td>NULL</td></tr>",
                            "<tr><td>63</td><td>891</td><td>6</td><td>3</td></tr>",
                            "<tr><td>63</td><td>769</td><td>5</td><td>9</td></tr>",
                            "<tr><td>63</td><td>845</td><td>1</td><td>14</td></tr>",
                            "<tr><td>64</td><td>875</td><td>2</td><td>NULL</td></tr>",
                            "<tr><td>64</td><td>1122</td><td>4</td><td>2</td></tr>",
                            "<tr><td>64</td><td>1233</td><td>7</td><td>6</td></tr>",
                            "<tr><td>64</td><td>1446</td><td>6</td><td>13</td></tr>",
                            "<tr><td>64</td><td>1465</td><td>4</td><td>19</td></tr>",
                            "<tr><td>64</td><td>1582</td><td>1</td><td>23</td></tr>",
                            "<tr><td>65</td><td>650</td><td>6</td><td>NULL</td></tr>",
                            "<tr><td>66</td><td>950</td><td>3</td><td>NULL</td></tr>",
                            "<tr><td>66</td><td>736</td><td>3</td><td>3</td></tr>",
                            "<tr><td>66</td><td>1234</td><td>3</td><td>6</td></tr>",
                            "<tr><td>66</td><td>1264</td><td>4</td><td>9</td></tr>",
                            "<tr><td>67</td><td>638</td><td>5</td><td>NULL</td></tr>",
                            "<tr><td>67</td><td>645</td><td>6</td><td>5</td></tr>",
                            "<tr><td>67</td><td>874</td><td>6</td><td>11</td></tr>",
                            "<tr><td>67</td><td>1382</td><td>1</td><td>17</td></tr>",
                            "<tr><td>67</td><td>1580</td><td>5</td><td>18</td></tr>",
                            "<tr><td>67</td><td>1584</td><td>1</td><td>23</td></tr>",
                            "<tr><td>68</td><td>563</td><td>5</td><td>NULL</td></tr>",
                            "<tr><td>68</td><td>1027</td><td>7</td><td>5</td></tr>",
                            "<tr><td>68</td><td>1324</td><td>4</td><td>12</td></tr>",
                            "<tr><td>69</td><td>885</td><td>1</td><td>NULL</td></tr>",
                            "<tr><td>69</td><td>1055</td><td>5</td><td>1</td></tr>",
                            "<tr><td>69</td><td>1225</td><td>5</td><td>6</td></tr>",
                            "<tr><td>69</td><td>1246</td><td>7</td><td>11</td></tr>",
                            "<tr><td>70</td><td>585</td><td>5</td><td>NULL</td></tr>",
                            "<tr><td>70</td><td>860</td><td>2</td><td>5</td></tr>",
                            "<tr><td>70</td><td>1006</td><td>3</td><td>7</td></tr>",
                            "<tr><td>70</td><td>704</td><td>3</td><td>10</td></tr>",
                            "<tr><td>70</td><td>814</td><td>3</td><td>13</td></tr>",
                            "<tr><td>70</td><td>1092</td><td>3</td><td>16</td></tr>",
                            "<tr><td>70</td><td>1126</td><td>3</td><td>19</td></tr>",
                            "<tr><td>70</td><td>1325</td><td>7</td><td>22</td></tr>",
                            "<tr><td>70</td><td>1333</td><td>6</td><td>29</td></tr>",
                            "<tr><td>70</td><td>1365</td><td>3</td><td>35</td></tr>",
                            "<tr><td>70</td><td>1457</td><td>7</td><td>38</td></tr>",
                            "<tr><td>71</td><td>1009</td><td>1</td><td>NULL</td></tr>",
                            "<tr><td>71</td><td>681</td><td>3</td><td>1</td></tr>",
                            "<tr><td>71</td><td>712</td><td>1</td><td>4</td></tr>",
                            "<tr><td>72</td><td>902</td><td>5</td><td>NULL</td></tr>",
                            "<tr><td>72</td><td>961</td><td>6</td><td>5</td></tr>",
                            "<tr><td>72</td><td>1318</td><td>2</td><td>11</td></tr>",
                            "<tr><td>72</td><td>1396</td><td>3</td><td>13</td></tr>",
                            "<tr><td>73</td><td>1000</td><td>4</td><td>NULL</td></tr>",
                            "<tr><td>73</td><td>714</td><td>7</td><td>4</td></tr>",
                            "<tr><td>73</td><td>1159</td><td>5</td><td>11</td></tr>",
                            "<tr><td>73</td><td>1331</td><td>4</td><td>16</td></tr>",
                            "<tr><td>74</td><td>595</td><td>7</td><td>NULL</td></tr>",
                            "<tr><td>74</td><td>877</td><td>4</td><td>7</td></tr>",
                            "<tr><td>74</td><td>940</td><td>5</td><td>11</td></tr>",
                            "<tr><td>74</td><td>963</td><td>1</td><td>16</td></tr>",
                            "<tr><td>74</td><td>797</td><td>5</td><td>17</td></tr>",
                            "<tr><td>74</td><td>830</td><td>1</td><td>22</td></tr>",
                            "<tr><td>74</td><td>847</td><td>3</td><td>23</td></tr>",
                            "<tr><td>74</td><td>1093</td><td>6</td><td>26</td></tr>",
                            "<tr><td>74</td><td>1179</td><td>7</td><td>32</td></tr>",
                            "<tr><td>75</td><td>1013</td><td>5</td><td>NULL</td></tr>",
                            "<tr><td>75</td><td>1412</td><td>2</td><td>5</td></tr>",
                            "<tr><td>75</td><td>1458</td><td>1</td><td>7</td></tr>",
                            "<tr><td>76</td><td>976</td><td>2</td><td>NULL</td></tr>",
                            "<tr><td>76</td><td>683</td><td>7</td><td>2</td></tr>",
                            "<tr><td>76</td><td>1557</td><td>3</td><td>9</td></tr>",
                            "<tr><td>77</td><td>593</td><td>3</td><td>NULL</td></tr>",
                            "<tr><td>77</td><td>982</td><td>3</td><td>3</td></tr>",
                            "<tr><td>77</td><td>698</td><td>4</td><td>6</td></tr>",
                            "<tr><td>77</td><td>1104</td><td>1</td><td>10</td></tr>",
                            "<tr><td>77</td><td>1439</td><td>6</td><td>11</td></tr>",
                            "<tr><td>77</td><td>1461</td><td>4</td><td>17</td></tr>",
                            "<tr><td>78</td><td>568</td><td>1</td><td>NULL</td></tr>",
                            "<tr><td>78</td><td>646</td><td>3</td><td>1</td></tr>",
                            "<tr><td>78</td><td>700</td><td>5</td><td>4</td></tr>",
                            "<tr><td>78</td><td>1268</td><td>2</td><td>9</td></tr>",
                            "<tr><td>78</td><td>1281</td><td>3</td><td>11</td></tr>",
                            "<tr><td>78</td><td>1577</td><td>7</td><td>14</td></tr>",
                            "<tr><td>79</td><td>583</td><td>6</td><td>NULL</td></tr>",
                            "<tr><td>79</td><td>1054</td><td>1</td><td>6</td></tr>",
                            "<tr><td>79</td><td>1229</td><td>7</td><td>7</td></tr>",
                            "<tr><td>79</td><td>1345</td><td>3</td><td>14</td></tr>",
                            "<tr><td>79</td><td>1447</td><td>4</td><td>17</td></tr>",
                            "<tr><td>80</td><td>887</td><td>6</td><td>NULL</td></tr>",
                            "<tr><td>80</td><td>929</td><td>2</td><td>6</td></tr>",
                            "<tr><td>80</td><td>983</td><td>6</td><td>8</td></tr>",
                            "<tr><td>80</td><td>667</td><td>6</td><td>14</td></tr>",
                            "<tr><td>80</td><td>1071</td><td>4</td><td>20</td></tr>",
                            "<tr><td>80</td><td>1279</td><td>5</td><td>24</td></tr>",
                            "<tr><td>80</td><td>1367</td><td>3</td><td>29</td></tr>",
                            "<tr><td>81</td><td>1366</td><td>5</td><td>NULL</td></tr>",
                            "<tr><td>81</td><td>1443</td><td>7</td><td>5</td></tr>",
                            "<tr><td>81</td><td>1464</td><td>7</td><td>12</td></tr>",
                            "<tr><td>81</td><td>1506</td><td>3</td><td>19</td></tr>",
                            "<tr><td>81</td><td>1562</td><td>3</td><td>22</td></tr>",
                            "<tr><td>82</td><td>862</td><td>4</td><td>NULL</td></tr>",
                            "<tr><td>82</td><td>871</td><td>5</td><td>4</td></tr>",
                            "<tr><td>82</td><td>997</td><td>6</td><td>9</td></tr>",
                            "<tr><td>82</td><td>1277</td><td>5</td><td>15</td></tr>",
                            "<tr><td>82</td><td>1341</td><td>2</td><td>20</td></tr>",
                            "<tr><td>82</td><td>1406</td><td>1</td><td>22</td></tr>",
                            "<tr><td>83</td><td>572</td><td>7</td><td>NULL</td></tr>",
                            "<tr><td>83</td><td>869</td><td>6</td><td>7</td></tr>",
                            "<tr><td>83</td><td>878</td><td>6</td><td>13</td></tr>",
                            "<tr><td>83</td><td>995</td><td>5</td><td>19</td></tr>",
                            "<tr><td>83</td><td>674</td><td>4</td><td>24</td></tr>",
                            "<tr><td>83</td><td>798</td><td>4</td><td>28</td></tr>",
                            "<tr><td>83</td><td>1119</td><td>6</td><td>32</td></tr>",
                            "<tr><td>83</td><td>1379</td><td>7</td><td>38</td></tr>",
                            "<tr><td>84</td><td>954</td><td>5</td><td>NULL</td></tr>",
                            "<tr><td>84</td><td>819</td><td>2</td><td>5</td></tr>",
                            "<tr><td>84</td><td>1376</td><td>5</td><td>7</td></tr>",
                            "<tr><td>84</td><td>1384</td><td>7</td><td>12</td></tr>",
                            "<tr><td>85</td><td>647</td><td>3</td><td>NULL</td></tr>",
                            "<tr><td>85</td><td>1059</td><td>3</td><td>3</td></tr>",
                            "<tr><td>85</td><td>1320</td><td>1</td><td>6</td></tr>",
                            "<tr><td>85</td><td>1513</td><td>7</td><td>7</td></tr>",
                            "<tr><td>86</td><td>859</td><td>1</td><td>NULL</td></tr>",
                            "<tr><td>86</td><td>1057</td><td>5</td><td>1</td></tr>",
                            "<tr><td>86</td><td>1079</td><td>4</td><td>6</td></tr>",
                            "<tr><td>86</td><td>1108</td><td>1</td><td>10</td></tr>",
                            "<tr><td>86</td><td>1453</td><td>1</td><td>11</td></tr>",
                            "<tr><td>87</td><td>558</td><td>4</td><td>NULL</td></tr>",
                            "<tr><td>87</td><td>844</td><td>1</td><td>4</td></tr>",
                            "<tr><td>87</td><td>1103</td><td>3</td><td>5</td></tr>",
                            "<tr><td>87</td><td>1349</td><td>5</td><td>8</td></tr>",
                            "<tr><td>87</td><td>1456</td><td>5</td><td>13</td></tr>",
                            "<tr><td>88</td><td>866</td><td>2</td><td>NULL</td></tr>",
                            "<tr><td>88</td><td>757</td><td>7</td><td>2</td></tr>",
                            "<tr><td>88</td><td>1196</td><td>3</td><td>9</td></tr>",
                            "<tr><td>88</td><td>1273</td><td>7</td><td>12</td></tr>",
                            "<tr><td>88</td><td>1300</td><td>3</td><td>19</td></tr>",
                            "<tr><td>88</td><td>1359</td><td>2</td><td>22</td></tr>",
                            "<tr><td>88</td><td>1548</td><td>7</td><td>24</td></tr>",
                            "<tr><td>88</td><td>1575</td><td>6</td><td>31</td></tr>",
                            "<tr><td>89</td><td>817</td><td>3</td><td>NULL</td></tr>",
                            "<tr><td>89</td><td>1037</td><td>7</td><td>3</td></tr>",
                            "<tr><td>89</td><td>1101</td><td>5</td><td>10</td></tr>",
                            "<tr><td>89</td><td>1189</td><td>6</td><td>15</td></tr>",
                            "<tr><td>89</td><td>1253</td><td>2</td><td>21</td></tr>",
                            "<tr><td>89</td><td>1269</td><td>2</td><td>23</td></tr>",
                            "<tr><td>89</td><td>1399</td><td>2</td><td>25</td></tr>",
                            "<tr><td>89</td><td>1521</td><td>7</td><td>27</td></tr>",
                            "<tr><td>90</td><td>729</td><td>2</td><td>NULL</td></tr>",
                            "<tr><td>90</td><td>1174</td><td>7</td><td>2</td></tr>",
                            "<tr><td>90</td><td>1299</td><td>6</td><td>9</td></tr>",
                            "<tr><td>90</td><td>1405</td><td>5</td><td>15</td></tr>",
                            "<tr><td>91</td><td>636</td><td>6</td><td>NULL</td></tr>",
                            "<tr><td>91</td><td>732</td><td>4</td><td>6</td></tr>",
                            "<tr><td>91</td><td>1213</td><td>3</td><td>10</td></tr>",
                            "<tr><td>91</td><td>1397</td><td>4</td><td>13</td></tr>",
                            "<tr><td>92</td><td>942</td><td>6</td><td>NULL</td></tr>",
                            "<tr><td>92</td><td>1016</td><td>2</td><td>6</td></tr>",
                            "<tr><td>92</td><td>809</td><td>3</td><td>8</td></tr>",
                            "<tr><td>92</td><td>841</td><td>6</td><td>11</td></tr>",
                            "<tr><td>92</td><td>1527</td><td>2</td><td>17</td></tr>",
                            "<tr><td>92</td><td>1555</td><td>4</td><td>19</td></tr>",
                            "<tr><td>93</td><td>741</td><td>7</td><td>NULL</td></tr>",
                            "<tr><td>93</td><td>1169</td><td>4</td><td>7</td></tr>",
                            "<tr><td>93</td><td>1217</td><td>1</td><td>11</td></tr>",
                            "<tr><td>93</td><td>1355</td><td>2</td><td>12</td></tr>",
                            "<tr><td>93</td><td>1391</td><td>4</td><td>14</td></tr>",
                            "<tr><td>94</td><td>616</td><td>4</td><td>NULL</td></tr>",
                            "<tr><td>94</td><td>975</td><td>5</td><td>4</td></tr>",
                            "<tr><td>94</td><td>665</td><td>7</td><td>9</td></tr>",
                            "<tr><td>94</td><td>727</td><td>3</td><td>16</td></tr>",
                            "<tr><td>94</td><td>1241</td><td>7</td><td>19</td></tr>",
                            "<tr><td>94</td><td>1305</td><td>2</td><td>26</td></tr>",
                            "<tr><td>94</td><td>1312</td><td>3</td><td>28</td></tr>",
                            "<tr><td>94</td><td>1368</td><td>1</td><td>31</td></tr>",
                            "<tr><td>94</td><td>1518</td><td>2</td><td>32</td></tr>",
                            "<tr><td>94</td><td>1564</td><td>7</td><td>34</td></tr>",
                            "<tr><td>95</td><td>656</td><td>7</td><td>NULL</td></tr>",
                            "<tr><td>95</td><td>1048</td><td>3</td><td>7</td></tr>",
                            "<tr><td>95</td><td>1097</td><td>4</td><td>10</td></tr>",
                            "<tr><td>95</td><td>1543</td><td>7</td><td>14</td></tr>",
                            "<tr><td>96</td><td>607</td><td>4</td><td>NULL</td></tr>",
                            "<tr><td>96</td><td>623</td><td>7</td><td>4</td></tr>",
                            "<tr><td>96</td><td>671</td><td>4</td><td>11</td></tr>",
                            "<tr><td>96</td><td>780</td><td>1</td><td>15</td></tr>",
                            "<tr><td>96</td><td>1378</td><td>3</td><td>16</td></tr>",
                            "<tr><td>96</td><td>1438</td><td>2</td><td>19</td></tr>",
                            "<tr><td>96</td><td>1569</td><td>7</td><td>21</td></tr>",
                            "<tr><td>97</td><td>635</td><td>3</td><td>NULL</td></tr>",
                            "<tr><td>97</td><td>726</td><td>4</td><td>3</td></tr>",
                            "<tr><td>97</td><td>718</td><td>7</td><td>7</td></tr>",
                            "<tr><td>97</td><td>836</td><td>2</td><td>14</td></tr>",
                            "<tr><td>97</td><td>1395</td><td>1</td><td>16</td></tr>",
                            "<tr><td>97</td><td>1417</td><td>7</td><td>17</td></tr>",
                            "<tr><td>97</td><td>1528</td><td>2</td><td>24</td></tr>",
                            "<tr><td>98</td><td>631</td><td>6</td><td>NULL</td></tr>",
                            "<tr><td>98</td><td>884</td><td>5</td><td>6</td></tr>",
                            "<tr><td>98</td><td>1050</td><td>6</td><td>11</td></tr>",
                            "<tr><td>98</td><td>1402</td><td>2</td><td>17</td></tr>",
                            "<tr><td>99</td><td>632</td><td>1</td><td>NULL</td></tr>",
                            "<tr><td>99</td><td>691</td><td>5</td><td>1</td></tr>",
                            "<tr><td>99</td><td>1072</td><td>1</td><td>6</td></tr>",
                            "<tr><td>99</td><td>1408</td><td>1</td><td>7</td></tr>",
                            "<tr><td>99</td><td>1486</td><td>5</td><td>8</td></tr>",
                            "<tr><td>100</td><td>597</td><td>1</td><td>NULL</td></tr>",
                            "<tr><td>100</td><td>637</td><td>5</td><td>1</td></tr>",
                            "<tr><td>100</td><td>1315</td><td>5</td><td>6</td></tr>",
                            "<tr><td>100</td><td>1482</td><td>7</td><td>11</td></tr>",
                            "<tr><td>101</td><td>715</td><td>3</td><td>NULL</td></tr>",
                            "<tr><td>101</td><td>1332</td><td>6</td><td>3</td></tr>",
                            "<tr><td>101</td><td>1516</td><td>4</td><td>9</td></tr>",
                            "<tr><td>102</td><td>689</td><td>5</td><td>NULL</td></tr>",
                            "<tr><td>102</td><td>1343</td><td>2</td><td>5</td></tr>",
                            "<tr><td>103</td><td>972</td><td>2</td><td>NULL</td></tr>",
                            "<tr><td>103</td><td>992</td><td>7</td><td>2</td></tr>",
                            "<tr><td>103</td><td>1398</td><td>1</td><td>9</td></tr>",
                            "<tr><td>103</td><td>1485</td><td>4</td><td>10</td></tr>",
                            "<tr><td>104</td><td>837</td><td>4</td><td>NULL</td></tr>",
                            "<tr><td>104</td><td>1180</td><td>1</td><td>4</td></tr>",
                            "<tr><td>104</td><td>1522</td><td>2</td><td>5</td></tr>",
                            "<tr><td>104</td><td>1532</td><td>3</td><td>7</td></tr>",
                            "<tr><td>105</td><td>618</td><td>1</td><td>NULL</td></tr>",
                            "<tr><td>105</td><td>1525</td><td>5</td><td>1</td></tr>",
                            "<tr><td>106</td><td>610</td><td>3</td><td>NULL</td></tr>",
                            "<tr><td>106</td><td>708</td><td>7</td><td>3</td></tr>",
                            "<tr><td>106</td><td>1228</td><td>7</td><td>10</td></tr>",
                            "<tr><td>106</td><td>1271</td><td>5</td><td>17</td></tr>",
                            "<tr><td>106</td><td>1372</td><td>7</td><td>22</td></tr>",
                            "<tr><td>106</td><td>1510</td><td>6</td><td>29</td></tr>",
                            "<tr><td>107</td><td>586</td><td>6</td><td>NULL</td></tr>",
                            "<tr><td>107</td><td>1250</td><td>4</td><td>6</td></tr>",
                            "<tr><td>107</td><td>1354</td><td>1</td><td>10</td></tr>",
                            "<tr><td>107</td><td>1452</td><td>6</td><td>11</td></tr>",
                            "<tr><td>107</td><td>1494</td><td>2</td><td>17</td></tr>",
                            "<tr><td>108</td><td>1102</td><td>1</td><td>NULL</td></tr>",
                            "<tr><td>108</td><td>1392</td><td>6</td><td>1</td></tr>",
                            "<tr><td>109</td><td>614</td><td>4</td><td>NULL</td></tr>",
                            "<tr><td>109</td><td>621</td><td>7</td><td>4</td></tr>",
                            "<tr><td>109</td><td>654</td><td>5</td><td>11</td></tr>",
                            "<tr><td>109</td><td>810</td><td>2</td><td>16</td></tr>",
                            "<tr><td>109</td><td>1083</td><td>1</td><td>18</td></tr>",
                            "<tr><td>109</td><td>1298</td><td>4</td><td>19</td></tr>",
                            "<tr><td>109</td><td>1560</td><td>1</td><td>23</td></tr>",
                            "<tr><td>110</td><td>931</td><td>5</td><td>NULL</td></tr>",
                            "<tr><td>110</td><td>964</td><td>6</td><td>5</td></tr>",
                            "<tr><td>110</td><td>685</td><td>1</td><td>11</td></tr>",
                            "<tr><td>110</td><td>1041</td><td>3</td><td>12</td></tr>",
                            "<tr><td>110</td><td>1109</td><td>5</td><td>15</td></tr>",
                            "<tr><td>110</td><td>1162</td><td>2</td><td>20</td></tr>",
                            "<tr><td>110</td><td>1424</td><td>1</td><td>22</td></tr>",
                            "<tr><td>110</td><td>1489</td><td>6</td><td>23</td></tr>",
                            "<tr><td>111</td><td>605</td><td>7</td><td>NULL</td></tr>",
                            "<tr><td>111</td><td>959</td><td>7</td><td>7</td></tr>",
                            "<tr><td>111</td><td>786</td><td>4</td><td>14</td></tr>",
                            "<tr><td>111</td><td>1296</td><td>3</td><td>18</td></tr>",
                            "<tr><td>111</td><td>1353</td><td>5</td><td>21</td></tr>",
                            "<tr><td>112</td><td>921</td><td>1</td><td>NULL</td></tr>",
                            "<tr><td>112</td><td>776</td><td>4</td><td>1</td></tr>",
                            "<tr><td>112</td><td>801</td><td>5</td><td>5</td></tr>",
                            "<tr><td>112</td><td>1124</td><td>6</td><td>10</td></tr>",
                            "<tr><td>112</td><td>1530</td><td>6</td><td>16</td></tr>",
                            "<tr><td>113</td><td>1029</td><td>5</td><td>NULL</td></tr>",
                            "<tr><td>113</td><td>1085</td><td>4</td><td>5</td></tr>",
                            "<tr><td>113</td><td>1263</td><td>1</td><td>9</td></tr>",
                            "<tr><td>113</td><td>1495</td><td>7</td><td>10</td></tr>",
                            "<tr><td>113</td><td>1499</td><td>2</td><td>17</td></tr>",
                            "<tr><td>114</td><td>966</td><td>6</td><td>NULL</td></tr>",
                            "<tr><td>114</td><td>737</td><td>2</td><td>6</td></tr>",
                            "<tr><td>114</td><td>827</td><td>7</td><td>8</td></tr>",
                            "<tr><td>114</td><td>1540</td><td>3</td><td>15</td></tr>",
                            "<tr><td>115</td><td>596</td><td>7</td><td>NULL</td></tr>",
                            "<tr><td>115</td><td>943</td><td>7</td><td>7</td></tr>",
                            "<tr><td>115</td><td>1121</td><td>7</td><td>14</td></tr>",
                            "<tr><td>115</td><td>1154</td><td>4</td><td>21</td></tr>",
                            "<tr><td>115</td><td>1352</td><td>3</td><td>25</td></tr>",
                            "<tr><td>115</td><td>1554</td><td>3</td><td>28</td></tr>",
                            "<tr><td>115</td><td>1566</td><td>1</td><td>31</td></tr>",
                            "<tr><td>116</td><td>1455</td><td>2</td><td>NULL</td></tr>",
                            "<tr><td>116</td><td>1501</td><td>4</td><td>2</td></tr>",
                            "<tr><td>117</td><td>612</td><td>2</td><td>NULL</td></tr>",
                            "<tr><td>117</td><td>617</td><td>3</td><td>2</td></tr>",
                            "<tr><td>117</td><td>953</td><td>5</td><td>5</td></tr>",
                            "<tr><td>117</td><td>962</td><td>4</td><td>10</td></tr>",
                            "<tr><td>117</td><td>1002</td><td>1</td><td>14</td></tr>",
                            "<tr><td>117</td><td>1192</td><td>2</td><td>15</td></tr>",
                            "<tr><td>117</td><td>1247</td><td>3</td><td>17</td></tr>",
                            "<tr><td>117</td><td>1468</td><td>7</td><td>20</td></tr>",
                            "<tr><td>118</td><td>864</td><td>6</td><td>NULL</td></tr>",
                            "<tr><td>118</td><td>994</td><td>7</td><td>6</td></tr>",
                            "<tr><td>118</td><td>996</td><td>3</td><td>13</td></tr>",
                            "<tr><td>118</td><td>716</td><td>1</td><td>16</td></tr>",
                            "<tr><td>118</td><td>1374</td><td>5</td><td>17</td></tr>",
                            "<tr><td>118</td><td>1472</td><td>6</td><td>22</td></tr>",
                            "<tr><td>118</td><td>1481</td><td>3</td><td>28</td></tr>",
                            "<tr><td>119</td><td>1026</td><td>3</td><td>NULL</td></tr>",
                            "<tr><td>119</td><td>706</td><td>2</td><td>3</td></tr>",
                            "<tr><td>119</td><td>722</td><td>1</td><td>5</td></tr>",
                            "<tr><td>119</td><td>1413</td><td>3</td><td>6</td></tr>",
                            "<tr><td>119</td><td>1488</td><td>3</td><td>9</td></tr>",
                            "<tr><td>120</td><td>998</td><td>3</td><td>NULL</td></tr>",
                            "<tr><td>120</td><td>762</td><td>3</td><td>3</td></tr>",
                            "<tr><td>120</td><td>1089</td><td>6</td><td>6</td></tr>",
                            "<tr><td>120</td><td>1339</td><td>6</td><td>12</td></tr>",
                            "<tr><td>120</td><td>1483</td><td>1</td><td>18</td></tr>",
                            "<tr><td>120</td><td>1493</td><td>7</td><td>19</td></tr>",
                            "<tr><td>121</td><td>858</td><td>5</td><td>NULL</td></tr>",
                            "<tr><td>121</td><td>735</td><td>6</td><td>5</td></tr>",
                            "<tr><td>121</td><td>739</td><td>6</td><td>11</td></tr>",
                            "<tr><td>121</td><td>1049</td><td>3</td><td>17</td></tr>",
                            "<tr><td>121</td><td>1128</td><td>4</td><td>20</td></tr>",
                            "<tr><td>121</td><td>1215</td><td>4</td><td>24</td></tr>",
                            "<tr><td>121</td><td>1373</td><td>5</td><td>28</td></tr>",
                            "<tr><td>121</td><td>1393</td><td>6</td><td>33</td></tr>",
                            "<tr><td>122</td><td>1007</td><td>2</td><td>NULL</td></tr>",
                            "<tr><td>122</td><td>1036</td><td>2</td><td>2</td></tr>",
                            "<tr><td>122</td><td>1062</td><td>3</td><td>4</td></tr>",
                            "<tr><td>122</td><td>1166</td><td>4</td><td>7</td></tr>",
                            "<tr><td>122</td><td>1209</td><td>1</td><td>11</td></tr>",
                            "<tr><td>122</td><td>1245</td><td>2</td><td>12</td></tr>",
                            "<tr><td>122</td><td>1337</td><td>2</td><td>14</td></tr>",
                            "<tr><td>122</td><td>1385</td><td>5</td><td>16</td></tr>",
                            "<tr><td>122</td><td>1440</td><td>3</td><td>21</td></tr>",
                            "<tr><td>123</td><td>587</td><td>7</td><td>NULL</td></tr>",
                            "<tr><td>123</td><td>923</td><td>4</td><td>7</td></tr>",
                            "<tr><td>123</td><td>967</td><td>5</td><td>11</td></tr>",
                            "<tr><td>123</td><td>1223</td><td>1</td><td>16</td></tr>",
                            "<tr><td>123</td><td>1282</td><td>6</td><td>17</td></tr>",
                            "<tr><td>124</td><td>861</td><td>1</td><td>NULL</td></tr>",
                            "<tr><td>124</td><td>1210</td><td>4</td><td>1</td></tr>",
                            "<tr><td>124</td><td>1330</td><td>7</td><td>5</td></tr>",
                            "<tr><td>124</td><td>1403</td><td>6</td><td>12</td></tr>",
                            "<tr><td>124</td><td>1419</td><td>3</td><td>18</td></tr>",
                            "<tr><td>124</td><td>1531</td><td>6</td><td>21</td></tr>",
                            "<tr><td>125</td><td>576</td><td>1</td><td>NULL</td></tr>",
                            "<tr><td>126</td><td>754</td><td>4</td><td>NULL</td></tr>",
                            "<tr><td>126</td><td>806</td><td>6</td><td>4</td></tr>",
                            "<tr><td>126</td><td>1134</td><td>1</td><td>10</td></tr>",
                            "<tr><td>126</td><td>1364</td><td>6</td><td>11</td></tr>",
                            "<tr><td>126</td><td>1428</td><td>7</td><td>17</td></tr>",
                            "<tr><td>126</td><td>1500</td><td>4</td><td>24</td></tr>",
                            "<tr><td>127</td><td>643</td><td>2</td><td>NULL</td></tr>",
                            "<tr><td>127</td><td>853</td><td>5</td><td>2</td></tr>",
                            "<tr><td>127</td><td>879</td><td>2</td><td>7</td></tr>",
                            "<tr><td>127</td><td>1034</td><td>6</td><td>9</td></tr>",
                            "<tr><td>127</td><td>1226</td><td>5</td><td>15</td></tr>",
                            "<tr><td>127</td><td>1286</td><td>1</td><td>20</td></tr>",
                            "<tr><td>127</td><td>1579</td><td>5</td><td>21</td></tr>",
                            "<tr><td>128</td><td>717</td><td>2</td><td>NULL</td></tr>",
                            "<tr><td>128</td><td>815</td><td>1</td><td>2</td></tr>",
                            "<tr><td>128</td><td>1290</td><td>1</td><td>3</td></tr>",
                            "<tr><td>128</td><td>1574</td><td>1</td><td>4</td></tr>",
                            "<tr><td>128</td><td>1583</td><td>4</td><td>5</td></tr>",
                            "<tr><td>129</td><td>723</td><td>7</td><td>NULL</td></tr>",
                            "<tr><td>129</td><td>1360</td><td>6</td><td>7</td></tr>",
                            "<tr><td>129</td><td>1445</td><td>7</td><td>13</td></tr>",
                            "<tr><td>129</td><td>1509</td><td>6</td><td>20</td></tr>",
                            "<tr><td>130</td><td>580</td><td>3</td><td>NULL</td></tr>",
                            "<tr><td>130</td><td>613</td><td>3</td><td>3</td></tr>",
                            "<tr><td>130</td><td>910</td><td>2</td><td>6</td></tr>",
                            "<tr><td>130</td><td>779</td><td>6</td><td>8</td></tr>",
                            "<tr><td>130</td><td>1040</td><td>1</td><td>14</td></tr>",
                            "<tr><td>130</td><td>1475</td><td>7</td><td>15</td></tr>",
                            "<tr><td>131</td><td>559</td><td>2</td><td>NULL</td></tr>",
                            "<tr><td>131</td><td>655</td><td>1</td><td>2</td></tr>",
                            "<tr><td>131</td><td>881</td><td>6</td><td>3</td></tr>",
                            "<tr><td>131</td><td>760</td><td>4</td><td>9</td></tr>",
                            "<tr><td>131</td><td>1474</td><td>5</td><td>13</td></tr>",
                            "<tr><td>132</td><td>619</td><td>7</td><td>NULL</td></tr>",
                            "<tr><td>132</td><td>999</td><td>6</td><td>7</td></tr>",
                            "<tr><td>132</td><td>1090</td><td>7</td><td>13</td></tr>",
                            "<tr><td>132</td><td>1111</td><td>3</td><td>20</td></tr>",
                            "<tr><td>132</td><td>1301</td><td>2</td><td>23</td></tr>",
                            "<tr><td>132</td><td>1519</td><td>2</td><td>25</td></tr>",
                            "<tr><td>133</td><td>909</td><td>4</td><td>NULL</td></tr>",
                            "<tr><td>133</td><td>988</td><td>3</td><td>4</td></tr>",
                            "<tr><td>133</td><td>1149</td><td>7</td><td>7</td></tr>",
                            "<tr><td>133</td><td>1306</td><td>3</td><td>14</td></tr>",
                            "<tr><td>133</td><td>1363</td><td>5</td><td>17</td></tr>",
                            "<tr><td>133</td><td>1409</td><td>1</td><td>22</td></tr>",
                            "<tr><td>134</td><td>1004</td><td>5</td><td>NULL</td></tr>",
                            "<tr><td>134</td><td>1024</td><td>1</td><td>5</td></tr>",
                            "<tr><td>134</td><td>1045</td><td>2</td><td>6</td></tr>",
                            "<tr><td>134</td><td>1178</td><td>7</td><td>8</td></tr>",
                            "<tr><td>134</td><td>1219</td><td>6</td><td>15</td></tr>",
                            "<tr><td>134</td><td>1535</td><td>7</td><td>21</td></tr>",
                            "<tr><td>135</td><td>724</td><td>6</td><td>NULL</td></tr>",
                            "<tr><td>135</td><td>849</td><td>7</td><td>6</td></tr>",
                            "<tr><td>135</td><td>1289</td><td>3</td><td>13</td></tr>",
                            "<tr><td>136</td><td>584</td><td>2</td><td>NULL</td></tr>",
                            "<tr><td>136</td><td>661</td><td>5</td><td>2</td></tr>",
                            "<tr><td>136</td><td>1046</td><td>4</td><td>7</td></tr>",
                            "<tr><td>137</td><td>582</td><td>3</td><td>NULL</td></tr>",
                            "<tr><td>137</td><td>649</td><td>5</td><td>3</td></tr>",
                            "<tr><td>137</td><td>657</td><td>6</td><td>8</td></tr>",
                            "<tr><td>137</td><td>1014</td><td>1</td><td>14</td></tr>",
                            "<tr><td>137</td><td>1201</td><td>6</td><td>15</td></tr>",
                            "<tr><td>137</td><td>1280</td><td>3</td><td>21</td></tr>",
                            "<tr><td>138</td><td>768</td><td>6</td><td>NULL</td></tr>",
                            "<tr><td>138</td><td>796</td><td>4</td><td>6</td></tr>",
                            "<tr><td>138</td><td>1256</td><td>4</td><td>10</td></tr>",
                            "<tr><td>138</td><td>1283</td><td>2</td><td>14</td></tr>",
                            "<tr><td>138</td><td>1294</td><td>5</td><td>16</td></tr>",
                            "<tr><td>138</td><td>1358</td><td>7</td><td>21</td></tr>",
                            "<tr><td>138</td><td>1370</td><td>5</td><td>28</td></tr>",
                            "<tr><td>139</td><td>579</td><td>2</td><td>NULL</td></tr>",
                            "<tr><td>139</td><td>745</td><td>1</td><td>2</td></tr>",
                            "<tr><td>139</td><td>751</td><td>4</td><td>3</td></tr>",
                            "<tr><td>139</td><td>1042</td><td>2</td><td>7</td></tr>",
                            "<tr><td>139</td><td>1064</td><td>6</td><td>9</td></tr>",
                            "<tr><td>139</td><td>1433</td><td>6</td><td>15</td></tr>",
                            "<tr><td>139</td><td>1450</td><td>7</td><td>21</td></tr>",
                            "<tr><td>140</td><td>915</td><td>2</td><td>NULL</td></tr>",
                            "<tr><td>140</td><td>733</td><td>1</td><td>2</td></tr>",
                            "<tr><td>140</td><td>1098</td><td>2</td><td>3</td></tr>",
                            "<tr><td>140</td><td>1156</td><td>3</td><td>5</td></tr>",
                            "<tr><td>140</td><td>1259</td><td>7</td><td>8</td></tr>",
                            "<tr><td>140</td><td>1357</td><td>4</td><td>15</td></tr>",
                            "<tr><td>140</td><td>1361</td><td>3</td><td>19</td></tr>",
                            "<tr><td>140</td><td>1371</td><td>1</td><td>22</td></tr>",
                            "<tr><td>141</td><td>565</td><td>6</td><td>NULL</td></tr>",
                            "<tr><td>141</td><td>908</td><td>2</td><td>6</td></tr>",
                            "<tr><td>141</td><td>761</td><td>3</td><td>8</td></tr>",
                            "<tr><td>141</td><td>784</td><td>7</td><td>11</td></tr>",
                            "<tr><td>141</td><td>1254</td><td>4</td><td>18</td></tr>",
                            "<tr><td>141</td><td>1401</td><td>6</td><td>22</td></tr>",
                            "<tr><td>142</td><td>1369</td><td>6</td><td>NULL</td></tr>",
                            "<tr><td>142</td><td>1545</td><td>3</td><td>6</td></tr>",
                            "<tr><td>143</td><td>980</td><td>3</td><td>NULL</td></tr>",
                            "<tr><td>143</td><td>1155</td><td>7</td><td>3</td></tr>",
                            "<tr><td>143</td><td>1193</td><td>6</td><td>10</td></tr>",
                            "<tr><td>143</td><td>1222</td><td>2</td><td>16</td></tr>",
                            "<tr><td>143</td><td>1313</td><td>4</td><td>18</td></tr>",
                            "<tr><td>143</td><td>1394</td><td>3</td><td>22</td></tr>",
                            "<tr><td>143</td><td>1448</td><td>6</td><td>25</td></tr>",
                            "<tr><td>144</td><td>581</td><td>4</td><td>NULL</td></tr>",
                            "<tr><td>144</td><td>1087</td><td>2</td><td>4</td></tr>",
                            "<tr><td>144</td><td>1199</td><td>7</td><td>6</td></tr>",
                            "<tr><td>144</td><td>1297</td><td>1</td><td>13</td></tr>",
                            "<tr><td>144</td><td>1572</td><td>2</td><td>14</td></tr>",
                            "<tr><td>145</td><td>703</td><td>4</td><td>NULL</td></tr>",
                            "<tr><td>145</td><td>1077</td><td>1</td><td>4</td></tr>",
                            "<tr><td>145</td><td>1120</td><td>1</td><td>5</td></tr>",
                            "<tr><td>145</td><td>1145</td><td>4</td><td>6</td></tr>",
                            "<tr><td>145</td><td>1338</td><td>2</td><td>10</td></tr>",
                            "<tr><td>145</td><td>1471</td><td>1</td><td>12</td></tr>",
                            "<tr><td>146</td><td>890</td><td>3</td><td>NULL</td></tr>",
                            "<tr><td>146</td><td>664</td><td>3</td><td>3</td></tr>",
                            "<tr><td>146</td><td>789</td><td>7</td><td>6</td></tr>",
                            "<tr><td>146</td><td>804</td><td>7</td><td>13</td></tr>",
                            "<tr><td>146</td><td>1032</td><td>5</td><td>20</td></tr>",
                            "<tr><td>146</td><td>1479</td><td>6</td><td>25</td></tr>",
                            "<tr><td>147</td><td>771</td><td>4</td><td>NULL</td></tr>",
                            "<tr><td>148</td><td>678</td><td>4</td><td>NULL</td></tr>",
                            "<tr><td>148</td><td>765</td><td>3</td><td>4</td></tr>",
                            "<tr><td>148</td><td>783</td><td>7</td><td>7</td></tr>",
                            "<tr><td>148</td><td>808</td><td>2</td><td>14</td></tr>",
                            "<tr><td>148</td><td>812</td><td>6</td><td>16</td></tr>",
                            "<tr><td>148</td><td>1578</td><td>7</td><td>22</td></tr>",
                            "<tr><td>149</td><td>591</td><td>1</td><td>NULL</td></tr>",
                            "<tr><td>149</td><td>652</td><td>1</td><td>1</td></tr>",
                            "<tr><td>149</td><td>833</td><td>2</td><td>2</td></tr>",
                            "<tr><td>149</td><td>834</td><td>5</td><td>4</td></tr>",
                            "<tr><td>149</td><td>843</td><td>4</td><td>9</td></tr>",
                            "<tr><td>149</td><td>1146</td><td>6</td><td>13</td></tr>",
                            "<tr><td>149</td><td>1514</td><td>5</td><td>19</td></tr>",
                            "<tr><td>150</td><td>641</td><td>3</td><td>NULL</td></tr>",
                            "<tr><td>150</td><td>1100</td><td>5</td><td>3</td></tr>",
                            "<tr><td>150</td><td>1105</td><td>1</td><td>8</td></tr>",
                            "<tr><td>150</td><td>1177</td><td>1</td><td>9</td></tr>",
                            "<tr><td>150</td><td>1203</td><td>4</td><td>10</td></tr>",
                            "<tr><td>150</td><td>1432</td><td>3</td><td>14</td></tr>",
                            "<tr><td>151</td><td>893</td><td>3</td><td>NULL</td></tr>",
                            "<tr><td>151</td><td>1058</td><td>3</td><td>3</td></tr>",
                            "<tr><td>151</td><td>1115</td><td>3</td><td>6</td></tr>",
                            "<tr><td>152</td><td>730</td><td>2</td><td>NULL</td></tr>",
                            "<tr><td>152</td><td>1160</td><td>7</td><td>2</td></tr>",
                            "<tr><td>152</td><td>1197</td><td>6</td><td>9</td></tr>",
                            "<tr><td>152</td><td>1558</td><td>2</td><td>15</td></tr>",
                            "<tr><td>153</td><td>594</td><td>3</td><td>NULL</td></tr>",
                            "<tr><td>153</td><td>969</td><td>6</td><td>3</td></tr>",
                            "<tr><td>153</td><td>1460</td><td>3</td><td>9</td></tr>",
                            "<tr><td>153</td><td>1470</td><td>5</td><td>12</td></tr>",
                            "<tr><td>153</td><td>1507</td><td>3</td><td>17</td></tr>",
                            "<tr><td>154</td><td>968</td><td>1</td><td>NULL</td></tr>",
                            "<tr><td>154</td><td>1061</td><td>7</td><td>1</td></tr>",
                            "<tr><td>154</td><td>1168</td><td>6</td><td>8</td></tr>",
                            "<tr><td>154</td><td>1262</td><td>1</td><td>14</td></tr>",
                            "<tr><td>154</td><td>1539</td><td>2</td><td>15</td></tr>",
                            "<tr><td>155</td><td>575</td><td>1</td><td>NULL</td></tr>",
                            "<tr><td>155</td><td>577</td><td>3</td><td>1</td></tr>",
                            "<tr><td>155</td><td>1112</td><td>4</td><td>4</td></tr>",
                            "<tr><td>155</td><td>1310</td><td>1</td><td>8</td></tr>",
                            "<tr><td>155</td><td>1541</td><td>1</td><td>9</td></tr>",
                            "<tr><td>156</td><td>588</td><td>7</td><td>NULL</td></tr>",
                            "<tr><td>156</td><td>907</td><td>3</td><td>7</td></tr>",
                            "<tr><td>156</td><td>956</td><td>6</td><td>10</td></tr>",
                            "<tr><td>156</td><td>692</td><td>6</td><td>16</td></tr>",
                            "<tr><td>156</td><td>1462</td><td>7</td><td>22</td></tr>",
                            "<tr><td>156</td><td>1490</td><td>1</td><td>29</td></tr>",
                            "<tr><td>156</td><td>1561</td><td>4</td><td>30</td></tr>",
                            "<tr><td>157</td><td>648</td><td>4</td><td>NULL</td></tr>",
                            "<tr><td>157</td><td>1025</td><td>3</td><td>4</td></tr>",
                            "<tr><td>157</td><td>1047</td><td>4</td><td>7</td></tr>",
                            "<tr><td>157</td><td>1240</td><td>7</td><td>11</td></tr>",
                            "<tr><td>157</td><td>1551</td><td>3</td><td>18</td></tr>",
                            "<tr><td>158</td><td>825</td><td>4</td><td>NULL</td></tr>",
                            "<tr><td>158</td><td>840</td><td>4</td><td>4</td></tr>",
                            "<tr><td>158</td><td>1117</td><td>3</td><td>8</td></tr>",
                            "<tr><td>160</td><td>922</td><td>2</td><td>NULL</td></tr>",
                            "<tr><td>160</td><td>927</td><td>4</td><td>2</td></tr>",
                            "<tr><td>160</td><td>933</td><td>4</td><td>6</td></tr>",
                            "<tr><td>160</td><td>720</td><td>2</td><td>10</td></tr>",
                            "<tr><td>160</td><td>1565</td><td>3</td><td>12</td></tr>",
                            "<tr><td>161</td><td>639</td><td>4</td><td>NULL</td></tr>",
                            "<tr><td>161</td><td>653</td><td>7</td><td>4</td></tr>",
                            "<tr><td>161</td><td>911</td><td>4</td><td>11</td></tr>",
                            "<tr><td>161</td><td>1068</td><td>6</td><td>15</td></tr>",
                            "<tr><td>161</td><td>1190</td><td>7</td><td>21</td></tr>",
                            "<tr><td>161</td><td>1571</td><td>4</td><td>28</td></tr>",
                            "<tr><td>162</td><td>599</td><td>4</td><td>NULL</td></tr>",
                            "<tr><td>162</td><td>1205</td><td>6</td><td>4</td></tr>",
                            "<tr><td>162</td><td>1400</td><td>1</td><td>10</td></tr>",
                            "<tr><td>163</td><td>630</td><td>2</td><td>NULL</td></tr>",
                            "<tr><td>163</td><td>941</td><td>1</td><td>2</td></tr>",
                            "<tr><td>163</td><td>782</td><td>3</td><td>3</td></tr>",
                            "<tr><td>163</td><td>1075</td><td>4</td><td>6</td></tr>",
                            "<tr><td>163</td><td>1107</td><td>3</td><td>10</td></tr>",
                            "<tr><td>163</td><td>1265</td><td>5</td><td>13</td></tr>",
                            "<tr><td>163</td><td>1487</td><td>3</td><td>18</td></tr>",
                            "<tr><td>164</td><td>570</td><td>7</td><td>NULL</td></tr>",
                            "<tr><td>164</td><td>1010</td><td>2</td><td>7</td></tr>",
                            "<tr><td>164</td><td>742</td><td>6</td><td>9</td></tr>",
                            "<tr><td>164</td><td>1284</td><td>4</td><td>15</td></tr>",
                            "<tr><td>164</td><td>1292</td><td>2</td><td>19</td></tr>",
                            "<tr><td>165</td><td>640</td><td>3</td><td>NULL</td></tr>",
                            "<tr><td>165</td><td>857</td><td>5</td><td>3</td></tr>",
                            "<tr><td>165</td><td>900</td><td>6</td><td>8</td></tr>",
                            "<tr><td>165</td><td>897</td><td>6</td><td>14</td></tr>",
                            "<tr><td>165</td><td>892</td><td>3</td><td>20</td></tr>",
                            "<tr><td>165</td><td>1141</td><td>1</td><td>23</td></tr>",
                            "<tr><td>165</td><td>1375</td><td>4</td><td>24</td></tr>",
                            "<tr><td>166</td><td>644</td><td>7</td><td>NULL</td></tr>",
                            "<tr><td>166</td><td>781</td><td>7</td><td>7</td></tr>",
                            "<tr><td>166</td><td>1526</td><td>2</td><td>14</td></tr>",
                            "<tr><td>167</td><td>854</td><td>7</td><td>NULL</td></tr>",
                            "<tr><td>167</td><td>1414</td><td>3</td><td>7</td></tr>",
                            "<tr><td>168</td><td>930</td><td>3</td><td>NULL</td></tr>",
                            "<tr><td>168</td><td>792</td><td>3</td><td>3</td></tr>",
                            "<tr><td>168</td><td>794</td><td>4</td><td>6</td></tr>",
                            "<tr><td>168</td><td>1249</td><td>4</td><td>10</td></tr>",
                            "<tr><td>168</td><td>1266</td><td>4</td><td>14</td></tr>",
                            "<tr><td>169</td><td>573</td><td>5</td><td>NULL</td></tr>",
                            "<tr><td>169</td><td>659</td><td>6</td><td>5</td></tr>",
                            "<tr><td>169</td><td>974</td><td>1</td><td>11</td></tr>",
                            "<tr><td>169</td><td>746</td><td>7</td><td>12</td></tr>",
                            "<tr><td>169</td><td>1356</td><td>4</td><td>19</td></tr>",
                            "<tr><td>169</td><td>1427</td><td>1</td><td>23</td></tr>",
                            "<tr><td>170</td><td>567</td><td>7</td><td>NULL</td></tr>",
                            "<tr><td>170</td><td>944</td><td>4</td><td>7</td></tr>",
                            "<tr><td>170</td><td>1194</td><td>4</td><td>11</td></tr>",
                            "<tr><td>170</td><td>1267</td><td>7</td><td>15</td></tr>",
                            "<tr><td>170</td><td>1342</td><td>6</td><td>22</td></tr>",
                            "<tr><td>171</td><td>574</td><td>2</td><td>NULL</td></tr>",
                            "<tr><td>171</td><td>981</td><td>4</td><td>2</td></tr>",
                            "<tr><td>171</td><td>1181</td><td>6</td><td>6</td></tr>",
                            "<tr><td>171</td><td>1329</td><td>5</td><td>12</td></tr>",
                            "<tr><td>171</td><td>1567</td><td>6</td><td>17</td></tr>",
                            "<tr><td>172</td><td>984</td><td>4</td><td>NULL</td></tr>",
                            "<tr><td>172</td><td>709</td><td>5</td><td>4</td></tr>",
                            "<tr><td>172</td><td>749</td><td>6</td><td>9</td></tr>",
                            "<tr><td>172</td><td>839</td><td>5</td><td>15</td></tr>",
                            "<tr><td>172</td><td>1142</td><td>4</td><td>20</td></tr>",
                            "<tr><td>172</td><td>1171</td><td>5</td><td>24</td></tr>",
                            "<tr><td>172</td><td>1336</td><td>5</td><td>29</td></tr>",
                            "<tr><td>172</td><td>1421</td><td>5</td><td>34</td></tr>",
                            "<tr><td>172</td><td>1491</td><td>2</td><td>39</td></tr>",
                            "<tr><td>173</td><td>913</td><td>1</td><td>NULL</td></tr>",
                            "<tr><td>173</td><td>669</td><td>7</td><td>1</td></tr>",
                            "<tr><td>173</td><td>1350</td><td>3</td><td>8</td></tr>",
                            "<tr><td>173</td><td>1429</td><td>4</td><td>11</td></tr>",
                            "<tr><td>174</td><td>917</td><td>2</td><td>NULL</td></tr>",
                            "<tr><td>174</td><td>1015</td><td>5</td><td>2</td></tr>",
                            "<tr><td>174</td><td>682</td><td>3</td><td>7</td></tr>",
                            "<tr><td>174</td><td>1276</td><td>1</td><td>10</td></tr>",
                            "<tr><td>175</td><td>867</td><td>6</td><td>NULL</td></tr>",
                            "<tr><td>175</td><td>799</td><td>4</td><td>6</td></tr>",
                            "<tr><td>175</td><td>1094</td><td>5</td><td>10</td></tr>",
                            "<tr><td>175</td><td>1133</td><td>2</td><td>15</td></tr>",
                            "<tr><td>175</td><td>1407</td><td>7</td><td>17</td></tr>",
                            "<tr><td>176</td><td>592</td><td>5</td><td>NULL</td></tr>",
                            "<tr><td>176</td><td>1143</td><td>6</td><td>5</td></tr>",
                            "<tr><td>176</td><td>1278</td><td>6</td><td>11</td></tr>",
                            "<tr><td>176</td><td>1383</td><td>4</td><td>17</td></tr>",
                            "<tr><td>176</td><td>1511</td><td>2</td><td>21</td></tr>",
                            "<tr><td>176</td><td>1570</td><td>3</td><td>23</td></tr>",
                            "<tr><td>177</td><td>785</td><td>3</td><td>NULL</td></tr>",
                            "<tr><td>177</td><td>831</td><td>7</td><td>3</td></tr>",
                            "<tr><td>177</td><td>1176</td><td>3</td><td>10</td></tr>",
                            "<tr><td>177</td><td>1503</td><td>3</td><td>13</td></tr>",
                            "<tr><td>178</td><td>991</td><td>7</td><td>NULL</td></tr>",
                            "<tr><td>178</td><td>816</td><td>4</td><td>7</td></tr>",
                            "<tr><td>178</td><td>1211</td><td>3</td><td>11</td></tr>",
                            "<tr><td>178</td><td>1242</td><td>1</td><td>14</td></tr>",
                            "<tr><td>179</td><td>662</td><td>2</td><td>NULL</td></tr>",
                            "<tr><td>179</td><td>1021</td><td>1</td><td>2</td></tr>",
                            "<tr><td>179</td><td>1497</td><td>1</td><td>3</td></tr>",
                            "<tr><td>180</td><td>905</td><td>5</td><td>NULL</td></tr>",
                            "<tr><td>180</td><td>1559</td><td>3</td><td>5</td></tr>",
                            "<tr><td>180</td><td>1563</td><td>6</td><td>8</td></tr>",
                            "<tr><td>181</td><td>937</td><td>3</td><td>NULL</td></tr>",
                            "<tr><td>181</td><td>958</td><td>5</td><td>3</td></tr>",
                            "<tr><td>181</td><td>1022</td><td>1</td><td>8</td></tr>",
                            "<tr><td>181</td><td>677</td><td>4</td><td>9</td></tr>",
                            "<tr><td>181</td><td>731</td><td>6</td><td>13</td></tr>",
                            "<tr><td>181</td><td>1346</td><td>6</td><td>19</td></tr>",
                            "<tr><td>182</td><td>571</td><td>2</td><td>NULL</td></tr>",
                            "<tr><td>182</td><td>928</td><td>2</td><td>2</td></tr>",
                            "<tr><td>182</td><td>1008</td><td>6</td><td>4</td></tr>",
                            "<tr><td>182</td><td>740</td><td>3</td><td>10</td></tr>",
                            "<tr><td>182</td><td>1188</td><td>1</td><td>13</td></tr>",
                            "<tr><td>182</td><td>1230</td><td>7</td><td>14</td></tr>",
                            "<tr><td>182</td><td>1231</td><td>4</td><td>21</td></tr>",
                            "<tr><td>182</td><td>1308</td><td>1</td><td>25</td></tr>",
                            "<tr><td>182</td><td>1317</td><td>3</td><td>26</td></tr>",
                            "<tr><td>182</td><td>1326</td><td>4</td><td>29</td></tr>",
                            "<tr><td>182</td><td>1410</td><td>4</td><td>33</td></tr>",
                            "<tr><td>182</td><td>1422</td><td>3</td><td>37</td></tr>",
                            "<tr><td>183</td><td>939</td><td>4</td><td>NULL</td></tr>",
                            "<tr><td>183</td><td>1067</td><td>7</td><td>4</td></tr>",
                            "<tr><td>183</td><td>1147</td><td>4</td><td>11</td></tr>",
                            "<tr><td>183</td><td>1437</td><td>4</td><td>15</td></tr>",
                            "<tr><td>184</td><td>608</td><td>2</td><td>NULL</td></tr>",
                            "<tr><td>184</td><td>880</td><td>4</td><td>2</td></tr>",
                            "<tr><td>184</td><td>684</td><td>3</td><td>6</td></tr>",
                            "<tr><td>184</td><td>1251</td><td>4</td><td>9</td></tr>",
                            "<tr><td>185</td><td>578</td><td>6</td><td>NULL</td></tr>",
                            "<tr><td>185</td><td>863</td><td>4</td><td>6</td></tr>",
                            "<tr><td>185</td><td>898</td><td>4</td><td>10</td></tr>",
                            "<tr><td>185</td><td>925</td><td>6</td><td>14</td></tr>",
                            "<tr><td>185</td><td>672</td><td>3</td><td>20</td></tr>",
                            "<tr><td>185</td><td>679</td><td>5</td><td>23</td></tr>",
                            "<tr><td>185</td><td>693</td><td>2</td><td>28</td></tr>",
                            "<tr><td>185</td><td>711</td><td>3</td><td>30</td></tr>",
                            "<tr><td>185</td><td>1125</td><td>3</td><td>33</td></tr>",
                            "<tr><td>185</td><td>1183</td><td>5</td><td>36</td></tr>",
                            "<tr><td>185</td><td>1441</td><td>7</td><td>41</td></tr>",
                            "<tr><td>185</td><td>1463</td><td>7</td><td>48</td></tr>",
                            "<tr><td>186</td><td>615</td><td>3</td><td>NULL</td></tr>",
                            "<tr><td>186</td><td>1153</td><td>3</td><td>3</td></tr>",
                            "<tr><td>186</td><td>1248</td><td>2</td><td>6</td></tr>",
                            "<tr><td>186</td><td>1467</td><td>3</td><td>8</td></tr>",
                            "<tr><td>187</td><td>633</td><td>6</td><td>NULL</td></tr>",
                            "<tr><td>187</td><td>868</td><td>4</td><td>6</td></tr>",
                            "<tr><td>187</td><td>957</td><td>4</td><td>10</td></tr>",
                            "<tr><td>187</td><td>695</td><td>6</td><td>14</td></tr>",
                            "<tr><td>187</td><td>743</td><td>2</td><td>20</td></tr>",
                            "<tr><td>187</td><td>766</td><td>1</td><td>22</td></tr>",
                            "<tr><td>187</td><td>1404</td><td>2</td><td>23</td></tr>",
                            "<tr><td>188</td><td>912</td><td>1</td><td>NULL</td></tr>",
                            "<tr><td>188</td><td>690</td><td>4</td><td>1</td></tr>",
                            "<tr><td>188</td><td>710</td><td>7</td><td>5</td></tr>",
                            "<tr><td>188</td><td>747</td><td>3</td><td>12</td></tr>",
                            "<tr><td>188</td><td>1030</td><td>4</td><td>15</td></tr>",
                            "<tr><td>188</td><td>1390</td><td>5</td><td>19</td></tr>",
                            "<tr><td>189</td><td>699</td><td>2</td><td>NULL</td></tr>",
                            "<tr><td>189</td><td>753</td><td>1</td><td>2</td></tr>",
                            "<tr><td>189</td><td>1204</td><td>2</td><td>3</td></tr>",
                            "<tr><td>189</td><td>1449</td><td>2</td><td>5</td></tr>",
                            "<tr><td>189</td><td>1576</td><td>3</td><td>7</td></tr>",
                            "<tr><td>190</td><td>600</td><td>7</td><td>NULL</td></tr>",
                            "<tr><td>190</td><td>989</td><td>1</td><td>7</td></tr>",
                            "<tr><td>190</td><td>1017</td><td>1</td><td>8</td></tr>",
                            "<tr><td>190</td><td>774</td><td>5</td><td>9</td></tr>",
                            "<tr><td>190</td><td>1517</td><td>5</td><td>14</td></tr>",
                            "<tr><td>191</td><td>1039</td><td>6</td><td>NULL</td></tr>",
                            "<tr><td>191</td><td>1302</td><td>1</td><td>6</td></tr>",
                            "<tr><td>191</td><td>1323</td><td>7</td><td>7</td></tr>",
                            "<tr><td>191</td><td>1502</td><td>2</td><td>14</td></tr>",
                            "<tr><td>191</td><td>1508</td><td>7</td><td>16</td></tr>",
                            "<tr><td>192</td><td>903</td><td>7</td><td>NULL</td></tr>",
                            "<tr><td>192</td><td>680</td><td>4</td><td>7</td></tr>",
                            "<tr><td>193</td><td>634</td><td>6</td><td>NULL</td></tr>",
                            "<tr><td>193</td><td>926</td><td>1</td><td>6</td></tr>",
                            "<tr><td>193</td><td>977</td><td>2</td><td>7</td></tr>",
                            "<tr><td>193</td><td>675</td><td>2</td><td>9</td></tr>",
                            "<tr><td>193</td><td>835</td><td>2</td><td>11</td></tr>",
                            "<tr><td>193</td><td>1043</td><td>6</td><td>13</td></tr>",
                            "<tr><td>193</td><td>1238</td><td>6</td><td>19</td></tr>",
                            "<tr><td>194</td><td>1095</td><td>5</td><td>NULL</td></tr>",
                            "<tr><td>195</td><td>721</td><td>4</td><td>NULL</td></tr>",
                            "<tr><td>195</td><td>842</td><td>4</td><td>4</td></tr>",
                            "<tr><td>195</td><td>1074</td><td>7</td><td>8</td></tr>",
                            "<tr><td>195</td><td>1184</td><td>5</td><td>15</td></tr>",
                            "<tr><td>195</td><td>1473</td><td>7</td><td>20</td></tr>",
                            "<tr><td>195</td><td>1484</td><td>1</td><td>27</td></tr>",
                            "<tr><td>196</td><td>952</td><td>3</td><td>NULL</td></tr>",
                            "<tr><td>196</td><td>673</td><td>5</td><td>3</td></tr>",
                            "<tr><td>196</td><td>1314</td><td>5</td><td>8</td></tr>",
                            "<tr><td>196</td><td>1340</td><td>5</td><td>13</td></tr>",
                            "<tr><td>197</td><td>993</td><td>7</td><td>NULL</td></tr>",
                            "<tr><td>197</td><td>764</td><td>7</td><td>7</td></tr>",
                            "<tr><td>197</td><td>1091</td><td>7</td><td>14</td></tr>",
                            "<tr><td>197</td><td>1172</td><td>7</td><td>21</td></tr>",
                            "<tr><td>197</td><td>1304</td><td>7</td><td>28</td></tr>",
                            "<tr><td>197</td><td>1387</td><td>3</td><td>35</td></tr>",
                            "<tr><td>198</td><td>978</td><td>1</td><td>NULL</td></tr>",
                            "<tr><td>198</td><td>1011</td><td>7</td><td>1</td></tr>",
                            "<tr><td>198</td><td>1065</td><td>3</td><td>8</td></tr>",
                            "<tr><td>198</td><td>1116</td><td>1</td><td>11</td></tr>",
                            "<tr><td>198</td><td>1138</td><td>5</td><td>12</td></tr>",
                            "<tr><td>198</td><td>1161</td><td>5</td><td>17</td></tr>",
                            "<tr><td>198</td><td>1216</td><td>7</td><td>22</td></tr>",
                            "<tr><td>198</td><td>1420</td><td>5</td><td>29</td></tr>",
                            "</table>"
                        ]
                    }
                }
            ],
            "execution_count": 32
        },
        {
            "cell_type": "markdown",
            "source": [
                "Kérdezzük le az átlagosnál kevesebb főre történt foglalások adatait!\n",
                "\n",
                "a. Egy új oszlopban jelenjen meg az ügyfél neve is!\n",
                "\n",
                "b. Egy másik új oszlop mutassa meg, hogy az ügyfél előző három foglalása átlagosan hány főre történt! Az oszlop neve legyen 'Előző három foglalás átlaga'\n",
                "\n",
                "c. A listában azon vendégek is jelenjenek meg, akik még nem foglaltak!"
            ],
            "metadata": {
                "azdata_cell_guid": "c08358d2-6b1c-475b-819a-88b566987a3e"
            },
            "attachments": {}
        },
        {
            "cell_type": "code",
            "source": [
                "SELECT f.*, FELNOTT_SZAM+GYERMEK_SZAM AS 'Össz fő', NEV, AVG(FELNOTT_SZAM+GYERMEK_SZAM) OVER (PARTITION BY NEV ORDER BY METTOL ROWS BETWEEN 3 PRECEDING AND 1 PRECEDING) AS 'Előző három foglalás átlaga'\r\n",
                "FROM Foglalas f RIGHT JOIN Vendeg v ON f.UGYFEL_FK = v.USERNEV \r\n",
                "WHERE FELNOTT_SZAM+GYERMEK_SZAM > (\r\n",
                "    SELECT AVG(FELNOTT_SZAM+GYERMEK_SZAM)\r\n",
                "    FROM Foglalas\r\n",
                ")"
            ],
            "metadata": {
                "azdata_cell_guid": "9fc757b5-0057-45ed-a961-2ecc74fa3886",
                "language": "sql"
            },
            "outputs": [
                {
                    "output_type": "display_data",
                    "data": {
                        "text/html": "(466 rows affected)"
                    },
                    "metadata": {}
                },
                {
                    "output_type": "display_data",
                    "data": {
                        "text/html": "Total execution time: 00:00:00.052"
                    },
                    "metadata": {}
                },
                {
                    "output_type": "execute_result",
                    "metadata": {},
                    "execution_count": 50,
                    "data": {
                        "application/vnd.dataresource+json": {
                            "schema": {
                                "fields": [
                                    {
                                        "name": "FOGLALAS_PK"
                                    },
                                    {
                                        "name": "UGYFEL_FK"
                                    },
                                    {
                                        "name": "SZOBA_FK"
                                    },
                                    {
                                        "name": "METTOL"
                                    },
                                    {
                                        "name": "MEDDIG"
                                    },
                                    {
                                        "name": "FELNOTT_SZAM"
                                    },
                                    {
                                        "name": "GYERMEK_SZAM"
                                    },
                                    {
                                        "name": "Össz fő"
                                    },
                                    {
                                        "name": "NEV"
                                    },
                                    {
                                        "name": "Előző három foglalás átlaga"
                                    }
                                ]
                            },
                            "data": [
                                {
                                    "FOGLALAS_PK": "801",
                                    "UGYFEL_FK": "david",
                                    "SZOBA_FK": "112",
                                    "METTOL": "2016-08-20",
                                    "MEDDIG": "2016-08-25",
                                    "FELNOTT_SZAM": "3",
                                    "GYERMEK_SZAM": "0",
                                    "Össz fő": "3",
                                    "NEV": "Ambrus Dávid",
                                    "Előző három foglalás átlaga": "NULL"
                                },
                                {
                                    "FOGLALAS_PK": "807",
                                    "UGYFEL_FK": "david",
                                    "SZOBA_FK": "27",
                                    "METTOL": "2016-08-22",
                                    "MEDDIG": "2016-08-24",
                                    "FELNOTT_SZAM": "2",
                                    "GYERMEK_SZAM": "1",
                                    "Össz fő": "3",
                                    "NEV": "Ambrus Dávid",
                                    "Előző három foglalás átlaga": "3"
                                },
                                {
                                    "FOGLALAS_PK": "835",
                                    "UGYFEL_FK": "IBOLYAA",
                                    "SZOBA_FK": "193",
                                    "METTOL": "2016-08-29",
                                    "MEDDIG": "2016-08-31",
                                    "FELNOTT_SZAM": "2",
                                    "GYERMEK_SZAM": "3",
                                    "Össz fő": "5",
                                    "NEV": "Andor Ibolya",
                                    "Előző három foglalás átlaga": "NULL"
                                },
                                {
                                    "FOGLALAS_PK": "1452",
                                    "UGYFEL_FK": "IBOLYAA",
                                    "SZOBA_FK": "107",
                                    "METTOL": "2017-01-17",
                                    "MEDDIG": "2017-01-23",
                                    "FELNOTT_SZAM": "1",
                                    "GYERMEK_SZAM": "2",
                                    "Össz fő": "3",
                                    "NEV": "Andor Ibolya",
                                    "Előző három foglalás átlaga": "5"
                                },
                                {
                                    "FOGLALAS_PK": "947",
                                    "UGYFEL_FK": "LASZLOA",
                                    "SZOBA_FK": "8",
                                    "METTOL": "2016-06-10",
                                    "MEDDIG": "2016-06-13",
                                    "FELNOTT_SZAM": "3",
                                    "GYERMEK_SZAM": "0",
                                    "Össz fő": "3",
                                    "NEV": "Antal László",
                                    "Előző három foglalás átlaga": "NULL"
                                },
                                {
                                    "FOGLALAS_PK": "817",
                                    "UGYFEL_FK": "tamas",
                                    "SZOBA_FK": "89",
                                    "METTOL": "2016-08-24",
                                    "MEDDIG": "2016-08-27",
                                    "FELNOTT_SZAM": "3",
                                    "GYERMEK_SZAM": "0",
                                    "Össz fő": "3",
                                    "NEV": "Antal Tamás",
                                    "Előző három foglalás átlaga": "NULL"
                                },
                                {
                                    "FOGLALAS_PK": "1534",
                                    "UGYFEL_FK": "tamas",
                                    "SZOBA_FK": "52",
                                    "METTOL": "2017-02-14",
                                    "MEDDIG": "2017-02-19",
                                    "FELNOTT_SZAM": "2",
                                    "GYERMEK_SZAM": "1",
                                    "Össz fő": "3",
                                    "NEV": "Antal Tamás",
                                    "Előző három foglalás átlaga": "3"
                                },
                                {
                                    "FOGLALAS_PK": "823",
                                    "UGYFEL_FK": "beata4",
                                    "SZOBA_FK": "44",
                                    "METTOL": "2016-08-25",
                                    "MEDDIG": "2016-08-27",
                                    "FELNOTT_SZAM": "3",
                                    "GYERMEK_SZAM": "0",
                                    "Össz fő": "3",
                                    "NEV": "Bagi Beáta",
                                    "Előző három foglalás átlaga": "NULL"
                                },
                                {
                                    "FOGLALAS_PK": "1117",
                                    "UGYFEL_FK": "beata4",
                                    "SZOBA_FK": "158",
                                    "METTOL": "2016-10-03",
                                    "MEDDIG": "2016-10-06",
                                    "FELNOTT_SZAM": "2",
                                    "GYERMEK_SZAM": "1",
                                    "Össz fő": "3",
                                    "NEV": "Bagi Beáta",
                                    "Előző három foglalás átlaga": "3"
                                },
                                {
                                    "FOGLALAS_PK": "658",
                                    "UGYFEL_FK": "alexandra",
                                    "SZOBA_FK": "44",
                                    "METTOL": "2016-05-21",
                                    "MEDDIG": "2016-05-27",
                                    "FELNOTT_SZAM": "3",
                                    "GYERMEK_SZAM": "0",
                                    "Össz fő": "3",
                                    "NEV": "Bagóczki Alexandra",
                                    "Előző három foglalás átlaga": "NULL"
                                },
                                {
                                    "FOGLALAS_PK": "937",
                                    "UGYFEL_FK": "alexandra",
                                    "SZOBA_FK": "181",
                                    "METTOL": "2016-06-08",
                                    "MEDDIG": "2016-06-11",
                                    "FELNOTT_SZAM": "1",
                                    "GYERMEK_SZAM": "2",
                                    "Össz fő": "3",
                                    "NEV": "Bagóczki Alexandra",
                                    "Előző három foglalás átlaga": "3"
                                },
                                {
                                    "FOGLALAS_PK": "646",
                                    "UGYFEL_FK": "BENCEB",
                                    "SZOBA_FK": "78",
                                    "METTOL": "2016-05-14",
                                    "MEDDIG": "2016-05-17",
                                    "FELNOTT_SZAM": "1",
                                    "GYERMEK_SZAM": "2",
                                    "Össz fő": "3",
                                    "NEV": "Bajusz Bence",
                                    "Előző három foglalás átlaga": "NULL"
                                },
                                {
                                    "FOGLALAS_PK": "1179",
                                    "UGYFEL_FK": "BENCEB",
                                    "SZOBA_FK": "74",
                                    "METTOL": "2016-10-22",
                                    "MEDDIG": "2016-10-29",
                                    "FELNOTT_SZAM": "2",
                                    "GYERMEK_SZAM": "1",
                                    "Össz fő": "3",
                                    "NEV": "Bajusz Bence",
                                    "Előző három foglalás átlaga": "3"
                                },
                                {
                                    "FOGLALAS_PK": "1521",
                                    "UGYFEL_FK": "BENCEB",
                                    "SZOBA_FK": "89",
                                    "METTOL": "2017-02-12",
                                    "MEDDIG": "2017-02-19",
                                    "FELNOTT_SZAM": "3",
                                    "GYERMEK_SZAM": "0",
                                    "Össz fő": "3",
                                    "NEV": "Bajusz Bence",
                                    "Előző három foglalás átlaga": "3"
                                },
                                {
                                    "FOGLALAS_PK": "922",
                                    "UGYFEL_FK": "klaudia2",
                                    "SZOBA_FK": "160",
                                    "METTOL": "2016-06-06",
                                    "MEDDIG": "2016-06-08",
                                    "FELNOTT_SZAM": "1",
                                    "GYERMEK_SZAM": "3",
                                    "Össz fő": "4",
                                    "NEV": "Bakó Klaudia",
                                    "Előző három foglalás átlaga": "NULL"
                                },
                                {
                                    "FOGLALAS_PK": "728",
                                    "UGYFEL_FK": "balazs3",
                                    "SZOBA_FK": "31",
                                    "METTOL": "2016-07-27",
                                    "MEDDIG": "2016-07-31",
                                    "FELNOTT_SZAM": "3",
                                    "GYERMEK_SZAM": "1",
                                    "Össz fő": "4",
                                    "NEV": "Bakódy Balázs",
                                    "Előző három foglalás átlaga": "NULL"
                                },
                                {
                                    "FOGLALAS_PK": "816",
                                    "UGYFEL_FK": "balazs3",
                                    "SZOBA_FK": "178",
                                    "METTOL": "2016-08-24",
                                    "MEDDIG": "2016-08-28",
                                    "FELNOTT_SZAM": "1",
                                    "GYERMEK_SZAM": "2",
                                    "Össz fő": "3",
                                    "NEV": "Bakódy Balázs",
                                    "Előző három foglalás átlaga": "4"
                                },
                                {
                                    "FOGLALAS_PK": "1054",
                                    "UGYFEL_FK": "balazs3",
                                    "SZOBA_FK": "79",
                                    "METTOL": "2016-09-15",
                                    "MEDDIG": "2016-09-16",
                                    "FELNOTT_SZAM": "3",
                                    "GYERMEK_SZAM": "0",
                                    "Össz fő": "3",
                                    "NEV": "Bakódy Balázs",
                                    "Előző három foglalás átlaga": "3"
                                },
                                {
                                    "FOGLALAS_PK": "1346",
                                    "UGYFEL_FK": "balazs3",
                                    "SZOBA_FK": "181",
                                    "METTOL": "2016-12-05",
                                    "MEDDIG": "2016-12-11",
                                    "FELNOTT_SZAM": "2",
                                    "GYERMEK_SZAM": "1",
                                    "Össz fő": "3",
                                    "NEV": "Bakódy Balázs",
                                    "Előző három foglalás átlaga": "3"
                                },
                                {
                                    "FOGLALAS_PK": "993",
                                    "UGYFEL_FK": "eszter2",
                                    "SZOBA_FK": "197",
                                    "METTOL": "2016-06-30",
                                    "MEDDIG": "2016-07-07",
                                    "FELNOTT_SZAM": "3",
                                    "GYERMEK_SZAM": "0",
                                    "Össz fő": "3",
                                    "NEV": "Balogh Eszter",
                                    "Előző három foglalás átlaga": "NULL"
                                },
                                {
                                    "FOGLALAS_PK": "1097",
                                    "UGYFEL_FK": "eszter2",
                                    "SZOBA_FK": "95",
                                    "METTOL": "2016-10-01",
                                    "MEDDIG": "2016-10-05",
                                    "FELNOTT_SZAM": "1",
                                    "GYERMEK_SZAM": "2",
                                    "Össz fő": "3",
                                    "NEV": "Balogh Eszter",
                                    "Előző három foglalás átlaga": "3"
                                },
                                {
                                    "FOGLALAS_PK": "1246",
                                    "UGYFEL_FK": "eszter2",
                                    "SZOBA_FK": "69",
                                    "METTOL": "2016-11-05",
                                    "MEDDIG": "2016-11-12",
                                    "FELNOTT_SZAM": "2",
                                    "GYERMEK_SZAM": "2",
                                    "Össz fő": "4",
                                    "NEV": "Balogh Eszter",
                                    "Előző három foglalás átlaga": "3"
                                },
                                {
                                    "FOGLALAS_PK": "776",
                                    "UGYFEL_FK": "pal",
                                    "SZOBA_FK": "112",
                                    "METTOL": "2016-08-14",
                                    "MEDDIG": "2016-08-18",
                                    "FELNOTT_SZAM": "3",
                                    "GYERMEK_SZAM": "0",
                                    "Össz fő": "3",
                                    "NEV": "Barabás Pál",
                                    "Előző három foglalás átlaga": "NULL"
                                },
                                {
                                    "FOGLALAS_PK": "1369",
                                    "UGYFEL_FK": "pal",
                                    "SZOBA_FK": "142",
                                    "METTOL": "2016-12-17",
                                    "MEDDIG": "2016-12-23",
                                    "FELNOTT_SZAM": "3",
                                    "GYERMEK_SZAM": "0",
                                    "Össz fő": "3",
                                    "NEV": "Barabás Pál",
                                    "Előző három foglalás átlaga": "3"
                                },
                                {
                                    "FOGLALAS_PK": "1530",
                                    "UGYFEL_FK": "pal",
                                    "SZOBA_FK": "112",
                                    "METTOL": "2017-02-13",
                                    "MEDDIG": "2017-02-19",
                                    "FELNOTT_SZAM": "2",
                                    "GYERMEK_SZAM": "1",
                                    "Össz fő": "3",
                                    "NEV": "Barabás Pál",
                                    "Előző három foglalás átlaga": "3"
                                },
                                {
                                    "FOGLALAS_PK": "1552",
                                    "UGYFEL_FK": "pal",
                                    "SZOBA_FK": "44",
                                    "METTOL": "2017-02-20",
                                    "MEDDIG": "2017-02-22",
                                    "FELNOTT_SZAM": "3",
                                    "GYERMEK_SZAM": "0",
                                    "Össz fő": "3",
                                    "NEV": "Barabás Pál",
                                    "Előző három foglalás átlaga": "3"
                                },
                                {
                                    "FOGLALAS_PK": "767",
                                    "UGYFEL_FK": "maria1",
                                    "SZOBA_FK": "18",
                                    "METTOL": "2016-08-11",
                                    "MEDDIG": "2016-08-14",
                                    "FELNOTT_SZAM": "2",
                                    "GYERMEK_SZAM": "1",
                                    "Össz fő": "3",
                                    "NEV": "Baráth Mária",
                                    "Előző három foglalás átlaga": "NULL"
                                },
                                {
                                    "FOGLALAS_PK": "1264",
                                    "UGYFEL_FK": "maria1",
                                    "SZOBA_FK": "66",
                                    "METTOL": "2016-11-08",
                                    "MEDDIG": "2016-11-12",
                                    "FELNOTT_SZAM": "2",
                                    "GYERMEK_SZAM": "1",
                                    "Össz fő": "3",
                                    "NEV": "Baráth Mária",
                                    "Előző három foglalás átlaga": "3"
                                },
                                {
                                    "FOGLALAS_PK": "756",
                                    "UGYFEL_FK": "gusztav",
                                    "SZOBA_FK": "61",
                                    "METTOL": "2016-08-05",
                                    "MEDDIG": "2016-08-11",
                                    "FELNOTT_SZAM": "3",
                                    "GYERMEK_SZAM": "0",
                                    "Össz fő": "3",
                                    "NEV": "Bárci Gusztáv",
                                    "Előző három foglalás átlaga": "NULL"
                                },
                                {
                                    "FOGLALAS_PK": "1106",
                                    "UGYFEL_FK": "gusztav",
                                    "SZOBA_FK": "20",
                                    "METTOL": "2016-10-01",
                                    "MEDDIG": "2016-10-03",
                                    "FELNOTT_SZAM": "2",
                                    "GYERMEK_SZAM": "1",
                                    "Össz fő": "3",
                                    "NEV": "Bárci Gusztáv",
                                    "Előző három foglalás átlaga": "3"
                                },
                                {
                                    "FOGLALAS_PK": "1563",
                                    "UGYFEL_FK": "gusztav",
                                    "SZOBA_FK": "180",
                                    "METTOL": "2017-02-23",
                                    "MEDDIG": "2017-03-01",
                                    "FELNOTT_SZAM": "2",
                                    "GYERMEK_SZAM": "2",
                                    "Össz fő": "4",
                                    "NEV": "Bárci Gusztáv",
                                    "Előző három foglalás átlaga": "3"
                                },
                                {
                                    "FOGLALAS_PK": "977",
                                    "UGYFEL_FK": "debora",
                                    "SZOBA_FK": "193",
                                    "METTOL": "2016-06-22",
                                    "MEDDIG": "2016-06-24",
                                    "FELNOTT_SZAM": "3",
                                    "GYERMEK_SZAM": "2",
                                    "Össz fő": "5",
                                    "NEV": "Barna Debóra",
                                    "Előző három foglalás átlaga": "NULL"
                                },
                                {
                                    "FOGLALAS_PK": "1470",
                                    "UGYFEL_FK": "debora",
                                    "SZOBA_FK": "153",
                                    "METTOL": "2017-01-23",
                                    "MEDDIG": "2017-01-28",
                                    "FELNOTT_SZAM": "3",
                                    "GYERMEK_SZAM": "0",
                                    "Össz fő": "3",
                                    "NEV": "Barna Debóra",
                                    "Előző három foglalás átlaga": "5"
                                },
                                {
                                    "FOGLALAS_PK": "1494",
                                    "UGYFEL_FK": "debora",
                                    "SZOBA_FK": "107",
                                    "METTOL": "2017-02-04",
                                    "MEDDIG": "2017-02-06",
                                    "FELNOTT_SZAM": "2",
                                    "GYERMEK_SZAM": "1",
                                    "Össz fő": "3",
                                    "NEV": "Barna Debóra",
                                    "Előző három foglalás átlaga": "4"
                                },
                                {
                                    "FOGLALAS_PK": "639",
                                    "UGYFEL_FK": "zoltan4",
                                    "SZOBA_FK": "161",
                                    "METTOL": "2016-05-12",
                                    "MEDDIG": "2016-05-16",
                                    "FELNOTT_SZAM": "1",
                                    "GYERMEK_SZAM": "2",
                                    "Össz fő": "3",
                                    "NEV": "Barna Zoltán",
                                    "Előző három foglalás átlaga": "NULL"
                                },
                                {
                                    "FOGLALAS_PK": "641",
                                    "UGYFEL_FK": "zoltan4",
                                    "SZOBA_FK": "150",
                                    "METTOL": "2016-05-13",
                                    "MEDDIG": "2016-05-16",
                                    "FELNOTT_SZAM": "2",
                                    "GYERMEK_SZAM": "1",
                                    "Össz fő": "3",
                                    "NEV": "Barna Zoltán",
                                    "Előző három foglalás átlaga": "3"
                                },
                                {
                                    "FOGLALAS_PK": "1091",
                                    "UGYFEL_FK": "zoltan4",
                                    "SZOBA_FK": "197",
                                    "METTOL": "2016-09-30",
                                    "MEDDIG": "2016-10-07",
                                    "FELNOTT_SZAM": "3",
                                    "GYERMEK_SZAM": "0",
                                    "Össz fő": "3",
                                    "NEV": "Barna Zoltán",
                                    "Előző három foglalás átlaga": "3"
                                },
                                {
                                    "FOGLALAS_PK": "1176",
                                    "UGYFEL_FK": "zoltan4",
                                    "SZOBA_FK": "177",
                                    "METTOL": "2016-10-21",
                                    "MEDDIG": "2016-10-24",
                                    "FELNOTT_SZAM": "1",
                                    "GYERMEK_SZAM": "4",
                                    "Össz fő": "5",
                                    "NEV": "Barna Zoltán",
                                    "Előző három foglalás átlaga": "3"
                                },
                                {
                                    "FOGLALAS_PK": "1409",
                                    "UGYFEL_FK": "zoltan4",
                                    "SZOBA_FK": "133",
                                    "METTOL": "2017-01-01",
                                    "MEDDIG": "2017-01-02",
                                    "FELNOTT_SZAM": "3",
                                    "GYERMEK_SZAM": "0",
                                    "Össz fő": "3",
                                    "NEV": "Barna Zoltán",
                                    "Előző három foglalás átlaga": "3"
                                },
                                {
                                    "FOGLALAS_PK": "797",
                                    "UGYFEL_FK": "attila4",
                                    "SZOBA_FK": "74",
                                    "METTOL": "2016-08-18",
                                    "MEDDIG": "2016-08-23",
                                    "FELNOTT_SZAM": "3",
                                    "GYERMEK_SZAM": "1",
                                    "Össz fő": "4",
                                    "NEV": "Baróti Attila",
                                    "Előző három foglalás átlaga": "NULL"
                                },
                                {
                                    "FOGLALAS_PK": "1167",
                                    "UGYFEL_FK": "PETERB",
                                    "SZOBA_FK": "24",
                                    "METTOL": "2016-10-19",
                                    "MEDDIG": "2016-10-20",
                                    "FELNOTT_SZAM": "3",
                                    "GYERMEK_SZAM": "1",
                                    "Össz fő": "4",
                                    "NEV": "Berendi Péter",
                                    "Előző három foglalás átlaga": "NULL"
                                },
                                {
                                    "FOGLALAS_PK": "1540",
                                    "UGYFEL_FK": "david4",
                                    "SZOBA_FK": "114",
                                    "METTOL": "2017-02-16",
                                    "MEDDIG": "2017-02-19",
                                    "FELNOTT_SZAM": "2",
                                    "GYERMEK_SZAM": "1",
                                    "Össz fő": "3",
                                    "NEV": "Berta Dávid",
                                    "Előző három foglalás átlaga": "NULL"
                                },
                                {
                                    "FOGLALAS_PK": "829",
                                    "UGYFEL_FK": "adam4",
                                    "SZOBA_FK": "35",
                                    "METTOL": "2016-08-28",
                                    "MEDDIG": "2016-08-30",
                                    "FELNOTT_SZAM": "3",
                                    "GYERMEK_SZAM": "0",
                                    "Össz fő": "3",
                                    "NEV": "Bieniek Ádám",
                                    "Előző három foglalás átlaga": "NULL"
                                },
                                {
                                    "FOGLALAS_PK": "1205",
                                    "UGYFEL_FK": "adam4",
                                    "SZOBA_FK": "162",
                                    "METTOL": "2016-10-27",
                                    "MEDDIG": "2016-11-02",
                                    "FELNOTT_SZAM": "3",
                                    "GYERMEK_SZAM": "0",
                                    "Össz fő": "3",
                                    "NEV": "Bieniek Ádám",
                                    "Előző három foglalás átlaga": "3"
                                },
                                {
                                    "FOGLALAS_PK": "1347",
                                    "UGYFEL_FK": "adam4",
                                    "SZOBA_FK": "13",
                                    "METTOL": "2016-12-06",
                                    "MEDDIG": "2016-12-09",
                                    "FELNOTT_SZAM": "3",
                                    "GYERMEK_SZAM": "0",
                                    "Össz fő": "3",
                                    "NEV": "Bieniek Ádám",
                                    "Előző három foglalás átlaga": "3"
                                },
                                {
                                    "FOGLALAS_PK": "1561",
                                    "UGYFEL_FK": "adam4",
                                    "SZOBA_FK": "156",
                                    "METTOL": "2017-02-23",
                                    "MEDDIG": "2017-02-27",
                                    "FELNOTT_SZAM": "1",
                                    "GYERMEK_SZAM": "2",
                                    "Össz fő": "3",
                                    "NEV": "Bieniek Ádám",
                                    "Előző három foglalás átlaga": "3"
                                },
                                {
                                    "FOGLALAS_PK": "1406",
                                    "UGYFEL_FK": "akos",
                                    "SZOBA_FK": "82",
                                    "METTOL": "2016-12-29",
                                    "MEDDIG": "2016-12-30",
                                    "FELNOTT_SZAM": "2",
                                    "GYERMEK_SZAM": "1",
                                    "Össz fő": "3",
                                    "NEV": "Bíró Ákos",
                                    "Előző három foglalás átlaga": "NULL"
                                },
                                {
                                    "FOGLALAS_PK": "577",
                                    "UGYFEL_FK": "peter4",
                                    "SZOBA_FK": "155",
                                    "METTOL": "2016-04-12",
                                    "MEDDIG": "2016-04-15",
                                    "FELNOTT_SZAM": "2",
                                    "GYERMEK_SZAM": "1",
                                    "Össz fő": "3",
                                    "NEV": "Bíró Péter",
                                    "Előző három foglalás átlaga": "NULL"
                                },
                                {
                                    "FOGLALAS_PK": "815",
                                    "UGYFEL_FK": "peter4",
                                    "SZOBA_FK": "128",
                                    "METTOL": "2016-08-24",
                                    "MEDDIG": "2016-08-25",
                                    "FELNOTT_SZAM": "1",
                                    "GYERMEK_SZAM": "2",
                                    "Össz fő": "3",
                                    "NEV": "Bíró Péter",
                                    "Előző három foglalás átlaga": "3"
                                },
                                {
                                    "FOGLALAS_PK": "1043",
                                    "UGYFEL_FK": "peter4",
                                    "SZOBA_FK": "193",
                                    "METTOL": "2016-09-11",
                                    "MEDDIG": "2016-09-17",
                                    "FELNOTT_SZAM": "2",
                                    "GYERMEK_SZAM": "2",
                                    "Össz fő": "4",
                                    "NEV": "Bíró Péter",
                                    "Előző három foglalás átlaga": "3"
                                },
                                {
                                    "FOGLALAS_PK": "1080",
                                    "UGYFEL_FK": "peter4",
                                    "SZOBA_FK": "59",
                                    "METTOL": "2016-09-25",
                                    "MEDDIG": "2016-09-26",
                                    "FELNOTT_SZAM": "1",
                                    "GYERMEK_SZAM": "2",
                                    "Össz fő": "3",
                                    "NEV": "Bíró Péter",
                                    "Előző három foglalás átlaga": "3"
                                },
                                {
                                    "FOGLALAS_PK": "1093",
                                    "UGYFEL_FK": "peter4",
                                    "SZOBA_FK": "74",
                                    "METTOL": "2016-09-30",
                                    "MEDDIG": "2016-10-06",
                                    "FELNOTT_SZAM": "2",
                                    "GYERMEK_SZAM": "1",
                                    "Össz fő": "3",
                                    "NEV": "Bíró Péter",
                                    "Előző három foglalás átlaga": "3"
                                },
                                {
                                    "FOGLALAS_PK": "1139",
                                    "UGYFEL_FK": "peter4",
                                    "SZOBA_FK": "19",
                                    "METTOL": "2016-10-09",
                                    "MEDDIG": "2016-10-16",
                                    "FELNOTT_SZAM": "1",
                                    "GYERMEK_SZAM": "2",
                                    "Össz fő": "3",
                                    "NEV": "Bíró Péter",
                                    "Előző három foglalás átlaga": "3"
                                },
                                {
                                    "FOGLALAS_PK": "1222",
                                    "UGYFEL_FK": "peter4",
                                    "SZOBA_FK": "143",
                                    "METTOL": "2016-10-30",
                                    "MEDDIG": "2016-11-01",
                                    "FELNOTT_SZAM": "3",
                                    "GYERMEK_SZAM": "0",
                                    "Össz fő": "3",
                                    "NEV": "Bíró Péter",
                                    "Előző három foglalás átlaga": "3"
                                },
                                {
                                    "FOGLALAS_PK": "1273",
                                    "UGYFEL_FK": "peter4",
                                    "SZOBA_FK": "88",
                                    "METTOL": "2016-11-10",
                                    "MEDDIG": "2016-11-17",
                                    "FELNOTT_SZAM": "2",
                                    "GYERMEK_SZAM": "1",
                                    "Össz fő": "3",
                                    "NEV": "Bíró Péter",
                                    "Előző három foglalás átlaga": "3"
                                },
                                {
                                    "FOGLALAS_PK": "1316",
                                    "UGYFEL_FK": "peter4",
                                    "SZOBA_FK": "17",
                                    "METTOL": "2016-11-25",
                                    "MEDDIG": "2016-11-30",
                                    "FELNOTT_SZAM": "3",
                                    "GYERMEK_SZAM": "0",
                                    "Össz fő": "3",
                                    "NEV": "Bíró Péter",
                                    "Előző három foglalás átlaga": "3"
                                },
                                {
                                    "FOGLALAS_PK": "1500",
                                    "UGYFEL_FK": "peter4",
                                    "SZOBA_FK": "126",
                                    "METTOL": "2017-02-05",
                                    "MEDDIG": "2017-02-09",
                                    "FELNOTT_SZAM": "1",
                                    "GYERMEK_SZAM": "2",
                                    "Össz fő": "3",
                                    "NEV": "Bíró Péter",
                                    "Előző három foglalás átlaga": "3"
                                },
                                {
                                    "FOGLALAS_PK": "672",
                                    "UGYFEL_FK": "edit",
                                    "SZOBA_FK": "185",
                                    "METTOL": "2016-07-14",
                                    "MEDDIG": "2016-07-17",
                                    "FELNOTT_SZAM": "3",
                                    "GYERMEK_SZAM": "0",
                                    "Össz fő": "3",
                                    "NEV": "Bittmann Edit",
                                    "Előző három foglalás átlaga": "NULL"
                                },
                                {
                                    "FOGLALAS_PK": "750",
                                    "UGYFEL_FK": "edit",
                                    "SZOBA_FK": "36",
                                    "METTOL": "2016-08-03",
                                    "MEDDIG": "2016-08-09",
                                    "FELNOTT_SZAM": "1",
                                    "GYERMEK_SZAM": "3",
                                    "Össz fő": "4",
                                    "NEV": "Bittmann Edit",
                                    "Előző három foglalás átlaga": "3"
                                },
                                {
                                    "FOGLALAS_PK": "1065",
                                    "UGYFEL_FK": "edit",
                                    "SZOBA_FK": "198",
                                    "METTOL": "2016-09-18",
                                    "MEDDIG": "2016-09-21",
                                    "FELNOTT_SZAM": "3",
                                    "GYERMEK_SZAM": "0",
                                    "Össz fő": "3",
                                    "NEV": "Bittmann Edit",
                                    "Előző három foglalás átlaga": "3"
                                },
                                {
                                    "FOGLALAS_PK": "1440",
                                    "UGYFEL_FK": "edit",
                                    "SZOBA_FK": "122",
                                    "METTOL": "2017-01-15",
                                    "MEDDIG": "2017-01-18",
                                    "FELNOTT_SZAM": "1",
                                    "GYERMEK_SZAM": "3",
                                    "Össz fő": "4",
                                    "NEV": "Bittmann Edit",
                                    "Előző három foglalás átlaga": "3"
                                },
                                {
                                    "FOGLALAS_PK": "1509",
                                    "UGYFEL_FK": "edit",
                                    "SZOBA_FK": "129",
                                    "METTOL": "2017-02-08",
                                    "MEDDIG": "2017-02-14",
                                    "FELNOTT_SZAM": "2",
                                    "GYERMEK_SZAM": "1",
                                    "Össz fő": "3",
                                    "NEV": "Bittmann Edit",
                                    "Előző három foglalás átlaga": "3"
                                },
                                {
                                    "FOGLALAS_PK": "1055",
                                    "UGYFEL_FK": "krisztina1",
                                    "SZOBA_FK": "69",
                                    "METTOL": "2016-09-15",
                                    "MEDDIG": "2016-09-20",
                                    "FELNOTT_SZAM": "1",
                                    "GYERMEK_SZAM": "2",
                                    "Össz fő": "3",
                                    "NEV": "Bori Krisztina",
                                    "Előző három foglalás átlaga": "NULL"
                                },
                                {
                                    "FOGLALAS_PK": "1217",
                                    "UGYFEL_FK": "krisztina1",
                                    "SZOBA_FK": "93",
                                    "METTOL": "2016-10-29",
                                    "MEDDIG": "2016-10-30",
                                    "FELNOTT_SZAM": "2",
                                    "GYERMEK_SZAM": "2",
                                    "Össz fő": "4",
                                    "NEV": "Bori Krisztina",
                                    "Előző három foglalás átlaga": "3"
                                },
                                {
                                    "FOGLALAS_PK": "617",
                                    "UGYFEL_FK": "vivien3",
                                    "SZOBA_FK": "117",
                                    "METTOL": "2016-05-02",
                                    "MEDDIG": "2016-05-05",
                                    "FELNOTT_SZAM": "2",
                                    "GYERMEK_SZAM": "1",
                                    "Össz fő": "3",
                                    "NEV": "Boros Vivien",
                                    "Előző három foglalás átlaga": "NULL"
                                },
                                {
                                    "FOGLALAS_PK": "1386",
                                    "UGYFEL_FK": "vivien3",
                                    "SZOBA_FK": "55",
                                    "METTOL": "2016-12-24",
                                    "MEDDIG": "2016-12-26",
                                    "FELNOTT_SZAM": "2",
                                    "GYERMEK_SZAM": "1",
                                    "Össz fő": "3",
                                    "NEV": "Boros Vivien",
                                    "Előző három foglalás átlaga": "3"
                                },
                                {
                                    "FOGLALAS_PK": "754",
                                    "UGYFEL_FK": "ilona3",
                                    "SZOBA_FK": "126",
                                    "METTOL": "2016-08-04",
                                    "MEDDIG": "2016-08-08",
                                    "FELNOTT_SZAM": "2",
                                    "GYERMEK_SZAM": "1",
                                    "Össz fő": "3",
                                    "NEV": "Bosnyák Ilona",
                                    "Előző három foglalás átlaga": "NULL"
                                },
                                {
                                    "FOGLALAS_PK": "1245",
                                    "UGYFEL_FK": "ilona3",
                                    "SZOBA_FK": "122",
                                    "METTOL": "2016-11-04",
                                    "MEDDIG": "2016-11-06",
                                    "FELNOTT_SZAM": "2",
                                    "GYERMEK_SZAM": "2",
                                    "Össz fő": "4",
                                    "NEV": "Bosnyák Ilona",
                                    "Előző három foglalás átlaga": "3"
                                },
                                {
                                    "FOGLALAS_PK": "1393",
                                    "UGYFEL_FK": "ilona3",
                                    "SZOBA_FK": "121",
                                    "METTOL": "2016-12-25",
                                    "MEDDIG": "2016-12-31",
                                    "FELNOTT_SZAM": "1",
                                    "GYERMEK_SZAM": "2",
                                    "Össz fő": "3",
                                    "NEV": "Bosnyák Ilona",
                                    "Előző három foglalás átlaga": "3"
                                },
                                {
                                    "FOGLALAS_PK": "1356",
                                    "UGYFEL_FK": "matyas2",
                                    "SZOBA_FK": "169",
                                    "METTOL": "2016-12-09",
                                    "MEDDIG": "2016-12-13",
                                    "FELNOTT_SZAM": "2",
                                    "GYERMEK_SZAM": "1",
                                    "Össz fő": "3",
                                    "NEV": "Botka Mátyás",
                                    "Előző három foglalás átlaga": "NULL"
                                },
                                {
                                    "FOGLALAS_PK": "703",
                                    "UGYFEL_FK": "balazs1",
                                    "SZOBA_FK": "145",
                                    "METTOL": "2016-07-22",
                                    "MEDDIG": "2016-07-26",
                                    "FELNOTT_SZAM": "2",
                                    "GYERMEK_SZAM": "2",
                                    "Össz fő": "4",
                                    "NEV": "Bozsik Balázs",
                                    "Előző három foglalás átlaga": "NULL"
                                },
                                {
                                    "FOGLALAS_PK": "1399",
                                    "UGYFEL_FK": "balazs1",
                                    "SZOBA_FK": "89",
                                    "METTOL": "2016-12-26",
                                    "MEDDIG": "2016-12-28",
                                    "FELNOTT_SZAM": "3",
                                    "GYERMEK_SZAM": "0",
                                    "Össz fő": "3",
                                    "NEV": "Bozsik Balázs",
                                    "Előző három foglalás átlaga": "4"
                                },
                                {
                                    "FOGLALAS_PK": "1515",
                                    "UGYFEL_FK": "balazs1",
                                    "SZOBA_FK": "46",
                                    "METTOL": "2017-02-10",
                                    "MEDDIG": "2017-02-14",
                                    "FELNOTT_SZAM": "1",
                                    "GYERMEK_SZAM": "2",
                                    "Össz fő": "3",
                                    "NEV": "Bozsik Balázs",
                                    "Előző három foglalás átlaga": "3"
                                },
                                {
                                    "FOGLALAS_PK": "1282",
                                    "UGYFEL_FK": "peter2",
                                    "SZOBA_FK": "123",
                                    "METTOL": "2016-11-15",
                                    "MEDDIG": "2016-11-21",
                                    "FELNOTT_SZAM": "3",
                                    "GYERMEK_SZAM": "0",
                                    "Össz fő": "3",
                                    "NEV": "Bozsó Péter",
                                    "Előző három foglalás átlaga": "NULL"
                                },
                                {
                                    "FOGLALAS_PK": "704",
                                    "UGYFEL_FK": "aniko4",
                                    "SZOBA_FK": "70",
                                    "METTOL": "2016-07-22",
                                    "MEDDIG": "2016-07-25",
                                    "FELNOTT_SZAM": "2",
                                    "GYERMEK_SZAM": "1",
                                    "Össz fő": "3",
                                    "NEV": "Böröcz Anikó",
                                    "Előző három foglalás átlaga": "NULL"
                                },
                                {
                                    "FOGLALAS_PK": "1031",
                                    "UGYFEL_FK": "aniko4",
                                    "SZOBA_FK": "27",
                                    "METTOL": "2016-09-05",
                                    "MEDDIG": "2016-09-07",
                                    "FELNOTT_SZAM": "1",
                                    "GYERMEK_SZAM": "3",
                                    "Össz fő": "4",
                                    "NEV": "Böröcz Anikó",
                                    "Előző három foglalás átlaga": "3"
                                },
                                {
                                    "FOGLALAS_PK": "1158",
                                    "UGYFEL_FK": "aniko4",
                                    "SZOBA_FK": "26",
                                    "METTOL": "2016-10-16",
                                    "MEDDIG": "2016-10-18",
                                    "FELNOTT_SZAM": "1",
                                    "GYERMEK_SZAM": "2",
                                    "Össz fő": "3",
                                    "NEV": "Böröcz Anikó",
                                    "Előző három foglalás átlaga": "3"
                                },
                                {
                                    "FOGLALAS_PK": "1433",
                                    "UGYFEL_FK": "roza2",
                                    "SZOBA_FK": "139",
                                    "METTOL": "2017-01-11",
                                    "MEDDIG": "2017-01-17",
                                    "FELNOTT_SZAM": "2",
                                    "GYERMEK_SZAM": "1",
                                    "Össz fő": "3",
                                    "NEV": "Bucskó Róza",
                                    "Előző három foglalás átlaga": "NULL"
                                },
                                {
                                    "FOGLALAS_PK": "1549",
                                    "UGYFEL_FK": "roza2",
                                    "SZOBA_FK": "17",
                                    "METTOL": "2017-02-18",
                                    "MEDDIG": "2017-02-21",
                                    "FELNOTT_SZAM": "1",
                                    "GYERMEK_SZAM": "2",
                                    "Össz fő": "3",
                                    "NEV": "Bucskó Róza",
                                    "Előző három foglalás átlaga": "3"
                                },
                                {
                                    "FOGLALAS_PK": "1060",
                                    "UGYFEL_FK": "imre",
                                    "SZOBA_FK": "38",
                                    "METTOL": "2016-09-17",
                                    "MEDDIG": "2016-09-19",
                                    "FELNOTT_SZAM": "1",
                                    "GYERMEK_SZAM": "2",
                                    "Össz fő": "3",
                                    "NEV": "Búza Imre",
                                    "Előző három foglalás átlaga": "NULL"
                                },
                                {
                                    "FOGLALAS_PK": "1209",
                                    "UGYFEL_FK": "imre",
                                    "SZOBA_FK": "122",
                                    "METTOL": "2016-10-28",
                                    "MEDDIG": "2016-10-29",
                                    "FELNOTT_SZAM": "3",
                                    "GYERMEK_SZAM": "1",
                                    "Össz fő": "4",
                                    "NEV": "Búza Imre",
                                    "Előző három foglalás átlaga": "3"
                                },
                                {
                                    "FOGLALAS_PK": "747",
                                    "UGYFEL_FK": "krisztian4",
                                    "SZOBA_FK": "188",
                                    "METTOL": "2016-08-01",
                                    "MEDDIG": "2016-08-04",
                                    "FELNOTT_SZAM": "1",
                                    "GYERMEK_SZAM": "2",
                                    "Össz fő": "3",
                                    "NEV": "Czérna Krisztián",
                                    "Előző három foglalás átlaga": "NULL"
                                },
                                {
                                    "FOGLALAS_PK": "1161",
                                    "UGYFEL_FK": "krisztian4",
                                    "SZOBA_FK": "198",
                                    "METTOL": "2016-10-17",
                                    "MEDDIG": "2016-10-22",
                                    "FELNOTT_SZAM": "3",
                                    "GYERMEK_SZAM": "0",
                                    "Össz fő": "3",
                                    "NEV": "Czérna Krisztián",
                                    "Előző három foglalás átlaga": "3"
                                },
                                {
                                    "FOGLALAS_PK": "1445",
                                    "UGYFEL_FK": "krisztian4",
                                    "SZOBA_FK": "129",
                                    "METTOL": "2017-01-16",
                                    "MEDDIG": "2017-01-23",
                                    "FELNOTT_SZAM": "2",
                                    "GYERMEK_SZAM": "1",
                                    "Össz fő": "3",
                                    "NEV": "Czérna Krisztián",
                                    "Előző három foglalás átlaga": "3"
                                },
                                {
                                    "FOGLALAS_PK": "1322",
                                    "UGYFEL_FK": "bertalan",
                                    "SZOBA_FK": "58",
                                    "METTOL": "2016-11-26",
                                    "MEDDIG": "2016-11-29",
                                    "FELNOTT_SZAM": "1",
                                    "GYERMEK_SZAM": "2",
                                    "Össz fő": "3",
                                    "NEV": "Csiger Bertalan",
                                    "Előző három foglalás átlaga": "NULL"
                                },
                                {
                                    "FOGLALAS_PK": "1555",
                                    "UGYFEL_FK": "bertalan",
                                    "SZOBA_FK": "92",
                                    "METTOL": "2017-02-20",
                                    "MEDDIG": "2017-02-24",
                                    "FELNOTT_SZAM": "3",
                                    "GYERMEK_SZAM": "1",
                                    "Össz fő": "4",
                                    "NEV": "Csiger Bertalan",
                                    "Előző három foglalás átlaga": "3"
                                },
                                {
                                    "FOGLALAS_PK": "1090",
                                    "UGYFEL_FK": "attila",
                                    "SZOBA_FK": "132",
                                    "METTOL": "2016-09-30",
                                    "MEDDIG": "2016-10-07",
                                    "FELNOTT_SZAM": "1",
                                    "GYERMEK_SZAM": "2",
                                    "Össz fő": "3",
                                    "NEV": "Csóti Attila",
                                    "Előző három foglalás átlaga": "NULL"
                                },
                                {
                                    "FOGLALAS_PK": "762",
                                    "UGYFEL_FK": "timea2",
                                    "SZOBA_FK": "120",
                                    "METTOL": "2016-08-07",
                                    "MEDDIG": "2016-08-10",
                                    "FELNOTT_SZAM": "1",
                                    "GYERMEK_SZAM": "2",
                                    "Össz fő": "3",
                                    "NEV": "Dusha Tímea",
                                    "Előző három foglalás átlaga": "NULL"
                                },
                                {
                                    "FOGLALAS_PK": "1196",
                                    "UGYFEL_FK": "timea2",
                                    "SZOBA_FK": "88",
                                    "METTOL": "2016-10-26",
                                    "MEDDIG": "2016-10-29",
                                    "FELNOTT_SZAM": "3",
                                    "GYERMEK_SZAM": "0",
                                    "Össz fő": "3",
                                    "NEV": "Dusha Tímea",
                                    "Előző három foglalás átlaga": "3"
                                },
                                {
                                    "FOGLALAS_PK": "1324",
                                    "UGYFEL_FK": "timea2",
                                    "SZOBA_FK": "68",
                                    "METTOL": "2016-11-27",
                                    "MEDDIG": "2016-12-01",
                                    "FELNOTT_SZAM": "2",
                                    "GYERMEK_SZAM": "2",
                                    "Össz fő": "4",
                                    "NEV": "Dusha Tímea",
                                    "Előző három foglalás átlaga": "3"
                                },
                                {
                                    "FOGLALAS_PK": "1362",
                                    "UGYFEL_FK": "timea2",
                                    "SZOBA_FK": "25",
                                    "METTOL": "2016-12-14",
                                    "MEDDIG": "2016-12-16",
                                    "FELNOTT_SZAM": "3",
                                    "GYERMEK_SZAM": "1",
                                    "Össz fő": "4",
                                    "NEV": "Dusha Tímea",
                                    "Előző három foglalás átlaga": "3"
                                },
                                {
                                    "FOGLALAS_PK": "1125",
                                    "UGYFEL_FK": "eva",
                                    "SZOBA_FK": "185",
                                    "METTOL": "2016-10-06",
                                    "MEDDIG": "2016-10-09",
                                    "FELNOTT_SZAM": "3",
                                    "GYERMEK_SZAM": "0",
                                    "Össz fő": "3",
                                    "NEV": "Enyedi Éva",
                                    "Előző három foglalás átlaga": "NULL"
                                },
                                {
                                    "FOGLALAS_PK": "1297",
                                    "UGYFEL_FK": "ANDRASE",
                                    "SZOBA_FK": "144",
                                    "METTOL": "2016-11-19",
                                    "MEDDIG": "2016-11-20",
                                    "FELNOTT_SZAM": "2",
                                    "GYERMEK_SZAM": "2",
                                    "Össz fő": "4",
                                    "NEV": "Erdei András",
                                    "Előző három foglalás átlaga": "NULL"
                                },
                                {
                                    "FOGLALAS_PK": "1330",
                                    "UGYFEL_FK": "ANDRASE",
                                    "SZOBA_FK": "124",
                                    "METTOL": "2016-11-29",
                                    "MEDDIG": "2016-12-06",
                                    "FELNOTT_SZAM": "1",
                                    "GYERMEK_SZAM": "2",
                                    "Össz fő": "3",
                                    "NEV": "Erdei András",
                                    "Előző három foglalás átlaga": "4"
                                },
                                {
                                    "FOGLALAS_PK": "719",
                                    "UGYFEL_FK": "BELAF",
                                    "SZOBA_FK": "58",
                                    "METTOL": "2016-07-27",
                                    "MEDDIG": "2016-07-30",
                                    "FELNOTT_SZAM": "2",
                                    "GYERMEK_SZAM": "1",
                                    "Össz fő": "3",
                                    "NEV": "Farkas Béla",
                                    "Előző három foglalás átlaga": "NULL"
                                },
                                {
                                    "FOGLALAS_PK": "1238",
                                    "UGYFEL_FK": "BELAF",
                                    "SZOBA_FK": "193",
                                    "METTOL": "2016-11-03",
                                    "MEDDIG": "2016-11-09",
                                    "FELNOTT_SZAM": "1",
                                    "GYERMEK_SZAM": "3",
                                    "Össz fő": "4",
                                    "NEV": "Farkas Béla",
                                    "Előző három foglalás átlaga": "3"
                                },
                                {
                                    "FOGLALAS_PK": "1337",
                                    "UGYFEL_FK": "BELAF",
                                    "SZOBA_FK": "122",
                                    "METTOL": "2016-12-02",
                                    "MEDDIG": "2016-12-04",
                                    "FELNOTT_SZAM": "1",
                                    "GYERMEK_SZAM": "2",
                                    "Össz fő": "3",
                                    "NEV": "Farkas Béla",
                                    "Előző három foglalás átlaga": "3"
                                },
                                {
                                    "FOGLALAS_PK": "1078",
                                    "UGYFEL_FK": "laszlo1",
                                    "SZOBA_FK": "38",
                                    "METTOL": "2016-09-23",
                                    "MEDDIG": "2016-09-30",
                                    "FELNOTT_SZAM": "2",
                                    "GYERMEK_SZAM": "1",
                                    "Össz fő": "3",
                                    "NEV": "Farkas László",
                                    "Előző három foglalás átlaga": "NULL"
                                },
                                {
                                    "FOGLALAS_PK": "1181",
                                    "UGYFEL_FK": "sandor3",
                                    "SZOBA_FK": "171",
                                    "METTOL": "2016-10-23",
                                    "MEDDIG": "2016-10-29",
                                    "FELNOTT_SZAM": "2",
                                    "GYERMEK_SZAM": "1",
                                    "Össz fő": "3",
                                    "NEV": "Farkas Sándor",
                                    "Előző három foglalás átlaga": "NULL"
                                },
                                {
                                    "FOGLALAS_PK": "675",
                                    "UGYFEL_FK": "sara",
                                    "SZOBA_FK": "193",
                                    "METTOL": "2016-07-15",
                                    "MEDDIG": "2016-07-17",
                                    "FELNOTT_SZAM": "3",
                                    "GYERMEK_SZAM": "0",
                                    "Össz fő": "3",
                                    "NEV": "Farkas Sára",
                                    "Előző három foglalás átlaga": "NULL"
                                },
                                {
                                    "FOGLALAS_PK": "711",
                                    "UGYFEL_FK": "sara",
                                    "SZOBA_FK": "185",
                                    "METTOL": "2016-07-24",
                                    "MEDDIG": "2016-07-27",
                                    "FELNOTT_SZAM": "3",
                                    "GYERMEK_SZAM": "0",
                                    "Össz fő": "3",
                                    "NEV": "Farkas Sára",
                                    "Előző három foglalás átlaga": "3"
                                },
                                {
                                    "FOGLALAS_PK": "1124",
                                    "UGYFEL_FK": "sara",
                                    "SZOBA_FK": "112",
                                    "METTOL": "2016-10-06",
                                    "MEDDIG": "2016-10-12",
                                    "FELNOTT_SZAM": "1",
                                    "GYERMEK_SZAM": "2",
                                    "Össz fő": "3",
                                    "NEV": "Farkas Sára",
                                    "Előző három foglalás átlaga": "3"
                                },
                                {
                                    "FOGLALAS_PK": "1148",
                                    "UGYFEL_FK": "sara",
                                    "SZOBA_FK": "61",
                                    "METTOL": "2016-10-11",
                                    "MEDDIG": "2016-10-14",
                                    "FELNOTT_SZAM": "2",
                                    "GYERMEK_SZAM": "1",
                                    "Össz fő": "3",
                                    "NEV": "Farkas Sára",
                                    "Előző három foglalás átlaga": "3"
                                },
                                {
                                    "FOGLALAS_PK": "1289",
                                    "UGYFEL_FK": "sara",
                                    "SZOBA_FK": "135",
                                    "METTOL": "2016-11-18",
                                    "MEDDIG": "2016-11-21",
                                    "FELNOTT_SZAM": "3",
                                    "GYERMEK_SZAM": "0",
                                    "Össz fő": "3",
                                    "NEV": "Farkas Sára",
                                    "Előző három foglalás átlaga": "3"
                                },
                                {
                                    "FOGLALAS_PK": "1311",
                                    "UGYFEL_FK": "sara",
                                    "SZOBA_FK": "2",
                                    "METTOL": "2016-11-23",
                                    "MEDDIG": "2016-11-30",
                                    "FELNOTT_SZAM": "1",
                                    "GYERMEK_SZAM": "3",
                                    "Össz fő": "4",
                                    "NEV": "Farkas Sára",
                                    "Előző három foglalás átlaga": "3"
                                },
                                {
                                    "FOGLALAS_PK": "950",
                                    "UGYFEL_FK": "TAMASF",
                                    "SZOBA_FK": "66",
                                    "METTOL": "2016-06-10",
                                    "MEDDIG": "2016-06-13",
                                    "FELNOTT_SZAM": "3",
                                    "GYERMEK_SZAM": "0",
                                    "Össz fő": "3",
                                    "NEV": "Fényes Tamás",
                                    "Előző három foglalás átlaga": "NULL"
                                },
                                {
                                    "FOGLALAS_PK": "991",
                                    "UGYFEL_FK": "TAMASF",
                                    "SZOBA_FK": "178",
                                    "METTOL": "2016-06-28",
                                    "MEDDIG": "2016-07-05",
                                    "FELNOTT_SZAM": "1",
                                    "GYERMEK_SZAM": "2",
                                    "Össz fő": "3",
                                    "NEV": "Fényes Tamás",
                                    "Előző három foglalás átlaga": "3"
                                },
                                {
                                    "FOGLALAS_PK": "1044",
                                    "UGYFEL_FK": "TAMASF",
                                    "SZOBA_FK": "13",
                                    "METTOL": "2016-09-12",
                                    "MEDDIG": "2016-09-18",
                                    "FELNOTT_SZAM": "3",
                                    "GYERMEK_SZAM": "0",
                                    "Össz fő": "3",
                                    "NEV": "Fényes Tamás",
                                    "Előző három foglalás átlaga": "3"
                                },
                                {
                                    "FOGLALAS_PK": "1357",
                                    "UGYFEL_FK": "TAMASF",
                                    "SZOBA_FK": "140",
                                    "METTOL": "2016-12-10",
                                    "MEDDIG": "2016-12-14",
                                    "FELNOTT_SZAM": "2",
                                    "GYERMEK_SZAM": "1",
                                    "Össz fő": "3",
                                    "NEV": "Fényes Tamás",
                                    "Előző három foglalás átlaga": "3"
                                },
                                {
                                    "FOGLALAS_PK": "1537",
                                    "UGYFEL_FK": "TAMASF",
                                    "SZOBA_FK": "9",
                                    "METTOL": "2017-02-16",
                                    "MEDDIG": "2017-02-19",
                                    "FELNOTT_SZAM": "3",
                                    "GYERMEK_SZAM": "1",
                                    "Össz fő": "4",
                                    "NEV": "Fényes Tamás",
                                    "Előző három foglalás átlaga": "3"
                                },
                                {
                                    "FOGLALAS_PK": "1253",
                                    "UGYFEL_FK": "roland1",
                                    "SZOBA_FK": "89",
                                    "METTOL": "2016-11-05",
                                    "MEDDIG": "2016-11-07",
                                    "FELNOTT_SZAM": "2",
                                    "GYERMEK_SZAM": "1",
                                    "Össz fő": "3",
                                    "NEV": "Ferencz Roland",
                                    "Előző három foglalás átlaga": "NULL"
                                },
                                {
                                    "FOGLALAS_PK": "1418",
                                    "UGYFEL_FK": "roland1",
                                    "SZOBA_FK": "15",
                                    "METTOL": "2017-01-04",
                                    "MEDDIG": "2017-01-08",
                                    "FELNOTT_SZAM": "2",
                                    "GYERMEK_SZAM": "1",
                                    "Össz fő": "3",
                                    "NEV": "Ferencz Roland",
                                    "Előző három foglalás átlaga": "3"
                                },
                                {
                                    "FOGLALAS_PK": "856",
                                    "UGYFEL_FK": "valentin",
                                    "SZOBA_FK": "16",
                                    "METTOL": "2016-05-24",
                                    "MEDDIG": "2016-05-30",
                                    "FELNOTT_SZAM": "2",
                                    "GYERMEK_SZAM": "2",
                                    "Össz fő": "4",
                                    "NEV": "Feró Valentin",
                                    "Előző három foglalás átlaga": "NULL"
                                },
                                {
                                    "FOGLALAS_PK": "1203",
                                    "UGYFEL_FK": "valentin",
                                    "SZOBA_FK": "150",
                                    "METTOL": "2016-10-26",
                                    "MEDDIG": "2016-10-30",
                                    "FELNOTT_SZAM": "2",
                                    "GYERMEK_SZAM": "1",
                                    "Össz fő": "3",
                                    "NEV": "Feró Valentin",
                                    "Előző három foglalás átlaga": "4"
                                },
                                {
                                    "FOGLALAS_PK": "1275",
                                    "UGYFEL_FK": "valentin",
                                    "SZOBA_FK": "27",
                                    "METTOL": "2016-11-11",
                                    "MEDDIG": "2016-11-17",
                                    "FELNOTT_SZAM": "2",
                                    "GYERMEK_SZAM": "1",
                                    "Össz fő": "3",
                                    "NEV": "Feró Valentin",
                                    "Előző három foglalás átlaga": "3"
                                },
                                {
                                    "FOGLALAS_PK": "1334",
                                    "UGYFEL_FK": "valentin",
                                    "SZOBA_FK": "1",
                                    "METTOL": "2016-12-01",
                                    "MEDDIG": "2016-12-05",
                                    "FELNOTT_SZAM": "3",
                                    "GYERMEK_SZAM": "0",
                                    "Össz fő": "3",
                                    "NEV": "Feró Valentin",
                                    "Előző három foglalás átlaga": "3"
                                },
                                {
                                    "FOGLALAS_PK": "1030",
                                    "UGYFEL_FK": "zoltan",
                                    "SZOBA_FK": "188",
                                    "METTOL": "2016-09-05",
                                    "MEDDIG": "2016-09-09",
                                    "FELNOTT_SZAM": "3",
                                    "GYERMEK_SZAM": "0",
                                    "Össz fő": "3",
                                    "NEV": "Fodor Zoltán",
                                    "Előző három foglalás átlaga": "NULL"
                                },
                                {
                                    "FOGLALAS_PK": "741",
                                    "UGYFEL_FK": "SEBASTIANF",
                                    "SZOBA_FK": "93",
                                    "METTOL": "2016-07-30",
                                    "MEDDIG": "2016-08-06",
                                    "FELNOTT_SZAM": "3",
                                    "GYERMEK_SZAM": "1",
                                    "Össz fő": "4",
                                    "NEV": "Foltényi Sebastián",
                                    "Előző három foglalás átlaga": "NULL"
                                },
                                {
                                    "FOGLALAS_PK": "1051",
                                    "UGYFEL_FK": "SEBASTIANF",
                                    "SZOBA_FK": "2",
                                    "METTOL": "2016-09-14",
                                    "MEDDIG": "2016-09-15",
                                    "FELNOTT_SZAM": "3",
                                    "GYERMEK_SZAM": "0",
                                    "Össz fő": "3",
                                    "NEV": "Foltényi Sebastián",
                                    "Előző három foglalás átlaga": "4"
                                },
                                {
                                    "FOGLALAS_PK": "1062",
                                    "UGYFEL_FK": "SEBASTIANF",
                                    "SZOBA_FK": "122",
                                    "METTOL": "2016-09-17",
                                    "MEDDIG": "2016-09-20",
                                    "FELNOTT_SZAM": "1",
                                    "GYERMEK_SZAM": "2",
                                    "Össz fő": "3",
                                    "NEV": "Foltényi Sebastián",
                                    "Előző három foglalás átlaga": "3"
                                },
                                {
                                    "FOGLALAS_PK": "558",
                                    "UGYFEL_FK": "NANDORF",
                                    "SZOBA_FK": "87",
                                    "METTOL": "2016-04-06",
                                    "MEDDIG": "2016-04-10",
                                    "FELNOTT_SZAM": "2",
                                    "GYERMEK_SZAM": "1",
                                    "Össz fő": "3",
                                    "NEV": "Fő Nándor",
                                    "Előző három foglalás átlaga": "NULL"
                                },
                                {
                                    "FOGLALAS_PK": "1242",
                                    "UGYFEL_FK": "NANDORF",
                                    "SZOBA_FK": "178",
                                    "METTOL": "2016-11-03",
                                    "MEDDIG": "2016-11-04",
                                    "FELNOTT_SZAM": "1",
                                    "GYERMEK_SZAM": "2",
                                    "Össz fő": "3",
                                    "NEV": "Fő Nándor",
                                    "Előző három foglalás átlaga": "3"
                                },
                                {
                                    "FOGLALAS_PK": "1503",
                                    "UGYFEL_FK": "NANDORF",
                                    "SZOBA_FK": "177",
                                    "METTOL": "2017-02-05",
                                    "MEDDIG": "2017-02-08",
                                    "FELNOTT_SZAM": "1",
                                    "GYERMEK_SZAM": "2",
                                    "Össz fő": "3",
                                    "NEV": "Fő Nándor",
                                    "Előző három foglalás átlaga": "3"
                                },
                                {
                                    "FOGLALAS_PK": "996",
                                    "UGYFEL_FK": "fruzsina4",
                                    "SZOBA_FK": "118",
                                    "METTOL": "2016-07-01",
                                    "MEDDIG": "2016-07-04",
                                    "FELNOTT_SZAM": "1",
                                    "GYERMEK_SZAM": "2",
                                    "Össz fő": "3",
                                    "NEV": "Frank Fruzsina",
                                    "Előző három foglalás átlaga": "NULL"
                                },
                                {
                                    "FOGLALAS_PK": "667",
                                    "UGYFEL_FK": "fruzsina4",
                                    "SZOBA_FK": "80",
                                    "METTOL": "2016-07-13",
                                    "MEDDIG": "2016-07-19",
                                    "FELNOTT_SZAM": "2",
                                    "GYERMEK_SZAM": "1",
                                    "Össz fő": "3",
                                    "NEV": "Frank Fruzsina",
                                    "Előző három foglalás átlaga": "3"
                                },
                                {
                                    "FOGLALAS_PK": "828",
                                    "UGYFEL_FK": "fruzsina4",
                                    "SZOBA_FK": "2",
                                    "METTOL": "2016-08-27",
                                    "MEDDIG": "2016-08-30",
                                    "FELNOTT_SZAM": "1",
                                    "GYERMEK_SZAM": "3",
                                    "Össz fő": "4",
                                    "NEV": "Frank Fruzsina",
                                    "Előző három foglalás átlaga": "3"
                                },
                                {
                                    "FOGLALAS_PK": "1088",
                                    "UGYFEL_FK": "fruzsina4",
                                    "SZOBA_FK": "43",
                                    "METTOL": "2016-09-29",
                                    "MEDDIG": "2016-10-01",
                                    "FELNOTT_SZAM": "3",
                                    "GYERMEK_SZAM": "0",
                                    "Össz fő": "3",
                                    "NEV": "Frank Fruzsina",
                                    "Előző három foglalás átlaga": "3"
                                },
                                {
                                    "FOGLALAS_PK": "1467",
                                    "UGYFEL_FK": "fruzsina4",
                                    "SZOBA_FK": "186",
                                    "METTOL": "2017-01-22",
                                    "MEDDIG": "2017-01-25",
                                    "FELNOTT_SZAM": "2",
                                    "GYERMEK_SZAM": "2",
                                    "Össz fő": "4",
                                    "NEV": "Frank Fruzsina",
                                    "Előző három foglalás átlaga": "3"
                                },
                                {
                                    "FOGLALAS_PK": "1574",
                                    "UGYFEL_FK": "eszter4",
                                    "SZOBA_FK": "128",
                                    "METTOL": "2017-02-26",
                                    "MEDDIG": "2017-02-27",
                                    "FELNOTT_SZAM": "1",
                                    "GYERMEK_SZAM": "2",
                                    "Össz fő": "3",
                                    "NEV": "Fülöp Eszter",
                                    "Előző három foglalás átlaga": "NULL"
                                },
                                {
                                    "FOGLALAS_PK": "789",
                                    "UGYFEL_FK": "JANOSG",
                                    "SZOBA_FK": "146",
                                    "METTOL": "2016-08-16",
                                    "MEDDIG": "2016-08-23",
                                    "FELNOTT_SZAM": "3",
                                    "GYERMEK_SZAM": "0",
                                    "Össz fő": "3",
                                    "NEV": "Giliga János",
                                    "Előző három foglalás átlaga": "NULL"
                                },
                                {
                                    "FOGLALAS_PK": "840",
                                    "UGYFEL_FK": "JANOSG",
                                    "SZOBA_FK": "158",
                                    "METTOL": "2016-08-30",
                                    "MEDDIG": "2016-09-03",
                                    "FELNOTT_SZAM": "2",
                                    "GYERMEK_SZAM": "1",
                                    "Össz fő": "3",
                                    "NEV": "Giliga János",
                                    "Előző három foglalás átlaga": "3"
                                },
                                {
                                    "FOGLALAS_PK": "1259",
                                    "UGYFEL_FK": "JANOSG",
                                    "SZOBA_FK": "140",
                                    "METTOL": "2016-11-07",
                                    "MEDDIG": "2016-11-14",
                                    "FELNOTT_SZAM": "1",
                                    "GYERMEK_SZAM": "2",
                                    "Össz fő": "3",
                                    "NEV": "Giliga János",
                                    "Előző három foglalás átlaga": "3"
                                },
                                {
                                    "FOGLALAS_PK": "885",
                                    "UGYFEL_FK": "kata",
                                    "SZOBA_FK": "69",
                                    "METTOL": "2016-05-31",
                                    "MEDDIG": "2016-06-01",
                                    "FELNOTT_SZAM": "3",
                                    "GYERMEK_SZAM": "0",
                                    "Össz fő": "3",
                                    "NEV": "Gondos Katalin",
                                    "Előző három foglalás átlaga": "NULL"
                                },
                                {
                                    "FOGLALAS_PK": "1016",
                                    "UGYFEL_FK": "kata",
                                    "SZOBA_FK": "92",
                                    "METTOL": "2016-07-07",
                                    "MEDDIG": "2016-07-09",
                                    "FELNOTT_SZAM": "3",
                                    "GYERMEK_SZAM": "0",
                                    "Össz fő": "3",
                                    "NEV": "Gondos Katalin",
                                    "Előző három foglalás átlaga": "3"
                                },
                                {
                                    "FOGLALAS_PK": "814",
                                    "UGYFEL_FK": "kata",
                                    "SZOBA_FK": "70",
                                    "METTOL": "2016-08-24",
                                    "MEDDIG": "2016-08-27",
                                    "FELNOTT_SZAM": "2",
                                    "GYERMEK_SZAM": "1",
                                    "Össz fő": "3",
                                    "NEV": "Gondos Katalin",
                                    "Előző három foglalás átlaga": "3"
                                },
                                {
                                    "FOGLALAS_PK": "1070",
                                    "UGYFEL_FK": "kata",
                                    "SZOBA_FK": "20",
                                    "METTOL": "2016-09-19",
                                    "MEDDIG": "2016-09-20",
                                    "FELNOTT_SZAM": "3",
                                    "GYERMEK_SZAM": "0",
                                    "Össz fő": "3",
                                    "NEV": "Gondos Katalin",
                                    "Előző három foglalás átlaga": "3"
                                },
                                {
                                    "FOGLALAS_PK": "1439",
                                    "UGYFEL_FK": "kata",
                                    "SZOBA_FK": "77",
                                    "METTOL": "2017-01-15",
                                    "MEDDIG": "2017-01-21",
                                    "FELNOTT_SZAM": "1",
                                    "GYERMEK_SZAM": "2",
                                    "Össz fő": "3",
                                    "NEV": "Gondos Katalin",
                                    "Előző három foglalás átlaga": "3"
                                },
                                {
                                    "FOGLALAS_PK": "589",
                                    "UGYFEL_FK": "miklos2",
                                    "SZOBA_FK": "44",
                                    "METTOL": "2016-04-19",
                                    "MEDDIG": "2016-04-21",
                                    "FELNOTT_SZAM": "3",
                                    "GYERMEK_SZAM": "0",
                                    "Össz fő": "3",
                                    "NEV": "Gondos Miklós",
                                    "Előző három foglalás átlaga": "NULL"
                                },
                                {
                                    "FOGLALAS_PK": "1283",
                                    "UGYFEL_FK": "miklos2",
                                    "SZOBA_FK": "138",
                                    "METTOL": "2016-11-16",
                                    "MEDDIG": "2016-11-18",
                                    "FELNOTT_SZAM": "3",
                                    "GYERMEK_SZAM": "0",
                                    "Össz fő": "3",
                                    "NEV": "Gondos Miklós",
                                    "Előző három foglalás átlaga": "3"
                                },
                                {
                                    "FOGLALAS_PK": "1152",
                                    "UGYFEL_FK": "attila1",
                                    "SZOBA_FK": "1",
                                    "METTOL": "2016-10-15",
                                    "MEDDIG": "2016-10-16",
                                    "FELNOTT_SZAM": "3",
                                    "GYERMEK_SZAM": "0",
                                    "Össz fő": "3",
                                    "NEV": "Gulyás Attila",
                                    "Előző három foglalás átlaga": "NULL"
                                },
                                {
                                    "FOGLALAS_PK": "1468",
                                    "UGYFEL_FK": "attila1",
                                    "SZOBA_FK": "117",
                                    "METTOL": "2017-01-23",
                                    "MEDDIG": "2017-01-30",
                                    "FELNOTT_SZAM": "1",
                                    "GYERMEK_SZAM": "3",
                                    "Össz fő": "4",
                                    "NEV": "Gulyás Attila",
                                    "Előző három foglalás átlaga": "3"
                                },
                                {
                                    "FOGLALAS_PK": "763",
                                    "UGYFEL_FK": "KRISZTINAG",
                                    "SZOBA_FK": "13",
                                    "METTOL": "2016-08-08",
                                    "MEDDIG": "2016-08-12",
                                    "FELNOTT_SZAM": "3",
                                    "GYERMEK_SZAM": "0",
                                    "Össz fő": "3",
                                    "NEV": "Gyárfás Krisztina",
                                    "Előző három foglalás átlaga": "NULL"
                                },
                                {
                                    "FOGLALAS_PK": "714",
                                    "UGYFEL_FK": "bence",
                                    "SZOBA_FK": "73",
                                    "METTOL": "2016-07-25",
                                    "MEDDIG": "2016-08-01",
                                    "FELNOTT_SZAM": "2",
                                    "GYERMEK_SZAM": "1",
                                    "Össz fő": "3",
                                    "NEV": "Győrffy Bence",
                                    "Előző három foglalás átlaga": "NULL"
                                },
                                {
                                    "FOGLALAS_PK": "847",
                                    "UGYFEL_FK": "bence",
                                    "SZOBA_FK": "74",
                                    "METTOL": "2016-09-03",
                                    "MEDDIG": "2016-09-06",
                                    "FELNOTT_SZAM": "2",
                                    "GYERMEK_SZAM": "1",
                                    "Össz fő": "3",
                                    "NEV": "Győrffy Bence",
                                    "Előző három foglalás átlaga": "3"
                                },
                                {
                                    "FOGLALAS_PK": "1220",
                                    "UGYFEL_FK": "bence",
                                    "SZOBA_FK": "9",
                                    "METTOL": "2016-10-30",
                                    "MEDDIG": "2016-11-02",
                                    "FELNOTT_SZAM": "2",
                                    "GYERMEK_SZAM": "2",
                                    "Össz fő": "4",
                                    "NEV": "Győrffy Bence",
                                    "Előző három foglalás átlaga": "3"
                                },
                                {
                                    "FOGLALAS_PK": "1501",
                                    "UGYFEL_FK": "bence",
                                    "SZOBA_FK": "116",
                                    "METTOL": "2017-02-05",
                                    "MEDDIG": "2017-02-09",
                                    "FELNOTT_SZAM": "1",
                                    "GYERMEK_SZAM": "2",
                                    "Össz fő": "3",
                                    "NEV": "Győrffy Bence",
                                    "Előző három foglalás átlaga": "3"
                                },
                                {
                                    "FOGLALAS_PK": "905",
                                    "UGYFEL_FK": "JOZSEFG",
                                    "SZOBA_FK": "180",
                                    "METTOL": "2016-06-04",
                                    "MEDDIG": "2016-06-09",
                                    "FELNOTT_SZAM": "2",
                                    "GYERMEK_SZAM": "2",
                                    "Össz fő": "4",
                                    "NEV": "Gyuris József",
                                    "Előző három foglalás átlaga": "NULL"
                                },
                                {
                                    "FOGLALAS_PK": "813",
                                    "UGYFEL_FK": "JOZSEFG",
                                    "SZOBA_FK": "14",
                                    "METTOL": "2016-08-24",
                                    "MEDDIG": "2016-08-27",
                                    "FELNOTT_SZAM": "2",
                                    "GYERMEK_SZAM": "1",
                                    "Össz fő": "3",
                                    "NEV": "Gyuris József",
                                    "Előző három foglalás átlaga": "4"
                                },
                                {
                                    "FOGLALAS_PK": "1569",
                                    "UGYFEL_FK": "JOZSEFG",
                                    "SZOBA_FK": "96",
                                    "METTOL": "2017-02-24",
                                    "MEDDIG": "2017-03-03",
                                    "FELNOTT_SZAM": "3",
                                    "GYERMEK_SZAM": "0",
                                    "Össz fő": "3",
                                    "NEV": "Gyuris József",
                                    "Előző három foglalás átlaga": "3"
                                },
                                {
                                    "FOGLALAS_PK": "1085",
                                    "UGYFEL_FK": "anita",
                                    "SZOBA_FK": "113",
                                    "METTOL": "2016-09-28",
                                    "MEDDIG": "2016-10-02",
                                    "FELNOTT_SZAM": "3",
                                    "GYERMEK_SZAM": "1",
                                    "Össz fő": "4",
                                    "NEV": "Hamvay-Kovács Anita",
                                    "Előző három foglalás átlaga": "NULL"
                                },
                                {
                                    "FOGLALAS_PK": "820",
                                    "UGYFEL_FK": "janos3",
                                    "SZOBA_FK": "20",
                                    "METTOL": "2016-08-24",
                                    "MEDDIG": "2016-08-25",
                                    "FELNOTT_SZAM": "3",
                                    "GYERMEK_SZAM": "0",
                                    "Össz fő": "3",
                                    "NEV": "Harangozó János",
                                    "Előző három foglalás átlaga": "NULL"
                                },
                                {
                                    "FOGLALAS_PK": "1118",
                                    "UGYFEL_FK": "janos3",
                                    "SZOBA_FK": "40",
                                    "METTOL": "2016-10-03",
                                    "MEDDIG": "2016-10-08",
                                    "FELNOTT_SZAM": "2",
                                    "GYERMEK_SZAM": "1",
                                    "Össz fő": "3",
                                    "NEV": "Harangozó János",
                                    "Előző három foglalás átlaga": "3"
                                },
                                {
                                    "FOGLALAS_PK": "1526",
                                    "UGYFEL_FK": "janos3",
                                    "SZOBA_FK": "166",
                                    "METTOL": "2017-02-12",
                                    "MEDDIG": "2017-02-14",
                                    "FELNOTT_SZAM": "2",
                                    "GYERMEK_SZAM": "1",
                                    "Össz fő": "3",
                                    "NEV": "Harangozó János",
                                    "Előző három foglalás átlaga": "3"
                                },
                                {
                                    "FOGLALAS_PK": "1180",
                                    "UGYFEL_FK": "agnes3",
                                    "SZOBA_FK": "104",
                                    "METTOL": "2016-10-22",
                                    "MEDDIG": "2016-10-23",
                                    "FELNOTT_SZAM": "2",
                                    "GYERMEK_SZAM": "1",
                                    "Össz fő": "3",
                                    "NEV": "Hartyánszky Ágnes",
                                    "Előző három foglalás átlaga": "NULL"
                                },
                                {
                                    "FOGLALAS_PK": "1544",
                                    "UGYFEL_FK": "agnes3",
                                    "SZOBA_FK": "3",
                                    "METTOL": "2017-02-16",
                                    "MEDDIG": "2017-02-21",
                                    "FELNOTT_SZAM": "3",
                                    "GYERMEK_SZAM": "0",
                                    "Össz fő": "3",
                                    "NEV": "Hartyánszky Ágnes",
                                    "Előző három foglalás átlaga": "3"
                                },
                                {
                                    "FOGLALAS_PK": "1028",
                                    "UGYFEL_FK": "norbert2",
                                    "SZOBA_FK": "15",
                                    "METTOL": "2016-07-13",
                                    "MEDDIG": "2016-07-15",
                                    "FELNOTT_SZAM": "2",
                                    "GYERMEK_SZAM": "1",
                                    "Össz fő": "3",
                                    "NEV": "Hegedűs Norbert",
                                    "Előző három foglalás átlaga": "NULL"
                                },
                                {
                                    "FOGLALAS_PK": "1482",
                                    "UGYFEL_FK": "norbert2",
                                    "SZOBA_FK": "100",
                                    "METTOL": "2017-01-29",
                                    "MEDDIG": "2017-02-05",
                                    "FELNOTT_SZAM": "1",
                                    "GYERMEK_SZAM": "2",
                                    "Össz fő": "3",
                                    "NEV": "Hegedűs Norbert",
                                    "Előző három foglalás átlaga": "3"
                                },
                                {
                                    "FOGLALAS_PK": "606",
                                    "UGYFEL_FK": "AGNESH",
                                    "SZOBA_FK": "31",
                                    "METTOL": "2016-04-27",
                                    "MEDDIG": "2016-04-28",
                                    "FELNOTT_SZAM": "1",
                                    "GYERMEK_SZAM": "3",
                                    "Össz fő": "4",
                                    "NEV": "Horváth Ágnes",
                                    "Előző három foglalás átlaga": "NULL"
                                },
                                {
                                    "FOGLALAS_PK": "1441",
                                    "UGYFEL_FK": "AGNESH",
                                    "SZOBA_FK": "185",
                                    "METTOL": "2017-01-16",
                                    "MEDDIG": "2017-01-23",
                                    "FELNOTT_SZAM": "2",
                                    "GYERMEK_SZAM": "1",
                                    "Össz fő": "3",
                                    "NEV": "Horváth Ágnes",
                                    "Előző három foglalás átlaga": "4"
                                },
                                {
                                    "FOGLALAS_PK": "912",
                                    "UGYFEL_FK": "ARPADH",
                                    "SZOBA_FK": "188",
                                    "METTOL": "2016-06-06",
                                    "MEDDIG": "2016-06-07",
                                    "FELNOTT_SZAM": "3",
                                    "GYERMEK_SZAM": "0",
                                    "Össz fő": "3",
                                    "NEV": "Horváth Árpád",
                                    "Előző három foglalás átlaga": "NULL"
                                },
                                {
                                    "FOGLALAS_PK": "1377",
                                    "UGYFEL_FK": "ARPADH",
                                    "SZOBA_FK": "27",
                                    "METTOL": "2016-12-18",
                                    "MEDDIG": "2016-12-19",
                                    "FELNOTT_SZAM": "2",
                                    "GYERMEK_SZAM": "1",
                                    "Össz fő": "3",
                                    "NEV": "Horváth Árpád",
                                    "Előző három foglalás átlaga": "3"
                                },
                                {
                                    "FOGLALAS_PK": "1315",
                                    "UGYFEL_FK": "balint",
                                    "SZOBA_FK": "100",
                                    "METTOL": "2016-11-24",
                                    "MEDDIG": "2016-11-29",
                                    "FELNOTT_SZAM": "1",
                                    "GYERMEK_SZAM": "2",
                                    "Össz fő": "3",
                                    "NEV": "Horváth Bálint",
                                    "Előző három foglalás átlaga": "NULL"
                                },
                                {
                                    "FOGLALAS_PK": "1570",
                                    "UGYFEL_FK": "katalin",
                                    "SZOBA_FK": "176",
                                    "METTOL": "2017-02-24",
                                    "MEDDIG": "2017-02-27",
                                    "FELNOTT_SZAM": "1",
                                    "GYERMEK_SZAM": "2",
                                    "Össz fő": "3",
                                    "NEV": "Horváth Katalin",
                                    "Előző három foglalás átlaga": "NULL"
                                },
                                {
                                    "FOGLALAS_PK": "821",
                                    "UGYFEL_FK": "kriszti",
                                    "SZOBA_FK": "34",
                                    "METTOL": "2016-08-24",
                                    "MEDDIG": "2016-08-25",
                                    "FELNOTT_SZAM": "2",
                                    "GYERMEK_SZAM": "1",
                                    "Össz fő": "3",
                                    "NEV": "Horváth Krisztina",
                                    "Előző három foglalás átlaga": "NULL"
                                },
                                {
                                    "FOGLALAS_PK": "1095",
                                    "UGYFEL_FK": "kriszti",
                                    "SZOBA_FK": "194",
                                    "METTOL": "2016-09-30",
                                    "MEDDIG": "2016-10-05",
                                    "FELNOTT_SZAM": "2",
                                    "GYERMEK_SZAM": "1",
                                    "Össz fő": "3",
                                    "NEV": "Horváth Krisztina",
                                    "Előző három foglalás átlaga": "3"
                                },
                                {
                                    "FOGLALAS_PK": "1105",
                                    "UGYFEL_FK": "kriszti",
                                    "SZOBA_FK": "150",
                                    "METTOL": "2016-10-01",
                                    "MEDDIG": "2016-10-02",
                                    "FELNOTT_SZAM": "2",
                                    "GYERMEK_SZAM": "1",
                                    "Össz fő": "3",
                                    "NEV": "Horváth Krisztina",
                                    "Előző három foglalás átlaga": "3"
                                },
                                {
                                    "FOGLALAS_PK": "1498",
                                    "UGYFEL_FK": "kriszti",
                                    "SZOBA_FK": "16",
                                    "METTOL": "2017-02-04",
                                    "MEDDIG": "2017-02-11",
                                    "FELNOTT_SZAM": "3",
                                    "GYERMEK_SZAM": "0",
                                    "Össz fő": "3",
                                    "NEV": "Horváth Krisztina",
                                    "Előző három foglalás átlaga": "3"
                                },
                                {
                                    "FOGLALAS_PK": "1584",
                                    "UGYFEL_FK": "kriszti",
                                    "SZOBA_FK": "67",
                                    "METTOL": "2017-03-03",
                                    "MEDDIG": "2017-03-04",
                                    "FELNOTT_SZAM": "1",
                                    "GYERMEK_SZAM": "2",
                                    "Össz fő": "3",
                                    "NEV": "Horváth Krisztina",
                                    "Előző három foglalás átlaga": "3"
                                },
                                {
                                    "FOGLALAS_PK": "1052",
                                    "UGYFEL_FK": "MARKH",
                                    "SZOBA_FK": "25",
                                    "METTOL": "2016-09-14",
                                    "MEDDIG": "2016-09-17",
                                    "FELNOTT_SZAM": "1",
                                    "GYERMEK_SZAM": "2",
                                    "Össz fő": "3",
                                    "NEV": "Horváth Márk",
                                    "Előző három foglalás átlaga": "NULL"
                                },
                                {
                                    "FOGLALAS_PK": "1082",
                                    "UGYFEL_FK": "MARKH",
                                    "SZOBA_FK": "27",
                                    "METTOL": "2016-09-26",
                                    "MEDDIG": "2016-10-01",
                                    "FELNOTT_SZAM": "1",
                                    "GYERMEK_SZAM": "3",
                                    "Össz fő": "4",
                                    "NEV": "Horváth Márk",
                                    "Előző három foglalás átlaga": "3"
                                },
                                {
                                    "FOGLALAS_PK": "1462",
                                    "UGYFEL_FK": "MARKH",
                                    "SZOBA_FK": "156",
                                    "METTOL": "2017-01-22",
                                    "MEDDIG": "2017-01-29",
                                    "FELNOTT_SZAM": "1",
                                    "GYERMEK_SZAM": "3",
                                    "Össz fő": "4",
                                    "NEV": "Horváth Márk",
                                    "Előző három foglalás átlaga": "3"
                                },
                                {
                                    "FOGLALAS_PK": "1178",
                                    "UGYFEL_FK": "nikolett3",
                                    "SZOBA_FK": "134",
                                    "METTOL": "2016-10-22",
                                    "MEDDIG": "2016-10-29",
                                    "FELNOTT_SZAM": "3",
                                    "GYERMEK_SZAM": "0",
                                    "Össz fő": "3",
                                    "NEV": "Horváth Nikolett",
                                    "Előző három foglalás átlaga": "NULL"
                                },
                                {
                                    "FOGLALAS_PK": "1027",
                                    "UGYFEL_FK": "ROBERTI",
                                    "SZOBA_FK": "68",
                                    "METTOL": "2016-07-12",
                                    "MEDDIG": "2016-07-19",
                                    "FELNOTT_SZAM": "2",
                                    "GYERMEK_SZAM": "2",
                                    "Össz fő": "4",
                                    "NEV": "Iván Róbert",
                                    "Előző három foglalás átlaga": "NULL"
                                },
                                {
                                    "FOGLALAS_PK": "1129",
                                    "UGYFEL_FK": "ROBERTI",
                                    "SZOBA_FK": "15",
                                    "METTOL": "2016-10-08",
                                    "MEDDIG": "2016-10-12",
                                    "FELNOTT_SZAM": "1",
                                    "GYERMEK_SZAM": "2",
                                    "Össz fő": "3",
                                    "NEV": "Iván Róbert",
                                    "Előző három foglalás átlaga": "4"
                                },
                                {
                                    "FOGLALAS_PK": "576",
                                    "UGYFEL_FK": "aron2",
                                    "SZOBA_FK": "125",
                                    "METTOL": "2016-04-11",
                                    "MEDDIG": "2016-04-12",
                                    "FELNOTT_SZAM": "1",
                                    "GYERMEK_SZAM": "2",
                                    "Össz fő": "3",
                                    "NEV": "Jakab Áron",
                                    "Előző három foglalás átlaga": "NULL"
                                },
                                {
                                    "FOGLALAS_PK": "1007",
                                    "UGYFEL_FK": "aron2",
                                    "SZOBA_FK": "122",
                                    "METTOL": "2016-07-04",
                                    "MEDDIG": "2016-07-06",
                                    "FELNOTT_SZAM": "2",
                                    "GYERMEK_SZAM": "1",
                                    "Össz fő": "3",
                                    "NEV": "Jakab Áron",
                                    "Előző három foglalás átlaga": "3"
                                },
                                {
                                    "FOGLALAS_PK": "1453",
                                    "UGYFEL_FK": "aron2",
                                    "SZOBA_FK": "86",
                                    "METTOL": "2017-01-17",
                                    "MEDDIG": "2017-01-18",
                                    "FELNOTT_SZAM": "1",
                                    "GYERMEK_SZAM": "2",
                                    "Össz fő": "3",
                                    "NEV": "Jakab Áron",
                                    "Előző három foglalás átlaga": "3"
                                },
                                {
                                    "FOGLALAS_PK": "1573",
                                    "UGYFEL_FK": "aron2",
                                    "SZOBA_FK": "59",
                                    "METTOL": "2017-02-26",
                                    "MEDDIG": "2017-02-27",
                                    "FELNOTT_SZAM": "2",
                                    "GYERMEK_SZAM": "1",
                                    "Össz fő": "3",
                                    "NEV": "Jakab Áron",
                                    "Előző három foglalás átlaga": "3"
                                },
                                {
                                    "FOGLALAS_PK": "598",
                                    "UGYFEL_FK": "ZSOLTJ",
                                    "SZOBA_FK": "31",
                                    "METTOL": "2016-04-24",
                                    "MEDDIG": "2016-04-26",
                                    "FELNOTT_SZAM": "2",
                                    "GYERMEK_SZAM": "2",
                                    "Össz fő": "4",
                                    "NEV": "Józsa Zsolt",
                                    "Előző három foglalás átlaga": "NULL"
                                },
                                {
                                    "FOGLALAS_PK": "1234",
                                    "UGYFEL_FK": "MIHALYJ",
                                    "SZOBA_FK": "66",
                                    "METTOL": "2016-11-01",
                                    "MEDDIG": "2016-11-04",
                                    "FELNOTT_SZAM": "1",
                                    "GYERMEK_SZAM": "2",
                                    "Össz fő": "3",
                                    "NEV": "Juhász Mihály",
                                    "Előző három foglalás átlaga": "NULL"
                                },
                                {
                                    "FOGLALAS_PK": "1505",
                                    "UGYFEL_FK": "MIHALYJ",
                                    "SZOBA_FK": "18",
                                    "METTOL": "2017-02-06",
                                    "MEDDIG": "2017-02-12",
                                    "FELNOTT_SZAM": "2",
                                    "GYERMEK_SZAM": "2",
                                    "Össz fő": "4",
                                    "NEV": "Juhász Mihály",
                                    "Előző három foglalás átlaga": "3"
                                },
                                {
                                    "FOGLALAS_PK": "605",
                                    "UGYFEL_FK": "marton",
                                    "SZOBA_FK": "111",
                                    "METTOL": "2016-04-27",
                                    "MEDDIG": "2016-05-04",
                                    "FELNOTT_SZAM": "2",
                                    "GYERMEK_SZAM": "1",
                                    "Össz fő": "3",
                                    "NEV": "Kalacsi Márton",
                                    "Előző három foglalás átlaga": "NULL"
                                },
                                {
                                    "FOGLALAS_PK": "916",
                                    "UGYFEL_FK": "marton",
                                    "SZOBA_FK": "17",
                                    "METTOL": "2016-06-06",
                                    "MEDDIG": "2016-06-08",
                                    "FELNOTT_SZAM": "1",
                                    "GYERMEK_SZAM": "2",
                                    "Össz fő": "3",
                                    "NEV": "Kalacsi Márton",
                                    "Előző három foglalás átlaga": "3"
                                },
                                {
                                    "FOGLALAS_PK": "1069",
                                    "UGYFEL_FK": "sandor",
                                    "SZOBA_FK": "2",
                                    "METTOL": "2016-09-19",
                                    "MEDDIG": "2016-09-26",
                                    "FELNOTT_SZAM": "3",
                                    "GYERMEK_SZAM": "1",
                                    "Össz fő": "4",
                                    "NEV": "Karasz Sándor",
                                    "Előző három foglalás átlaga": "NULL"
                                },
                                {
                                    "FOGLALAS_PK": "1204",
                                    "UGYFEL_FK": "RENATAK",
                                    "SZOBA_FK": "189",
                                    "METTOL": "2016-10-27",
                                    "MEDDIG": "2016-10-29",
                                    "FELNOTT_SZAM": "2",
                                    "GYERMEK_SZAM": "2",
                                    "Össz fő": "4",
                                    "NEV": "Kardos Renáta",
                                    "Előző három foglalás átlaga": "NULL"
                                },
                                {
                                    "FOGLALAS_PK": "1471",
                                    "UGYFEL_FK": "RENATAK",
                                    "SZOBA_FK": "145",
                                    "METTOL": "2017-01-23",
                                    "MEDDIG": "2017-01-24",
                                    "FELNOTT_SZAM": "2",
                                    "GYERMEK_SZAM": "1",
                                    "Össz fő": "3",
                                    "NEV": "Kardos Renáta",
                                    "Előző három foglalás átlaga": "4"
                                },
                                {
                                    "FOGLALAS_PK": "895",
                                    "UGYFEL_FK": "tihamer",
                                    "SZOBA_FK": "36",
                                    "METTOL": "2016-06-03",
                                    "MEDDIG": "2016-06-08",
                                    "FELNOTT_SZAM": "3",
                                    "GYERMEK_SZAM": "2",
                                    "Össz fő": "5",
                                    "NEV": "Kazy Tihamér",
                                    "Előző három foglalás átlaga": "NULL"
                                },
                                {
                                    "FOGLALAS_PK": "698",
                                    "UGYFEL_FK": "tihamer",
                                    "SZOBA_FK": "77",
                                    "METTOL": "2016-07-20",
                                    "MEDDIG": "2016-07-24",
                                    "FELNOTT_SZAM": "1",
                                    "GYERMEK_SZAM": "2",
                                    "Össz fő": "3",
                                    "NEV": "Kazy Tihamér",
                                    "Előző három foglalás átlaga": "5"
                                },
                                {
                                    "FOGLALAS_PK": "798",
                                    "UGYFEL_FK": "tihamer",
                                    "SZOBA_FK": "83",
                                    "METTOL": "2016-08-18",
                                    "MEDDIG": "2016-08-22",
                                    "FELNOTT_SZAM": "1",
                                    "GYERMEK_SZAM": "2",
                                    "Össz fő": "3",
                                    "NEV": "Kazy Tihamér",
                                    "Előző három foglalás átlaga": "4"
                                },
                                {
                                    "FOGLALAS_PK": "645",
                                    "UGYFEL_FK": "ARONK",
                                    "SZOBA_FK": "67",
                                    "METTOL": "2016-05-14",
                                    "MEDDIG": "2016-05-20",
                                    "FELNOTT_SZAM": "2",
                                    "GYERMEK_SZAM": "2",
                                    "Össz fő": "4",
                                    "NEV": "Kelemen Áron",
                                    "Előző három foglalás átlaga": "NULL"
                                },
                                {
                                    "FOGLALAS_PK": "932",
                                    "UGYFEL_FK": "ARONK",
                                    "SZOBA_FK": "40",
                                    "METTOL": "2016-06-07",
                                    "MEDDIG": "2016-06-13",
                                    "FELNOTT_SZAM": "1",
                                    "GYERMEK_SZAM": "2",
                                    "Össz fő": "3",
                                    "NEV": "Kelemen Áron",
                                    "Előző három foglalás átlaga": "4"
                                },
                                {
                                    "FOGLALAS_PK": "758",
                                    "UGYFEL_FK": "ARONK",
                                    "SZOBA_FK": "27",
                                    "METTOL": "2016-08-05",
                                    "MEDDIG": "2016-08-08",
                                    "FELNOTT_SZAM": "3",
                                    "GYERMEK_SZAM": "1",
                                    "Össz fő": "4",
                                    "NEV": "Kelemen Áron",
                                    "Előző három foglalás átlaga": "3"
                                },
                                {
                                    "FOGLALAS_PK": "1353",
                                    "UGYFEL_FK": "ARONK",
                                    "SZOBA_FK": "111",
                                    "METTOL": "2016-12-07",
                                    "MEDDIG": "2016-12-12",
                                    "FELNOTT_SZAM": "1",
                                    "GYERMEK_SZAM": "2",
                                    "Össz fő": "3",
                                    "NEV": "Kelemen Áron",
                                    "Előző három foglalás átlaga": "3"
                                },
                                {
                                    "FOGLALAS_PK": "972",
                                    "UGYFEL_FK": "BEATRIXK",
                                    "SZOBA_FK": "103",
                                    "METTOL": "2016-06-19",
                                    "MEDDIG": "2016-06-21",
                                    "FELNOTT_SZAM": "1",
                                    "GYERMEK_SZAM": "2",
                                    "Össz fő": "3",
                                    "NEV": "Kerényi Beatrix",
                                    "Előző három foglalás átlaga": "NULL"
                                },
                                {
                                    "FOGLALAS_PK": "768",
                                    "UGYFEL_FK": "BEATRIXK",
                                    "SZOBA_FK": "138",
                                    "METTOL": "2016-08-12",
                                    "MEDDIG": "2016-08-18",
                                    "FELNOTT_SZAM": "3",
                                    "GYERMEK_SZAM": "1",
                                    "Össz fő": "4",
                                    "NEV": "Kerényi Beatrix",
                                    "Előző három foglalás átlaga": "3"
                                },
                                {
                                    "FOGLALAS_PK": "1359",
                                    "UGYFEL_FK": "BEATRIXK",
                                    "SZOBA_FK": "88",
                                    "METTOL": "2016-12-12",
                                    "MEDDIG": "2016-12-14",
                                    "FELNOTT_SZAM": "2",
                                    "GYERMEK_SZAM": "1",
                                    "Össz fő": "3",
                                    "NEV": "Kerényi Beatrix",
                                    "Előző három foglalás átlaga": "3"
                                },
                                {
                                    "FOGLALAS_PK": "1370",
                                    "UGYFEL_FK": "BEATRIXK",
                                    "SZOBA_FK": "138",
                                    "METTOL": "2016-12-17",
                                    "MEDDIG": "2016-12-22",
                                    "FELNOTT_SZAM": "3",
                                    "GYERMEK_SZAM": "1",
                                    "Össz fő": "4",
                                    "NEV": "Kerényi Beatrix",
                                    "Előző három foglalás átlaga": "3"
                                },
                                {
                                    "FOGLALAS_PK": "1512",
                                    "UGYFEL_FK": "BEATRIXK",
                                    "SZOBA_FK": "55",
                                    "METTOL": "2017-02-08",
                                    "MEDDIG": "2017-02-09",
                                    "FELNOTT_SZAM": "1",
                                    "GYERMEK_SZAM": "2",
                                    "Össz fő": "3",
                                    "NEV": "Kerényi Beatrix",
                                    "Előző három foglalás átlaga": "3"
                                },
                                {
                                    "FOGLALAS_PK": "919",
                                    "UGYFEL_FK": "VIKTORK",
                                    "SZOBA_FK": "36",
                                    "METTOL": "2016-06-06",
                                    "MEDDIG": "2016-06-07",
                                    "FELNOTT_SZAM": "3",
                                    "GYERMEK_SZAM": "1",
                                    "Össz fő": "4",
                                    "NEV": "Keresztúri Viktor",
                                    "Előző három foglalás átlaga": "NULL"
                                },
                                {
                                    "FOGLALAS_PK": "1002",
                                    "UGYFEL_FK": "katalin4",
                                    "SZOBA_FK": "117",
                                    "METTOL": "2016-07-03",
                                    "MEDDIG": "2016-07-04",
                                    "FELNOTT_SZAM": "2",
                                    "GYERMEK_SZAM": "2",
                                    "Össz fő": "4",
                                    "NEV": "Kertész Katalin",
                                    "Előző három foglalás átlaga": "NULL"
                                },
                                {
                                    "FOGLALAS_PK": "1325",
                                    "UGYFEL_FK": "katalin4",
                                    "SZOBA_FK": "70",
                                    "METTOL": "2016-11-27",
                                    "MEDDIG": "2016-12-04",
                                    "FELNOTT_SZAM": "2",
                                    "GYERMEK_SZAM": "1",
                                    "Össz fő": "3",
                                    "NEV": "Kertész Katalin",
                                    "Előző három foglalás átlaga": "4"
                                },
                                {
                                    "FOGLALAS_PK": "1340",
                                    "UGYFEL_FK": "katalin4",
                                    "SZOBA_FK": "196",
                                    "METTOL": "2016-12-04",
                                    "MEDDIG": "2016-12-09",
                                    "FELNOTT_SZAM": "1",
                                    "GYERMEK_SZAM": "2",
                                    "Össz fő": "3",
                                    "NEV": "Kertész Katalin",
                                    "Előző három foglalás átlaga": "3"
                                },
                                {
                                    "FOGLALAS_PK": "635",
                                    "UGYFEL_FK": "daniel1",
                                    "SZOBA_FK": "97",
                                    "METTOL": "2016-05-10",
                                    "MEDDIG": "2016-05-13",
                                    "FELNOTT_SZAM": "2",
                                    "GYERMEK_SZAM": "2",
                                    "Össz fő": "4",
                                    "NEV": "Keszler Dániel",
                                    "Előző három foglalás átlaga": "NULL"
                                },
                                {
                                    "FOGLALAS_PK": "859",
                                    "UGYFEL_FK": "daniel1",
                                    "SZOBA_FK": "86",
                                    "METTOL": "2016-05-26",
                                    "MEDDIG": "2016-05-27",
                                    "FELNOTT_SZAM": "2",
                                    "GYERMEK_SZAM": "1",
                                    "Össz fő": "3",
                                    "NEV": "Keszler Dániel",
                                    "Előző három foglalás átlaga": "4"
                                },
                                {
                                    "FOGLALAS_PK": "1419",
                                    "UGYFEL_FK": "daniel1",
                                    "SZOBA_FK": "124",
                                    "METTOL": "2017-01-05",
                                    "MEDDIG": "2017-01-08",
                                    "FELNOTT_SZAM": "1",
                                    "GYERMEK_SZAM": "2",
                                    "Össz fő": "3",
                                    "NEV": "Keszler Dániel",
                                    "Előző három foglalás átlaga": "3"
                                },
                                {
                                    "FOGLALAS_PK": "1580",
                                    "UGYFEL_FK": "daniel1",
                                    "SZOBA_FK": "67",
                                    "METTOL": "2017-03-01",
                                    "MEDDIG": "2017-03-06",
                                    "FELNOTT_SZAM": "2",
                                    "GYERMEK_SZAM": "2",
                                    "Össz fő": "4",
                                    "NEV": "Keszler Dániel",
                                    "Előző három foglalás átlaga": "3"
                                },
                                {
                                    "FOGLALAS_PK": "588",
                                    "UGYFEL_FK": "mark",
                                    "SZOBA_FK": "156",
                                    "METTOL": "2016-04-19",
                                    "MEDDIG": "2016-04-26",
                                    "FELNOTT_SZAM": "2",
                                    "GYERMEK_SZAM": "2",
                                    "Össz fő": "4",
                                    "NEV": "Kispál Márk",
                                    "Előző három foglalás átlaga": "NULL"
                                },
                                {
                                    "FOGLALAS_PK": "958",
                                    "UGYFEL_FK": "mark",
                                    "SZOBA_FK": "181",
                                    "METTOL": "2016-06-13",
                                    "MEDDIG": "2016-06-18",
                                    "FELNOTT_SZAM": "2",
                                    "GYERMEK_SZAM": "1",
                                    "Össz fő": "3",
                                    "NEV": "Kispál Márk",
                                    "Előző három foglalás átlaga": "4"
                                },
                                {
                                    "FOGLALAS_PK": "764",
                                    "UGYFEL_FK": "mark",
                                    "SZOBA_FK": "197",
                                    "METTOL": "2016-08-09",
                                    "MEDDIG": "2016-08-16",
                                    "FELNOTT_SZAM": "2",
                                    "GYERMEK_SZAM": "1",
                                    "Össz fő": "3",
                                    "NEV": "Kispál Márk",
                                    "Előző három foglalás átlaga": "3"
                                },
                                {
                                    "FOGLALAS_PK": "869",
                                    "UGYFEL_FK": "adam1",
                                    "SZOBA_FK": "83",
                                    "METTOL": "2016-05-28",
                                    "MEDDIG": "2016-06-03",
                                    "FELNOTT_SZAM": "3",
                                    "GYERMEK_SZAM": "0",
                                    "Össz fő": "3",
                                    "NEV": "Kiss Ádám",
                                    "Előző három foglalás átlaga": "NULL"
                                },
                                {
                                    "FOGLALAS_PK": "809",
                                    "UGYFEL_FK": "andrea",
                                    "SZOBA_FK": "92",
                                    "METTOL": "2016-08-23",
                                    "MEDDIG": "2016-08-26",
                                    "FELNOTT_SZAM": "3",
                                    "GYERMEK_SZAM": "0",
                                    "Össz fő": "3",
                                    "NEV": "Kiss Andrea",
                                    "Előző három foglalás átlaga": "NULL"
                                },
                                {
                                    "FOGLALAS_PK": "1173",
                                    "UGYFEL_FK": "andrea",
                                    "SZOBA_FK": "18",
                                    "METTOL": "2016-10-21",
                                    "MEDDIG": "2016-10-27",
                                    "FELNOTT_SZAM": "2",
                                    "GYERMEK_SZAM": "2",
                                    "Össz fő": "4",
                                    "NEV": "Kiss Andrea",
                                    "Előző három foglalás átlaga": "3"
                                },
                                {
                                    "FOGLALAS_PK": "1394",
                                    "UGYFEL_FK": "lajos",
                                    "SZOBA_FK": "143",
                                    "METTOL": "2016-12-25",
                                    "MEDDIG": "2016-12-28",
                                    "FELNOTT_SZAM": "1",
                                    "GYERMEK_SZAM": "3",
                                    "Össz fő": "4",
                                    "NEV": "Kiss Lajos",
                                    "Előző három foglalás átlaga": "NULL"
                                },
                                {
                                    "FOGLALAS_PK": "662",
                                    "UGYFEL_FK": "andras41",
                                    "SZOBA_FK": "179",
                                    "METTOL": "2016-05-21",
                                    "MEDDIG": "2016-05-23",
                                    "FELNOTT_SZAM": "2",
                                    "GYERMEK_SZAM": "2",
                                    "Össz fő": "4",
                                    "NEV": "Komjáti András",
                                    "Előző három foglalás átlaga": "NULL"
                                },
                                {
                                    "FOGLALAS_PK": "927",
                                    "UGYFEL_FK": "andras41",
                                    "SZOBA_FK": "160",
                                    "METTOL": "2016-06-07",
                                    "MEDDIG": "2016-06-11",
                                    "FELNOTT_SZAM": "1",
                                    "GYERMEK_SZAM": "2",
                                    "Össz fő": "3",
                                    "NEV": "Komjáti András",
                                    "Előző három foglalás átlaga": "4"
                                },
                                {
                                    "FOGLALAS_PK": "731",
                                    "UGYFEL_FK": "andras41",
                                    "SZOBA_FK": "181",
                                    "METTOL": "2016-07-28",
                                    "MEDDIG": "2016-08-03",
                                    "FELNOTT_SZAM": "3",
                                    "GYERMEK_SZAM": "0",
                                    "Össz fő": "3",
                                    "NEV": "Komjáti András",
                                    "Előző három foglalás átlaga": "3"
                                },
                                {
                                    "FOGLALAS_PK": "796",
                                    "UGYFEL_FK": "andras41",
                                    "SZOBA_FK": "138",
                                    "METTOL": "2016-08-17",
                                    "MEDDIG": "2016-08-21",
                                    "FELNOTT_SZAM": "3",
                                    "GYERMEK_SZAM": "0",
                                    "Össz fő": "3",
                                    "NEV": "Komjáti András",
                                    "Előző három foglalás átlaga": "3"
                                },
                                {
                                    "FOGLALAS_PK": "1153",
                                    "UGYFEL_FK": "andras41",
                                    "SZOBA_FK": "186",
                                    "METTOL": "2016-10-15",
                                    "MEDDIG": "2016-10-18",
                                    "FELNOTT_SZAM": "1",
                                    "GYERMEK_SZAM": "2",
                                    "Össz fő": "3",
                                    "NEV": "Komjáti András",
                                    "Előző három foglalás átlaga": "3"
                                },
                                {
                                    "FOGLALAS_PK": "1298",
                                    "UGYFEL_FK": "andras41",
                                    "SZOBA_FK": "109",
                                    "METTOL": "2016-11-20",
                                    "MEDDIG": "2016-11-24",
                                    "FELNOTT_SZAM": "1",
                                    "GYERMEK_SZAM": "2",
                                    "Össz fő": "3",
                                    "NEV": "Komjáti András",
                                    "Előző három foglalás átlaga": "3"
                                },
                                {
                                    "FOGLALAS_PK": "890",
                                    "UGYFEL_FK": "GYONGYIK",
                                    "SZOBA_FK": "146",
                                    "METTOL": "2016-06-02",
                                    "MEDDIG": "2016-06-05",
                                    "FELNOTT_SZAM": "2",
                                    "GYERMEK_SZAM": "1",
                                    "Össz fő": "3",
                                    "NEV": "Kornseé Gyöngyi",
                                    "Előző három foglalás átlaga": "NULL"
                                },
                                {
                                    "FOGLALAS_PK": "795",
                                    "UGYFEL_FK": "GYONGYIK",
                                    "SZOBA_FK": "10",
                                    "METTOL": "2016-08-17",
                                    "MEDDIG": "2016-08-21",
                                    "FELNOTT_SZAM": "3",
                                    "GYERMEK_SZAM": "0",
                                    "Össz fő": "3",
                                    "NEV": "Kornseé Gyöngyi",
                                    "Előző három foglalás átlaga": "3"
                                },
                                {
                                    "FOGLALAS_PK": "1463",
                                    "UGYFEL_FK": "GYONGYIK",
                                    "SZOBA_FK": "185",
                                    "METTOL": "2017-01-22",
                                    "MEDDIG": "2017-01-29",
                                    "FELNOTT_SZAM": "3",
                                    "GYERMEK_SZAM": "0",
                                    "Össz fő": "3",
                                    "NEV": "Kornseé Gyöngyi",
                                    "Előző három foglalás átlaga": "3"
                                },
                                {
                                    "FOGLALAS_PK": "736",
                                    "UGYFEL_FK": "AGNESK",
                                    "SZOBA_FK": "66",
                                    "METTOL": "2016-07-29",
                                    "MEDDIG": "2016-08-01",
                                    "FELNOTT_SZAM": "2",
                                    "GYERMEK_SZAM": "1",
                                    "Össz fő": "3",
                                    "NEV": "Kovács Ágnes",
                                    "Előző három foglalás átlaga": "NULL"
                                },
                                {
                                    "FOGLALAS_PK": "969",
                                    "UGYFEL_FK": "bernadett2",
                                    "SZOBA_FK": "153",
                                    "METTOL": "2016-06-17",
                                    "MEDDIG": "2016-06-23",
                                    "FELNOTT_SZAM": "3",
                                    "GYERMEK_SZAM": "0",
                                    "Össz fő": "3",
                                    "NEV": "Kovács Bernadett",
                                    "Előző három foglalás átlaga": "NULL"
                                },
                                {
                                    "FOGLALAS_PK": "824",
                                    "UGYFEL_FK": "bernadett2",
                                    "SZOBA_FK": "48",
                                    "METTOL": "2016-08-25",
                                    "MEDDIG": "2016-08-27",
                                    "FELNOTT_SZAM": "1",
                                    "GYERMEK_SZAM": "2",
                                    "Össz fő": "3",
                                    "NEV": "Kovács Bernadett",
                                    "Előző három foglalás átlaga": "3"
                                },
                                {
                                    "FOGLALAS_PK": "1035",
                                    "UGYFEL_FK": "bernadett2",
                                    "SZOBA_FK": "18",
                                    "METTOL": "2016-09-07",
                                    "MEDDIG": "2016-09-13",
                                    "FELNOTT_SZAM": "2",
                                    "GYERMEK_SZAM": "1",
                                    "Össz fő": "3",
                                    "NEV": "Kovács Bernadett",
                                    "Előző három foglalás átlaga": "3"
                                },
                                {
                                    "FOGLALAS_PK": "1229",
                                    "UGYFEL_FK": "bernadett2",
                                    "SZOBA_FK": "79",
                                    "METTOL": "2016-10-30",
                                    "MEDDIG": "2016-11-06",
                                    "FELNOTT_SZAM": "3",
                                    "GYERMEK_SZAM": "0",
                                    "Össz fő": "3",
                                    "NEV": "Kovács Bernadett",
                                    "Előző három foglalás átlaga": "3"
                                },
                                {
                                    "FOGLALAS_PK": "1472",
                                    "UGYFEL_FK": "bernadett2",
                                    "SZOBA_FK": "118",
                                    "METTOL": "2017-01-24",
                                    "MEDDIG": "2017-01-30",
                                    "FELNOTT_SZAM": "1",
                                    "GYERMEK_SZAM": "2",
                                    "Össz fő": "3",
                                    "NEV": "Kovács Bernadett",
                                    "Előző három foglalás átlaga": "3"
                                },
                                {
                                    "FOGLALAS_PK": "633",
                                    "UGYFEL_FK": "katka",
                                    "SZOBA_FK": "187",
                                    "METTOL": "2016-05-09",
                                    "MEDDIG": "2016-05-15",
                                    "FELNOTT_SZAM": "2",
                                    "GYERMEK_SZAM": "1",
                                    "Össz fő": "3",
                                    "NEV": "Kovács Katalin",
                                    "Előző három foglalás átlaga": "NULL"
                                },
                                {
                                    "FOGLALAS_PK": "956",
                                    "UGYFEL_FK": "katka",
                                    "SZOBA_FK": "156",
                                    "METTOL": "2016-06-13",
                                    "MEDDIG": "2016-06-19",
                                    "FELNOTT_SZAM": "2",
                                    "GYERMEK_SZAM": "2",
                                    "Össz fő": "4",
                                    "NEV": "Kovács Katalin",
                                    "Előző három foglalás átlaga": "3"
                                },
                                {
                                    "FOGLALAS_PK": "1029",
                                    "UGYFEL_FK": "katka",
                                    "SZOBA_FK": "113",
                                    "METTOL": "2016-09-05",
                                    "MEDDIG": "2016-09-10",
                                    "FELNOTT_SZAM": "2",
                                    "GYERMEK_SZAM": "2",
                                    "Össz fő": "4",
                                    "NEV": "Kovács Katalin",
                                    "Előző három foglalás átlaga": "3"
                                },
                                {
                                    "FOGLALAS_PK": "1247",
                                    "UGYFEL_FK": "katka",
                                    "SZOBA_FK": "117",
                                    "METTOL": "2016-11-05",
                                    "MEDDIG": "2016-11-08",
                                    "FELNOTT_SZAM": "2",
                                    "GYERMEK_SZAM": "1",
                                    "Össz fő": "3",
                                    "NEV": "Kovács Katalin",
                                    "Előző három foglalás átlaga": "3"
                                },
                                {
                                    "FOGLALAS_PK": "1414",
                                    "UGYFEL_FK": "katka",
                                    "SZOBA_FK": "167",
                                    "METTOL": "2017-01-02",
                                    "MEDDIG": "2017-01-05",
                                    "FELNOTT_SZAM": "3",
                                    "GYERMEK_SZAM": "0",
                                    "Össz fő": "3",
                                    "NEV": "Kovács Katalin",
                                    "Előző három foglalás átlaga": "3"
                                },
                                {
                                    "FOGLALAS_PK": "1458",
                                    "UGYFEL_FK": "katka",
                                    "SZOBA_FK": "75",
                                    "METTOL": "2017-01-19",
                                    "MEDDIG": "2017-01-20",
                                    "FELNOTT_SZAM": "2",
                                    "GYERMEK_SZAM": "1",
                                    "Össz fő": "3",
                                    "NEV": "Kovács Katalin",
                                    "Előző három foglalás átlaga": "3"
                                },
                                {
                                    "FOGLALAS_PK": "794",
                                    "UGYFEL_FK": "MATEK",
                                    "SZOBA_FK": "168",
                                    "METTOL": "2016-08-17",
                                    "MEDDIG": "2016-08-21",
                                    "FELNOTT_SZAM": "2",
                                    "GYERMEK_SZAM": "2",
                                    "Össz fő": "4",
                                    "NEV": "Koza Máté",
                                    "Előző három foglalás átlaga": "NULL"
                                },
                                {
                                    "FOGLALAS_PK": "671",
                                    "UGYFEL_FK": "peter1",
                                    "SZOBA_FK": "96",
                                    "METTOL": "2016-07-14",
                                    "MEDDIG": "2016-07-18",
                                    "FELNOTT_SZAM": "3",
                                    "GYERMEK_SZAM": "0",
                                    "Össz fő": "3",
                                    "NEV": "Kozma Péter",
                                    "Előző három foglalás átlaga": "NULL"
                                },
                                {
                                    "FOGLALAS_PK": "1201",
                                    "UGYFEL_FK": "peter1",
                                    "SZOBA_FK": "137",
                                    "METTOL": "2016-10-26",
                                    "MEDDIG": "2016-11-01",
                                    "FELNOTT_SZAM": "1",
                                    "GYERMEK_SZAM": "2",
                                    "Össz fő": "3",
                                    "NEV": "Kozma Péter",
                                    "Előző három foglalás átlaga": "3"
                                },
                                {
                                    "FOGLALAS_PK": "1565",
                                    "UGYFEL_FK": "peter1",
                                    "SZOBA_FK": "160",
                                    "METTOL": "2017-02-23",
                                    "MEDDIG": "2017-02-26",
                                    "FELNOTT_SZAM": "2",
                                    "GYERMEK_SZAM": "1",
                                    "Össz fő": "3",
                                    "NEV": "Kozma Péter",
                                    "Előző három foglalás átlaga": "3"
                                },
                                {
                                    "FOGLALAS_PK": "1579",
                                    "UGYFEL_FK": "peter1",
                                    "SZOBA_FK": "127",
                                    "METTOL": "2017-02-28",
                                    "MEDDIG": "2017-03-05",
                                    "FELNOTT_SZAM": "2",
                                    "GYERMEK_SZAM": "1",
                                    "Össz fő": "3",
                                    "NEV": "Kozma Péter",
                                    "Előző három foglalás átlaga": "3"
                                },
                                {
                                    "FOGLALAS_PK": "877",
                                    "UGYFEL_FK": "nikoletta4",
                                    "SZOBA_FK": "74",
                                    "METTOL": "2016-05-30",
                                    "MEDDIG": "2016-06-03",
                                    "FELNOTT_SZAM": "3",
                                    "GYERMEK_SZAM": "0",
                                    "Össz fő": "3",
                                    "NEV": "Kő Nikoletta",
                                    "Előző három foglalás átlaga": "NULL"
                                },
                                {
                                    "FOGLALAS_PK": "775",
                                    "UGYFEL_FK": "nikoletta4",
                                    "SZOBA_FK": "12",
                                    "METTOL": "2016-08-13",
                                    "MEDDIG": "2016-08-17",
                                    "FELNOTT_SZAM": "2",
                                    "GYERMEK_SZAM": "1",
                                    "Össz fő": "3",
                                    "NEV": "Kő Nikoletta",
                                    "Előző három foglalás átlaga": "3"
                                },
                                {
                                    "FOGLALAS_PK": "1355",
                                    "UGYFEL_FK": "nikoletta4",
                                    "SZOBA_FK": "93",
                                    "METTOL": "2016-12-08",
                                    "MEDDIG": "2016-12-10",
                                    "FELNOTT_SZAM": "3",
                                    "GYERMEK_SZAM": "2",
                                    "Össz fő": "5",
                                    "NEV": "Kő Nikoletta",
                                    "Előző három foglalás átlaga": "3"
                                },
                                {
                                    "FOGLALAS_PK": "973",
                                    "UGYFEL_FK": "gabor1",
                                    "SZOBA_FK": "16",
                                    "METTOL": "2016-06-20",
                                    "MEDDIG": "2016-06-21",
                                    "FELNOTT_SZAM": "1",
                                    "GYERMEK_SZAM": "3",
                                    "Össz fő": "4",
                                    "NEV": "Köves Gábor",
                                    "Előző három foglalás átlaga": "NULL"
                                },
                                {
                                    "FOGLALAS_PK": "844",
                                    "UGYFEL_FK": "gabor1",
                                    "SZOBA_FK": "87",
                                    "METTOL": "2016-09-02",
                                    "MEDDIG": "2016-09-03",
                                    "FELNOTT_SZAM": "3",
                                    "GYERMEK_SZAM": "0",
                                    "Össz fő": "3",
                                    "NEV": "Köves Gábor",
                                    "Előző három foglalás átlaga": "4"
                                },
                                {
                                    "FOGLALAS_PK": "1083",
                                    "UGYFEL_FK": "emese",
                                    "SZOBA_FK": "109",
                                    "METTOL": "2016-09-27",
                                    "MEDDIG": "2016-09-28",
                                    "FELNOTT_SZAM": "2",
                                    "GYERMEK_SZAM": "1",
                                    "Össz fő": "3",
                                    "NEV": "Kuruc Emese",
                                    "Előző három foglalás átlaga": "NULL"
                                },
                                {
                                    "FOGLALAS_PK": "1313",
                                    "UGYFEL_FK": "emese",
                                    "SZOBA_FK": "143",
                                    "METTOL": "2016-11-23",
                                    "MEDDIG": "2016-11-27",
                                    "FELNOTT_SZAM": "1",
                                    "GYERMEK_SZAM": "3",
                                    "Össz fő": "4",
                                    "NEV": "Kuruc Emese",
                                    "Előző három foglalás átlaga": "3"
                                },
                                {
                                    "FOGLALAS_PK": "1354",
                                    "UGYFEL_FK": "emese",
                                    "SZOBA_FK": "107",
                                    "METTOL": "2016-12-07",
                                    "MEDDIG": "2016-12-08",
                                    "FELNOTT_SZAM": "2",
                                    "GYERMEK_SZAM": "1",
                                    "Össz fő": "3",
                                    "NEV": "Kuruc Emese",
                                    "Előző három foglalás átlaga": "3"
                                },
                                {
                                    "FOGLALAS_PK": "628",
                                    "UGYFEL_FK": "agnes",
                                    "SZOBA_FK": "48",
                                    "METTOL": "2016-05-09",
                                    "MEDDIG": "2016-05-11",
                                    "FELNOTT_SZAM": "3",
                                    "GYERMEK_SZAM": "0",
                                    "Össz fő": "3",
                                    "NEV": "Lengyel Ágnes",
                                    "Előző három foglalás átlaga": "NULL"
                                },
                                {
                                    "FOGLALAS_PK": "666",
                                    "UGYFEL_FK": "agnes",
                                    "SZOBA_FK": "3",
                                    "METTOL": "2016-07-13",
                                    "MEDDIG": "2016-07-19",
                                    "FELNOTT_SZAM": "2",
                                    "GYERMEK_SZAM": "1",
                                    "Össz fő": "3",
                                    "NEV": "Lengyel Ágnes",
                                    "Előző három foglalás átlaga": "3"
                                },
                                {
                                    "FOGLALAS_PK": "738",
                                    "UGYFEL_FK": "agnes",
                                    "SZOBA_FK": "1",
                                    "METTOL": "2016-07-30",
                                    "MEDDIG": "2016-08-06",
                                    "FELNOTT_SZAM": "3",
                                    "GYERMEK_SZAM": "0",
                                    "Össz fő": "3",
                                    "NEV": "Lengyel Ágnes",
                                    "Előző három foglalás átlaga": "3"
                                },
                                {
                                    "FOGLALAS_PK": "627",
                                    "UGYFEL_FK": "kornel4",
                                    "SZOBA_FK": "38",
                                    "METTOL": "2016-05-08",
                                    "MEDDIG": "2016-05-14",
                                    "FELNOTT_SZAM": "1",
                                    "GYERMEK_SZAM": "2",
                                    "Össz fő": "3",
                                    "NEV": "Lukács Kornél",
                                    "Előző három foglalás átlaga": "NULL"
                                },
                                {
                                    "FOGLALAS_PK": "888",
                                    "UGYFEL_FK": "kornel4",
                                    "SZOBA_FK": "49",
                                    "METTOL": "2016-06-02",
                                    "MEDDIG": "2016-06-09",
                                    "FELNOTT_SZAM": "1",
                                    "GYERMEK_SZAM": "2",
                                    "Össz fő": "3",
                                    "NEV": "Lukács Kornél",
                                    "Előző három foglalás átlaga": "3"
                                },
                                {
                                    "FOGLALAS_PK": "1077",
                                    "UGYFEL_FK": "kornel4",
                                    "SZOBA_FK": "145",
                                    "METTOL": "2016-09-23",
                                    "MEDDIG": "2016-09-24",
                                    "FELNOTT_SZAM": "1",
                                    "GYERMEK_SZAM": "2",
                                    "Össz fő": "3",
                                    "NEV": "Lukács Kornél",
                                    "Előző három foglalás átlaga": "3"
                                },
                                {
                                    "FOGLALAS_PK": "624",
                                    "UGYFEL_FK": "andi",
                                    "SZOBA_FK": "33",
                                    "METTOL": "2016-05-08",
                                    "MEDDIG": "2016-05-14",
                                    "FELNOTT_SZAM": "1",
                                    "GYERMEK_SZAM": "3",
                                    "Össz fő": "4",
                                    "NEV": "Maródi Andrea",
                                    "Előző három foglalás átlaga": "NULL"
                                },
                                {
                                    "FOGLALAS_PK": "1286",
                                    "UGYFEL_FK": "andi",
                                    "SZOBA_FK": "127",
                                    "METTOL": "2016-11-16",
                                    "MEDDIG": "2016-11-17",
                                    "FELNOTT_SZAM": "2",
                                    "GYERMEK_SZAM": "1",
                                    "Össz fő": "3",
                                    "NEV": "Maródi Andrea",
                                    "Előző három foglalás átlaga": "4"
                                },
                                {
                                    "FOGLALAS_PK": "1437",
                                    "UGYFEL_FK": "andi",
                                    "SZOBA_FK": "183",
                                    "METTOL": "2017-01-13",
                                    "MEDDIG": "2017-01-17",
                                    "FELNOTT_SZAM": "3",
                                    "GYERMEK_SZAM": "0",
                                    "Össz fő": "3",
                                    "NEV": "Maródi Andrea",
                                    "Előző három foglalás átlaga": "3"
                                },
                                {
                                    "FOGLALAS_PK": "971",
                                    "UGYFEL_FK": "SZABOLCSM",
                                    "SZOBA_FK": "35",
                                    "METTOL": "2016-06-18",
                                    "MEDDIG": "2016-06-21",
                                    "FELNOTT_SZAM": "1",
                                    "GYERMEK_SZAM": "2",
                                    "Össz fő": "3",
                                    "NEV": "Miklós Szabolcs",
                                    "Előző három foglalás átlaga": "NULL"
                                },
                                {
                                    "FOGLALAS_PK": "1208",
                                    "UGYFEL_FK": "SZABOLCSM",
                                    "SZOBA_FK": "58",
                                    "METTOL": "2016-10-28",
                                    "MEDDIG": "2016-11-03",
                                    "FELNOTT_SZAM": "2",
                                    "GYERMEK_SZAM": "1",
                                    "Össz fő": "3",
                                    "NEV": "Miklós Szabolcs",
                                    "Előző három foglalás átlaga": "3"
                                },
                                {
                                    "FOGLALAS_PK": "1497",
                                    "UGYFEL_FK": "SZABOLCSM",
                                    "SZOBA_FK": "179",
                                    "METTOL": "2017-02-04",
                                    "MEDDIG": "2017-02-05",
                                    "FELNOTT_SZAM": "2",
                                    "GYERMEK_SZAM": "1",
                                    "Össz fő": "3",
                                    "NEV": "Miklós Szabolcs",
                                    "Előző három foglalás átlaga": "3"
                                },
                                {
                                    "FOGLALAS_PK": "770",
                                    "UGYFEL_FK": "tamara2",
                                    "SZOBA_FK": "42",
                                    "METTOL": "2016-08-12",
                                    "MEDDIG": "2016-08-15",
                                    "FELNOTT_SZAM": "2",
                                    "GYERMEK_SZAM": "1",
                                    "Össz fő": "3",
                                    "NEV": "Miklós Tamara",
                                    "Előző három foglalás átlaga": "NULL"
                                },
                                {
                                    "FOGLALAS_PK": "871",
                                    "UGYFEL_FK": "norbert4",
                                    "SZOBA_FK": "82",
                                    "METTOL": "2016-05-29",
                                    "MEDDIG": "2016-06-03",
                                    "FELNOTT_SZAM": "3",
                                    "GYERMEK_SZAM": "0",
                                    "Össz fő": "3",
                                    "NEV": "Mile Norbert",
                                    "Előző három foglalás átlaga": "NULL"
                                },
                                {
                                    "FOGLALAS_PK": "963",
                                    "UGYFEL_FK": "norbert4",
                                    "SZOBA_FK": "74",
                                    "METTOL": "2016-06-16",
                                    "MEDDIG": "2016-06-17",
                                    "FELNOTT_SZAM": "3",
                                    "GYERMEK_SZAM": "1",
                                    "Össz fő": "4",
                                    "NEV": "Mile Norbert",
                                    "Előző három foglalás átlaga": "3"
                                },
                                {
                                    "FOGLALAS_PK": "967",
                                    "UGYFEL_FK": "norbert4",
                                    "SZOBA_FK": "123",
                                    "METTOL": "2016-06-16",
                                    "MEDDIG": "2016-06-21",
                                    "FELNOTT_SZAM": "3",
                                    "GYERMEK_SZAM": "0",
                                    "Össz fő": "3",
                                    "NEV": "Mile Norbert",
                                    "Előző három foglalás átlaga": "3"
                                },
                                {
                                    "FOGLALAS_PK": "1123",
                                    "UGYFEL_FK": "norbert4",
                                    "SZOBA_FK": "11",
                                    "METTOL": "2016-10-05",
                                    "MEDDIG": "2016-10-10",
                                    "FELNOTT_SZAM": "2",
                                    "GYERMEK_SZAM": "1",
                                    "Össz fő": "3",
                                    "NEV": "Mile Norbert",
                                    "Előző három foglalás átlaga": "3"
                                },
                                {
                                    "FOGLALAS_PK": "1211",
                                    "UGYFEL_FK": "norbert4",
                                    "SZOBA_FK": "178",
                                    "METTOL": "2016-10-28",
                                    "MEDDIG": "2016-10-31",
                                    "FELNOTT_SZAM": "2",
                                    "GYERMEK_SZAM": "1",
                                    "Össz fő": "3",
                                    "NEV": "Mile Norbert",
                                    "Előző három foglalás átlaga": "3"
                                },
                                {
                                    "FOGLALAS_PK": "1333",
                                    "UGYFEL_FK": "norbert4",
                                    "SZOBA_FK": "70",
                                    "METTOL": "2016-11-30",
                                    "MEDDIG": "2016-12-06",
                                    "FELNOTT_SZAM": "2",
                                    "GYERMEK_SZAM": "1",
                                    "Össz fő": "3",
                                    "NEV": "Mile Norbert",
                                    "Előző három foglalás átlaga": "3"
                                },
                                {
                                    "FOGLALAS_PK": "1020",
                                    "UGYFEL_FK": "KRISZTIANM",
                                    "SZOBA_FK": "12",
                                    "METTOL": "2016-07-09",
                                    "MEDDIG": "2016-07-14",
                                    "FELNOTT_SZAM": "2",
                                    "GYERMEK_SZAM": "1",
                                    "Össz fő": "3",
                                    "NEV": "Mogyródi Krisztián",
                                    "Előző három foglalás átlaga": "NULL"
                                },
                                {
                                    "FOGLALAS_PK": "749",
                                    "UGYFEL_FK": "KRISZTIANM",
                                    "SZOBA_FK": "172",
                                    "METTOL": "2016-08-02",
                                    "MEDDIG": "2016-08-08",
                                    "FELNOTT_SZAM": "2",
                                    "GYERMEK_SZAM": "2",
                                    "Össz fő": "4",
                                    "NEV": "Mogyródi Krisztián",
                                    "Előző három foglalás átlaga": "3"
                                },
                                {
                                    "FOGLALAS_PK": "1009",
                                    "UGYFEL_FK": "andras21",
                                    "SZOBA_FK": "71",
                                    "METTOL": "2016-07-04",
                                    "MEDDIG": "2016-07-05",
                                    "FELNOTT_SZAM": "2",
                                    "GYERMEK_SZAM": "1",
                                    "Össz fő": "3",
                                    "NEV": "Molnár András",
                                    "Előző három foglalás átlaga": "NULL"
                                },
                                {
                                    "FOGLALAS_PK": "1101",
                                    "UGYFEL_FK": "andras21",
                                    "SZOBA_FK": "89",
                                    "METTOL": "2016-10-01",
                                    "MEDDIG": "2016-10-06",
                                    "FELNOTT_SZAM": "3",
                                    "GYERMEK_SZAM": "0",
                                    "Össz fő": "3",
                                    "NEV": "Molnár András",
                                    "Előző három foglalás átlaga": "3"
                                },
                                {
                                    "FOGLALAS_PK": "1121",
                                    "UGYFEL_FK": "andras21",
                                    "SZOBA_FK": "115",
                                    "METTOL": "2016-10-04",
                                    "MEDDIG": "2016-10-11",
                                    "FELNOTT_SZAM": "1",
                                    "GYERMEK_SZAM": "2",
                                    "Össz fő": "3",
                                    "NEV": "Molnár András",
                                    "Előző három foglalás átlaga": "3"
                                },
                                {
                                    "FOGLALAS_PK": "1310",
                                    "UGYFEL_FK": "andras21",
                                    "SZOBA_FK": "155",
                                    "METTOL": "2016-11-23",
                                    "MEDDIG": "2016-11-24",
                                    "FELNOTT_SZAM": "1",
                                    "GYERMEK_SZAM": "3",
                                    "Össz fő": "4",
                                    "NEV": "Molnár András",
                                    "Előző három foglalás átlaga": "3"
                                },
                                {
                                    "FOGLALAS_PK": "933",
                                    "UGYFEL_FK": "balint1",
                                    "SZOBA_FK": "160",
                                    "METTOL": "2016-06-07",
                                    "MEDDIG": "2016-06-11",
                                    "FELNOTT_SZAM": "2",
                                    "GYERMEK_SZAM": "1",
                                    "Össz fő": "3",
                                    "NEV": "Molnár Bálint",
                                    "Előző három foglalás átlaga": "NULL"
                                },
                                {
                                    "FOGLALAS_PK": "924",
                                    "UGYFEL_FK": "balint1",
                                    "SZOBA_FK": "40",
                                    "METTOL": "2016-06-07",
                                    "MEDDIG": "2016-06-12",
                                    "FELNOTT_SZAM": "2",
                                    "GYERMEK_SZAM": "1",
                                    "Össz fő": "3",
                                    "NEV": "Molnár Bálint",
                                    "Előző három foglalás átlaga": "3"
                                },
                                {
                                    "FOGLALAS_PK": "1376",
                                    "UGYFEL_FK": "balint1",
                                    "SZOBA_FK": "84",
                                    "METTOL": "2016-12-17",
                                    "MEDDIG": "2016-12-22",
                                    "FELNOTT_SZAM": "3",
                                    "GYERMEK_SZAM": "0",
                                    "Össz fő": "3",
                                    "NEV": "Molnár Bálint",
                                    "Előző három foglalás átlaga": "3"
                                },
                                {
                                    "FOGLALAS_PK": "1404",
                                    "UGYFEL_FK": "balint1",
                                    "SZOBA_FK": "187",
                                    "METTOL": "2016-12-29",
                                    "MEDDIG": "2016-12-31",
                                    "FELNOTT_SZAM": "2",
                                    "GYERMEK_SZAM": "1",
                                    "Össz fő": "3",
                                    "NEV": "Molnár Bálint",
                                    "Előző három foglalás átlaga": "3"
                                },
                                {
                                    "FOGLALAS_PK": "772",
                                    "UGYFEL_FK": "eszter",
                                    "SZOBA_FK": "6",
                                    "METTOL": "2016-08-12",
                                    "MEDDIG": "2016-08-18",
                                    "FELNOTT_SZAM": "3",
                                    "GYERMEK_SZAM": "0",
                                    "Össz fő": "3",
                                    "NEV": "Molnár Eszter",
                                    "Előző három foglalás átlaga": "NULL"
                                },
                                {
                                    "FOGLALAS_PK": "1119",
                                    "UGYFEL_FK": "eszter",
                                    "SZOBA_FK": "83",
                                    "METTOL": "2016-10-04",
                                    "MEDDIG": "2016-10-10",
                                    "FELNOTT_SZAM": "1",
                                    "GYERMEK_SZAM": "2",
                                    "Össz fő": "3",
                                    "NEV": "Molnár Eszter",
                                    "Előző három foglalás átlaga": "3"
                                },
                                {
                                    "FOGLALAS_PK": "1193",
                                    "UGYFEL_FK": "eszter",
                                    "SZOBA_FK": "143",
                                    "METTOL": "2016-10-26",
                                    "MEDDIG": "2016-11-01",
                                    "FELNOTT_SZAM": "2",
                                    "GYERMEK_SZAM": "1",
                                    "Össz fő": "3",
                                    "NEV": "Molnár Eszter",
                                    "Előző három foglalás átlaga": "3"
                                },
                                {
                                    "FOGLALAS_PK": "1547",
                                    "UGYFEL_FK": "zsofi1",
                                    "SZOBA_FK": "48",
                                    "METTOL": "2017-02-18",
                                    "MEDDIG": "2017-02-19",
                                    "FELNOTT_SZAM": "1",
                                    "GYERMEK_SZAM": "2",
                                    "Össz fő": "3",
                                    "NEV": "Molnár Zsófi",
                                    "Előző három foglalás átlaga": "NULL"
                                },
                                {
                                    "FOGLALAS_PK": "778",
                                    "UGYFEL_FK": "laszlo2",
                                    "SZOBA_FK": "19",
                                    "METTOL": "2016-08-14",
                                    "MEDDIG": "2016-08-15",
                                    "FELNOTT_SZAM": "2",
                                    "GYERMEK_SZAM": "1",
                                    "Össz fő": "3",
                                    "NEV": "Móra László",
                                    "Előző három foglalás átlaga": "NULL"
                                },
                                {
                                    "FOGLALAS_PK": "1032",
                                    "UGYFEL_FK": "laszlo2",
                                    "SZOBA_FK": "146",
                                    "METTOL": "2016-09-05",
                                    "MEDDIG": "2016-09-10",
                                    "FELNOTT_SZAM": "2",
                                    "GYERMEK_SZAM": "1",
                                    "Össz fő": "3",
                                    "NEV": "Móra László",
                                    "Előző három foglalás átlaga": "3"
                                },
                                {
                                    "FOGLALAS_PK": "1320",
                                    "UGYFEL_FK": "laszlo2",
                                    "SZOBA_FK": "85",
                                    "METTOL": "2016-11-25",
                                    "MEDDIG": "2016-11-26",
                                    "FELNOTT_SZAM": "2",
                                    "GYERMEK_SZAM": "1",
                                    "Össz fő": "3",
                                    "NEV": "Móra László",
                                    "Előző három foglalás átlaga": "3"
                                },
                                {
                                    "FOGLALAS_PK": "1361",
                                    "UGYFEL_FK": "ARPADM",
                                    "SZOBA_FK": "140",
                                    "METTOL": "2016-12-14",
                                    "MEDDIG": "2016-12-17",
                                    "FELNOTT_SZAM": "1",
                                    "GYERMEK_SZAM": "2",
                                    "Össz fő": "3",
                                    "NEV": "Móricz Árpád",
                                    "Előző három foglalás átlaga": "NULL"
                                },
                                {
                                    "FOGLALAS_PK": "1522",
                                    "UGYFEL_FK": "ARPADM",
                                    "SZOBA_FK": "104",
                                    "METTOL": "2017-02-12",
                                    "MEDDIG": "2017-02-14",
                                    "FELNOTT_SZAM": "1",
                                    "GYERMEK_SZAM": "2",
                                    "Össz fő": "3",
                                    "NEV": "Móricz Árpád",
                                    "Előző három foglalás átlaga": "3"
                                },
                                {
                                    "FOGLALAS_PK": "1405",
                                    "UGYFEL_FK": "henrik3",
                                    "SZOBA_FK": "90",
                                    "METTOL": "2016-12-29",
                                    "MEDDIG": "2017-01-03",
                                    "FELNOTT_SZAM": "3",
                                    "GYERMEK_SZAM": "0",
                                    "Össz fő": "3",
                                    "NEV": "Nádudvari Henrik",
                                    "Előző három foglalás átlaga": "NULL"
                                },
                                {
                                    "FOGLALAS_PK": "1476",
                                    "UGYFEL_FK": "henrik3",
                                    "SZOBA_FK": "27",
                                    "METTOL": "2017-01-27",
                                    "MEDDIG": "2017-01-28",
                                    "FELNOTT_SZAM": "2",
                                    "GYERMEK_SZAM": "1",
                                    "Össz fő": "3",
                                    "NEV": "Nádudvari Henrik",
                                    "Előző három foglalás átlaga": "3"
                                },
                                {
                                    "FOGLALAS_PK": "593",
                                    "UGYFEL_FK": "gabriella1",
                                    "SZOBA_FK": "77",
                                    "METTOL": "2016-04-21",
                                    "MEDDIG": "2016-04-24",
                                    "FELNOTT_SZAM": "3",
                                    "GYERMEK_SZAM": "0",
                                    "Össz fő": "3",
                                    "NEV": "Nagy Gabriella",
                                    "Előző három foglalás átlaga": "NULL"
                                },
                                {
                                    "FOGLALAS_PK": "1022",
                                    "UGYFEL_FK": "gabriella1",
                                    "SZOBA_FK": "181",
                                    "METTOL": "2016-07-10",
                                    "MEDDIG": "2016-07-11",
                                    "FELNOTT_SZAM": "3",
                                    "GYERMEK_SZAM": "0",
                                    "Össz fő": "3",
                                    "NEV": "Nagy Gabriella",
                                    "Előző három foglalás átlaga": "3"
                                },
                                {
                                    "FOGLALAS_PK": "1496",
                                    "UGYFEL_FK": "gabriella1",
                                    "SZOBA_FK": "61",
                                    "METTOL": "2017-02-04",
                                    "MEDDIG": "2017-02-11",
                                    "FELNOTT_SZAM": "1",
                                    "GYERMEK_SZAM": "2",
                                    "Össz fő": "3",
                                    "NEV": "Nagy Gabriella",
                                    "Előző három foglalás átlaga": "3"
                                },
                                {
                                    "FOGLALAS_PK": "1556",
                                    "UGYFEL_FK": "gabriella1",
                                    "SZOBA_FK": "38",
                                    "METTOL": "2017-02-21",
                                    "MEDDIG": "2017-02-27",
                                    "FELNOTT_SZAM": "2",
                                    "GYERMEK_SZAM": "1",
                                    "Össz fő": "3",
                                    "NEV": "Nagy Gabriella",
                                    "Előző három foglalás átlaga": "3"
                                },
                                {
                                    "FOGLALAS_PK": "1493",
                                    "UGYFEL_FK": "julia4",
                                    "SZOBA_FK": "120",
                                    "METTOL": "2017-02-04",
                                    "MEDDIG": "2017-02-11",
                                    "FELNOTT_SZAM": "1",
                                    "GYERMEK_SZAM": "3",
                                    "Össz fő": "4",
                                    "NEV": "Nagy Júlia",
                                    "Előző három foglalás átlaga": "NULL"
                                },
                                {
                                    "FOGLALAS_PK": "1111",
                                    "UGYFEL_FK": "LASZLON",
                                    "SZOBA_FK": "132",
                                    "METTOL": "2016-10-01",
                                    "MEDDIG": "2016-10-04",
                                    "FELNOTT_SZAM": "2",
                                    "GYERMEK_SZAM": "1",
                                    "Össz fő": "3",
                                    "NEV": "Nagy László",
                                    "Előző három foglalás átlaga": "NULL"
                                },
                                {
                                    "FOGLALAS_PK": "1548",
                                    "UGYFEL_FK": "LASZLON",
                                    "SZOBA_FK": "88",
                                    "METTOL": "2017-02-18",
                                    "MEDDIG": "2017-02-25",
                                    "FELNOTT_SZAM": "2",
                                    "GYERMEK_SZAM": "1",
                                    "Össz fő": "3",
                                    "NEV": "Nagy László",
                                    "Előző három foglalás átlaga": "3"
                                },
                                {
                                    "FOGLALAS_PK": "623",
                                    "UGYFEL_FK": "csongor3",
                                    "SZOBA_FK": "96",
                                    "METTOL": "2016-05-08",
                                    "MEDDIG": "2016-05-15",
                                    "FELNOTT_SZAM": "3",
                                    "GYERMEK_SZAM": "0",
                                    "Össz fő": "3",
                                    "NEV": "Nagymihály Csongor",
                                    "Előző három foglalás átlaga": "NULL"
                                },
                                {
                                    "FOGLALAS_PK": "943",
                                    "UGYFEL_FK": "csongor3",
                                    "SZOBA_FK": "115",
                                    "METTOL": "2016-06-10",
                                    "MEDDIG": "2016-06-17",
                                    "FELNOTT_SZAM": "3",
                                    "GYERMEK_SZAM": "0",
                                    "Össz fő": "3",
                                    "NEV": "Nagymihály Csongor",
                                    "Előző három foglalás átlaga": "3"
                                },
                                {
                                    "FOGLALAS_PK": "1021",
                                    "UGYFEL_FK": "csongor3",
                                    "SZOBA_FK": "179",
                                    "METTOL": "2016-07-09",
                                    "MEDDIG": "2016-07-10",
                                    "FELNOTT_SZAM": "3",
                                    "GYERMEK_SZAM": "1",
                                    "Össz fő": "4",
                                    "NEV": "Nagymihály Csongor",
                                    "Előző három foglalás átlaga": "3"
                                },
                                {
                                    "FOGLALAS_PK": "1277",
                                    "UGYFEL_FK": "csongor3",
                                    "SZOBA_FK": "82",
                                    "METTOL": "2016-11-12",
                                    "MEDDIG": "2016-11-17",
                                    "FELNOTT_SZAM": "2",
                                    "GYERMEK_SZAM": "1",
                                    "Össz fő": "3",
                                    "NEV": "Nagymihály Csongor",
                                    "Előző három foglalás átlaga": "3"
                                },
                                {
                                    "FOGLALAS_PK": "1531",
                                    "UGYFEL_FK": "csongor3",
                                    "SZOBA_FK": "124",
                                    "METTOL": "2017-02-13",
                                    "MEDDIG": "2017-02-19",
                                    "FELNOTT_SZAM": "3",
                                    "GYERMEK_SZAM": "0",
                                    "Össz fő": "3",
                                    "NEV": "Nagymihály Csongor",
                                    "Előző három foglalás átlaga": "3"
                                },
                                {
                                    "FOGLALAS_PK": "696",
                                    "UGYFEL_FK": "lala",
                                    "SZOBA_FK": "19",
                                    "METTOL": "2016-07-20",
                                    "MEDDIG": "2016-07-21",
                                    "FELNOTT_SZAM": "2",
                                    "GYERMEK_SZAM": "1",
                                    "Össz fő": "3",
                                    "NEV": "Nagymihály Lajos",
                                    "Előző három foglalás átlaga": "NULL"
                                },
                                {
                                    "FOGLALAS_PK": "716",
                                    "UGYFEL_FK": "lala",
                                    "SZOBA_FK": "118",
                                    "METTOL": "2016-07-26",
                                    "MEDDIG": "2016-07-27",
                                    "FELNOTT_SZAM": "1",
                                    "GYERMEK_SZAM": "2",
                                    "Össz fő": "3",
                                    "NEV": "Nagymihály Lajos",
                                    "Előző három foglalás átlaga": "3"
                                },
                                {
                                    "FOGLALAS_PK": "1223",
                                    "UGYFEL_FK": "lala",
                                    "SZOBA_FK": "123",
                                    "METTOL": "2016-10-30",
                                    "MEDDIG": "2016-10-31",
                                    "FELNOTT_SZAM": "3",
                                    "GYERMEK_SZAM": "0",
                                    "Össz fő": "3",
                                    "NEV": "Nagymihály Lajos",
                                    "Előző három foglalás átlaga": "3"
                                },
                                {
                                    "FOGLALAS_PK": "1425",
                                    "UGYFEL_FK": "lala",
                                    "SZOBA_FK": "44",
                                    "METTOL": "2017-01-08",
                                    "MEDDIG": "2017-01-10",
                                    "FELNOTT_SZAM": "2",
                                    "GYERMEK_SZAM": "1",
                                    "Össz fő": "3",
                                    "NEV": "Nagymihály Lajos",
                                    "Előző három foglalás átlaga": "3"
                                },
                                {
                                    "FOGLALAS_PK": "1232",
                                    "UGYFEL_FK": "andrea4",
                                    "SZOBA_FK": "55",
                                    "METTOL": "2016-10-30",
                                    "MEDDIG": "2016-11-06",
                                    "FELNOTT_SZAM": "1",
                                    "GYERMEK_SZAM": "2",
                                    "Össz fő": "3",
                                    "NEV": "Neizer Andrea",
                                    "Előző három foglalás átlaga": "NULL"
                                },
                                {
                                    "FOGLALAS_PK": "962",
                                    "UGYFEL_FK": "georgij",
                                    "SZOBA_FK": "117",
                                    "METTOL": "2016-06-16",
                                    "MEDDIG": "2016-06-20",
                                    "FELNOTT_SZAM": "1",
                                    "GYERMEK_SZAM": "2",
                                    "Össz fő": "3",
                                    "NEV": "Nyíri Georgij",
                                    "Előző három foglalás átlaga": "NULL"
                                },
                                {
                                    "FOGLALAS_PK": "788",
                                    "UGYFEL_FK": "georgij",
                                    "SZOBA_FK": "3",
                                    "METTOL": "2016-08-16",
                                    "MEDDIG": "2016-08-22",
                                    "FELNOTT_SZAM": "2",
                                    "GYERMEK_SZAM": "2",
                                    "Össz fő": "4",
                                    "NEV": "Nyíri Georgij",
                                    "Előző három foglalás átlaga": "3"
                                },
                                {
                                    "FOGLALAS_PK": "1064",
                                    "UGYFEL_FK": "georgij",
                                    "SZOBA_FK": "139",
                                    "METTOL": "2016-09-18",
                                    "MEDDIG": "2016-09-24",
                                    "FELNOTT_SZAM": "2",
                                    "GYERMEK_SZAM": "1",
                                    "Össz fő": "3",
                                    "NEV": "Nyíri Georgij",
                                    "Előző három foglalás átlaga": "3"
                                },
                                {
                                    "FOGLALAS_PK": "660",
                                    "UGYFEL_FK": "ATTILAO",
                                    "SZOBA_FK": "21",
                                    "METTOL": "2016-05-21",
                                    "MEDDIG": "2016-05-26",
                                    "FELNOTT_SZAM": "1",
                                    "GYERMEK_SZAM": "2",
                                    "Össz fő": "3",
                                    "NEV": "Opra Attila",
                                    "Előző három foglalás átlaga": "NULL"
                                },
                                {
                                    "FOGLALAS_PK": "903",
                                    "UGYFEL_FK": "ATTILAO",
                                    "SZOBA_FK": "192",
                                    "METTOL": "2016-06-04",
                                    "MEDDIG": "2016-06-11",
                                    "FELNOTT_SZAM": "2",
                                    "GYERMEK_SZAM": "1",
                                    "Össz fő": "3",
                                    "NEV": "Opra Attila",
                                    "Előző három foglalás átlaga": "3"
                                },
                                {
                                    "FOGLALAS_PK": "1559",
                                    "UGYFEL_FK": "ATTILAO",
                                    "SZOBA_FK": "180",
                                    "METTOL": "2017-02-22",
                                    "MEDDIG": "2017-02-25",
                                    "FELNOTT_SZAM": "2",
                                    "GYERMEK_SZAM": "1",
                                    "Össz fő": "3",
                                    "NEV": "Opra Attila",
                                    "Előző három foglalás átlaga": "3"
                                },
                                {
                                    "FOGLALAS_PK": "925",
                                    "UGYFEL_FK": "BERNADETTO",
                                    "SZOBA_FK": "185",
                                    "METTOL": "2016-06-07",
                                    "MEDDIG": "2016-06-13",
                                    "FELNOTT_SZAM": "2",
                                    "GYERMEK_SZAM": "1",
                                    "Össz fő": "3",
                                    "NEV": "Orbán Bernadett",
                                    "Előző három foglalás átlaga": "NULL"
                                },
                                {
                                    "FOGLALAS_PK": "942",
                                    "UGYFEL_FK": "BERNADETTO",
                                    "SZOBA_FK": "92",
                                    "METTOL": "2016-06-10",
                                    "MEDDIG": "2016-06-16",
                                    "FELNOTT_SZAM": "3",
                                    "GYERMEK_SZAM": "1",
                                    "Össz fő": "4",
                                    "NEV": "Orbán Bernadett",
                                    "Előző három foglalás átlaga": "3"
                                },
                                {
                                    "FOGLALAS_PK": "1411",
                                    "UGYFEL_FK": "BERNADETTO",
                                    "SZOBA_FK": "35",
                                    "METTOL": "2017-01-01",
                                    "MEDDIG": "2017-01-02",
                                    "FELNOTT_SZAM": "2",
                                    "GYERMEK_SZAM": "1",
                                    "Össz fő": "3",
                                    "NEV": "Orbán Bernadett",
                                    "Előző három foglalás átlaga": "3"
                                },
                                {
                                    "FOGLALAS_PK": "1262",
                                    "UGYFEL_FK": "ferenc1",
                                    "SZOBA_FK": "154",
                                    "METTOL": "2016-11-07",
                                    "MEDDIG": "2016-11-08",
                                    "FELNOTT_SZAM": "1",
                                    "GYERMEK_SZAM": "2",
                                    "Össz fő": "3",
                                    "NEV": "Orosz Ferenc",
                                    "Előző három foglalás átlaga": "NULL"
                                },
                                {
                                    "FOGLALAS_PK": "861",
                                    "UGYFEL_FK": "GYORGYO",
                                    "SZOBA_FK": "124",
                                    "METTOL": "2016-05-27",
                                    "MEDDIG": "2016-05-28",
                                    "FELNOTT_SZAM": "2",
                                    "GYERMEK_SZAM": "1",
                                    "Össz fő": "3",
                                    "NEV": "Oroszi György",
                                    "Előző három foglalás átlaga": "NULL"
                                },
                                {
                                    "FOGLALAS_PK": "734",
                                    "UGYFEL_FK": "GYORGYO",
                                    "SZOBA_FK": "55",
                                    "METTOL": "2016-07-28",
                                    "MEDDIG": "2016-08-03",
                                    "FELNOTT_SZAM": "1",
                                    "GYERMEK_SZAM": "2",
                                    "Össz fő": "3",
                                    "NEV": "Oroszi György",
                                    "Előző három foglalás átlaga": "3"
                                },
                                {
                                    "FOGLALAS_PK": "1566",
                                    "UGYFEL_FK": "GYORGYO",
                                    "SZOBA_FK": "115",
                                    "METTOL": "2017-02-24",
                                    "MEDDIG": "2017-02-25",
                                    "FELNOTT_SZAM": "3",
                                    "GYERMEK_SZAM": "0",
                                    "Össz fő": "3",
                                    "NEV": "Oroszi György",
                                    "Előző három foglalás átlaga": "3"
                                },
                                {
                                    "FOGLALAS_PK": "1150",
                                    "UGYFEL_FK": "arpad2",
                                    "SZOBA_FK": "28",
                                    "METTOL": "2016-10-13",
                                    "MEDDIG": "2016-10-19",
                                    "FELNOTT_SZAM": "2",
                                    "GYERMEK_SZAM": "1",
                                    "Össz fő": "3",
                                    "NEV": "Ötvös Árpád",
                                    "Előző három foglalás átlaga": "NULL"
                                },
                                {
                                    "FOGLALAS_PK": "1387",
                                    "UGYFEL_FK": "arpad2",
                                    "SZOBA_FK": "197",
                                    "METTOL": "2016-12-24",
                                    "MEDDIG": "2016-12-27",
                                    "FELNOTT_SZAM": "2",
                                    "GYERMEK_SZAM": "1",
                                    "Össz fő": "3",
                                    "NEV": "Ötvös Árpád",
                                    "Előző három foglalás átlaga": "3"
                                },
                                {
                                    "FOGLALAS_PK": "1550",
                                    "UGYFEL_FK": "arpad2",
                                    "SZOBA_FK": "51",
                                    "METTOL": "2017-02-18",
                                    "MEDDIG": "2017-02-19",
                                    "FELNOTT_SZAM": "3",
                                    "GYERMEK_SZAM": "1",
                                    "Össz fő": "4",
                                    "NEV": "Ötvös Árpád",
                                    "Előző három foglalás átlaga": "3"
                                },
                                {
                                    "FOGLALAS_PK": "585",
                                    "UGYFEL_FK": "polla",
                                    "SZOBA_FK": "70",
                                    "METTOL": "2016-04-17",
                                    "MEDDIG": "2016-04-22",
                                    "FELNOTT_SZAM": "1",
                                    "GYERMEK_SZAM": "2",
                                    "Össz fő": "3",
                                    "NEV": "Palágyi Polla",
                                    "Előző három foglalás átlaga": "NULL"
                                },
                                {
                                    "FOGLALAS_PK": "792",
                                    "UGYFEL_FK": "polla",
                                    "SZOBA_FK": "168",
                                    "METTOL": "2016-08-16",
                                    "MEDDIG": "2016-08-19",
                                    "FELNOTT_SZAM": "1",
                                    "GYERMEK_SZAM": "3",
                                    "Össz fő": "4",
                                    "NEV": "Palágyi Polla",
                                    "Előző három foglalás átlaga": "3"
                                },
                                {
                                    "FOGLALAS_PK": "1011",
                                    "UGYFEL_FK": "JANOSP",
                                    "SZOBA_FK": "198",
                                    "METTOL": "2016-07-04",
                                    "MEDDIG": "2016-07-11",
                                    "FELNOTT_SZAM": "3",
                                    "GYERMEK_SZAM": "0",
                                    "Össz fő": "3",
                                    "NEV": "Pálinkás János",
                                    "Előző három foglalás átlaga": "NULL"
                                },
                                {
                                    "FOGLALAS_PK": "982",
                                    "UGYFEL_FK": "imre1",
                                    "SZOBA_FK": "77",
                                    "METTOL": "2016-06-23",
                                    "MEDDIG": "2016-06-26",
                                    "FELNOTT_SZAM": "2",
                                    "GYERMEK_SZAM": "2",
                                    "Össz fő": "4",
                                    "NEV": "Papp Imre",
                                    "Előző három foglalás átlaga": "NULL"
                                },
                                {
                                    "FOGLALAS_PK": "810",
                                    "UGYFEL_FK": "imre1",
                                    "SZOBA_FK": "109",
                                    "METTOL": "2016-08-23",
                                    "MEDDIG": "2016-08-25",
                                    "FELNOTT_SZAM": "1",
                                    "GYERMEK_SZAM": "2",
                                    "Össz fő": "3",
                                    "NEV": "Papp Imre",
                                    "Előző három foglalás átlaga": "4"
                                },
                                {
                                    "FOGLALAS_PK": "1499",
                                    "UGYFEL_FK": "imre1",
                                    "SZOBA_FK": "113",
                                    "METTOL": "2017-02-05",
                                    "MEDDIG": "2017-02-07",
                                    "FELNOTT_SZAM": "3",
                                    "GYERMEK_SZAM": "1",
                                    "Össz fő": "4",
                                    "NEV": "Papp Imre",
                                    "Előző három foglalás átlaga": "3"
                                },
                                {
                                    "FOGLALAS_PK": "1038",
                                    "UGYFEL_FK": "ROBERTP",
                                    "SZOBA_FK": "3",
                                    "METTOL": "2016-09-08",
                                    "MEDDIG": "2016-09-11",
                                    "FELNOTT_SZAM": "1",
                                    "GYERMEK_SZAM": "3",
                                    "Össz fő": "4",
                                    "NEV": "Pásztor Róbert",
                                    "Előző három foglalás átlaga": "NULL"
                                },
                                {
                                    "FOGLALAS_PK": "957",
                                    "UGYFEL_FK": "brigitta3",
                                    "SZOBA_FK": "187",
                                    "METTOL": "2016-06-13",
                                    "MEDDIG": "2016-06-17",
                                    "FELNOTT_SZAM": "3",
                                    "GYERMEK_SZAM": "0",
                                    "Össz fő": "3",
                                    "NEV": "Pataki Brigitta",
                                    "Előző három foglalás átlaga": "NULL"
                                },
                                {
                                    "FOGLALAS_PK": "1243",
                                    "UGYFEL_FK": "brigitta3",
                                    "SZOBA_FK": "48",
                                    "METTOL": "2016-11-03",
                                    "MEDDIG": "2016-11-09",
                                    "FELNOTT_SZAM": "3",
                                    "GYERMEK_SZAM": "0",
                                    "Össz fő": "3",
                                    "NEV": "Pataki Brigitta",
                                    "Előző három foglalás átlaga": "3"
                                },
                                {
                                    "FOGLALAS_PK": "1183",
                                    "UGYFEL_FK": "robert2",
                                    "SZOBA_FK": "185",
                                    "METTOL": "2016-10-23",
                                    "MEDDIG": "2016-10-28",
                                    "FELNOTT_SZAM": "1",
                                    "GYERMEK_SZAM": "2",
                                    "Össz fő": "3",
                                    "NEV": "Patay Róbert",
                                    "Előző három foglalás átlaga": "NULL"
                                },
                                {
                                    "FOGLALAS_PK": "1423",
                                    "UGYFEL_FK": "eva2",
                                    "SZOBA_FK": "9",
                                    "METTOL": "2017-01-06",
                                    "MEDDIG": "2017-01-09",
                                    "FELNOTT_SZAM": "1",
                                    "GYERMEK_SZAM": "3",
                                    "Össz fő": "4",
                                    "NEV": "Perlinger Éva",
                                    "Előző három foglalás átlaga": "NULL"
                                },
                                {
                                    "FOGLALAS_PK": "700",
                                    "UGYFEL_FK": "ZOLTANP",
                                    "SZOBA_FK": "78",
                                    "METTOL": "2016-07-20",
                                    "MEDDIG": "2016-07-25",
                                    "FELNOTT_SZAM": "1",
                                    "GYERMEK_SZAM": "2",
                                    "Össz fő": "3",
                                    "NEV": "Pintér Zoltán",
                                    "Előző három foglalás átlaga": "NULL"
                                },
                                {
                                    "FOGLALAS_PK": "1352",
                                    "UGYFEL_FK": "ZOLTANP",
                                    "SZOBA_FK": "115",
                                    "METTOL": "2016-12-07",
                                    "MEDDIG": "2016-12-10",
                                    "FELNOTT_SZAM": "2",
                                    "GYERMEK_SZAM": "1",
                                    "Össz fő": "3",
                                    "NEV": "Pintér Zoltán",
                                    "Előző három foglalás átlaga": "3"
                                },
                                {
                                    "FOGLALAS_PK": "578",
                                    "UGYFEL_FK": "anett3",
                                    "SZOBA_FK": "185",
                                    "METTOL": "2016-04-13",
                                    "MEDDIG": "2016-04-19",
                                    "FELNOTT_SZAM": "2",
                                    "GYERMEK_SZAM": "1",
                                    "Össz fő": "3",
                                    "NEV": "Pivarcsi Anett",
                                    "Előző három foglalás átlaga": "NULL"
                                },
                                {
                                    "FOGLALAS_PK": "581",
                                    "UGYFEL_FK": "anett3",
                                    "SZOBA_FK": "144",
                                    "METTOL": "2016-04-15",
                                    "MEDDIG": "2016-04-19",
                                    "FELNOTT_SZAM": "2",
                                    "GYERMEK_SZAM": "1",
                                    "Össz fő": "3",
                                    "NEV": "Pivarcsi Anett",
                                    "Előző három foglalás átlaga": "3"
                                },
                                {
                                    "FOGLALAS_PK": "607",
                                    "UGYFEL_FK": "anett3",
                                    "SZOBA_FK": "96",
                                    "METTOL": "2016-04-28",
                                    "MEDDIG": "2016-05-02",
                                    "FELNOTT_SZAM": "2",
                                    "GYERMEK_SZAM": "1",
                                    "Össz fő": "3",
                                    "NEV": "Pivarcsi Anett",
                                    "Előző három foglalás átlaga": "3"
                                },
                                {
                                    "FOGLALAS_PK": "793",
                                    "UGYFEL_FK": "anett3",
                                    "SZOBA_FK": "49",
                                    "METTOL": "2016-08-17",
                                    "MEDDIG": "2016-08-23",
                                    "FELNOTT_SZAM": "3",
                                    "GYERMEK_SZAM": "0",
                                    "Össz fő": "3",
                                    "NEV": "Pivarcsi Anett",
                                    "Előző három foglalás átlaga": "3"
                                },
                                {
                                    "FOGLALAS_PK": "1149",
                                    "UGYFEL_FK": "anett3",
                                    "SZOBA_FK": "133",
                                    "METTOL": "2016-10-12",
                                    "MEDDIG": "2016-10-19",
                                    "FELNOTT_SZAM": "3",
                                    "GYERMEK_SZAM": "0",
                                    "Össz fő": "3",
                                    "NEV": "Pivarcsi Anett",
                                    "Előző három foglalás átlaga": "3"
                                },
                                {
                                    "FOGLALAS_PK": "930",
                                    "UGYFEL_FK": "zsolt1",
                                    "SZOBA_FK": "168",
                                    "METTOL": "2016-06-07",
                                    "MEDDIG": "2016-06-10",
                                    "FELNOTT_SZAM": "2",
                                    "GYERMEK_SZAM": "2",
                                    "Össz fő": "4",
                                    "NEV": "Pulai Zsolt",
                                    "Előző három foglalás átlaga": "NULL"
                                },
                                {
                                    "FOGLALAS_PK": "712",
                                    "UGYFEL_FK": "zsuzsa",
                                    "SZOBA_FK": "71",
                                    "METTOL": "2016-07-24",
                                    "MEDDIG": "2016-07-25",
                                    "FELNOTT_SZAM": "2",
                                    "GYERMEK_SZAM": "1",
                                    "Össz fő": "3",
                                    "NEV": "Pusztai Zsuzsanna",
                                    "Előző három foglalás átlaga": "NULL"
                                },
                                {
                                    "FOGLALAS_PK": "1327",
                                    "UGYFEL_FK": "zsuzsa",
                                    "SZOBA_FK": "55",
                                    "METTOL": "2016-11-28",
                                    "MEDDIG": "2016-12-04",
                                    "FELNOTT_SZAM": "1",
                                    "GYERMEK_SZAM": "2",
                                    "Össz fő": "3",
                                    "NEV": "Pusztai Zsuzsanna",
                                    "Előző három foglalás átlaga": "3"
                                },
                                {
                                    "FOGLALAS_PK": "563",
                                    "UGYFEL_FK": "sebestyen",
                                    "SZOBA_FK": "68",
                                    "METTOL": "2016-04-07",
                                    "MEDDIG": "2016-04-12",
                                    "FELNOTT_SZAM": "1",
                                    "GYERMEK_SZAM": "3",
                                    "Össz fő": "4",
                                    "NEV": "Rab Sebestyén",
                                    "Előző három foglalás átlaga": "NULL"
                                },
                                {
                                    "FOGLALAS_PK": "602",
                                    "UGYFEL_FK": "sebestyen",
                                    "SZOBA_FK": "17",
                                    "METTOL": "2016-04-26",
                                    "MEDDIG": "2016-05-02",
                                    "FELNOTT_SZAM": "3",
                                    "GYERMEK_SZAM": "1",
                                    "Össz fő": "4",
                                    "NEV": "Rab Sebestyén",
                                    "Előző három foglalás átlaga": "4"
                                },
                                {
                                    "FOGLALAS_PK": "940",
                                    "UGYFEL_FK": "sebestyen",
                                    "SZOBA_FK": "74",
                                    "METTOL": "2016-06-09",
                                    "MEDDIG": "2016-06-14",
                                    "FELNOTT_SZAM": "3",
                                    "GYERMEK_SZAM": "1",
                                    "Össz fő": "4",
                                    "NEV": "Rab Sebestyén",
                                    "Előző három foglalás átlaga": "4"
                                },
                                {
                                    "FOGLALAS_PK": "1195",
                                    "UGYFEL_FK": "sebestyen",
                                    "SZOBA_FK": "22",
                                    "METTOL": "2016-10-26",
                                    "MEDDIG": "2016-11-01",
                                    "FELNOTT_SZAM": "1",
                                    "GYERMEK_SZAM": "4",
                                    "Össz fő": "5",
                                    "NEV": "Rab Sebestyén",
                                    "Előző három foglalás átlaga": "4"
                                },
                                {
                                    "FOGLALAS_PK": "575",
                                    "UGYFEL_FK": "daniel",
                                    "SZOBA_FK": "155",
                                    "METTOL": "2016-04-10",
                                    "MEDDIG": "2016-04-11",
                                    "FELNOTT_SZAM": "1",
                                    "GYERMEK_SZAM": "3",
                                    "Össz fő": "4",
                                    "NEV": "Rácz Dániel",
                                    "Előző három foglalás átlaga": "NULL"
                                },
                                {
                                    "FOGLALAS_PK": "629",
                                    "UGYFEL_FK": "daniel",
                                    "SZOBA_FK": "3",
                                    "METTOL": "2016-05-09",
                                    "MEDDIG": "2016-05-13",
                                    "FELNOTT_SZAM": "1",
                                    "GYERMEK_SZAM": "2",
                                    "Össz fő": "3",
                                    "NEV": "Rácz Dániel",
                                    "Előző három foglalás átlaga": "4"
                                },
                                {
                                    "FOGLALAS_PK": "1036",
                                    "UGYFEL_FK": "daniel",
                                    "SZOBA_FK": "122",
                                    "METTOL": "2016-09-08",
                                    "MEDDIG": "2016-09-10",
                                    "FELNOTT_SZAM": "3",
                                    "GYERMEK_SZAM": "1",
                                    "Össz fő": "4",
                                    "NEV": "Rácz Dániel",
                                    "Előző három foglalás átlaga": "3"
                                },
                                {
                                    "FOGLALAS_PK": "1278",
                                    "UGYFEL_FK": "daniel",
                                    "SZOBA_FK": "176",
                                    "METTOL": "2016-11-13",
                                    "MEDDIG": "2016-11-19",
                                    "FELNOTT_SZAM": "2",
                                    "GYERMEK_SZAM": "1",
                                    "Össz fő": "3",
                                    "NEV": "Rácz Dániel",
                                    "Előző három foglalás átlaga": "3"
                                },
                                {
                                    "FOGLALAS_PK": "1395",
                                    "UGYFEL_FK": "daniel",
                                    "SZOBA_FK": "97",
                                    "METTOL": "2016-12-25",
                                    "MEDDIG": "2016-12-26",
                                    "FELNOTT_SZAM": "3",
                                    "GYERMEK_SZAM": "0",
                                    "Össz fő": "3",
                                    "NEV": "Rácz Dániel",
                                    "Előző három foglalás átlaga": "3"
                                },
                                {
                                    "FOGLALAS_PK": "1520",
                                    "UGYFEL_FK": "daniel",
                                    "SZOBA_FK": "55",
                                    "METTOL": "2017-02-12",
                                    "MEDDIG": "2017-02-13",
                                    "FELNOTT_SZAM": "2",
                                    "GYERMEK_SZAM": "1",
                                    "Össz fő": "3",
                                    "NEV": "Rácz Dániel",
                                    "Előző három foglalás átlaga": "3"
                                },
                                {
                                    "FOGLALAS_PK": "1554",
                                    "UGYFEL_FK": "daniel",
                                    "SZOBA_FK": "115",
                                    "METTOL": "2017-02-20",
                                    "MEDDIG": "2017-02-23",
                                    "FELNOTT_SZAM": "1",
                                    "GYERMEK_SZAM": "2",
                                    "Össz fő": "3",
                                    "NEV": "Rácz Dániel",
                                    "Előző három foglalás átlaga": "3"
                                },
                                {
                                    "FOGLALAS_PK": "850",
                                    "UGYFEL_FK": "rajmond4",
                                    "SZOBA_FK": "6",
                                    "METTOL": "2016-09-05",
                                    "MEDDIG": "2016-09-07",
                                    "FELNOTT_SZAM": "3",
                                    "GYERMEK_SZAM": "0",
                                    "Össz fő": "3",
                                    "NEV": "Rácz Rajmond",
                                    "Előző három foglalás átlaga": "NULL"
                                },
                                {
                                    "FOGLALAS_PK": "1116",
                                    "UGYFEL_FK": "rajmond4",
                                    "SZOBA_FK": "198",
                                    "METTOL": "2016-10-03",
                                    "MEDDIG": "2016-10-04",
                                    "FELNOTT_SZAM": "3",
                                    "GYERMEK_SZAM": "0",
                                    "Össz fő": "3",
                                    "NEV": "Rácz Rajmond",
                                    "Előző három foglalás átlaga": "3"
                                },
                                {
                                    "FOGLALAS_PK": "1263",
                                    "UGYFEL_FK": "rajmond4",
                                    "SZOBA_FK": "113",
                                    "METTOL": "2016-11-08",
                                    "MEDDIG": "2016-11-09",
                                    "FELNOTT_SZAM": "2",
                                    "GYERMEK_SZAM": "2",
                                    "Össz fő": "4",
                                    "NEV": "Rácz Rajmond",
                                    "Előző három foglalás átlaga": "3"
                                },
                                {
                                    "FOGLALAS_PK": "1274",
                                    "UGYFEL_FK": "ANNAMARIAR",
                                    "SZOBA_FK": "1",
                                    "METTOL": "2016-11-11",
                                    "MEDDIG": "2016-11-12",
                                    "FELNOTT_SZAM": "3",
                                    "GYERMEK_SZAM": "0",
                                    "Össz fő": "3",
                                    "NEV": "Regős Annamária",
                                    "Előző három foglalás átlaga": "NULL"
                                },
                                {
                                    "FOGLALAS_PK": "785",
                                    "UGYFEL_FK": "dora3",
                                    "SZOBA_FK": "177",
                                    "METTOL": "2016-08-16",
                                    "MEDDIG": "2016-08-19",
                                    "FELNOTT_SZAM": "3",
                                    "GYERMEK_SZAM": "1",
                                    "Össz fő": "4",
                                    "NEV": "Sarodi Dóra",
                                    "Előző három foglalás átlaga": "NULL"
                                },
                                {
                                    "FOGLALAS_PK": "825",
                                    "UGYFEL_FK": "dora3",
                                    "SZOBA_FK": "158",
                                    "METTOL": "2016-08-25",
                                    "MEDDIG": "2016-08-29",
                                    "FELNOTT_SZAM": "2",
                                    "GYERMEK_SZAM": "1",
                                    "Össz fő": "3",
                                    "NEV": "Sarodi Dóra",
                                    "Előző három foglalás átlaga": "4"
                                },
                                {
                                    "FOGLALAS_PK": "1140",
                                    "UGYFEL_FK": "dora3",
                                    "SZOBA_FK": "12",
                                    "METTOL": "2016-10-09",
                                    "MEDDIG": "2016-10-12",
                                    "FELNOTT_SZAM": "2",
                                    "GYERMEK_SZAM": "1",
                                    "Össz fő": "3",
                                    "NEV": "Sarodi Dóra",
                                    "Előző három foglalás átlaga": "3"
                                },
                                {
                                    "FOGLALAS_PK": "1215",
                                    "UGYFEL_FK": "dora3",
                                    "SZOBA_FK": "121",
                                    "METTOL": "2016-10-29",
                                    "MEDDIG": "2016-11-02",
                                    "FELNOTT_SZAM": "2",
                                    "GYERMEK_SZAM": "1",
                                    "Össz fő": "3",
                                    "NEV": "Sarodi Dóra",
                                    "Előző három foglalás átlaga": "3"
                                },
                                {
                                    "FOGLALAS_PK": "1304",
                                    "UGYFEL_FK": "dora3",
                                    "SZOBA_FK": "197",
                                    "METTOL": "2016-11-22",
                                    "MEDDIG": "2016-11-29",
                                    "FELNOTT_SZAM": "3",
                                    "GYERMEK_SZAM": "0",
                                    "Össz fő": "3",
                                    "NEV": "Sarodi Dóra",
                                    "Előző három foglalás átlaga": "3"
                                },
                                {
                                    "FOGLALAS_PK": "855",
                                    "UGYFEL_FK": "ANIKOS",
                                    "SZOBA_FK": "53",
                                    "METTOL": "2016-05-24",
                                    "MEDDIG": "2016-05-25",
                                    "FELNOTT_SZAM": "1",
                                    "GYERMEK_SZAM": "2",
                                    "Össz fő": "3",
                                    "NEV": "Simon Anikó",
                                    "Előző három foglalás átlaga": "NULL"
                                },
                                {
                                    "FOGLALAS_PK": "679",
                                    "UGYFEL_FK": "ANIKOS",
                                    "SZOBA_FK": "185",
                                    "METTOL": "2016-07-17",
                                    "MEDDIG": "2016-07-22",
                                    "FELNOTT_SZAM": "2",
                                    "GYERMEK_SZAM": "1",
                                    "Össz fő": "3",
                                    "NEV": "Simon Anikó",
                                    "Előző három foglalás átlaga": "3"
                                },
                                {
                                    "FOGLALAS_PK": "1216",
                                    "UGYFEL_FK": "ANIKOS",
                                    "SZOBA_FK": "198",
                                    "METTOL": "2016-10-29",
                                    "MEDDIG": "2016-11-05",
                                    "FELNOTT_SZAM": "1",
                                    "GYERMEK_SZAM": "2",
                                    "Össz fő": "3",
                                    "NEV": "Simon Anikó",
                                    "Előző három foglalás átlaga": "3"
                                },
                                {
                                    "FOGLALAS_PK": "953",
                                    "UGYFEL_FK": "bernadett1",
                                    "SZOBA_FK": "117",
                                    "METTOL": "2016-06-12",
                                    "MEDDIG": "2016-06-17",
                                    "FELNOTT_SZAM": "2",
                                    "GYERMEK_SZAM": "1",
                                    "Össz fő": "3",
                                    "NEV": "Simon Bernadett",
                                    "Előző három foglalás átlaga": "NULL"
                                },
                                {
                                    "FOGLALAS_PK": "1130",
                                    "UGYFEL_FK": "bernadett1",
                                    "SZOBA_FK": "22",
                                    "METTOL": "2016-10-08",
                                    "MEDDIG": "2016-10-09",
                                    "FELNOTT_SZAM": "3",
                                    "GYERMEK_SZAM": "1",
                                    "Össz fő": "4",
                                    "NEV": "Simon Bernadett",
                                    "Előző három foglalás átlaga": "3"
                                },
                                {
                                    "FOGLALAS_PK": "1155",
                                    "UGYFEL_FK": "bernadett1",
                                    "SZOBA_FK": "143",
                                    "METTOL": "2016-10-15",
                                    "MEDDIG": "2016-10-22",
                                    "FELNOTT_SZAM": "2",
                                    "GYERMEK_SZAM": "1",
                                    "Össz fő": "3",
                                    "NEV": "Simon Bernadett",
                                    "Előző három foglalás átlaga": "3"
                                },
                                {
                                    "FOGLALAS_PK": "1200",
                                    "UGYFEL_FK": "bernadett1",
                                    "SZOBA_FK": "49",
                                    "METTOL": "2016-10-26",
                                    "MEDDIG": "2016-11-02",
                                    "FELNOTT_SZAM": "3",
                                    "GYERMEK_SZAM": "0",
                                    "Össz fő": "3",
                                    "NEV": "Simon Bernadett",
                                    "Előző három foglalás átlaga": "3"
                                },
                                {
                                    "FOGLALAS_PK": "1210",
                                    "UGYFEL_FK": "bernadett1",
                                    "SZOBA_FK": "124",
                                    "METTOL": "2016-10-28",
                                    "MEDDIG": "2016-11-01",
                                    "FELNOTT_SZAM": "3",
                                    "GYERMEK_SZAM": "0",
                                    "Össz fő": "3",
                                    "NEV": "Simon Bernadett",
                                    "Előző három foglalás átlaga": "3"
                                },
                                {
                                    "FOGLALAS_PK": "1533",
                                    "UGYFEL_FK": "bernadett1",
                                    "SZOBA_FK": "19",
                                    "METTOL": "2017-02-14",
                                    "MEDDIG": "2017-02-15",
                                    "FELNOTT_SZAM": "1",
                                    "GYERMEK_SZAM": "2",
                                    "Össz fő": "3",
                                    "NEV": "Simon Bernadett",
                                    "Előző három foglalás átlaga": "3"
                                },
                                {
                                    "FOGLALAS_PK": "1546",
                                    "UGYFEL_FK": "david1",
                                    "SZOBA_FK": "48",
                                    "METTOL": "2017-02-17",
                                    "MEDDIG": "2017-02-20",
                                    "FELNOTT_SZAM": "1",
                                    "GYERMEK_SZAM": "2",
                                    "Össz fő": "3",
                                    "NEV": "Sobják Dávid",
                                    "Előző három foglalás átlaga": "NULL"
                                },
                                {
                                    "FOGLALAS_PK": "1572",
                                    "UGYFEL_FK": "david1",
                                    "SZOBA_FK": "144",
                                    "METTOL": "2017-02-25",
                                    "MEDDIG": "2017-02-27",
                                    "FELNOTT_SZAM": "2",
                                    "GYERMEK_SZAM": "2",
                                    "Össz fő": "4",
                                    "NEV": "Sobják Dávid",
                                    "Előző három foglalás átlaga": "3"
                                },
                                {
                                    "FOGLALAS_PK": "1301",
                                    "UGYFEL_FK": "istvan",
                                    "SZOBA_FK": "132",
                                    "METTOL": "2016-11-22",
                                    "MEDDIG": "2016-11-24",
                                    "FELNOTT_SZAM": "3",
                                    "GYERMEK_SZAM": "0",
                                    "Össz fő": "3",
                                    "NEV": "Soós István",
                                    "Előző három foglalás átlaga": "NULL"
                                },
                                {
                                    "FOGLALAS_PK": "1218",
                                    "UGYFEL_FK": "julianna4",
                                    "SZOBA_FK": "61",
                                    "METTOL": "2016-10-29",
                                    "MEDDIG": "2016-10-31",
                                    "FELNOTT_SZAM": "3",
                                    "GYERMEK_SZAM": "0",
                                    "Össz fő": "3",
                                    "NEV": "Szabó Julianna",
                                    "Előző három foglalás átlaga": "NULL"
                                },
                                {
                                    "FOGLALAS_PK": "1323",
                                    "UGYFEL_FK": "julianna4",
                                    "SZOBA_FK": "191",
                                    "METTOL": "2016-11-27",
                                    "MEDDIG": "2016-12-04",
                                    "FELNOTT_SZAM": "2",
                                    "GYERMEK_SZAM": "1",
                                    "Össz fő": "3",
                                    "NEV": "Szabó Julianna",
                                    "Előző három foglalás átlaga": "3"
                                },
                                {
                                    "FOGLALAS_PK": "995",
                                    "UGYFEL_FK": "peter3",
                                    "SZOBA_FK": "83",
                                    "METTOL": "2016-06-30",
                                    "MEDDIG": "2016-07-05",
                                    "FELNOTT_SZAM": "3",
                                    "GYERMEK_SZAM": "0",
                                    "Össz fő": "3",
                                    "NEV": "Szalai Péter",
                                    "Előző három foglalás átlaga": "NULL"
                                },
                                {
                                    "FOGLALAS_PK": "726",
                                    "UGYFEL_FK": "peter3",
                                    "SZOBA_FK": "97",
                                    "METTOL": "2016-07-27",
                                    "MEDDIG": "2016-07-31",
                                    "FELNOTT_SZAM": "3",
                                    "GYERMEK_SZAM": "1",
                                    "Össz fő": "4",
                                    "NEV": "Szalai Péter",
                                    "Előző három foglalás átlaga": "3"
                                },
                                {
                                    "FOGLALAS_PK": "596",
                                    "UGYFEL_FK": "SZILARDS",
                                    "SZOBA_FK": "115",
                                    "METTOL": "2016-04-23",
                                    "MEDDIG": "2016-04-30",
                                    "FELNOTT_SZAM": "3",
                                    "GYERMEK_SZAM": "0",
                                    "Össz fő": "3",
                                    "NEV": "Szalai Szilárd",
                                    "Előző három foglalás átlaga": "NULL"
                                },
                                {
                                    "FOGLALAS_PK": "718",
                                    "UGYFEL_FK": "SZILARDS",
                                    "SZOBA_FK": "97",
                                    "METTOL": "2016-07-27",
                                    "MEDDIG": "2016-08-03",
                                    "FELNOTT_SZAM": "1",
                                    "GYERMEK_SZAM": "4",
                                    "Össz fő": "5",
                                    "NEV": "Szalai Szilárd",
                                    "Előző három foglalás átlaga": "3"
                                },
                                {
                                    "FOGLALAS_PK": "830",
                                    "UGYFEL_FK": "SZILARDS",
                                    "SZOBA_FK": "74",
                                    "METTOL": "2016-08-28",
                                    "MEDDIG": "2016-08-29",
                                    "FELNOTT_SZAM": "2",
                                    "GYERMEK_SZAM": "2",
                                    "Össz fő": "4",
                                    "NEV": "Szalai Szilárd",
                                    "Előző három foglalás átlaga": "4"
                                },
                                {
                                    "FOGLALAS_PK": "1071",
                                    "UGYFEL_FK": "SZILARDS",
                                    "SZOBA_FK": "80",
                                    "METTOL": "2016-09-20",
                                    "MEDDIG": "2016-09-24",
                                    "FELNOTT_SZAM": "1",
                                    "GYERMEK_SZAM": "2",
                                    "Össz fő": "3",
                                    "NEV": "Szalai Szilárd",
                                    "Előző három foglalás átlaga": "4"
                                },
                                {
                                    "FOGLALAS_PK": "1110",
                                    "UGYFEL_FK": "SZILARDS",
                                    "SZOBA_FK": "3",
                                    "METTOL": "2016-10-01",
                                    "MEDDIG": "2016-10-08",
                                    "FELNOTT_SZAM": "1",
                                    "GYERMEK_SZAM": "2",
                                    "Össz fő": "3",
                                    "NEV": "Szalai Szilárd",
                                    "Előző három foglalás átlaga": "4"
                                },
                                {
                                    "FOGLALAS_PK": "1442",
                                    "UGYFEL_FK": "SZILARDS",
                                    "SZOBA_FK": "15",
                                    "METTOL": "2017-01-16",
                                    "MEDDIG": "2017-01-19",
                                    "FELNOTT_SZAM": "1",
                                    "GYERMEK_SZAM": "2",
                                    "Össz fő": "3",
                                    "NEV": "Szalai Szilárd",
                                    "Előző három foglalás átlaga": "3"
                                },
                                {
                                    "FOGLALAS_PK": "1012",
                                    "UGYFEL_FK": "krisztina",
                                    "SZOBA_FK": "33",
                                    "METTOL": "2016-07-05",
                                    "MEDDIG": "2016-07-12",
                                    "FELNOTT_SZAM": "2",
                                    "GYERMEK_SZAM": "1",
                                    "Össz fő": "3",
                                    "NEV": "Szedlár Krisztina",
                                    "Előző három foglalás átlaga": "NULL"
                                },
                                {
                                    "FOGLALAS_PK": "1542",
                                    "UGYFEL_FK": "krisztina",
                                    "SZOBA_FK": "14",
                                    "METTOL": "2017-02-16",
                                    "MEDDIG": "2017-02-20",
                                    "FELNOTT_SZAM": "3",
                                    "GYERMEK_SZAM": "1",
                                    "Össz fő": "4",
                                    "NEV": "Szedlár Krisztina",
                                    "Előző három foglalás átlaga": "3"
                                },
                                {
                                    "FOGLALAS_PK": "876",
                                    "UGYFEL_FK": "brigitta",
                                    "SZOBA_FK": "12",
                                    "METTOL": "2016-05-30",
                                    "MEDDIG": "2016-06-06",
                                    "FELNOTT_SZAM": "1",
                                    "GYERMEK_SZAM": "2",
                                    "Össz fő": "3",
                                    "NEV": "Székely Brigitta",
                                    "Előző három foglalás átlaga": "NULL"
                                },
                                {
                                    "FOGLALAS_PK": "832",
                                    "UGYFEL_FK": "brigitta",
                                    "SZOBA_FK": "8",
                                    "METTOL": "2016-08-28",
                                    "MEDDIG": "2016-09-01",
                                    "FELNOTT_SZAM": "2",
                                    "GYERMEK_SZAM": "1",
                                    "Össz fő": "3",
                                    "NEV": "Székely Brigitta",
                                    "Előző három foglalás átlaga": "3"
                                },
                                {
                                    "FOGLALAS_PK": "1174",
                                    "UGYFEL_FK": "brigitta",
                                    "SZOBA_FK": "90",
                                    "METTOL": "2016-10-21",
                                    "MEDDIG": "2016-10-28",
                                    "FELNOTT_SZAM": "3",
                                    "GYERMEK_SZAM": "0",
                                    "Össz fő": "3",
                                    "NEV": "Székely Brigitta",
                                    "Előző három foglalás átlaga": "3"
                                },
                                {
                                    "FOGLALAS_PK": "952",
                                    "UGYFEL_FK": "BEATRIXS",
                                    "SZOBA_FK": "196",
                                    "METTOL": "2016-06-11",
                                    "MEDDIG": "2016-06-14",
                                    "FELNOTT_SZAM": "1",
                                    "GYERMEK_SZAM": "2",
                                    "Össz fő": "3",
                                    "NEV": "Szekendi Beatrix",
                                    "Előző három foglalás átlaga": "NULL"
                                },
                                {
                                    "FOGLALAS_PK": "1098",
                                    "UGYFEL_FK": "BEATRIXS",
                                    "SZOBA_FK": "140",
                                    "METTOL": "2016-10-01",
                                    "MEDDIG": "2016-10-03",
                                    "FELNOTT_SZAM": "2",
                                    "GYERMEK_SZAM": "1",
                                    "Össz fő": "3",
                                    "NEV": "Szekendi Beatrix",
                                    "Előző három foglalás átlaga": "3"
                                },
                                {
                                    "FOGLALAS_PK": "1099",
                                    "UGYFEL_FK": "BEATRIXS",
                                    "SZOBA_FK": "6",
                                    "METTOL": "2016-10-01",
                                    "MEDDIG": "2016-10-05",
                                    "FELNOTT_SZAM": "1",
                                    "GYERMEK_SZAM": "2",
                                    "Össz fő": "3",
                                    "NEV": "Szekendi Beatrix",
                                    "Előző három foglalás átlaga": "3"
                                },
                                {
                                    "FOGLALAS_PK": "748",
                                    "UGYFEL_FK": "reka4",
                                    "SZOBA_FK": "36",
                                    "METTOL": "2016-08-02",
                                    "MEDDIG": "2016-08-04",
                                    "FELNOTT_SZAM": "3",
                                    "GYERMEK_SZAM": "1",
                                    "Össz fő": "4",
                                    "NEV": "Szikszai Réka",
                                    "Előző három foglalás átlaga": "NULL"
                                },
                                {
                                    "FOGLALAS_PK": "1033",
                                    "UGYFEL_FK": "reka4",
                                    "SZOBA_FK": "38",
                                    "METTOL": "2016-09-05",
                                    "MEDDIG": "2016-09-07",
                                    "FELNOTT_SZAM": "1",
                                    "GYERMEK_SZAM": "2",
                                    "Össz fő": "3",
                                    "NEV": "Szikszai Réka",
                                    "Előző három foglalás átlaga": "4"
                                },
                                {
                                    "FOGLALAS_PK": "707",
                                    "UGYFEL_FK": "MATYASS",
                                    "SZOBA_FK": "35",
                                    "METTOL": "2016-07-23",
                                    "MEDDIG": "2016-07-25",
                                    "FELNOTT_SZAM": "2",
                                    "GYERMEK_SZAM": "1",
                                    "Össz fő": "3",
                                    "NEV": "Szilágyi Mátyás",
                                    "Előző három foglalás átlaga": "NULL"
                                },
                                {
                                    "FOGLALAS_PK": "1143",
                                    "UGYFEL_FK": "MATYASS",
                                    "SZOBA_FK": "176",
                                    "METTOL": "2016-10-09",
                                    "MEDDIG": "2016-10-15",
                                    "FELNOTT_SZAM": "2",
                                    "GYERMEK_SZAM": "1",
                                    "Össz fő": "3",
                                    "NEV": "Szilágyi Mátyás",
                                    "Előző három foglalás átlaga": "3"
                                },
                                {
                                    "FOGLALAS_PK": "1226",
                                    "UGYFEL_FK": "MATYASS",
                                    "SZOBA_FK": "127",
                                    "METTOL": "2016-10-30",
                                    "MEDDIG": "2016-11-04",
                                    "FELNOTT_SZAM": "1",
                                    "GYERMEK_SZAM": "2",
                                    "Össz fő": "3",
                                    "NEV": "Szilágyi Mátyás",
                                    "Előző három foglalás átlaga": "3"
                                },
                                {
                                    "FOGLALAS_PK": "985",
                                    "UGYFEL_FK": "RENATAS",
                                    "SZOBA_FK": "36",
                                    "METTOL": "2016-06-24",
                                    "MEDDIG": "2016-06-30",
                                    "FELNOTT_SZAM": "2",
                                    "GYERMEK_SZAM": "3",
                                    "Össz fő": "5",
                                    "NEV": "Szirmai Renáta",
                                    "Előző három foglalás átlaga": "NULL"
                                },
                                {
                                    "FOGLALAS_PK": "1295",
                                    "UGYFEL_FK": "andrea3",
                                    "SZOBA_FK": "44",
                                    "METTOL": "2016-11-19",
                                    "MEDDIG": "2016-11-21",
                                    "FELNOTT_SZAM": "3",
                                    "GYERMEK_SZAM": "0",
                                    "Össz fő": "3",
                                    "NEV": "Szomor Andrea",
                                    "Előző három foglalás átlaga": "NULL"
                                },
                                {
                                    "FOGLALAS_PK": "921",
                                    "UGYFEL_FK": "annamaria1",
                                    "SZOBA_FK": "112",
                                    "METTOL": "2016-06-06",
                                    "MEDDIG": "2016-06-07",
                                    "FELNOTT_SZAM": "2",
                                    "GYERMEK_SZAM": "1",
                                    "Össz fő": "3",
                                    "NEV": "Szűcs Annamária",
                                    "Előző három foglalás átlaga": "NULL"
                                },
                                {
                                    "FOGLALAS_PK": "1483",
                                    "UGYFEL_FK": "annamaria1",
                                    "SZOBA_FK": "120",
                                    "METTOL": "2017-01-30",
                                    "MEDDIG": "2017-01-31",
                                    "FELNOTT_SZAM": "3",
                                    "GYERMEK_SZAM": "1",
                                    "Össz fő": "4",
                                    "NEV": "Szűcs Annamária",
                                    "Előző három foglalás átlaga": "3"
                                },
                                {
                                    "FOGLALAS_PK": "851",
                                    "UGYFEL_FK": "balazs2",
                                    "SZOBA_FK": "42",
                                    "METTOL": "2016-05-22",
                                    "MEDDIG": "2016-05-29",
                                    "FELNOTT_SZAM": "2",
                                    "GYERMEK_SZAM": "1",
                                    "Össz fő": "3",
                                    "NEV": "Szűcs Balázs",
                                    "Előző három foglalás átlaga": "NULL"
                                },
                                {
                                    "FOGLALAS_PK": "863",
                                    "UGYFEL_FK": "balazs2",
                                    "SZOBA_FK": "185",
                                    "METTOL": "2016-05-28",
                                    "MEDDIG": "2016-06-01",
                                    "FELNOTT_SZAM": "2",
                                    "GYERMEK_SZAM": "1",
                                    "Össz fő": "3",
                                    "NEV": "Szűcs Balázs",
                                    "Előző három foglalás átlaga": "3"
                                },
                                {
                                    "FOGLALAS_PK": "1019",
                                    "UGYFEL_FK": "balazs2",
                                    "SZOBA_FK": "43",
                                    "METTOL": "2016-07-08",
                                    "MEDDIG": "2016-07-12",
                                    "FELNOTT_SZAM": "1",
                                    "GYERMEK_SZAM": "2",
                                    "Össz fő": "3",
                                    "NEV": "Szűcs Balázs",
                                    "Előző három foglalás átlaga": "3"
                                },
                                {
                                    "FOGLALAS_PK": "1023",
                                    "UGYFEL_FK": "balazs2",
                                    "SZOBA_FK": "30",
                                    "METTOL": "2016-07-10",
                                    "MEDDIG": "2016-07-17",
                                    "FELNOTT_SZAM": "3",
                                    "GYERMEK_SZAM": "0",
                                    "Össz fő": "3",
                                    "NEV": "Szűcs Balázs",
                                    "Előző három foglalás átlaga": "3"
                                },
                                {
                                    "FOGLALAS_PK": "805",
                                    "UGYFEL_FK": "balazs2",
                                    "SZOBA_FK": "21",
                                    "METTOL": "2016-08-21",
                                    "MEDDIG": "2016-08-22",
                                    "FELNOTT_SZAM": "1",
                                    "GYERMEK_SZAM": "2",
                                    "Össz fő": "3",
                                    "NEV": "Szűcs Balázs",
                                    "Előző három foglalás átlaga": "3"
                                },
                                {
                                    "FOGLALAS_PK": "1045",
                                    "UGYFEL_FK": "balazs2",
                                    "SZOBA_FK": "134",
                                    "METTOL": "2016-09-12",
                                    "MEDDIG": "2016-09-14",
                                    "FELNOTT_SZAM": "2",
                                    "GYERMEK_SZAM": "1",
                                    "Össz fő": "3",
                                    "NEV": "Szűcs Balázs",
                                    "Előző három foglalás átlaga": "3"
                                },
                                {
                                    "FOGLALAS_PK": "1239",
                                    "UGYFEL_FK": "balazs2",
                                    "SZOBA_FK": "59",
                                    "METTOL": "2016-11-03",
                                    "MEDDIG": "2016-11-05",
                                    "FELNOTT_SZAM": "1",
                                    "GYERMEK_SZAM": "2",
                                    "Össz fő": "3",
                                    "NEV": "Szűcs Balázs",
                                    "Előző három foglalás átlaga": "3"
                                },
                                {
                                    "FOGLALAS_PK": "1285",
                                    "UGYFEL_FK": "norbert",
                                    "SZOBA_FK": "58",
                                    "METTOL": "2016-11-16",
                                    "MEDDIG": "2016-11-23",
                                    "FELNOTT_SZAM": "2",
                                    "GYERMEK_SZAM": "1",
                                    "Össz fő": "3",
                                    "NEV": "Szűcs Norbert",
                                    "Előző három foglalás átlaga": "NULL"
                                },
                                {
                                    "FOGLALAS_PK": "1528",
                                    "UGYFEL_FK": "norbert",
                                    "SZOBA_FK": "97",
                                    "METTOL": "2017-02-13",
                                    "MEDDIG": "2017-02-15",
                                    "FELNOTT_SZAM": "2",
                                    "GYERMEK_SZAM": "1",
                                    "Össz fő": "3",
                                    "NEV": "Szűcs Norbert",
                                    "Előző három foglalás átlaga": "3"
                                },
                                {
                                    "FOGLALAS_PK": "695",
                                    "UGYFEL_FK": "veronika4",
                                    "SZOBA_FK": "187",
                                    "METTOL": "2016-07-20",
                                    "MEDDIG": "2016-07-26",
                                    "FELNOTT_SZAM": "1",
                                    "GYERMEK_SZAM": "2",
                                    "Össz fő": "3",
                                    "NEV": "Tankó Veronika",
                                    "Előző három foglalás átlaga": "NULL"
                                },
                                {
                                    "FOGLALAS_PK": "1456",
                                    "UGYFEL_FK": "veronika4",
                                    "SZOBA_FK": "87",
                                    "METTOL": "2017-01-19",
                                    "MEDDIG": "2017-01-24",
                                    "FELNOTT_SZAM": "3",
                                    "GYERMEK_SZAM": "0",
                                    "Össz fő": "3",
                                    "NEV": "Tankó Veronika",
                                    "Előző három foglalás átlaga": "3"
                                },
                                {
                                    "FOGLALAS_PK": "1144",
                                    "UGYFEL_FK": "szilvia1",
                                    "SZOBA_FK": "41",
                                    "METTOL": "2016-10-09",
                                    "MEDDIG": "2016-10-10",
                                    "FELNOTT_SZAM": "3",
                                    "GYERMEK_SZAM": "0",
                                    "Össz fő": "3",
                                    "NEV": "Tari Szilvia",
                                    "Előző három foglalás átlaga": "NULL"
                                },
                                {
                                    "FOGLALAS_PK": "1191",
                                    "UGYFEL_FK": "szilvia1",
                                    "SZOBA_FK": "59",
                                    "METTOL": "2016-10-25",
                                    "MEDDIG": "2016-10-31",
                                    "FELNOTT_SZAM": "2",
                                    "GYERMEK_SZAM": "1",
                                    "Össz fő": "3",
                                    "NEV": "Tari Szilvia",
                                    "Előző három foglalás átlaga": "3"
                                },
                                {
                                    "FOGLALAS_PK": "1391",
                                    "UGYFEL_FK": "szilvia1",
                                    "SZOBA_FK": "93",
                                    "METTOL": "2016-12-25",
                                    "MEDDIG": "2016-12-29",
                                    "FELNOTT_SZAM": "2",
                                    "GYERMEK_SZAM": "3",
                                    "Össz fő": "5",
                                    "NEV": "Tari Szilvia",
                                    "Előző három foglalás átlaga": "3"
                                },
                                {
                                    "FOGLALAS_PK": "663",
                                    "UGYFEL_FK": "NIKOLETTAT",
                                    "SZOBA_FK": "14",
                                    "METTOL": "2016-05-22",
                                    "MEDDIG": "2016-05-23",
                                    "FELNOTT_SZAM": "3",
                                    "GYERMEK_SZAM": "1",
                                    "Össz fő": "4",
                                    "NEV": "Tatár Nikoletta",
                                    "Előző három foglalás átlaga": "NULL"
                                },
                                {
                                    "FOGLALAS_PK": "720",
                                    "UGYFEL_FK": "NIKOLETTAT",
                                    "SZOBA_FK": "160",
                                    "METTOL": "2016-07-27",
                                    "MEDDIG": "2016-07-29",
                                    "FELNOTT_SZAM": "1",
                                    "GYERMEK_SZAM": "3",
                                    "Össz fő": "4",
                                    "NEV": "Tatár Nikoletta",
                                    "Előző három foglalás átlaga": "4"
                                },
                                {
                                    "FOGLALAS_PK": "603",
                                    "UGYFEL_FK": "gabor4",
                                    "SZOBA_FK": "48",
                                    "METTOL": "2016-04-26",
                                    "MEDDIG": "2016-04-29",
                                    "FELNOTT_SZAM": "3",
                                    "GYERMEK_SZAM": "0",
                                    "Össz fő": "3",
                                    "NEV": "Telek Gábor",
                                    "Előző három foglalás átlaga": "NULL"
                                },
                                {
                                    "FOGLALAS_PK": "841",
                                    "UGYFEL_FK": "gabor4",
                                    "SZOBA_FK": "92",
                                    "METTOL": "2016-08-31",
                                    "MEDDIG": "2016-09-06",
                                    "FELNOTT_SZAM": "3",
                                    "GYERMEK_SZAM": "1",
                                    "Össz fő": "4",
                                    "NEV": "Telek Gábor",
                                    "Előző három foglalás átlaga": "3"
                                },
                                {
                                    "FOGLALAS_PK": "1260",
                                    "UGYFEL_FK": "gabor4",
                                    "SZOBA_FK": "9",
                                    "METTOL": "2016-11-07",
                                    "MEDDIG": "2016-11-13",
                                    "FELNOTT_SZAM": "3",
                                    "GYERMEK_SZAM": "1",
                                    "Össz fő": "4",
                                    "NEV": "Telek Gábor",
                                    "Előző három foglalás átlaga": "3"
                                },
                                {
                                    "FOGLALAS_PK": "1128",
                                    "UGYFEL_FK": "ANDREAT",
                                    "SZOBA_FK": "121",
                                    "METTOL": "2016-10-08",
                                    "MEDDIG": "2016-10-12",
                                    "FELNOTT_SZAM": "1",
                                    "GYERMEK_SZAM": "2",
                                    "Össz fő": "3",
                                    "NEV": "Tornyos Andrea",
                                    "Előző három foglalás átlaga": "NULL"
                                },
                                {
                                    "FOGLALAS_PK": "1126",
                                    "UGYFEL_FK": "andras2",
                                    "SZOBA_FK": "70",
                                    "METTOL": "2016-10-07",
                                    "MEDDIG": "2016-10-10",
                                    "FELNOTT_SZAM": "1",
                                    "GYERMEK_SZAM": "2",
                                    "Össz fő": "3",
                                    "NEV": "Tóth András",
                                    "Előző három foglalás átlaga": "NULL"
                                },
                                {
                                    "FOGLALAS_PK": "1511",
                                    "UGYFEL_FK": "andras2",
                                    "SZOBA_FK": "176",
                                    "METTOL": "2017-02-08",
                                    "MEDDIG": "2017-02-10",
                                    "FELNOTT_SZAM": "2",
                                    "GYERMEK_SZAM": "2",
                                    "Össz fő": "4",
                                    "NEV": "Tóth András",
                                    "Előző három foglalás átlaga": "3"
                                },
                                {
                                    "FOGLALAS_PK": "986",
                                    "UGYFEL_FK": "aniko",
                                    "SZOBA_FK": "48",
                                    "METTOL": "2016-06-25",
                                    "MEDDIG": "2016-06-30",
                                    "FELNOTT_SZAM": "2",
                                    "GYERMEK_SZAM": "1",
                                    "Össz fő": "3",
                                    "NEV": "Tóth Anikó",
                                    "Előző három foglalás átlaga": "NULL"
                                },
                                {
                                    "FOGLALAS_PK": "1519",
                                    "UGYFEL_FK": "aniko",
                                    "SZOBA_FK": "132",
                                    "METTOL": "2017-02-12",
                                    "MEDDIG": "2017-02-14",
                                    "FELNOTT_SZAM": "2",
                                    "GYERMEK_SZAM": "1",
                                    "Össz fő": "3",
                                    "NEV": "Tóth Anikó",
                                    "Előző három foglalás átlaga": "3"
                                },
                                {
                                    "FOGLALAS_PK": "926",
                                    "UGYFEL_FK": "julia",
                                    "SZOBA_FK": "193",
                                    "METTOL": "2016-06-07",
                                    "MEDDIG": "2016-06-08",
                                    "FELNOTT_SZAM": "2",
                                    "GYERMEK_SZAM": "3",
                                    "Össz fő": "5",
                                    "NEV": "Tóth Júlia",
                                    "Előző három foglalás átlaga": "NULL"
                                },
                                {
                                    "FOGLALAS_PK": "1577",
                                    "UGYFEL_FK": "julia",
                                    "SZOBA_FK": "78",
                                    "METTOL": "2017-02-27",
                                    "MEDDIG": "2017-03-06",
                                    "FELNOTT_SZAM": "2",
                                    "GYERMEK_SZAM": "1",
                                    "Össz fő": "3",
                                    "NEV": "Tóth Júlia",
                                    "Előző három foglalás átlaga": "5"
                                },
                                {
                                    "FOGLALAS_PK": "939",
                                    "UGYFEL_FK": "roland",
                                    "SZOBA_FK": "183",
                                    "METTOL": "2016-06-09",
                                    "MEDDIG": "2016-06-13",
                                    "FELNOTT_SZAM": "3",
                                    "GYERMEK_SZAM": "0",
                                    "Össz fő": "3",
                                    "NEV": "Tóth Roland",
                                    "Előző három foglalás átlaga": "NULL"
                                },
                                {
                                    "FOGLALAS_PK": "978",
                                    "UGYFEL_FK": "roland",
                                    "SZOBA_FK": "198",
                                    "METTOL": "2016-06-22",
                                    "MEDDIG": "2016-06-23",
                                    "FELNOTT_SZAM": "3",
                                    "GYERMEK_SZAM": "0",
                                    "Össz fő": "3",
                                    "NEV": "Tóth Roland",
                                    "Előző három foglalás átlaga": "3"
                                },
                                {
                                    "FOGLALAS_PK": "615",
                                    "UGYFEL_FK": "ZOLTANT",
                                    "SZOBA_FK": "186",
                                    "METTOL": "2016-05-01",
                                    "MEDDIG": "2016-05-04",
                                    "FELNOTT_SZAM": "2",
                                    "GYERMEK_SZAM": "1",
                                    "Össz fő": "3",
                                    "NEV": "Tóth Zoltán",
                                    "Előző három foglalás átlaga": "NULL"
                                },
                                {
                                    "FOGLALAS_PK": "668",
                                    "UGYFEL_FK": "ZOLTANT",
                                    "SZOBA_FK": "54",
                                    "METTOL": "2016-07-14",
                                    "MEDDIG": "2016-07-15",
                                    "FELNOTT_SZAM": "1",
                                    "GYERMEK_SZAM": "2",
                                    "Össz fő": "3",
                                    "NEV": "Tóth Zoltán",
                                    "Előző három foglalás átlaga": "3"
                                },
                                {
                                    "FOGLALAS_PK": "862",
                                    "UGYFEL_FK": "denes",
                                    "SZOBA_FK": "82",
                                    "METTOL": "2016-05-27",
                                    "MEDDIG": "2016-05-31",
                                    "FELNOTT_SZAM": "2",
                                    "GYERMEK_SZAM": "1",
                                    "Össz fő": "3",
                                    "NEV": "Tömböly Dénes",
                                    "Előző három foglalás átlaga": "NULL"
                                },
                                {
                                    "FOGLALAS_PK": "746",
                                    "UGYFEL_FK": "denes",
                                    "SZOBA_FK": "169",
                                    "METTOL": "2016-08-01",
                                    "MEDDIG": "2016-08-08",
                                    "FELNOTT_SZAM": "1",
                                    "GYERMEK_SZAM": "2",
                                    "Össz fő": "3",
                                    "NEV": "Tömböly Dénes",
                                    "Előző három foglalás átlaga": "3"
                                },
                                {
                                    "FOGLALAS_PK": "804",
                                    "UGYFEL_FK": "denes",
                                    "SZOBA_FK": "146",
                                    "METTOL": "2016-08-20",
                                    "MEDDIG": "2016-08-27",
                                    "FELNOTT_SZAM": "1",
                                    "GYERMEK_SZAM": "2",
                                    "Össz fő": "3",
                                    "NEV": "Tömböly Dénes",
                                    "Előző három foglalás átlaga": "3"
                                },
                                {
                                    "FOGLALAS_PK": "898",
                                    "UGYFEL_FK": "tunde",
                                    "SZOBA_FK": "185",
                                    "METTOL": "2016-06-03",
                                    "MEDDIG": "2016-06-07",
                                    "FELNOTT_SZAM": "1",
                                    "GYERMEK_SZAM": "2",
                                    "Össz fő": "3",
                                    "NEV": "Turcsik Tünde",
                                    "Előző három foglalás átlaga": "NULL"
                                },
                                {
                                    "FOGLALAS_PK": "918",
                                    "UGYFEL_FK": "tunde",
                                    "SZOBA_FK": "11",
                                    "METTOL": "2016-06-06",
                                    "MEDDIG": "2016-06-12",
                                    "FELNOTT_SZAM": "2",
                                    "GYERMEK_SZAM": "1",
                                    "Össz fő": "3",
                                    "NEV": "Turcsik Tünde",
                                    "Előző három foglalás átlaga": "3"
                                },
                                {
                                    "FOGLALAS_PK": "1189",
                                    "UGYFEL_FK": "tunde",
                                    "SZOBA_FK": "89",
                                    "METTOL": "2016-10-24",
                                    "MEDDIG": "2016-10-30",
                                    "FELNOTT_SZAM": "3",
                                    "GYERMEK_SZAM": "0",
                                    "Össz fő": "3",
                                    "NEV": "Turcsik Tünde",
                                    "Előző három foglalás átlaga": "3"
                                },
                                {
                                    "FOGLALAS_PK": "1290",
                                    "UGYFEL_FK": "tunde",
                                    "SZOBA_FK": "128",
                                    "METTOL": "2016-11-19",
                                    "MEDDIG": "2016-11-20",
                                    "FELNOTT_SZAM": "1",
                                    "GYERMEK_SZAM": "2",
                                    "Össz fő": "3",
                                    "NEV": "Turcsik Tünde",
                                    "Előző három foglalás átlaga": "3"
                                },
                                {
                                    "FOGLALAS_PK": "1363",
                                    "UGYFEL_FK": "tunde",
                                    "SZOBA_FK": "133",
                                    "METTOL": "2016-12-15",
                                    "MEDDIG": "2016-12-20",
                                    "FELNOTT_SZAM": "3",
                                    "GYERMEK_SZAM": "0",
                                    "Össz fő": "3",
                                    "NEV": "Turcsik Tünde",
                                    "Előző három foglalás átlaga": "3"
                                },
                                {
                                    "FOGLALAS_PK": "1415",
                                    "UGYFEL_FK": "tunde",
                                    "SZOBA_FK": "24",
                                    "METTOL": "2017-01-03",
                                    "MEDDIG": "2017-01-06",
                                    "FELNOTT_SZAM": "4",
                                    "GYERMEK_SZAM": "1",
                                    "Össz fő": "5",
                                    "NEV": "Turcsik Tünde",
                                    "Előző három foglalás átlaga": "3"
                                },
                                {
                                    "FOGLALAS_PK": "1151",
                                    "UGYFEL_FK": "VIKTORIAU",
                                    "SZOBA_FK": "3",
                                    "METTOL": "2016-10-14",
                                    "MEDDIG": "2016-10-15",
                                    "FELNOTT_SZAM": "1",
                                    "GYERMEK_SZAM": "2",
                                    "Össz fő": "3",
                                    "NEV": "Urbán Viktoria",
                                    "Előző három foglalás átlaga": "NULL"
                                },
                                {
                                    "FOGLALAS_PK": "1199",
                                    "UGYFEL_FK": "VIKTORIAU",
                                    "SZOBA_FK": "144",
                                    "METTOL": "2016-10-26",
                                    "MEDDIG": "2016-11-02",
                                    "FELNOTT_SZAM": "2",
                                    "GYERMEK_SZAM": "2",
                                    "Össz fő": "4",
                                    "NEV": "Urbán Viktoria",
                                    "Előző három foglalás átlaga": "3"
                                },
                                {
                                    "FOGLALAS_PK": "677",
                                    "UGYFEL_FK": "jozsef2",
                                    "SZOBA_FK": "181",
                                    "METTOL": "2016-07-16",
                                    "MEDDIG": "2016-07-20",
                                    "FELNOTT_SZAM": "3",
                                    "GYERMEK_SZAM": "0",
                                    "Össz fő": "3",
                                    "NEV": "Vajda József",
                                    "Előző három foglalás átlaga": "NULL"
                                },
                                {
                                    "FOGLALAS_PK": "1307",
                                    "UGYFEL_FK": "jozsef2",
                                    "SZOBA_FK": "58",
                                    "METTOL": "2016-11-23",
                                    "MEDDIG": "2016-11-29",
                                    "FELNOTT_SZAM": "1",
                                    "GYERMEK_SZAM": "2",
                                    "Össz fő": "3",
                                    "NEV": "Vajda József",
                                    "Előző három foglalás átlaga": "3"
                                },
                                {
                                    "FOGLALAS_PK": "1321",
                                    "UGYFEL_FK": "jozsef2",
                                    "SZOBA_FK": "33",
                                    "METTOL": "2016-11-25",
                                    "MEDDIG": "2016-11-29",
                                    "FELNOTT_SZAM": "2",
                                    "GYERMEK_SZAM": "1",
                                    "Össz fő": "3",
                                    "NEV": "Vajda József",
                                    "Előző három foglalás átlaga": "3"
                                },
                                {
                                    "FOGLALAS_PK": "868",
                                    "UGYFEL_FK": "ZSUZSAV",
                                    "SZOBA_FK": "187",
                                    "METTOL": "2016-05-28",
                                    "MEDDIG": "2016-06-01",
                                    "FELNOTT_SZAM": "3",
                                    "GYERMEK_SZAM": "1",
                                    "Össz fő": "4",
                                    "NEV": "Vajda Zsuzsa",
                                    "Előző három foglalás átlaga": "NULL"
                                },
                                {
                                    "FOGLALAS_PK": "960",
                                    "UGYFEL_FK": "ZSUZSAV",
                                    "SZOBA_FK": "41",
                                    "METTOL": "2016-06-15",
                                    "MEDDIG": "2016-06-21",
                                    "FELNOTT_SZAM": "1",
                                    "GYERMEK_SZAM": "2",
                                    "Össz fő": "3",
                                    "NEV": "Vajda Zsuzsa",
                                    "Előző három foglalás átlaga": "4"
                                },
                                {
                                    "FOGLALAS_PK": "1300",
                                    "UGYFEL_FK": "ZSUZSAV",
                                    "SZOBA_FK": "88",
                                    "METTOL": "2016-11-21",
                                    "MEDDIG": "2016-11-24",
                                    "FELNOTT_SZAM": "1",
                                    "GYERMEK_SZAM": "2",
                                    "Össz fő": "3",
                                    "NEV": "Vajda Zsuzsa",
                                    "Előző három foglalás átlaga": "3"
                                },
                                {
                                    "FOGLALAS_PK": "998",
                                    "UGYFEL_FK": "ISTVANV",
                                    "SZOBA_FK": "120",
                                    "METTOL": "2016-07-01",
                                    "MEDDIG": "2016-07-04",
                                    "FELNOTT_SZAM": "1",
                                    "GYERMEK_SZAM": "3",
                                    "Össz fő": "4",
                                    "NEV": "Varga István",
                                    "Előző három foglalás átlaga": "NULL"
                                },
                                {
                                    "FOGLALAS_PK": "1087",
                                    "UGYFEL_FK": "ISTVANV",
                                    "SZOBA_FK": "144",
                                    "METTOL": "2016-09-29",
                                    "MEDDIG": "2016-10-01",
                                    "FELNOTT_SZAM": "3",
                                    "GYERMEK_SZAM": "0",
                                    "Össz fő": "3",
                                    "NEV": "Varga István",
                                    "Előző három foglalás átlaga": "4"
                                },
                                {
                                    "FOGLALAS_PK": "1206",
                                    "UGYFEL_FK": "zsuzsa3",
                                    "SZOBA_FK": "22",
                                    "METTOL": "2016-10-27",
                                    "MEDDIG": "2016-11-03",
                                    "FELNOTT_SZAM": "1",
                                    "GYERMEK_SZAM": "3",
                                    "Össz fő": "4",
                                    "NEV": "Varsányi Zsuzsa",
                                    "Előző három foglalás átlaga": "NULL"
                                },
                                {
                                    "FOGLALAS_PK": "1114",
                                    "UGYFEL_FK": "gabriella10",
                                    "SZOBA_FK": "20",
                                    "METTOL": "2016-10-01",
                                    "MEDDIG": "2016-10-06",
                                    "FELNOTT_SZAM": "2",
                                    "GYERMEK_SZAM": "1",
                                    "Össz fő": "3",
                                    "NEV": "Vida Gabriella",
                                    "Előző három foglalás átlaga": "NULL"
                                },
                                {
                                    "FOGLALAS_PK": "674",
                                    "UGYFEL_FK": "andras3",
                                    "SZOBA_FK": "83",
                                    "METTOL": "2016-07-15",
                                    "MEDDIG": "2016-07-19",
                                    "FELNOTT_SZAM": "2",
                                    "GYERMEK_SZAM": "1",
                                    "Össz fő": "3",
                                    "NEV": "Vígh András",
                                    "Előző három foglalás átlaga": "NULL"
                                },
                                {
                                    "FOGLALAS_PK": "837",
                                    "UGYFEL_FK": "andras3",
                                    "SZOBA_FK": "104",
                                    "METTOL": "2016-08-29",
                                    "MEDDIG": "2016-09-02",
                                    "FELNOTT_SZAM": "3",
                                    "GYERMEK_SZAM": "0",
                                    "Össz fő": "3",
                                    "NEV": "Vígh András",
                                    "Előző három foglalás átlaga": "3"
                                },
                                {
                                    "FOGLALAS_PK": "614",
                                    "UGYFEL_FK": "EVAV",
                                    "SZOBA_FK": "109",
                                    "METTOL": "2016-05-01",
                                    "MEDDIG": "2016-05-05",
                                    "FELNOTT_SZAM": "1",
                                    "GYERMEK_SZAM": "2",
                                    "Össz fő": "3",
                                    "NEV": "Viktor Éva",
                                    "Előző három foglalás átlaga": "NULL"
                                },
                                {
                                    "FOGLALAS_PK": "1157",
                                    "UGYFEL_FK": "EVAV",
                                    "SZOBA_FK": "9",
                                    "METTOL": "2016-10-15",
                                    "MEDDIG": "2016-10-21",
                                    "FELNOTT_SZAM": "3",
                                    "GYERMEK_SZAM": "0",
                                    "Össz fő": "3",
                                    "NEV": "Viktor Éva",
                                    "Előző három foglalás átlaga": "3"
                                },
                                {
                                    "FOGLALAS_PK": "1495",
                                    "UGYFEL_FK": "EVAV",
                                    "SZOBA_FK": "113",
                                    "METTOL": "2017-02-04",
                                    "MEDDIG": "2017-02-11",
                                    "FELNOTT_SZAM": "1",
                                    "GYERMEK_SZAM": "4",
                                    "Össz fő": "5",
                                    "NEV": "Viktor Éva",
                                    "Előző három foglalás átlaga": "3"
                                },
                                {
                                    "FOGLALAS_PK": "583",
                                    "UGYFEL_FK": "istvan1",
                                    "SZOBA_FK": "79",
                                    "METTOL": "2016-04-16",
                                    "MEDDIG": "2016-04-22",
                                    "FELNOTT_SZAM": "3",
                                    "GYERMEK_SZAM": "0",
                                    "Össz fő": "3",
                                    "NEV": "Vizi István",
                                    "Előző három foglalás átlaga": "NULL"
                                },
                                {
                                    "FOGLALAS_PK": "599",
                                    "UGYFEL_FK": "istvan1",
                                    "SZOBA_FK": "162",
                                    "METTOL": "2016-04-24",
                                    "MEDDIG": "2016-04-28",
                                    "FELNOTT_SZAM": "3",
                                    "GYERMEK_SZAM": "0",
                                    "Össz fő": "3",
                                    "NEV": "Vizi István",
                                    "Előző három foglalás átlaga": "3"
                                },
                                {
                                    "FOGLALAS_PK": "1507",
                                    "UGYFEL_FK": "istvan1",
                                    "SZOBA_FK": "153",
                                    "METTOL": "2017-02-07",
                                    "MEDDIG": "2017-02-10",
                                    "FELNOTT_SZAM": "2",
                                    "GYERMEK_SZAM": "1",
                                    "Össz fő": "3",
                                    "NEV": "Vizi István",
                                    "Előző három foglalás átlaga": "3"
                                },
                                {
                                    "FOGLALAS_PK": "909",
                                    "UGYFEL_FK": "dani",
                                    "SZOBA_FK": "133",
                                    "METTOL": "2016-06-06",
                                    "MEDDIG": "2016-06-10",
                                    "FELNOTT_SZAM": "1",
                                    "GYERMEK_SZAM": "2",
                                    "Össz fő": "3",
                                    "NEV": "Vörös Dániel",
                                    "Előző három foglalás átlaga": "NULL"
                                },
                                {
                                    "FOGLALAS_PK": "1024",
                                    "UGYFEL_FK": "dani",
                                    "SZOBA_FK": "134",
                                    "METTOL": "2016-07-11",
                                    "MEDDIG": "2016-07-12",
                                    "FELNOTT_SZAM": "2",
                                    "GYERMEK_SZAM": "1",
                                    "Össz fő": "3",
                                    "NEV": "Vörös Dániel",
                                    "Előző három foglalás átlaga": "3"
                                },
                                {
                                    "FOGLALAS_PK": "1068",
                                    "UGYFEL_FK": "dani",
                                    "SZOBA_FK": "161",
                                    "METTOL": "2016-09-19",
                                    "MEDDIG": "2016-09-25",
                                    "FELNOTT_SZAM": "1",
                                    "GYERMEK_SZAM": "3",
                                    "Össz fő": "4",
                                    "NEV": "Vörös Dániel",
                                    "Előző három foglalás átlaga": "3"
                                },
                                {
                                    "FOGLALAS_PK": "1571",
                                    "UGYFEL_FK": "dani",
                                    "SZOBA_FK": "161",
                                    "METTOL": "2017-02-25",
                                    "MEDDIG": "2017-03-01",
                                    "FELNOTT_SZAM": "2",
                                    "GYERMEK_SZAM": "1",
                                    "Össz fő": "3",
                                    "NEV": "Vörös Dániel",
                                    "Előző három foglalás átlaga": "3"
                                },
                                {
                                    "FOGLALAS_PK": "1341",
                                    "UGYFEL_FK": "balint2",
                                    "SZOBA_FK": "82",
                                    "METTOL": "2016-12-04",
                                    "MEDDIG": "2016-12-06",
                                    "FELNOTT_SZAM": "1",
                                    "GYERMEK_SZAM": "2",
                                    "Össz fő": "3",
                                    "NEV": "Vukasinovity Bálint",
                                    "Előző három foglalás átlaga": "NULL"
                                },
                                {
                                    "FOGLALAS_PK": "914",
                                    "UGYFEL_FK": "kati",
                                    "SZOBA_FK": "48",
                                    "METTOL": "2016-06-06",
                                    "MEDDIG": "2016-06-11",
                                    "FELNOTT_SZAM": "3",
                                    "GYERMEK_SZAM": "0",
                                    "Össz fő": "3",
                                    "NEV": "Zatykó Katalin",
                                    "Előző három foglalás átlaga": "NULL"
                                },
                                {
                                    "FOGLALAS_PK": "1221",
                                    "UGYFEL_FK": "kati",
                                    "SZOBA_FK": "49",
                                    "METTOL": "2016-10-30",
                                    "MEDDIG": "2016-11-01",
                                    "FELNOTT_SZAM": "3",
                                    "GYERMEK_SZAM": "0",
                                    "Össz fő": "3",
                                    "NEV": "Zatykó Katalin",
                                    "Előző három foglalás átlaga": "3"
                                }
                            ]
                        },
                        "text/html": [
                            "<table>",
                            "<tr><th>FOGLALAS_PK</th><th>UGYFEL_FK</th><th>SZOBA_FK</th><th>METTOL</th><th>MEDDIG</th><th>FELNOTT_SZAM</th><th>GYERMEK_SZAM</th><th>Össz fő</th><th>NEV</th><th>Előző három foglalás átlaga</th></tr>",
                            "<tr><td>801</td><td>david</td><td>112</td><td>2016-08-20</td><td>2016-08-25</td><td>3</td><td>0</td><td>3</td><td>Ambrus Dávid</td><td>NULL</td></tr>",
                            "<tr><td>807</td><td>david</td><td>27</td><td>2016-08-22</td><td>2016-08-24</td><td>2</td><td>1</td><td>3</td><td>Ambrus Dávid</td><td>3</td></tr>",
                            "<tr><td>835</td><td>IBOLYAA</td><td>193</td><td>2016-08-29</td><td>2016-08-31</td><td>2</td><td>3</td><td>5</td><td>Andor Ibolya</td><td>NULL</td></tr>",
                            "<tr><td>1452</td><td>IBOLYAA</td><td>107</td><td>2017-01-17</td><td>2017-01-23</td><td>1</td><td>2</td><td>3</td><td>Andor Ibolya</td><td>5</td></tr>",
                            "<tr><td>947</td><td>LASZLOA</td><td>8</td><td>2016-06-10</td><td>2016-06-13</td><td>3</td><td>0</td><td>3</td><td>Antal László</td><td>NULL</td></tr>",
                            "<tr><td>817</td><td>tamas</td><td>89</td><td>2016-08-24</td><td>2016-08-27</td><td>3</td><td>0</td><td>3</td><td>Antal Tamás</td><td>NULL</td></tr>",
                            "<tr><td>1534</td><td>tamas</td><td>52</td><td>2017-02-14</td><td>2017-02-19</td><td>2</td><td>1</td><td>3</td><td>Antal Tamás</td><td>3</td></tr>",
                            "<tr><td>823</td><td>beata4</td><td>44</td><td>2016-08-25</td><td>2016-08-27</td><td>3</td><td>0</td><td>3</td><td>Bagi Beáta</td><td>NULL</td></tr>",
                            "<tr><td>1117</td><td>beata4</td><td>158</td><td>2016-10-03</td><td>2016-10-06</td><td>2</td><td>1</td><td>3</td><td>Bagi Beáta</td><td>3</td></tr>",
                            "<tr><td>658</td><td>alexandra</td><td>44</td><td>2016-05-21</td><td>2016-05-27</td><td>3</td><td>0</td><td>3</td><td>Bagóczki Alexandra</td><td>NULL</td></tr>",
                            "<tr><td>937</td><td>alexandra</td><td>181</td><td>2016-06-08</td><td>2016-06-11</td><td>1</td><td>2</td><td>3</td><td>Bagóczki Alexandra</td><td>3</td></tr>",
                            "<tr><td>646</td><td>BENCEB</td><td>78</td><td>2016-05-14</td><td>2016-05-17</td><td>1</td><td>2</td><td>3</td><td>Bajusz Bence</td><td>NULL</td></tr>",
                            "<tr><td>1179</td><td>BENCEB</td><td>74</td><td>2016-10-22</td><td>2016-10-29</td><td>2</td><td>1</td><td>3</td><td>Bajusz Bence</td><td>3</td></tr>",
                            "<tr><td>1521</td><td>BENCEB</td><td>89</td><td>2017-02-12</td><td>2017-02-19</td><td>3</td><td>0</td><td>3</td><td>Bajusz Bence</td><td>3</td></tr>",
                            "<tr><td>922</td><td>klaudia2</td><td>160</td><td>2016-06-06</td><td>2016-06-08</td><td>1</td><td>3</td><td>4</td><td>Bakó Klaudia</td><td>NULL</td></tr>",
                            "<tr><td>728</td><td>balazs3</td><td>31</td><td>2016-07-27</td><td>2016-07-31</td><td>3</td><td>1</td><td>4</td><td>Bakódy Balázs</td><td>NULL</td></tr>",
                            "<tr><td>816</td><td>balazs3</td><td>178</td><td>2016-08-24</td><td>2016-08-28</td><td>1</td><td>2</td><td>3</td><td>Bakódy Balázs</td><td>4</td></tr>",
                            "<tr><td>1054</td><td>balazs3</td><td>79</td><td>2016-09-15</td><td>2016-09-16</td><td>3</td><td>0</td><td>3</td><td>Bakódy Balázs</td><td>3</td></tr>",
                            "<tr><td>1346</td><td>balazs3</td><td>181</td><td>2016-12-05</td><td>2016-12-11</td><td>2</td><td>1</td><td>3</td><td>Bakódy Balázs</td><td>3</td></tr>",
                            "<tr><td>993</td><td>eszter2</td><td>197</td><td>2016-06-30</td><td>2016-07-07</td><td>3</td><td>0</td><td>3</td><td>Balogh Eszter</td><td>NULL</td></tr>",
                            "<tr><td>1097</td><td>eszter2</td><td>95</td><td>2016-10-01</td><td>2016-10-05</td><td>1</td><td>2</td><td>3</td><td>Balogh Eszter</td><td>3</td></tr>",
                            "<tr><td>1246</td><td>eszter2</td><td>69</td><td>2016-11-05</td><td>2016-11-12</td><td>2</td><td>2</td><td>4</td><td>Balogh Eszter</td><td>3</td></tr>",
                            "<tr><td>776</td><td>pal</td><td>112</td><td>2016-08-14</td><td>2016-08-18</td><td>3</td><td>0</td><td>3</td><td>Barabás Pál</td><td>NULL</td></tr>",
                            "<tr><td>1369</td><td>pal</td><td>142</td><td>2016-12-17</td><td>2016-12-23</td><td>3</td><td>0</td><td>3</td><td>Barabás Pál</td><td>3</td></tr>",
                            "<tr><td>1530</td><td>pal</td><td>112</td><td>2017-02-13</td><td>2017-02-19</td><td>2</td><td>1</td><td>3</td><td>Barabás Pál</td><td>3</td></tr>",
                            "<tr><td>1552</td><td>pal</td><td>44</td><td>2017-02-20</td><td>2017-02-22</td><td>3</td><td>0</td><td>3</td><td>Barabás Pál</td><td>3</td></tr>",
                            "<tr><td>767</td><td>maria1</td><td>18</td><td>2016-08-11</td><td>2016-08-14</td><td>2</td><td>1</td><td>3</td><td>Baráth Mária</td><td>NULL</td></tr>",
                            "<tr><td>1264</td><td>maria1</td><td>66</td><td>2016-11-08</td><td>2016-11-12</td><td>2</td><td>1</td><td>3</td><td>Baráth Mária</td><td>3</td></tr>",
                            "<tr><td>756</td><td>gusztav</td><td>61</td><td>2016-08-05</td><td>2016-08-11</td><td>3</td><td>0</td><td>3</td><td>Bárci Gusztáv</td><td>NULL</td></tr>",
                            "<tr><td>1106</td><td>gusztav</td><td>20</td><td>2016-10-01</td><td>2016-10-03</td><td>2</td><td>1</td><td>3</td><td>Bárci Gusztáv</td><td>3</td></tr>",
                            "<tr><td>1563</td><td>gusztav</td><td>180</td><td>2017-02-23</td><td>2017-03-01</td><td>2</td><td>2</td><td>4</td><td>Bárci Gusztáv</td><td>3</td></tr>",
                            "<tr><td>977</td><td>debora</td><td>193</td><td>2016-06-22</td><td>2016-06-24</td><td>3</td><td>2</td><td>5</td><td>Barna Debóra</td><td>NULL</td></tr>",
                            "<tr><td>1470</td><td>debora</td><td>153</td><td>2017-01-23</td><td>2017-01-28</td><td>3</td><td>0</td><td>3</td><td>Barna Debóra</td><td>5</td></tr>",
                            "<tr><td>1494</td><td>debora</td><td>107</td><td>2017-02-04</td><td>2017-02-06</td><td>2</td><td>1</td><td>3</td><td>Barna Debóra</td><td>4</td></tr>",
                            "<tr><td>639</td><td>zoltan4</td><td>161</td><td>2016-05-12</td><td>2016-05-16</td><td>1</td><td>2</td><td>3</td><td>Barna Zoltán</td><td>NULL</td></tr>",
                            "<tr><td>641</td><td>zoltan4</td><td>150</td><td>2016-05-13</td><td>2016-05-16</td><td>2</td><td>1</td><td>3</td><td>Barna Zoltán</td><td>3</td></tr>",
                            "<tr><td>1091</td><td>zoltan4</td><td>197</td><td>2016-09-30</td><td>2016-10-07</td><td>3</td><td>0</td><td>3</td><td>Barna Zoltán</td><td>3</td></tr>",
                            "<tr><td>1176</td><td>zoltan4</td><td>177</td><td>2016-10-21</td><td>2016-10-24</td><td>1</td><td>4</td><td>5</td><td>Barna Zoltán</td><td>3</td></tr>",
                            "<tr><td>1409</td><td>zoltan4</td><td>133</td><td>2017-01-01</td><td>2017-01-02</td><td>3</td><td>0</td><td>3</td><td>Barna Zoltán</td><td>3</td></tr>",
                            "<tr><td>797</td><td>attila4</td><td>74</td><td>2016-08-18</td><td>2016-08-23</td><td>3</td><td>1</td><td>4</td><td>Baróti Attila</td><td>NULL</td></tr>",
                            "<tr><td>1167</td><td>PETERB</td><td>24</td><td>2016-10-19</td><td>2016-10-20</td><td>3</td><td>1</td><td>4</td><td>Berendi Péter</td><td>NULL</td></tr>",
                            "<tr><td>1540</td><td>david4</td><td>114</td><td>2017-02-16</td><td>2017-02-19</td><td>2</td><td>1</td><td>3</td><td>Berta Dávid</td><td>NULL</td></tr>",
                            "<tr><td>829</td><td>adam4</td><td>35</td><td>2016-08-28</td><td>2016-08-30</td><td>3</td><td>0</td><td>3</td><td>Bieniek Ádám</td><td>NULL</td></tr>",
                            "<tr><td>1205</td><td>adam4</td><td>162</td><td>2016-10-27</td><td>2016-11-02</td><td>3</td><td>0</td><td>3</td><td>Bieniek Ádám</td><td>3</td></tr>",
                            "<tr><td>1347</td><td>adam4</td><td>13</td><td>2016-12-06</td><td>2016-12-09</td><td>3</td><td>0</td><td>3</td><td>Bieniek Ádám</td><td>3</td></tr>",
                            "<tr><td>1561</td><td>adam4</td><td>156</td><td>2017-02-23</td><td>2017-02-27</td><td>1</td><td>2</td><td>3</td><td>Bieniek Ádám</td><td>3</td></tr>",
                            "<tr><td>1406</td><td>akos</td><td>82</td><td>2016-12-29</td><td>2016-12-30</td><td>2</td><td>1</td><td>3</td><td>Bíró Ákos</td><td>NULL</td></tr>",
                            "<tr><td>577</td><td>peter4</td><td>155</td><td>2016-04-12</td><td>2016-04-15</td><td>2</td><td>1</td><td>3</td><td>Bíró Péter</td><td>NULL</td></tr>",
                            "<tr><td>815</td><td>peter4</td><td>128</td><td>2016-08-24</td><td>2016-08-25</td><td>1</td><td>2</td><td>3</td><td>Bíró Péter</td><td>3</td></tr>",
                            "<tr><td>1043</td><td>peter4</td><td>193</td><td>2016-09-11</td><td>2016-09-17</td><td>2</td><td>2</td><td>4</td><td>Bíró Péter</td><td>3</td></tr>",
                            "<tr><td>1080</td><td>peter4</td><td>59</td><td>2016-09-25</td><td>2016-09-26</td><td>1</td><td>2</td><td>3</td><td>Bíró Péter</td><td>3</td></tr>",
                            "<tr><td>1093</td><td>peter4</td><td>74</td><td>2016-09-30</td><td>2016-10-06</td><td>2</td><td>1</td><td>3</td><td>Bíró Péter</td><td>3</td></tr>",
                            "<tr><td>1139</td><td>peter4</td><td>19</td><td>2016-10-09</td><td>2016-10-16</td><td>1</td><td>2</td><td>3</td><td>Bíró Péter</td><td>3</td></tr>",
                            "<tr><td>1222</td><td>peter4</td><td>143</td><td>2016-10-30</td><td>2016-11-01</td><td>3</td><td>0</td><td>3</td><td>Bíró Péter</td><td>3</td></tr>",
                            "<tr><td>1273</td><td>peter4</td><td>88</td><td>2016-11-10</td><td>2016-11-17</td><td>2</td><td>1</td><td>3</td><td>Bíró Péter</td><td>3</td></tr>",
                            "<tr><td>1316</td><td>peter4</td><td>17</td><td>2016-11-25</td><td>2016-11-30</td><td>3</td><td>0</td><td>3</td><td>Bíró Péter</td><td>3</td></tr>",
                            "<tr><td>1500</td><td>peter4</td><td>126</td><td>2017-02-05</td><td>2017-02-09</td><td>1</td><td>2</td><td>3</td><td>Bíró Péter</td><td>3</td></tr>",
                            "<tr><td>672</td><td>edit</td><td>185</td><td>2016-07-14</td><td>2016-07-17</td><td>3</td><td>0</td><td>3</td><td>Bittmann Edit</td><td>NULL</td></tr>",
                            "<tr><td>750</td><td>edit</td><td>36</td><td>2016-08-03</td><td>2016-08-09</td><td>1</td><td>3</td><td>4</td><td>Bittmann Edit</td><td>3</td></tr>",
                            "<tr><td>1065</td><td>edit</td><td>198</td><td>2016-09-18</td><td>2016-09-21</td><td>3</td><td>0</td><td>3</td><td>Bittmann Edit</td><td>3</td></tr>",
                            "<tr><td>1440</td><td>edit</td><td>122</td><td>2017-01-15</td><td>2017-01-18</td><td>1</td><td>3</td><td>4</td><td>Bittmann Edit</td><td>3</td></tr>",
                            "<tr><td>1509</td><td>edit</td><td>129</td><td>2017-02-08</td><td>2017-02-14</td><td>2</td><td>1</td><td>3</td><td>Bittmann Edit</td><td>3</td></tr>",
                            "<tr><td>1055</td><td>krisztina1</td><td>69</td><td>2016-09-15</td><td>2016-09-20</td><td>1</td><td>2</td><td>3</td><td>Bori Krisztina</td><td>NULL</td></tr>",
                            "<tr><td>1217</td><td>krisztina1</td><td>93</td><td>2016-10-29</td><td>2016-10-30</td><td>2</td><td>2</td><td>4</td><td>Bori Krisztina</td><td>3</td></tr>",
                            "<tr><td>617</td><td>vivien3</td><td>117</td><td>2016-05-02</td><td>2016-05-05</td><td>2</td><td>1</td><td>3</td><td>Boros Vivien</td><td>NULL</td></tr>",
                            "<tr><td>1386</td><td>vivien3</td><td>55</td><td>2016-12-24</td><td>2016-12-26</td><td>2</td><td>1</td><td>3</td><td>Boros Vivien</td><td>3</td></tr>",
                            "<tr><td>754</td><td>ilona3</td><td>126</td><td>2016-08-04</td><td>2016-08-08</td><td>2</td><td>1</td><td>3</td><td>Bosnyák Ilona</td><td>NULL</td></tr>",
                            "<tr><td>1245</td><td>ilona3</td><td>122</td><td>2016-11-04</td><td>2016-11-06</td><td>2</td><td>2</td><td>4</td><td>Bosnyák Ilona</td><td>3</td></tr>",
                            "<tr><td>1393</td><td>ilona3</td><td>121</td><td>2016-12-25</td><td>2016-12-31</td><td>1</td><td>2</td><td>3</td><td>Bosnyák Ilona</td><td>3</td></tr>",
                            "<tr><td>1356</td><td>matyas2</td><td>169</td><td>2016-12-09</td><td>2016-12-13</td><td>2</td><td>1</td><td>3</td><td>Botka Mátyás</td><td>NULL</td></tr>",
                            "<tr><td>703</td><td>balazs1</td><td>145</td><td>2016-07-22</td><td>2016-07-26</td><td>2</td><td>2</td><td>4</td><td>Bozsik Balázs</td><td>NULL</td></tr>",
                            "<tr><td>1399</td><td>balazs1</td><td>89</td><td>2016-12-26</td><td>2016-12-28</td><td>3</td><td>0</td><td>3</td><td>Bozsik Balázs</td><td>4</td></tr>",
                            "<tr><td>1515</td><td>balazs1</td><td>46</td><td>2017-02-10</td><td>2017-02-14</td><td>1</td><td>2</td><td>3</td><td>Bozsik Balázs</td><td>3</td></tr>",
                            "<tr><td>1282</td><td>peter2</td><td>123</td><td>2016-11-15</td><td>2016-11-21</td><td>3</td><td>0</td><td>3</td><td>Bozsó Péter</td><td>NULL</td></tr>",
                            "<tr><td>704</td><td>aniko4</td><td>70</td><td>2016-07-22</td><td>2016-07-25</td><td>2</td><td>1</td><td>3</td><td>Böröcz Anikó</td><td>NULL</td></tr>",
                            "<tr><td>1031</td><td>aniko4</td><td>27</td><td>2016-09-05</td><td>2016-09-07</td><td>1</td><td>3</td><td>4</td><td>Böröcz Anikó</td><td>3</td></tr>",
                            "<tr><td>1158</td><td>aniko4</td><td>26</td><td>2016-10-16</td><td>2016-10-18</td><td>1</td><td>2</td><td>3</td><td>Böröcz Anikó</td><td>3</td></tr>",
                            "<tr><td>1433</td><td>roza2</td><td>139</td><td>2017-01-11</td><td>2017-01-17</td><td>2</td><td>1</td><td>3</td><td>Bucskó Róza</td><td>NULL</td></tr>",
                            "<tr><td>1549</td><td>roza2</td><td>17</td><td>2017-02-18</td><td>2017-02-21</td><td>1</td><td>2</td><td>3</td><td>Bucskó Róza</td><td>3</td></tr>",
                            "<tr><td>1060</td><td>imre</td><td>38</td><td>2016-09-17</td><td>2016-09-19</td><td>1</td><td>2</td><td>3</td><td>Búza Imre</td><td>NULL</td></tr>",
                            "<tr><td>1209</td><td>imre</td><td>122</td><td>2016-10-28</td><td>2016-10-29</td><td>3</td><td>1</td><td>4</td><td>Búza Imre</td><td>3</td></tr>",
                            "<tr><td>747</td><td>krisztian4</td><td>188</td><td>2016-08-01</td><td>2016-08-04</td><td>1</td><td>2</td><td>3</td><td>Czérna Krisztián</td><td>NULL</td></tr>",
                            "<tr><td>1161</td><td>krisztian4</td><td>198</td><td>2016-10-17</td><td>2016-10-22</td><td>3</td><td>0</td><td>3</td><td>Czérna Krisztián</td><td>3</td></tr>",
                            "<tr><td>1445</td><td>krisztian4</td><td>129</td><td>2017-01-16</td><td>2017-01-23</td><td>2</td><td>1</td><td>3</td><td>Czérna Krisztián</td><td>3</td></tr>",
                            "<tr><td>1322</td><td>bertalan</td><td>58</td><td>2016-11-26</td><td>2016-11-29</td><td>1</td><td>2</td><td>3</td><td>Csiger Bertalan</td><td>NULL</td></tr>",
                            "<tr><td>1555</td><td>bertalan</td><td>92</td><td>2017-02-20</td><td>2017-02-24</td><td>3</td><td>1</td><td>4</td><td>Csiger Bertalan</td><td>3</td></tr>",
                            "<tr><td>1090</td><td>attila</td><td>132</td><td>2016-09-30</td><td>2016-10-07</td><td>1</td><td>2</td><td>3</td><td>Csóti Attila</td><td>NULL</td></tr>",
                            "<tr><td>762</td><td>timea2</td><td>120</td><td>2016-08-07</td><td>2016-08-10</td><td>1</td><td>2</td><td>3</td><td>Dusha Tímea</td><td>NULL</td></tr>",
                            "<tr><td>1196</td><td>timea2</td><td>88</td><td>2016-10-26</td><td>2016-10-29</td><td>3</td><td>0</td><td>3</td><td>Dusha Tímea</td><td>3</td></tr>",
                            "<tr><td>1324</td><td>timea2</td><td>68</td><td>2016-11-27</td><td>2016-12-01</td><td>2</td><td>2</td><td>4</td><td>Dusha Tímea</td><td>3</td></tr>",
                            "<tr><td>1362</td><td>timea2</td><td>25</td><td>2016-12-14</td><td>2016-12-16</td><td>3</td><td>1</td><td>4</td><td>Dusha Tímea</td><td>3</td></tr>",
                            "<tr><td>1125</td><td>eva</td><td>185</td><td>2016-10-06</td><td>2016-10-09</td><td>3</td><td>0</td><td>3</td><td>Enyedi Éva</td><td>NULL</td></tr>",
                            "<tr><td>1297</td><td>ANDRASE</td><td>144</td><td>2016-11-19</td><td>2016-11-20</td><td>2</td><td>2</td><td>4</td><td>Erdei András</td><td>NULL</td></tr>",
                            "<tr><td>1330</td><td>ANDRASE</td><td>124</td><td>2016-11-29</td><td>2016-12-06</td><td>1</td><td>2</td><td>3</td><td>Erdei András</td><td>4</td></tr>",
                            "<tr><td>719</td><td>BELAF</td><td>58</td><td>2016-07-27</td><td>2016-07-30</td><td>2</td><td>1</td><td>3</td><td>Farkas Béla</td><td>NULL</td></tr>",
                            "<tr><td>1238</td><td>BELAF</td><td>193</td><td>2016-11-03</td><td>2016-11-09</td><td>1</td><td>3</td><td>4</td><td>Farkas Béla</td><td>3</td></tr>",
                            "<tr><td>1337</td><td>BELAF</td><td>122</td><td>2016-12-02</td><td>2016-12-04</td><td>1</td><td>2</td><td>3</td><td>Farkas Béla</td><td>3</td></tr>",
                            "<tr><td>1078</td><td>laszlo1</td><td>38</td><td>2016-09-23</td><td>2016-09-30</td><td>2</td><td>1</td><td>3</td><td>Farkas László</td><td>NULL</td></tr>",
                            "<tr><td>1181</td><td>sandor3</td><td>171</td><td>2016-10-23</td><td>2016-10-29</td><td>2</td><td>1</td><td>3</td><td>Farkas Sándor</td><td>NULL</td></tr>",
                            "<tr><td>675</td><td>sara</td><td>193</td><td>2016-07-15</td><td>2016-07-17</td><td>3</td><td>0</td><td>3</td><td>Farkas Sára</td><td>NULL</td></tr>",
                            "<tr><td>711</td><td>sara</td><td>185</td><td>2016-07-24</td><td>2016-07-27</td><td>3</td><td>0</td><td>3</td><td>Farkas Sára</td><td>3</td></tr>",
                            "<tr><td>1124</td><td>sara</td><td>112</td><td>2016-10-06</td><td>2016-10-12</td><td>1</td><td>2</td><td>3</td><td>Farkas Sára</td><td>3</td></tr>",
                            "<tr><td>1148</td><td>sara</td><td>61</td><td>2016-10-11</td><td>2016-10-14</td><td>2</td><td>1</td><td>3</td><td>Farkas Sára</td><td>3</td></tr>",
                            "<tr><td>1289</td><td>sara</td><td>135</td><td>2016-11-18</td><td>2016-11-21</td><td>3</td><td>0</td><td>3</td><td>Farkas Sára</td><td>3</td></tr>",
                            "<tr><td>1311</td><td>sara</td><td>2</td><td>2016-11-23</td><td>2016-11-30</td><td>1</td><td>3</td><td>4</td><td>Farkas Sára</td><td>3</td></tr>",
                            "<tr><td>950</td><td>TAMASF</td><td>66</td><td>2016-06-10</td><td>2016-06-13</td><td>3</td><td>0</td><td>3</td><td>Fényes Tamás</td><td>NULL</td></tr>",
                            "<tr><td>991</td><td>TAMASF</td><td>178</td><td>2016-06-28</td><td>2016-07-05</td><td>1</td><td>2</td><td>3</td><td>Fényes Tamás</td><td>3</td></tr>",
                            "<tr><td>1044</td><td>TAMASF</td><td>13</td><td>2016-09-12</td><td>2016-09-18</td><td>3</td><td>0</td><td>3</td><td>Fényes Tamás</td><td>3</td></tr>",
                            "<tr><td>1357</td><td>TAMASF</td><td>140</td><td>2016-12-10</td><td>2016-12-14</td><td>2</td><td>1</td><td>3</td><td>Fényes Tamás</td><td>3</td></tr>",
                            "<tr><td>1537</td><td>TAMASF</td><td>9</td><td>2017-02-16</td><td>2017-02-19</td><td>3</td><td>1</td><td>4</td><td>Fényes Tamás</td><td>3</td></tr>",
                            "<tr><td>1253</td><td>roland1</td><td>89</td><td>2016-11-05</td><td>2016-11-07</td><td>2</td><td>1</td><td>3</td><td>Ferencz Roland</td><td>NULL</td></tr>",
                            "<tr><td>1418</td><td>roland1</td><td>15</td><td>2017-01-04</td><td>2017-01-08</td><td>2</td><td>1</td><td>3</td><td>Ferencz Roland</td><td>3</td></tr>",
                            "<tr><td>856</td><td>valentin</td><td>16</td><td>2016-05-24</td><td>2016-05-30</td><td>2</td><td>2</td><td>4</td><td>Feró Valentin</td><td>NULL</td></tr>",
                            "<tr><td>1203</td><td>valentin</td><td>150</td><td>2016-10-26</td><td>2016-10-30</td><td>2</td><td>1</td><td>3</td><td>Feró Valentin</td><td>4</td></tr>",
                            "<tr><td>1275</td><td>valentin</td><td>27</td><td>2016-11-11</td><td>2016-11-17</td><td>2</td><td>1</td><td>3</td><td>Feró Valentin</td><td>3</td></tr>",
                            "<tr><td>1334</td><td>valentin</td><td>1</td><td>2016-12-01</td><td>2016-12-05</td><td>3</td><td>0</td><td>3</td><td>Feró Valentin</td><td>3</td></tr>",
                            "<tr><td>1030</td><td>zoltan</td><td>188</td><td>2016-09-05</td><td>2016-09-09</td><td>3</td><td>0</td><td>3</td><td>Fodor Zoltán</td><td>NULL</td></tr>",
                            "<tr><td>741</td><td>SEBASTIANF</td><td>93</td><td>2016-07-30</td><td>2016-08-06</td><td>3</td><td>1</td><td>4</td><td>Foltényi Sebastián</td><td>NULL</td></tr>",
                            "<tr><td>1051</td><td>SEBASTIANF</td><td>2</td><td>2016-09-14</td><td>2016-09-15</td><td>3</td><td>0</td><td>3</td><td>Foltényi Sebastián</td><td>4</td></tr>",
                            "<tr><td>1062</td><td>SEBASTIANF</td><td>122</td><td>2016-09-17</td><td>2016-09-20</td><td>1</td><td>2</td><td>3</td><td>Foltényi Sebastián</td><td>3</td></tr>",
                            "<tr><td>558</td><td>NANDORF</td><td>87</td><td>2016-04-06</td><td>2016-04-10</td><td>2</td><td>1</td><td>3</td><td>Fő Nándor</td><td>NULL</td></tr>",
                            "<tr><td>1242</td><td>NANDORF</td><td>178</td><td>2016-11-03</td><td>2016-11-04</td><td>1</td><td>2</td><td>3</td><td>Fő Nándor</td><td>3</td></tr>",
                            "<tr><td>1503</td><td>NANDORF</td><td>177</td><td>2017-02-05</td><td>2017-02-08</td><td>1</td><td>2</td><td>3</td><td>Fő Nándor</td><td>3</td></tr>",
                            "<tr><td>996</td><td>fruzsina4</td><td>118</td><td>2016-07-01</td><td>2016-07-04</td><td>1</td><td>2</td><td>3</td><td>Frank Fruzsina</td><td>NULL</td></tr>",
                            "<tr><td>667</td><td>fruzsina4</td><td>80</td><td>2016-07-13</td><td>2016-07-19</td><td>2</td><td>1</td><td>3</td><td>Frank Fruzsina</td><td>3</td></tr>",
                            "<tr><td>828</td><td>fruzsina4</td><td>2</td><td>2016-08-27</td><td>2016-08-30</td><td>1</td><td>3</td><td>4</td><td>Frank Fruzsina</td><td>3</td></tr>",
                            "<tr><td>1088</td><td>fruzsina4</td><td>43</td><td>2016-09-29</td><td>2016-10-01</td><td>3</td><td>0</td><td>3</td><td>Frank Fruzsina</td><td>3</td></tr>",
                            "<tr><td>1467</td><td>fruzsina4</td><td>186</td><td>2017-01-22</td><td>2017-01-25</td><td>2</td><td>2</td><td>4</td><td>Frank Fruzsina</td><td>3</td></tr>",
                            "<tr><td>1574</td><td>eszter4</td><td>128</td><td>2017-02-26</td><td>2017-02-27</td><td>1</td><td>2</td><td>3</td><td>Fülöp Eszter</td><td>NULL</td></tr>",
                            "<tr><td>789</td><td>JANOSG</td><td>146</td><td>2016-08-16</td><td>2016-08-23</td><td>3</td><td>0</td><td>3</td><td>Giliga János</td><td>NULL</td></tr>",
                            "<tr><td>840</td><td>JANOSG</td><td>158</td><td>2016-08-30</td><td>2016-09-03</td><td>2</td><td>1</td><td>3</td><td>Giliga János</td><td>3</td></tr>",
                            "<tr><td>1259</td><td>JANOSG</td><td>140</td><td>2016-11-07</td><td>2016-11-14</td><td>1</td><td>2</td><td>3</td><td>Giliga János</td><td>3</td></tr>",
                            "<tr><td>885</td><td>kata</td><td>69</td><td>2016-05-31</td><td>2016-06-01</td><td>3</td><td>0</td><td>3</td><td>Gondos Katalin</td><td>NULL</td></tr>",
                            "<tr><td>1016</td><td>kata</td><td>92</td><td>2016-07-07</td><td>2016-07-09</td><td>3</td><td>0</td><td>3</td><td>Gondos Katalin</td><td>3</td></tr>",
                            "<tr><td>814</td><td>kata</td><td>70</td><td>2016-08-24</td><td>2016-08-27</td><td>2</td><td>1</td><td>3</td><td>Gondos Katalin</td><td>3</td></tr>",
                            "<tr><td>1070</td><td>kata</td><td>20</td><td>2016-09-19</td><td>2016-09-20</td><td>3</td><td>0</td><td>3</td><td>Gondos Katalin</td><td>3</td></tr>",
                            "<tr><td>1439</td><td>kata</td><td>77</td><td>2017-01-15</td><td>2017-01-21</td><td>1</td><td>2</td><td>3</td><td>Gondos Katalin</td><td>3</td></tr>",
                            "<tr><td>589</td><td>miklos2</td><td>44</td><td>2016-04-19</td><td>2016-04-21</td><td>3</td><td>0</td><td>3</td><td>Gondos Miklós</td><td>NULL</td></tr>",
                            "<tr><td>1283</td><td>miklos2</td><td>138</td><td>2016-11-16</td><td>2016-11-18</td><td>3</td><td>0</td><td>3</td><td>Gondos Miklós</td><td>3</td></tr>",
                            "<tr><td>1152</td><td>attila1</td><td>1</td><td>2016-10-15</td><td>2016-10-16</td><td>3</td><td>0</td><td>3</td><td>Gulyás Attila</td><td>NULL</td></tr>",
                            "<tr><td>1468</td><td>attila1</td><td>117</td><td>2017-01-23</td><td>2017-01-30</td><td>1</td><td>3</td><td>4</td><td>Gulyás Attila</td><td>3</td></tr>",
                            "<tr><td>763</td><td>KRISZTINAG</td><td>13</td><td>2016-08-08</td><td>2016-08-12</td><td>3</td><td>0</td><td>3</td><td>Gyárfás Krisztina</td><td>NULL</td></tr>",
                            "<tr><td>714</td><td>bence</td><td>73</td><td>2016-07-25</td><td>2016-08-01</td><td>2</td><td>1</td><td>3</td><td>Győrffy Bence</td><td>NULL</td></tr>",
                            "<tr><td>847</td><td>bence</td><td>74</td><td>2016-09-03</td><td>2016-09-06</td><td>2</td><td>1</td><td>3</td><td>Győrffy Bence</td><td>3</td></tr>",
                            "<tr><td>1220</td><td>bence</td><td>9</td><td>2016-10-30</td><td>2016-11-02</td><td>2</td><td>2</td><td>4</td><td>Győrffy Bence</td><td>3</td></tr>",
                            "<tr><td>1501</td><td>bence</td><td>116</td><td>2017-02-05</td><td>2017-02-09</td><td>1</td><td>2</td><td>3</td><td>Győrffy Bence</td><td>3</td></tr>",
                            "<tr><td>905</td><td>JOZSEFG</td><td>180</td><td>2016-06-04</td><td>2016-06-09</td><td>2</td><td>2</td><td>4</td><td>Gyuris József</td><td>NULL</td></tr>",
                            "<tr><td>813</td><td>JOZSEFG</td><td>14</td><td>2016-08-24</td><td>2016-08-27</td><td>2</td><td>1</td><td>3</td><td>Gyuris József</td><td>4</td></tr>",
                            "<tr><td>1569</td><td>JOZSEFG</td><td>96</td><td>2017-02-24</td><td>2017-03-03</td><td>3</td><td>0</td><td>3</td><td>Gyuris József</td><td>3</td></tr>",
                            "<tr><td>1085</td><td>anita</td><td>113</td><td>2016-09-28</td><td>2016-10-02</td><td>3</td><td>1</td><td>4</td><td>Hamvay-Kovács Anita</td><td>NULL</td></tr>",
                            "<tr><td>820</td><td>janos3</td><td>20</td><td>2016-08-24</td><td>2016-08-25</td><td>3</td><td>0</td><td>3</td><td>Harangozó János</td><td>NULL</td></tr>",
                            "<tr><td>1118</td><td>janos3</td><td>40</td><td>2016-10-03</td><td>2016-10-08</td><td>2</td><td>1</td><td>3</td><td>Harangozó János</td><td>3</td></tr>",
                            "<tr><td>1526</td><td>janos3</td><td>166</td><td>2017-02-12</td><td>2017-02-14</td><td>2</td><td>1</td><td>3</td><td>Harangozó János</td><td>3</td></tr>",
                            "<tr><td>1180</td><td>agnes3</td><td>104</td><td>2016-10-22</td><td>2016-10-23</td><td>2</td><td>1</td><td>3</td><td>Hartyánszky Ágnes</td><td>NULL</td></tr>",
                            "<tr><td>1544</td><td>agnes3</td><td>3</td><td>2017-02-16</td><td>2017-02-21</td><td>3</td><td>0</td><td>3</td><td>Hartyánszky Ágnes</td><td>3</td></tr>",
                            "<tr><td>1028</td><td>norbert2</td><td>15</td><td>2016-07-13</td><td>2016-07-15</td><td>2</td><td>1</td><td>3</td><td>Hegedűs Norbert</td><td>NULL</td></tr>",
                            "<tr><td>1482</td><td>norbert2</td><td>100</td><td>2017-01-29</td><td>2017-02-05</td><td>1</td><td>2</td><td>3</td><td>Hegedűs Norbert</td><td>3</td></tr>",
                            "<tr><td>606</td><td>AGNESH</td><td>31</td><td>2016-04-27</td><td>2016-04-28</td><td>1</td><td>3</td><td>4</td><td>Horváth Ágnes</td><td>NULL</td></tr>",
                            "<tr><td>1441</td><td>AGNESH</td><td>185</td><td>2017-01-16</td><td>2017-01-23</td><td>2</td><td>1</td><td>3</td><td>Horváth Ágnes</td><td>4</td></tr>",
                            "<tr><td>912</td><td>ARPADH</td><td>188</td><td>2016-06-06</td><td>2016-06-07</td><td>3</td><td>0</td><td>3</td><td>Horváth Árpád</td><td>NULL</td></tr>",
                            "<tr><td>1377</td><td>ARPADH</td><td>27</td><td>2016-12-18</td><td>2016-12-19</td><td>2</td><td>1</td><td>3</td><td>Horváth Árpád</td><td>3</td></tr>",
                            "<tr><td>1315</td><td>balint</td><td>100</td><td>2016-11-24</td><td>2016-11-29</td><td>1</td><td>2</td><td>3</td><td>Horváth Bálint</td><td>NULL</td></tr>",
                            "<tr><td>1570</td><td>katalin</td><td>176</td><td>2017-02-24</td><td>2017-02-27</td><td>1</td><td>2</td><td>3</td><td>Horváth Katalin</td><td>NULL</td></tr>",
                            "<tr><td>821</td><td>kriszti</td><td>34</td><td>2016-08-24</td><td>2016-08-25</td><td>2</td><td>1</td><td>3</td><td>Horváth Krisztina</td><td>NULL</td></tr>",
                            "<tr><td>1095</td><td>kriszti</td><td>194</td><td>2016-09-30</td><td>2016-10-05</td><td>2</td><td>1</td><td>3</td><td>Horváth Krisztina</td><td>3</td></tr>",
                            "<tr><td>1105</td><td>kriszti</td><td>150</td><td>2016-10-01</td><td>2016-10-02</td><td>2</td><td>1</td><td>3</td><td>Horváth Krisztina</td><td>3</td></tr>",
                            "<tr><td>1498</td><td>kriszti</td><td>16</td><td>2017-02-04</td><td>2017-02-11</td><td>3</td><td>0</td><td>3</td><td>Horváth Krisztina</td><td>3</td></tr>",
                            "<tr><td>1584</td><td>kriszti</td><td>67</td><td>2017-03-03</td><td>2017-03-04</td><td>1</td><td>2</td><td>3</td><td>Horváth Krisztina</td><td>3</td></tr>",
                            "<tr><td>1052</td><td>MARKH</td><td>25</td><td>2016-09-14</td><td>2016-09-17</td><td>1</td><td>2</td><td>3</td><td>Horváth Márk</td><td>NULL</td></tr>",
                            "<tr><td>1082</td><td>MARKH</td><td>27</td><td>2016-09-26</td><td>2016-10-01</td><td>1</td><td>3</td><td>4</td><td>Horváth Márk</td><td>3</td></tr>",
                            "<tr><td>1462</td><td>MARKH</td><td>156</td><td>2017-01-22</td><td>2017-01-29</td><td>1</td><td>3</td><td>4</td><td>Horváth Márk</td><td>3</td></tr>",
                            "<tr><td>1178</td><td>nikolett3</td><td>134</td><td>2016-10-22</td><td>2016-10-29</td><td>3</td><td>0</td><td>3</td><td>Horváth Nikolett</td><td>NULL</td></tr>",
                            "<tr><td>1027</td><td>ROBERTI</td><td>68</td><td>2016-07-12</td><td>2016-07-19</td><td>2</td><td>2</td><td>4</td><td>Iván Róbert</td><td>NULL</td></tr>",
                            "<tr><td>1129</td><td>ROBERTI</td><td>15</td><td>2016-10-08</td><td>2016-10-12</td><td>1</td><td>2</td><td>3</td><td>Iván Róbert</td><td>4</td></tr>",
                            "<tr><td>576</td><td>aron2</td><td>125</td><td>2016-04-11</td><td>2016-04-12</td><td>1</td><td>2</td><td>3</td><td>Jakab Áron</td><td>NULL</td></tr>",
                            "<tr><td>1007</td><td>aron2</td><td>122</td><td>2016-07-04</td><td>2016-07-06</td><td>2</td><td>1</td><td>3</td><td>Jakab Áron</td><td>3</td></tr>",
                            "<tr><td>1453</td><td>aron2</td><td>86</td><td>2017-01-17</td><td>2017-01-18</td><td>1</td><td>2</td><td>3</td><td>Jakab Áron</td><td>3</td></tr>",
                            "<tr><td>1573</td><td>aron2</td><td>59</td><td>2017-02-26</td><td>2017-02-27</td><td>2</td><td>1</td><td>3</td><td>Jakab Áron</td><td>3</td></tr>",
                            "<tr><td>598</td><td>ZSOLTJ</td><td>31</td><td>2016-04-24</td><td>2016-04-26</td><td>2</td><td>2</td><td>4</td><td>Józsa Zsolt</td><td>NULL</td></tr>",
                            "<tr><td>1234</td><td>MIHALYJ</td><td>66</td><td>2016-11-01</td><td>2016-11-04</td><td>1</td><td>2</td><td>3</td><td>Juhász Mihály</td><td>NULL</td></tr>",
                            "<tr><td>1505</td><td>MIHALYJ</td><td>18</td><td>2017-02-06</td><td>2017-02-12</td><td>2</td><td>2</td><td>4</td><td>Juhász Mihály</td><td>3</td></tr>",
                            "<tr><td>605</td><td>marton</td><td>111</td><td>2016-04-27</td><td>2016-05-04</td><td>2</td><td>1</td><td>3</td><td>Kalacsi Márton</td><td>NULL</td></tr>",
                            "<tr><td>916</td><td>marton</td><td>17</td><td>2016-06-06</td><td>2016-06-08</td><td>1</td><td>2</td><td>3</td><td>Kalacsi Márton</td><td>3</td></tr>",
                            "<tr><td>1069</td><td>sandor</td><td>2</td><td>2016-09-19</td><td>2016-09-26</td><td>3</td><td>1</td><td>4</td><td>Karasz Sándor</td><td>NULL</td></tr>",
                            "<tr><td>1204</td><td>RENATAK</td><td>189</td><td>2016-10-27</td><td>2016-10-29</td><td>2</td><td>2</td><td>4</td><td>Kardos Renáta</td><td>NULL</td></tr>",
                            "<tr><td>1471</td><td>RENATAK</td><td>145</td><td>2017-01-23</td><td>2017-01-24</td><td>2</td><td>1</td><td>3</td><td>Kardos Renáta</td><td>4</td></tr>",
                            "<tr><td>895</td><td>tihamer</td><td>36</td><td>2016-06-03</td><td>2016-06-08</td><td>3</td><td>2</td><td>5</td><td>Kazy Tihamér</td><td>NULL</td></tr>",
                            "<tr><td>698</td><td>tihamer</td><td>77</td><td>2016-07-20</td><td>2016-07-24</td><td>1</td><td>2</td><td>3</td><td>Kazy Tihamér</td><td>5</td></tr>",
                            "<tr><td>798</td><td>tihamer</td><td>83</td><td>2016-08-18</td><td>2016-08-22</td><td>1</td><td>2</td><td>3</td><td>Kazy Tihamér</td><td>4</td></tr>",
                            "<tr><td>645</td><td>ARONK</td><td>67</td><td>2016-05-14</td><td>2016-05-20</td><td>2</td><td>2</td><td>4</td><td>Kelemen Áron</td><td>NULL</td></tr>",
                            "<tr><td>932</td><td>ARONK</td><td>40</td><td>2016-06-07</td><td>2016-06-13</td><td>1</td><td>2</td><td>3</td><td>Kelemen Áron</td><td>4</td></tr>",
                            "<tr><td>758</td><td>ARONK</td><td>27</td><td>2016-08-05</td><td>2016-08-08</td><td>3</td><td>1</td><td>4</td><td>Kelemen Áron</td><td>3</td></tr>",
                            "<tr><td>1353</td><td>ARONK</td><td>111</td><td>2016-12-07</td><td>2016-12-12</td><td>1</td><td>2</td><td>3</td><td>Kelemen Áron</td><td>3</td></tr>",
                            "<tr><td>972</td><td>BEATRIXK</td><td>103</td><td>2016-06-19</td><td>2016-06-21</td><td>1</td><td>2</td><td>3</td><td>Kerényi Beatrix</td><td>NULL</td></tr>",
                            "<tr><td>768</td><td>BEATRIXK</td><td>138</td><td>2016-08-12</td><td>2016-08-18</td><td>3</td><td>1</td><td>4</td><td>Kerényi Beatrix</td><td>3</td></tr>",
                            "<tr><td>1359</td><td>BEATRIXK</td><td>88</td><td>2016-12-12</td><td>2016-12-14</td><td>2</td><td>1</td><td>3</td><td>Kerényi Beatrix</td><td>3</td></tr>",
                            "<tr><td>1370</td><td>BEATRIXK</td><td>138</td><td>2016-12-17</td><td>2016-12-22</td><td>3</td><td>1</td><td>4</td><td>Kerényi Beatrix</td><td>3</td></tr>",
                            "<tr><td>1512</td><td>BEATRIXK</td><td>55</td><td>2017-02-08</td><td>2017-02-09</td><td>1</td><td>2</td><td>3</td><td>Kerényi Beatrix</td><td>3</td></tr>",
                            "<tr><td>919</td><td>VIKTORK</td><td>36</td><td>2016-06-06</td><td>2016-06-07</td><td>3</td><td>1</td><td>4</td><td>Keresztúri Viktor</td><td>NULL</td></tr>",
                            "<tr><td>1002</td><td>katalin4</td><td>117</td><td>2016-07-03</td><td>2016-07-04</td><td>2</td><td>2</td><td>4</td><td>Kertész Katalin</td><td>NULL</td></tr>",
                            "<tr><td>1325</td><td>katalin4</td><td>70</td><td>2016-11-27</td><td>2016-12-04</td><td>2</td><td>1</td><td>3</td><td>Kertész Katalin</td><td>4</td></tr>",
                            "<tr><td>1340</td><td>katalin4</td><td>196</td><td>2016-12-04</td><td>2016-12-09</td><td>1</td><td>2</td><td>3</td><td>Kertész Katalin</td><td>3</td></tr>",
                            "<tr><td>635</td><td>daniel1</td><td>97</td><td>2016-05-10</td><td>2016-05-13</td><td>2</td><td>2</td><td>4</td><td>Keszler Dániel</td><td>NULL</td></tr>",
                            "<tr><td>859</td><td>daniel1</td><td>86</td><td>2016-05-26</td><td>2016-05-27</td><td>2</td><td>1</td><td>3</td><td>Keszler Dániel</td><td>4</td></tr>",
                            "<tr><td>1419</td><td>daniel1</td><td>124</td><td>2017-01-05</td><td>2017-01-08</td><td>1</td><td>2</td><td>3</td><td>Keszler Dániel</td><td>3</td></tr>",
                            "<tr><td>1580</td><td>daniel1</td><td>67</td><td>2017-03-01</td><td>2017-03-06</td><td>2</td><td>2</td><td>4</td><td>Keszler Dániel</td><td>3</td></tr>",
                            "<tr><td>588</td><td>mark</td><td>156</td><td>2016-04-19</td><td>2016-04-26</td><td>2</td><td>2</td><td>4</td><td>Kispál Márk</td><td>NULL</td></tr>",
                            "<tr><td>958</td><td>mark</td><td>181</td><td>2016-06-13</td><td>2016-06-18</td><td>2</td><td>1</td><td>3</td><td>Kispál Márk</td><td>4</td></tr>",
                            "<tr><td>764</td><td>mark</td><td>197</td><td>2016-08-09</td><td>2016-08-16</td><td>2</td><td>1</td><td>3</td><td>Kispál Márk</td><td>3</td></tr>",
                            "<tr><td>869</td><td>adam1</td><td>83</td><td>2016-05-28</td><td>2016-06-03</td><td>3</td><td>0</td><td>3</td><td>Kiss Ádám</td><td>NULL</td></tr>",
                            "<tr><td>809</td><td>andrea</td><td>92</td><td>2016-08-23</td><td>2016-08-26</td><td>3</td><td>0</td><td>3</td><td>Kiss Andrea</td><td>NULL</td></tr>",
                            "<tr><td>1173</td><td>andrea</td><td>18</td><td>2016-10-21</td><td>2016-10-27</td><td>2</td><td>2</td><td>4</td><td>Kiss Andrea</td><td>3</td></tr>",
                            "<tr><td>1394</td><td>lajos</td><td>143</td><td>2016-12-25</td><td>2016-12-28</td><td>1</td><td>3</td><td>4</td><td>Kiss Lajos</td><td>NULL</td></tr>",
                            "<tr><td>662</td><td>andras41</td><td>179</td><td>2016-05-21</td><td>2016-05-23</td><td>2</td><td>2</td><td>4</td><td>Komjáti András</td><td>NULL</td></tr>",
                            "<tr><td>927</td><td>andras41</td><td>160</td><td>2016-06-07</td><td>2016-06-11</td><td>1</td><td>2</td><td>3</td><td>Komjáti András</td><td>4</td></tr>",
                            "<tr><td>731</td><td>andras41</td><td>181</td><td>2016-07-28</td><td>2016-08-03</td><td>3</td><td>0</td><td>3</td><td>Komjáti András</td><td>3</td></tr>",
                            "<tr><td>796</td><td>andras41</td><td>138</td><td>2016-08-17</td><td>2016-08-21</td><td>3</td><td>0</td><td>3</td><td>Komjáti András</td><td>3</td></tr>",
                            "<tr><td>1153</td><td>andras41</td><td>186</td><td>2016-10-15</td><td>2016-10-18</td><td>1</td><td>2</td><td>3</td><td>Komjáti András</td><td>3</td></tr>",
                            "<tr><td>1298</td><td>andras41</td><td>109</td><td>2016-11-20</td><td>2016-11-24</td><td>1</td><td>2</td><td>3</td><td>Komjáti András</td><td>3</td></tr>",
                            "<tr><td>890</td><td>GYONGYIK</td><td>146</td><td>2016-06-02</td><td>2016-06-05</td><td>2</td><td>1</td><td>3</td><td>Kornseé Gyöngyi</td><td>NULL</td></tr>",
                            "<tr><td>795</td><td>GYONGYIK</td><td>10</td><td>2016-08-17</td><td>2016-08-21</td><td>3</td><td>0</td><td>3</td><td>Kornseé Gyöngyi</td><td>3</td></tr>",
                            "<tr><td>1463</td><td>GYONGYIK</td><td>185</td><td>2017-01-22</td><td>2017-01-29</td><td>3</td><td>0</td><td>3</td><td>Kornseé Gyöngyi</td><td>3</td></tr>",
                            "<tr><td>736</td><td>AGNESK</td><td>66</td><td>2016-07-29</td><td>2016-08-01</td><td>2</td><td>1</td><td>3</td><td>Kovács Ágnes</td><td>NULL</td></tr>",
                            "<tr><td>969</td><td>bernadett2</td><td>153</td><td>2016-06-17</td><td>2016-06-23</td><td>3</td><td>0</td><td>3</td><td>Kovács Bernadett</td><td>NULL</td></tr>",
                            "<tr><td>824</td><td>bernadett2</td><td>48</td><td>2016-08-25</td><td>2016-08-27</td><td>1</td><td>2</td><td>3</td><td>Kovács Bernadett</td><td>3</td></tr>",
                            "<tr><td>1035</td><td>bernadett2</td><td>18</td><td>2016-09-07</td><td>2016-09-13</td><td>2</td><td>1</td><td>3</td><td>Kovács Bernadett</td><td>3</td></tr>",
                            "<tr><td>1229</td><td>bernadett2</td><td>79</td><td>2016-10-30</td><td>2016-11-06</td><td>3</td><td>0</td><td>3</td><td>Kovács Bernadett</td><td>3</td></tr>",
                            "<tr><td>1472</td><td>bernadett2</td><td>118</td><td>2017-01-24</td><td>2017-01-30</td><td>1</td><td>2</td><td>3</td><td>Kovács Bernadett</td><td>3</td></tr>",
                            "<tr><td>633</td><td>katka</td><td>187</td><td>2016-05-09</td><td>2016-05-15</td><td>2</td><td>1</td><td>3</td><td>Kovács Katalin</td><td>NULL</td></tr>",
                            "<tr><td>956</td><td>katka</td><td>156</td><td>2016-06-13</td><td>2016-06-19</td><td>2</td><td>2</td><td>4</td><td>Kovács Katalin</td><td>3</td></tr>",
                            "<tr><td>1029</td><td>katka</td><td>113</td><td>2016-09-05</td><td>2016-09-10</td><td>2</td><td>2</td><td>4</td><td>Kovács Katalin</td><td>3</td></tr>",
                            "<tr><td>1247</td><td>katka</td><td>117</td><td>2016-11-05</td><td>2016-11-08</td><td>2</td><td>1</td><td>3</td><td>Kovács Katalin</td><td>3</td></tr>",
                            "<tr><td>1414</td><td>katka</td><td>167</td><td>2017-01-02</td><td>2017-01-05</td><td>3</td><td>0</td><td>3</td><td>Kovács Katalin</td><td>3</td></tr>",
                            "<tr><td>1458</td><td>katka</td><td>75</td><td>2017-01-19</td><td>2017-01-20</td><td>2</td><td>1</td><td>3</td><td>Kovács Katalin</td><td>3</td></tr>",
                            "<tr><td>794</td><td>MATEK</td><td>168</td><td>2016-08-17</td><td>2016-08-21</td><td>2</td><td>2</td><td>4</td><td>Koza Máté</td><td>NULL</td></tr>",
                            "<tr><td>671</td><td>peter1</td><td>96</td><td>2016-07-14</td><td>2016-07-18</td><td>3</td><td>0</td><td>3</td><td>Kozma Péter</td><td>NULL</td></tr>",
                            "<tr><td>1201</td><td>peter1</td><td>137</td><td>2016-10-26</td><td>2016-11-01</td><td>1</td><td>2</td><td>3</td><td>Kozma Péter</td><td>3</td></tr>",
                            "<tr><td>1565</td><td>peter1</td><td>160</td><td>2017-02-23</td><td>2017-02-26</td><td>2</td><td>1</td><td>3</td><td>Kozma Péter</td><td>3</td></tr>",
                            "<tr><td>1579</td><td>peter1</td><td>127</td><td>2017-02-28</td><td>2017-03-05</td><td>2</td><td>1</td><td>3</td><td>Kozma Péter</td><td>3</td></tr>",
                            "<tr><td>877</td><td>nikoletta4</td><td>74</td><td>2016-05-30</td><td>2016-06-03</td><td>3</td><td>0</td><td>3</td><td>Kő Nikoletta</td><td>NULL</td></tr>",
                            "<tr><td>775</td><td>nikoletta4</td><td>12</td><td>2016-08-13</td><td>2016-08-17</td><td>2</td><td>1</td><td>3</td><td>Kő Nikoletta</td><td>3</td></tr>",
                            "<tr><td>1355</td><td>nikoletta4</td><td>93</td><td>2016-12-08</td><td>2016-12-10</td><td>3</td><td>2</td><td>5</td><td>Kő Nikoletta</td><td>3</td></tr>",
                            "<tr><td>973</td><td>gabor1</td><td>16</td><td>2016-06-20</td><td>2016-06-21</td><td>1</td><td>3</td><td>4</td><td>Köves Gábor</td><td>NULL</td></tr>",
                            "<tr><td>844</td><td>gabor1</td><td>87</td><td>2016-09-02</td><td>2016-09-03</td><td>3</td><td>0</td><td>3</td><td>Köves Gábor</td><td>4</td></tr>",
                            "<tr><td>1083</td><td>emese</td><td>109</td><td>2016-09-27</td><td>2016-09-28</td><td>2</td><td>1</td><td>3</td><td>Kuruc Emese</td><td>NULL</td></tr>",
                            "<tr><td>1313</td><td>emese</td><td>143</td><td>2016-11-23</td><td>2016-11-27</td><td>1</td><td>3</td><td>4</td><td>Kuruc Emese</td><td>3</td></tr>",
                            "<tr><td>1354</td><td>emese</td><td>107</td><td>2016-12-07</td><td>2016-12-08</td><td>2</td><td>1</td><td>3</td><td>Kuruc Emese</td><td>3</td></tr>",
                            "<tr><td>628</td><td>agnes</td><td>48</td><td>2016-05-09</td><td>2016-05-11</td><td>3</td><td>0</td><td>3</td><td>Lengyel Ágnes</td><td>NULL</td></tr>",
                            "<tr><td>666</td><td>agnes</td><td>3</td><td>2016-07-13</td><td>2016-07-19</td><td>2</td><td>1</td><td>3</td><td>Lengyel Ágnes</td><td>3</td></tr>",
                            "<tr><td>738</td><td>agnes</td><td>1</td><td>2016-07-30</td><td>2016-08-06</td><td>3</td><td>0</td><td>3</td><td>Lengyel Ágnes</td><td>3</td></tr>",
                            "<tr><td>627</td><td>kornel4</td><td>38</td><td>2016-05-08</td><td>2016-05-14</td><td>1</td><td>2</td><td>3</td><td>Lukács Kornél</td><td>NULL</td></tr>",
                            "<tr><td>888</td><td>kornel4</td><td>49</td><td>2016-06-02</td><td>2016-06-09</td><td>1</td><td>2</td><td>3</td><td>Lukács Kornél</td><td>3</td></tr>",
                            "<tr><td>1077</td><td>kornel4</td><td>145</td><td>2016-09-23</td><td>2016-09-24</td><td>1</td><td>2</td><td>3</td><td>Lukács Kornél</td><td>3</td></tr>",
                            "<tr><td>624</td><td>andi</td><td>33</td><td>2016-05-08</td><td>2016-05-14</td><td>1</td><td>3</td><td>4</td><td>Maródi Andrea</td><td>NULL</td></tr>",
                            "<tr><td>1286</td><td>andi</td><td>127</td><td>2016-11-16</td><td>2016-11-17</td><td>2</td><td>1</td><td>3</td><td>Maródi Andrea</td><td>4</td></tr>",
                            "<tr><td>1437</td><td>andi</td><td>183</td><td>2017-01-13</td><td>2017-01-17</td><td>3</td><td>0</td><td>3</td><td>Maródi Andrea</td><td>3</td></tr>",
                            "<tr><td>971</td><td>SZABOLCSM</td><td>35</td><td>2016-06-18</td><td>2016-06-21</td><td>1</td><td>2</td><td>3</td><td>Miklós Szabolcs</td><td>NULL</td></tr>",
                            "<tr><td>1208</td><td>SZABOLCSM</td><td>58</td><td>2016-10-28</td><td>2016-11-03</td><td>2</td><td>1</td><td>3</td><td>Miklós Szabolcs</td><td>3</td></tr>",
                            "<tr><td>1497</td><td>SZABOLCSM</td><td>179</td><td>2017-02-04</td><td>2017-02-05</td><td>2</td><td>1</td><td>3</td><td>Miklós Szabolcs</td><td>3</td></tr>",
                            "<tr><td>770</td><td>tamara2</td><td>42</td><td>2016-08-12</td><td>2016-08-15</td><td>2</td><td>1</td><td>3</td><td>Miklós Tamara</td><td>NULL</td></tr>",
                            "<tr><td>871</td><td>norbert4</td><td>82</td><td>2016-05-29</td><td>2016-06-03</td><td>3</td><td>0</td><td>3</td><td>Mile Norbert</td><td>NULL</td></tr>",
                            "<tr><td>963</td><td>norbert4</td><td>74</td><td>2016-06-16</td><td>2016-06-17</td><td>3</td><td>1</td><td>4</td><td>Mile Norbert</td><td>3</td></tr>",
                            "<tr><td>967</td><td>norbert4</td><td>123</td><td>2016-06-16</td><td>2016-06-21</td><td>3</td><td>0</td><td>3</td><td>Mile Norbert</td><td>3</td></tr>",
                            "<tr><td>1123</td><td>norbert4</td><td>11</td><td>2016-10-05</td><td>2016-10-10</td><td>2</td><td>1</td><td>3</td><td>Mile Norbert</td><td>3</td></tr>",
                            "<tr><td>1211</td><td>norbert4</td><td>178</td><td>2016-10-28</td><td>2016-10-31</td><td>2</td><td>1</td><td>3</td><td>Mile Norbert</td><td>3</td></tr>",
                            "<tr><td>1333</td><td>norbert4</td><td>70</td><td>2016-11-30</td><td>2016-12-06</td><td>2</td><td>1</td><td>3</td><td>Mile Norbert</td><td>3</td></tr>",
                            "<tr><td>1020</td><td>KRISZTIANM</td><td>12</td><td>2016-07-09</td><td>2016-07-14</td><td>2</td><td>1</td><td>3</td><td>Mogyródi Krisztián</td><td>NULL</td></tr>",
                            "<tr><td>749</td><td>KRISZTIANM</td><td>172</td><td>2016-08-02</td><td>2016-08-08</td><td>2</td><td>2</td><td>4</td><td>Mogyródi Krisztián</td><td>3</td></tr>",
                            "<tr><td>1009</td><td>andras21</td><td>71</td><td>2016-07-04</td><td>2016-07-05</td><td>2</td><td>1</td><td>3</td><td>Molnár András</td><td>NULL</td></tr>",
                            "<tr><td>1101</td><td>andras21</td><td>89</td><td>2016-10-01</td><td>2016-10-06</td><td>3</td><td>0</td><td>3</td><td>Molnár András</td><td>3</td></tr>",
                            "<tr><td>1121</td><td>andras21</td><td>115</td><td>2016-10-04</td><td>2016-10-11</td><td>1</td><td>2</td><td>3</td><td>Molnár András</td><td>3</td></tr>",
                            "<tr><td>1310</td><td>andras21</td><td>155</td><td>2016-11-23</td><td>2016-11-24</td><td>1</td><td>3</td><td>4</td><td>Molnár András</td><td>3</td></tr>",
                            "<tr><td>933</td><td>balint1</td><td>160</td><td>2016-06-07</td><td>2016-06-11</td><td>2</td><td>1</td><td>3</td><td>Molnár Bálint</td><td>NULL</td></tr>",
                            "<tr><td>924</td><td>balint1</td><td>40</td><td>2016-06-07</td><td>2016-06-12</td><td>2</td><td>1</td><td>3</td><td>Molnár Bálint</td><td>3</td></tr>",
                            "<tr><td>1376</td><td>balint1</td><td>84</td><td>2016-12-17</td><td>2016-12-22</td><td>3</td><td>0</td><td>3</td><td>Molnár Bálint</td><td>3</td></tr>",
                            "<tr><td>1404</td><td>balint1</td><td>187</td><td>2016-12-29</td><td>2016-12-31</td><td>2</td><td>1</td><td>3</td><td>Molnár Bálint</td><td>3</td></tr>",
                            "<tr><td>772</td><td>eszter</td><td>6</td><td>2016-08-12</td><td>2016-08-18</td><td>3</td><td>0</td><td>3</td><td>Molnár Eszter</td><td>NULL</td></tr>",
                            "<tr><td>1119</td><td>eszter</td><td>83</td><td>2016-10-04</td><td>2016-10-10</td><td>1</td><td>2</td><td>3</td><td>Molnár Eszter</td><td>3</td></tr>",
                            "<tr><td>1193</td><td>eszter</td><td>143</td><td>2016-10-26</td><td>2016-11-01</td><td>2</td><td>1</td><td>3</td><td>Molnár Eszter</td><td>3</td></tr>",
                            "<tr><td>1547</td><td>zsofi1</td><td>48</td><td>2017-02-18</td><td>2017-02-19</td><td>1</td><td>2</td><td>3</td><td>Molnár Zsófi</td><td>NULL</td></tr>",
                            "<tr><td>778</td><td>laszlo2</td><td>19</td><td>2016-08-14</td><td>2016-08-15</td><td>2</td><td>1</td><td>3</td><td>Móra László</td><td>NULL</td></tr>",
                            "<tr><td>1032</td><td>laszlo2</td><td>146</td><td>2016-09-05</td><td>2016-09-10</td><td>2</td><td>1</td><td>3</td><td>Móra László</td><td>3</td></tr>",
                            "<tr><td>1320</td><td>laszlo2</td><td>85</td><td>2016-11-25</td><td>2016-11-26</td><td>2</td><td>1</td><td>3</td><td>Móra László</td><td>3</td></tr>",
                            "<tr><td>1361</td><td>ARPADM</td><td>140</td><td>2016-12-14</td><td>2016-12-17</td><td>1</td><td>2</td><td>3</td><td>Móricz Árpád</td><td>NULL</td></tr>",
                            "<tr><td>1522</td><td>ARPADM</td><td>104</td><td>2017-02-12</td><td>2017-02-14</td><td>1</td><td>2</td><td>3</td><td>Móricz Árpád</td><td>3</td></tr>",
                            "<tr><td>1405</td><td>henrik3</td><td>90</td><td>2016-12-29</td><td>2017-01-03</td><td>3</td><td>0</td><td>3</td><td>Nádudvari Henrik</td><td>NULL</td></tr>",
                            "<tr><td>1476</td><td>henrik3</td><td>27</td><td>2017-01-27</td><td>2017-01-28</td><td>2</td><td>1</td><td>3</td><td>Nádudvari Henrik</td><td>3</td></tr>",
                            "<tr><td>593</td><td>gabriella1</td><td>77</td><td>2016-04-21</td><td>2016-04-24</td><td>3</td><td>0</td><td>3</td><td>Nagy Gabriella</td><td>NULL</td></tr>",
                            "<tr><td>1022</td><td>gabriella1</td><td>181</td><td>2016-07-10</td><td>2016-07-11</td><td>3</td><td>0</td><td>3</td><td>Nagy Gabriella</td><td>3</td></tr>",
                            "<tr><td>1496</td><td>gabriella1</td><td>61</td><td>2017-02-04</td><td>2017-02-11</td><td>1</td><td>2</td><td>3</td><td>Nagy Gabriella</td><td>3</td></tr>",
                            "<tr><td>1556</td><td>gabriella1</td><td>38</td><td>2017-02-21</td><td>2017-02-27</td><td>2</td><td>1</td><td>3</td><td>Nagy Gabriella</td><td>3</td></tr>",
                            "<tr><td>1493</td><td>julia4</td><td>120</td><td>2017-02-04</td><td>2017-02-11</td><td>1</td><td>3</td><td>4</td><td>Nagy Júlia</td><td>NULL</td></tr>",
                            "<tr><td>1111</td><td>LASZLON</td><td>132</td><td>2016-10-01</td><td>2016-10-04</td><td>2</td><td>1</td><td>3</td><td>Nagy László</td><td>NULL</td></tr>",
                            "<tr><td>1548</td><td>LASZLON</td><td>88</td><td>2017-02-18</td><td>2017-02-25</td><td>2</td><td>1</td><td>3</td><td>Nagy László</td><td>3</td></tr>",
                            "<tr><td>623</td><td>csongor3</td><td>96</td><td>2016-05-08</td><td>2016-05-15</td><td>3</td><td>0</td><td>3</td><td>Nagymihály Csongor</td><td>NULL</td></tr>",
                            "<tr><td>943</td><td>csongor3</td><td>115</td><td>2016-06-10</td><td>2016-06-17</td><td>3</td><td>0</td><td>3</td><td>Nagymihály Csongor</td><td>3</td></tr>",
                            "<tr><td>1021</td><td>csongor3</td><td>179</td><td>2016-07-09</td><td>2016-07-10</td><td>3</td><td>1</td><td>4</td><td>Nagymihály Csongor</td><td>3</td></tr>",
                            "<tr><td>1277</td><td>csongor3</td><td>82</td><td>2016-11-12</td><td>2016-11-17</td><td>2</td><td>1</td><td>3</td><td>Nagymihály Csongor</td><td>3</td></tr>",
                            "<tr><td>1531</td><td>csongor3</td><td>124</td><td>2017-02-13</td><td>2017-02-19</td><td>3</td><td>0</td><td>3</td><td>Nagymihály Csongor</td><td>3</td></tr>",
                            "<tr><td>696</td><td>lala</td><td>19</td><td>2016-07-20</td><td>2016-07-21</td><td>2</td><td>1</td><td>3</td><td>Nagymihály Lajos</td><td>NULL</td></tr>",
                            "<tr><td>716</td><td>lala</td><td>118</td><td>2016-07-26</td><td>2016-07-27</td><td>1</td><td>2</td><td>3</td><td>Nagymihály Lajos</td><td>3</td></tr>",
                            "<tr><td>1223</td><td>lala</td><td>123</td><td>2016-10-30</td><td>2016-10-31</td><td>3</td><td>0</td><td>3</td><td>Nagymihály Lajos</td><td>3</td></tr>",
                            "<tr><td>1425</td><td>lala</td><td>44</td><td>2017-01-08</td><td>2017-01-10</td><td>2</td><td>1</td><td>3</td><td>Nagymihály Lajos</td><td>3</td></tr>",
                            "<tr><td>1232</td><td>andrea4</td><td>55</td><td>2016-10-30</td><td>2016-11-06</td><td>1</td><td>2</td><td>3</td><td>Neizer Andrea</td><td>NULL</td></tr>",
                            "<tr><td>962</td><td>georgij</td><td>117</td><td>2016-06-16</td><td>2016-06-20</td><td>1</td><td>2</td><td>3</td><td>Nyíri Georgij</td><td>NULL</td></tr>",
                            "<tr><td>788</td><td>georgij</td><td>3</td><td>2016-08-16</td><td>2016-08-22</td><td>2</td><td>2</td><td>4</td><td>Nyíri Georgij</td><td>3</td></tr>",
                            "<tr><td>1064</td><td>georgij</td><td>139</td><td>2016-09-18</td><td>2016-09-24</td><td>2</td><td>1</td><td>3</td><td>Nyíri Georgij</td><td>3</td></tr>",
                            "<tr><td>660</td><td>ATTILAO</td><td>21</td><td>2016-05-21</td><td>2016-05-26</td><td>1</td><td>2</td><td>3</td><td>Opra Attila</td><td>NULL</td></tr>",
                            "<tr><td>903</td><td>ATTILAO</td><td>192</td><td>2016-06-04</td><td>2016-06-11</td><td>2</td><td>1</td><td>3</td><td>Opra Attila</td><td>3</td></tr>",
                            "<tr><td>1559</td><td>ATTILAO</td><td>180</td><td>2017-02-22</td><td>2017-02-25</td><td>2</td><td>1</td><td>3</td><td>Opra Attila</td><td>3</td></tr>",
                            "<tr><td>925</td><td>BERNADETTO</td><td>185</td><td>2016-06-07</td><td>2016-06-13</td><td>2</td><td>1</td><td>3</td><td>Orbán Bernadett</td><td>NULL</td></tr>",
                            "<tr><td>942</td><td>BERNADETTO</td><td>92</td><td>2016-06-10</td><td>2016-06-16</td><td>3</td><td>1</td><td>4</td><td>Orbán Bernadett</td><td>3</td></tr>",
                            "<tr><td>1411</td><td>BERNADETTO</td><td>35</td><td>2017-01-01</td><td>2017-01-02</td><td>2</td><td>1</td><td>3</td><td>Orbán Bernadett</td><td>3</td></tr>",
                            "<tr><td>1262</td><td>ferenc1</td><td>154</td><td>2016-11-07</td><td>2016-11-08</td><td>1</td><td>2</td><td>3</td><td>Orosz Ferenc</td><td>NULL</td></tr>",
                            "<tr><td>861</td><td>GYORGYO</td><td>124</td><td>2016-05-27</td><td>2016-05-28</td><td>2</td><td>1</td><td>3</td><td>Oroszi György</td><td>NULL</td></tr>",
                            "<tr><td>734</td><td>GYORGYO</td><td>55</td><td>2016-07-28</td><td>2016-08-03</td><td>1</td><td>2</td><td>3</td><td>Oroszi György</td><td>3</td></tr>",
                            "<tr><td>1566</td><td>GYORGYO</td><td>115</td><td>2017-02-24</td><td>2017-02-25</td><td>3</td><td>0</td><td>3</td><td>Oroszi György</td><td>3</td></tr>",
                            "<tr><td>1150</td><td>arpad2</td><td>28</td><td>2016-10-13</td><td>2016-10-19</td><td>2</td><td>1</td><td>3</td><td>Ötvös Árpád</td><td>NULL</td></tr>",
                            "<tr><td>1387</td><td>arpad2</td><td>197</td><td>2016-12-24</td><td>2016-12-27</td><td>2</td><td>1</td><td>3</td><td>Ötvös Árpád</td><td>3</td></tr>",
                            "<tr><td>1550</td><td>arpad2</td><td>51</td><td>2017-02-18</td><td>2017-02-19</td><td>3</td><td>1</td><td>4</td><td>Ötvös Árpád</td><td>3</td></tr>",
                            "<tr><td>585</td><td>polla</td><td>70</td><td>2016-04-17</td><td>2016-04-22</td><td>1</td><td>2</td><td>3</td><td>Palágyi Polla</td><td>NULL</td></tr>",
                            "<tr><td>792</td><td>polla</td><td>168</td><td>2016-08-16</td><td>2016-08-19</td><td>1</td><td>3</td><td>4</td><td>Palágyi Polla</td><td>3</td></tr>",
                            "<tr><td>1011</td><td>JANOSP</td><td>198</td><td>2016-07-04</td><td>2016-07-11</td><td>3</td><td>0</td><td>3</td><td>Pálinkás János</td><td>NULL</td></tr>",
                            "<tr><td>982</td><td>imre1</td><td>77</td><td>2016-06-23</td><td>2016-06-26</td><td>2</td><td>2</td><td>4</td><td>Papp Imre</td><td>NULL</td></tr>",
                            "<tr><td>810</td><td>imre1</td><td>109</td><td>2016-08-23</td><td>2016-08-25</td><td>1</td><td>2</td><td>3</td><td>Papp Imre</td><td>4</td></tr>",
                            "<tr><td>1499</td><td>imre1</td><td>113</td><td>2017-02-05</td><td>2017-02-07</td><td>3</td><td>1</td><td>4</td><td>Papp Imre</td><td>3</td></tr>",
                            "<tr><td>1038</td><td>ROBERTP</td><td>3</td><td>2016-09-08</td><td>2016-09-11</td><td>1</td><td>3</td><td>4</td><td>Pásztor Róbert</td><td>NULL</td></tr>",
                            "<tr><td>957</td><td>brigitta3</td><td>187</td><td>2016-06-13</td><td>2016-06-17</td><td>3</td><td>0</td><td>3</td><td>Pataki Brigitta</td><td>NULL</td></tr>",
                            "<tr><td>1243</td><td>brigitta3</td><td>48</td><td>2016-11-03</td><td>2016-11-09</td><td>3</td><td>0</td><td>3</td><td>Pataki Brigitta</td><td>3</td></tr>",
                            "<tr><td>1183</td><td>robert2</td><td>185</td><td>2016-10-23</td><td>2016-10-28</td><td>1</td><td>2</td><td>3</td><td>Patay Róbert</td><td>NULL</td></tr>",
                            "<tr><td>1423</td><td>eva2</td><td>9</td><td>2017-01-06</td><td>2017-01-09</td><td>1</td><td>3</td><td>4</td><td>Perlinger Éva</td><td>NULL</td></tr>",
                            "<tr><td>700</td><td>ZOLTANP</td><td>78</td><td>2016-07-20</td><td>2016-07-25</td><td>1</td><td>2</td><td>3</td><td>Pintér Zoltán</td><td>NULL</td></tr>",
                            "<tr><td>1352</td><td>ZOLTANP</td><td>115</td><td>2016-12-07</td><td>2016-12-10</td><td>2</td><td>1</td><td>3</td><td>Pintér Zoltán</td><td>3</td></tr>",
                            "<tr><td>578</td><td>anett3</td><td>185</td><td>2016-04-13</td><td>2016-04-19</td><td>2</td><td>1</td><td>3</td><td>Pivarcsi Anett</td><td>NULL</td></tr>",
                            "<tr><td>581</td><td>anett3</td><td>144</td><td>2016-04-15</td><td>2016-04-19</td><td>2</td><td>1</td><td>3</td><td>Pivarcsi Anett</td><td>3</td></tr>",
                            "<tr><td>607</td><td>anett3</td><td>96</td><td>2016-04-28</td><td>2016-05-02</td><td>2</td><td>1</td><td>3</td><td>Pivarcsi Anett</td><td>3</td></tr>",
                            "<tr><td>793</td><td>anett3</td><td>49</td><td>2016-08-17</td><td>2016-08-23</td><td>3</td><td>0</td><td>3</td><td>Pivarcsi Anett</td><td>3</td></tr>",
                            "<tr><td>1149</td><td>anett3</td><td>133</td><td>2016-10-12</td><td>2016-10-19</td><td>3</td><td>0</td><td>3</td><td>Pivarcsi Anett</td><td>3</td></tr>",
                            "<tr><td>930</td><td>zsolt1</td><td>168</td><td>2016-06-07</td><td>2016-06-10</td><td>2</td><td>2</td><td>4</td><td>Pulai Zsolt</td><td>NULL</td></tr>",
                            "<tr><td>712</td><td>zsuzsa</td><td>71</td><td>2016-07-24</td><td>2016-07-25</td><td>2</td><td>1</td><td>3</td><td>Pusztai Zsuzsanna</td><td>NULL</td></tr>",
                            "<tr><td>1327</td><td>zsuzsa</td><td>55</td><td>2016-11-28</td><td>2016-12-04</td><td>1</td><td>2</td><td>3</td><td>Pusztai Zsuzsanna</td><td>3</td></tr>",
                            "<tr><td>563</td><td>sebestyen</td><td>68</td><td>2016-04-07</td><td>2016-04-12</td><td>1</td><td>3</td><td>4</td><td>Rab Sebestyén</td><td>NULL</td></tr>",
                            "<tr><td>602</td><td>sebestyen</td><td>17</td><td>2016-04-26</td><td>2016-05-02</td><td>3</td><td>1</td><td>4</td><td>Rab Sebestyén</td><td>4</td></tr>",
                            "<tr><td>940</td><td>sebestyen</td><td>74</td><td>2016-06-09</td><td>2016-06-14</td><td>3</td><td>1</td><td>4</td><td>Rab Sebestyén</td><td>4</td></tr>",
                            "<tr><td>1195</td><td>sebestyen</td><td>22</td><td>2016-10-26</td><td>2016-11-01</td><td>1</td><td>4</td><td>5</td><td>Rab Sebestyén</td><td>4</td></tr>",
                            "<tr><td>575</td><td>daniel</td><td>155</td><td>2016-04-10</td><td>2016-04-11</td><td>1</td><td>3</td><td>4</td><td>Rácz Dániel</td><td>NULL</td></tr>",
                            "<tr><td>629</td><td>daniel</td><td>3</td><td>2016-05-09</td><td>2016-05-13</td><td>1</td><td>2</td><td>3</td><td>Rácz Dániel</td><td>4</td></tr>",
                            "<tr><td>1036</td><td>daniel</td><td>122</td><td>2016-09-08</td><td>2016-09-10</td><td>3</td><td>1</td><td>4</td><td>Rácz Dániel</td><td>3</td></tr>",
                            "<tr><td>1278</td><td>daniel</td><td>176</td><td>2016-11-13</td><td>2016-11-19</td><td>2</td><td>1</td><td>3</td><td>Rácz Dániel</td><td>3</td></tr>",
                            "<tr><td>1395</td><td>daniel</td><td>97</td><td>2016-12-25</td><td>2016-12-26</td><td>3</td><td>0</td><td>3</td><td>Rácz Dániel</td><td>3</td></tr>",
                            "<tr><td>1520</td><td>daniel</td><td>55</td><td>2017-02-12</td><td>2017-02-13</td><td>2</td><td>1</td><td>3</td><td>Rácz Dániel</td><td>3</td></tr>",
                            "<tr><td>1554</td><td>daniel</td><td>115</td><td>2017-02-20</td><td>2017-02-23</td><td>1</td><td>2</td><td>3</td><td>Rácz Dániel</td><td>3</td></tr>",
                            "<tr><td>850</td><td>rajmond4</td><td>6</td><td>2016-09-05</td><td>2016-09-07</td><td>3</td><td>0</td><td>3</td><td>Rácz Rajmond</td><td>NULL</td></tr>",
                            "<tr><td>1116</td><td>rajmond4</td><td>198</td><td>2016-10-03</td><td>2016-10-04</td><td>3</td><td>0</td><td>3</td><td>Rácz Rajmond</td><td>3</td></tr>",
                            "<tr><td>1263</td><td>rajmond4</td><td>113</td><td>2016-11-08</td><td>2016-11-09</td><td>2</td><td>2</td><td>4</td><td>Rácz Rajmond</td><td>3</td></tr>",
                            "<tr><td>1274</td><td>ANNAMARIAR</td><td>1</td><td>2016-11-11</td><td>2016-11-12</td><td>3</td><td>0</td><td>3</td><td>Regős Annamária</td><td>NULL</td></tr>",
                            "<tr><td>785</td><td>dora3</td><td>177</td><td>2016-08-16</td><td>2016-08-19</td><td>3</td><td>1</td><td>4</td><td>Sarodi Dóra</td><td>NULL</td></tr>",
                            "<tr><td>825</td><td>dora3</td><td>158</td><td>2016-08-25</td><td>2016-08-29</td><td>2</td><td>1</td><td>3</td><td>Sarodi Dóra</td><td>4</td></tr>",
                            "<tr><td>1140</td><td>dora3</td><td>12</td><td>2016-10-09</td><td>2016-10-12</td><td>2</td><td>1</td><td>3</td><td>Sarodi Dóra</td><td>3</td></tr>",
                            "<tr><td>1215</td><td>dora3</td><td>121</td><td>2016-10-29</td><td>2016-11-02</td><td>2</td><td>1</td><td>3</td><td>Sarodi Dóra</td><td>3</td></tr>",
                            "<tr><td>1304</td><td>dora3</td><td>197</td><td>2016-11-22</td><td>2016-11-29</td><td>3</td><td>0</td><td>3</td><td>Sarodi Dóra</td><td>3</td></tr>",
                            "<tr><td>855</td><td>ANIKOS</td><td>53</td><td>2016-05-24</td><td>2016-05-25</td><td>1</td><td>2</td><td>3</td><td>Simon Anikó</td><td>NULL</td></tr>",
                            "<tr><td>679</td><td>ANIKOS</td><td>185</td><td>2016-07-17</td><td>2016-07-22</td><td>2</td><td>1</td><td>3</td><td>Simon Anikó</td><td>3</td></tr>",
                            "<tr><td>1216</td><td>ANIKOS</td><td>198</td><td>2016-10-29</td><td>2016-11-05</td><td>1</td><td>2</td><td>3</td><td>Simon Anikó</td><td>3</td></tr>",
                            "<tr><td>953</td><td>bernadett1</td><td>117</td><td>2016-06-12</td><td>2016-06-17</td><td>2</td><td>1</td><td>3</td><td>Simon Bernadett</td><td>NULL</td></tr>",
                            "<tr><td>1130</td><td>bernadett1</td><td>22</td><td>2016-10-08</td><td>2016-10-09</td><td>3</td><td>1</td><td>4</td><td>Simon Bernadett</td><td>3</td></tr>",
                            "<tr><td>1155</td><td>bernadett1</td><td>143</td><td>2016-10-15</td><td>2016-10-22</td><td>2</td><td>1</td><td>3</td><td>Simon Bernadett</td><td>3</td></tr>",
                            "<tr><td>1200</td><td>bernadett1</td><td>49</td><td>2016-10-26</td><td>2016-11-02</td><td>3</td><td>0</td><td>3</td><td>Simon Bernadett</td><td>3</td></tr>",
                            "<tr><td>1210</td><td>bernadett1</td><td>124</td><td>2016-10-28</td><td>2016-11-01</td><td>3</td><td>0</td><td>3</td><td>Simon Bernadett</td><td>3</td></tr>",
                            "<tr><td>1533</td><td>bernadett1</td><td>19</td><td>2017-02-14</td><td>2017-02-15</td><td>1</td><td>2</td><td>3</td><td>Simon Bernadett</td><td>3</td></tr>",
                            "<tr><td>1546</td><td>david1</td><td>48</td><td>2017-02-17</td><td>2017-02-20</td><td>1</td><td>2</td><td>3</td><td>Sobják Dávid</td><td>NULL</td></tr>",
                            "<tr><td>1572</td><td>david1</td><td>144</td><td>2017-02-25</td><td>2017-02-27</td><td>2</td><td>2</td><td>4</td><td>Sobják Dávid</td><td>3</td></tr>",
                            "<tr><td>1301</td><td>istvan</td><td>132</td><td>2016-11-22</td><td>2016-11-24</td><td>3</td><td>0</td><td>3</td><td>Soós István</td><td>NULL</td></tr>",
                            "<tr><td>1218</td><td>julianna4</td><td>61</td><td>2016-10-29</td><td>2016-10-31</td><td>3</td><td>0</td><td>3</td><td>Szabó Julianna</td><td>NULL</td></tr>",
                            "<tr><td>1323</td><td>julianna4</td><td>191</td><td>2016-11-27</td><td>2016-12-04</td><td>2</td><td>1</td><td>3</td><td>Szabó Julianna</td><td>3</td></tr>",
                            "<tr><td>995</td><td>peter3</td><td>83</td><td>2016-06-30</td><td>2016-07-05</td><td>3</td><td>0</td><td>3</td><td>Szalai Péter</td><td>NULL</td></tr>",
                            "<tr><td>726</td><td>peter3</td><td>97</td><td>2016-07-27</td><td>2016-07-31</td><td>3</td><td>1</td><td>4</td><td>Szalai Péter</td><td>3</td></tr>",
                            "<tr><td>596</td><td>SZILARDS</td><td>115</td><td>2016-04-23</td><td>2016-04-30</td><td>3</td><td>0</td><td>3</td><td>Szalai Szilárd</td><td>NULL</td></tr>",
                            "<tr><td>718</td><td>SZILARDS</td><td>97</td><td>2016-07-27</td><td>2016-08-03</td><td>1</td><td>4</td><td>5</td><td>Szalai Szilárd</td><td>3</td></tr>",
                            "<tr><td>830</td><td>SZILARDS</td><td>74</td><td>2016-08-28</td><td>2016-08-29</td><td>2</td><td>2</td><td>4</td><td>Szalai Szilárd</td><td>4</td></tr>",
                            "<tr><td>1071</td><td>SZILARDS</td><td>80</td><td>2016-09-20</td><td>2016-09-24</td><td>1</td><td>2</td><td>3</td><td>Szalai Szilárd</td><td>4</td></tr>",
                            "<tr><td>1110</td><td>SZILARDS</td><td>3</td><td>2016-10-01</td><td>2016-10-08</td><td>1</td><td>2</td><td>3</td><td>Szalai Szilárd</td><td>4</td></tr>",
                            "<tr><td>1442</td><td>SZILARDS</td><td>15</td><td>2017-01-16</td><td>2017-01-19</td><td>1</td><td>2</td><td>3</td><td>Szalai Szilárd</td><td>3</td></tr>",
                            "<tr><td>1012</td><td>krisztina</td><td>33</td><td>2016-07-05</td><td>2016-07-12</td><td>2</td><td>1</td><td>3</td><td>Szedlár Krisztina</td><td>NULL</td></tr>",
                            "<tr><td>1542</td><td>krisztina</td><td>14</td><td>2017-02-16</td><td>2017-02-20</td><td>3</td><td>1</td><td>4</td><td>Szedlár Krisztina</td><td>3</td></tr>",
                            "<tr><td>876</td><td>brigitta</td><td>12</td><td>2016-05-30</td><td>2016-06-06</td><td>1</td><td>2</td><td>3</td><td>Székely Brigitta</td><td>NULL</td></tr>",
                            "<tr><td>832</td><td>brigitta</td><td>8</td><td>2016-08-28</td><td>2016-09-01</td><td>2</td><td>1</td><td>3</td><td>Székely Brigitta</td><td>3</td></tr>",
                            "<tr><td>1174</td><td>brigitta</td><td>90</td><td>2016-10-21</td><td>2016-10-28</td><td>3</td><td>0</td><td>3</td><td>Székely Brigitta</td><td>3</td></tr>",
                            "<tr><td>952</td><td>BEATRIXS</td><td>196</td><td>2016-06-11</td><td>2016-06-14</td><td>1</td><td>2</td><td>3</td><td>Szekendi Beatrix</td><td>NULL</td></tr>",
                            "<tr><td>1098</td><td>BEATRIXS</td><td>140</td><td>2016-10-01</td><td>2016-10-03</td><td>2</td><td>1</td><td>3</td><td>Szekendi Beatrix</td><td>3</td></tr>",
                            "<tr><td>1099</td><td>BEATRIXS</td><td>6</td><td>2016-10-01</td><td>2016-10-05</td><td>1</td><td>2</td><td>3</td><td>Szekendi Beatrix</td><td>3</td></tr>",
                            "<tr><td>748</td><td>reka4</td><td>36</td><td>2016-08-02</td><td>2016-08-04</td><td>3</td><td>1</td><td>4</td><td>Szikszai Réka</td><td>NULL</td></tr>",
                            "<tr><td>1033</td><td>reka4</td><td>38</td><td>2016-09-05</td><td>2016-09-07</td><td>1</td><td>2</td><td>3</td><td>Szikszai Réka</td><td>4</td></tr>",
                            "<tr><td>707</td><td>MATYASS</td><td>35</td><td>2016-07-23</td><td>2016-07-25</td><td>2</td><td>1</td><td>3</td><td>Szilágyi Mátyás</td><td>NULL</td></tr>",
                            "<tr><td>1143</td><td>MATYASS</td><td>176</td><td>2016-10-09</td><td>2016-10-15</td><td>2</td><td>1</td><td>3</td><td>Szilágyi Mátyás</td><td>3</td></tr>",
                            "<tr><td>1226</td><td>MATYASS</td><td>127</td><td>2016-10-30</td><td>2016-11-04</td><td>1</td><td>2</td><td>3</td><td>Szilágyi Mátyás</td><td>3</td></tr>",
                            "<tr><td>985</td><td>RENATAS</td><td>36</td><td>2016-06-24</td><td>2016-06-30</td><td>2</td><td>3</td><td>5</td><td>Szirmai Renáta</td><td>NULL</td></tr>",
                            "<tr><td>1295</td><td>andrea3</td><td>44</td><td>2016-11-19</td><td>2016-11-21</td><td>3</td><td>0</td><td>3</td><td>Szomor Andrea</td><td>NULL</td></tr>",
                            "<tr><td>921</td><td>annamaria1</td><td>112</td><td>2016-06-06</td><td>2016-06-07</td><td>2</td><td>1</td><td>3</td><td>Szűcs Annamária</td><td>NULL</td></tr>",
                            "<tr><td>1483</td><td>annamaria1</td><td>120</td><td>2017-01-30</td><td>2017-01-31</td><td>3</td><td>1</td><td>4</td><td>Szűcs Annamária</td><td>3</td></tr>",
                            "<tr><td>851</td><td>balazs2</td><td>42</td><td>2016-05-22</td><td>2016-05-29</td><td>2</td><td>1</td><td>3</td><td>Szűcs Balázs</td><td>NULL</td></tr>",
                            "<tr><td>863</td><td>balazs2</td><td>185</td><td>2016-05-28</td><td>2016-06-01</td><td>2</td><td>1</td><td>3</td><td>Szűcs Balázs</td><td>3</td></tr>",
                            "<tr><td>1019</td><td>balazs2</td><td>43</td><td>2016-07-08</td><td>2016-07-12</td><td>1</td><td>2</td><td>3</td><td>Szűcs Balázs</td><td>3</td></tr>",
                            "<tr><td>1023</td><td>balazs2</td><td>30</td><td>2016-07-10</td><td>2016-07-17</td><td>3</td><td>0</td><td>3</td><td>Szűcs Balázs</td><td>3</td></tr>",
                            "<tr><td>805</td><td>balazs2</td><td>21</td><td>2016-08-21</td><td>2016-08-22</td><td>1</td><td>2</td><td>3</td><td>Szűcs Balázs</td><td>3</td></tr>",
                            "<tr><td>1045</td><td>balazs2</td><td>134</td><td>2016-09-12</td><td>2016-09-14</td><td>2</td><td>1</td><td>3</td><td>Szűcs Balázs</td><td>3</td></tr>",
                            "<tr><td>1239</td><td>balazs2</td><td>59</td><td>2016-11-03</td><td>2016-11-05</td><td>1</td><td>2</td><td>3</td><td>Szűcs Balázs</td><td>3</td></tr>",
                            "<tr><td>1285</td><td>norbert</td><td>58</td><td>2016-11-16</td><td>2016-11-23</td><td>2</td><td>1</td><td>3</td><td>Szűcs Norbert</td><td>NULL</td></tr>",
                            "<tr><td>1528</td><td>norbert</td><td>97</td><td>2017-02-13</td><td>2017-02-15</td><td>2</td><td>1</td><td>3</td><td>Szűcs Norbert</td><td>3</td></tr>",
                            "<tr><td>695</td><td>veronika4</td><td>187</td><td>2016-07-20</td><td>2016-07-26</td><td>1</td><td>2</td><td>3</td><td>Tankó Veronika</td><td>NULL</td></tr>",
                            "<tr><td>1456</td><td>veronika4</td><td>87</td><td>2017-01-19</td><td>2017-01-24</td><td>3</td><td>0</td><td>3</td><td>Tankó Veronika</td><td>3</td></tr>",
                            "<tr><td>1144</td><td>szilvia1</td><td>41</td><td>2016-10-09</td><td>2016-10-10</td><td>3</td><td>0</td><td>3</td><td>Tari Szilvia</td><td>NULL</td></tr>",
                            "<tr><td>1191</td><td>szilvia1</td><td>59</td><td>2016-10-25</td><td>2016-10-31</td><td>2</td><td>1</td><td>3</td><td>Tari Szilvia</td><td>3</td></tr>",
                            "<tr><td>1391</td><td>szilvia1</td><td>93</td><td>2016-12-25</td><td>2016-12-29</td><td>2</td><td>3</td><td>5</td><td>Tari Szilvia</td><td>3</td></tr>",
                            "<tr><td>663</td><td>NIKOLETTAT</td><td>14</td><td>2016-05-22</td><td>2016-05-23</td><td>3</td><td>1</td><td>4</td><td>Tatár Nikoletta</td><td>NULL</td></tr>",
                            "<tr><td>720</td><td>NIKOLETTAT</td><td>160</td><td>2016-07-27</td><td>2016-07-29</td><td>1</td><td>3</td><td>4</td><td>Tatár Nikoletta</td><td>4</td></tr>",
                            "<tr><td>603</td><td>gabor4</td><td>48</td><td>2016-04-26</td><td>2016-04-29</td><td>3</td><td>0</td><td>3</td><td>Telek Gábor</td><td>NULL</td></tr>",
                            "<tr><td>841</td><td>gabor4</td><td>92</td><td>2016-08-31</td><td>2016-09-06</td><td>3</td><td>1</td><td>4</td><td>Telek Gábor</td><td>3</td></tr>",
                            "<tr><td>1260</td><td>gabor4</td><td>9</td><td>2016-11-07</td><td>2016-11-13</td><td>3</td><td>1</td><td>4</td><td>Telek Gábor</td><td>3</td></tr>",
                            "<tr><td>1128</td><td>ANDREAT</td><td>121</td><td>2016-10-08</td><td>2016-10-12</td><td>1</td><td>2</td><td>3</td><td>Tornyos Andrea</td><td>NULL</td></tr>",
                            "<tr><td>1126</td><td>andras2</td><td>70</td><td>2016-10-07</td><td>2016-10-10</td><td>1</td><td>2</td><td>3</td><td>Tóth András</td><td>NULL</td></tr>",
                            "<tr><td>1511</td><td>andras2</td><td>176</td><td>2017-02-08</td><td>2017-02-10</td><td>2</td><td>2</td><td>4</td><td>Tóth András</td><td>3</td></tr>",
                            "<tr><td>986</td><td>aniko</td><td>48</td><td>2016-06-25</td><td>2016-06-30</td><td>2</td><td>1</td><td>3</td><td>Tóth Anikó</td><td>NULL</td></tr>",
                            "<tr><td>1519</td><td>aniko</td><td>132</td><td>2017-02-12</td><td>2017-02-14</td><td>2</td><td>1</td><td>3</td><td>Tóth Anikó</td><td>3</td></tr>",
                            "<tr><td>926</td><td>julia</td><td>193</td><td>2016-06-07</td><td>2016-06-08</td><td>2</td><td>3</td><td>5</td><td>Tóth Júlia</td><td>NULL</td></tr>",
                            "<tr><td>1577</td><td>julia</td><td>78</td><td>2017-02-27</td><td>2017-03-06</td><td>2</td><td>1</td><td>3</td><td>Tóth Júlia</td><td>5</td></tr>",
                            "<tr><td>939</td><td>roland</td><td>183</td><td>2016-06-09</td><td>2016-06-13</td><td>3</td><td>0</td><td>3</td><td>Tóth Roland</td><td>NULL</td></tr>",
                            "<tr><td>978</td><td>roland</td><td>198</td><td>2016-06-22</td><td>2016-06-23</td><td>3</td><td>0</td><td>3</td><td>Tóth Roland</td><td>3</td></tr>",
                            "<tr><td>615</td><td>ZOLTANT</td><td>186</td><td>2016-05-01</td><td>2016-05-04</td><td>2</td><td>1</td><td>3</td><td>Tóth Zoltán</td><td>NULL</td></tr>",
                            "<tr><td>668</td><td>ZOLTANT</td><td>54</td><td>2016-07-14</td><td>2016-07-15</td><td>1</td><td>2</td><td>3</td><td>Tóth Zoltán</td><td>3</td></tr>",
                            "<tr><td>862</td><td>denes</td><td>82</td><td>2016-05-27</td><td>2016-05-31</td><td>2</td><td>1</td><td>3</td><td>Tömböly Dénes</td><td>NULL</td></tr>",
                            "<tr><td>746</td><td>denes</td><td>169</td><td>2016-08-01</td><td>2016-08-08</td><td>1</td><td>2</td><td>3</td><td>Tömböly Dénes</td><td>3</td></tr>",
                            "<tr><td>804</td><td>denes</td><td>146</td><td>2016-08-20</td><td>2016-08-27</td><td>1</td><td>2</td><td>3</td><td>Tömböly Dénes</td><td>3</td></tr>",
                            "<tr><td>898</td><td>tunde</td><td>185</td><td>2016-06-03</td><td>2016-06-07</td><td>1</td><td>2</td><td>3</td><td>Turcsik Tünde</td><td>NULL</td></tr>",
                            "<tr><td>918</td><td>tunde</td><td>11</td><td>2016-06-06</td><td>2016-06-12</td><td>2</td><td>1</td><td>3</td><td>Turcsik Tünde</td><td>3</td></tr>",
                            "<tr><td>1189</td><td>tunde</td><td>89</td><td>2016-10-24</td><td>2016-10-30</td><td>3</td><td>0</td><td>3</td><td>Turcsik Tünde</td><td>3</td></tr>",
                            "<tr><td>1290</td><td>tunde</td><td>128</td><td>2016-11-19</td><td>2016-11-20</td><td>1</td><td>2</td><td>3</td><td>Turcsik Tünde</td><td>3</td></tr>",
                            "<tr><td>1363</td><td>tunde</td><td>133</td><td>2016-12-15</td><td>2016-12-20</td><td>3</td><td>0</td><td>3</td><td>Turcsik Tünde</td><td>3</td></tr>",
                            "<tr><td>1415</td><td>tunde</td><td>24</td><td>2017-01-03</td><td>2017-01-06</td><td>4</td><td>1</td><td>5</td><td>Turcsik Tünde</td><td>3</td></tr>",
                            "<tr><td>1151</td><td>VIKTORIAU</td><td>3</td><td>2016-10-14</td><td>2016-10-15</td><td>1</td><td>2</td><td>3</td><td>Urbán Viktoria</td><td>NULL</td></tr>",
                            "<tr><td>1199</td><td>VIKTORIAU</td><td>144</td><td>2016-10-26</td><td>2016-11-02</td><td>2</td><td>2</td><td>4</td><td>Urbán Viktoria</td><td>3</td></tr>",
                            "<tr><td>677</td><td>jozsef2</td><td>181</td><td>2016-07-16</td><td>2016-07-20</td><td>3</td><td>0</td><td>3</td><td>Vajda József</td><td>NULL</td></tr>",
                            "<tr><td>1307</td><td>jozsef2</td><td>58</td><td>2016-11-23</td><td>2016-11-29</td><td>1</td><td>2</td><td>3</td><td>Vajda József</td><td>3</td></tr>",
                            "<tr><td>1321</td><td>jozsef2</td><td>33</td><td>2016-11-25</td><td>2016-11-29</td><td>2</td><td>1</td><td>3</td><td>Vajda József</td><td>3</td></tr>",
                            "<tr><td>868</td><td>ZSUZSAV</td><td>187</td><td>2016-05-28</td><td>2016-06-01</td><td>3</td><td>1</td><td>4</td><td>Vajda Zsuzsa</td><td>NULL</td></tr>",
                            "<tr><td>960</td><td>ZSUZSAV</td><td>41</td><td>2016-06-15</td><td>2016-06-21</td><td>1</td><td>2</td><td>3</td><td>Vajda Zsuzsa</td><td>4</td></tr>",
                            "<tr><td>1300</td><td>ZSUZSAV</td><td>88</td><td>2016-11-21</td><td>2016-11-24</td><td>1</td><td>2</td><td>3</td><td>Vajda Zsuzsa</td><td>3</td></tr>",
                            "<tr><td>998</td><td>ISTVANV</td><td>120</td><td>2016-07-01</td><td>2016-07-04</td><td>1</td><td>3</td><td>4</td><td>Varga István</td><td>NULL</td></tr>",
                            "<tr><td>1087</td><td>ISTVANV</td><td>144</td><td>2016-09-29</td><td>2016-10-01</td><td>3</td><td>0</td><td>3</td><td>Varga István</td><td>4</td></tr>",
                            "<tr><td>1206</td><td>zsuzsa3</td><td>22</td><td>2016-10-27</td><td>2016-11-03</td><td>1</td><td>3</td><td>4</td><td>Varsányi Zsuzsa</td><td>NULL</td></tr>",
                            "<tr><td>1114</td><td>gabriella10</td><td>20</td><td>2016-10-01</td><td>2016-10-06</td><td>2</td><td>1</td><td>3</td><td>Vida Gabriella</td><td>NULL</td></tr>",
                            "<tr><td>674</td><td>andras3</td><td>83</td><td>2016-07-15</td><td>2016-07-19</td><td>2</td><td>1</td><td>3</td><td>Vígh András</td><td>NULL</td></tr>",
                            "<tr><td>837</td><td>andras3</td><td>104</td><td>2016-08-29</td><td>2016-09-02</td><td>3</td><td>0</td><td>3</td><td>Vígh András</td><td>3</td></tr>",
                            "<tr><td>614</td><td>EVAV</td><td>109</td><td>2016-05-01</td><td>2016-05-05</td><td>1</td><td>2</td><td>3</td><td>Viktor Éva</td><td>NULL</td></tr>",
                            "<tr><td>1157</td><td>EVAV</td><td>9</td><td>2016-10-15</td><td>2016-10-21</td><td>3</td><td>0</td><td>3</td><td>Viktor Éva</td><td>3</td></tr>",
                            "<tr><td>1495</td><td>EVAV</td><td>113</td><td>2017-02-04</td><td>2017-02-11</td><td>1</td><td>4</td><td>5</td><td>Viktor Éva</td><td>3</td></tr>",
                            "<tr><td>583</td><td>istvan1</td><td>79</td><td>2016-04-16</td><td>2016-04-22</td><td>3</td><td>0</td><td>3</td><td>Vizi István</td><td>NULL</td></tr>",
                            "<tr><td>599</td><td>istvan1</td><td>162</td><td>2016-04-24</td><td>2016-04-28</td><td>3</td><td>0</td><td>3</td><td>Vizi István</td><td>3</td></tr>",
                            "<tr><td>1507</td><td>istvan1</td><td>153</td><td>2017-02-07</td><td>2017-02-10</td><td>2</td><td>1</td><td>3</td><td>Vizi István</td><td>3</td></tr>",
                            "<tr><td>909</td><td>dani</td><td>133</td><td>2016-06-06</td><td>2016-06-10</td><td>1</td><td>2</td><td>3</td><td>Vörös Dániel</td><td>NULL</td></tr>",
                            "<tr><td>1024</td><td>dani</td><td>134</td><td>2016-07-11</td><td>2016-07-12</td><td>2</td><td>1</td><td>3</td><td>Vörös Dániel</td><td>3</td></tr>",
                            "<tr><td>1068</td><td>dani</td><td>161</td><td>2016-09-19</td><td>2016-09-25</td><td>1</td><td>3</td><td>4</td><td>Vörös Dániel</td><td>3</td></tr>",
                            "<tr><td>1571</td><td>dani</td><td>161</td><td>2017-02-25</td><td>2017-03-01</td><td>2</td><td>1</td><td>3</td><td>Vörös Dániel</td><td>3</td></tr>",
                            "<tr><td>1341</td><td>balint2</td><td>82</td><td>2016-12-04</td><td>2016-12-06</td><td>1</td><td>2</td><td>3</td><td>Vukasinovity Bálint</td><td>NULL</td></tr>",
                            "<tr><td>914</td><td>kati</td><td>48</td><td>2016-06-06</td><td>2016-06-11</td><td>3</td><td>0</td><td>3</td><td>Zatykó Katalin</td><td>NULL</td></tr>",
                            "<tr><td>1221</td><td>kati</td><td>49</td><td>2016-10-30</td><td>2016-11-01</td><td>3</td><td>0</td><td>3</td><td>Zatykó Katalin</td><td>3</td></tr>",
                            "</table>"
                        ]
                    }
                }
            ],
            "execution_count": 50
        }
    ]
}