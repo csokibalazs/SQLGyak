{
    "metadata": {
        "kernelspec": {
            "name": "SQL",
            "display_name": "SQL",
            "language": "sql"
        },
        "language_info": {
            "name": "sql",
            "version": ""
        }
    },
    "nbformat_minor": 2,
    "nbformat": 4,
    "cells": [
        {
            "cell_type": "markdown",
            "source": [
                "<span style=\"font-size: 14.44px;\">1. Minden egyes szobát hányszor foglaltak</span>\n",
                "\n",
                "- Csak a szoba azonosítója és a foglalások darabszáma jelenjen meg\n",
                "- Azok a szobák is jelenjenek meg, ahol nem történt foglalás"
            ],
            "metadata": {
                "azdata_cell_guid": "a4bb4b1c-d7f5-4eb4-9569-ff47da7e6cb5"
            },
            "attachments": {}
        },
        {
            "cell_type": "code",
            "source": [
                "SELECT SZOBA_ID, COUNT(*) AS 'DB'\r\n",
                "FROM Szoba sz RIGHT JOIN Foglalas f ON sz.SZOBA_ID = f.SZOBA_FK\r\n",
                "GROUP BY SZOBA_ID"
            ],
            "metadata": {
                "azdata_cell_guid": "19f82048-c5a4-4c3d-bd7e-520d60c19ef7",
                "language": "sql",
                "tags": []
            },
            "outputs": [
                {
                    "output_type": "display_data",
                    "data": {
                        "text/html": "(197 rows affected)"
                    },
                    "metadata": {}
                },
                {
                    "output_type": "display_data",
                    "data": {
                        "text/html": "Total execution time: 00:00:00.484"
                    },
                    "metadata": {}
                },
                {
                    "output_type": "execute_result",
                    "execution_count": 6,
                    "data": {
                        "application/vnd.dataresource+json": {
                            "schema": {
                                "fields": [
                                    {
                                        "name": "SZOBA_ID"
                                    },
                                    {
                                        "name": "DB"
                                    }
                                ]
                            },
                            "data": [
                                {
                                    "SZOBA_ID": "23",
                                    "DB": "3"
                                },
                                {
                                    "SZOBA_ID": "46",
                                    "DB": "4"
                                },
                                {
                                    "SZOBA_ID": "192",
                                    "DB": "2"
                                },
                                {
                                    "SZOBA_ID": "69",
                                    "DB": "4"
                                },
                                {
                                    "SZOBA_ID": "92",
                                    "DB": "6"
                                },
                                {
                                    "SZOBA_ID": "115",
                                    "DB": "7"
                                },
                                {
                                    "SZOBA_ID": "138",
                                    "DB": "7"
                                },
                                {
                                    "SZOBA_ID": "161",
                                    "DB": "6"
                                },
                                {
                                    "SZOBA_ID": "29",
                                    "DB": "6"
                                },
                                {
                                    "SZOBA_ID": "169",
                                    "DB": "6"
                                },
                                {
                                    "SZOBA_ID": "175",
                                    "DB": "5"
                                },
                                {
                                    "SZOBA_ID": "75",
                                    "DB": "3"
                                },
                                {
                                    "SZOBA_ID": "132",
                                    "DB": "6"
                                },
                                {
                                    "SZOBA_ID": "9",
                                    "DB": "6"
                                },
                                {
                                    "SZOBA_ID": "181",
                                    "DB": "6"
                                },
                                {
                                    "SZOBA_ID": "15",
                                    "DB": "6"
                                },
                                {
                                    "SZOBA_ID": "109",
                                    "DB": "7"
                                },
                                {
                                    "SZOBA_ID": "158",
                                    "DB": "3"
                                },
                                {
                                    "SZOBA_ID": "89",
                                    "DB": "8"
                                },
                                {
                                    "SZOBA_ID": "195",
                                    "DB": "6"
                                },
                                {
                                    "SZOBA_ID": "3",
                                    "DB": "8"
                                },
                                {
                                    "SZOBA_ID": "146",
                                    "DB": "6"
                                },
                                {
                                    "SZOBA_ID": "152",
                                    "DB": "4"
                                },
                                {
                                    "SZOBA_ID": "52",
                                    "DB": "5"
                                },
                                {
                                    "SZOBA_ID": "95",
                                    "DB": "4"
                                },
                                {
                                    "SZOBA_ID": "189",
                                    "DB": "5"
                                },
                                {
                                    "SZOBA_ID": "72",
                                    "DB": "4"
                                },
                                {
                                    "SZOBA_ID": "118",
                                    "DB": "7"
                                },
                                {
                                    "SZOBA_ID": "172",
                                    "DB": "9"
                                },
                                {
                                    "SZOBA_ID": "78",
                                    "DB": "6"
                                },
                                {
                                    "SZOBA_ID": "66",
                                    "DB": "4"
                                },
                                {
                                    "SZOBA_ID": "32",
                                    "DB": "1"
                                },
                                {
                                    "SZOBA_ID": "126",
                                    "DB": "6"
                                },
                                {
                                    "SZOBA_ID": "26",
                                    "DB": "2"
                                },
                                {
                                    "SZOBA_ID": "12",
                                    "DB": "9"
                                },
                                {
                                    "SZOBA_ID": "178",
                                    "DB": "4"
                                },
                                {
                                    "SZOBA_ID": "35",
                                    "DB": "9"
                                },
                                {
                                    "SZOBA_ID": "129",
                                    "DB": "4"
                                },
                                {
                                    "SZOBA_ID": "155",
                                    "DB": "5"
                                },
                                {
                                    "SZOBA_ID": "106",
                                    "DB": "6"
                                },
                                {
                                    "SZOBA_ID": "86",
                                    "DB": "5"
                                },
                                {
                                    "SZOBA_ID": "135",
                                    "DB": "3"
                                },
                                {
                                    "SZOBA_ID": "63",
                                    "DB": "4"
                                },
                                {
                                    "SZOBA_ID": "112",
                                    "DB": "5"
                                },
                                {
                                    "SZOBA_ID": "6",
                                    "DB": "6"
                                },
                                {
                                    "SZOBA_ID": "43",
                                    "DB": "8"
                                },
                                {
                                    "SZOBA_ID": "55",
                                    "DB": "8"
                                },
                                {
                                    "SZOBA_ID": "98",
                                    "DB": "4"
                                },
                                {
                                    "SZOBA_ID": "49",
                                    "DB": "7"
                                },
                                {
                                    "SZOBA_ID": "149",
                                    "DB": "7"
                                },
                                {
                                    "SZOBA_ID": "198",
                                    "DB": "8"
                                },
                                {
                                    "SZOBA_ID": "190",
                                    "DB": "5"
                                },
                                {
                                    "SZOBA_ID": "144",
                                    "DB": "5"
                                },
                                {
                                    "SZOBA_ID": "167",
                                    "DB": "2"
                                },
                                {
                                    "SZOBA_ID": "184",
                                    "DB": "4"
                                },
                                {
                                    "SZOBA_ID": "113",
                                    "DB": "5"
                                },
                                {
                                    "SZOBA_ID": "67",
                                    "DB": "6"
                                },
                                {
                                    "SZOBA_ID": "21",
                                    "DB": "4"
                                },
                                {
                                    "SZOBA_ID": "27",
                                    "DB": "7"
                                },
                                {
                                    "SZOBA_ID": "127",
                                    "DB": "7"
                                },
                                {
                                    "SZOBA_ID": "121",
                                    "DB": "8"
                                },
                                {
                                    "SZOBA_ID": "173",
                                    "DB": "4"
                                },
                                {
                                    "SZOBA_ID": "107",
                                    "DB": "5"
                                },
                                {
                                    "SZOBA_ID": "156",
                                    "DB": "7"
                                },
                                {
                                    "SZOBA_ID": "58",
                                    "DB": "13"
                                },
                                {
                                    "SZOBA_ID": "130",
                                    "DB": "6"
                                },
                                {
                                    "SZOBA_ID": "81",
                                    "DB": "5"
                                },
                                {
                                    "SZOBA_ID": "64",
                                    "DB": "6"
                                },
                                {
                                    "SZOBA_ID": "87",
                                    "DB": "5"
                                },
                                {
                                    "SZOBA_ID": "38",
                                    "DB": "8"
                                },
                                {
                                    "SZOBA_ID": "101",
                                    "DB": "3"
                                },
                                {
                                    "SZOBA_ID": "7",
                                    "DB": "6"
                                },
                                {
                                    "SZOBA_ID": "44",
                                    "DB": "6"
                                },
                                {
                                    "SZOBA_ID": "193",
                                    "DB": "7"
                                },
                                {
                                    "SZOBA_ID": "150",
                                    "DB": "6"
                                },
                                {
                                    "SZOBA_ID": "1",
                                    "DB": "8"
                                },
                                {
                                    "SZOBA_ID": "50",
                                    "DB": "4"
                                },
                                {
                                    "SZOBA_ID": "24",
                                    "DB": "3"
                                },
                                {
                                    "SZOBA_ID": "47",
                                    "DB": "2"
                                },
                                {
                                    "SZOBA_ID": "141",
                                    "DB": "6"
                                },
                                {
                                    "SZOBA_ID": "70",
                                    "DB": "11"
                                },
                                {
                                    "SZOBA_ID": "93",
                                    "DB": "5"
                                },
                                {
                                    "SZOBA_ID": "187",
                                    "DB": "7"
                                },
                                {
                                    "SZOBA_ID": "164",
                                    "DB": "5"
                                },
                                {
                                    "SZOBA_ID": "30",
                                    "DB": "3"
                                },
                                {
                                    "SZOBA_ID": "18",
                                    "DB": "6"
                                },
                                {
                                    "SZOBA_ID": "170",
                                    "DB": "5"
                                },
                                {
                                    "SZOBA_ID": "176",
                                    "DB": "6"
                                },
                                {
                                    "SZOBA_ID": "124",
                                    "DB": "6"
                                },
                                {
                                    "SZOBA_ID": "84",
                                    "DB": "4"
                                },
                                {
                                    "SZOBA_ID": "153",
                                    "DB": "5"
                                },
                                {
                                    "SZOBA_ID": "110",
                                    "DB": "8"
                                },
                                {
                                    "SZOBA_ID": "10",
                                    "DB": "4"
                                },
                                {
                                    "SZOBA_ID": "133",
                                    "DB": "6"
                                },
                                {
                                    "SZOBA_ID": "61",
                                    "DB": "5"
                                },
                                {
                                    "SZOBA_ID": "196",
                                    "DB": "4"
                                },
                                {
                                    "SZOBA_ID": "90",
                                    "DB": "4"
                                },
                                {
                                    "SZOBA_ID": "41",
                                    "DB": "2"
                                },
                                {
                                    "SZOBA_ID": "104",
                                    "DB": "4"
                                },
                                {
                                    "SZOBA_ID": "4",
                                    "DB": "6"
                                },
                                {
                                    "SZOBA_ID": "147",
                                    "DB": "1"
                                },
                                {
                                    "SZOBA_ID": "119",
                                    "DB": "5"
                                },
                                {
                                    "SZOBA_ID": "96",
                                    "DB": "7"
                                },
                                {
                                    "SZOBA_ID": "165",
                                    "DB": "7"
                                },
                                {
                                    "SZOBA_ID": "142",
                                    "DB": "2"
                                },
                                {
                                    "SZOBA_ID": "188",
                                    "DB": "6"
                                },
                                {
                                    "SZOBA_ID": "125",
                                    "DB": "1"
                                },
                                {
                                    "SZOBA_ID": "65",
                                    "DB": "1"
                                },
                                {
                                    "SZOBA_ID": "79",
                                    "DB": "5"
                                },
                                {
                                    "SZOBA_ID": "19",
                                    "DB": "6"
                                },
                                {
                                    "SZOBA_ID": "171",
                                    "DB": "5"
                                },
                                {
                                    "SZOBA_ID": "73",
                                    "DB": "4"
                                },
                                {
                                    "SZOBA_ID": "25",
                                    "DB": "2"
                                },
                                {
                                    "SZOBA_ID": "36",
                                    "DB": "6"
                                },
                                {
                                    "SZOBA_ID": "105",
                                    "DB": "2"
                                },
                                {
                                    "SZOBA_ID": "179",
                                    "DB": "3"
                                },
                                {
                                    "SZOBA_ID": "85",
                                    "DB": "4"
                                },
                                {
                                    "SZOBA_ID": "136",
                                    "DB": "3"
                                },
                                {
                                    "SZOBA_ID": "62",
                                    "DB": "5"
                                },
                                {
                                    "SZOBA_ID": "13",
                                    "DB": "4"
                                },
                                {
                                    "SZOBA_ID": "42",
                                    "DB": "6"
                                },
                                {
                                    "SZOBA_ID": "5",
                                    "DB": "4"
                                },
                                {
                                    "SZOBA_ID": "56",
                                    "DB": "2"
                                },
                                {
                                    "SZOBA_ID": "99",
                                    "DB": "5"
                                },
                                {
                                    "SZOBA_ID": "148",
                                    "DB": "6"
                                },
                                {
                                    "SZOBA_ID": "168",
                                    "DB": "5"
                                },
                                {
                                    "SZOBA_ID": "191",
                                    "DB": "5"
                                },
                                {
                                    "SZOBA_ID": "116",
                                    "DB": "2"
                                },
                                {
                                    "SZOBA_ID": "139",
                                    "DB": "7"
                                },
                                {
                                    "SZOBA_ID": "162",
                                    "DB": "3"
                                },
                                {
                                    "SZOBA_ID": "185",
                                    "DB": "12"
                                },
                                {
                                    "SZOBA_ID": "128",
                                    "DB": "5"
                                },
                                {
                                    "SZOBA_ID": "122",
                                    "DB": "9"
                                },
                                {
                                    "SZOBA_ID": "22",
                                    "DB": "6"
                                },
                                {
                                    "SZOBA_ID": "76",
                                    "DB": "3"
                                },
                                {
                                    "SZOBA_ID": "59",
                                    "DB": "7"
                                },
                                {
                                    "SZOBA_ID": "108",
                                    "DB": "2"
                                },
                                {
                                    "SZOBA_ID": "82",
                                    "DB": "6"
                                },
                                {
                                    "SZOBA_ID": "39",
                                    "DB": "7"
                                },
                                {
                                    "SZOBA_ID": "33",
                                    "DB": "6"
                                },
                                {
                                    "SZOBA_ID": "182",
                                    "DB": "12"
                                },
                                {
                                    "SZOBA_ID": "16",
                                    "DB": "5"
                                },
                                {
                                    "SZOBA_ID": "88",
                                    "DB": "8"
                                },
                                {
                                    "SZOBA_ID": "102",
                                    "DB": "2"
                                },
                                {
                                    "SZOBA_ID": "53",
                                    "DB": "2"
                                },
                                {
                                    "SZOBA_ID": "45",
                                    "DB": "5"
                                },
                                {
                                    "SZOBA_ID": "145",
                                    "DB": "6"
                                },
                                {
                                    "SZOBA_ID": "2",
                                    "DB": "4"
                                },
                                {
                                    "SZOBA_ID": "48",
                                    "DB": "9"
                                },
                                {
                                    "SZOBA_ID": "71",
                                    "DB": "3"
                                },
                                {
                                    "SZOBA_ID": "94",
                                    "DB": "10"
                                },
                                {
                                    "SZOBA_ID": "117",
                                    "DB": "8"
                                },
                                {
                                    "SZOBA_ID": "140",
                                    "DB": "8"
                                },
                                {
                                    "SZOBA_ID": "163",
                                    "DB": "7"
                                },
                                {
                                    "SZOBA_ID": "186",
                                    "DB": "4"
                                },
                                {
                                    "SZOBA_ID": "77",
                                    "DB": "6"
                                },
                                {
                                    "SZOBA_ID": "17",
                                    "DB": "6"
                                },
                                {
                                    "SZOBA_ID": "31",
                                    "DB": "3"
                                },
                                {
                                    "SZOBA_ID": "123",
                                    "DB": "5"
                                },
                                {
                                    "SZOBA_ID": "60",
                                    "DB": "1"
                                },
                                {
                                    "SZOBA_ID": "83",
                                    "DB": "8"
                                },
                                {
                                    "SZOBA_ID": "177",
                                    "DB": "4"
                                },
                                {
                                    "SZOBA_ID": "154",
                                    "DB": "5"
                                },
                                {
                                    "SZOBA_ID": "134",
                                    "DB": "6"
                                },
                                {
                                    "SZOBA_ID": "34",
                                    "DB": "4"
                                },
                                {
                                    "SZOBA_ID": "40",
                                    "DB": "4"
                                },
                                {
                                    "SZOBA_ID": "11",
                                    "DB": "4"
                                },
                                {
                                    "SZOBA_ID": "183",
                                    "DB": "4"
                                },
                                {
                                    "SZOBA_ID": "111",
                                    "DB": "5"
                                },
                                {
                                    "SZOBA_ID": "160",
                                    "DB": "5"
                                },
                                {
                                    "SZOBA_ID": "54",
                                    "DB": "6"
                                },
                                {
                                    "SZOBA_ID": "91",
                                    "DB": "4"
                                },
                                {
                                    "SZOBA_ID": "103",
                                    "DB": "4"
                                },
                                {
                                    "SZOBA_ID": "97",
                                    "DB": "7"
                                },
                                {
                                    "SZOBA_ID": "197",
                                    "DB": "6"
                                },
                                {
                                    "SZOBA_ID": "143",
                                    "DB": "7"
                                },
                                {
                                    "SZOBA_ID": "120",
                                    "DB": "6"
                                },
                                {
                                    "SZOBA_ID": "166",
                                    "DB": "3"
                                },
                                {
                                    "SZOBA_ID": "114",
                                    "DB": "4"
                                },
                                {
                                    "SZOBA_ID": "20",
                                    "DB": "5"
                                },
                                {
                                    "SZOBA_ID": "68",
                                    "DB": "3"
                                },
                                {
                                    "SZOBA_ID": "80",
                                    "DB": "7"
                                },
                                {
                                    "SZOBA_ID": "28",
                                    "DB": "6"
                                },
                                {
                                    "SZOBA_ID": "174",
                                    "DB": "4"
                                },
                                {
                                    "SZOBA_ID": "74",
                                    "DB": "9"
                                },
                                {
                                    "SZOBA_ID": "131",
                                    "DB": "5"
                                },
                                {
                                    "SZOBA_ID": "180",
                                    "DB": "3"
                                },
                                {
                                    "SZOBA_ID": "57",
                                    "DB": "4"
                                },
                                {
                                    "SZOBA_ID": "157",
                                    "DB": "5"
                                },
                                {
                                    "SZOBA_ID": "14",
                                    "DB": "3"
                                },
                                {
                                    "SZOBA_ID": "37",
                                    "DB": "3"
                                },
                                {
                                    "SZOBA_ID": "137",
                                    "DB": "6"
                                },
                                {
                                    "SZOBA_ID": "8",
                                    "DB": "5"
                                },
                                {
                                    "SZOBA_ID": "51",
                                    "DB": "5"
                                },
                                {
                                    "SZOBA_ID": "151",
                                    "DB": "3"
                                },
                                {
                                    "SZOBA_ID": "194",
                                    "DB": "1"
                                },
                                {
                                    "SZOBA_ID": "100",
                                    "DB": "4"
                                }
                            ]
                        },
                        "text/html": "<table><tr><th>SZOBA_ID</th><th>DB</th></tr><tr><td>23</td><td>3</td></tr><tr><td>46</td><td>4</td></tr><tr><td>192</td><td>2</td></tr><tr><td>69</td><td>4</td></tr><tr><td>92</td><td>6</td></tr><tr><td>115</td><td>7</td></tr><tr><td>138</td><td>7</td></tr><tr><td>161</td><td>6</td></tr><tr><td>29</td><td>6</td></tr><tr><td>169</td><td>6</td></tr><tr><td>175</td><td>5</td></tr><tr><td>75</td><td>3</td></tr><tr><td>132</td><td>6</td></tr><tr><td>9</td><td>6</td></tr><tr><td>181</td><td>6</td></tr><tr><td>15</td><td>6</td></tr><tr><td>109</td><td>7</td></tr><tr><td>158</td><td>3</td></tr><tr><td>89</td><td>8</td></tr><tr><td>195</td><td>6</td></tr><tr><td>3</td><td>8</td></tr><tr><td>146</td><td>6</td></tr><tr><td>152</td><td>4</td></tr><tr><td>52</td><td>5</td></tr><tr><td>95</td><td>4</td></tr><tr><td>189</td><td>5</td></tr><tr><td>72</td><td>4</td></tr><tr><td>118</td><td>7</td></tr><tr><td>172</td><td>9</td></tr><tr><td>78</td><td>6</td></tr><tr><td>66</td><td>4</td></tr><tr><td>32</td><td>1</td></tr><tr><td>126</td><td>6</td></tr><tr><td>26</td><td>2</td></tr><tr><td>12</td><td>9</td></tr><tr><td>178</td><td>4</td></tr><tr><td>35</td><td>9</td></tr><tr><td>129</td><td>4</td></tr><tr><td>155</td><td>5</td></tr><tr><td>106</td><td>6</td></tr><tr><td>86</td><td>5</td></tr><tr><td>135</td><td>3</td></tr><tr><td>63</td><td>4</td></tr><tr><td>112</td><td>5</td></tr><tr><td>6</td><td>6</td></tr><tr><td>43</td><td>8</td></tr><tr><td>55</td><td>8</td></tr><tr><td>98</td><td>4</td></tr><tr><td>49</td><td>7</td></tr><tr><td>149</td><td>7</td></tr><tr><td>198</td><td>8</td></tr><tr><td>190</td><td>5</td></tr><tr><td>144</td><td>5</td></tr><tr><td>167</td><td>2</td></tr><tr><td>184</td><td>4</td></tr><tr><td>113</td><td>5</td></tr><tr><td>67</td><td>6</td></tr><tr><td>21</td><td>4</td></tr><tr><td>27</td><td>7</td></tr><tr><td>127</td><td>7</td></tr><tr><td>121</td><td>8</td></tr><tr><td>173</td><td>4</td></tr><tr><td>107</td><td>5</td></tr><tr><td>156</td><td>7</td></tr><tr><td>58</td><td>13</td></tr><tr><td>130</td><td>6</td></tr><tr><td>81</td><td>5</td></tr><tr><td>64</td><td>6</td></tr><tr><td>87</td><td>5</td></tr><tr><td>38</td><td>8</td></tr><tr><td>101</td><td>3</td></tr><tr><td>7</td><td>6</td></tr><tr><td>44</td><td>6</td></tr><tr><td>193</td><td>7</td></tr><tr><td>150</td><td>6</td></tr><tr><td>1</td><td>8</td></tr><tr><td>50</td><td>4</td></tr><tr><td>24</td><td>3</td></tr><tr><td>47</td><td>2</td></tr><tr><td>141</td><td>6</td></tr><tr><td>70</td><td>11</td></tr><tr><td>93</td><td>5</td></tr><tr><td>187</td><td>7</td></tr><tr><td>164</td><td>5</td></tr><tr><td>30</td><td>3</td></tr><tr><td>18</td><td>6</td></tr><tr><td>170</td><td>5</td></tr><tr><td>176</td><td>6</td></tr><tr><td>124</td><td>6</td></tr><tr><td>84</td><td>4</td></tr><tr><td>153</td><td>5</td></tr><tr><td>110</td><td>8</td></tr><tr><td>10</td><td>4</td></tr><tr><td>133</td><td>6</td></tr><tr><td>61</td><td>5</td></tr><tr><td>196</td><td>4</td></tr><tr><td>90</td><td>4</td></tr><tr><td>41</td><td>2</td></tr><tr><td>104</td><td>4</td></tr><tr><td>4</td><td>6</td></tr><tr><td>147</td><td>1</td></tr><tr><td>119</td><td>5</td></tr><tr><td>96</td><td>7</td></tr><tr><td>165</td><td>7</td></tr><tr><td>142</td><td>2</td></tr><tr><td>188</td><td>6</td></tr><tr><td>125</td><td>1</td></tr><tr><td>65</td><td>1</td></tr><tr><td>79</td><td>5</td></tr><tr><td>19</td><td>6</td></tr><tr><td>171</td><td>5</td></tr><tr><td>73</td><td>4</td></tr><tr><td>25</td><td>2</td></tr><tr><td>36</td><td>6</td></tr><tr><td>105</td><td>2</td></tr><tr><td>179</td><td>3</td></tr><tr><td>85</td><td>4</td></tr><tr><td>136</td><td>3</td></tr><tr><td>62</td><td>5</td></tr><tr><td>13</td><td>4</td></tr><tr><td>42</td><td>6</td></tr><tr><td>5</td><td>4</td></tr><tr><td>56</td><td>2</td></tr><tr><td>99</td><td>5</td></tr><tr><td>148</td><td>6</td></tr><tr><td>168</td><td>5</td></tr><tr><td>191</td><td>5</td></tr><tr><td>116</td><td>2</td></tr><tr><td>139</td><td>7</td></tr><tr><td>162</td><td>3</td></tr><tr><td>185</td><td>12</td></tr><tr><td>128</td><td>5</td></tr><tr><td>122</td><td>9</td></tr><tr><td>22</td><td>6</td></tr><tr><td>76</td><td>3</td></tr><tr><td>59</td><td>7</td></tr><tr><td>108</td><td>2</td></tr><tr><td>82</td><td>6</td></tr><tr><td>39</td><td>7</td></tr><tr><td>33</td><td>6</td></tr><tr><td>182</td><td>12</td></tr><tr><td>16</td><td>5</td></tr><tr><td>88</td><td>8</td></tr><tr><td>102</td><td>2</td></tr><tr><td>53</td><td>2</td></tr><tr><td>45</td><td>5</td></tr><tr><td>145</td><td>6</td></tr><tr><td>2</td><td>4</td></tr><tr><td>48</td><td>9</td></tr><tr><td>71</td><td>3</td></tr><tr><td>94</td><td>10</td></tr><tr><td>117</td><td>8</td></tr><tr><td>140</td><td>8</td></tr><tr><td>163</td><td>7</td></tr><tr><td>186</td><td>4</td></tr><tr><td>77</td><td>6</td></tr><tr><td>17</td><td>6</td></tr><tr><td>31</td><td>3</td></tr><tr><td>123</td><td>5</td></tr><tr><td>60</td><td>1</td></tr><tr><td>83</td><td>8</td></tr><tr><td>177</td><td>4</td></tr><tr><td>154</td><td>5</td></tr><tr><td>134</td><td>6</td></tr><tr><td>34</td><td>4</td></tr><tr><td>40</td><td>4</td></tr><tr><td>11</td><td>4</td></tr><tr><td>183</td><td>4</td></tr><tr><td>111</td><td>5</td></tr><tr><td>160</td><td>5</td></tr><tr><td>54</td><td>6</td></tr><tr><td>91</td><td>4</td></tr><tr><td>103</td><td>4</td></tr><tr><td>97</td><td>7</td></tr><tr><td>197</td><td>6</td></tr><tr><td>143</td><td>7</td></tr><tr><td>120</td><td>6</td></tr><tr><td>166</td><td>3</td></tr><tr><td>114</td><td>4</td></tr><tr><td>20</td><td>5</td></tr><tr><td>68</td><td>3</td></tr><tr><td>80</td><td>7</td></tr><tr><td>28</td><td>6</td></tr><tr><td>174</td><td>4</td></tr><tr><td>74</td><td>9</td></tr><tr><td>131</td><td>5</td></tr><tr><td>180</td><td>3</td></tr><tr><td>57</td><td>4</td></tr><tr><td>157</td><td>5</td></tr><tr><td>14</td><td>3</td></tr><tr><td>37</td><td>3</td></tr><tr><td>137</td><td>6</td></tr><tr><td>8</td><td>5</td></tr><tr><td>51</td><td>5</td></tr><tr><td>151</td><td>3</td></tr><tr><td>194</td><td>1</td></tr><tr><td>100</td><td>4</td></tr></table>"
                    },
                    "metadata": {}
                }
            ],
            "execution_count": 6
        },
        {
            "cell_type": "markdown",
            "source": [
                "2\\. Azon vendégek adatai, akik a legtöbb férőhelyesz szobákat foglalták\n",
                "\n",
                "- Csak klímás szoba jöhet számításba"
            ],
            "metadata": {
                "azdata_cell_guid": "50fa2042-b010-4ce6-88e3-fe45387ced03"
            },
            "attachments": {}
        },
        {
            "cell_type": "code",
            "source": [
                "SELECT v.*\r\n",
                "FROM Vendeg v JOIN Foglalas f ON v.USERNEV = f.UGYFEL_FK\r\n",
                "                JOIN Szoba sz ON sz.SZOBA_ID = f.SZOBA_FK\r\n",
                "WHERE sz.SZOBA_ID IN (\r\n",
                "    SELECT TOP 1 SZOBA_ID\r\n",
                "    FROM Szoba\r\n",
                "    WHERE KLIMAS = 'i'\r\n",
                "    ORDER BY FEROHELY DESC\r\n",
                ")"
            ],
            "metadata": {
                "azdata_cell_guid": "705be7a1-8aa2-496a-b0ed-05b8fa97281a",
                "language": "sql"
            },
            "outputs": [
                {
                    "output_type": "display_data",
                    "data": {
                        "text/html": "(3 rows affected)"
                    },
                    "metadata": {}
                },
                {
                    "output_type": "display_data",
                    "data": {
                        "text/html": "Total execution time: 00:00:00.288"
                    },
                    "metadata": {}
                },
                {
                    "output_type": "execute_result",
                    "execution_count": 16,
                    "data": {
                        "application/vnd.dataresource+json": {
                            "schema": {
                                "fields": [
                                    {
                                        "name": "USERNEV"
                                    },
                                    {
                                        "name": "NEV"
                                    },
                                    {
                                        "name": "EMAIL"
                                    },
                                    {
                                        "name": "SZAML_CIM"
                                    },
                                    {
                                        "name": "SZUL_DAT"
                                    }
                                ]
                            },
                            "data": [
                                {
                                    "USERNEV": "JOZSEFG",
                                    "NEV": "Gyuris József",
                                    "EMAIL": "józsef.gyuris@mail.hu",
                                    "SZAML_CIM": "2660 Balassagyarmat Petőfi utca 1/2.",
                                    "SZUL_DAT": "1975-05-26"
                                },
                                {
                                    "USERNEV": "PETERB",
                                    "NEV": "Berendi Péter",
                                    "EMAIL": "péter.berendi@mail.hu",
                                    "SZAML_CIM": "3980 Sátoraljaújhely Vasút utca 4/10.",
                                    "SZUL_DAT": "1969-01-01"
                                },
                                {
                                    "USERNEV": "tunde",
                                    "NEV": "Turcsik Tünde",
                                    "EMAIL": "tunde@gmail.com",
                                    "SZAML_CIM": "7130 Tolna Fő út 122.",
                                    "SZUL_DAT": "1974-02-12"
                                }
                            ]
                        },
                        "text/html": "<table><tr><th>USERNEV</th><th>NEV</th><th>EMAIL</th><th>SZAML_CIM</th><th>SZUL_DAT</th></tr><tr><td>JOZSEFG</td><td>Gyuris József</td><td>józsef.gyuris@mail.hu</td><td>2660 Balassagyarmat Petőfi utca 1/2.</td><td>1975-05-26</td></tr><tr><td>PETERB</td><td>Berendi Péter</td><td>péter.berendi@mail.hu</td><td>3980 Sátoraljaújhely Vasút utca 4/10.</td><td>1969-01-01</td></tr><tr><td>tunde</td><td>Turcsik Tünde</td><td>tunde@gmail.com</td><td>7130 Tolna Fő út 122.</td><td>1974-02-12</td></tr></table>"
                    },
                    "metadata": {}
                }
            ],
            "execution_count": 16
        },
        {
            "cell_type": "markdown",
            "source": [
                "Sorszámozza a vendégeket a foglalások száma alapján\n",
                "\n",
                "    A sorszám mellett jelenjen meg a vendég azonosítója, neve és a foglalások száma <span style=\"color: #0000ff;\">is</span>\n",
                "\n",
                "    A legtöbbet foglaló vendég kapja az egyes sorszámot\n",
                "\n",
                "    Holtverseny esetén a számozás annyit ugorjon, ahány egyforma érték van"
            ],
            "metadata": {
                "azdata_cell_guid": "c712642a-3e4e-4d24-833f-1be792b0c666"
            },
            "attachments": {}
        },
        {
            "cell_type": "code",
            "source": [
                "SELECT v.USERNEV, NEV, RANK() OVER (PARTITION BY v.NEV ORDER BY COUNT(*)), COUNT(*)\r\n",
                "FROM Vendeg v JOIN Foglalas f on v.USERNEV= f.UGYFEL_FK"
            ],
            "metadata": {
                "azdata_cell_guid": "8c2e2115-2d6c-4011-811b-135d1ad952e4",
                "language": "sql"
            },
            "outputs": [
                {
                    "output_type": "error",
                    "evalue": "Msg 8120, Level 16, State 1, Line 1\r\nColumn 'Vendeg.USERNEV' is invalid in the select list because it is not contained in either an aggregate function or the GROUP BY clause.",
                    "ename": "",
                    "traceback": []
                },
                {
                    "output_type": "display_data",
                    "data": {
                        "text/html": "Total execution time: 00:00:00.005"
                    },
                    "metadata": {}
                }
            ],
            "execution_count": 7
        },
        {
            "cell_type": "markdown",
            "source": [
                "Készítsen lekérdezést, amely megjeleníti, hogy szálláshelyenként, azon belül a pótágyak száma szerint hány főre foglaltak összesen (felnőtt + gyermek)!\n",
                "\n",
                "- Jelenjenek meg a részösszegek és a végösszeg is!"
            ],
            "metadata": {
                "azdata_cell_guid": "3cf3d2de-90a9-4f2e-8c09-e9aa0d1fa8f6"
            },
            "attachments": {}
        },
        {
            "cell_type": "code",
            "source": [
                "SELECT IIF(GROUPING(SZALLAS_NEV)= 1, 'Végösszeg', SZALLAS_NEV), IIF(GROUPING(sz.POTAGY)= 3, 'Részösszeg', POTAGY), SUM(FELNOTT_SZAM)+ SUM(GYERMEK_SZAM) AS 'Db'\r\n",
                "FROM Szallashely szh JOIN Szoba sz ON szh.SZALLAS_ID = sz.SZALLAS_FK\r\n",
                "                        JOIN Foglalas f ON f.SZOBA_FK = sz.SZOBA_ID\r\n",
                "GROUP BY ROLLUP(SZALLAS_NEV, sz.POTAGY)"
            ],
            "metadata": {
                "azdata_cell_guid": "c7c96371-20d5-42a1-8029-f5f401221e2a",
                "language": "sql"
            },
            "outputs": [
                {
                    "output_type": "display_data",
                    "data": {
                        "text/html": "(41 rows affected)"
                    },
                    "metadata": {}
                },
                {
                    "output_type": "display_data",
                    "data": {
                        "text/html": "Total execution time: 00:00:00.232"
                    },
                    "metadata": {}
                },
                {
                    "output_type": "execute_result",
                    "metadata": {},
                    "execution_count": 5,
                    "data": {
                        "application/vnd.dataresource+json": {
                            "schema": {
                                "fields": [
                                    {
                                        "name": "(No column name)"
                                    },
                                    {
                                        "name": "(No column name)"
                                    },
                                    {
                                        "name": "Db"
                                    }
                                ]
                            },
                            "data": [
                                {
                                    "(No column name)": "0",
                                    "Db": "10"
                                },
                                {
                                    "(No column name)": "1",
                                    "Db": "31"
                                },
                                {
                                    "(No column name)": "2",
                                    "Db": "11"
                                },
                                {
                                    "(No column name)": "NULL",
                                    "Db": "52"
                                },
                                {
                                    "(No column name)": "0",
                                    "Db": "18"
                                },
                                {
                                    "(No column name)": "1",
                                    "Db": "52"
                                },
                                {
                                    "(No column name)": "2",
                                    "Db": "36"
                                },
                                {
                                    "(No column name)": "NULL",
                                    "Db": "106"
                                },
                                {
                                    "(No column name)": "0",
                                    "Db": "158"
                                },
                                {
                                    "(No column name)": "1",
                                    "Db": "113"
                                },
                                {
                                    "(No column name)": "2",
                                    "Db": "40"
                                },
                                {
                                    "(No column name)": "NULL",
                                    "Db": "311"
                                },
                                {
                                    "(No column name)": "0",
                                    "Db": "216"
                                },
                                {
                                    "(No column name)": "1",
                                    "Db": "93"
                                },
                                {
                                    "(No column name)": "2",
                                    "Db": "119"
                                },
                                {
                                    "(No column name)": "NULL",
                                    "Db": "428"
                                },
                                {
                                    "(No column name)": "0",
                                    "Db": "183"
                                },
                                {
                                    "(No column name)": "1",
                                    "Db": "258"
                                },
                                {
                                    "(No column name)": "2",
                                    "Db": "63"
                                },
                                {
                                    "(No column name)": "NULL",
                                    "Db": "504"
                                },
                                {
                                    "(No column name)": "0",
                                    "Db": "66"
                                },
                                {
                                    "(No column name)": "NULL",
                                    "Db": "66"
                                },
                                {
                                    "(No column name)": "0",
                                    "Db": "168"
                                },
                                {
                                    "(No column name)": "1",
                                    "Db": "224"
                                },
                                {
                                    "(No column name)": "2",
                                    "Db": "28"
                                },
                                {
                                    "(No column name)": "NULL",
                                    "Db": "420"
                                },
                                {
                                    "(No column name)": "0",
                                    "Db": "105"
                                },
                                {
                                    "(No column name)": "1",
                                    "Db": "150"
                                },
                                {
                                    "(No column name)": "2",
                                    "Db": "36"
                                },
                                {
                                    "(No column name)": "NULL",
                                    "Db": "291"
                                },
                                {
                                    "(No column name)": "0",
                                    "Db": "31"
                                },
                                {
                                    "(No column name)": "1",
                                    "Db": "17"
                                },
                                {
                                    "(No column name)": "2",
                                    "Db": "15"
                                },
                                {
                                    "(No column name)": "NULL",
                                    "Db": "63"
                                },
                                {
                                    "(No column name)": "0",
                                    "Db": "67"
                                },
                                {
                                    "(No column name)": "1",
                                    "Db": "99"
                                },
                                {
                                    "(No column name)": "NULL",
                                    "Db": "166"
                                },
                                {
                                    "(No column name)": "0",
                                    "Db": "64"
                                },
                                {
                                    "(No column name)": "1",
                                    "Db": "19"
                                },
                                {
                                    "(No column name)": "NULL",
                                    "Db": "83"
                                },
                                {
                                    "(No column name)": "NULL",
                                    "Db": "2490"
                                }
                            ]
                        },
                        "text/html": [
                            "<table>",
                            "<tr><th>(No column name)</th><th>(No column name)</th><th>Db</th></tr>",
                            "<tr><td>Családi Ház</td><td>0</td><td>10</td></tr>",
                            "<tr><td>Családi Ház</td><td>1</td><td>31</td></tr>",
                            "<tr><td>Családi Ház</td><td>2</td><td>11</td></tr>",
                            "<tr><td>Családi Ház</td><td>NULL</td><td>52</td></tr>",
                            "<tr><td>Fortuna Apartman</td><td>0</td><td>18</td></tr>",
                            "<tr><td>Fortuna Apartman</td><td>1</td><td>52</td></tr>",
                            "<tr><td>Fortuna Apartman</td><td>2</td><td>36</td></tr>",
                            "<tr><td>Fortuna Apartman</td><td>NULL</td><td>106</td></tr>",
                            "<tr><td>Fortuna Panzió</td><td>0</td><td>158</td></tr>",
                            "<tr><td>Fortuna panzió</td><td>1</td><td>113</td></tr>",
                            "<tr><td>Fortuna panzió</td><td>2</td><td>40</td></tr>",
                            "<tr><td>Fortuna Panzió</td><td>NULL</td><td>311</td></tr>",
                            "<tr><td>Gold Hotel</td><td>0</td><td>216</td></tr>",
                            "<tr><td>Gold Hotel</td><td>1</td><td>93</td></tr>",
                            "<tr><td>Gold Hotel</td><td>2</td><td>119</td></tr>",
                            "<tr><td>Gold Hotel</td><td>NULL</td><td>428</td></tr>",
                            "<tr><td>Hotel Három Hattyú</td><td>0</td><td>183</td></tr>",
                            "<tr><td>Hotel Három Hattyú</td><td>1</td><td>258</td></tr>",
                            "<tr><td>Hotel Három Hattyú</td><td>2</td><td>63</td></tr>",
                            "<tr><td>Hotel Három Hattyú</td><td>NULL</td><td>504</td></tr>",
                            "<tr><td>Jáde panzió</td><td>0</td><td>66</td></tr>",
                            "<tr><td>Jáde panzió</td><td>NULL</td><td>66</td></tr>",
                            "<tr><td>Kentaur Hotel</td><td>0</td><td>168</td></tr>",
                            "<tr><td>Kentaur Hotel</td><td>1</td><td>224</td></tr>",
                            "<tr><td>Kentaur Hotel</td><td>2</td><td>28</td></tr>",
                            "<tr><td>Kentaur Hotel</td><td>NULL</td><td>420</td></tr>",
                            "<tr><td>Lagúna Hotel</td><td>0</td><td>105</td></tr>",
                            "<tr><td>Lagúna Hotel</td><td>1</td><td>150</td></tr>",
                            "<tr><td>Lagúna Hotel</td><td>2</td><td>36</td></tr>",
                            "<tr><td>Lagúna Hotel</td><td>NULL</td><td>291</td></tr>",
                            "<tr><td>Partiszél Vendégház</td><td>0</td><td>31</td></tr>",
                            "<tr><td>Partiszél Vendégház</td><td>1</td><td>17</td></tr>",
                            "<tr><td>Partiszél Vendégház</td><td>2</td><td>15</td></tr>",
                            "<tr><td>Partiszél Vendégház</td><td>NULL</td><td>63</td></tr>",
                            "<tr><td>Sába-Ház</td><td>0</td><td>67</td></tr>",
                            "<tr><td>Sába-Ház</td><td>1</td><td>99</td></tr>",
                            "<tr><td>Sába-Ház</td><td>NULL</td><td>166</td></tr>",
                            "<tr><td>Szieszta Apartmanház</td><td>0</td><td>64</td></tr>",
                            "<tr><td>Szieszta Apartmanház</td><td>1</td><td>19</td></tr>",
                            "<tr><td>Szieszta Apartmanház</td><td>NULL</td><td>83</td></tr>",
                            "<tr><td>Végösszeg</td><td>NULL</td><td>2490</td></tr>",
                            "</table>"
                        ]
                    }
                }
            ],
            "execution_count": 5
        },
        {
            "cell_type": "markdown",
            "source": [
                "A Szoba tábla Ferohely oszlopára végezzük el a következő számításokat:\n",
                "\n",
                "- Különböző értékek száma\n",
                "- Minimum, maximum, átlag\n",
                "- Null és Not null értékek százalékos aránya"
            ],
            "metadata": {
                "azdata_cell_guid": "28b8cbaf-f040-4f4e-8d9c-5b7203757587"
            },
            "attachments": {}
        },
        {
            "cell_type": "code",
            "source": [
                "SELECT COUNT(DISTINCT FEROHELY) AS 'db', MIN(FEROHELY) AS 'Min', MAX(FEROHELY) AS 'Max', COUNT(*)/COUNT(FEROHELY) AS 'Nem null', \r\n",
                "1- COUNT(*)/COUNT(FEROHELY) AS 'Null'\r\n",
                "FROM Szoba"
            ],
            "metadata": {
                "azdata_cell_guid": "c7cdd052-c3d8-432d-974e-b021d3703330",
                "language": "sql"
            },
            "outputs": [
                {
                    "output_type": "display_data",
                    "data": {
                        "text/html": "(1 row affected)"
                    },
                    "metadata": {}
                },
                {
                    "output_type": "display_data",
                    "data": {
                        "text/html": "Total execution time: 00:00:00.130"
                    },
                    "metadata": {}
                },
                {
                    "output_type": "execute_result",
                    "execution_count": 66,
                    "data": {
                        "application/vnd.dataresource+json": {
                            "schema": {
                                "fields": [
                                    {
                                        "name": "db"
                                    },
                                    {
                                        "name": "Min"
                                    },
                                    {
                                        "name": "Max"
                                    },
                                    {
                                        "name": "Nem null"
                                    },
                                    {
                                        "name": "Null"
                                    }
                                ]
                            },
                            "data": [
                                {
                                    "db": "4",
                                    "Min": "1",
                                    "Max": "4",
                                    "Nem null": "1",
                                    "Null": "0"
                                }
                            ]
                        },
                        "text/html": "<table><tr><th>db</th><th>Min</th><th>Max</th><th>Nem null</th><th>Null</th></tr><tr><td>4</td><td>1</td><td>4</td><td>1</td><td>0</td></tr></table>"
                    },
                    "metadata": {}
                }
            ],
            "execution_count": 66
        }
    ]
}